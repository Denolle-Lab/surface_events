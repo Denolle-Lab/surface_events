{
 "cells": [
  {
   "cell_type": "markdown",
   "id": "f6f87b5f",
   "metadata": {},
   "source": [
    "# Volc_DEM\n",
    "9/1/2022\n",
    "This notebook reads in DEM data for the cascade volcanoes, visualizes the data, and stores it for later use"
   ]
  },
  {
   "cell_type": "markdown",
   "id": "bb616ee1",
   "metadata": {},
   "source": [
    "Import Modules"
   ]
  },
  {
   "cell_type": "code",
   "execution_count": null,
   "id": "584ea3f6",
   "metadata": {},
   "outputs": [],
   "source": [
    "import matplotlib.pyplot as plt\n",
    "from matplotlib.pyplot import Figure\n",
    "import numpy as np\n",
    "import rasterio as rio\n",
    "from rasterio.plot import show\n",
    "from rasterio.merge import merge\n",
    "from pathlib import Path\n",
    "import richdem as rd\n",
    "from mpl_toolkits import mplot3d"
   ]
  },
  {
   "cell_type": "code",
   "execution_count": null,
   "id": "fb9f2b18",
   "metadata": {},
   "outputs": [],
   "source": [
    "pi = np.pi\n",
    "color_scheme = 'jet'\n",
    "radius = 6371e3"
   ]
  },
  {
   "cell_type": "code",
   "execution_count": null,
   "id": "10f2ee32",
   "metadata": {},
   "outputs": [],
   "source": [
    "volc_lat_lon = {}\n",
    "volc_lat_lon['Mt_Rainier'] = [46.8528857, -121.7603744, 4392.5, 46.625, -122.000,[]]\n",
    "volc_lat_lon['Mt_Adams'] = [46.202621, -121.4906384, 3743.2, 46.125, -121.625,[]]\n",
    "volc_lat_lon['Mt_Baker'] = [48.7773426,  -121.8132008, 3287.6, 48.750, -121.875,[]]\n",
    "# change the lat and lon of mt st helens to the middle of the dome instead of the highest point\n",
    "volc_lat_lon['Mt_St_Helens'] =[46.200472222222224,-122.18883611111112,2549, 46.125, -122.250,[]] #[46.1912, -122.1944, 2549]\n",
    "volc_lat_lon['Glacier_Peak'] = [48.1112273, -121.1139922, 3213, 48, -121.25,[]]\n",
    "volc_lat_lon['Crater_Lake']=[42.907745, -122.143494, 1883, 42, -123,[]]\n",
    "volc_lat_lon['Mt_Hood']=[45.373221, -121.696509, 3428.7, 45, -122,[]]\n",
    "volc_lat_lon['Newberry']=[43.7220653, -121.2344654, 2435, 43, -122,[]]"
   ]
  },
  {
   "cell_type": "code",
   "execution_count": null,
   "id": "e4202c1f",
   "metadata": {},
   "outputs": [],
   "source": [
    "# define function to get the distance of the lower-left corner to the center of the volcano\n",
    "def distance(slat, slon, elat, elon, radius):\n",
    "    lam = slon-elon\n",
    "    g = (np.sin(slat)*np.sin(elat))+(np.cos(slat)*np.cos(elat)*np.cos(lam))\n",
    "    d = radius*np.arccos(g)\n",
    "    dist = d/10\n",
    "    return dist"
   ]
  },
  {
   "cell_type": "code",
   "execution_count": null,
   "id": "9008b622",
   "metadata": {},
   "outputs": [],
   "source": [
    "# vertical distance\n",
    "for name in volc_lat_lon:\n",
    "    slat = np.deg2rad(volc_lat_lon[name][0])\n",
    "    elat = np.deg2rad(volc_lat_lon[name][3])\n",
    "    slon = np.deg2rad(volc_lat_lon[name][4])\n",
    "    elon = np.deg2rad(volc_lat_lon[name][4])\n",
    "    v_index = distance(slat, slon, elat, elon, radius)\n",
    "    volc_lat_lon[name][5].append(v_index)\n",
    "\n",
    "# horizontal distances\n",
    "for name in volc_lat_lon:\n",
    "    slat = np.deg2rad(volc_lat_lon[name][3])\n",
    "    elat = np.deg2rad(volc_lat_lon[name][3])\n",
    "    slon = np.deg2rad(volc_lat_lon[name][1])\n",
    "    elon = np.deg2rad(volc_lat_lon[name][4])\n",
    "    h_index = distance(slat, slon, elat, elon, radius)\n",
    "    volc_lat_lon[name][5].append(h_index)"
   ]
  },
  {
   "cell_type": "markdown",
   "id": "6a6c8b7e",
   "metadata": {},
   "source": [
    "Merging together washington Data"
   ]
  },
  {
   "cell_type": "code",
   "execution_count": null,
   "id": "6072b90e",
   "metadata": {},
   "outputs": [],
   "source": [
    "volc_names = ['Mt_Rainier','Mt_St_Helens','Mt_Adams','Mt_Baker','Glacier_Peak']"
   ]
  },
  {
   "cell_type": "code",
   "execution_count": null,
   "id": "e528f8e5",
   "metadata": {},
   "outputs": [],
   "source": [
    "for name in volc_names:\n",
    "    path = Path('DEM_data/'+name)\n",
    "    path1 = Path('DEM_data/'+name+'/.ipynb_checkpoints')\n",
    "    #path.mkdir(parents=True, exist_ok=True)\n",
    "    out_path = 'DEM_data/'+str(name)+'/mosaic_'+str(name)+'.tif'\n",
    "    volc_files = list(path.iterdir())\n",
    "    to_mosiac = []\n",
    "    for d in volc_files:\n",
    "        if d != path1:\n",
    "            raster = rio.open(d)\n",
    "            to_mosiac.append(raster)\n",
    "    mosaic, output = merge(to_mosiac)\n",
    "    output_meta = raster.meta.copy()\n",
    "    output_meta.update(\n",
    "        {'driver': 'GTiff',\n",
    "            'height': mosaic.shape[1],\n",
    "            'width': mosaic.shape[2],\n",
    "            'transform': output,})\n",
    "    with rio.open(out_path, 'w', **output_meta) as m:\n",
    "        m.write(mosaic)\n",
    "    break"
   ]
  },
  {
   "cell_type": "code",
   "execution_count": null,
   "id": "435a0ed0",
   "metadata": {},
   "outputs": [],
   "source": [
    "dem = rio.open('DEM_data/Mt_Rainier/mosaic_Mt_Rainier.tif')\n",
    "dem_array = dem.read(1).astype('float64')"
   ]
  },
  {
   "cell_type": "code",
   "execution_count": null,
   "id": "9c5a7cbe",
   "metadata": {
    "scrolled": true
   },
   "outputs": [],
   "source": [
    "volc = rd.rdarray(dem_array[100:4101,100:2820], no_data=-9999)\n",
    "#slope = rd.TerrainAttribute(volc,attrib = 'slope_riserun')\n",
    "#aspect = rd.TerrainAttribute(volc, attrib = 'aspect')\n",
    "fig1  = rd.rdShow(volc, axes=True, cmap=color_scheme, figsize=(15,8))\n",
    "# slope = rd.TerrainAttribute(volc,attrib = 'slope_riserun')\n",
    "# aspect = rd.TerrainAttribute(volc, attrib = 'aspect')\n",
    "# fig2 = rd.rdShow(slope, axes=False, cmap=color_scheme, figsize=(15,8))\n",
    "# fig3 = rd.rdShow(aspect, axes=False, cmap=color_scheme, figsize=(15,8))\n"
   ]
  },
  {
   "cell_type": "markdown",
   "id": "efd17966",
   "metadata": {},
   "source": [
    "Plot the data using matplotlib"
   ]
  },
  {
   "cell_type": "code",
   "execution_count": null,
   "id": "82888e00",
   "metadata": {},
   "outputs": [],
   "source": [
    "y_index = dem_array.shape[0]-volc_lat_lon['Mt_Rainier'][5][0]\n",
    "x_index = volc_lat_lon['Mt_Rainier'][5][1]\n",
    "\n",
    "fig, ax = plt.subplots(1,2, figsize=(20,10))\n",
    "b = ax[0].contourf(volc,200,cmap = 'bone_r')\n",
    "ax[0].scatter(x_index, y_index,s=200,marker='*',c='r')\n",
    "ax[0].invert_yaxis()\n",
    "fig.colorbar(b)\n",
    "\n",
    "# fig, ax = plt.subplots(1,1, figsize=(10,15))\n",
    "# a = ax.contourf(aspect, 200, cmap = 'jet')\n",
    "# #ax.scatter(1666,873,s=100,marker='*',c='r')\n",
    "# ax.invert_yaxis()\n",
    "# fig.colorbar(a)\n",
    "\n",
    "\n",
    "lats = [46.98832, 46.988131,46.899719,46.731319,46.859032,46.786442,46.929694,46.841649,46.90306,46.867092,\n",
    "46.96633,46.941399,46.750599,46.750599,46.83564,46.81905,46.850849,46.613279]\n",
    "lons = [-122.00541,-121.961063,-121.815331,-121.571171,-121.642592,-121.742149,-121.988976,-121.948912,-121.94439,\n",
    "-121.953246,-121.9834,-121.670998,-121.809601,-121.809601,-121.732979,-121.842133,-121.792953,-121.404485]\n",
    "stas = ['CARB','CRBN','OBSR','OPCH','PANH','PARA','PR04','PR05','RUSH','SIFT','VOIT','FMW','LO2','LON','RCM','RER',\n",
    "'STAR','WPEQ']\n",
    "\n",
    "for i in range(0,len(lats)):\n",
    "    v = distance(np.deg2rad(46.625), np.deg2rad(lons[i]), np.deg2rad(lats[i]), np.deg2rad(lons[i]), radius)\n",
    "    h_dist = distance(np.deg2rad(lats[i]),np.deg2rad(-122.000),np.deg2rad(lats[i]), np.deg2rad(lons[i]), radius)\n",
    "    v_dist = dem_array.shape[0]-v\n",
    "    if lats[i] < 46.625:\n",
    "        v_dist = dem_array.shape[0] + v\n",
    "    if lons[i] < -122.000:\n",
    "        h_dist = -1*h_dist\n",
    "    ax[0].scatter(h_dist,v_dist,s=100)\n",
    "    ax[0].text(h_dist,v_dist,stas[i])\n",
    "    ax[1].scatter(lons[i],lats[i],s = 100, c = 'k')\n",
    "    ax[1].text(lons[i],lats[i],stas[i])\n",
    "# ax = plt.subplot(1,2,1, polar=True)\n",
    "# a = ax.contourf(aspect, 10, cmap = 'jet')\n",
    "# #ax[0].invert_yaxis()\n",
    "# fig.colorbar(a)\n",
    "\n",
    "# ax.set_theta_offset(pi/2)\n",
    "# ax.set_theta_direction(-1)\n",
    "# for i in range(0,len(r)):\n",
    "#     ax.plot(np.deg2rad(theta[i]),r[i], 'g.')\n",
    "#  #plot the estimated direction of the event\n",
    "# # for rad in rads:\n",
    "# #     ax.plot(rad, az_thr, 'b.', markersize = 2)\n",
    "# plt.show()\n",
    "# x = np.array(range(300))\n",
    "# ax.plot(x, x, ls='-', linewidth=2, color='k')\n",
    "\n",
    "# fig.colorbar(a)"
   ]
  }
 ],
 "metadata": {
  "kernelspec": {
   "display_name": "Python 3 (ipykernel)",
   "language": "python",
   "name": "python3"
  },
  "language_info": {
   "codemirror_mode": {
    "name": "ipython",
    "version": 3
   },
   "file_extension": ".py",
   "mimetype": "text/x-python",
   "name": "python",
   "nbconvert_exporter": "python",
   "pygments_lexer": "ipython3",
   "version": "3.8.12"
  }
 },
 "nbformat": 4,
 "nbformat_minor": 5
}
