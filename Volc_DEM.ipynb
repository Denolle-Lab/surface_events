{
 "cells": [
  {
   "cell_type": "markdown",
   "id": "f6f87b5f",
   "metadata": {},
   "source": [
    "# Volc_DEM\n",
    "9/1/2022\n",
    "This notebook reads in DEM data for the cascade volcanoes, visualizes the data, and stores it for later use"
   ]
  },
  {
   "cell_type": "markdown",
   "id": "bb616ee1",
   "metadata": {},
   "source": [
    "Import Modules"
   ]
  },
  {
   "cell_type": "code",
   "execution_count": null,
   "id": "584ea3f6",
   "metadata": {},
   "outputs": [],
   "source": [
    "import matplotlib.pyplot as plt\n",
    "from matplotlib.pyplot import Figure\n",
    "import numpy as np\n",
    "import rasterio as rio\n",
    "from rasterio.plot import show\n",
    "from rasterio.merge import merge\n",
    "from pathlib import Path\n",
    "import richdem as rd\n",
    "from mpl_toolkits import mplot3d"
   ]
  },
  {
   "cell_type": "code",
   "execution_count": null,
   "id": "fb9f2b18",
   "metadata": {},
   "outputs": [],
   "source": [
    "pi = np.pi\n",
    "color_scheme = 'jet'"
   ]
  },
  {
   "cell_type": "markdown",
   "id": "6a6c8b7e",
   "metadata": {},
   "source": [
    "Merge together all data for each volcano to get entire picture"
   ]
  },
  {
   "cell_type": "code",
   "execution_count": null,
   "id": "6072b90e",
   "metadata": {},
   "outputs": [],
   "source": [
    "volc_names = ['Mt_Rainier','Mt_St_Helens','Mt_Adams','Mt_Baker','Glacier_Peak']"
   ]
  },
  {
   "cell_type": "code",
   "execution_count": null,
   "id": "e528f8e5",
   "metadata": {},
   "outputs": [],
   "source": [
    "for name in volc_names:\n",
    "    path = Path('DEM_data/'+name)\n",
    "    path1 = Path('DEM_data/'+name+'/.ipynb_checkpoints')\n",
    "    #path.mkdir(parents=True, exist_ok=True)\n",
    "    out_path = 'DEM_data/'+str(name)+'/mosaic_'+str(name)+'.tif'\n",
    "    volc_files = list(path.iterdir())\n",
    "    to_mosiac = []\n",
    "    for d in volc_files:\n",
    "        if d != path1:\n",
    "            raster = rio.open(d)\n",
    "            to_mosiac.append(raster)\n",
    "    mosaic, output = merge(to_mosiac)\n",
    "    output_meta = raster.meta.copy()\n",
    "    output_meta.update(\n",
    "        {'driver': 'GTiff',\n",
    "            'height': mosaic.shape[1],\n",
    "            'width': mosaic.shape[2],\n",
    "            'transform': output,})\n",
    "    with rio.open(out_path, 'w', **output_meta) as m:\n",
    "        m.write(mosaic)"
   ]
  },
  {
   "cell_type": "markdown",
   "id": "9ec2c146",
   "metadata": {},
   "source": [
    "## Getting the oregon Data\n",
    "3 volcanos, hood, newberry, crater lake\n",
    "deg of hood: 45121\n",
    "deg of newberry: 43121\n",
    "deg of crater_lake: 42122"
   ]
  },
  {
   "cell_type": "code",
   "execution_count": null,
   "id": "435a0ed0",
   "metadata": {},
   "outputs": [],
   "source": [
    "#trying to open an adf file\n",
    "dem = rio.open('DEM_data/Mt_Hood/Mt_Hood_w001001.adf')\n",
    "dem_array = dem.read(1).astype('float64')\n",
    "\n",
    "# volc = rd.rdarray(dem_array, no_data=-9999)\n",
    "# fig1  = rd.rdShow(volc, axes=True, cmap=color_scheme, figsize=(15,8))\n",
    "# slope = rd.TerrainAttribute(volc,attrib = 'slope_riserun')\n",
    "# aspect = rd.TerrainAttribute(volc, attrib = 'aspect')"
   ]
  },
  {
   "cell_type": "code",
   "execution_count": null,
   "id": "9c5a7cbe",
   "metadata": {},
   "outputs": [],
   "source": [
    "volc = rd.rdarray(dem_array, no_data=-9999)\n",
    "fig1  = rd.rdShow(volc, axes=True, cmap=color_scheme, figsize=(15,8))\n",
    "# slope = rd.TerrainAttribute(volc,attrib = 'slope_riserun')\n",
    "# aspect = rd.TerrainAttribute(volc, attrib = 'aspect')\n",
    "# fig2 = rd.rdShow(slope, axes=False, cmap=color_scheme, figsize=(15,8))\n",
    "# fig3 = rd.rdShow(aspect, axes=False, cmap=color_scheme, figsize=(15,8))\n"
   ]
  },
  {
   "cell_type": "markdown",
   "id": "4af315ee",
   "metadata": {},
   "source": [
    "Read the data"
   ]
  },
  {
   "cell_type": "code",
   "execution_count": null,
   "id": "b215f897",
   "metadata": {},
   "outputs": [],
   "source": [
    "dem = rio.open('DEM_data/'+str(name)+'/mosaic_'+str(name)+'.tif')\n",
    "dem_array = dem.read(1).astype('float64')\n",
    "\n",
    "volc = rd.rdarray(dem_array[100:1300, 100:900], no_data=-9999)\n",
    "slope = rd.TerrainAttribute(volc,attrib = 'slope_riserun')\n",
    "aspect = rd.TerrainAttribute(volc, attrib = 'aspect')\n",
    "\n",
    "# color_scheme = 'jet'\n",
    "# fig1  = rd.rdShow(volc, axes=True, cmap=color_scheme, figsize=(15,8))\n",
    "# fig2 = rd.rdShow(slope, axes=False, cmap=color_scheme, figsize=(15,8))\n",
    "# fig3 = rd.rdShow(aspect, axes=False, cmap=color_scheme, figsize=(15,8))\n",
    "\n",
    "\n",
    "\n",
    "# plt.show()\n",
    "# plt.savefig('Mt_St_Helens_aspect.png')\n"
   ]
  },
  {
   "cell_type": "code",
   "execution_count": null,
   "id": "f3a10beb",
   "metadata": {},
   "outputs": [],
   "source": [
    "dem.crs\n",
    "dem.count\n",
    "dem.bounds"
   ]
  },
  {
   "cell_type": "code",
   "execution_count": null,
   "id": "52604037",
   "metadata": {},
   "outputs": [],
   "source": [
    "#This should give lat and lon?\n",
    "dem.xy(1,5)"
   ]
  },
  {
   "cell_type": "markdown",
   "id": "efd17966",
   "metadata": {},
   "source": [
    "Plot the data using matplotlib"
   ]
  },
  {
   "cell_type": "code",
   "execution_count": null,
   "id": "82888e00",
   "metadata": {},
   "outputs": [],
   "source": [
    "fig, ax = plt.subplots(1,1, figsize=(10,10))\n",
    "b = ax.contourf(volc,100,cmap = 'bone_r')\n",
    "ax.invert_yaxis()\n",
    "fig.colorbar(b)\n",
    "\n",
    "fig, ax = plt.subplots(1,1, figsize=(10,15))\n",
    "a = ax.contourf(aspect, 10, cmap = 'jet')\n",
    "ax.invert_yaxis()\n",
    "fig.colorbar(a)\n",
    "\n",
    "# fig = plt.figure(figsize = (20,7), dpi=80)\n",
    "# theta = [343.4881907196189, 111.37761281785424, 203.48531888632706, 194.5992895110659, 280.2051627795357]\n",
    "# r = [3283.962453269651, 4149.756158554339, 1774.835680808123, 4306.775093658063, 3742.840055065732]\n",
    "\n",
    "# lats = \n",
    "# lons = \n",
    "\n",
    "# ax = plt.subplot(1,2,1, polar=True)\n",
    "# a = ax.contourf(aspect, 10, cmap = 'jet')\n",
    "# #ax[0].invert_yaxis()\n",
    "# fig.colorbar(a)\n",
    "\n",
    "# ax.set_theta_offset(pi/2)\n",
    "# ax.set_theta_direction(-1)\n",
    "# for i in range(0,len(r)):\n",
    "#     ax.plot(np.deg2rad(theta[i]),r[i], 'g.')\n",
    "#  #plot the estimated direction of the event\n",
    "# # for rad in rads:\n",
    "# #     ax.plot(rad, az_thr, 'b.', markersize = 2)\n",
    "# plt.show()\n",
    "# x = np.array(range(300))\n",
    "# ax.plot(x, x, ls='-', linewidth=2, color='k')\n",
    "\n",
    "# fig.colorbar(a)"
   ]
  },
  {
   "cell_type": "code",
   "execution_count": null,
   "id": "7f084542",
   "metadata": {},
   "outputs": [],
   "source": [
    "# units of the elevation are in feet\n",
    "# units of aspect are in degrees\n",
    "# units of the x and y are both 1 tick = 10 meters\n",
    "# find the lat and lon of the DEM plot, then plot the loc_lat and loc_lon at the center of the aximuth plot\n",
    "# make the DEM the same size as the grid for grid search so that it is the same loc_idx?"
   ]
  }
 ],
 "metadata": {
  "kernelspec": {
   "display_name": "Python 3 (ipykernel)",
   "language": "python",
   "name": "python3"
  },
  "language_info": {
   "codemirror_mode": {
    "name": "ipython",
    "version": 3
   },
   "file_extension": ".py",
   "mimetype": "text/x-python",
   "name": "python",
   "nbconvert_exporter": "python",
   "pygments_lexer": "ipython3",
   "version": "3.8.12"
  }
 },
 "nbformat": 4,
 "nbformat_minor": 5
}
