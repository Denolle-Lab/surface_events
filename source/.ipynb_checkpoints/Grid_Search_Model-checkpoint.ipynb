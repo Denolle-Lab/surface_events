{
 "cells": [
  {
   "cell_type": "markdown",
   "id": "d8fa2408",
   "metadata": {},
   "source": [
    "## Simple grid search model for seismic surface event location"
   ]
  },
  {
   "cell_type": "code",
   "execution_count": 1,
   "id": "e77354ec",
   "metadata": {},
   "outputs": [],
   "source": [
    "# import modules\n",
    "from geopy import distance\n",
    "import numpy as np\n",
    "import matplotlib.pyplot as plt"
   ]
  },
  {
   "cell_type": "code",
   "execution_count": 2,
   "id": "fcc4ac1f",
   "metadata": {},
   "outputs": [],
   "source": [
    "# define function to predict synthetic arrival times\n",
    "def travel_time(t0, x, y, vs, sta_x, sta_y):\n",
    "    dist = np.sqrt((sta_x - x)**2 + (sta_y - y)**2)\n",
    "    tt = t0 + dist/vs\n",
    "    return tt\n",
    "\n",
    "# define function to compute residual sum of squares\n",
    "def error(synth_arrivals,arrivals):\n",
    "    res = arrivals - synth_arrivals   #make sure arrivals are in the right order, maybe iterate through keys\n",
    "    res_sqr = res**2\n",
    "    rss = np.sum(res_sqr)\n",
    "    return rss\n",
    "\n",
    "# define function to iterate through grid and calculate travel time residuals\n",
    "def gridsearch(t0,x_vect,y_vect,sta_x,sta_y,vs,arrivals):\n",
    "    rss_mat = np.zeros((len(t0),len(x_vect),len(y_vect)))\n",
    "    rss_mat[:,:,:] = np.nan\n",
    "    for i in range(len(t0)):\n",
    "        for j in range(len(x_vect)):\n",
    "            for k in range(len(y_vect)):\n",
    "                synth_arrivals = []\n",
    "                for h in range(len(sta_x)):\n",
    "                    tt = travel_time(t0[i],x_vect[j],y_vect[k],vs,sta_x[h],sta_y[h])\n",
    "                    synth_arrivals.append(tt)\n",
    "                rss = error(np.array(synth_arrivals),np.array(arrivals))\n",
    "                rss_mat[i,j,k] = rss\n",
    "    return rss_mat"
   ]
  },
  {
   "cell_type": "code",
   "execution_count": 3,
   "id": "a27b9415",
   "metadata": {},
   "outputs": [
    {
     "data": {
      "image/png": "[encoded data removed]",
      "text/plain": [
       "<Figure size 432x288 with 2 Axes>"
      ]
     },
     "metadata": {
      "needs_background": "light"
     },
     "output_type": "display_data"
    }
   ],
   "source": [
    "# define input parameters\n",
    "arrivals = [30, 35, 5, 4]\n",
    "sta_lats = [60,60.25,60.25,60] \n",
    "sta_lons = [80,80,80.5,80.5]\n",
    "vs = 1000\n",
    "\n",
    "# define grid origin in lat,lon and grid dimensions in m\n",
    "lat_start = 60\n",
    "lon_start = 80\n",
    "grid_length = 2.8e4\n",
    "grid_height = 2.8e4\n",
    "step = 1000\n",
    "t_step = 1\n",
    "\n",
    "sta_x = []\n",
    "sta_y = []\n",
    "for i in range(len(sta_lats)):\n",
    "    x_dist = distance.distance([lat_start,lon_start],[lat_start,sta_lons[i]]).m\n",
    "    y_dist = distance.distance([lat_start,lon_start],[sta_lats[i],lon_start]).m\n",
    "    sta_x.append(x_dist)\n",
    "    sta_y.append(y_dist)\n",
    "\n",
    "# set grid points\n",
    "x_vect = np.arange(0, grid_length, step)\n",
    "y_vect = np.arange(0, grid_height, step)\n",
    "t0 = np.arange(0,np.max(arrivals),t_step)\n",
    "\n",
    "# carry out the gridsearch\n",
    "rss_mat = gridsearch(t0,x_vect,y_vect,sta_x,sta_y,vs,arrivals)\n",
    "\n",
    "# find lowest error lat, lon, and origin time\n",
    "loc_idx = np.unravel_index(np.argmin(rss_mat), rss_mat.shape)\n",
    "\n",
    "# plot a spatial map of error for lowest-error origin time\n",
    "fig,ax = plt.subplots()\n",
    "ax.scatter(x_vect[loc_idx[1]],y_vect[loc_idx[2]],s=100,marker='*',c='r')\n",
    "im = ax.imshow(np.log10(rss_mat[loc_idx[0],:,:].T),origin=\"lower\",extent=[0,grid_length,0,grid_height])\n",
    "fig.colorbar(im)\n",
    "plt.show()"
   ]
  },
  {
   "cell_type": "code",
   "execution_count": 4,
   "id": "1e998780",
   "metadata": {},
   "outputs": [],
   "source": [
    "# some other useful bits of code\n",
    "\n",
    "# define a general distance object\n",
    "dx = distance.geodesic(meters = grid_length)\n",
    "dy = distance.geodesic(meters = grid_height)\n",
    "\n",
    "# go dx meters east of grid origin and dy meters north of grid origin\n",
    "lon_stop = dx.destination(point=[lat_start,lon_start], bearing=90)[1]\n",
    "lat_stop = dy.destination(point=[lat_start,lon_start], bearing=0)[0]"
   ]
  }
 ],
 "metadata": {
  "kernelspec": {
   "display_name": "seismo (SHARED)",
   "language": "python",
   "name": "seismo"
  },
  "language_info": {
   "codemirror_mode": {
    "name": "ipython",
    "version": 3
   },
   "file_extension": ".py",
   "mimetype": "text/x-python",
   "name": "python",
   "nbconvert_exporter": "python",
   "pygments_lexer": "ipython3",
   "version": "3.8.12"
  }
 },
 "nbformat": 4,
 "nbformat_minor": 5
}
