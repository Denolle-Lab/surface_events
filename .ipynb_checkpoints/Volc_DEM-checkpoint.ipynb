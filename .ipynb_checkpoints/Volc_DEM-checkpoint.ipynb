{
 "cells": [
  {
   "cell_type": "code",
   "execution_count": null,
   "id": "584ea3f6",
   "metadata": {},
   "outputs": [],
   "source": [
    "import matplotlib.pyplot as plt\n",
    "from matplotlib.pyplot import Figure\n",
    "import numpy as np\n",
    "import rasterio as rio\n",
    "from rasterio.plot import show\n",
    "from rasterio.merge import merge\n",
    "from pathlib import Path\n",
    "import richdem as rd"
   ]
  },
  {
   "cell_type": "code",
   "execution_count": null,
   "id": "8acc2db0",
   "metadata": {},
   "outputs": [],
   "source": [
    "#data obtained from www.lat-long.com\n",
    "volc_lat_lon = {}\n",
    "volc_lat_lon['Mt_Rainier'] = [46.8528857, -121.7603744, 4392.5]\n",
    "volc_lat_lon['Mt_Adams'] = [46.202621, -121.4906384, 3743.2]\n",
    "volc_lat_lon['Mt_Baker'] = [48.7773426,  -121.8132008, 3287.6]\n",
    "# change the lat and lon of mt st helens to the middle of the dome instead of the highest point\n",
    "volc_lat_lon['Mt_St_Helens'] =[46.200472222222224,-122.18883611111112,2549] #[46.1912, -122.1944, 2549]\n",
    "volc_lat_lon['Glacier_Peak'] = [48.1112273, -121.1139922, 3213]\n",
    "volc_lat_lon['Crater_Lake']=[42.907745, -122.143494, 1883]\n",
    "volc_lat_lon['Mt_Hood']=[45.373221, -121.696509, 3428.7]\n",
    "volc_lat_lon['Newberry']=[43.7220653, -121.2344654, 2435]"
   ]
  },
  {
   "cell_type": "code",
   "execution_count": null,
   "id": "c615821f",
   "metadata": {},
   "outputs": [],
   "source": [
    "for name in volc_lat_lon:\n",
    "    path = Path(name)\n",
    "    path.mkdir(parents=True, exist_ok=True)\n",
    "    output_path = 'DEM_data/'+str(name)+'/mosaic_'+str(name)+'.tif'\n",
    "    volc_files = list(path.iterdir())\n",
    "    to_mosiac = []\n",
    "    for d in volc_files:\n",
    "        raster = rio.open(d)\n",
    "        to_mosiac.append(raster)\n",
    "    mosaic, output = merge(to_mosiac)\n",
    "    output_meta = raster.meta.copy()\n",
    "    output_meta.update(\n",
    "        {'driver': 'GTiff',\n",
    "            'height': mosaic.shape[1],\n",
    "            'width': mosaic.shape[2],\n",
    "            'transform': output,})\n",
    "    with rio.open(output_path, 'w', **output_meta) as m:\n",
    "        m.write(mosaic)\n",
    "    break"
   ]
  },
  {
   "cell_type": "code",
   "execution_count": null,
   "id": "e528f8e5",
   "metadata": {},
   "outputs": [],
   "source": [
    "name = 'Mt_Baker'\n",
    "path = Path('DEM_data/'+name)\n",
    "#path.mkdir(parents=True, exist_ok=True)\n",
    "output_path = 'DEM_data/'+str(name)+'/mosaic_'+str(name)+'.tif'\n",
    "volc_files = list(path.iterdir())\n",
    "to_mosiac = []\n",
    "for d in volc_files:\n",
    "    raster = rio.open(d)\n",
    "    to_mosiac.append(raster)\n",
    "mosaic, output = merge(to_mosiac)\n",
    "output_meta = raster.meta.copy()\n",
    "output_meta.update(\n",
    "    {'driver': 'GTiff',\n",
    "        'height': mosaic.shape[1],\n",
    "        'width': mosaic.shape[2],\n",
    "        'transform': output,})\n",
    "with rio.open(output_path, 'w', **output_meta) as m:\n",
    "    m.write(mosaic)"
   ]
  },
  {
   "cell_type": "code",
   "execution_count": null,
   "id": "b215f897",
   "metadata": {},
   "outputs": [],
   "source": [
    "dem = rio.open('Mt_Baker/mosaic_Mt_Baker.tif')\n",
    "dem_array = dem.read(1).astype('float64')\n",
    "\n",
    "volc = rd.rdarray(dem_array, no_data=-9999)\n",
    "slope = rd.TerrainAttribute(volc,attrib = 'slope_riserun')\n",
    "aspect = rd.TerrainAttribute(volc, attrib = 'aspect')\n",
    "\n",
    "color_scheme = 'jet'\n",
    "fig1 = rd.rdShow(volc, axes=True, cmap='jet', figsize=(15,8))\n",
    "fig2 = rd.rdShow(slope, axes=False, cmap=color_scheme, figsize=(15,8))\n",
    "fig3 = rd.rdShow(aspect, axes=False, cmap=color_scheme, figsize=(15,8))\n"
   ]
  },
  {
   "cell_type": "code",
   "execution_count": null,
   "id": "10157395",
   "metadata": {},
   "outputs": [],
   "source": [
    "#practice plotting something else over the top of this plot\n",
    "fig3 = plt.figure(figsize = (15,8), dpi=80)\n",
    "rd.rdShow(aspect, axes=False, cmap=color_scheme, figsize=(15,8))\n",
    "x = np.array(range(300))\n",
    "plt.plot(x, x, ls='dotted', linewidth=2, color='k')\n",
    "plt.show()\n"
   ]
  },
  {
   "cell_type": "code",
   "execution_count": null,
   "id": "4ffca3a2",
   "metadata": {},
   "outputs": [],
   "source": []
  }
 ],
 "metadata": {
  "kernelspec": {
   "display_name": "Python 3 (ipykernel)",
   "language": "python",
   "name": "python3"
  },
  "language_info": {
   "codemirror_mode": {
    "name": "ipython",
    "version": 3
   },
   "file_extension": ".py",
   "mimetype": "text/x-python",
   "name": "python",
   "nbconvert_exporter": "python",
   "pygments_lexer": "ipython3",
   "version": "3.8.12"
  }
 },
 "nbformat": 4,
 "nbformat_minor": 5
}
