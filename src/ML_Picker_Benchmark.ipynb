{
 "cells": [
  {
   "cell_type": "markdown",
   "metadata": {},
   "source": [
    "# Benchmark ELEP for phase picking surface events\n",
    "\n",
    "We will test the ELEP workflow to phase picks the SU events picked by the PNSN."
   ]
  },
  {
   "cell_type": "code",
   "execution_count": 1,
   "metadata": {},
   "outputs": [],
   "source": [
    "# import sys\n",
    "# sys.path.append('/data/wsd01/pnwstore/')\n",
    "import matplotlib.pyplot as plt\n",
    "\n",
    "import numpy as np\n",
    "import pandas as pd\n",
    "import obspy\n",
    "from obspy.core import UTCDateTime\n",
    "from obspy.clients.fdsn.client import Client\n",
    "\n",
    "import scipy\n",
    "from scipy import optimize\n",
    "from scipy.optimize import curve_fit\n",
    "from geopy import distance\n",
    "from datetime import datetime\n",
    "from utils import *\n",
    "import torch\n",
    "plt.rcParams.update({'font.size': 10})\n",
    "\n",
    "\n",
    "import seisbench.models as sbm\n",
    "device = torch.device(\"cpu\")\n",
    "\n",
    "from ELEP.elep.ensemble_statistics import ensemble_statistics\n",
    "from ELEP.elep.ensemble_coherence import ensemble_semblance \n",
    "from ELEP.elep.ensemble_learners import ensemble_regressor_cnn\n",
    "from ELEP.elep import mbf, mbf_utils\n",
    "from ELEP.elep import trigger_func\n",
    "\n",
    "from ELEP.elep.mbf_utils import make_LogFq, make_LinFq, rec_filter_coeff, create_obspy_trace\n",
    "from ELEP.elep.mbf import MB_filter as MBF"
   ]
  },
  {
   "cell_type": "code",
   "execution_count": 2,
   "metadata": {},
   "outputs": [],
   "source": [
    "# define clients to download the station data\n",
    "# client = WaveformClient() # we ignore PNWdatastore for now\n",
    "client2 = Client('IRIS')\n",
    "\n",
    "t_before = 15 #number of seconds before pick time\n",
    "# t_after = 15 #number of seconds after pick time\n",
    "t_before_raw = 1200 #number of seconds before pick time before removing instrumental response\n",
    "# t_after_raw = 1200 #number of seconds after pick time before removing instrumental response\n",
    "fs = 40 #sampling rate that all waveforms are resampled to\n",
    "window = 150 #window length of the signal (this will help with phase picking with EqT next). \n",
    "# Use 150 seconds @ 40 Hz gives 6001 points. \n",
    "pr = 98 #percentile\n",
    "thr = 5 #SNR threshold\n",
    "station_distance_threshold = 25\n",
    "pi = np.pi\n",
    "v_s = 1000 #shear wave velocity at the surface\n",
    "\n",
    "# range of dates that we are looking at\n",
    "t_beginning = UTCDateTime(2001,1,1,0,0,0) \n",
    "t_end = UTCDateTime(2023,8,2,23,59)\n",
    "\n",
    "smooth_length = 5 # constant for smoothing the waveform envelopes\n",
    "low_cut = 1 #low frequency threshold\n",
    "high_cut = 12 #high frequency threshold\n",
    "az_thr = 1000 #threshold of distance in meters from source location\n",
    "step = 100 #step every 100 m\n",
    "t_step = 1 #step every second\n",
    "ratio = 5.6915196 #used to define the grid \n",
    "colors = list(plt.cm.tab10(np.arange(10)))*3\n",
    "radius = 6371e3 # radius of the earth"
   ]
  },
  {
   "cell_type": "markdown",
   "metadata": {},
   "source": [
    "# Read ML models\n",
    "\n",
    "Make sure that model weights are downloaded for seisbench\n",
    "```\n",
    "import os\n",
    "os.makedirs(\"/Users/marinedenolle/.seisbench/models/v3/eqtransformer\",exist_ok=True)\n",
    "!wget https://github.com/congcy/ELEP/raw/main/docs/tutorials/data/pnw.pt.v1 -O ~/.seisbench/models/v3/eqtransformer/pnw.pt.v1\n",
    "!wget https://github.com/congcy/ELEP/raw/main/docs/tutorials/data/pnw.json.v1 -O ~/.seisbench/models/v3/eqtransformer/pnw.json.v1\n",
    "```"
   ]
  },
  {
   "cell_type": "code",
   "execution_count": 3,
   "metadata": {},
   "outputs": [],
   "source": [
    "\n",
    "# ML picker parameters\n",
    "paras_semblance = {'dt':0.025, 'semblance_order':4, 'window_flag':True, \n",
    "                   'semblance_win':0.5, 'weight_flag':'max'}\n",
    "p_thrd, s_thrd = 0.01, 0.05"
   ]
  },
  {
   "cell_type": "code",
   "execution_count": 4,
   "metadata": {},
   "outputs": [],
   "source": [
    "# download models\n",
    "pretrain_list = [\"pnw\",\"ethz\",\"instance\",\"scedc\",\"stead\",\"geofon\",\"neic\"]\n",
    "pn_pnw_model = sbm.EQTransformer.from_pretrained('pnw')\n",
    "pn_ethz_model = sbm.EQTransformer.from_pretrained(\"ethz\")\n",
    "pn_instance_model = sbm.EQTransformer.from_pretrained(\"instance\")\n",
    "pn_scedc_model = sbm.EQTransformer.from_pretrained(\"scedc\")\n",
    "pn_stead_model = sbm.EQTransformer.from_pretrained(\"stead\")\n",
    "pn_geofon_model = sbm.EQTransformer.from_pretrained(\"geofon\")\n",
    "pn_neic_model = sbm.EQTransformer.from_pretrained(\"neic\")\n",
    "\n"
   ]
  },
  {
   "cell_type": "code",
   "execution_count": 5,
   "metadata": {},
   "outputs": [],
   "source": [
    "\n",
    "pn_pnw_model.to(device);\n",
    "pn_ethz_model.to(device);\n",
    "pn_scedc_model.to(device);\n",
    "pn_neic_model.to(device);\n",
    "pn_geofon_model.to(device);\n",
    "pn_stead_model.to(device);\n",
    "pn_instance_model.to(device);"
   ]
  },
  {
   "cell_type": "markdown",
   "metadata": {},
   "source": [
    "# Volcano info"
   ]
  },
  {
   "cell_type": "code",
   "execution_count": 6,
   "metadata": {},
   "outputs": [],
   "source": [
    "#this data includes all stations within 50km of each volcano and the lat, lon, elev of each station\n",
    "df = pd.read_csv('../data/station/Volcano_Metadata_50km.csv')\n",
    "df_xd = pd.read_csv('../data/station/XD_Metadata_50km.csv')"
   ]
  },
  {
   "cell_type": "markdown",
   "metadata": {},
   "source": [
    "### 3. Surface Event Data from PNSN\n",
    "\n",
    "Read files straight from PNSN data base. Extract station and network code, phase pick time (seen as start_time). this should be converted to pick_time0."
   ]
  },
  {
   "cell_type": "code",
   "execution_count": 7,
   "metadata": {},
   "outputs": [
    {
     "name": "stdout",
     "output_type": "stream",
     "text": [
      "Index(['date', 'net', 'sta', 'location', 'seedchan', 'iphase', 'quality',\n",
      "       'orid', 'etype', 'evid'],\n",
      "      dtype='object')\n"
     ]
    }
   ],
   "source": [
    "f1 = pd.read_csv(\"../data/events/su_picks.txt\",sep=\"|\")\n",
    "f1.head()\n",
    "print(f1.keys())"
   ]
  },
  {
   "cell_type": "code",
   "execution_count": 8,
   "metadata": {},
   "outputs": [],
   "source": [
    "# clean up the spaces in the file\n",
    "format='%Y/%m/%d %H:%M:%S'\n",
    "test=f1[\"date\"].values.tolist()\n",
    "start_time_temp = [  datetime.strptime(x.strip(),'%Y/%m/%d %H:%M:%S') for x in f1[\"date\"].values.tolist()]\n",
    "# # Ignore events prior to t_beginning\n",
    "ik=np.where(np.array(start_time_temp)>datetime(2001,1,1))[0][0]\n",
    "\n",
    "# select only net, sta, evid, startime for event past the start date.\n",
    "\n",
    "start_time = start_time_temp[ik:]\n",
    "net=[ x.strip() for x in f1[\"net\"].values.tolist()][ik:]\n",
    "sta=[ x.strip() for x in f1[\"sta\"].values.tolist()][ik:]\n",
    "evt_id=[ x for x in f1[\"orid\"].values.tolist()][ik:]\n",
    "all_stas=set(sta)"
   ]
  },
  {
   "cell_type": "markdown",
   "metadata": {},
   "source": [
    "## download data and phase pick"
   ]
  },
  {
   "cell_type": "code",
   "execution_count": 24,
   "metadata": {},
   "outputs": [
    {
     "name": "stdout",
     "output_type": "stream",
     "text": [
      "3148523 2021-01-06T13:39:36.000000Z\n",
      "Mt_Rainier\n",
      "RCS 0.19999980926513672\n",
      "3148653 2021-01-07T13:38:46.000000Z\n",
      "Mt_Rainier\n",
      "RCM 0.27499961853027344\n",
      "3148658 2021-01-07T14:48:22.000000Z\n",
      "Mt_Rainier\n",
      "STAR -0.6750001907348633\n",
      "3148723 2021-01-09T10:20:52.000000Z\n",
      "Mt_Rainier\n",
      "STAR -0.14999961853027344\n",
      "3148888 2021-01-13T05:32:09.000000Z\n",
      "Mt_Rainier\n",
      "RCS 0.375\n",
      "3148893 2021-01-13T05:37:40.000000Z\n",
      "Mt_Rainier\n",
      "RCS 1.0\n",
      "3148963 2021-01-14T12:21:39.000000Z\n",
      "Mt_Rainier\n",
      "RCS -0.35000038146972656\n",
      "3149803 2021-01-15T23:31:03.000000Z\n",
      "Mt_Rainier\n",
      "RCM 1.0499992370605469\n",
      "3149813 2021-01-16T19:32:28.000000Z\n",
      "Mt_Rainier\n",
      "STAR 48.42499923706055\n",
      "3149818 2021-01-17T00:16:54.000000Z\n",
      "Mt_Rainier\n",
      "STAR 0.07499980926513672\n",
      "3149823 2021-01-17T01:33:16.000000Z\n",
      "Mt_Rainier\n",
      "STAR 1.125\n",
      "3151273 2021-01-17T12:15:55.000000Z\n",
      "Mt_Rainier\n",
      "STAR 1.0499992370605469\n",
      "3149718 2021-01-19T10:13:47.000000Z\n",
      "Mt_Rainier\n",
      "STAR 0.05000019073486328\n",
      "3149733 2021-01-19T16:04:52.000000Z\n",
      "Mt_Rainier\n",
      "RCS 0.19999980926513672\n",
      "3149773 2021-01-19T21:02:37.000000Z\n",
      "Mt_Rainier\n",
      "STAR 0.47500038146972656\n",
      "3150288 2021-01-20T22:25:03.000000Z\n",
      "Mt_Rainier\n",
      "RCM -0.17500019073486328\n",
      "3149893 2021-01-21T00:06:22.000000Z\n",
      "Mt_Rainier\n",
      "STAR 0.25\n",
      "3149933 2021-01-21T07:13:46.000000Z\n",
      "Mt_Rainier\n",
      "RCM 0.6000003814697266\n",
      "3149918 2021-01-21T15:16:40.000000Z\n",
      "Mt_Rainier\n",
      "STAR 0.4250001907348633\n",
      "3150038 2021-01-22T14:03:15.000000Z\n",
      "Mt_Rainier\n",
      "RCM 1.2000007629394531\n",
      "3150208 2021-01-24T06:04:58.000000Z\n",
      "Mt_Rainier\n"
     ]
    },
    {
     "name": "stderr",
     "output_type": "stream",
     "text": [
      "/var/folders/js/lzmy975n0l5bjbmr9db291m00000gn/T/ipykernel_20429/1253723612.py:142: RuntimeWarning: More than 20 figures have been opened. Figures created through the pyplot interface (`matplotlib.pyplot.figure`) are retained until explicitly closed and may consume too much memory. (To control this warning, see the rcParam `figure.max_open_warning`). Consider using `matplotlib.pyplot.close()`.\n",
      "  fig = plt.figure()#figsize = (11,8), dpi=200)\n"
     ]
    },
    {
     "name": "stdout",
     "output_type": "stream",
     "text": [
      "RCS 0.3249998092651367\n",
      "3150168 2021-01-24T22:42:46.000000Z\n",
      "Mt_Rainier\n",
      "RCS 0.3000001907348633\n",
      "3150128 2021-01-25T06:05:48.000000Z\n",
      "Mt_Rainier\n",
      "RCS 1.0750007629394531\n",
      "3150383 2021-01-27T01:19:23.000000Z\n",
      "Mt_Rainier\n",
      "RCS 1.0249996185302734\n",
      "3150558 2021-01-28T22:30:09.000000Z\n",
      "Mt_Rainier\n",
      "STAR -1.125\n",
      "3150538 2021-01-29T07:33:41.000000Z\n",
      "Mt_Rainier\n",
      "RCM 0.4250001907348633\n",
      "3150473 2021-01-29T13:18:25.000000Z\n",
      "Mt_Rainier\n",
      "RCM 1.2250003814697266\n",
      "3150508 2021-01-29T18:27:42.000000Z\n",
      "Mt_Rainier\n",
      "RCM 0.10000038146972656\n",
      "3150623 2021-01-30T03:16:14.000000Z\n",
      "Mt_Rainier\n",
      "RCM 0.0\n",
      "3150638 2021-01-30T04:49:13.000000Z\n",
      "Mt_Rainier\n",
      "STAR 1.8250007629394531\n",
      "3150873 2021-02-01T10:54:28.000000Z\n",
      "Mt_St_Helens\n",
      "EDM 0.05000019073486328\n",
      "3150868 2021-02-01T10:54:38.000000Z\n",
      "Mt_St_Helens\n",
      "VALT -0.6000003814697266\n",
      "3150663 2021-02-01T20:31:59.000000Z\n",
      "Mt_Rainier\n",
      "RCS -0.6999998092651367\n",
      "3150878 2021-02-03T05:42:39.000000Z\n",
      "Mt_St_Helens\n",
      "EDM 5.25\n",
      "3150878 2021-02-03T05:42:39.000000Z\n",
      "Mt_St_Helens\n",
      "HSR 4.325000762939453\n",
      "3151193 2021-02-07T17:21:44.000000Z\n",
      "Mt_Rainier\n",
      "RCS -0.3000001907348633\n",
      "3151208 2021-02-08T20:35:15.000000Z\n",
      "Mt_Rainier\n",
      "RCM 0.6999998092651367\n",
      "3151203 2021-02-09T07:53:09.000000Z\n",
      "Mt_Rainier\n",
      "STAR -0.25\n",
      "3151198 2021-02-09T13:39:41.000000Z\n",
      "Mt_Rainier\n",
      "STAR 1.2000007629394531\n",
      "3151163 2021-02-09T17:08:21.000000Z\n",
      "Mt_Rainier\n",
      "RCM 0.375\n",
      "3151133 2021-02-10T04:31:31.000000Z\n",
      "Mt_Rainier\n",
      "RCM -0.05000019073486328\n",
      "3151758 2021-02-14T06:23:15.000000Z\n",
      "Mt_Rainier\n",
      "STAR 2.0249996185302734\n",
      "3152333 2021-02-19T11:40:35.000000Z\n",
      "Mt_Rainier\n",
      "RCS 0.10000038146972656\n",
      "3152548 2021-02-23T19:00:28.000000Z\n",
      "Mt_Rainier\n",
      "RCS 0.22500038146972656\n",
      "3152608 2021-02-24T19:12:37.000000Z\n",
      "Mt_Rainier\n",
      "RCS -0.375\n",
      "3152743 2021-02-28T21:27:18.000000Z\n",
      "Mt_Rainier\n",
      "STAR 0.19999980926513672\n",
      "3152733 2021-03-01T11:56:11.000000Z\n",
      "Mt_Rainier\n",
      "RCS 0.19999980926513672\n",
      "3152763 2021-03-01T18:30:40.000000Z\n",
      "Mt_Rainier\n",
      "STAR 0.14999961853027344\n",
      "3153003 2021-03-03T02:39:24.000000Z\n",
      "Mt_Rainier\n",
      "RCS 0.9750003814697266\n",
      "3153033 2021-03-03T12:28:48.000000Z\n",
      "Mt_Rainier\n",
      "RCM 0.17500019073486328\n",
      "3153448 2021-03-08T06:44:32.000000Z\n",
      "Mt_Rainier\n",
      "RCM 0.375\n",
      "3153668 2021-03-10T00:15:36.000000Z\n",
      "Mt_Rainier\n",
      "RCM 1.0\n",
      "3153673 2021-03-10T01:20:55.000000Z\n",
      "Mt_Rainier\n",
      "RCM 1.2250003814697266\n",
      "3153758 2021-03-11T22:25:21.000000Z\n",
      "Mt_Rainier\n"
     ]
    },
    {
     "name": "stderr",
     "output_type": "stream",
     "text": [
      "/Users/marinedenolle/opt/miniconda3/envs/seismo_exo/lib/python3.10/site-packages/numpy/core/_methods.py:206: RuntimeWarning: Degrees of freedom <= 0 for slice\n",
      "  ret = _var(a, axis=axis, dtype=dtype, out=out, ddof=ddof,\n",
      "/Users/marinedenolle/opt/miniconda3/envs/seismo_exo/lib/python3.10/site-packages/numpy/core/_methods.py:163: RuntimeWarning: invalid value encountered in divide\n",
      "  arrmean = um.true_divide(arrmean, div, out=arrmean,\n",
      "/Users/marinedenolle/opt/miniconda3/envs/seismo_exo/lib/python3.10/site-packages/numpy/core/_methods.py:198: RuntimeWarning: invalid value encountered in scalar divide\n",
      "  ret = ret.dtype.type(ret / rcount)\n"
     ]
    },
    {
     "name": "stdout",
     "output_type": "stream",
     "text": [
      "3153763 2021-03-11T23:15:55.000000Z\n",
      "Mt_Rainier\n",
      "RCS -1.0\n",
      "3154028 2021-03-12T21:27:03.000000Z\n",
      "Mt_Rainier\n",
      "RCM 0.625\n",
      "3153998 2021-03-14T17:00:58.000000Z\n",
      "Mt_Rainier\n",
      "STAR 0.6499996185302734\n",
      "3153943 2021-03-15T06:17:22.000000Z\n",
      "Mt_Rainier\n",
      "STAR 0.3249998092651367\n",
      "3153948 2021-03-15T06:56:09.000000Z\n",
      "Mt_Rainier\n",
      "RCS 0.22500038146972656\n",
      "3153973 2021-03-15T16:37:23.000000Z\n",
      "Mt_St_Helens\n",
      "VALT -0.14999961853027344\n",
      "3153978 2021-03-15T16:51:02.000000Z\n",
      "Mt_St_Helens\n",
      "SEP 6.225000381469727\n",
      "3154098 2021-03-16T01:01:31.000000Z\n",
      "Mt_Rainier\n",
      "RCS -1.0\n",
      "3154103 2021-03-16T02:05:16.000000Z\n",
      "Mt_Rainier\n",
      "RCM -0.024999618530273438\n",
      "3154108 2021-03-16T02:06:36.000000Z\n",
      "Mt_Rainier\n",
      "RCM 1.125\n",
      "3154278 2021-03-17T03:55:49.000000Z\n",
      "Mt_Rainier\n",
      "STAR -0.25\n",
      "3154318 2021-03-18T07:40:39.000000Z\n",
      "Mt_Rainier\n",
      "RCM 1.3250007629394531\n",
      "3154328 2021-03-18T09:23:51.000000Z\n",
      "Mt_Rainier\n",
      "STAR -0.47500038146972656\n",
      "3154468 2021-03-20T17:15:05.000000Z\n",
      "Mt_Rainier\n",
      "RCS 0.024999618530273438\n",
      "3154478 2021-03-20T20:46:26.000000Z\n",
      "Mt_Hood\n",
      "VLL 0.3000001907348633\n",
      "3154478 2021-03-20T20:46:28.000000Z\n",
      "Mt_Hood\n",
      "TDH 0.35000038146972656\n",
      "3154433 2021-03-22T03:14:46.000000Z\n",
      "Mt_Rainier\n",
      "RCS -0.14999961853027344\n",
      "3154423 2021-03-22T16:01:47.000000Z\n",
      "Mt_Rainier\n",
      "STAR -0.5749998092651367\n",
      "3154568 2021-03-22T23:04:50.000000Z\n",
      "Mt_Rainier\n",
      "RCM -0.14999961853027344\n",
      "3154628 2021-03-24T11:35:33.000000Z\n",
      "Mt_Rainier\n",
      "STAR -0.35000038146972656\n",
      "3154638 2021-03-24T11:38:28.000000Z\n",
      "Mt_Rainier\n",
      "3154848 2021-03-27T11:02:12.000000Z\n",
      "Mt_Rainier\n",
      "RCM 0.3249998092651367\n",
      "3154853 2021-03-27T11:09:37.000000Z\n",
      "Mt_Rainier\n",
      "STAR -0.7749996185302734\n",
      "3154838 2021-03-27T13:10:49.000000Z\n",
      "Mt_Rainier\n",
      "RCS 0.625\n",
      "3155813 2021-03-27T20:07:12.000000Z\n",
      "Mt_Rainier\n",
      "RCS -0.6000003814697266\n",
      "3155813 2021-03-27T20:07:12.000000Z\n",
      "Mt_Rainier\n",
      "RCM 0.14999961853027344\n",
      "3155813 2021-03-27T20:07:13.000000Z\n",
      "Mt_Rainier\n",
      "STAR -0.3249998092651367\n",
      "3155813 2021-03-27T20:07:13.000000Z\n",
      "Mt_Rainier\n",
      "RCM -1.3500003814697266\n",
      "3155813 2021-03-27T20:07:14.000000Z\n",
      "Mt_Rainier\n",
      "OBSR -0.7749996185302734\n",
      "3155813 2021-03-27T20:07:14.000000Z\n",
      "Mt_Rainier\n",
      "RER -14.225000023841858\n",
      "3154898 2021-03-28T12:43:56.000000Z\n",
      "Mt_Rainier\n",
      "RCM 1.0499992370605469\n",
      "3154938 2021-03-29T01:01:19.000000Z\n",
      "Mt_Rainier\n",
      "RCM -0.5749998092651367\n",
      "3154943 2021-03-29T09:44:54.000000Z\n",
      "Mt_Rainier\n",
      "RCM 0.6750001907348633\n",
      "3155068 2021-03-31T11:46:36.000000Z\n",
      "Mt_Rainier\n",
      "RCM 0.35000038146972656\n",
      "3155073 2021-03-31T11:55:06.000000Z\n",
      "Newberry\n",
      "NORM -0.5\n",
      "3155163 2021-04-01T01:04:02.000000Z\n",
      "Mt_Rainier\n",
      "RCS -2.375\n",
      "3155238 2021-04-02T01:24:40.000000Z\n",
      "Mt_Hood\n",
      "HIYU -2.5749998092651367\n",
      "3155243 2021-04-02T01:52:51.000000Z\n",
      "Mt_Rainier\n",
      "RCM 0.9499998092651367\n",
      "3155303 2021-04-03T15:09:50.000000Z\n",
      "Mt_Rainier\n",
      "STAR 0.125\n",
      "3155308 2021-04-03T16:44:52.000000Z\n",
      "Mt_Rainier\n",
      "STAR 2.625\n",
      "3155313 2021-04-03T18:49:58.000000Z\n",
      "Mt_Rainier\n",
      "RCS 0.4250001907348633\n",
      "3155428 2021-04-05T01:59:53.000000Z\n",
      "Mt_Rainier\n",
      "RCS -0.17500019073486328\n",
      "3155433 2021-04-05T02:09:55.000000Z\n",
      "Mt_Rainier\n",
      "STAR 3.3999996185302734\n",
      "3155423 2021-04-05T05:04:36.000000Z\n",
      "Mt_Rainier\n",
      "OBSR 0.35000038146972656\n",
      "3155408 2021-04-05T13:23:53.000000Z\n",
      "Mt_Rainier\n",
      "RCM 0.3249998092651367\n",
      "3155418 2021-04-05T17:51:23.000000Z\n",
      "Mt_Rainier\n",
      "STAR -0.5500001907348633\n",
      "3155543 2021-04-05T20:57:07.000000Z\n",
      "Mt_Rainier\n",
      "RCM 0.6000003814697266\n",
      "3155483 2021-04-06T12:53:52.000000Z\n",
      "Mt_Rainier\n",
      "RCS -0.3249998092651367\n",
      "3155898 2021-04-11T13:07:00.000000Z\n",
      "Mt_Rainier\n",
      "STAR -0.35000038146972656\n",
      "3156108 2021-04-14T01:57:35.000000Z\n",
      "Mt_Rainier\n",
      "RCM 1.0249996185302734\n",
      "3156118 2021-04-14T04:43:33.000000Z\n",
      "Mt_Rainier\n",
      "RCS -1.1499996185302734\n",
      "3156063 2021-04-15T05:56:01.000000Z\n",
      "Mt_Rainier\n",
      "RCM -0.6750001907348633\n",
      "3156973 2021-04-17T04:51:17.000000Z\n",
      "Mt_Rainier\n",
      "RCS 0.19999980926513672\n",
      "3157068 2021-04-17T06:47:57.000000Z\n",
      "Mt_Rainier\n",
      "RER 0.22500038146972656\n",
      "3156248 2021-04-18T01:30:24.000000Z\n",
      "Mt_Rainier\n",
      "RCM -0.19999980926513672\n",
      "3156263 2021-04-18T04:07:12.000000Z\n",
      "Mt_Rainier\n",
      "RCM 0.875\n",
      "3156278 2021-04-18T10:23:23.000000Z\n",
      "Mt_Rainier\n",
      "RCM 0.39999961853027344\n",
      "3156288 2021-04-18T12:44:51.000000Z\n",
      "Mt_Rainier\n",
      "RCS 0.4250001907348633\n",
      "3156303 2021-04-18T17:40:39.000000Z\n",
      "Mt_Rainier\n",
      "RCS -1.0\n",
      "3156373 2021-04-20T02:27:05.000000Z\n",
      "Mt_Rainier\n",
      "RCM 0.5500001907348633\n",
      "3156453 2021-04-20T12:19:00.000000Z\n",
      "Mt_Rainier\n",
      "RCS 0.19999980926513672\n",
      "3156498 2021-04-20T20:33:24.000000Z\n",
      "Mt_Rainier\n",
      "RCM 0.19999980926513672\n",
      "3156598 2021-04-21T05:09:30.000000Z\n",
      "Mt_Rainier\n",
      "RCM 0.07499980926513672\n",
      "3156563 2021-04-21T11:43:57.000000Z\n",
      "Mt_Rainier\n",
      "RCM 0.22500038146972656\n",
      "3156573 2021-04-21T12:28:46.000000Z\n",
      "Mt_Rainier\n",
      "RCM 0.125\n",
      "3156588 2021-04-21T14:55:23.000000Z\n",
      "Mt_Rainier\n",
      "RCM 0.3249998092651367\n",
      "3156588 2021-04-21T14:55:24.000000Z\n",
      "Mt_Rainier\n",
      "STAR -0.35000038146972656\n",
      "3156588 2021-04-21T14:55:24.000000Z\n",
      "Mt_Rainier\n",
      "RCS 0.024999618530273438\n",
      "3156588 2021-04-21T14:55:25.000000Z\n",
      "Mt_Rainier\n",
      "RER -0.4499998092651367\n",
      "3156588 2021-04-21T14:55:25.000000Z\n",
      "Mt_Rainier\n",
      "STAR -0.6999998092651367\n",
      "3156588 2021-04-21T14:55:25.000000Z\n",
      "Mt_Rainier\n",
      "OBSR 0.17500019073486328\n",
      "3156588 2021-04-21T14:55:26.000000Z\n",
      "Mt_Rainier\n",
      "3156588 2021-04-21T14:55:26.000000Z\n",
      "Mt_Rainier\n",
      "3156588 2021-04-21T14:55:26.000000Z\n",
      "Mt_Rainier\n",
      "OBSR -0.6999998092651367\n",
      "3156588 2021-04-21T14:55:26.000000Z\n",
      "Mt_Rainier\n",
      "RER -0.3000001907348633\n",
      "3156588 2021-04-21T14:55:27.000000Z\n",
      "Mt_Rainier\n",
      "3156588 2021-04-21T14:55:29.000000Z\n",
      "Mt_Rainier\n",
      "3156688 2021-04-22T11:59:08.000000Z\n",
      "Mt_Rainier\n",
      "RCM -0.6750001907348633\n",
      "3156698 2021-04-22T19:28:50.000000Z\n",
      "Mt_Rainier\n",
      "RCM 0.3000001907348633\n",
      "3157213 2021-04-27T03:23:26.000000Z\n",
      "Mt_Rainier\n",
      "STAR 0.8000001907348633\n",
      "3157238 2021-04-27T18:57:10.000000Z\n",
      "Mt_Rainier\n",
      "STAR -1.1499996185302734\n",
      "3158178 2021-04-28T13:29:18.000000Z\n",
      "Mt_Rainier\n",
      "STAR -0.9499998092651367\n",
      "3158713 2021-04-28T22:59:48.000000Z\n",
      "Mt_Rainier\n",
      "RER 0.375\n",
      "3158783 2021-04-29T18:59:11.000000Z\n",
      "Mt_Rainier\n",
      "RCM -0.375\n",
      "3158803 2021-04-29T23:19:48.000000Z\n",
      "Mt_Rainier\n",
      "OBSR 0.5\n",
      "3158808 2021-04-30T00:47:14.000000Z\n",
      "Mt_Rainier\n",
      "RCS 0.024999618530273438\n",
      "3159273 2021-04-30T23:52:25.000000Z\n",
      "Mt_Rainier\n",
      "STAR -0.125\n",
      "3159273 2021-04-30T23:52:25.000000Z\n",
      "Mt_Rainier\n",
      "RCM 0.22500038146972656\n",
      "3159273 2021-04-30T23:52:26.000000Z\n",
      "Mt_Rainier\n",
      "RER -0.07499980926513672\n",
      "3159273 2021-04-30T23:52:26.000000Z\n",
      "Mt_Rainier\n",
      "RCS -0.125\n",
      "3159273 2021-04-30T23:52:26.000000Z\n",
      "Mt_Rainier\n",
      "PARA 0.3249998092651367\n",
      "3159273 2021-04-30T23:52:26.000000Z\n",
      "Mt_Rainier\n",
      "RCM -0.9250001907348633\n",
      "3159273 2021-04-30T23:52:27.000000Z\n",
      "Mt_Rainier\n",
      "PR05 0.22500038146972656\n",
      "3159273 2021-04-30T23:52:27.000000Z\n",
      "Mt_Rainier\n",
      "SIFT 0.8999996185302734\n",
      "3159273 2021-04-30T23:52:30.000000Z\n",
      "Mt_Rainier\n",
      "SIFT -3.2250003814697266\n",
      "3157733 2021-05-01T08:36:36.000000Z\n",
      "Mt_Rainier\n",
      "RCM 0.10000038146972656\n",
      "3157738 2021-05-01T10:29:51.000000Z\n",
      "Mt_Rainier\n",
      "RCM 0.25\n",
      "3157748 2021-05-01T18:50:55.000000Z\n",
      "Mt_Rainier\n",
      "STAR 0.07499980926513672\n",
      "3157493 2021-05-02T13:17:33.000000Z\n",
      "Mt_Rainier\n",
      "RCM 0.39999961853027344\n",
      "3157498 2021-05-02T17:01:11.000000Z\n",
      "Mt_Rainier\n",
      "RCM 0.6499996185302734\n",
      "3157503 2021-05-02T17:34:13.000000Z\n",
      "Mt_Rainier\n",
      "RCM -2.875\n",
      "3157428 2021-05-03T06:20:45.000000Z\n",
      "Mt_Rainier\n",
      "STAR -0.5500001907348633\n",
      "3157448 2021-05-03T13:00:53.000000Z\n",
      "Mt_Rainier\n",
      "STAR -0.47500038146972656\n",
      "3157523 2021-05-04T05:48:05.000000Z\n",
      "Mt_Rainier\n",
      "STAR 0.05000019073486328\n",
      "3157528 2021-05-04T06:54:36.000000Z\n",
      "Mt_Rainier\n",
      "STAR 1.7000007629394531\n",
      "3157533 2021-05-04T07:07:49.000000Z\n",
      "Mt_Rainier\n",
      "STAR 1.0499992370605469\n",
      "3157543 2021-05-04T08:01:37.000000Z\n",
      "Mt_Rainier\n",
      "STAR 0.22500038146972656\n",
      "3157603 2021-05-04T16:35:07.000000Z\n",
      "Mt_Rainier\n",
      "STAR -0.375\n",
      "3157633 2021-05-05T03:37:22.000000Z\n",
      "Mt_Rainier\n",
      "3157638 2021-05-05T04:02:02.000000Z\n",
      "Mt_Rainier\n",
      "STAR -6.0\n",
      "3157823 2021-05-06T10:16:52.000000Z\n",
      "Mt_Rainier\n",
      "RCM 0.19999980926513672\n",
      "3157778 2021-05-07T04:54:51.000000Z\n",
      "Mt_Rainier\n",
      "STAR 1.2749996185302734\n",
      "3157788 2021-05-07T08:08:22.000000Z\n",
      "Mt_Rainier\n",
      "RCM 0.625\n",
      "3157943 2021-05-07T20:19:55.000000Z\n",
      "Mt_Rainier\n",
      "STAR 0.22500038146972656\n",
      "3158053 2021-05-09T11:10:53.000000Z\n",
      "Mt_Rainier\n",
      "RCS 0.4250001907348633\n",
      "3158058 2021-05-09T13:17:18.000000Z\n",
      "Mt_Rainier\n",
      "RCM 0.5249996185302734\n",
      "3158068 2021-05-10T20:19:25.000000Z\n",
      "Mt_Rainier\n",
      "RCM 1.125\n",
      "3158158 2021-05-11T07:57:50.000000Z\n",
      "Mt_St_Helens\n",
      "SUG -0.25\n",
      "3158143 2021-05-11T12:38:00.000000Z\n",
      "Mt_Rainier\n",
      "RCM 1.9500007629394531\n",
      "3158133 2021-05-11T17:21:06.000000Z\n",
      "Newberry\n",
      "SWNB -1.8500003814697266\n",
      "3158188 2021-05-11T18:20:10.000000Z\n",
      "Mt_Rainier\n",
      "RCM -0.25\n",
      "3158193 2021-05-11T18:36:43.000000Z\n",
      "Mt_Rainier\n",
      "RCM 0.75\n",
      "3158198 2021-05-11T18:53:37.000000Z\n",
      "Mt_Rainier\n",
      "RCM 0.27499961853027344\n",
      "3159568 2021-05-13T19:15:27.000000Z\n",
      "Mt_Rainier\n",
      "STAR 0.17500019073486328\n",
      "3159513 2021-05-25T05:41:23.000000Z\n",
      "Mt_Rainier\n",
      "STAR 0.625\n",
      "3159498 2021-05-25T11:15:52.000000Z\n",
      "Mt_Rainier\n",
      "RCS -0.8249998092651367\n",
      "3159753 2021-05-26T00:58:19.000000Z\n",
      "Mt_Rainier\n",
      "STAR -0.05000019073486328\n",
      "3159758 2021-05-26T02:59:25.000000Z\n",
      "Mt_Rainier\n",
      "STAR 0.0\n",
      "3159623 2021-05-26T08:23:57.000000Z\n",
      "Mt_Rainier\n",
      "STAR -0.4499998092651367\n",
      "3159603 2021-05-26T10:06:46.000000Z\n",
      "Mt_Rainier\n",
      "STAR -0.7749996185302734\n",
      "3159743 2021-05-26T11:03:57.000000Z\n",
      "Mt_Rainier\n",
      "RCS -0.22500038146972656\n",
      "3159723 2021-05-26T23:55:27.000000Z\n",
      "Mt_Rainier\n",
      "RCS -0.8000001907348633\n",
      "3159853 2021-05-28T00:00:24.000000Z\n",
      "Mt_Rainier\n",
      "STAR 0.125\n",
      "3159838 2021-05-28T07:48:47.000000Z\n",
      "Mt_Rainier\n",
      "STAR 0.625\n",
      "3159843 2021-05-28T08:52:11.000000Z\n",
      "Mt_Rainier\n",
      "STAR -0.3000001907348633\n",
      "3160648 2021-05-29T19:28:30.000000Z\n",
      "Mt_St_Helens\n",
      "SEP -0.10000038146972656\n",
      "3160693 2021-05-29T21:53:54.000000Z\n",
      "Mt_Rainier\n",
      "STAR -0.25\n",
      "3161378 2021-05-30T22:14:04.000000Z\n",
      "Mt_Rainier\n",
      "RCM 0.3249998092651367\n",
      "3160158 2021-05-31T00:43:06.000000Z\n",
      "Mt_Rainier\n",
      "RCM -0.5249996185302734\n",
      "3160138 2021-05-31T23:39:53.000000Z\n",
      "Mt_Rainier\n",
      "RCM 0.5500001907348633\n",
      "3160233 2021-06-01T07:49:25.000000Z\n",
      "Mt_Rainier\n",
      "RCM -0.17500019073486328\n",
      "3161693 2021-06-02T06:12:39.000000Z\n",
      "Mt_Rainier\n",
      "RCM 0.27499961853027344\n",
      "3161713 2021-06-03T05:45:49.000000Z\n",
      "Mt_Rainier\n",
      "STAR -0.10000038146972656\n",
      "3160578 2021-06-03T13:16:26.000000Z\n",
      "Mt_Rainier\n",
      "RCM -6.774999618530273\n",
      "3160633 2021-06-03T19:30:25.000000Z\n",
      "Mt_Rainier\n",
      "RCS -0.5749998092651367\n",
      "3160618 2021-06-03T21:24:37.000000Z\n",
      "Mt_Rainier\n",
      "RCM 0.05000019073486328\n",
      "3160733 2021-06-05T15:49:56.000000Z\n",
      "Mt_Rainier\n",
      "STAR 0.625\n",
      "3160773 2021-06-06T02:39:38.000000Z\n",
      "Mt_St_Helens\n",
      "SEP -1.3999996185302734\n",
      "3161263 2021-06-07T07:42:38.000000Z\n",
      "Mt_Rainier\n",
      "RCS 0.6000003814697266\n",
      "3161333 2021-06-07T08:43:46.000000Z\n",
      "Mt_St_Helens\n",
      "SEP -0.47500038146972656\n",
      "3161618 2021-06-09T02:04:25.000000Z\n",
      "Mt_Rainier\n",
      "RCS 1.3250007629394531\n",
      "3161623 2021-06-09T16:52:53.000000Z\n",
      "Mt_Rainier\n",
      "RCS 3.375\n",
      "3161598 2021-06-09T23:26:39.000000Z\n",
      "Mt_Rainier\n",
      "RCM 0.35000038146972656\n",
      "3161733 2021-06-10T06:22:46.000000Z\n",
      "Mt_Rainier\n",
      "RCM -0.22500038146972656\n",
      "3161723 2021-06-10T12:52:40.000000Z\n",
      "Mt_Rainier\n",
      "RCM -0.05000019073486328\n",
      "3161963 2021-06-10T18:39:39.000000Z\n",
      "Mt_Rainier\n",
      "RCM 2.799999237060547\n",
      "3164293 2021-06-10T20:28:27.000000Z\n",
      "Newberry\n",
      "TMBU 0.25\n",
      "3162113 2021-06-13T01:18:20.000000Z\n",
      "Mt_Rainier\n",
      "RCM -0.3249998092651367\n",
      "3162103 2021-06-14T14:30:30.000000Z\n",
      "Mt_Rainier\n",
      "RCS 0.07499980926513672\n",
      "3162218 2021-06-14T23:22:42.000000Z\n",
      "Mt_St_Helens\n",
      "SEP 0.4499998092651367\n",
      "3162403 2021-06-17T12:25:18.000000Z\n",
      "Mt_Rainier\n",
      "RCM 0.625\n",
      "3162633 2021-06-21T12:24:33.000000Z\n",
      "Mt_Rainier\n",
      "RCM -0.14999961853027344\n",
      "3162643 2021-06-21T15:52:40.000000Z\n",
      "Mt_Rainier\n",
      "RCS -0.75\n",
      "3162868 2021-06-22T02:05:49.000000Z\n",
      "Mt_St_Helens\n",
      "SUG 1.375\n",
      "3162823 2021-06-23T15:55:33.000000Z\n",
      "Mt_St_Helens\n",
      "SEP 0.9250001907348633\n",
      "3162838 2021-06-23T16:41:51.000000Z\n",
      "Mt_Rainier\n",
      "RCM 4.225000381469727\n",
      "3163243 2021-06-28T22:19:11.000000Z\n",
      "Mt_St_Helens\n",
      "SEP 1.8250007629394531\n",
      "3166548 2021-06-29T16:56:51.000000Z\n",
      "Mt_St_Helens\n",
      "SEP -0.625\n",
      "3163333 2021-06-30T09:35:50.000000Z\n",
      "Mt_St_Helens\n",
      "SEP -1.3000001907348633\n",
      "3163748 2021-07-01T14:23:38.000000Z\n",
      "Mt_St_Helens\n",
      "REM 2.200000762939453\n",
      "3163668 2021-07-03T14:51:58.000000Z\n",
      "Mt_Rainier\n",
      "RCM -0.3249998092651367\n",
      "3163623 2021-07-04T21:41:35.000000Z\n",
      "Mt_St_Helens\n",
      "SHW -0.14999961853027344\n",
      "3163613 2021-07-05T05:55:31.000000Z\n",
      "Mt_St_Helens\n",
      "SEP 1.3999996185302734\n",
      "3163608 2021-07-05T11:20:34.000000Z\n",
      "Mt_St_Helens\n",
      "SEP -0.19999980926513672\n",
      "3163498 2021-07-05T12:11:48.000000Z\n",
      "Mt_Rainier\n",
      "RER 0.625\n",
      "3163498 2021-07-05T12:11:48.000000Z\n",
      "Mt_Rainier\n",
      "RCM -0.47500038146972656\n",
      "3163528 2021-07-06T05:18:36.000000Z\n",
      "Mt_Rainier\n",
      "RCM -0.47500038146972656\n",
      "3163598 2021-07-06T07:29:50.000000Z\n",
      "Mt_Hood\n",
      "YOCR -0.4499998092651367\n",
      "3163583 2021-07-06T08:49:08.000000Z\n",
      "Mt_Rainier\n",
      "OBSR -0.7250003814697266\n",
      "3163813 2021-07-07T11:45:44.000000Z\n",
      "Mt_St_Helens\n",
      "SEP 1.0249996185302734\n",
      "3163818 2021-07-07T13:51:48.000000Z\n",
      "Mt_St_Helens\n",
      "STD 0.6999998092651367\n",
      "3163943 2021-07-08T15:07:09.000000Z\n",
      "Mt_St_Helens\n",
      "SEP 1.4249992370605469\n",
      "3164053 2021-07-09T14:17:33.000000Z\n",
      "Mt_St_Helens\n",
      "SEP -0.25\n",
      "3164053 2021-07-09T14:17:33.000000Z\n",
      "Mt_St_Helens\n",
      "REM -0.22500038146972656\n",
      "3164053 2021-07-09T14:17:33.000000Z\n",
      "Mt_St_Helens\n",
      "SWF2 1.0249996185302734\n",
      "3164053 2021-07-09T14:17:34.000000Z\n",
      "Mt_St_Helens\n",
      "SHW 0.0\n",
      "3164053 2021-07-09T14:17:34.000000Z\n",
      "Mt_St_Helens\n",
      "STD -0.5249996185302734\n",
      "3164053 2021-07-09T14:17:36.000000Z\n",
      "Mt_St_Helens\n",
      "B201 -0.375\n",
      "3164053 2021-07-09T14:17:36.000000Z\n",
      "Mt_St_Helens\n",
      "3164053 2021-07-09T14:17:38.000000Z\n",
      "Mt_St_Helens\n",
      "B201 -15.0\n",
      "3164043 2021-07-09T22:35:42.000000Z\n",
      "Mt_St_Helens\n",
      "SEP 0.5249996185302734\n",
      "3164208 2021-07-10T23:15:27.000000Z\n",
      "Mt_St_Helens\n",
      "SEP 0.375\n",
      "3164593 2021-07-14T00:39:34.000000Z\n",
      "Mt_St_Helens\n",
      "SEP 1.1499996185302734\n",
      "3164558 2021-07-14T21:37:22.000000Z\n",
      "Mt_St_Helens\n",
      "SEP -0.5749998092651367\n",
      "3164518 2021-07-14T23:03:30.000000Z\n",
      "Mt_St_Helens\n",
      "SEP -1.1499996185302734\n",
      "3164518 2021-07-14T23:03:30.000000Z\n",
      "Mt_St_Helens\n",
      "REM -0.375\n",
      "3164518 2021-07-14T23:03:30.000000Z\n",
      "Mt_St_Helens\n",
      "SUG 0.6000003814697266\n",
      "3164518 2021-07-14T23:03:31.000000Z\n",
      "Mt_St_Helens\n",
      "SWF2 -0.3249998092651367\n",
      "3164518 2021-07-14T23:03:32.000000Z\n",
      "Mt_St_Helens\n",
      "SHW -1.4250001907348633\n",
      "3164518 2021-07-14T23:03:32.000000Z\n",
      "Mt_St_Helens\n",
      "STD -0.75\n",
      "3164598 2021-07-15T19:18:30.000000Z\n",
      "Mt_St_Helens\n",
      "SEP 0.024999618530273438\n",
      "3185248 2021-07-16T12:12:22.000000Z\n",
      "Mt_Rainier\n",
      "RCS -0.05000019073486328\n",
      "3185308 2021-07-17T03:58:50.000000Z\n",
      "Mt_St_Helens\n",
      "SEP -0.6499996185302734\n",
      "3185333 2021-07-17T06:43:41.000000Z\n",
      "Mt_St_Helens\n",
      "VALT -0.8249998092651367\n",
      "3165038 2021-07-18T05:10:50.000000Z\n",
      "Mt_St_Helens\n",
      "REM -0.3249998092651367\n",
      "3165013 2021-07-18T08:05:03.000000Z\n",
      "Mt_St_Helens\n",
      "SEP 0.6000003814697266\n",
      "3164883 2021-07-19T13:28:06.000000Z\n",
      "Mt_St_Helens\n",
      "SEP -0.05000019073486328\n",
      "3164893 2021-07-19T17:16:21.000000Z\n",
      "Mt_St_Helens\n",
      "WIFE 0.3249998092651367\n",
      "3164878 2021-07-19T19:29:36.000000Z\n",
      "Mt_St_Helens\n",
      "SEP 0.8500003814697266\n",
      "3165643 2021-07-26T11:18:29.000000Z\n",
      "Mt_St_Helens\n",
      "SUG -2.3999996185302734\n",
      "3165623 2021-07-26T12:48:13.000000Z\n",
      "Mt_St_Helens\n",
      "REM -0.7749996185302734\n",
      "3165603 2021-07-26T22:31:05.000000Z\n",
      "Newberry\n",
      "NN19 -0.3000001907348633\n",
      "3165588 2021-07-27T06:01:58.000000Z\n",
      "Mt_Rainier\n",
      "STAR -0.4499998092651367\n",
      "3165708 2021-07-28T02:26:34.000000Z\n",
      "Mt_Rainier\n",
      "STAR -0.10000038146972656\n",
      "3165718 2021-07-28T06:51:17.000000Z\n",
      "Mt_St_Helens\n",
      "REM -0.7749996185302734\n",
      "3165723 2021-07-28T11:49:34.000000Z\n",
      "Mt_St_Helens\n",
      "SEP -0.024999618530273438\n",
      "3165693 2021-07-28T13:19:36.000000Z\n",
      "Mt_St_Helens\n",
      "SEP -0.39999961853027344\n",
      "3165698 2021-07-28T13:59:42.000000Z\n",
      "Mt_Rainier\n",
      "RCS 0.6999998092651367\n",
      "3166023 2021-07-30T06:57:27.000000Z\n",
      "Mt_St_Helens\n",
      "SEP 0.4250001907348633\n",
      "3166008 2021-07-30T07:31:04.000000Z\n",
      "Mt_St_Helens\n",
      "REM -0.14999961853027344\n",
      "3165988 2021-07-30T10:32:59.000000Z\n",
      "Mt_St_Helens\n",
      "REM -1.2749996185302734\n",
      "3166088 2021-07-30T22:48:34.000000Z\n",
      "Mt_St_Helens\n",
      "SEP -0.6000003814697266\n",
      "3166073 2021-07-31T00:15:21.000000Z\n",
      "Mt_Rainier\n",
      "RCM -0.125\n",
      "3166188 2021-07-31T09:58:08.000000Z\n",
      "Mt_St_Helens\n",
      "SEP 0.35000038146972656\n",
      "3166163 2021-07-31T12:28:18.000000Z\n",
      "Mt_Rainier\n",
      "STAR 1.8250007629394531\n",
      "3166153 2021-07-31T15:42:46.000000Z\n",
      "Mt_St_Helens\n",
      "SEP -0.14999961853027344\n",
      "3166268 2021-08-01T16:47:17.000000Z\n",
      "Mt_St_Helens\n",
      "SEP 1.1749992370605469\n",
      "3166688 2021-08-02T04:15:39.000000Z\n",
      "Mt_Rainier\n",
      "RCM -1.1750001907348633\n",
      "3166703 2021-08-02T06:55:28.000000Z\n",
      "Mt_St_Helens\n",
      "REM 0.27499961853027344\n",
      "3166663 2021-08-02T08:18:51.000000Z\n",
      "Mt_Rainier\n",
      "RCS 1.125\n",
      "3166638 2021-08-02T12:43:47.000000Z\n",
      "Mt_St_Helens\n",
      "SEP 0.5249996185302734\n",
      "3166983 2021-08-04T06:40:17.000000Z\n",
      "Mt_St_Helens\n",
      "SEP -0.07499980926513672\n",
      "3166923 2021-08-04T14:07:32.000000Z\n",
      "Mt_Rainier\n",
      "RCM -0.05000019073486328\n",
      "3166963 2021-08-04T17:52:46.000000Z\n",
      "Mt_Rainier\n",
      "RCS 0.27499961853027344\n",
      "3167128 2021-08-04T22:21:02.000000Z\n",
      "Mt_Rainier\n",
      "RCS 0.19999980926513672\n",
      "3167188 2021-08-05T23:11:43.000000Z\n",
      "Mt_St_Helens\n",
      "SEP -0.05000019073486328\n",
      "3167183 2021-08-06T01:02:04.000000Z\n",
      "Mt_Hood\n",
      "PALM -0.27499961853027344\n",
      "3167183 2021-08-06T01:02:04.000000Z\n",
      "Mt_Hood\n",
      "YOCR -0.7250003814697266\n",
      "3167178 2021-08-06T04:11:48.000000Z\n",
      "Mt_Rainier\n",
      "STAR 2.174999237060547\n",
      "3174298 2021-08-06T11:12:27.000000Z\n",
      "Mt_Rainier\n",
      "RCS 0.0\n",
      "3167293 2021-08-09T06:35:59.000000Z\n",
      "Mt_St_Helens\n",
      "SWF2 0.8999996185302734\n",
      "3174513 2021-08-09T14:39:28.000000Z\n",
      "Mt_Rainier\n",
      "RCM -0.5500001907348633\n",
      "3175763 2021-08-10T14:27:51.000000Z\n",
      "Mt_Rainier\n",
      "RCS -0.35000038146972656\n",
      "3175768 2021-08-10T16:17:45.000000Z\n",
      "Newberry\n",
      "NCO 0.75\n",
      "3175793 2021-08-10T20:55:25.000000Z\n",
      "Mt_Hood\n",
      "YOCR -0.024999618530273438\n",
      "3175798 2021-08-10T21:00:02.000000Z\n",
      "Mt_Rainier\n",
      "STAR 0.4250001907348633\n",
      "3179348 2021-08-10T23:57:39.000000Z\n",
      "Mt_St_Helens\n",
      "SEP -0.8500003814697266\n",
      "3179353 2021-08-11T00:36:57.000000Z\n",
      "Mt_St_Helens\n",
      "SEP 0.5749998092651367\n",
      "3184783 2021-08-11T06:23:36.000000Z\n",
      "Mt_Hood\n",
      "YOCR 0.22500038146972656\n",
      "3184793 2021-08-11T10:44:27.000000Z\n",
      "Mt_St_Helens\n",
      "SEP -0.8249998092651367\n",
      "3184798 2021-08-11T12:02:06.000000Z\n",
      "Mt_Hood\n",
      "YOCR 0.9750003814697266\n",
      "3184803 2021-08-11T13:21:59.000000Z\n",
      "Mt_Rainier\n",
      "RCM -0.8000001907348633\n",
      "3184808 2021-08-11T14:03:00.000000Z\n",
      "Mt_Rainier\n",
      "RCS -0.39999961853027344\n",
      "3184813 2021-08-11T14:11:41.000000Z\n",
      "Mt_Rainier\n",
      "RCS -0.625\n",
      "3184848 2021-08-12T05:53:23.000000Z\n",
      "Mt_St_Helens\n",
      "REM 0.5\n",
      "3184858 2021-08-12T06:32:21.000000Z\n",
      "Mt_Hood\n",
      "BRSP 1.1749992370605469\n",
      "3184868 2021-08-12T08:45:03.000000Z\n",
      "Mt_St_Helens\n",
      "SHW -1.1750001907348633\n",
      "3167953 2021-08-12T18:04:10.000000Z\n",
      "Newberry\n",
      "CPCO -1.1750001907348633\n",
      "3167898 2021-08-13T04:57:35.000000Z\n",
      "Mt_St_Helens\n",
      "SEP 0.8999996185302734\n",
      "3167718 2021-08-14T02:46:53.000000Z\n",
      "Mt_Rainier\n",
      "STAR -0.17500019073486328\n",
      "3167703 2021-08-14T09:15:12.000000Z\n",
      "Mt_St_Helens\n",
      "SEP 0.8249998092651367\n",
      "3167708 2021-08-14T09:15:50.000000Z\n",
      "Mt_Rainier\n",
      "RCS -3.5500001907348633\n",
      "3167663 2021-08-14T16:08:50.000000Z\n",
      "Mt_Rainier\n",
      "RCS -1.3999996185302734\n",
      "3167633 2021-08-14T19:55:42.000000Z\n",
      "Mt_St_Helens\n",
      "REM -0.6999998092651367\n",
      "3167588 2021-08-15T03:34:54.000000Z\n",
      "Mt_Rainier\n",
      "RCS -0.3000001907348633\n",
      "3167558 2021-08-15T08:01:44.000000Z\n",
      "Mt_Hood\n",
      "YOCR 0.22500038146972656\n",
      "3167553 2021-08-15T09:17:14.000000Z\n",
      "Mt_Rainier\n",
      "STAR -0.5249996185302734\n",
      "3167518 2021-08-15T12:43:37.000000Z\n",
      "Mt_Hood\n",
      "PALM -1.1000003814697266\n",
      "3167473 2021-08-15T21:16:34.000000Z\n",
      "Mt_Rainier\n",
      "STAR 0.6000003814697266\n",
      "3167433 2021-08-16T11:57:26.000000Z\n",
      "Mt_Rainier\n",
      "RCS -1.625\n",
      "3167818 2021-08-17T13:32:55.000000Z\n",
      "Mt_Rainier\n",
      "RCM -0.39999961853027344\n",
      "3167818 2021-08-17T13:32:55.000000Z\n",
      "Mt_Rainier\n",
      "STAR -0.375\n",
      "3167818 2021-08-17T13:32:55.000000Z\n",
      "Mt_Rainier\n",
      "RCS 0.17500019073486328\n",
      "3167818 2021-08-17T13:32:55.000000Z\n",
      "Mt_Rainier\n",
      "RCM -0.39999961853027344\n",
      "3167818 2021-08-17T13:32:56.000000Z\n",
      "Mt_Rainier\n",
      "RER 0.875\n",
      "3167818 2021-08-17T13:32:56.000000Z\n",
      "Mt_Rainier\n",
      "OBSR -15.0\n",
      "3168183 2021-08-18T14:00:42.000000Z\n",
      "Mt_St_Helens\n",
      "REM 0.7749996185302734\n",
      "3168153 2021-08-18T20:31:46.000000Z\n",
      "Mt_St_Helens\n",
      "HUSB 1.3250007629394531\n",
      "3168153 2021-08-18T20:31:47.000000Z\n",
      "Mt_St_Helens\n",
      "WIFE 0.35000038146972656\n",
      "3168153 2021-08-18T20:31:49.000000Z\n",
      "Mt_St_Helens\n",
      "PRLK -0.19999980926513672\n",
      "3168153 2021-08-18T20:31:50.000000Z\n",
      "Mt_St_Helens\n",
      "HUSB -3.5249996185302734\n",
      "3168138 2021-08-19T01:56:02.000000Z\n",
      "Mt_Rainier\n",
      "RCS -0.05000019073486328\n",
      "3168133 2021-08-19T03:45:59.000000Z\n",
      "Mt_Rainier\n",
      "RCS -1.0\n",
      "3168133 2021-08-19T03:45:59.000000Z\n",
      "Mt_Rainier\n",
      "RCM -1.1750001907348633\n",
      "3168133 2021-08-19T03:46:00.000000Z\n",
      "Mt_Rainier\n",
      "RER -0.5749998092651367\n",
      "3168133 2021-08-19T03:46:00.000000Z\n",
      "Mt_Rainier\n",
      "PARA -0.5249996185302734\n",
      "3168133 2021-08-19T03:46:00.000000Z\n",
      "Mt_Rainier\n",
      "FMW -0.10000038146972656\n",
      "3168133 2021-08-19T03:46:01.000000Z\n",
      "Mt_Rainier\n",
      "PR05 -1.4750003814697266\n",
      "3168133 2021-08-19T03:46:01.000000Z\n",
      "Mt_Rainier\n",
      "SIFT -0.9750003814697266\n",
      "3168133 2021-08-19T03:46:01.000000Z\n",
      "Mt_Rainier\n",
      "RUSH -0.024999618530273438\n",
      "3168133 2021-08-19T03:46:02.000000Z\n",
      "Mt_Rainier\n",
      "OPCH -0.6000003814697266\n",
      "3168133 2021-08-19T03:46:02.000000Z\n",
      "Mt_Rainier\n",
      "CRBN -0.17500019073486328\n",
      "3168133 2021-08-19T03:46:02.000000Z\n",
      "Mt_Rainier\n",
      "VOIT -0.375\n",
      "3168133 2021-08-19T03:46:03.000000Z\n",
      "Mt_Rainier\n",
      "CARB -0.8999996185302734\n",
      "3168083 2021-08-19T12:44:56.000000Z\n",
      "Mt_St_Helens\n",
      "SUG -0.25\n",
      "3168063 2021-08-19T16:36:55.000000Z\n",
      "Mt_Rainier\n",
      "RCM -0.3000001907348633\n",
      "3168343 2021-08-20T01:32:46.000000Z\n",
      "Mt_Rainier\n",
      "STAR -0.05000019073486328\n",
      "3168268 2021-08-20T10:04:35.000000Z\n",
      "Mt_Hood\n",
      "PALM -0.10000038146972656\n",
      "3168788 2021-08-20T20:17:41.000000Z\n",
      "Mt_Rainier\n",
      "STAR 0.35000038146972656\n",
      "3168433 2021-08-21T01:04:46.000000Z\n",
      "Mt_Hood\n",
      "PALM 0.07499980926513672\n",
      "3168428 2021-08-21T01:13:30.000000Z\n",
      "Mt_Rainier\n",
      "RCS -0.625\n",
      "3168393 2021-08-21T14:38:42.000000Z\n",
      "Mt_Rainier\n",
      "RCM 0.125\n",
      "3168748 2021-08-21T18:06:16.000000Z\n",
      "Mt_Rainier\n",
      "STAR 1.9750003814697266\n",
      "3168758 2021-08-21T23:17:58.000000Z\n",
      "Mt_Hood\n",
      "PALM 1.0499992370605469\n",
      "3168553 2021-08-22T01:34:28.000000Z\n",
      "Mt_Rainier\n",
      "RCS 1.5249996185302734\n",
      "3168568 2021-08-22T06:24:57.000000Z\n",
      "Mt_Rainier\n",
      "RCS -0.22500038146972656\n",
      "3168583 2021-08-22T07:54:14.000000Z\n",
      "Mt_Rainier\n",
      "STAR 1.875\n",
      "3168588 2021-08-22T13:15:24.000000Z\n",
      "Mt_Rainier\n",
      "RCS 0.3249998092651367\n",
      "3168593 2021-08-22T13:35:08.000000Z\n",
      "Mt_Hood\n",
      "YOCR -4.0\n",
      "3168493 2021-08-23T01:31:32.000000Z\n",
      "Mt_St_Helens\n",
      "SEP 13.125\n",
      "3168508 2021-08-23T03:22:11.000000Z\n",
      "Mt_St_Helens\n",
      "SHW -0.6999998092651367\n",
      "3168673 2021-08-24T05:21:09.000000Z\n",
      "Mt_Hood\n",
      "PALM 0.3000001907348633\n",
      "3168718 2021-08-24T15:54:34.000000Z\n",
      "Mt_Hood\n",
      "YOCR -0.39999961853027344\n",
      "3168893 2021-08-25T05:12:37.000000Z\n",
      "Mt_St_Helens\n",
      "SEP 0.39999961853027344\n",
      "3168973 2021-08-26T15:40:20.000000Z\n",
      "Mt_Rainier\n",
      "STAR 0.07499980926513672\n",
      "3169123 2021-08-27T11:20:56.000000Z\n",
      "Mt_Rainier\n",
      "STAR -1.2749996185302734\n",
      "3169228 2021-08-27T21:35:27.000000Z\n",
      "Mt_Hood\n",
      "YOCR 1.1499996185302734\n",
      "3169278 2021-08-28T11:44:18.000000Z\n",
      "Mt_Rainier\n",
      "RCS 0.17500019073486328\n",
      "3169533 2021-08-29T12:07:05.000000Z\n",
      "Mt_Hood\n",
      "YOCR 1.1000003814697266\n",
      "3169478 2021-08-29T20:40:21.000000Z\n",
      "Mt_Rainier\n",
      "STAR -0.27499961853027344\n",
      "3169448 2021-08-29T23:05:26.000000Z\n",
      "Mt_Rainier\n",
      "STAR 0.024999618530273438\n",
      "3169428 2021-08-30T06:37:44.000000Z\n",
      "Mt_Rainier\n",
      "STAR -0.5\n",
      "3169638 2021-09-01T06:05:22.000000Z\n",
      "Mt_Hood\n",
      "BRSP -0.375\n",
      "3169688 2021-09-01T18:34:20.000000Z\n",
      "Mt_St_Helens\n",
      "REM -0.375\n",
      "3169773 2021-09-01T21:56:19.000000Z\n",
      "Mt_Rainier\n",
      "RCS -0.4250001907348633\n",
      "3169738 2021-09-02T00:27:05.000000Z\n",
      "Mt_Hood\n",
      "PALM 0.25\n",
      "3169753 2021-09-02T12:21:16.000000Z\n",
      "Mt_Hood\n",
      "PALM -1.0749998092651367\n",
      "3169833 2021-09-03T14:12:07.000000Z\n",
      "Mt_St_Helens\n",
      "SEP -0.6000003814697266\n",
      "3170958 2021-09-03T19:57:01.000000Z\n",
      "Mt_St_Helens\n",
      "SEP 0.14999961853027344\n",
      "3170983 2021-09-03T21:31:37.000000Z\n",
      "Mt_St_Helens\n",
      "SEP 0.05000019073486328\n",
      "3169943 2021-09-04T13:57:05.000000Z\n",
      "Mt_St_Helens\n",
      "SEP -0.5500001907348633\n",
      "3169913 2021-09-05T15:49:24.000000Z\n",
      "Mt_Rainier\n",
      "STAR -0.4499998092651367\n",
      "3169878 2021-09-06T01:37:03.000000Z\n",
      "Mt_St_Helens\n",
      "SEP -0.5749998092651367\n",
      "3169883 2021-09-06T02:43:57.000000Z\n",
      "Mt_Rainier\n",
      "STAR 0.5500001907348633\n",
      "3170383 2021-09-10T14:46:38.000000Z\n",
      "Mt_St_Helens\n",
      "SEP 0.5500001907348633\n",
      "3170503 2021-09-11T15:09:16.000000Z\n",
      "Mt_St_Helens\n",
      "SEP -0.6000003814697266\n",
      "3170463 2021-09-12T07:51:33.000000Z\n",
      "Mt_Rainier\n",
      "STAR 63.30000305175781\n",
      "3170513 2021-09-12T17:25:27.000000Z\n",
      "Mt_Rainier\n",
      "STAR 0.0\n",
      "3170588 2021-09-13T04:14:34.000000Z\n",
      "Mt_Hood\n",
      "BRSP 1.1499996185302734\n",
      "3170588 2021-09-13T04:14:35.000000Z\n",
      "Mt_Hood\n",
      "LSON -0.6499996185302734\n",
      "3170588 2021-09-13T04:14:35.000000Z\n",
      "Mt_Hood\n",
      "YOCR 0.25\n",
      "3170588 2021-09-13T04:14:35.000000Z\n",
      "Mt_Hood\n",
      "PALM -1.1499996185302734\n",
      "3170588 2021-09-13T04:14:36.000000Z\n",
      "Mt_Hood\n",
      "BRSP -0.8500003814697266\n",
      "3170588 2021-09-13T04:14:37.000000Z\n",
      "Mt_Hood\n",
      "LSON -2.0249996185302734\n",
      "3170588 2021-09-13T04:14:37.000000Z\n",
      "Mt_Hood\n",
      "YOCR -1.9750003814697266\n",
      "3170588 2021-09-13T04:14:38.000000Z\n",
      "Mt_Hood\n",
      "TIMB -2.5249996185302734\n",
      "3170593 2021-09-13T05:21:51.000000Z\n",
      "Mt_Rainier\n",
      "RCS 0.07499980926513672\n",
      "3170653 2021-09-14T07:38:52.000000Z\n",
      "Mt_Hood\n",
      "YOCR -1.5500001907348633\n",
      "3170663 2021-09-14T10:48:39.000000Z\n",
      "Mt_Hood\n",
      "BRSP -0.5249996185302734\n",
      "3170668 2021-09-14T11:06:48.000000Z\n",
      "Mt_Rainier\n",
      "RCM -0.5\n",
      "3170673 2021-09-14T11:27:23.000000Z\n",
      "Mt_Hood\n",
      "YOCR 0.5749998092651367\n",
      "3170713 2021-09-14T19:13:31.000000Z\n",
      "Mt_St_Helens\n",
      "SEP 0.05000019073486328\n",
      "3170748 2021-09-15T00:22:46.000000Z\n",
      "Mt_Hood\n",
      "YOCR 0.375\n",
      "3170753 2021-09-15T06:25:29.000000Z\n",
      "Mt_Rainier\n",
      "STAR 0.14999961853027344\n",
      "3170753 2021-09-15T06:25:29.000000Z\n",
      "Mt_Rainier\n",
      "RCM 0.07499980926513672\n",
      "3170753 2021-09-15T06:25:30.000000Z\n",
      "Mt_Rainier\n",
      "RCS -0.6999998092651367\n",
      "3170753 2021-09-15T06:25:30.000000Z\n",
      "Mt_Rainier\n",
      "PARA -0.25\n",
      "3170753 2021-09-15T06:25:30.000000Z\n",
      "Mt_Rainier\n",
      "OBSR 0.17500019073486328\n",
      "3170753 2021-09-15T06:25:31.000000Z\n",
      "Mt_Rainier\n",
      "RCM -2.0\n",
      "3170753 2021-09-15T06:25:31.000000Z\n",
      "Mt_Rainier\n",
      "RCS -1.4499998092651367\n",
      "3170753 2021-09-15T06:25:31.000000Z\n",
      "Mt_Rainier\n",
      "PR05 0.19999980926513672\n",
      "3170753 2021-09-15T06:25:31.000000Z\n",
      "Mt_Rainier\n",
      "SIFT 0.19999980926513672\n",
      "3170753 2021-09-15T06:25:32.000000Z\n",
      "Mt_Rainier\n",
      "RUSH -0.5749998092651367\n",
      "3170753 2021-09-15T06:25:33.000000Z\n",
      "Mt_Rainier\n",
      "CRBN -0.75\n",
      "3170753 2021-09-15T06:25:34.000000Z\n",
      "Mt_Rainier\n",
      "PR05 -2.7749996185302734\n",
      "3170753 2021-09-15T06:25:34.000000Z\n",
      "Mt_Rainier\n",
      "SIFT -2.375\n",
      "3170868 2021-09-15T19:51:05.000000Z\n",
      "Mt_Rainier\n",
      "RCS -0.05000019073486328\n",
      "3170843 2021-09-16T12:09:52.000000Z\n",
      "Mt_St_Helens\n",
      "SEP -0.35000038146972656\n",
      "3170968 2021-09-17T02:04:28.000000Z\n",
      "Mt_Rainier\n",
      "RCS 0.25\n",
      "3171018 2021-09-17T07:14:46.000000Z\n",
      "Mt_Rainier\n",
      "RCS -0.3249998092651367\n",
      "3171388 2021-09-18T12:19:25.000000Z\n",
      "Mt_St_Helens\n",
      "SEP -0.4250001907348633\n",
      "3171248 2021-09-20T08:57:15.000000Z\n",
      "Mt_St_Helens\n",
      "SEP 0.75\n",
      "3171563 2021-09-21T23:45:32.000000Z\n",
      "Mt_Hood\n",
      "PALM 0.625\n",
      "3171513 2021-09-22T11:55:27.000000Z\n",
      "Mt_St_Helens\n",
      "SEP -15.0\n",
      "3171573 2021-09-23T04:50:49.000000Z\n",
      "Mt_Rainier\n",
      "STAR 1.125\n",
      "3171613 2021-09-24T05:25:22.000000Z\n",
      "Mt_Rainier\n",
      "STAR -1.375\n",
      "3171728 2021-09-24T23:21:44.000000Z\n",
      "Mt_Rainier\n",
      "STAR 2.0249996185302734\n",
      "3171763 2021-09-27T10:03:58.000000Z\n",
      "Mt_Rainier\n",
      "RCS 0.5500001907348633\n",
      "3171768 2021-09-27T14:37:25.000000Z\n",
      "Mt_St_Helens\n",
      "SEP 1.25\n",
      "3171783 2021-09-27T17:17:12.000000Z\n",
      "Mt_Hood\n",
      "PALM 0.27499961853027344\n",
      "3171833 2021-09-28T02:14:25.000000Z\n",
      "Mt_St_Helens\n",
      "SEP 0.7749996185302734\n",
      "3172133 2021-09-30T17:11:32.000000Z\n",
      "Mt_St_Helens\n",
      "SEP -1.75\n",
      "3172058 2021-10-01T10:36:51.000000Z\n",
      "Mt_Hood\n",
      "PALM 0.22500038146972656\n",
      "3172058 2021-10-01T10:36:52.000000Z\n",
      "Mt_Hood\n",
      "LSON -0.5249996185302734\n",
      "3172058 2021-10-01T10:36:52.000000Z\n",
      "Mt_Hood\n",
      "BRSP -0.27499961853027344\n",
      "3172073 2021-10-01T18:39:46.000000Z\n",
      "Mt_Rainier\n",
      "STAR 0.75\n",
      "3172078 2021-10-01T18:57:50.000000Z\n",
      "Mt_Rainier\n",
      "RCM 0.6499996185302734\n",
      "3172348 2021-10-06T02:44:41.000000Z\n",
      "Mt_Rainier\n",
      "STAR -0.125\n",
      "3173023 2021-10-07T11:51:33.000000Z\n",
      "Mt_Hood\n",
      "PALM -0.39999961853027344\n",
      "3172713 2021-10-07T12:07:29.000000Z\n",
      "Mt_Rainier\n",
      "RCM -0.4250001907348633\n",
      "3173128 2021-10-08T03:09:25.000000Z\n",
      "Mt_St_Helens\n",
      "SUG 0.0\n",
      "3173138 2021-10-08T10:06:53.000000Z\n",
      "Mt_St_Helens\n",
      "STD -0.9750003814697266\n",
      "3172513 2021-10-08T13:11:46.000000Z\n",
      "Mt_Rainier\n",
      "RCM 0.125\n",
      "3172523 2021-10-08T15:18:21.000000Z\n",
      "Mt_Rainier\n",
      "RCS 1.4249992370605469\n",
      "3172538 2021-10-08T18:03:45.000000Z\n",
      "Mt_Rainier\n",
      "RCS 0.5749998092651367\n",
      "3172588 2021-10-08T23:20:04.000000Z\n",
      "Mt_Rainier\n",
      "RCM 0.25\n",
      "3173148 2021-10-14T01:28:07.000000Z\n",
      "Mt_St_Helens\n",
      "SEP 1.7250003814697266\n",
      "3173158 2021-10-14T03:26:45.000000Z\n",
      "Mt_Rainier\n",
      "STAR -0.47500038146972656\n",
      "3173243 2021-10-14T18:24:15.000000Z\n",
      "Mt_Rainier\n",
      "RCM 0.0\n",
      "3173893 2021-10-17T11:09:04.000000Z\n",
      "Mt_Rainier\n",
      "STAR 0.05000019073486328\n",
      "3174173 2021-10-20T22:00:34.000000Z\n",
      "Mt_Hood\n",
      "PALM 0.9250001907348633\n",
      "3174103 2021-10-21T02:55:35.000000Z\n",
      "Mt_Rainier\n",
      "STAR -0.6750001907348633\n",
      "3174533 2021-10-29T07:04:05.000000Z\n",
      "Mt_St_Helens\n",
      "REM -0.8500003814697266\n",
      "3174533 2021-10-29T07:04:05.000000Z\n",
      "Mt_St_Helens\n",
      "SEP -0.47500038146972656\n",
      "3174803 2021-10-29T16:59:17.000000Z\n",
      "Mt_St_Helens\n",
      "SUG 0.22500038146972656\n",
      "3174803 2021-10-29T16:59:17.000000Z\n",
      "Mt_St_Helens\n",
      "SEP 1.0499992370605469\n",
      "3174803 2021-10-29T16:59:17.000000Z\n",
      "Mt_St_Helens\n",
      "REM 0.5500001907348633\n",
      "3174803 2021-10-29T16:59:18.000000Z\n",
      "Mt_St_Helens\n",
      "B202 -2.3000001907348633\n",
      "3174803 2021-10-29T16:59:18.000000Z\n",
      "Mt_St_Helens\n",
      "SUG -2.5500001907348633\n",
      "3174648 2021-10-29T18:12:25.000000Z\n",
      "Mt_St_Helens\n",
      "SEP -9.175000190734863\n",
      "3174798 2021-10-29T22:19:14.000000Z\n",
      "Mt_St_Helens\n",
      "HOA 0.47500038146972656\n",
      "3174673 2021-11-01T05:17:28.000000Z\n",
      "Mt_Rainier\n",
      "RCM -0.5\n",
      "3174978 2021-11-04T11:51:09.000000Z\n",
      "Mt_St_Helens\n",
      "SEP 1.125\n",
      "3175978 2021-11-05T20:18:01.000000Z\n",
      "Mt_Baker\n",
      "MBW -0.75\n",
      "3175978 2021-11-05T20:18:03.000000Z\n",
      "Mt_Baker\n",
      "SHUK -0.14999961853027344\n",
      "3175978 2021-11-05T20:18:04.000000Z\n",
      "Mt_Baker\n",
      "SAXON 1.0249996185302734\n",
      "3175978 2021-11-05T20:18:06.000000Z\n",
      "Mt_Baker\n",
      "MULN 2.375\n",
      "3175978 2021-11-05T20:18:07.000000Z\n",
      "Mt_Baker\n",
      "RPW2 -0.7749996185302734\n",
      "3175978 2021-11-05T20:18:10.000000Z\n",
      "Mt_Baker\n",
      "MULN -3.1000003814697266\n",
      "3175978 2021-11-05T20:18:11.000000Z\n",
      "Mt_Baker\n"
     ]
    },
    {
     "name": "stderr",
     "output_type": "stream",
     "text": [
      "/var/folders/js/lzmy975n0l5bjbmr9db291m00000gn/T/ipykernel_20429/1253723612.py:45: RuntimeWarning: invalid value encountered in scalar divide\n",
      "  snr = (20 * np.log(np.percentile(np.abs(signal_window.data),pr)\n"
     ]
    },
    {
     "ename": "ValueError",
     "evalue": "cannot convert float NaN to integer",
     "output_type": "error",
     "traceback": [
      "\u001b[0;31m---------------------------------------------------------------------------\u001b[0m",
      "\u001b[0;31mValueError\u001b[0m                                Traceback (most recent call last)",
      "Cell \u001b[0;32mIn[24], line 59\u001b[0m\n\u001b[1;32m     57\u001b[0m nets\u001b[39m.\u001b[39mappend(ii\u001b[39m.\u001b[39mstats\u001b[39m.\u001b[39mnetwork)\n\u001b[1;32m     58\u001b[0m SNR\u001b[39m.\u001b[39mappend(snr)\n\u001b[0;32m---> 59\u001b[0m SNR_weight\u001b[39m.\u001b[39mappend(\u001b[39mint\u001b[39;49m(snr))\n\u001b[1;32m     60\u001b[0m no_weight\u001b[39m.\u001b[39mappend(\u001b[39m1\u001b[39m)\n\u001b[1;32m     61\u001b[0m evt_data\u001b[39m.\u001b[39mappend(signal_window)\n",
      "\u001b[0;31mValueError\u001b[0m: cannot convert float NaN to integer"
     ]
    },
    {
     "data": {
      "text/plain": [
       "<Figure size 640x480 with 0 Axes>"
      ]
     },
     "metadata": {},
     "output_type": "display_data"
    },
    {
     "data": {
      "text/plain": [
       "<Figure size 640x480 with 0 Axes>"
      ]
     },
     "metadata": {},
     "output_type": "display_data"
    },
    {
     "data": {
      "text/plain": [
       "<Figure size 640x480 with 0 Axes>"
      ]
     },
     "metadata": {},
     "output_type": "display_data"
    },
    {
     "data": {
      "text/plain": [
       "<Figure size 640x480 with 0 Axes>"
      ]
     },
     "metadata": {},
     "output_type": "display_data"
    },
    {
     "data": {
      "text/plain": [
       "<Figure size 640x480 with 0 Axes>"
      ]
     },
     "metadata": {},
     "output_type": "display_data"
    },
    {
     "data": {
      "text/plain": [
       "<Figure size 640x480 with 0 Axes>"
      ]
     },
     "metadata": {},
     "output_type": "display_data"
    },
    {
     "data": {
      "text/plain": [
       "<Figure size 640x480 with 0 Axes>"
      ]
     },
     "metadata": {},
     "output_type": "display_data"
    },
    {
     "data": {
      "text/plain": [
       "<Figure size 640x480 with 0 Axes>"
      ]
     },
     "metadata": {},
     "output_type": "display_data"
    },
    {
     "data": {
      "text/plain": [
       "<Figure size 640x480 with 0 Axes>"
      ]
     },
     "metadata": {},
     "output_type": "display_data"
    },
    {
     "data": {
      "text/plain": [
       "<Figure size 640x480 with 0 Axes>"
      ]
     },
     "metadata": {},
     "output_type": "display_data"
    },
    {
     "data": {
      "text/plain": [
       "<Figure size 640x480 with 0 Axes>"
      ]
     },
     "metadata": {},
     "output_type": "display_data"
    },
    {
     "data": {
      "text/plain": [
       "<Figure size 640x480 with 0 Axes>"
      ]
     },
     "metadata": {},
     "output_type": "display_data"
    },
    {
     "data": {
      "text/plain": [
       "<Figure size 640x480 with 0 Axes>"
      ]
     },
     "metadata": {},
     "output_type": "display_data"
    },
    {
     "data": {
      "text/plain": [
       "<Figure size 640x480 with 0 Axes>"
      ]
     },
     "metadata": {},
     "output_type": "display_data"
    },
    {
     "data": {
      "text/plain": [
       "<Figure size 640x480 with 0 Axes>"
      ]
     },
     "metadata": {},
     "output_type": "display_data"
    },
    {
     "data": {
      "text/plain": [
       "<Figure size 640x480 with 0 Axes>"
      ]
     },
     "metadata": {},
     "output_type": "display_data"
    },
    {
     "data": {
      "text/plain": [
       "<Figure size 640x480 with 0 Axes>"
      ]
     },
     "metadata": {},
     "output_type": "display_data"
    },
    {
     "data": {
      "text/plain": [
       "<Figure size 640x480 with 0 Axes>"
      ]
     },
     "metadata": {},
     "output_type": "display_data"
    },
    {
     "data": {
      "text/plain": [
       "<Figure size 640x480 with 0 Axes>"
      ]
     },
     "metadata": {},
     "output_type": "display_data"
    },
    {
     "data": {
      "text/plain": [
       "<Figure size 640x480 with 0 Axes>"
      ]
     },
     "metadata": {},
     "output_type": "display_data"
    },
    {
     "data": {
      "text/plain": [
       "<Figure size 640x480 with 0 Axes>"
      ]
     },
     "metadata": {},
     "output_type": "display_data"
    },
    {
     "data": {
      "text/plain": [
       "<Figure size 640x480 with 0 Axes>"
      ]
     },
     "metadata": {},
     "output_type": "display_data"
    },
    {
     "data": {
      "text/plain": [
       "<Figure size 640x480 with 0 Axes>"
      ]
     },
     "metadata": {},
     "output_type": "display_data"
    },
    {
     "data": {
      "text/plain": [
       "<Figure size 640x480 with 0 Axes>"
      ]
     },
     "metadata": {},
     "output_type": "display_data"
    },
    {
     "data": {
      "text/plain": [
       "<Figure size 640x480 with 0 Axes>"
      ]
     },
     "metadata": {},
     "output_type": "display_data"
    },
    {
     "data": {
      "text/plain": [
       "<Figure size 640x480 with 0 Axes>"
      ]
     },
     "metadata": {},
     "output_type": "display_data"
    },
    {
     "data": {
      "text/plain": [
       "<Figure size 640x480 with 0 Axes>"
      ]
     },
     "metadata": {},
     "output_type": "display_data"
    },
    {
     "data": {
      "text/plain": [
       "<Figure size 640x480 with 0 Axes>"
      ]
     },
     "metadata": {},
     "output_type": "display_data"
    },
    {
     "data": {
      "text/plain": [
       "<Figure size 640x480 with 0 Axes>"
      ]
     },
     "metadata": {},
     "output_type": "display_data"
    },
    {
     "data": {
      "text/plain": [
       "<Figure size 640x480 with 0 Axes>"
      ]
     },
     "metadata": {},
     "output_type": "display_data"
    },
    {
     "data": {
      "text/plain": [
       "<Figure size 640x480 with 0 Axes>"
      ]
     },
     "metadata": {},
     "output_type": "display_data"
    },
    {
     "data": {
      "text/plain": [
       "<Figure size 640x480 with 0 Axes>"
      ]
     },
     "metadata": {},
     "output_type": "display_data"
    },
    {
     "data": {
      "text/plain": [
       "<Figure size 640x480 with 0 Axes>"
      ]
     },
     "metadata": {},
     "output_type": "display_data"
    },
    {
     "data": {
      "text/plain": [
       "<Figure size 640x480 with 0 Axes>"
      ]
     },
     "metadata": {},
     "output_type": "display_data"
    },
    {
     "data": {
      "text/plain": [
       "<Figure size 640x480 with 0 Axes>"
      ]
     },
     "metadata": {},
     "output_type": "display_data"
    },
    {
     "data": {
      "text/plain": [
       "<Figure size 640x480 with 0 Axes>"
      ]
     },
     "metadata": {},
     "output_type": "display_data"
    },
    {
     "data": {
      "text/plain": [
       "<Figure size 640x480 with 0 Axes>"
      ]
     },
     "metadata": {},
     "output_type": "display_data"
    },
    {
     "data": {
      "text/plain": [
       "<Figure size 640x480 with 0 Axes>"
      ]
     },
     "metadata": {},
     "output_type": "display_data"
    },
    {
     "data": {
      "text/plain": [
       "<Figure size 640x480 with 0 Axes>"
      ]
     },
     "metadata": {},
     "output_type": "display_data"
    },
    {
     "data": {
      "text/plain": [
       "<Figure size 640x480 with 0 Axes>"
      ]
     },
     "metadata": {},
     "output_type": "display_data"
    },
    {
     "data": {
      "text/plain": [
       "<Figure size 640x480 with 0 Axes>"
      ]
     },
     "metadata": {},
     "output_type": "display_data"
    },
    {
     "data": {
      "text/plain": [
       "<Figure size 640x480 with 0 Axes>"
      ]
     },
     "metadata": {},
     "output_type": "display_data"
    },
    {
     "data": {
      "text/plain": [
       "<Figure size 640x480 with 0 Axes>"
      ]
     },
     "metadata": {},
     "output_type": "display_data"
    },
    {
     "data": {
      "text/plain": [
       "<Figure size 640x480 with 0 Axes>"
      ]
     },
     "metadata": {},
     "output_type": "display_data"
    },
    {
     "data": {
      "text/plain": [
       "<Figure size 640x480 with 0 Axes>"
      ]
     },
     "metadata": {},
     "output_type": "display_data"
    },
    {
     "data": {
      "text/plain": [
       "<Figure size 640x480 with 0 Axes>"
      ]
     },
     "metadata": {},
     "output_type": "display_data"
    },
    {
     "data": {
      "text/plain": [
       "<Figure size 640x480 with 0 Axes>"
      ]
     },
     "metadata": {},
     "output_type": "display_data"
    },
    {
     "data": {
      "text/plain": [
       "<Figure size 640x480 with 0 Axes>"
      ]
     },
     "metadata": {},
     "output_type": "display_data"
    },
    {
     "data": {
      "text/plain": [
       "<Figure size 640x480 with 0 Axes>"
      ]
     },
     "metadata": {},
     "output_type": "display_data"
    },
    {
     "data": {
      "text/plain": [
       "<Figure size 640x480 with 0 Axes>"
      ]
     },
     "metadata": {},
     "output_type": "display_data"
    },
    {
     "data": {
      "text/plain": [
       "<Figure size 640x480 with 0 Axes>"
      ]
     },
     "metadata": {},
     "output_type": "display_data"
    },
    {
     "data": {
      "text/plain": [
       "<Figure size 640x480 with 0 Axes>"
      ]
     },
     "metadata": {},
     "output_type": "display_data"
    },
    {
     "data": {
      "text/plain": [
       "<Figure size 640x480 with 0 Axes>"
      ]
     },
     "metadata": {},
     "output_type": "display_data"
    },
    {
     "data": {
      "text/plain": [
       "<Figure size 640x480 with 0 Axes>"
      ]
     },
     "metadata": {},
     "output_type": "display_data"
    },
    {
     "data": {
      "text/plain": [
       "<Figure size 640x480 with 0 Axes>"
      ]
     },
     "metadata": {},
     "output_type": "display_data"
    },
    {
     "data": {
      "text/plain": [
       "<Figure size 640x480 with 0 Axes>"
      ]
     },
     "metadata": {},
     "output_type": "display_data"
    },
    {
     "data": {
      "text/plain": [
       "<Figure size 640x480 with 0 Axes>"
      ]
     },
     "metadata": {},
     "output_type": "display_data"
    },
    {
     "data": {
      "text/plain": [
       "<Figure size 640x480 with 0 Axes>"
      ]
     },
     "metadata": {},
     "output_type": "display_data"
    },
    {
     "data": {
      "text/plain": [
       "<Figure size 640x480 with 0 Axes>"
      ]
     },
     "metadata": {},
     "output_type": "display_data"
    },
    {
     "data": {
      "text/plain": [
       "<Figure size 640x480 with 0 Axes>"
      ]
     },
     "metadata": {},
     "output_type": "display_data"
    },
    {
     "data": {
      "text/plain": [
       "<Figure size 640x480 with 0 Axes>"
      ]
     },
     "metadata": {},
     "output_type": "display_data"
    },
    {
     "data": {
      "text/plain": [
       "<Figure size 640x480 with 0 Axes>"
      ]
     },
     "metadata": {},
     "output_type": "display_data"
    },
    {
     "data": {
      "text/plain": [
       "<Figure size 640x480 with 0 Axes>"
      ]
     },
     "metadata": {},
     "output_type": "display_data"
    },
    {
     "data": {
      "text/plain": [
       "<Figure size 640x480 with 0 Axes>"
      ]
     },
     "metadata": {},
     "output_type": "display_data"
    },
    {
     "data": {
      "text/plain": [
       "<Figure size 640x480 with 0 Axes>"
      ]
     },
     "metadata": {},
     "output_type": "display_data"
    },
    {
     "data": {
      "text/plain": [
       "<Figure size 640x480 with 0 Axes>"
      ]
     },
     "metadata": {},
     "output_type": "display_data"
    },
    {
     "data": {
      "text/plain": [
       "<Figure size 640x480 with 0 Axes>"
      ]
     },
     "metadata": {},
     "output_type": "display_data"
    },
    {
     "data": {
      "text/plain": [
       "<Figure size 640x480 with 0 Axes>"
      ]
     },
     "metadata": {},
     "output_type": "display_data"
    },
    {
     "data": {
      "text/plain": [
       "<Figure size 640x480 with 0 Axes>"
      ]
     },
     "metadata": {},
     "output_type": "display_data"
    },
    {
     "data": {
      "text/plain": [
       "<Figure size 640x480 with 0 Axes>"
      ]
     },
     "metadata": {},
     "output_type": "display_data"
    },
    {
     "data": {
      "text/plain": [
       "<Figure size 640x480 with 0 Axes>"
      ]
     },
     "metadata": {},
     "output_type": "display_data"
    },
    {
     "data": {
      "text/plain": [
       "<Figure size 640x480 with 0 Axes>"
      ]
     },
     "metadata": {},
     "output_type": "display_data"
    },
    {
     "data": {
      "text/plain": [
       "<Figure size 640x480 with 0 Axes>"
      ]
     },
     "metadata": {},
     "output_type": "display_data"
    },
    {
     "data": {
      "text/plain": [
       "<Figure size 640x480 with 0 Axes>"
      ]
     },
     "metadata": {},
     "output_type": "display_data"
    },
    {
     "data": {
      "text/plain": [
       "<Figure size 640x480 with 0 Axes>"
      ]
     },
     "metadata": {},
     "output_type": "display_data"
    },
    {
     "data": {
      "text/plain": [
       "<Figure size 640x480 with 0 Axes>"
      ]
     },
     "metadata": {},
     "output_type": "display_data"
    },
    {
     "data": {
      "text/plain": [
       "<Figure size 640x480 with 0 Axes>"
      ]
     },
     "metadata": {},
     "output_type": "display_data"
    },
    {
     "data": {
      "text/plain": [
       "<Figure size 640x480 with 0 Axes>"
      ]
     },
     "metadata": {},
     "output_type": "display_data"
    },
    {
     "data": {
      "text/plain": [
       "<Figure size 640x480 with 0 Axes>"
      ]
     },
     "metadata": {},
     "output_type": "display_data"
    },
    {
     "data": {
      "text/plain": [
       "<Figure size 640x480 with 0 Axes>"
      ]
     },
     "metadata": {},
     "output_type": "display_data"
    },
    {
     "data": {
      "text/plain": [
       "<Figure size 640x480 with 0 Axes>"
      ]
     },
     "metadata": {},
     "output_type": "display_data"
    },
    {
     "data": {
      "text/plain": [
       "<Figure size 640x480 with 0 Axes>"
      ]
     },
     "metadata": {},
     "output_type": "display_data"
    },
    {
     "data": {
      "text/plain": [
       "<Figure size 640x480 with 0 Axes>"
      ]
     },
     "metadata": {},
     "output_type": "display_data"
    },
    {
     "data": {
      "text/plain": [
       "<Figure size 640x480 with 0 Axes>"
      ]
     },
     "metadata": {},
     "output_type": "display_data"
    },
    {
     "data": {
      "text/plain": [
       "<Figure size 640x480 with 0 Axes>"
      ]
     },
     "metadata": {},
     "output_type": "display_data"
    },
    {
     "data": {
      "text/plain": [
       "<Figure size 640x480 with 0 Axes>"
      ]
     },
     "metadata": {},
     "output_type": "display_data"
    },
    {
     "data": {
      "text/plain": [
       "<Figure size 640x480 with 0 Axes>"
      ]
     },
     "metadata": {},
     "output_type": "display_data"
    },
    {
     "data": {
      "text/plain": [
       "<Figure size 640x480 with 0 Axes>"
      ]
     },
     "metadata": {},
     "output_type": "display_data"
    },
    {
     "data": {
      "text/plain": [
       "<Figure size 640x480 with 0 Axes>"
      ]
     },
     "metadata": {},
     "output_type": "display_data"
    },
    {
     "data": {
      "text/plain": [
       "<Figure size 640x480 with 0 Axes>"
      ]
     },
     "metadata": {},
     "output_type": "display_data"
    },
    {
     "data": {
      "text/plain": [
       "<Figure size 640x480 with 0 Axes>"
      ]
     },
     "metadata": {},
     "output_type": "display_data"
    },
    {
     "data": {
      "text/plain": [
       "<Figure size 640x480 with 0 Axes>"
      ]
     },
     "metadata": {},
     "output_type": "display_data"
    },
    {
     "data": {
      "text/plain": [
       "<Figure size 640x480 with 0 Axes>"
      ]
     },
     "metadata": {},
     "output_type": "display_data"
    },
    {
     "data": {
      "text/plain": [
       "<Figure size 640x480 with 0 Axes>"
      ]
     },
     "metadata": {},
     "output_type": "display_data"
    },
    {
     "data": {
      "text/plain": [
       "<Figure size 640x480 with 0 Axes>"
      ]
     },
     "metadata": {},
     "output_type": "display_data"
    },
    {
     "data": {
      "text/plain": [
       "<Figure size 640x480 with 0 Axes>"
      ]
     },
     "metadata": {},
     "output_type": "display_data"
    },
    {
     "data": {
      "text/plain": [
       "<Figure size 640x480 with 0 Axes>"
      ]
     },
     "metadata": {},
     "output_type": "display_data"
    },
    {
     "data": {
      "text/plain": [
       "<Figure size 640x480 with 0 Axes>"
      ]
     },
     "metadata": {},
     "output_type": "display_data"
    },
    {
     "data": {
      "text/plain": [
       "<Figure size 640x480 with 0 Axes>"
      ]
     },
     "metadata": {},
     "output_type": "display_data"
    },
    {
     "data": {
      "text/plain": [
       "<Figure size 640x480 with 0 Axes>"
      ]
     },
     "metadata": {},
     "output_type": "display_data"
    },
    {
     "data": {
      "text/plain": [
       "<Figure size 640x480 with 0 Axes>"
      ]
     },
     "metadata": {},
     "output_type": "display_data"
    },
    {
     "data": {
      "text/plain": [
       "<Figure size 640x480 with 0 Axes>"
      ]
     },
     "metadata": {},
     "output_type": "display_data"
    },
    {
     "data": {
      "text/plain": [
       "<Figure size 640x480 with 0 Axes>"
      ]
     },
     "metadata": {},
     "output_type": "display_data"
    },
    {
     "data": {
      "text/plain": [
       "<Figure size 640x480 with 0 Axes>"
      ]
     },
     "metadata": {},
     "output_type": "display_data"
    },
    {
     "data": {
      "text/plain": [
       "<Figure size 640x480 with 0 Axes>"
      ]
     },
     "metadata": {},
     "output_type": "display_data"
    },
    {
     "data": {
      "text/plain": [
       "<Figure size 640x480 with 0 Axes>"
      ]
     },
     "metadata": {},
     "output_type": "display_data"
    },
    {
     "data": {
      "text/plain": [
       "<Figure size 640x480 with 0 Axes>"
      ]
     },
     "metadata": {},
     "output_type": "display_data"
    },
    {
     "data": {
      "text/plain": [
       "<Figure size 640x480 with 0 Axes>"
      ]
     },
     "metadata": {},
     "output_type": "display_data"
    },
    {
     "data": {
      "text/plain": [
       "<Figure size 640x480 with 0 Axes>"
      ]
     },
     "metadata": {},
     "output_type": "display_data"
    },
    {
     "data": {
      "text/plain": [
       "<Figure size 640x480 with 0 Axes>"
      ]
     },
     "metadata": {},
     "output_type": "display_data"
    },
    {
     "data": {
      "text/plain": [
       "<Figure size 640x480 with 0 Axes>"
      ]
     },
     "metadata": {},
     "output_type": "display_data"
    },
    {
     "data": {
      "text/plain": [
       "<Figure size 640x480 with 0 Axes>"
      ]
     },
     "metadata": {},
     "output_type": "display_data"
    },
    {
     "data": {
      "text/plain": [
       "<Figure size 640x480 with 0 Axes>"
      ]
     },
     "metadata": {},
     "output_type": "display_data"
    },
    {
     "data": {
      "text/plain": [
       "<Figure size 640x480 with 0 Axes>"
      ]
     },
     "metadata": {},
     "output_type": "display_data"
    },
    {
     "data": {
      "text/plain": [
       "<Figure size 640x480 with 0 Axes>"
      ]
     },
     "metadata": {},
     "output_type": "display_data"
    },
    {
     "data": {
      "text/plain": [
       "<Figure size 640x480 with 0 Axes>"
      ]
     },
     "metadata": {},
     "output_type": "display_data"
    },
    {
     "data": {
      "text/plain": [
       "<Figure size 640x480 with 0 Axes>"
      ]
     },
     "metadata": {},
     "output_type": "display_data"
    },
    {
     "data": {
      "text/plain": [
       "<Figure size 640x480 with 0 Axes>"
      ]
     },
     "metadata": {},
     "output_type": "display_data"
    },
    {
     "data": {
      "text/plain": [
       "<Figure size 640x480 with 0 Axes>"
      ]
     },
     "metadata": {},
     "output_type": "display_data"
    },
    {
     "data": {
      "text/plain": [
       "<Figure size 640x480 with 0 Axes>"
      ]
     },
     "metadata": {},
     "output_type": "display_data"
    },
    {
     "data": {
      "text/plain": [
       "<Figure size 640x480 with 0 Axes>"
      ]
     },
     "metadata": {},
     "output_type": "display_data"
    },
    {
     "data": {
      "text/plain": [
       "<Figure size 640x480 with 0 Axes>"
      ]
     },
     "metadata": {},
     "output_type": "display_data"
    },
    {
     "data": {
      "text/plain": [
       "<Figure size 640x480 with 0 Axes>"
      ]
     },
     "metadata": {},
     "output_type": "display_data"
    },
    {
     "data": {
      "text/plain": [
       "<Figure size 640x480 with 0 Axes>"
      ]
     },
     "metadata": {},
     "output_type": "display_data"
    },
    {
     "data": {
      "text/plain": [
       "<Figure size 640x480 with 0 Axes>"
      ]
     },
     "metadata": {},
     "output_type": "display_data"
    },
    {
     "data": {
      "text/plain": [
       "<Figure size 640x480 with 0 Axes>"
      ]
     },
     "metadata": {},
     "output_type": "display_data"
    },
    {
     "data": {
      "text/plain": [
       "<Figure size 640x480 with 0 Axes>"
      ]
     },
     "metadata": {},
     "output_type": "display_data"
    },
    {
     "data": {
      "text/plain": [
       "<Figure size 640x480 with 0 Axes>"
      ]
     },
     "metadata": {},
     "output_type": "display_data"
    },
    {
     "data": {
      "text/plain": [
       "<Figure size 640x480 with 0 Axes>"
      ]
     },
     "metadata": {},
     "output_type": "display_data"
    },
    {
     "data": {
      "text/plain": [
       "<Figure size 640x480 with 0 Axes>"
      ]
     },
     "metadata": {},
     "output_type": "display_data"
    },
    {
     "data": {
      "text/plain": [
       "<Figure size 640x480 with 0 Axes>"
      ]
     },
     "metadata": {},
     "output_type": "display_data"
    },
    {
     "data": {
      "text/plain": [
       "<Figure size 640x480 with 0 Axes>"
      ]
     },
     "metadata": {},
     "output_type": "display_data"
    },
    {
     "data": {
      "text/plain": [
       "<Figure size 640x480 with 0 Axes>"
      ]
     },
     "metadata": {},
     "output_type": "display_data"
    },
    {
     "data": {
      "text/plain": [
       "<Figure size 640x480 with 0 Axes>"
      ]
     },
     "metadata": {},
     "output_type": "display_data"
    },
    {
     "data": {
      "text/plain": [
       "<Figure size 640x480 with 0 Axes>"
      ]
     },
     "metadata": {},
     "output_type": "display_data"
    },
    {
     "data": {
      "text/plain": [
       "<Figure size 640x480 with 0 Axes>"
      ]
     },
     "metadata": {},
     "output_type": "display_data"
    },
    {
     "data": {
      "text/plain": [
       "<Figure size 640x480 with 0 Axes>"
      ]
     },
     "metadata": {},
     "output_type": "display_data"
    },
    {
     "data": {
      "text/plain": [
       "<Figure size 640x480 with 0 Axes>"
      ]
     },
     "metadata": {},
     "output_type": "display_data"
    },
    {
     "data": {
      "text/plain": [
       "<Figure size 640x480 with 0 Axes>"
      ]
     },
     "metadata": {},
     "output_type": "display_data"
    },
    {
     "data": {
      "text/plain": [
       "<Figure size 640x480 with 0 Axes>"
      ]
     },
     "metadata": {},
     "output_type": "display_data"
    },
    {
     "data": {
      "text/plain": [
       "<Figure size 640x480 with 0 Axes>"
      ]
     },
     "metadata": {},
     "output_type": "display_data"
    },
    {
     "data": {
      "text/plain": [
       "<Figure size 640x480 with 0 Axes>"
      ]
     },
     "metadata": {},
     "output_type": "display_data"
    },
    {
     "data": {
      "text/plain": [
       "<Figure size 640x480 with 0 Axes>"
      ]
     },
     "metadata": {},
     "output_type": "display_data"
    },
    {
     "data": {
      "text/plain": [
       "<Figure size 640x480 with 0 Axes>"
      ]
     },
     "metadata": {},
     "output_type": "display_data"
    },
    {
     "data": {
      "text/plain": [
       "<Figure size 640x480 with 0 Axes>"
      ]
     },
     "metadata": {},
     "output_type": "display_data"
    },
    {
     "data": {
      "text/plain": [
       "<Figure size 640x480 with 0 Axes>"
      ]
     },
     "metadata": {},
     "output_type": "display_data"
    },
    {
     "data": {
      "text/plain": [
       "<Figure size 640x480 with 0 Axes>"
      ]
     },
     "metadata": {},
     "output_type": "display_data"
    },
    {
     "data": {
      "text/plain": [
       "<Figure size 640x480 with 0 Axes>"
      ]
     },
     "metadata": {},
     "output_type": "display_data"
    },
    {
     "data": {
      "text/plain": [
       "<Figure size 640x480 with 0 Axes>"
      ]
     },
     "metadata": {},
     "output_type": "display_data"
    },
    {
     "data": {
      "text/plain": [
       "<Figure size 640x480 with 0 Axes>"
      ]
     },
     "metadata": {},
     "output_type": "display_data"
    },
    {
     "data": {
      "text/plain": [
       "<Figure size 640x480 with 0 Axes>"
      ]
     },
     "metadata": {},
     "output_type": "display_data"
    },
    {
     "data": {
      "text/plain": [
       "<Figure size 640x480 with 0 Axes>"
      ]
     },
     "metadata": {},
     "output_type": "display_data"
    },
    {
     "data": {
      "text/plain": [
       "<Figure size 640x480 with 0 Axes>"
      ]
     },
     "metadata": {},
     "output_type": "display_data"
    },
    {
     "data": {
      "text/plain": [
       "<Figure size 640x480 with 0 Axes>"
      ]
     },
     "metadata": {},
     "output_type": "display_data"
    },
    {
     "data": {
      "text/plain": [
       "<Figure size 640x480 with 0 Axes>"
      ]
     },
     "metadata": {},
     "output_type": "display_data"
    },
    {
     "data": {
      "text/plain": [
       "<Figure size 640x480 with 0 Axes>"
      ]
     },
     "metadata": {},
     "output_type": "display_data"
    },
    {
     "data": {
      "text/plain": [
       "<Figure size 640x480 with 0 Axes>"
      ]
     },
     "metadata": {},
     "output_type": "display_data"
    },
    {
     "data": {
      "text/plain": [
       "<Figure size 640x480 with 0 Axes>"
      ]
     },
     "metadata": {},
     "output_type": "display_data"
    },
    {
     "data": {
      "text/plain": [
       "<Figure size 640x480 with 0 Axes>"
      ]
     },
     "metadata": {},
     "output_type": "display_data"
    },
    {
     "data": {
      "text/plain": [
       "<Figure size 640x480 with 0 Axes>"
      ]
     },
     "metadata": {},
     "output_type": "display_data"
    },
    {
     "data": {
      "text/plain": [
       "<Figure size 640x480 with 0 Axes>"
      ]
     },
     "metadata": {},
     "output_type": "display_data"
    },
    {
     "data": {
      "text/plain": [
       "<Figure size 640x480 with 0 Axes>"
      ]
     },
     "metadata": {},
     "output_type": "display_data"
    },
    {
     "data": {
      "text/plain": [
       "<Figure size 640x480 with 0 Axes>"
      ]
     },
     "metadata": {},
     "output_type": "display_data"
    },
    {
     "data": {
      "text/plain": [
       "<Figure size 640x480 with 0 Axes>"
      ]
     },
     "metadata": {},
     "output_type": "display_data"
    },
    {
     "data": {
      "text/plain": [
       "<Figure size 640x480 with 0 Axes>"
      ]
     },
     "metadata": {},
     "output_type": "display_data"
    },
    {
     "data": {
      "text/plain": [
       "<Figure size 640x480 with 0 Axes>"
      ]
     },
     "metadata": {},
     "output_type": "display_data"
    },
    {
     "data": {
      "text/plain": [
       "<Figure size 640x480 with 0 Axes>"
      ]
     },
     "metadata": {},
     "output_type": "display_data"
    },
    {
     "data": {
      "text/plain": [
       "<Figure size 640x480 with 0 Axes>"
      ]
     },
     "metadata": {},
     "output_type": "display_data"
    },
    {
     "data": {
      "text/plain": [
       "<Figure size 640x480 with 0 Axes>"
      ]
     },
     "metadata": {},
     "output_type": "display_data"
    },
    {
     "data": {
      "text/plain": [
       "<Figure size 640x480 with 0 Axes>"
      ]
     },
     "metadata": {},
     "output_type": "display_data"
    },
    {
     "data": {
      "text/plain": [
       "<Figure size 640x480 with 0 Axes>"
      ]
     },
     "metadata": {},
     "output_type": "display_data"
    },
    {
     "data": {
      "text/plain": [
       "<Figure size 640x480 with 0 Axes>"
      ]
     },
     "metadata": {},
     "output_type": "display_data"
    },
    {
     "data": {
      "text/plain": [
       "<Figure size 640x480 with 0 Axes>"
      ]
     },
     "metadata": {},
     "output_type": "display_data"
    },
    {
     "data": {
      "text/plain": [
       "<Figure size 640x480 with 0 Axes>"
      ]
     },
     "metadata": {},
     "output_type": "display_data"
    },
    {
     "data": {
      "text/plain": [
       "<Figure size 640x480 with 0 Axes>"
      ]
     },
     "metadata": {},
     "output_type": "display_data"
    },
    {
     "data": {
      "text/plain": [
       "<Figure size 640x480 with 0 Axes>"
      ]
     },
     "metadata": {},
     "output_type": "display_data"
    },
    {
     "data": {
      "text/plain": [
       "<Figure size 640x480 with 0 Axes>"
      ]
     },
     "metadata": {},
     "output_type": "display_data"
    },
    {
     "data": {
      "text/plain": [
       "<Figure size 640x480 with 0 Axes>"
      ]
     },
     "metadata": {},
     "output_type": "display_data"
    },
    {
     "data": {
      "text/plain": [
       "<Figure size 640x480 with 0 Axes>"
      ]
     },
     "metadata": {},
     "output_type": "display_data"
    },
    {
     "data": {
      "text/plain": [
       "<Figure size 640x480 with 0 Axes>"
      ]
     },
     "metadata": {},
     "output_type": "display_data"
    },
    {
     "data": {
      "text/plain": [
       "<Figure size 640x480 with 0 Axes>"
      ]
     },
     "metadata": {},
     "output_type": "display_data"
    },
    {
     "data": {
      "text/plain": [
       "<Figure size 640x480 with 0 Axes>"
      ]
     },
     "metadata": {},
     "output_type": "display_data"
    },
    {
     "data": {
      "text/plain": [
       "<Figure size 640x480 with 0 Axes>"
      ]
     },
     "metadata": {},
     "output_type": "display_data"
    },
    {
     "data": {
      "text/plain": [
       "<Figure size 640x480 with 0 Axes>"
      ]
     },
     "metadata": {},
     "output_type": "display_data"
    },
    {
     "data": {
      "text/plain": [
       "<Figure size 640x480 with 0 Axes>"
      ]
     },
     "metadata": {},
     "output_type": "display_data"
    },
    {
     "data": {
      "text/plain": [
       "<Figure size 640x480 with 0 Axes>"
      ]
     },
     "metadata": {},
     "output_type": "display_data"
    },
    {
     "data": {
      "text/plain": [
       "<Figure size 640x480 with 0 Axes>"
      ]
     },
     "metadata": {},
     "output_type": "display_data"
    },
    {
     "data": {
      "text/plain": [
       "<Figure size 640x480 with 0 Axes>"
      ]
     },
     "metadata": {},
     "output_type": "display_data"
    },
    {
     "data": {
      "text/plain": [
       "<Figure size 640x480 with 0 Axes>"
      ]
     },
     "metadata": {},
     "output_type": "display_data"
    },
    {
     "data": {
      "text/plain": [
       "<Figure size 640x480 with 0 Axes>"
      ]
     },
     "metadata": {},
     "output_type": "display_data"
    },
    {
     "data": {
      "text/plain": [
       "<Figure size 640x480 with 0 Axes>"
      ]
     },
     "metadata": {},
     "output_type": "display_data"
    },
    {
     "data": {
      "text/plain": [
       "<Figure size 640x480 with 0 Axes>"
      ]
     },
     "metadata": {},
     "output_type": "display_data"
    },
    {
     "data": {
      "text/plain": [
       "<Figure size 640x480 with 0 Axes>"
      ]
     },
     "metadata": {},
     "output_type": "display_data"
    },
    {
     "data": {
      "text/plain": [
       "<Figure size 640x480 with 0 Axes>"
      ]
     },
     "metadata": {},
     "output_type": "display_data"
    },
    {
     "data": {
      "text/plain": [
       "<Figure size 640x480 with 0 Axes>"
      ]
     },
     "metadata": {},
     "output_type": "display_data"
    },
    {
     "data": {
      "text/plain": [
       "<Figure size 640x480 with 0 Axes>"
      ]
     },
     "metadata": {},
     "output_type": "display_data"
    },
    {
     "data": {
      "text/plain": [
       "<Figure size 640x480 with 0 Axes>"
      ]
     },
     "metadata": {},
     "output_type": "display_data"
    },
    {
     "data": {
      "text/plain": [
       "<Figure size 640x480 with 0 Axes>"
      ]
     },
     "metadata": {},
     "output_type": "display_data"
    },
    {
     "data": {
      "text/plain": [
       "<Figure size 640x480 with 0 Axes>"
      ]
     },
     "metadata": {},
     "output_type": "display_data"
    },
    {
     "data": {
      "text/plain": [
       "<Figure size 640x480 with 0 Axes>"
      ]
     },
     "metadata": {},
     "output_type": "display_data"
    },
    {
     "data": {
      "text/plain": [
       "<Figure size 640x480 with 0 Axes>"
      ]
     },
     "metadata": {},
     "output_type": "display_data"
    },
    {
     "data": {
      "text/plain": [
       "<Figure size 640x480 with 0 Axes>"
      ]
     },
     "metadata": {},
     "output_type": "display_data"
    },
    {
     "data": {
      "text/plain": [
       "<Figure size 640x480 with 0 Axes>"
      ]
     },
     "metadata": {},
     "output_type": "display_data"
    },
    {
     "data": {
      "text/plain": [
       "<Figure size 640x480 with 0 Axes>"
      ]
     },
     "metadata": {},
     "output_type": "display_data"
    },
    {
     "data": {
      "text/plain": [
       "<Figure size 640x480 with 0 Axes>"
      ]
     },
     "metadata": {},
     "output_type": "display_data"
    },
    {
     "data": {
      "text/plain": [
       "<Figure size 640x480 with 0 Axes>"
      ]
     },
     "metadata": {},
     "output_type": "display_data"
    },
    {
     "data": {
      "text/plain": [
       "<Figure size 640x480 with 0 Axes>"
      ]
     },
     "metadata": {},
     "output_type": "display_data"
    },
    {
     "data": {
      "text/plain": [
       "<Figure size 640x480 with 0 Axes>"
      ]
     },
     "metadata": {},
     "output_type": "display_data"
    },
    {
     "data": {
      "text/plain": [
       "<Figure size 640x480 with 0 Axes>"
      ]
     },
     "metadata": {},
     "output_type": "display_data"
    },
    {
     "data": {
      "text/plain": [
       "<Figure size 640x480 with 0 Axes>"
      ]
     },
     "metadata": {},
     "output_type": "display_data"
    },
    {
     "data": {
      "text/plain": [
       "<Figure size 640x480 with 0 Axes>"
      ]
     },
     "metadata": {},
     "output_type": "display_data"
    },
    {
     "data": {
      "text/plain": [
       "<Figure size 640x480 with 0 Axes>"
      ]
     },
     "metadata": {},
     "output_type": "display_data"
    },
    {
     "data": {
      "text/plain": [
       "<Figure size 640x480 with 0 Axes>"
      ]
     },
     "metadata": {},
     "output_type": "display_data"
    },
    {
     "data": {
      "text/plain": [
       "<Figure size 640x480 with 0 Axes>"
      ]
     },
     "metadata": {},
     "output_type": "display_data"
    },
    {
     "data": {
      "text/plain": [
       "<Figure size 640x480 with 0 Axes>"
      ]
     },
     "metadata": {},
     "output_type": "display_data"
    },
    {
     "data": {
      "text/plain": [
       "<Figure size 640x480 with 0 Axes>"
      ]
     },
     "metadata": {},
     "output_type": "display_data"
    },
    {
     "data": {
      "text/plain": [
       "<Figure size 640x480 with 0 Axes>"
      ]
     },
     "metadata": {},
     "output_type": "display_data"
    },
    {
     "data": {
      "text/plain": [
       "<Figure size 640x480 with 0 Axes>"
      ]
     },
     "metadata": {},
     "output_type": "display_data"
    },
    {
     "data": {
      "text/plain": [
       "<Figure size 640x480 with 0 Axes>"
      ]
     },
     "metadata": {},
     "output_type": "display_data"
    },
    {
     "data": {
      "text/plain": [
       "<Figure size 640x480 with 0 Axes>"
      ]
     },
     "metadata": {},
     "output_type": "display_data"
    },
    {
     "data": {
      "text/plain": [
       "<Figure size 640x480 with 0 Axes>"
      ]
     },
     "metadata": {},
     "output_type": "display_data"
    },
    {
     "data": {
      "text/plain": [
       "<Figure size 640x480 with 0 Axes>"
      ]
     },
     "metadata": {},
     "output_type": "display_data"
    },
    {
     "data": {
      "text/plain": [
       "<Figure size 640x480 with 0 Axes>"
      ]
     },
     "metadata": {},
     "output_type": "display_data"
    },
    {
     "data": {
      "text/plain": [
       "<Figure size 640x480 with 0 Axes>"
      ]
     },
     "metadata": {},
     "output_type": "display_data"
    },
    {
     "data": {
      "text/plain": [
       "<Figure size 640x480 with 0 Axes>"
      ]
     },
     "metadata": {},
     "output_type": "display_data"
    },
    {
     "data": {
      "text/plain": [
       "<Figure size 640x480 with 0 Axes>"
      ]
     },
     "metadata": {},
     "output_type": "display_data"
    },
    {
     "data": {
      "text/plain": [
       "<Figure size 640x480 with 0 Axes>"
      ]
     },
     "metadata": {},
     "output_type": "display_data"
    },
    {
     "data": {
      "text/plain": [
       "<Figure size 640x480 with 0 Axes>"
      ]
     },
     "metadata": {},
     "output_type": "display_data"
    },
    {
     "data": {
      "text/plain": [
       "<Figure size 640x480 with 0 Axes>"
      ]
     },
     "metadata": {},
     "output_type": "display_data"
    },
    {
     "data": {
      "text/plain": [
       "<Figure size 640x480 with 0 Axes>"
      ]
     },
     "metadata": {},
     "output_type": "display_data"
    },
    {
     "data": {
      "text/plain": [
       "<Figure size 640x480 with 0 Axes>"
      ]
     },
     "metadata": {},
     "output_type": "display_data"
    },
    {
     "data": {
      "text/plain": [
       "<Figure size 640x480 with 0 Axes>"
      ]
     },
     "metadata": {},
     "output_type": "display_data"
    },
    {
     "data": {
      "text/plain": [
       "<Figure size 640x480 with 0 Axes>"
      ]
     },
     "metadata": {},
     "output_type": "display_data"
    },
    {
     "data": {
      "text/plain": [
       "<Figure size 640x480 with 0 Axes>"
      ]
     },
     "metadata": {},
     "output_type": "display_data"
    },
    {
     "data": {
      "text/plain": [
       "<Figure size 640x480 with 0 Axes>"
      ]
     },
     "metadata": {},
     "output_type": "display_data"
    },
    {
     "data": {
      "text/plain": [
       "<Figure size 640x480 with 0 Axes>"
      ]
     },
     "metadata": {},
     "output_type": "display_data"
    },
    {
     "data": {
      "text/plain": [
       "<Figure size 640x480 with 0 Axes>"
      ]
     },
     "metadata": {},
     "output_type": "display_data"
    },
    {
     "data": {
      "text/plain": [
       "<Figure size 640x480 with 0 Axes>"
      ]
     },
     "metadata": {},
     "output_type": "display_data"
    },
    {
     "data": {
      "text/plain": [
       "<Figure size 640x480 with 0 Axes>"
      ]
     },
     "metadata": {},
     "output_type": "display_data"
    },
    {
     "data": {
      "text/plain": [
       "<Figure size 640x480 with 0 Axes>"
      ]
     },
     "metadata": {},
     "output_type": "display_data"
    },
    {
     "data": {
      "text/plain": [
       "<Figure size 640x480 with 0 Axes>"
      ]
     },
     "metadata": {},
     "output_type": "display_data"
    },
    {
     "data": {
      "text/plain": [
       "<Figure size 640x480 with 0 Axes>"
      ]
     },
     "metadata": {},
     "output_type": "display_data"
    },
    {
     "data": {
      "text/plain": [
       "<Figure size 640x480 with 0 Axes>"
      ]
     },
     "metadata": {},
     "output_type": "display_data"
    },
    {
     "data": {
      "text/plain": [
       "<Figure size 640x480 with 0 Axes>"
      ]
     },
     "metadata": {},
     "output_type": "display_data"
    },
    {
     "data": {
      "text/plain": [
       "<Figure size 640x480 with 0 Axes>"
      ]
     },
     "metadata": {},
     "output_type": "display_data"
    },
    {
     "data": {
      "text/plain": [
       "<Figure size 640x480 with 0 Axes>"
      ]
     },
     "metadata": {},
     "output_type": "display_data"
    },
    {
     "data": {
      "text/plain": [
       "<Figure size 640x480 with 0 Axes>"
      ]
     },
     "metadata": {},
     "output_type": "display_data"
    },
    {
     "data": {
      "text/plain": [
       "<Figure size 640x480 with 0 Axes>"
      ]
     },
     "metadata": {},
     "output_type": "display_data"
    },
    {
     "data": {
      "text/plain": [
       "<Figure size 640x480 with 0 Axes>"
      ]
     },
     "metadata": {},
     "output_type": "display_data"
    },
    {
     "data": {
      "text/plain": [
       "<Figure size 640x480 with 0 Axes>"
      ]
     },
     "metadata": {},
     "output_type": "display_data"
    },
    {
     "data": {
      "text/plain": [
       "<Figure size 640x480 with 0 Axes>"
      ]
     },
     "metadata": {},
     "output_type": "display_data"
    },
    {
     "data": {
      "text/plain": [
       "<Figure size 640x480 with 0 Axes>"
      ]
     },
     "metadata": {},
     "output_type": "display_data"
    },
    {
     "data": {
      "text/plain": [
       "<Figure size 640x480 with 0 Axes>"
      ]
     },
     "metadata": {},
     "output_type": "display_data"
    },
    {
     "data": {
      "text/plain": [
       "<Figure size 640x480 with 0 Axes>"
      ]
     },
     "metadata": {},
     "output_type": "display_data"
    },
    {
     "data": {
      "text/plain": [
       "<Figure size 640x480 with 0 Axes>"
      ]
     },
     "metadata": {},
     "output_type": "display_data"
    },
    {
     "data": {
      "text/plain": [
       "<Figure size 640x480 with 0 Axes>"
      ]
     },
     "metadata": {},
     "output_type": "display_data"
    },
    {
     "data": {
      "text/plain": [
       "<Figure size 640x480 with 0 Axes>"
      ]
     },
     "metadata": {},
     "output_type": "display_data"
    },
    {
     "data": {
      "text/plain": [
       "<Figure size 640x480 with 0 Axes>"
      ]
     },
     "metadata": {},
     "output_type": "display_data"
    },
    {
     "data": {
      "text/plain": [
       "<Figure size 640x480 with 0 Axes>"
      ]
     },
     "metadata": {},
     "output_type": "display_data"
    },
    {
     "data": {
      "text/plain": [
       "<Figure size 640x480 with 0 Axes>"
      ]
     },
     "metadata": {},
     "output_type": "display_data"
    },
    {
     "data": {
      "text/plain": [
       "<Figure size 640x480 with 0 Axes>"
      ]
     },
     "metadata": {},
     "output_type": "display_data"
    },
    {
     "data": {
      "text/plain": [
       "<Figure size 640x480 with 0 Axes>"
      ]
     },
     "metadata": {},
     "output_type": "display_data"
    },
    {
     "data": {
      "text/plain": [
       "<Figure size 640x480 with 0 Axes>"
      ]
     },
     "metadata": {},
     "output_type": "display_data"
    },
    {
     "data": {
      "text/plain": [
       "<Figure size 640x480 with 0 Axes>"
      ]
     },
     "metadata": {},
     "output_type": "display_data"
    },
    {
     "data": {
      "text/plain": [
       "<Figure size 640x480 with 0 Axes>"
      ]
     },
     "metadata": {},
     "output_type": "display_data"
    },
    {
     "data": {
      "text/plain": [
       "<Figure size 640x480 with 0 Axes>"
      ]
     },
     "metadata": {},
     "output_type": "display_data"
    },
    {
     "data": {
      "text/plain": [
       "<Figure size 640x480 with 0 Axes>"
      ]
     },
     "metadata": {},
     "output_type": "display_data"
    },
    {
     "data": {
      "text/plain": [
       "<Figure size 640x480 with 0 Axes>"
      ]
     },
     "metadata": {},
     "output_type": "display_data"
    },
    {
     "data": {
      "text/plain": [
       "<Figure size 640x480 with 0 Axes>"
      ]
     },
     "metadata": {},
     "output_type": "display_data"
    },
    {
     "data": {
      "text/plain": [
       "<Figure size 640x480 with 0 Axes>"
      ]
     },
     "metadata": {},
     "output_type": "display_data"
    },
    {
     "data": {
      "text/plain": [
       "<Figure size 640x480 with 0 Axes>"
      ]
     },
     "metadata": {},
     "output_type": "display_data"
    },
    {
     "data": {
      "text/plain": [
       "<Figure size 640x480 with 0 Axes>"
      ]
     },
     "metadata": {},
     "output_type": "display_data"
    },
    {
     "data": {
      "text/plain": [
       "<Figure size 640x480 with 0 Axes>"
      ]
     },
     "metadata": {},
     "output_type": "display_data"
    },
    {
     "data": {
      "text/plain": [
       "<Figure size 640x480 with 0 Axes>"
      ]
     },
     "metadata": {},
     "output_type": "display_data"
    },
    {
     "data": {
      "text/plain": [
       "<Figure size 640x480 with 0 Axes>"
      ]
     },
     "metadata": {},
     "output_type": "display_data"
    },
    {
     "data": {
      "text/plain": [
       "<Figure size 640x480 with 0 Axes>"
      ]
     },
     "metadata": {},
     "output_type": "display_data"
    },
    {
     "data": {
      "text/plain": [
       "<Figure size 640x480 with 0 Axes>"
      ]
     },
     "metadata": {},
     "output_type": "display_data"
    },
    {
     "data": {
      "text/plain": [
       "<Figure size 640x480 with 0 Axes>"
      ]
     },
     "metadata": {},
     "output_type": "display_data"
    },
    {
     "data": {
      "text/plain": [
       "<Figure size 640x480 with 0 Axes>"
      ]
     },
     "metadata": {},
     "output_type": "display_data"
    },
    {
     "data": {
      "text/plain": [
       "<Figure size 640x480 with 0 Axes>"
      ]
     },
     "metadata": {},
     "output_type": "display_data"
    },
    {
     "data": {
      "text/plain": [
       "<Figure size 640x480 with 0 Axes>"
      ]
     },
     "metadata": {},
     "output_type": "display_data"
    },
    {
     "data": {
      "text/plain": [
       "<Figure size 640x480 with 0 Axes>"
      ]
     },
     "metadata": {},
     "output_type": "display_data"
    },
    {
     "data": {
      "text/plain": [
       "<Figure size 640x480 with 0 Axes>"
      ]
     },
     "metadata": {},
     "output_type": "display_data"
    },
    {
     "data": {
      "text/plain": [
       "<Figure size 640x480 with 0 Axes>"
      ]
     },
     "metadata": {},
     "output_type": "display_data"
    },
    {
     "data": {
      "text/plain": [
       "<Figure size 640x480 with 0 Axes>"
      ]
     },
     "metadata": {},
     "output_type": "display_data"
    },
    {
     "data": {
      "text/plain": [
       "<Figure size 640x480 with 0 Axes>"
      ]
     },
     "metadata": {},
     "output_type": "display_data"
    },
    {
     "data": {
      "text/plain": [
       "<Figure size 640x480 with 0 Axes>"
      ]
     },
     "metadata": {},
     "output_type": "display_data"
    },
    {
     "data": {
      "text/plain": [
       "<Figure size 640x480 with 0 Axes>"
      ]
     },
     "metadata": {},
     "output_type": "display_data"
    },
    {
     "data": {
      "text/plain": [
       "<Figure size 640x480 with 0 Axes>"
      ]
     },
     "metadata": {},
     "output_type": "display_data"
    },
    {
     "data": {
      "text/plain": [
       "<Figure size 640x480 with 0 Axes>"
      ]
     },
     "metadata": {},
     "output_type": "display_data"
    },
    {
     "data": {
      "text/plain": [
       "<Figure size 640x480 with 0 Axes>"
      ]
     },
     "metadata": {},
     "output_type": "display_data"
    },
    {
     "data": {
      "text/plain": [
       "<Figure size 640x480 with 0 Axes>"
      ]
     },
     "metadata": {},
     "output_type": "display_data"
    },
    {
     "data": {
      "text/plain": [
       "<Figure size 640x480 with 0 Axes>"
      ]
     },
     "metadata": {},
     "output_type": "display_data"
    },
    {
     "data": {
      "text/plain": [
       "<Figure size 640x480 with 0 Axes>"
      ]
     },
     "metadata": {},
     "output_type": "display_data"
    },
    {
     "data": {
      "text/plain": [
       "<Figure size 640x480 with 0 Axes>"
      ]
     },
     "metadata": {},
     "output_type": "display_data"
    },
    {
     "data": {
      "text/plain": [
       "<Figure size 640x480 with 0 Axes>"
      ]
     },
     "metadata": {},
     "output_type": "display_data"
    },
    {
     "data": {
      "text/plain": [
       "<Figure size 640x480 with 0 Axes>"
      ]
     },
     "metadata": {},
     "output_type": "display_data"
    },
    {
     "data": {
      "text/plain": [
       "<Figure size 640x480 with 0 Axes>"
      ]
     },
     "metadata": {},
     "output_type": "display_data"
    },
    {
     "data": {
      "text/plain": [
       "<Figure size 640x480 with 0 Axes>"
      ]
     },
     "metadata": {},
     "output_type": "display_data"
    },
    {
     "data": {
      "text/plain": [
       "<Figure size 640x480 with 0 Axes>"
      ]
     },
     "metadata": {},
     "output_type": "display_data"
    },
    {
     "data": {
      "text/plain": [
       "<Figure size 640x480 with 0 Axes>"
      ]
     },
     "metadata": {},
     "output_type": "display_data"
    },
    {
     "data": {
      "text/plain": [
       "<Figure size 640x480 with 0 Axes>"
      ]
     },
     "metadata": {},
     "output_type": "display_data"
    },
    {
     "data": {
      "text/plain": [
       "<Figure size 640x480 with 0 Axes>"
      ]
     },
     "metadata": {},
     "output_type": "display_data"
    },
    {
     "data": {
      "text/plain": [
       "<Figure size 640x480 with 0 Axes>"
      ]
     },
     "metadata": {},
     "output_type": "display_data"
    },
    {
     "data": {
      "text/plain": [
       "<Figure size 640x480 with 0 Axes>"
      ]
     },
     "metadata": {},
     "output_type": "display_data"
    },
    {
     "data": {
      "text/plain": [
       "<Figure size 640x480 with 0 Axes>"
      ]
     },
     "metadata": {},
     "output_type": "display_data"
    },
    {
     "data": {
      "text/plain": [
       "<Figure size 640x480 with 0 Axes>"
      ]
     },
     "metadata": {},
     "output_type": "display_data"
    },
    {
     "data": {
      "text/plain": [
       "<Figure size 640x480 with 0 Axes>"
      ]
     },
     "metadata": {},
     "output_type": "display_data"
    },
    {
     "data": {
      "text/plain": [
       "<Figure size 640x480 with 0 Axes>"
      ]
     },
     "metadata": {},
     "output_type": "display_data"
    },
    {
     "data": {
      "text/plain": [
       "<Figure size 640x480 with 0 Axes>"
      ]
     },
     "metadata": {},
     "output_type": "display_data"
    },
    {
     "data": {
      "text/plain": [
       "<Figure size 640x480 with 0 Axes>"
      ]
     },
     "metadata": {},
     "output_type": "display_data"
    },
    {
     "data": {
      "text/plain": [
       "<Figure size 640x480 with 0 Axes>"
      ]
     },
     "metadata": {},
     "output_type": "display_data"
    },
    {
     "data": {
      "text/plain": [
       "<Figure size 640x480 with 0 Axes>"
      ]
     },
     "metadata": {},
     "output_type": "display_data"
    },
    {
     "data": {
      "text/plain": [
       "<Figure size 640x480 with 0 Axes>"
      ]
     },
     "metadata": {},
     "output_type": "display_data"
    },
    {
     "data": {
      "text/plain": [
       "<Figure size 640x480 with 0 Axes>"
      ]
     },
     "metadata": {},
     "output_type": "display_data"
    },
    {
     "data": {
      "text/plain": [
       "<Figure size 640x480 with 0 Axes>"
      ]
     },
     "metadata": {},
     "output_type": "display_data"
    },
    {
     "data": {
      "text/plain": [
       "<Figure size 640x480 with 0 Axes>"
      ]
     },
     "metadata": {},
     "output_type": "display_data"
    },
    {
     "data": {
      "text/plain": [
       "<Figure size 640x480 with 0 Axes>"
      ]
     },
     "metadata": {},
     "output_type": "display_data"
    },
    {
     "data": {
      "text/plain": [
       "<Figure size 640x480 with 0 Axes>"
      ]
     },
     "metadata": {},
     "output_type": "display_data"
    },
    {
     "data": {
      "text/plain": [
       "<Figure size 640x480 with 0 Axes>"
      ]
     },
     "metadata": {},
     "output_type": "display_data"
    },
    {
     "data": {
      "text/plain": [
       "<Figure size 640x480 with 0 Axes>"
      ]
     },
     "metadata": {},
     "output_type": "display_data"
    },
    {
     "data": {
      "text/plain": [
       "<Figure size 640x480 with 0 Axes>"
      ]
     },
     "metadata": {},
     "output_type": "display_data"
    },
    {
     "data": {
      "text/plain": [
       "<Figure size 640x480 with 0 Axes>"
      ]
     },
     "metadata": {},
     "output_type": "display_data"
    },
    {
     "data": {
      "text/plain": [
       "<Figure size 640x480 with 0 Axes>"
      ]
     },
     "metadata": {},
     "output_type": "display_data"
    },
    {
     "data": {
      "text/plain": [
       "<Figure size 640x480 with 0 Axes>"
      ]
     },
     "metadata": {},
     "output_type": "display_data"
    },
    {
     "data": {
      "text/plain": [
       "<Figure size 640x480 with 0 Axes>"
      ]
     },
     "metadata": {},
     "output_type": "display_data"
    },
    {
     "data": {
      "text/plain": [
       "<Figure size 640x480 with 0 Axes>"
      ]
     },
     "metadata": {},
     "output_type": "display_data"
    },
    {
     "data": {
      "text/plain": [
       "<Figure size 640x480 with 0 Axes>"
      ]
     },
     "metadata": {},
     "output_type": "display_data"
    },
    {
     "data": {
      "text/plain": [
       "<Figure size 640x480 with 0 Axes>"
      ]
     },
     "metadata": {},
     "output_type": "display_data"
    },
    {
     "data": {
      "text/plain": [
       "<Figure size 640x480 with 0 Axes>"
      ]
     },
     "metadata": {},
     "output_type": "display_data"
    },
    {
     "data": {
      "text/plain": [
       "<Figure size 640x480 with 0 Axes>"
      ]
     },
     "metadata": {},
     "output_type": "display_data"
    },
    {
     "data": {
      "text/plain": [
       "<Figure size 640x480 with 0 Axes>"
      ]
     },
     "metadata": {},
     "output_type": "display_data"
    },
    {
     "data": {
      "text/plain": [
       "<Figure size 640x480 with 0 Axes>"
      ]
     },
     "metadata": {},
     "output_type": "display_data"
    },
    {
     "data": {
      "text/plain": [
       "<Figure size 640x480 with 0 Axes>"
      ]
     },
     "metadata": {},
     "output_type": "display_data"
    },
    {
     "data": {
      "text/plain": [
       "<Figure size 640x480 with 0 Axes>"
      ]
     },
     "metadata": {},
     "output_type": "display_data"
    },
    {
     "data": {
      "text/plain": [
       "<Figure size 640x480 with 0 Axes>"
      ]
     },
     "metadata": {},
     "output_type": "display_data"
    },
    {
     "data": {
      "text/plain": [
       "<Figure size 640x480 with 0 Axes>"
      ]
     },
     "metadata": {},
     "output_type": "display_data"
    },
    {
     "data": {
      "text/plain": [
       "<Figure size 640x480 with 0 Axes>"
      ]
     },
     "metadata": {},
     "output_type": "display_data"
    },
    {
     "data": {
      "text/plain": [
       "<Figure size 640x480 with 0 Axes>"
      ]
     },
     "metadata": {},
     "output_type": "display_data"
    },
    {
     "data": {
      "text/plain": [
       "<Figure size 640x480 with 0 Axes>"
      ]
     },
     "metadata": {},
     "output_type": "display_data"
    },
    {
     "data": {
      "text/plain": [
       "<Figure size 640x480 with 0 Axes>"
      ]
     },
     "metadata": {},
     "output_type": "display_data"
    },
    {
     "data": {
      "text/plain": [
       "<Figure size 640x480 with 0 Axes>"
      ]
     },
     "metadata": {},
     "output_type": "display_data"
    },
    {
     "data": {
      "text/plain": [
       "<Figure size 640x480 with 0 Axes>"
      ]
     },
     "metadata": {},
     "output_type": "display_data"
    },
    {
     "data": {
      "text/plain": [
       "<Figure size 640x480 with 0 Axes>"
      ]
     },
     "metadata": {},
     "output_type": "display_data"
    },
    {
     "data": {
      "text/plain": [
       "<Figure size 640x480 with 0 Axes>"
      ]
     },
     "metadata": {},
     "output_type": "display_data"
    },
    {
     "data": {
      "text/plain": [
       "<Figure size 640x480 with 0 Axes>"
      ]
     },
     "metadata": {},
     "output_type": "display_data"
    },
    {
     "data": {
      "text/plain": [
       "<Figure size 640x480 with 0 Axes>"
      ]
     },
     "metadata": {},
     "output_type": "display_data"
    },
    {
     "data": {
      "text/plain": [
       "<Figure size 640x480 with 0 Axes>"
      ]
     },
     "metadata": {},
     "output_type": "display_data"
    },
    {
     "data": {
      "text/plain": [
       "<Figure size 640x480 with 0 Axes>"
      ]
     },
     "metadata": {},
     "output_type": "display_data"
    },
    {
     "data": {
      "text/plain": [
       "<Figure size 640x480 with 0 Axes>"
      ]
     },
     "metadata": {},
     "output_type": "display_data"
    },
    {
     "data": {
      "text/plain": [
       "<Figure size 640x480 with 0 Axes>"
      ]
     },
     "metadata": {},
     "output_type": "display_data"
    },
    {
     "data": {
      "text/plain": [
       "<Figure size 640x480 with 0 Axes>"
      ]
     },
     "metadata": {},
     "output_type": "display_data"
    },
    {
     "data": {
      "text/plain": [
       "<Figure size 640x480 with 0 Axes>"
      ]
     },
     "metadata": {},
     "output_type": "display_data"
    },
    {
     "data": {
      "text/plain": [
       "<Figure size 640x480 with 0 Axes>"
      ]
     },
     "metadata": {},
     "output_type": "display_data"
    },
    {
     "data": {
      "text/plain": [
       "<Figure size 640x480 with 0 Axes>"
      ]
     },
     "metadata": {},
     "output_type": "display_data"
    },
    {
     "data": {
      "text/plain": [
       "<Figure size 640x480 with 0 Axes>"
      ]
     },
     "metadata": {},
     "output_type": "display_data"
    },
    {
     "data": {
      "text/plain": [
       "<Figure size 640x480 with 0 Axes>"
      ]
     },
     "metadata": {},
     "output_type": "display_data"
    },
    {
     "data": {
      "text/plain": [
       "<Figure size 640x480 with 0 Axes>"
      ]
     },
     "metadata": {},
     "output_type": "display_data"
    },
    {
     "data": {
      "text/plain": [
       "<Figure size 640x480 with 0 Axes>"
      ]
     },
     "metadata": {},
     "output_type": "display_data"
    },
    {
     "data": {
      "text/plain": [
       "<Figure size 640x480 with 0 Axes>"
      ]
     },
     "metadata": {},
     "output_type": "display_data"
    },
    {
     "data": {
      "text/plain": [
       "<Figure size 640x480 with 0 Axes>"
      ]
     },
     "metadata": {},
     "output_type": "display_data"
    },
    {
     "data": {
      "text/plain": [
       "<Figure size 640x480 with 0 Axes>"
      ]
     },
     "metadata": {},
     "output_type": "display_data"
    },
    {
     "data": {
      "text/plain": [
       "<Figure size 640x480 with 0 Axes>"
      ]
     },
     "metadata": {},
     "output_type": "display_data"
    },
    {
     "data": {
      "text/plain": [
       "<Figure size 640x480 with 0 Axes>"
      ]
     },
     "metadata": {},
     "output_type": "display_data"
    },
    {
     "data": {
      "text/plain": [
       "<Figure size 640x480 with 0 Axes>"
      ]
     },
     "metadata": {},
     "output_type": "display_data"
    },
    {
     "data": {
      "text/plain": [
       "<Figure size 640x480 with 0 Axes>"
      ]
     },
     "metadata": {},
     "output_type": "display_data"
    },
    {
     "data": {
      "text/plain": [
       "<Figure size 640x480 with 0 Axes>"
      ]
     },
     "metadata": {},
     "output_type": "display_data"
    },
    {
     "data": {
      "text/plain": [
       "<Figure size 640x480 with 0 Axes>"
      ]
     },
     "metadata": {},
     "output_type": "display_data"
    },
    {
     "data": {
      "text/plain": [
       "<Figure size 640x480 with 0 Axes>"
      ]
     },
     "metadata": {},
     "output_type": "display_data"
    },
    {
     "data": {
      "text/plain": [
       "<Figure size 640x480 with 0 Axes>"
      ]
     },
     "metadata": {},
     "output_type": "display_data"
    },
    {
     "data": {
      "text/plain": [
       "<Figure size 640x480 with 0 Axes>"
      ]
     },
     "metadata": {},
     "output_type": "display_data"
    },
    {
     "data": {
      "text/plain": [
       "<Figure size 640x480 with 0 Axes>"
      ]
     },
     "metadata": {},
     "output_type": "display_data"
    },
    {
     "data": {
      "text/plain": [
       "<Figure size 640x480 with 0 Axes>"
      ]
     },
     "metadata": {},
     "output_type": "display_data"
    },
    {
     "data": {
      "text/plain": [
       "<Figure size 640x480 with 0 Axes>"
      ]
     },
     "metadata": {},
     "output_type": "display_data"
    },
    {
     "data": {
      "text/plain": [
       "<Figure size 640x480 with 0 Axes>"
      ]
     },
     "metadata": {},
     "output_type": "display_data"
    },
    {
     "data": {
      "text/plain": [
       "<Figure size 640x480 with 0 Axes>"
      ]
     },
     "metadata": {},
     "output_type": "display_data"
    },
    {
     "data": {
      "text/plain": [
       "<Figure size 640x480 with 0 Axes>"
      ]
     },
     "metadata": {},
     "output_type": "display_data"
    },
    {
     "data": {
      "text/plain": [
       "<Figure size 640x480 with 0 Axes>"
      ]
     },
     "metadata": {},
     "output_type": "display_data"
    },
    {
     "data": {
      "text/plain": [
       "<Figure size 640x480 with 0 Axes>"
      ]
     },
     "metadata": {},
     "output_type": "display_data"
    },
    {
     "data": {
      "text/plain": [
       "<Figure size 640x480 with 0 Axes>"
      ]
     },
     "metadata": {},
     "output_type": "display_data"
    },
    {
     "data": {
      "text/plain": [
       "<Figure size 640x480 with 0 Axes>"
      ]
     },
     "metadata": {},
     "output_type": "display_data"
    },
    {
     "data": {
      "text/plain": [
       "<Figure size 640x480 with 0 Axes>"
      ]
     },
     "metadata": {},
     "output_type": "display_data"
    },
    {
     "data": {
      "text/plain": [
       "<Figure size 640x480 with 0 Axes>"
      ]
     },
     "metadata": {},
     "output_type": "display_data"
    },
    {
     "data": {
      "text/plain": [
       "<Figure size 640x480 with 0 Axes>"
      ]
     },
     "metadata": {},
     "output_type": "display_data"
    },
    {
     "data": {
      "text/plain": [
       "<Figure size 640x480 with 0 Axes>"
      ]
     },
     "metadata": {},
     "output_type": "display_data"
    },
    {
     "data": {
      "text/plain": [
       "<Figure size 640x480 with 0 Axes>"
      ]
     },
     "metadata": {},
     "output_type": "display_data"
    },
    {
     "data": {
      "text/plain": [
       "<Figure size 640x480 with 0 Axes>"
      ]
     },
     "metadata": {},
     "output_type": "display_data"
    },
    {
     "data": {
      "text/plain": [
       "<Figure size 640x480 with 0 Axes>"
      ]
     },
     "metadata": {},
     "output_type": "display_data"
    },
    {
     "data": {
      "text/plain": [
       "<Figure size 640x480 with 0 Axes>"
      ]
     },
     "metadata": {},
     "output_type": "display_data"
    },
    {
     "data": {
      "text/plain": [
       "<Figure size 640x480 with 0 Axes>"
      ]
     },
     "metadata": {},
     "output_type": "display_data"
    },
    {
     "data": {
      "text/plain": [
       "<Figure size 640x480 with 0 Axes>"
      ]
     },
     "metadata": {},
     "output_type": "display_data"
    },
    {
     "data": {
      "text/plain": [
       "<Figure size 640x480 with 0 Axes>"
      ]
     },
     "metadata": {},
     "output_type": "display_data"
    },
    {
     "data": {
      "text/plain": [
       "<Figure size 640x480 with 0 Axes>"
      ]
     },
     "metadata": {},
     "output_type": "display_data"
    },
    {
     "data": {
      "text/plain": [
       "<Figure size 640x480 with 0 Axes>"
      ]
     },
     "metadata": {},
     "output_type": "display_data"
    },
    {
     "data": {
      "text/plain": [
       "<Figure size 640x480 with 0 Axes>"
      ]
     },
     "metadata": {},
     "output_type": "display_data"
    },
    {
     "data": {
      "text/plain": [
       "<Figure size 640x480 with 0 Axes>"
      ]
     },
     "metadata": {},
     "output_type": "display_data"
    },
    {
     "data": {
      "text/plain": [
       "<Figure size 640x480 with 0 Axes>"
      ]
     },
     "metadata": {},
     "output_type": "display_data"
    },
    {
     "data": {
      "text/plain": [
       "<Figure size 640x480 with 0 Axes>"
      ]
     },
     "metadata": {},
     "output_type": "display_data"
    },
    {
     "data": {
      "text/plain": [
       "<Figure size 640x480 with 0 Axes>"
      ]
     },
     "metadata": {},
     "output_type": "display_data"
    },
    {
     "data": {
      "text/plain": [
       "<Figure size 640x480 with 0 Axes>"
      ]
     },
     "metadata": {},
     "output_type": "display_data"
    },
    {
     "data": {
      "text/plain": [
       "<Figure size 640x480 with 0 Axes>"
      ]
     },
     "metadata": {},
     "output_type": "display_data"
    },
    {
     "data": {
      "text/plain": [
       "<Figure size 640x480 with 0 Axes>"
      ]
     },
     "metadata": {},
     "output_type": "display_data"
    },
    {
     "data": {
      "text/plain": [
       "<Figure size 640x480 with 0 Axes>"
      ]
     },
     "metadata": {},
     "output_type": "display_data"
    },
    {
     "data": {
      "text/plain": [
       "<Figure size 640x480 with 0 Axes>"
      ]
     },
     "metadata": {},
     "output_type": "display_data"
    },
    {
     "data": {
      "text/plain": [
       "<Figure size 640x480 with 0 Axes>"
      ]
     },
     "metadata": {},
     "output_type": "display_data"
    },
    {
     "data": {
      "text/plain": [
       "<Figure size 640x480 with 0 Axes>"
      ]
     },
     "metadata": {},
     "output_type": "display_data"
    },
    {
     "data": {
      "text/plain": [
       "<Figure size 640x480 with 0 Axes>"
      ]
     },
     "metadata": {},
     "output_type": "display_data"
    },
    {
     "data": {
      "text/plain": [
       "<Figure size 640x480 with 0 Axes>"
      ]
     },
     "metadata": {},
     "output_type": "display_data"
    },
    {
     "data": {
      "text/plain": [
       "<Figure size 640x480 with 0 Axes>"
      ]
     },
     "metadata": {},
     "output_type": "display_data"
    },
    {
     "data": {
      "text/plain": [
       "<Figure size 640x480 with 0 Axes>"
      ]
     },
     "metadata": {},
     "output_type": "display_data"
    },
    {
     "data": {
      "text/plain": [
       "<Figure size 640x480 with 0 Axes>"
      ]
     },
     "metadata": {},
     "output_type": "display_data"
    },
    {
     "data": {
      "text/plain": [
       "<Figure size 640x480 with 0 Axes>"
      ]
     },
     "metadata": {},
     "output_type": "display_data"
    },
    {
     "data": {
      "text/plain": [
       "<Figure size 640x480 with 0 Axes>"
      ]
     },
     "metadata": {},
     "output_type": "display_data"
    },
    {
     "data": {
      "text/plain": [
       "<Figure size 640x480 with 0 Axes>"
      ]
     },
     "metadata": {},
     "output_type": "display_data"
    },
    {
     "data": {
      "text/plain": [
       "<Figure size 640x480 with 0 Axes>"
      ]
     },
     "metadata": {},
     "output_type": "display_data"
    },
    {
     "data": {
      "text/plain": [
       "<Figure size 640x480 with 0 Axes>"
      ]
     },
     "metadata": {},
     "output_type": "display_data"
    },
    {
     "data": {
      "text/plain": [
       "<Figure size 640x480 with 0 Axes>"
      ]
     },
     "metadata": {},
     "output_type": "display_data"
    },
    {
     "data": {
      "text/plain": [
       "<Figure size 640x480 with 0 Axes>"
      ]
     },
     "metadata": {},
     "output_type": "display_data"
    },
    {
     "data": {
      "text/plain": [
       "<Figure size 640x480 with 0 Axes>"
      ]
     },
     "metadata": {},
     "output_type": "display_data"
    },
    {
     "data": {
      "text/plain": [
       "<Figure size 640x480 with 0 Axes>"
      ]
     },
     "metadata": {},
     "output_type": "display_data"
    },
    {
     "data": {
      "text/plain": [
       "<Figure size 640x480 with 0 Axes>"
      ]
     },
     "metadata": {},
     "output_type": "display_data"
    },
    {
     "data": {
      "text/plain": [
       "<Figure size 640x480 with 0 Axes>"
      ]
     },
     "metadata": {},
     "output_type": "display_data"
    },
    {
     "data": {
      "text/plain": [
       "<Figure size 640x480 with 0 Axes>"
      ]
     },
     "metadata": {},
     "output_type": "display_data"
    },
    {
     "data": {
      "text/plain": [
       "<Figure size 640x480 with 0 Axes>"
      ]
     },
     "metadata": {},
     "output_type": "display_data"
    },
    {
     "data": {
      "text/plain": [
       "<Figure size 640x480 with 0 Axes>"
      ]
     },
     "metadata": {},
     "output_type": "display_data"
    },
    {
     "data": {
      "text/plain": [
       "<Figure size 640x480 with 0 Axes>"
      ]
     },
     "metadata": {},
     "output_type": "display_data"
    },
    {
     "data": {
      "text/plain": [
       "<Figure size 640x480 with 0 Axes>"
      ]
     },
     "metadata": {},
     "output_type": "display_data"
    },
    {
     "data": {
      "text/plain": [
       "<Figure size 640x480 with 0 Axes>"
      ]
     },
     "metadata": {},
     "output_type": "display_data"
    },
    {
     "data": {
      "text/plain": [
       "<Figure size 640x480 with 0 Axes>"
      ]
     },
     "metadata": {},
     "output_type": "display_data"
    },
    {
     "data": {
      "text/plain": [
       "<Figure size 640x480 with 0 Axes>"
      ]
     },
     "metadata": {},
     "output_type": "display_data"
    },
    {
     "data": {
      "text/plain": [
       "<Figure size 640x480 with 0 Axes>"
      ]
     },
     "metadata": {},
     "output_type": "display_data"
    },
    {
     "data": {
      "text/plain": [
       "<Figure size 640x480 with 0 Axes>"
      ]
     },
     "metadata": {},
     "output_type": "display_data"
    },
    {
     "data": {
      "text/plain": [
       "<Figure size 640x480 with 0 Axes>"
      ]
     },
     "metadata": {},
     "output_type": "display_data"
    },
    {
     "data": {
      "text/plain": [
       "<Figure size 640x480 with 0 Axes>"
      ]
     },
     "metadata": {},
     "output_type": "display_data"
    },
    {
     "data": {
      "text/plain": [
       "<Figure size 640x480 with 0 Axes>"
      ]
     },
     "metadata": {},
     "output_type": "display_data"
    },
    {
     "data": {
      "text/plain": [
       "<Figure size 640x480 with 0 Axes>"
      ]
     },
     "metadata": {},
     "output_type": "display_data"
    },
    {
     "data": {
      "text/plain": [
       "<Figure size 640x480 with 0 Axes>"
      ]
     },
     "metadata": {},
     "output_type": "display_data"
    },
    {
     "data": {
      "text/plain": [
       "<Figure size 640x480 with 0 Axes>"
      ]
     },
     "metadata": {},
     "output_type": "display_data"
    },
    {
     "data": {
      "text/plain": [
       "<Figure size 640x480 with 0 Axes>"
      ]
     },
     "metadata": {},
     "output_type": "display_data"
    },
    {
     "data": {
      "text/plain": [
       "<Figure size 640x480 with 0 Axes>"
      ]
     },
     "metadata": {},
     "output_type": "display_data"
    },
    {
     "data": {
      "text/plain": [
       "<Figure size 640x480 with 0 Axes>"
      ]
     },
     "metadata": {},
     "output_type": "display_data"
    },
    {
     "data": {
      "text/plain": [
       "<Figure size 640x480 with 0 Axes>"
      ]
     },
     "metadata": {},
     "output_type": "display_data"
    },
    {
     "data": {
      "text/plain": [
       "<Figure size 640x480 with 0 Axes>"
      ]
     },
     "metadata": {},
     "output_type": "display_data"
    },
    {
     "data": {
      "text/plain": [
       "<Figure size 640x480 with 0 Axes>"
      ]
     },
     "metadata": {},
     "output_type": "display_data"
    },
    {
     "data": {
      "text/plain": [
       "<Figure size 640x480 with 0 Axes>"
      ]
     },
     "metadata": {},
     "output_type": "display_data"
    },
    {
     "data": {
      "text/plain": [
       "<Figure size 640x480 with 0 Axes>"
      ]
     },
     "metadata": {},
     "output_type": "display_data"
    },
    {
     "data": {
      "text/plain": [
       "<Figure size 640x480 with 0 Axes>"
      ]
     },
     "metadata": {},
     "output_type": "display_data"
    },
    {
     "data": {
      "text/plain": [
       "<Figure size 640x480 with 0 Axes>"
      ]
     },
     "metadata": {},
     "output_type": "display_data"
    },
    {
     "data": {
      "text/plain": [
       "<Figure size 640x480 with 0 Axes>"
      ]
     },
     "metadata": {},
     "output_type": "display_data"
    },
    {
     "data": {
      "text/plain": [
       "<Figure size 640x480 with 0 Axes>"
      ]
     },
     "metadata": {},
     "output_type": "display_data"
    },
    {
     "data": {
      "text/plain": [
       "<Figure size 640x480 with 0 Axes>"
      ]
     },
     "metadata": {},
     "output_type": "display_data"
    },
    {
     "data": {
      "text/plain": [
       "<Figure size 640x480 with 0 Axes>"
      ]
     },
     "metadata": {},
     "output_type": "display_data"
    },
    {
     "data": {
      "text/plain": [
       "<Figure size 640x480 with 0 Axes>"
      ]
     },
     "metadata": {},
     "output_type": "display_data"
    },
    {
     "data": {
      "text/plain": [
       "<Figure size 640x480 with 0 Axes>"
      ]
     },
     "metadata": {},
     "output_type": "display_data"
    },
    {
     "data": {
      "text/plain": [
       "<Figure size 640x480 with 0 Axes>"
      ]
     },
     "metadata": {},
     "output_type": "display_data"
    },
    {
     "data": {
      "text/plain": [
       "<Figure size 640x480 with 0 Axes>"
      ]
     },
     "metadata": {},
     "output_type": "display_data"
    },
    {
     "data": {
      "text/plain": [
       "<Figure size 640x480 with 0 Axes>"
      ]
     },
     "metadata": {},
     "output_type": "display_data"
    },
    {
     "data": {
      "text/plain": [
       "<Figure size 640x480 with 0 Axes>"
      ]
     },
     "metadata": {},
     "output_type": "display_data"
    },
    {
     "data": {
      "text/plain": [
       "<Figure size 640x480 with 0 Axes>"
      ]
     },
     "metadata": {},
     "output_type": "display_data"
    },
    {
     "data": {
      "text/plain": [
       "<Figure size 640x480 with 0 Axes>"
      ]
     },
     "metadata": {},
     "output_type": "display_data"
    },
    {
     "data": {
      "text/plain": [
       "<Figure size 640x480 with 0 Axes>"
      ]
     },
     "metadata": {},
     "output_type": "display_data"
    },
    {
     "data": {
      "text/plain": [
       "<Figure size 640x480 with 0 Axes>"
      ]
     },
     "metadata": {},
     "output_type": "display_data"
    },
    {
     "data": {
      "text/plain": [
       "<Figure size 640x480 with 0 Axes>"
      ]
     },
     "metadata": {},
     "output_type": "display_data"
    },
    {
     "data": {
      "text/plain": [
       "<Figure size 640x480 with 0 Axes>"
      ]
     },
     "metadata": {},
     "output_type": "display_data"
    },
    {
     "data": {
      "text/plain": [
       "<Figure size 640x480 with 0 Axes>"
      ]
     },
     "metadata": {},
     "output_type": "display_data"
    }
   ],
   "source": [
    "\n",
    "pick_error = np.zeros(len(evt_id))\n",
    "from matplotlib.backends.backend_pdf import PdfPages\n",
    "# pdf = PdfPages('../plots/MLPicks_test.pdf')\n",
    "for n in range(len(evt_id)): \n",
    "    if start_time[n]<datetime(2021,1,1):continue   \n",
    "    event_ID = str(evt_id[n])\n",
    "    otime = UTCDateTime(start_time[n])\n",
    "    networks=net[n]\n",
    "    stations=sta[n]\n",
    "    if sta[n]==\"LON\" or sta[n]==\"LO2\":continue\n",
    "    print(event_ID,otime)\n",
    "    # print(net[n],sta[n])\n",
    "    try:\n",
    "        associated_volcano = df[df['Station']== sta[n]]['Volcano_Name'].values[0]\n",
    "    except: \n",
    "        pass\n",
    "    print(associated_volcano)\n",
    "    # if associated_volcano!=\"Mt_Rainier\":continue\n",
    "            \n",
    "#################### WAVEFORM DOWNLOAD #######################\n",
    "    #Download all waveforms for that event based on stations and times\n",
    "    bulk=[[net[n], sta[n], '*', '*H*', otime-t_before_raw, otime+t_before_raw]]\n",
    "    st = client2.get_waveforms_bulk(bulk)\n",
    "    st = resample(st,fs)  #resampling the data to 40Hz for each trace\n",
    "    \n",
    "    evt_data = obspy.Stream()\n",
    "\n",
    "    # #Plotting all traces for one event with channel z, SNR>10, and bandpasses between 2-12Hz\n",
    "    SNR,SNR_weight, no_weight,stas,nets,max_amp_times,durations,data_env_dict,t_diff = [],[],[],[],[],[],[],{},{}\n",
    "\n",
    "    for i,ii in enumerate(st):\n",
    "        network = ii.stats.network\n",
    "        station = ii.stats.station\n",
    "        ii.detrend(type = 'demean')\n",
    "        ii.filter('bandpass',freqmin=low_cut,freqmax=high_cut,corners=2,zerophase=True)\n",
    "        cha = ii.stats.channel\n",
    "        starttime = ii.stats.starttime\n",
    "        signal_window = ii.copy()\n",
    "        noise_window = ii.copy()\n",
    "        # trim the data and noise window to exactly 6000 points\n",
    "        signal_window.trim(otime - t_before, otime - t_before + window) # trim the signal at the first pick time of the PNSN data, with loose 40s before\n",
    "        noise_window.trim(otime - window -t_before, otime - t_before) # noise window of the same length\n",
    "        if not len(signal_window.data) or not len(signal_window.data): continue\n",
    "        # print(len(signal_window),len(noise_window.data))\n",
    "        snr = (20 * np.log(np.percentile(np.abs(signal_window.data),pr) \n",
    "                        / np.percentile(np.abs(noise_window.data),pr))/np.log(10))\n",
    "        max_amp_time = np.argmax(noise_window.data)/fs\n",
    "        # print(snr,max_amp_time)\n",
    "        # signal_window.plot()x\n",
    "        if snr<thr: # and 100<max_amp_time<200:\n",
    "            st.remove(ii)\n",
    "            continue\n",
    "        # start the time axis 15 seconds before the pick time of the first reference station\n",
    "        t = signal_window.times()[:-1] #\n",
    "        t_diff[network+'.'+station] = starttime-otime \n",
    "        stas.append(ii.stats.station)\n",
    "        nets.append(ii.stats.network)\n",
    "        SNR.append(snr)\n",
    "        SNR_weight.append(int(snr))\n",
    "        no_weight.append(1)\n",
    "        evt_data.append(signal_window)\n",
    "        \n",
    "    sta_available,ind = np.unique(np.array(stas),return_index=True)\n",
    "    sta_available=sta_available[np.argsort(ind)]\n",
    "\n",
    "    bigS = np.zeros(shape=(len(sta_available),3,6000))\n",
    "    stas=[]\n",
    "    for i in range(len(sta_available)):\n",
    "        stream = evt_data.select(station=sta_available[i])\n",
    "        # print(\"original stream\")\n",
    "        # print(stream)\n",
    "        if len(stream)<3:\n",
    "            # copy stream to 2 components, zero the missing data.\n",
    "            tr3 = stream[0].copy() # assumed to be the vertical\n",
    "            tr2 = stream[0].copy();tr2.stats.channel=stream[0].stats.channel[0:2]+\"N\"\n",
    "            tr1 = stream[0].copy();tr1.stats.channel=stream[0].stats.channel[0:2]+\"E\"\n",
    "            tr1.data=np.zeros(len(stream[0].data))\n",
    "            tr2.data=np.zeros(len(stream[0].data))\n",
    "            stream=obspy.Stream(traces=[tr1,tr2,tr3])\n",
    "        # convert Stream into seisbench-friendly array    \n",
    "        # fill in big array and order data ZNE\n",
    "        bigS[i,0,:]=stream[2].data[:-1]\n",
    "        bigS[i,1,:]=stream[1].data[:-1]\n",
    "        bigS[i,2,:]=stream[0].data[:-1]\n",
    "        stas.append(sta_available[i])\n",
    "    # pre process the data\n",
    "    crap2  = bigS.copy()\n",
    "    crap2 -= np.mean(crap2,axis=-1,keepdims=True) # demean data\n",
    "    # original use std norm\n",
    "    data_std = crap2 / np.std(crap2) + 1e-10\n",
    "    # could use max data\n",
    "    mmax= np.max(np.abs(crap2), axis=-1, keepdims=True)\n",
    "    data_max = np.divide(crap2 ,mmax,out=np.zeros_like(crap2),where=mmax!=0)\n",
    "\n",
    "    # print(f\"Window data shape: {data_std.shape}\")\n",
    "\n",
    "    # evaluate\n",
    "    pn_pnw_model.eval()\n",
    "    pn_ethz_model.eval()\n",
    "    pn_scedc_model.eval()\n",
    "    pn_neic_model.eval()\n",
    "    pn_geofon_model.eval()\n",
    "    pn_stead_model.eval()\n",
    "    pn_instance_model.eval()\n",
    "    # convert numpy array to torch tensor\n",
    "    data_tt = torch.Tensor(data_std)\n",
    "    # batch predict picks.\n",
    "    _torch_pred_1 = pn_pnw_model(data_tt.to(device))\n",
    "    _torch_pred_2 = pn_ethz_model(data_tt.to(device))\n",
    "    _torch_pred_3 = pn_scedc_model(data_tt.to(device))\n",
    "    _torch_pred_4 = pn_neic_model(data_tt.to(device))\n",
    "    _torch_pred_5 = pn_geofon_model(data_tt.to(device))\n",
    "    _torch_pred_6 = pn_stead_model(data_tt.to(device))\n",
    "    _torch_pred_7 = pn_instance_model(data_tt.to(device))\n",
    "    # extract P pdf\n",
    "    batch_pred =np.zeros(shape=(7,data_std.shape[0],6000))\n",
    "    batch_pred[0,:, :] = _torch_pred_1[1].detach().cpu().numpy()[:, :]\n",
    "    batch_pred[1,:, :] = _torch_pred_2[1].detach().cpu().numpy()[:, :]\n",
    "    batch_pred[2,:, :] = _torch_pred_3[1].detach().cpu().numpy()[:, :]\n",
    "    batch_pred[3,:, :] = _torch_pred_4[1].detach().cpu().numpy()[:, :]\n",
    "    batch_pred[4,:, :] = _torch_pred_5[1].detach().cpu().numpy()[:, :]\n",
    "    batch_pred[5,:, :] = _torch_pred_6[1].detach().cpu().numpy()[:, :]\n",
    "    batch_pred[6,:, :] = _torch_pred_7[1].detach().cpu().numpy()[:, :]\n",
    "                \n",
    "    # ensemble semblance\n",
    "    nwin,twin=batch_pred.shape[1],batch_pred.shape[-1]\n",
    "    if nwin==0:continue\n",
    "    smb_pred = np.zeros([ nwin, twin], dtype = np.float32)\n",
    "    smb_peak = np.zeros([ nwin], dtype = np.float32)\n",
    "    for iwin in range(len(stas)):\n",
    "        # 0 for P-wave\n",
    "        smb_pred[ iwin, :] = ensemble_semblance(batch_pred[:, iwin, :], paras_semblance)\n",
    "        imax = np.argmax(smb_pred[ iwin, :80*40]) # search for peak in the first 80 seconds\n",
    "        if smb_pred[ iwin,imax]>0:\n",
    "            smb_peak[iwin]=float((imax)/40)\n",
    "        # smb_peak[iwin] = picks_summary_simple(smb_pred[ iwin, :], thrd = p_thrd)\n",
    "    # print(\"check with PNSN picks, relative to reference picks\")\n",
    "    # ista=list(stas).index(sta[n])\n",
    "\n",
    "    ## plot figure\n",
    "\n",
    "    fig = plt.figure()#figsize = (11,8), dpi=200)\n",
    "    fig.suptitle(str(otime)+\" \"+associated_volcano)\n",
    "    ax = plt.subplot(1,1,1)\n",
    "    iplot = 0\n",
    "    for i in range(len(stas)):\n",
    "        ax.plot(t-15,data_max[i,0,:]+iplot*1.5,linewidth=0.5)\n",
    "        ax.plot(t-15,smb_pred[ i, :]/np.max(np.abs(smb_pred[ i, :]))+iplot*1.5,'k',linewidth=0.5)\n",
    "        ax.set_yticks([])\n",
    "        plt.text(-15, iplot*1.5+0.5, stas[i])\n",
    "        # if i==ista:\n",
    "        err_title=(\"%s %2.2f (s) error in picks\"%(stas[i],smb_peak[i]-t_before))\n",
    "        plt.text(60, iplot*1.5+0.5,err_title,color='r')\n",
    "        plt.vlines(smb_peak[i]-t_before,iplot*1.5-1.,iplot*1.5+1.,'r')\n",
    "        print(stas[i],smb_peak[i]-t_before)\n",
    "        iplot+=1\n",
    "    plt.grid(True)\n",
    "    ax.set_xlim([-t_before,80])\n",
    "    ax.set_xlabel('time (seconds) relative to PNSN picks')\n",
    "    # plt.show()\n",
    "    pdf.savefig(fig)\n",
    "    plt.clf()\n",
    "    del fig\n",
    "\n",
    "    pick_error[n] = smb_peak[i]-t_before\n",
    "    # print(pick_error[n] )\n",
    "pdf.close()"
   ]
  },
  {
   "cell_type": "code",
   "execution_count": 36,
   "metadata": {},
   "outputs": [
    {
     "data": {
      "image/png": "[encoded data removed]",
      "text/plain": [
       "<Figure size 640x480 with 1 Axes>"
      ]
     },
     "metadata": {},
     "output_type": "display_data"
    }
   ],
   "source": [
    "plt.hist(pick_error[:n-1],100);"
   ]
  },
  {
   "cell_type": "code",
   "execution_count": 25,
   "metadata": {},
   "outputs": [],
   "source": [
    "pdf.close()"
   ]
  },
  {
   "cell_type": "code",
   "execution_count": 23,
   "metadata": {},
   "outputs": [
    {
     "name": "stdout",
     "output_type": "stream",
     "text": [
      "12231\n",
      "(14066,)\n",
      "14066\n"
     ]
    }
   ],
   "source": [
    "print(n)\n",
    "print(pick_error.shape)\n",
    "print(len(evt_id))"
   ]
  },
  {
   "cell_type": "code",
   "execution_count": null,
   "metadata": {},
   "outputs": [],
   "source": [
    "plt.hist(pick_error)"
   ]
  },
  {
   "cell_type": "markdown",
   "metadata": {},
   "source": [
    "# Multi-band Predictions"
   ]
  },
  {
   "cell_type": "code",
   "execution_count": null,
   "metadata": {},
   "outputs": [],
   "source": [
    "fqmin = 1\n",
    "fqmax = 45\n",
    "dt = 0.01; fs = 100;\n",
    "nfqs = 10\n",
    "nt = 6000; nc = 3;\n",
    "fq_list = make_LogFq(fqmin, fqmax, dt, nfqs)\n",
    "coeff_HP, coeff_LP = rec_filter_coeff(fq_list, dt)\n",
    "MBF_paras = {'f_min':fqmin, 'f_max':fqmax, 'nfqs':nfqs, 'frequencies':fq_list, 'CN_HP':coeff_HP, 'CN_LP':coeff_LP, \\\n",
    "    'dt':dt, 'fs':fs, 'nt':nt, 'nc':nc, 'npoles': 2}"
   ]
  },
  {
   "cell_type": "markdown",
   "metadata": {},
   "source": [
    "bandpass filter"
   ]
  },
  {
   "cell_type": "code",
   "execution_count": null,
   "metadata": {},
   "outputs": [],
   "source": [
    "for iseg in range(nseg):\n",
    "    for icha in range(3):\n",
    "        _windows_mb[iseg, icha, :, :] = MB_filter(_windows[iseg, icha], MBF_paras)\n",
    "_windows_mb = _windows_mb.swapaxes(1, 2)"
   ]
  },
  {
   "cell_type": "markdown",
   "metadata": {},
   "source": [
    "normalize"
   ]
  },
  {
   "cell_type": "code",
   "execution_count": null,
   "metadata": {},
   "outputs": [],
   "source": [
    "for iseg in tqdm(range(nseg)):\n",
    "    for ifre in range(nfqs):\n",
    "        # original use std norm\n",
    "        windows_std[iseg, ifre, :] = _windows_mb[iseg, ifre, :] / np.std(_windows_mb[iseg, ifre, :]) + 1e-10\n",
    "        # others use max norm\n",
    "        windows_max[iseg, ifre, :] = _windows_mb[iseg, ifre, :] / np.max(np.abs(_windows_mb[iseg, ifre, :]), axis=-1, keepdims=True) + 1e-10\n",
    "        windows_idx[iseg] = idx\n"
   ]
  }
 ],
 "metadata": {
  "kernelspec": {
   "display_name": "seismo_exo",
   "language": "python",
   "name": "python3"
  },
  "language_info": {
   "codemirror_mode": {
    "name": "ipython",
    "version": 3
   },
   "file_extension": ".py",
   "mimetype": "text/x-python",
   "name": "python",
   "nbconvert_exporter": "python",
   "pygments_lexer": "ipython3",
   "version": "3.10.12"
  },
  "orig_nbformat": 4
 },
 "nbformat": 4,
 "nbformat_minor": 2
}
