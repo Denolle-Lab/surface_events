{
 "cells": [
  {
   "cell_type": "markdown",
   "metadata": {},
   "source": [
    "# Benchmark ELEP for phase picking surface events\n",
    "\n",
    "We will test the ELEP workflow to phase picks the SU events picked by the PNSN."
   ]
  },
  {
   "cell_type": "code",
   "execution_count": 1,
   "metadata": {},
   "outputs": [],
   "source": [
    "# import sys\n",
    "# sys.path.append('/data/wsd01/pnwstore/')\n",
    "import matplotlib.pyplot as plt\n",
    "\n",
    "import numpy as np\n",
    "import pandas as pd\n",
    "import obspy\n",
    "from obspy.core import UTCDateTime\n",
    "from obspy.clients.fdsn.client import Client\n",
    "\n",
    "import scipy\n",
    "from scipy import optimize\n",
    "from scipy.optimize import curve_fit\n",
    "from geopy import distance\n",
    "from datetime import datetime\n",
    "from utils import *\n",
    "import torch\n",
    "plt.rcParams.update({'font.size': 10})\n",
    "\n",
    "\n",
    "import seisbench.models as sbm\n",
    "device = torch.device(\"cpu\")\n",
    "\n",
    "from ELEP.elep.ensemble_statistics import ensemble_statistics\n",
    "from ELEP.elep.ensemble_coherence import ensemble_semblance \n",
    "from ELEP.elep.ensemble_learners import ensemble_regressor_cnn\n",
    "from ELEP.elep import mbf, mbf_utils\n",
    "from ELEP.elep import trigger_func\n",
    "\n",
    "from ELEP.elep.mbf_utils import make_LogFq, make_LinFq, rec_filter_coeff, create_obspy_trace\n",
    "from ELEP.elep.mbf import MB_filter as MBF"
   ]
  },
  {
   "cell_type": "code",
   "execution_count": 2,
   "metadata": {},
   "outputs": [],
   "source": [
    "# define clients to download the station data\n",
    "# client = WaveformClient() # we ignore PNWdatastore for now\n",
    "client2 = Client('IRIS')\n",
    "\n",
    "t_before = 15 #number of seconds before pick time\n",
    "# t_after = 15 #number of seconds after pick time\n",
    "t_before_raw = 1200 #number of seconds before pick time before removing instrumental response\n",
    "# t_after_raw = 1200 #number of seconds after pick time before removing instrumental response\n",
    "fs = 40 #sampling rate that all waveforms are resampled to\n",
    "window = 150 #window length of the signal (this will help with phase picking with EqT next). \n",
    "# Use 150 seconds @ 40 Hz gives 6001 points. \n",
    "pr = 98 #percentile\n",
    "thr = 5 #SNR threshold\n",
    "station_distance_threshold = 25\n",
    "pi = np.pi\n",
    "v_s = 1000 #shear wave velocity at the surface\n",
    "\n",
    "# range of dates that we are looking at\n",
    "t_beginning = UTCDateTime(2001,1,1,0,0,0) \n",
    "t_end = UTCDateTime(2023,8,2,23,59)\n",
    "\n",
    "smooth_length = 5 # constant for smoothing the waveform envelopes\n",
    "low_cut = 1 #low frequency threshold\n",
    "high_cut = 12 #high frequency threshold\n",
    "az_thr = 1000 #threshold of distance in meters from source location\n",
    "step = 100 #step every 100 m\n",
    "t_step = 1 #step every second\n",
    "ratio = 5.6915196 #used to define the grid \n",
    "colors = list(plt.cm.tab10(np.arange(10)))*3\n",
    "radius = 6371e3 # radius of the earth"
   ]
  },
  {
   "cell_type": "markdown",
   "metadata": {},
   "source": [
    "# Read ML models\n",
    "\n",
    "Make sure that model weights are downloaded for seisbench\n",
    "```\n",
    "import os\n",
    "os.makedirs(\"/Users/marinedenolle/.seisbench/models/v3/eqtransformer\",exist_ok=True)\n",
    "!wget https://github.com/congcy/ELEP/raw/main/docs/tutorials/data/pnw.pt.v1 -O ~/.seisbench/models/v3/eqtransformer/pnw.pt.v1\n",
    "!wget https://github.com/congcy/ELEP/raw/main/docs/tutorials/data/pnw.json.v1 -O ~/.seisbench/models/v3/eqtransformer/pnw.json.v1\n",
    "```"
   ]
  },
  {
   "cell_type": "code",
   "execution_count": 3,
   "metadata": {},
   "outputs": [],
   "source": [
    "\n",
    "# ML picker parameters\n",
    "paras_semblance = {'dt':0.025, 'semblance_order':4, 'window_flag':True, \n",
    "                   'semblance_win':0.5, 'weight_flag':'max'}\n",
    "p_thrd, s_thrd = 0.01, 0.05"
   ]
  },
  {
   "cell_type": "code",
   "execution_count": 4,
   "metadata": {},
   "outputs": [],
   "source": [
    "# download models\n",
    "pretrain_list = [\"pnw\",\"ethz\",\"instance\",\"scedc\",\"stead\",\"geofon\",\"neic\"]\n",
    "pn_pnw_model = sbm.EQTransformer.from_pretrained('pnw')\n",
    "pn_ethz_model = sbm.EQTransformer.from_pretrained(\"ethz\")\n",
    "pn_instance_model = sbm.EQTransformer.from_pretrained(\"instance\")\n",
    "pn_scedc_model = sbm.EQTransformer.from_pretrained(\"scedc\")\n",
    "pn_stead_model = sbm.EQTransformer.from_pretrained(\"stead\")\n",
    "pn_geofon_model = sbm.EQTransformer.from_pretrained(\"geofon\")\n",
    "pn_neic_model = sbm.EQTransformer.from_pretrained(\"neic\")\n",
    "\n"
   ]
  },
  {
   "cell_type": "code",
   "execution_count": 5,
   "metadata": {},
   "outputs": [],
   "source": [
    "\n",
    "pn_pnw_model.to(device);\n",
    "pn_ethz_model.to(device);\n",
    "pn_scedc_model.to(device);\n",
    "pn_neic_model.to(device);\n",
    "pn_geofon_model.to(device);\n",
    "pn_stead_model.to(device);\n",
    "pn_instance_model.to(device);"
   ]
  },
  {
   "cell_type": "markdown",
   "metadata": {},
   "source": [
    "# Volcano info"
   ]
  },
  {
   "cell_type": "code",
   "execution_count": 6,
   "metadata": {},
   "outputs": [],
   "source": [
    "#this data includes all stations within 50km of each volcano and the lat, lon, elev of each station\n",
    "df = pd.read_csv('../data/station/Volcano_Metadata_50km.csv')\n",
    "df_xd = pd.read_csv('../data/station/XD_Metadata_50km.csv')"
   ]
  },
  {
   "cell_type": "markdown",
   "metadata": {},
   "source": [
    "### 3. Surface Event Data from PNSN\n",
    "\n",
    "Read files straight from PNSN data base. Extract station and network code, phase pick time (seen as start_time). this should be converted to pick_time0."
   ]
  },
  {
   "cell_type": "code",
   "execution_count": 7,
   "metadata": {},
   "outputs": [
    {
     "name": "stdout",
     "output_type": "stream",
     "text": [
      "Index(['date', 'net', 'sta', 'location', 'seedchan', 'iphase', 'quality',\n",
      "       'orid', 'etype', 'evid'],\n",
      "      dtype='object')\n"
     ]
    }
   ],
   "source": [
    "f1 = pd.read_csv(\"../data/events/su_picks.txt\",sep=\"|\")\n",
    "f1.head()\n",
    "print(f1.keys())"
   ]
  },
  {
   "cell_type": "code",
   "execution_count": 8,
   "metadata": {},
   "outputs": [],
   "source": [
    "# clean up the spaces in the file\n",
    "format='%Y/%m/%d %H:%M:%S'\n",
    "test=f1[\"date\"].values.tolist()\n",
    "start_time_temp = [  datetime.strptime(x.strip(),'%Y/%m/%d %H:%M:%S') for x in f1[\"date\"].values.tolist()]\n",
    "# # Ignore events prior to t_beginning\n",
    "ik=np.where(np.array(start_time_temp)>datetime(2001,1,1))[0][0]\n",
    "\n",
    "# select only net, sta, evid, startime for event past the start date.\n",
    "\n",
    "start_time = start_time_temp[ik:]\n",
    "net=[ x.strip() for x in f1[\"net\"].values.tolist()][ik:]\n",
    "sta=[ x.strip() for x in f1[\"sta\"].values.tolist()][ik:]\n",
    "evt_id=[ x for x in f1[\"orid\"].values.tolist()][ik:]\n",
    "all_stas=set(sta)"
   ]
  },
  {
   "cell_type": "markdown",
   "metadata": {},
   "source": [
    "## download data and phase pick"
   ]
  },
  {
   "cell_type": "code",
   "execution_count": 50,
   "metadata": {},
   "outputs": [
    {
     "name": "stdout",
     "output_type": "stream",
     "text": [
      "801538 2001-01-05T13:35:05.000000Z\n",
      "Mt_St_Helens\n",
      "801553 2001-01-05T14:37:57.000000Z\n",
      "Mt_St_Helens\n",
      "807903 2001-01-18T21:25:51.000000Z\n",
      "Mt_St_Helens\n",
      "807903 2001-01-18T21:25:52.000000Z\n",
      "Mt_St_Helens\n",
      "807903 2001-01-18T21:25:52.000000Z\n",
      "Mt_St_Helens\n",
      "807903 2001-01-18T21:25:53.000000Z\n",
      "Mt_St_Helens\n",
      "811133 2001-01-28T18:01:55.000000Z\n",
      "Mt_Rainier\n",
      "811133 2001-01-28T18:01:56.000000Z\n",
      "Mt_Rainier\n",
      "811133 2001-01-28T18:01:58.000000Z\n",
      "Mt_Rainier\n",
      "811133 2001-01-28T18:01:59.000000Z\n",
      "Mt_Rainier\n",
      "811383 2001-01-30T17:09:10.000000Z\n",
      "Mt_St_Helens\n",
      "801678 2001-02-02T14:12:50.000000Z\n",
      "Mt_St_Helens\n",
      "802498 2001-02-05T09:58:32.000000Z\n",
      "Mt_St_Helens\n",
      "802498 2001-02-05T09:58:32.000000Z\n",
      "Mt_St_Helens\n",
      "802498 2001-02-05T09:58:32.000000Z\n",
      "Mt_St_Helens\n",
      "804823 2001-02-12T08:29:25.000000Z\n",
      "Mt_Rainier\n",
      "808223 2001-02-19T23:25:06.000000Z\n",
      "Mt_Rainier\n",
      "808333 2001-02-20T02:23:26.000000Z\n",
      "Mt_Rainier\n",
      "809358 2001-02-21T22:39:14.000000Z\n",
      "Mt_Rainier\n",
      "809358 2001-02-21T22:39:15.000000Z\n",
      "Mt_Rainier\n",
      "809358 2001-02-21T22:39:17.000000Z\n",
      "Mt_Rainier\n",
      "813158 2001-02-28T19:59:52.000000Z\n",
      "Mt_Rainier\n"
     ]
    },
    {
     "ename": "ValueError",
     "evalue": "could not broadcast input array from shape (2119,) into shape (6000,)",
     "output_type": "error",
     "traceback": [
      "\u001b[0;31m---------------------------------------------------------------------------\u001b[0m",
      "\u001b[0;31mValueError\u001b[0m                                Traceback (most recent call last)",
      "Cell \u001b[0;32mIn[50], line 84\u001b[0m\n\u001b[1;32m     81\u001b[0m     stream\u001b[39m=\u001b[39mobspy\u001b[39m.\u001b[39mStream(traces\u001b[39m=\u001b[39m[tr1,tr2,tr3])\n\u001b[1;32m     82\u001b[0m \u001b[39m# convert Stream into seisbench-friendly array    \u001b[39;00m\n\u001b[1;32m     83\u001b[0m \u001b[39m# fill in big array and order data ZNE\u001b[39;00m\n\u001b[0;32m---> 84\u001b[0m bigS[i,\u001b[39m0\u001b[39;49m,:]\u001b[39m=\u001b[39mstream[\u001b[39m2\u001b[39m]\u001b[39m.\u001b[39mdata[:\u001b[39m-\u001b[39m\u001b[39m1\u001b[39m]\n\u001b[1;32m     85\u001b[0m bigS[i,\u001b[39m1\u001b[39m,:]\u001b[39m=\u001b[39mstream[\u001b[39m1\u001b[39m]\u001b[39m.\u001b[39mdata[:\u001b[39m-\u001b[39m\u001b[39m1\u001b[39m]\n\u001b[1;32m     86\u001b[0m bigS[i,\u001b[39m2\u001b[39m,:]\u001b[39m=\u001b[39mstream[\u001b[39m0\u001b[39m]\u001b[39m.\u001b[39mdata[:\u001b[39m-\u001b[39m\u001b[39m1\u001b[39m]\n",
      "\u001b[0;31mValueError\u001b[0m: could not broadcast input array from shape (2119,) into shape (6000,)"
     ]
    }
   ],
   "source": [
    "\n",
    "pick_error = np.zeros(len(evt_id))\n",
    "from matplotlib.backends.backend_pdf import PdfPages\n",
    "# pdf = PdfPages('../plots/MLPicks_test.pdf')\n",
    "for n in range(len(evt_id)): \n",
    "    if start_time[n]<datetime(2001,1,1):continue   \n",
    "    event_ID = str(evt_id[n])\n",
    "    otime = UTCDateTime(start_time[n])\n",
    "    networks=net[n]\n",
    "    stations=sta[n]\n",
    "    if sta[n]==\"LON\" or sta[n]==\"LO2\":continue\n",
    "    print(event_ID,otime)\n",
    "    # print(net[n],sta[n])\n",
    "    try:\n",
    "        associated_volcano = df[df['Station']== sta[n]]['Volcano_Name'].values[0]\n",
    "    except: \n",
    "        pass\n",
    "    print(associated_volcano)\n",
    "    # if associated_volcano!=\"Mt_Rainier\":continue\n",
    "            \n",
    "#################### WAVEFORM DOWNLOAD #######################\n",
    "    #Download all waveforms for that event based on stations and times\n",
    "    bulk=[[net[n], sta[n], '*', '*H*', otime-t_before_raw, otime+t_before_raw]]\n",
    "    st = client2.get_waveforms_bulk(bulk)\n",
    "    st = resample(st,fs)  #resampling the data to 40Hz for each trace\n",
    "    \n",
    "    evt_data = obspy.Stream()\n",
    "\n",
    "    # #Plotting all traces for one event with channel z, SNR>10, and bandpasses between 2-12Hz\n",
    "    SNR,SNR_weight, no_weight,stas,nets,max_amp_times,durations,data_env_dict,t_diff = [],[],[],[],[],[],[],{},{}\n",
    "\n",
    "    for i,ii in enumerate(st):\n",
    "        network = ii.stats.network\n",
    "        station = ii.stats.station\n",
    "        ii.detrend(type = 'demean')\n",
    "        ii.filter('bandpass',freqmin=low_cut,freqmax=high_cut,corners=2,zerophase=True)\n",
    "        cha = ii.stats.channel\n",
    "        starttime = ii.stats.starttime\n",
    "        signal_window = ii.copy()\n",
    "        noise_window = ii.copy()\n",
    "        # trim the data and noise window to exactly 6000 points\n",
    "        signal_window.trim(otime - t_before, otime - t_before + window) # trim the signal at the first pick time of the PNSN data, with loose 40s before\n",
    "        noise_window.trim(otime - window -t_before, otime - t_before) # noise window of the same length\n",
    "        if not len(signal_window.data) or not len(signal_window.data): continue\n",
    "        # print(len(signal_window),len(noise_window.data))\n",
    "        if not np.max(np.percentile(np.abs(signal_window.data),pr)):continue\n",
    "        if len(noise_window.data)==0:continue\n",
    "        snr = (20 * np.log(np.percentile(np.abs(signal_window.data),pr) \n",
    "                        / np.percentile(np.abs(noise_window.data),pr))/np.log(10))\n",
    "        max_amp_time = np.argmax(noise_window.data)/fs\n",
    "        # print(snr,max_amp_time)\n",
    "        # signal_window.plot()x\n",
    "        if snr<thr: # and 100<max_amp_time<200:\n",
    "            st.remove(ii)\n",
    "            continue\n",
    "        # start the time axis 15 seconds before the pick time of the first reference station\n",
    "        t = signal_window.times()[:-1] #\n",
    "        t_diff[network+'.'+station] = starttime-otime \n",
    "        stas.append(ii.stats.station)\n",
    "        nets.append(ii.stats.network)\n",
    "        SNR.append(snr)\n",
    "        SNR_weight.append(int(snr))\n",
    "        no_weight.append(1)\n",
    "        evt_data.append(signal_window)\n",
    "        \n",
    "    sta_available,ind = np.unique(np.array(stas),return_index=True)\n",
    "    sta_available=sta_available[np.argsort(ind)]\n",
    "\n",
    "    bigS = np.zeros(shape=(len(sta_available),3,6000))\n",
    "    stas=[]\n",
    "    for i in range(len(sta_available)):\n",
    "        stream = evt_data.select(station=sta_available[i])\n",
    "        if len(stream[0].data)<6000:continue\n",
    "        # print(\"original stream\")\n",
    "        # print(stream)\n",
    "        if len(stream)<3:\n",
    "            # copy stream to 2 components, zero the missing data.\n",
    "            tr3 = stream[0].copy() # assumed to be the vertical\n",
    "            tr2 = stream[0].copy();tr2.stats.channel=stream[0].stats.channel[0:2]+\"N\"\n",
    "            tr1 = stream[0].copy();tr1.stats.channel=stream[0].stats.channel[0:2]+\"E\"\n",
    "            tr1.data=np.zeros(len(stream[0].data))\n",
    "            tr2.data=np.zeros(len(stream[0].data))\n",
    "            stream=obspy.Stream(traces=[tr1,tr2,tr3])\n",
    "        # convert Stream into seisbench-friendly array    \n",
    "        # fill in big array and order data ZNE\n",
    "        bigS[i,0,:]=stream[2].data[:-1]\n",
    "        bigS[i,1,:]=stream[1].data[:-1]\n",
    "        bigS[i,2,:]=stream[0].data[:-1]\n",
    "        stas.append(sta_available[i])\n",
    "    # pre process the data\n",
    "    crap2  = bigS.copy()\n",
    "    crap2 -= np.mean(crap2,axis=-1,keepdims=True) # demean data\n",
    "    # original use std norm\n",
    "    data_std = crap2 / np.std(crap2) + 1e-10\n",
    "    # could use max data\n",
    "    mmax= np.max(np.abs(crap2), axis=-1, keepdims=True)\n",
    "    data_max = np.divide(crap2 ,mmax,out=np.zeros_like(crap2),where=mmax!=0)\n",
    "\n",
    "    # print(f\"Window data shape: {data_std.shape}\")\n",
    "\n",
    "    # evaluate\n",
    "    pn_pnw_model.eval()\n",
    "    pn_ethz_model.eval()\n",
    "    pn_scedc_model.eval()\n",
    "    pn_neic_model.eval()\n",
    "    pn_geofon_model.eval()\n",
    "    pn_stead_model.eval()\n",
    "    pn_instance_model.eval()\n",
    "    # convert numpy array to torch tensor\n",
    "    data_tt = torch.Tensor(data_std)\n",
    "    # batch predict picks.\n",
    "    _torch_pred_1 = pn_pnw_model(data_tt.to(device))\n",
    "    _torch_pred_2 = pn_ethz_model(data_tt.to(device))\n",
    "    _torch_pred_3 = pn_scedc_model(data_tt.to(device))\n",
    "    _torch_pred_4 = pn_neic_model(data_tt.to(device))\n",
    "    _torch_pred_5 = pn_geofon_model(data_tt.to(device))\n",
    "    _torch_pred_6 = pn_stead_model(data_tt.to(device))\n",
    "    _torch_pred_7 = pn_instance_model(data_tt.to(device))\n",
    "    # extract P pdf\n",
    "    batch_pred =np.zeros(shape=(7,data_std.shape[0],6000))\n",
    "    batch_pred[0,:, :] = _torch_pred_1[1].detach().cpu().numpy()[:, :]\n",
    "    batch_pred[1,:, :] = _torch_pred_2[1].detach().cpu().numpy()[:, :]\n",
    "    batch_pred[2,:, :] = _torch_pred_3[1].detach().cpu().numpy()[:, :]\n",
    "    batch_pred[3,:, :] = _torch_pred_4[1].detach().cpu().numpy()[:, :]\n",
    "    batch_pred[4,:, :] = _torch_pred_5[1].detach().cpu().numpy()[:, :]\n",
    "    batch_pred[5,:, :] = _torch_pred_6[1].detach().cpu().numpy()[:, :]\n",
    "    batch_pred[6,:, :] = _torch_pred_7[1].detach().cpu().numpy()[:, :]\n",
    "                \n",
    "    # ensemble semblance\n",
    "    nwin,twin=batch_pred.shape[1],batch_pred.shape[-1]\n",
    "    if nwin==0:continue\n",
    "    smb_pred = np.zeros([ nwin, twin], dtype = np.float32)\n",
    "    smb_peak = np.zeros([ nwin], dtype = np.float32)\n",
    "    for iwin in range(len(stas)):\n",
    "        # 0 for P-wave\n",
    "        smb_pred[ iwin, :] = ensemble_semblance(batch_pred[:, iwin, :], paras_semblance)\n",
    "        imax = np.argmax(smb_pred[ iwin, :80*40]) # search for peak in the first 80 seconds\n",
    "        if smb_pred[ iwin,imax]>0:\n",
    "            smb_peak[iwin]=float((imax)/40)\n",
    "        # smb_peak[iwin] = picks_summary_simple(smb_pred[ iwin, :], thrd = p_thrd)\n",
    "    # print(\"check with PNSN picks, relative to reference picks\")\n",
    "    # ista=list(stas).index(sta[n])\n",
    "\n",
    "    ## plot figure\n",
    "\n",
    "    # fig = plt.figure()#figsize = (11,8), dpi=200)\n",
    "    # fig.suptitle(str(otime)+\" \"+associated_volcano)\n",
    "    # ax = plt.subplot(1,1,1)\n",
    "    # iplot = 0\n",
    "    # for i in range(len(stas)):\n",
    "    #     ax.plot(t-15,data_max[i,0,:]+iplot*1.5,linewidth=0.5)\n",
    "    #     ax.plot(t-15,smb_pred[ i, :]/np.max(np.abs(smb_pred[ i, :]))+iplot*1.5,'k',linewidth=0.5)\n",
    "    #     ax.set_yticks([])\n",
    "    #     plt.text(-15, iplot*1.5+0.5, stas[i])\n",
    "    #     # if i==ista:\n",
    "    #     err_title=(\"%s %2.2f (s) error in picks\"%(stas[i],smb_peak[i]-t_before))\n",
    "    #     plt.text(60, iplot*1.5+0.5,err_title,color='r')\n",
    "    #     plt.vlines(smb_peak[i]-t_before,iplot*1.5-1.,iplot*1.5+1.,'r')\n",
    "    #     print(stas[i],smb_peak[i]-t_before)\n",
    "    #     iplot+=1\n",
    "    # # plt.grid(True)\n",
    "    # ax.set_xlim([-t_before,80])\n",
    "    # ax.set_xlabel('time (seconds) relative to PNSN picks')\n",
    "    # plt.show()\n",
    "    # pdf.savefig(fig)\n",
    "    # plt.clf()\n",
    "    # del fig\n",
    "\n",
    "    pick_error[n] = smb_peak[i]-t_before\n",
    "    # print(pick_error[n] )\n",
    "# pdf.close()"
   ]
  },
  {
   "cell_type": "code",
   "execution_count": 48,
   "metadata": {},
   "outputs": [
    {
     "data": {
      "text/plain": [
       "0"
      ]
     },
     "execution_count": 48,
     "metadata": {},
     "output_type": "execute_result"
    }
   ],
   "source": [
    "len(noise_window.data)"
   ]
  },
  {
   "cell_type": "code",
   "execution_count": 36,
   "metadata": {},
   "outputs": [
    {
     "data": {
      "image/png": "[encoded data removed]",
      "text/plain": [
       "<Figure size 640x480 with 1 Axes>"
      ]
     },
     "metadata": {},
     "output_type": "display_data"
    }
   ],
   "source": [
    "ik=np.where(np.abs(pick_error)>0)\n",
    "plt.hist(pick_error[ik],100);"
   ]
  },
  {
   "cell_type": "code",
   "execution_count": 25,
   "metadata": {},
   "outputs": [],
   "source": [
    "pdf.close()"
   ]
  },
  {
   "cell_type": "code",
   "execution_count": 23,
   "metadata": {},
   "outputs": [
    {
     "name": "stdout",
     "output_type": "stream",
     "text": [
      "12231\n",
      "(14066,)\n",
      "14066\n"
     ]
    }
   ],
   "source": [
    "print(n)\n",
    "print(pick_error.shape)\n",
    "print(len(evt_id))"
   ]
  },
  {
   "cell_type": "code",
   "execution_count": null,
   "metadata": {},
   "outputs": [],
   "source": [
    "plt.hist(pick_error)"
   ]
  },
  {
   "cell_type": "markdown",
   "metadata": {},
   "source": [
    "# Multi-band Predictions"
   ]
  },
  {
   "cell_type": "code",
   "execution_count": null,
   "metadata": {},
   "outputs": [],
   "source": [
    "fqmin = 1\n",
    "fqmax = 45\n",
    "dt = 0.01; fs = 100;\n",
    "nfqs = 10\n",
    "nt = 6000; nc = 3;\n",
    "fq_list = make_LogFq(fqmin, fqmax, dt, nfqs)\n",
    "coeff_HP, coeff_LP = rec_filter_coeff(fq_list, dt)\n",
    "MBF_paras = {'f_min':fqmin, 'f_max':fqmax, 'nfqs':nfqs, 'frequencies':fq_list, 'CN_HP':coeff_HP, 'CN_LP':coeff_LP, \\\n",
    "    'dt':dt, 'fs':fs, 'nt':nt, 'nc':nc, 'npoles': 2}"
   ]
  },
  {
   "cell_type": "markdown",
   "metadata": {},
   "source": [
    "bandpass filter"
   ]
  },
  {
   "cell_type": "code",
   "execution_count": null,
   "metadata": {},
   "outputs": [],
   "source": [
    "for iseg in range(nseg):\n",
    "    for icha in range(3):\n",
    "        _windows_mb[iseg, icha, :, :] = MB_filter(_windows[iseg, icha], MBF_paras)\n",
    "_windows_mb = _windows_mb.swapaxes(1, 2)"
   ]
  },
  {
   "cell_type": "markdown",
   "metadata": {},
   "source": [
    "normalize"
   ]
  },
  {
   "cell_type": "code",
   "execution_count": null,
   "metadata": {},
   "outputs": [],
   "source": [
    "for iseg in tqdm(range(nseg)):\n",
    "    for ifre in range(nfqs):\n",
    "        # original use std norm\n",
    "        windows_std[iseg, ifre, :] = _windows_mb[iseg, ifre, :] / np.std(_windows_mb[iseg, ifre, :]) + 1e-10\n",
    "        # others use max norm\n",
    "        windows_max[iseg, ifre, :] = _windows_mb[iseg, ifre, :] / np.max(np.abs(_windows_mb[iseg, ifre, :]), axis=-1, keepdims=True) + 1e-10\n",
    "        windows_idx[iseg] = idx\n"
   ]
  }
 ],
 "metadata": {
  "kernelspec": {
   "display_name": "seismo_exo",
   "language": "python",
   "name": "python3"
  },
  "language_info": {
   "codemirror_mode": {
    "name": "ipython",
    "version": 3
   },
   "file_extension": ".py",
   "mimetype": "text/x-python",
   "name": "python",
   "nbconvert_exporter": "python",
   "pygments_lexer": "ipython3",
   "version": "3.10.12"
  },
  "orig_nbformat": 4
 },
 "nbformat": 4,
 "nbformat_minor": 2
}
