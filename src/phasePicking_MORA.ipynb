{
 "cells": [
  {
   "attachments": {},
   "cell_type": "markdown",
   "id": "e0f6cb81",
   "metadata": {},
   "source": [
    "# Surface Event Phase Picking\n",
    "\n",
    "This is a modified version of the surface-event location+directivity analysis that Francesca Skene ( fskene@uw.edu), originally created by her in 7/22/22, who started as an undergraduate student at UW. This is marine denolle's version. It includes:\n",
    "* Waveform download for each event on each volcano given the PNSN pick times of \"su\" events.\n",
    "* Data pre-processing to trim the data within 1-20 Hz and remove outliers.\n",
    "* phase picking using transfer-learned model (Ni et al, 2023)\n",
    "* Centroid time picking using envelope measurements\n",
    "* Frequency measurements for doppler analysis\n",
    "* gathering of the data into a CSV data frame.\n",
    "\n",
    "Updated 03/21/2024\n",
    "Marine Denolle\n",
    "(mdenolle@uw.edu)"
   ]
  },
  {
   "attachments": {},
   "cell_type": "markdown",
   "id": "7021dc6f",
   "metadata": {},
   "source": [
    "Import Modules"
   ]
  },
  {
   "cell_type": "code",
   "execution_count": 1,
   "id": "7cf759fb",
   "metadata": {},
   "outputs": [],
   "source": [
    "# import sys\n",
    "# sys.path.append('/data/wsd01/pnwstore/')\n",
    "import matplotlib.pyplot as plt\n",
    "\n",
    "import numpy as np\n",
    "import pandas as pd\n",
    "import obspy\n",
    "from obspy.core import UTCDateTime\n",
    "from obspy.clients.fdsn.client import Client\n",
    "\n",
    "import scipy\n",
    "from scipy import optimize\n",
    "from scipy.optimize import curve_fit\n",
    "from datetime import datetime\n",
    "from utils import *\n",
    "from mbf_elep_func import *\n",
    "import torch\n",
    "plt.rcParams.update({'font.size': 10})\n",
    "\n",
    "\n",
    "import seisbench.models as sbm\n",
    "device = torch.device(\"cpu\")\n",
    "\n",
    "# from ELEP.elep.ensemble_statistics import ensemble_statistics\n",
    "from ELEP.elep.ensemble_coherence import ensemble_semblance \n",
    "# from ELEP.elep.ensemble_learners import ensemble_regressor_cnn\n",
    "from ELEP.elep import mbf, mbf_utils\n",
    "from ELEP.elep import trigger_func\n",
    "\n",
    "from ELEP.elep.mbf_utils import make_LogFq, make_LinFq, rec_filter_coeff, create_obspy_trace\n",
    "from ELEP.elep.mbf import MB_filter as MBF\n",
    "\n",
    "from joblib import Parallel, delayed\n",
    "from matplotlib.backends.backend_pdf import PdfPages\n",
    "import pyproj"
   ]
  },
  {
   "attachments": {},
   "cell_type": "markdown",
   "id": "bd30de3d",
   "metadata": {},
   "source": [
    "Parameters"
   ]
  },
  {
   "cell_type": "code",
   "execution_count": 2,
   "id": "4c32de2f",
   "metadata": {},
   "outputs": [],
   "source": [
    "# define clients to download the station data\n",
    "# client = WaveformClient() # we ignore PNWdatastore for now\n",
    "client2 = Client('IRIS') # IRIS client\n",
    "\n",
    "t_before = 15 #number of seconds before pick time\n",
    "# t_after = 15 #number of seconds after pick time\n",
    "t_before_raw = 1200 #number of seconds before pick time before removing instrumental response\n",
    "# t_after_raw = 1200 #number of seconds after pick time before removing instrumental response\n",
    "fs = 40 #sampling rate that all waveforms are resampled to\n",
    "window = 150 #window length of the signal (this will help with phase picking with EqT next). \n",
    "# Use 150 seconds @ 40 Hz gives 6001 points. \n",
    "pr = 98 #percentile\n",
    "thr = 7 #SNR threshold\n",
    "station_distance_threshold = 25 #distance threshold in km\n",
    "pi = np.pi\n",
    "v_s = 1000 #shear wave velocity at the surface\n",
    "\n",
    "# range of dates that we are looking at\n",
    "t_beginning = UTCDateTime(2001,1,1,0,0,0) \n",
    "t_end = UTCDateTime(2024,1,1,23,59)\n",
    "\n",
    "smooth_length = 20 # constant for smoothing the waveform envelopes\n",
    "low_cut = 1 #low frequency threshold\n",
    "high_cut = 20 #high frequency threshold\n",
    "az_thr = 1000 #threshold of distance in meters from source location\n",
    "step = 100 #step every 100 m\n",
    "t_step = 1 #step every second\n",
    "ratio = 5.6915196 #used to define the grid \n",
    "# colors = list(plt.cm.tab10(np.arange(10)))*3\n",
    "radius = 6371e3 # radius of the earth"
   ]
  },
  {
   "cell_type": "markdown",
   "id": "7f4db39e",
   "metadata": {},
   "source": [
    "## Volcano - Station Information"
   ]
  },
  {
   "cell_type": "code",
   "execution_count": 3,
   "id": "7f5ede0e",
   "metadata": {},
   "outputs": [],
   "source": [
    "#this data includes all stations within 50km of each volcano and the lat, lon, elev of each station\n",
    "df = pd.read_csv('../data/station/Volcano_Metadata_50km.csv')"
   ]
  },
  {
   "cell_type": "markdown",
   "id": "0b021322",
   "metadata": {},
   "source": [
    "## PNSN SU Pick information"
   ]
  },
  {
   "cell_type": "code",
   "execution_count": 4,
   "id": "4fb1d9bf",
   "metadata": {},
   "outputs": [
    {
     "name": "stdout",
     "output_type": "stream",
     "text": [
      "Index(['date', 'net', 'sta', 'location', 'seedchan', 'iphase', 'quality',\n",
      "       'orid', 'etype', 'evid'],\n",
      "      dtype='object')\n"
     ]
    }
   ],
   "source": [
    "f1 = pd.read_csv(\"../data/events/su_picks.txt\",sep=\"|\") \n",
    "f1.head()\n",
    "print(f1.keys())"
   ]
  },
  {
   "cell_type": "code",
   "execution_count": 5,
   "id": "7a7c63ac",
   "metadata": {},
   "outputs": [],
   "source": [
    "# clean up the spaces in the file\n",
    "format='%Y/%m/%d %H:%M:%S'\n",
    "test=f1[\"date\"].values.tolist()\n",
    "start_time_temp = [  datetime.strptime(x.strip(),'%Y/%m/%d %H:%M:%S') for x in f1[\"date\"].values.tolist()]\n",
    "# # Ignore events prior to t_beginning\n",
    "ik=np.where(np.array(start_time_temp)>datetime(2001,1,1))[0][0]\n",
    "\n",
    "# select only net, sta, evid, startime for event past the start date.\n",
    "\n",
    "start_time = start_time_temp[ik:]\n",
    "net=[ x.strip() for x in f1[\"net\"].values.tolist()][ik:]\n",
    "sta=[ x.strip() for x in f1[\"sta\"].values.tolist()][ik:]\n",
    "evt_id=[ x for x in f1[\"orid\"].values.tolist()][ik:]\n",
    "all_stas=set(sta)"
   ]
  },
  {
   "cell_type": "code",
   "execution_count": 6,
   "id": "e363d533",
   "metadata": {},
   "outputs": [
    {
     "data": {
      "text/html": [
       "<div>\n",
       "<style scoped>\n",
       "    .dataframe tbody tr th:only-of-type {\n",
       "        vertical-align: middle;\n",
       "    }\n",
       "\n",
       "    .dataframe tbody tr th {\n",
       "        vertical-align: top;\n",
       "    }\n",
       "\n",
       "    .dataframe thead th {\n",
       "        text-align: right;\n",
       "    }\n",
       "</style>\n",
       "<table border=\"1\" class=\"dataframe\">\n",
       "  <thead>\n",
       "    <tr style=\"text-align: right;\">\n",
       "      <th></th>\n",
       "      <th>date</th>\n",
       "      <th>net</th>\n",
       "      <th>sta</th>\n",
       "      <th>location</th>\n",
       "      <th>seedchan</th>\n",
       "      <th>iphase</th>\n",
       "      <th>quality</th>\n",
       "      <th>orid</th>\n",
       "      <th>etype</th>\n",
       "      <th>evid</th>\n",
       "    </tr>\n",
       "  </thead>\n",
       "  <tbody>\n",
       "    <tr>\n",
       "      <th>0</th>\n",
       "      <td>1981/07/18 13:35:36</td>\n",
       "      <td>UW</td>\n",
       "      <td>MAS</td>\n",
       "      <td></td>\n",
       "      <td>EHZ</td>\n",
       "      <td>P</td>\n",
       "      <td>0.30</td>\n",
       "      <td>2250848</td>\n",
       "      <td>su</td>\n",
       "      <td>10117193</td>\n",
       "    </tr>\n",
       "    <tr>\n",
       "      <th>1</th>\n",
       "      <td>1981/07/18 13:35:38</td>\n",
       "      <td>UW</td>\n",
       "      <td>GLK</td>\n",
       "      <td></td>\n",
       "      <td>EHZ</td>\n",
       "      <td>P</td>\n",
       "      <td>0.30</td>\n",
       "      <td>2250848</td>\n",
       "      <td>su</td>\n",
       "      <td>10117193</td>\n",
       "    </tr>\n",
       "    <tr>\n",
       "      <th>2</th>\n",
       "      <td>1981/07/18 13:35:41</td>\n",
       "      <td>UW</td>\n",
       "      <td>WPW</td>\n",
       "      <td></td>\n",
       "      <td>EHZ</td>\n",
       "      <td>P</td>\n",
       "      <td>0.30</td>\n",
       "      <td>2250848</td>\n",
       "      <td>su</td>\n",
       "      <td>10117193</td>\n",
       "    </tr>\n",
       "    <tr>\n",
       "      <th>3</th>\n",
       "      <td>1981/07/18 13:35:43</td>\n",
       "      <td>UW</td>\n",
       "      <td>LON</td>\n",
       "      <td></td>\n",
       "      <td>LHZ</td>\n",
       "      <td>P</td>\n",
       "      <td>0.30</td>\n",
       "      <td>2250848</td>\n",
       "      <td>su</td>\n",
       "      <td>10117193</td>\n",
       "    </tr>\n",
       "    <tr>\n",
       "      <th>4</th>\n",
       "      <td>1981/07/18 13:35:43</td>\n",
       "      <td>UW</td>\n",
       "      <td>FLT</td>\n",
       "      <td></td>\n",
       "      <td>EHZ</td>\n",
       "      <td>P</td>\n",
       "      <td>0.00</td>\n",
       "      <td>2250848</td>\n",
       "      <td>su</td>\n",
       "      <td>10117193</td>\n",
       "    </tr>\n",
       "    <tr>\n",
       "      <th>...</th>\n",
       "      <td>...</td>\n",
       "      <td>...</td>\n",
       "      <td>...</td>\n",
       "      <td>...</td>\n",
       "      <td>...</td>\n",
       "      <td>...</td>\n",
       "      <td>...</td>\n",
       "      <td>...</td>\n",
       "      <td>...</td>\n",
       "      <td>...</td>\n",
       "    </tr>\n",
       "    <tr>\n",
       "      <th>21716</th>\n",
       "      <td>2024/01/07 02:45:34</td>\n",
       "      <td>CC</td>\n",
       "      <td>VALT</td>\n",
       "      <td></td>\n",
       "      <td>BHZ</td>\n",
       "      <td>P</td>\n",
       "      <td>0.25</td>\n",
       "      <td>3252723</td>\n",
       "      <td>su</td>\n",
       "      <td>61979131</td>\n",
       "    </tr>\n",
       "    <tr>\n",
       "      <th>21717</th>\n",
       "      <td>2024/01/07 12:56:55</td>\n",
       "      <td>UW</td>\n",
       "      <td>RCS</td>\n",
       "      <td></td>\n",
       "      <td>EHZ</td>\n",
       "      <td>P</td>\n",
       "      <td>0.50</td>\n",
       "      <td>3252743</td>\n",
       "      <td>su</td>\n",
       "      <td>61979151</td>\n",
       "    </tr>\n",
       "    <tr>\n",
       "      <th>21718</th>\n",
       "      <td>2024/01/08 01:00:17</td>\n",
       "      <td>CC</td>\n",
       "      <td>OBSR</td>\n",
       "      <td></td>\n",
       "      <td>BHZ</td>\n",
       "      <td>P</td>\n",
       "      <td>0.50</td>\n",
       "      <td>3252748</td>\n",
       "      <td>su</td>\n",
       "      <td>61979161</td>\n",
       "    </tr>\n",
       "    <tr>\n",
       "      <th>21719</th>\n",
       "      <td>2024/01/08 05:00:59</td>\n",
       "      <td>UW</td>\n",
       "      <td>RCM</td>\n",
       "      <td></td>\n",
       "      <td>HHZ</td>\n",
       "      <td>P</td>\n",
       "      <td>0.50</td>\n",
       "      <td>3252793</td>\n",
       "      <td>su</td>\n",
       "      <td>61979176</td>\n",
       "    </tr>\n",
       "    <tr>\n",
       "      <th>21720</th>\n",
       "      <td>2024/01/08 19:06:47</td>\n",
       "      <td>UW</td>\n",
       "      <td>RCM</td>\n",
       "      <td></td>\n",
       "      <td>HHZ</td>\n",
       "      <td>P</td>\n",
       "      <td>0.50</td>\n",
       "      <td>3252833</td>\n",
       "      <td>su</td>\n",
       "      <td>61979221</td>\n",
       "    </tr>\n",
       "  </tbody>\n",
       "</table>\n",
       "<p>21721 rows × 10 columns</p>\n",
       "</div>"
      ],
      "text/plain": [
       "                        date    net      sta    location    seedchan  \\\n",
       "0       1981/07/18 13:35:36    UW     MAS                  EHZ         \n",
       "1       1981/07/18 13:35:38    UW     GLK                  EHZ         \n",
       "2       1981/07/18 13:35:41    UW     WPW                  EHZ         \n",
       "3       1981/07/18 13:35:43    UW     LON                  LHZ         \n",
       "4       1981/07/18 13:35:43    UW     FLT                  EHZ         \n",
       "...                      ...    ...      ...         ...         ...   \n",
       "21716   2024/01/07 02:45:34    CC     VALT                 BHZ         \n",
       "21717   2024/01/07 12:56:55    UW     RCS                  EHZ         \n",
       "21718   2024/01/08 01:00:17    CC     OBSR                 BHZ         \n",
       "21719   2024/01/08 05:00:59    UW     RCM                  HHZ         \n",
       "21720   2024/01/08 19:06:47    UW     RCM                  HHZ         \n",
       "\n",
       "         iphase  quality     orid    etype      evid  \n",
       "0       P           0.30  2250848   su      10117193  \n",
       "1       P           0.30  2250848   su      10117193  \n",
       "2       P           0.30  2250848   su      10117193  \n",
       "3       P           0.30  2250848   su      10117193  \n",
       "4       P           0.00  2250848   su      10117193  \n",
       "...         ...      ...      ...      ...       ...  \n",
       "21716   P           0.25  3252723   su      61979131  \n",
       "21717   P           0.50  3252743   su      61979151  \n",
       "21718   P           0.50  3252748   su      61979161  \n",
       "21719   P           0.50  3252793   su      61979176  \n",
       "21720   P           0.50  3252833   su      61979221  \n",
       "\n",
       "[21721 rows x 10 columns]"
      ]
     },
     "execution_count": 6,
     "metadata": {},
     "output_type": "execute_result"
    }
   ],
   "source": [
    "f1"
   ]
  },
  {
   "attachments": {},
   "cell_type": "markdown",
   "id": "20c89405",
   "metadata": {},
   "source": [
    "## ML Models"
   ]
  },
  {
   "cell_type": "code",
   "execution_count": 7,
   "id": "a5fb0da6",
   "metadata": {},
   "outputs": [],
   "source": [
    "# import os\n",
    "# os.makedirs(\"/Users/marinedenolle/.seisbench/models/v3/eqtransformer\",exist_ok=True)"
   ]
  },
  {
   "cell_type": "code",
   "execution_count": 8,
   "id": "2ba4eaf9",
   "metadata": {},
   "outputs": [],
   "source": [
    "# !wget https://github.com/congcy/ELEP/raw/main/docs/tutorials/data/pnw.pt.v1 -O ~/.seisbench/models/v3/eqtransformer/pnw.pt.v1\n",
    "# !wget https://github.com/congcy/ELEP/raw/main/docs/tutorials/data/pnw.json.v1 -O ~/.seisbench/models/v3/eqtransformer/pnw.json.v1"
   ]
  },
  {
   "cell_type": "code",
   "execution_count": 9,
   "id": "ad86f0a4",
   "metadata": {},
   "outputs": [],
   "source": [
    "# download models\n",
    "list_models_name = [\"pnw\",\"ethz\",\"instance\",\"scedc\",\"stead\",\"geofon\"]\n",
    "pn_pnw_model = sbm.EQTransformer.from_pretrained('pnw')\n",
    "pn_ethz_model = sbm.EQTransformer.from_pretrained(\"ethz\")\n",
    "pn_instance_model = sbm.EQTransformer.from_pretrained(\"instance\")\n",
    "pn_scedc_model = sbm.EQTransformer.from_pretrained(\"scedc\")\n",
    "pn_stead_model = sbm.EQTransformer.from_pretrained(\"stead\")\n",
    "pn_geofon_model = sbm.EQTransformer.from_pretrained(\"geofon\")\n",
    "# pn_neic_model = sbm.EQTransformer.from_pretrained(\"neic\")\n",
    "\n",
    "list_models = [pn_pnw_model, pn_ethz_model, pn_instance_model, pn_scedc_model, pn_stead_model, pn_geofon_model]\n",
    "\n",
    "pn_pnw_model.to(device);\n",
    "pn_ethz_model.to(device);\n",
    "pn_scedc_model.to(device);\n",
    "# pn_neic_model.to(device);\n",
    "pn_geofon_model.to(device);\n",
    "pn_stead_model.to(device);\n",
    "pn_instance_model.to(device);"
   ]
  },
  {
   "cell_type": "code",
   "execution_count": 10,
   "id": "4947da56",
   "metadata": {},
   "outputs": [],
   "source": [
    "paras_semblance = {'dt':0.025, 'semblance_order':4, 'window_flag':True, \n",
    "                   'semblance_win':0.5, 'weight_flag':'max'}\n",
    "p_thrd, s_thrd = 0.01, 0.05\n",
    "\n",
    "fqmin = low_cut\n",
    "fqmax = high_cut\n",
    "dt = 0.025; fs = 40\n",
    "nfqs = 10\n",
    "nt = 6000; nc = 3\n",
    "fq_list = make_LogFq(fqmin, fqmax, dt, nfqs)\n",
    "coeff_HP, coeff_LP = rec_filter_coeff(fq_list, dt)\n",
    "MBF_paras = {'f_min':fqmin, 'f_max':fqmax, 'nfqs':nfqs, 'frequencies':fq_list, 'CN_HP':coeff_HP, 'CN_LP':coeff_LP, \\\n",
    "    'dt':dt, 'fs':fs, 'nt':nt, 'nc':nc, 'npoles': 2}"
   ]
  },
  {
   "cell_type": "markdown",
   "id": "d605be24",
   "metadata": {},
   "source": [
    "# Measurements\n",
    "\n",
    "* download waveforms\n",
    "* phase pick onset\n",
    "* estimate SNR\n",
    "* measure centroid, max envelope, duration\n",
    "* measure Fmax for doppler analysis\n"
   ]
  },
  {
   "cell_type": "code",
   "execution_count": 13,
   "id": "075da112",
   "metadata": {},
   "outputs": [
    {
     "name": "stdout",
     "output_type": "stream",
     "text": [
      "OBSR old centroid time 15.23122038447379 new centroid time 12.95896592915913\n",
      "OBSR old duration 82.1 new duration time 79.675\n",
      "OPCH old centroid time 13.7128626616411 new centroid time 9.312889821591845\n",
      "OPCH old duration 21.9 new duration time 17.65\n",
      "PARA old centroid time 10.905461012842409 new centroid time 9.778461442752006\n",
      "PARA old duration 19.05 new duration time 17.9\n",
      "PR05 old centroid time 17.87439586199152 new centroid time 15.344537191658912\n",
      "PR05 old duration 64.875 new duration time 62.375\n",
      "RUSH old centroid time 207.00466256102416 new centroid time 341.42035387127993\n",
      "RUSH old duration 121.0 new duration time 116.575\n",
      "SIFT old centroid time 11.618303993302339 new centroid time 9.347770532422869\n",
      "SIFT old duration 21.275 new duration time 19.0\n",
      "VOIT old centroid time 14.451012777153602 new centroid time 10.712729722641209\n",
      "VOIT old duration 24.0 new duration time 20.325\n",
      "FMW old centroid time 9.504037573633024 new centroid time 7.826334940761422\n",
      "FMW old duration 17.3 new duration time 15.6\n",
      "LO2 old centroid time 11.501738726935109 new centroid time 9.544520349710929\n",
      "LO2 old duration 21.425 new duration time 19.425\n",
      "LON old centroid time 11.214259057197534 new centroid time 9.338162998957946\n",
      "LON old duration 21.05 new duration time 19.15\n",
      "RCM old centroid time 5.753758717227348 new centroid time 7.6951762550950935\n",
      "RCM old duration 11.3 new duration time 13.3\n",
      "RER old centroid time 9.308501150626563 new centroid time 8.429377204419092\n",
      "RER old duration 17.65 new duration time 16.75\n",
      "STAR old centroid time 6.025040440503999 new centroid time 5.930771412462271\n",
      "STAR old duration 13.25 new duration time 13.15\n",
      "STAR old centroid time 5.63098383467712 new centroid time 5.930771412462271\n",
      "STAR old duration 11.425 new duration time 13.15\n"
     ]
    },
    {
     "name": "stderr",
     "output_type": "stream",
     "text": [
      "/Users/marinedenolle/miniconda3/envs/seismo_exo/lib/python3.10/site-packages/obspy/signal/filter.py:62: UserWarning: Selected high corner frequency (20) of bandpass is at or above Nyquist (20.0). Applying a high-pass instead.\n",
      "  warnings.warn(msg)\n"
     ]
    },
    {
     "name": "stdout",
     "output_type": "stream",
     "text": [
      "CARB old centroid time 24.63165437848668 new centroid time 39.590225077810565\n",
      "CARB old duration 45.3 new duration time 60.3\n",
      "OBSR old centroid time 22.002300888607593 new centroid time 21.43361278062706\n",
      "OBSR old duration 45.575 new duration time 45.0\n",
      "PARA old centroid time 21.550842239575953 new centroid time 20.35132261316452\n",
      "PARA old duration 45.225 new duration time 44.0\n",
      "PR04 old centroid time 55.123991816382606 new centroid time 70.17652705950364\n",
      "PR04 old duration 100.55 new duration time 115.55\n",
      "PR05 old centroid time 21.7122810373591 new centroid time 19.739887639353604\n",
      "PR05 old duration 44.675 new duration time 42.675\n",
      "RUSH old centroid time 22.098497940001888 new centroid time 19.74964753589196\n",
      "RUSH old duration 43.175 new duration time 40.825\n",
      "SIFT old centroid time 21.79938484503473 new centroid time 18.98561923508176\n",
      "SIFT old duration 44.3 new duration time 41.475\n",
      "VOIT old centroid time 22.986413056794774 new centroid time 18.99416499539513\n",
      "VOIT old duration 45.1 new duration time 41.075\n",
      "FMW old centroid time 23.565688175721647 new centroid time 21.803033676366493\n",
      "FMW old duration 47.35 new duration time 45.575\n",
      "LO2 old centroid time 23.57435738362087 new centroid time 20.82679660310699\n",
      "LO2 old duration 46.825 new duration time 44.075\n",
      "LON old centroid time 23.19152749116428 new centroid time 21.06345311497577\n",
      "LON old duration 46.5 new duration time 44.375\n",
      "RCM old centroid time 20.0655631215093 new centroid time 19.758308279481565\n",
      "RCM old duration 42.375 new duration time 42.05\n",
      "RER old centroid time 22.246296555992334 new centroid time 21.54974823745541\n",
      "RER old duration 45.225 new duration time 44.525\n",
      "STAR old centroid time 18.65131638060061 new centroid time 18.745285655852655\n",
      "STAR old duration 40.85 new duration time 40.95\n",
      "STAR old centroid time 17.503137723205896 new centroid time 18.745285655852655\n",
      "STAR old duration 39.0 new duration time 40.95\n",
      "WPEQ old centroid time 29.586761684760663 new centroid time 23.678640698791934\n",
      "WPEQ old duration 51.4 new duration time 45.55\n"
     ]
    },
    {
     "name": "stderr",
     "output_type": "stream",
     "text": [
      "/Users/marinedenolle/miniconda3/envs/seismo_exo/lib/python3.10/site-packages/obspy/signal/filter.py:62: UserWarning: Selected high corner frequency (20) of bandpass is at or above Nyquist (20.0). Applying a high-pass instead.\n",
      "  warnings.warn(msg)\n"
     ]
    },
    {
     "name": "stdout",
     "output_type": "stream",
     "text": [
      "CARB old centroid time 17.140132279075555 new centroid time 10.55894195369016\n",
      "CARB old duration 27.2 new duration time 20.55\n",
      "OBSR old centroid time 11.071355431564443 new centroid time 8.12161511189677\n",
      "OBSR old duration 18.525 new duration time 15.55\n",
      "PANH old centroid time 11.310284112255182 new centroid time 7.884955614594662\n",
      "PANH old duration 18.45 new duration time 15.0\n",
      "PARA old centroid time 13.270994877154038 new centroid time 10.535940573080403\n",
      "PARA old duration 20.725 new duration time 17.975\n",
      "PR04 old centroid time 16.236179308822333 new centroid time 10.576811592562986\n",
      "PR04 old duration 28.75 new duration time 23.2\n",
      "PR05 old centroid time 13.813048274869706 new centroid time 9.383713662531477\n",
      "PR05 old duration 23.5 new duration time 18.975\n",
      "RUSH old centroid time 15.388153735160232 new centroid time 10.795234426996293\n",
      "RUSH old duration 25.825 new duration time 21.225\n",
      "SIFT old centroid time 14.475219940835554 new centroid time 10.04904227057876\n",
      "SIFT old duration 25.425 new duration time 20.975\n",
      "VOIT old centroid time 15.623843756009142 new centroid time 9.757529355301417\n",
      "VOIT old duration 25.025 new duration time 19.25\n",
      "FMW old centroid time 11.543485715987703 new centroid time 7.745129227458328\n",
      "FMW old duration 20.7 new duration time 16.875\n",
      "LO2 old centroid time 12.815724157835492 new centroid time 8.954364605651328\n",
      "LO2 old duration 23.25 new duration time 19.375\n",
      "LON old centroid time 12.704934824228785 new centroid time 8.993333864760734\n",
      "LON old duration 23.05 new duration time 19.325\n",
      "RCM old centroid time 7.183791273759114 new centroid time 5.0337779167597745\n",
      "RCM old duration 11.975 new duration time 9.8\n",
      "RER old centroid time 10.349590184189172 new centroid time 7.338024472363592\n",
      "RER old duration 19.275 new duration time 16.25\n",
      "STAR old centroid time 8.07084526080971 new centroid time 6.703640074731583\n",
      "STAR old duration 14.575 new duration time 13.2\n",
      "WPEQ old centroid time 20.61387344327399 new centroid time 11.910825124683301\n",
      "WPEQ old duration 30.675 new duration time 21.95\n"
     ]
    },
    {
     "name": "stderr",
     "output_type": "stream",
     "text": [
      "/Users/marinedenolle/miniconda3/envs/seismo_exo/lib/python3.10/site-packages/obspy/signal/filter.py:62: UserWarning: Selected high corner frequency (20) of bandpass is at or above Nyquist (20.0). Applying a high-pass instead.\n",
      "  warnings.warn(msg)\n"
     ]
    },
    {
     "name": "stdout",
     "output_type": "stream",
     "text": [
      "OBSR old centroid time 35.461215348746165 new centroid time 9.144514024284373\n",
      "OBSR old duration 43.725 new duration time 17.575\n",
      "PANH old centroid time 35.7189670128257 new centroid time 7.911136513496752\n",
      "PANH old duration 42.825 new duration time 15.125\n",
      "PARA old centroid time 36.236118959696874 new centroid time 7.712736808868252\n",
      "PARA old duration 42.975 new duration time 14.5\n",
      "FMW old centroid time 35.059366219299406 new centroid time 6.8750449334883905\n",
      "FMW old duration 42.2 new duration time 13.7\n",
      "RCM old centroid time 30.964262433724958 new centroid time 5.54869074840945\n",
      "RCM old duration 36.7 new duration time 11.05\n",
      "STAR old centroid time 30.646127724066517 new centroid time 4.9720926692375835\n",
      "STAR old duration 37.3 new duration time 10.825\n"
     ]
    },
    {
     "name": "stderr",
     "output_type": "stream",
     "text": [
      "/Users/marinedenolle/miniconda3/envs/seismo_exo/lib/python3.10/site-packages/obspy/signal/filter.py:62: UserWarning: Selected high corner frequency (20) of bandpass is at or above Nyquist (20.0). Applying a high-pass instead.\n",
      "  warnings.warn(msg)\n"
     ]
    },
    {
     "name": "stdout",
     "output_type": "stream",
     "text": [
      "OBSR old centroid time 35.461215348746165 new centroid time 9.144514024284373\n",
      "OBSR old duration 43.725 new duration time 17.575\n",
      "PANH old centroid time 35.7189670128257 new centroid time 7.911136513496752\n",
      "PANH old duration 42.825 new duration time 15.125\n",
      "PARA old centroid time 36.236118959696874 new centroid time 7.712736808868252\n",
      "PARA old duration 42.975 new duration time 14.5\n",
      "FMW old centroid time 35.059366219299406 new centroid time 6.8750449334883905\n",
      "FMW old duration 42.2 new duration time 13.7\n",
      "RCM old centroid time 30.964262433724958 new centroid time 5.54869074840945\n",
      "RCM old duration 36.7 new duration time 11.05\n",
      "STAR old centroid time 30.646127724066517 new centroid time 4.9720926692375835\n",
      "STAR old duration 37.3 new duration time 10.825\n"
     ]
    },
    {
     "name": "stderr",
     "output_type": "stream",
     "text": [
      "/Users/marinedenolle/miniconda3/envs/seismo_exo/lib/python3.10/site-packages/obspy/signal/filter.py:62: UserWarning: Selected high corner frequency (20) of bandpass is at or above Nyquist (20.0). Applying a high-pass instead.\n",
      "  warnings.warn(msg)\n"
     ]
    },
    {
     "name": "stdout",
     "output_type": "stream",
     "text": [
      "OBSR old centroid time 34.43822435778304 new centroid time 9.342657639523916\n",
      "OBSR old duration 42.725 new duration time 17.775\n",
      "PANH old centroid time 34.71556236114354 new centroid time 7.547138369698135\n",
      "PANH old duration 41.825 new duration time 14.75\n",
      "PARA old centroid time 35.16576766948904 new centroid time 7.605258523702241\n",
      "PARA old duration 41.975 new duration time 14.375\n",
      "FMW old centroid time 34.348984140403395 new centroid time 6.654839889254837\n",
      "FMW old duration 41.15 new duration time 13.425\n",
      "RCM old centroid time 30.13080819706407 new centroid time 5.437151645717371\n",
      "RCM old duration 35.625 new duration time 10.875\n",
      "STAR old centroid time 29.850083250182923 new centroid time 4.962129049040368\n",
      "STAR old duration 36.275 new duration time 10.8\n"
     ]
    },
    {
     "name": "stderr",
     "output_type": "stream",
     "text": [
      "/Users/marinedenolle/miniconda3/envs/seismo_exo/lib/python3.10/site-packages/obspy/signal/filter.py:62: UserWarning: Selected high corner frequency (20) of bandpass is at or above Nyquist (20.0). Applying a high-pass instead.\n",
      "  warnings.warn(msg)\n"
     ]
    },
    {
     "name": "stdout",
     "output_type": "stream",
     "text": [
      "OBSR old centroid time 33.39512992051779 new centroid time 8.799286126322956\n",
      "OBSR old duration 41.725 new duration time 17.225\n",
      "PANH old centroid time 33.64969247304341 new centroid time 7.935723608627549\n",
      "PANH old duration 40.825 new duration time 15.15\n",
      "PARA old centroid time 34.125368208528506 new centroid time 7.584197304960917\n",
      "PARA old duration 40.975 new duration time 14.35\n",
      "FMW old centroid time 33.20154138588992 new centroid time 6.868796969107086\n",
      "FMW old duration 40.15 new duration time 13.65\n",
      "RCM old centroid time 29.140003385558497 new centroid time 5.49021406544936\n",
      "RCM old duration 34.625 new duration time 10.925\n",
      "STAR old centroid time 29.22284758158978 new centroid time 4.800971944320441\n",
      "STAR old duration 35.25 new duration time 10.625\n"
     ]
    },
    {
     "name": "stderr",
     "output_type": "stream",
     "text": [
      "/Users/marinedenolle/miniconda3/envs/seismo_exo/lib/python3.10/site-packages/obspy/signal/filter.py:62: UserWarning: Selected high corner frequency (20) of bandpass is at or above Nyquist (20.0). Applying a high-pass instead.\n",
      "  warnings.warn(msg)\n"
     ]
    },
    {
     "name": "stdout",
     "output_type": "stream",
     "text": [
      "CARB old centroid time 15.01701792988996 new centroid time 10.602000431597272\n",
      "CARB old duration 25.825 new duration time 21.2\n",
      "CRBN old centroid time 12.153327051014804 new centroid time 8.718061541926442\n",
      "CRBN old duration 20.85 new duration time 17.35\n",
      "OBSR old centroid time 9.223945945294073 new centroid time 8.412005043031746\n",
      "OBSR old duration 18.6 new duration time 17.775\n",
      "PANH old centroid time 9.324736445259127 new centroid time 8.244741743209445\n",
      "PANH old duration 16.15 new duration time 15.05\n",
      "PARA old centroid time 10.436471539551501 new centroid time 9.423776343301398\n",
      "PARA old duration 17.55 new duration time 16.525\n",
      "PR04 old centroid time 13.454935715218626 new centroid time 10.309561000491945\n",
      "PR04 old duration 26.175 new duration time 23.0\n",
      "PR05 old centroid time 12.143831200336846 new centroid time 10.156917909563663\n",
      "PR05 old duration 22.225 new duration time 20.175\n",
      "RUSH old centroid time 12.496306252605136 new centroid time 10.082862029837218\n",
      "RUSH old duration 24.7 new duration time 22.25\n",
      "SIFT old centroid time 13.782969247573416 new centroid time 11.579524780483213\n",
      "SIFT old duration 27.675 new duration time 25.425\n",
      "VOIT old centroid time 13.800269823121347 new centroid time 10.525705360261137\n",
      "VOIT old duration 24.825 new duration time 21.525\n",
      "FMW old centroid time 9.263775609139525 new centroid time 7.645925354453693\n",
      "FMW old duration 17.575 new duration time 15.925\n",
      "LO2 old centroid time 11.0246917196178 new centroid time 9.155942150412873\n",
      "LO2 old duration 24.25 new duration time 22.35\n",
      "LON old centroid time 10.717440302748763 new centroid time 8.954223222057994\n",
      "LON old duration 23.575 new duration time 21.775\n",
      "RCM old centroid time 4.933792773789304 new centroid time 4.725905425055563\n",
      "RCM old duration 10.125 new duration time 9.9\n",
      "RER old centroid time 9.246471001866547 new centroid time 8.304647029368468\n",
      "RER old duration 19.325 new duration time 18.375\n"
     ]
    },
    {
     "name": "stderr",
     "output_type": "stream",
     "text": [
      "/Users/marinedenolle/miniconda3/envs/seismo_exo/lib/python3.10/site-packages/obspy/signal/filter.py:62: UserWarning: Selected high corner frequency (20) of bandpass is at or above Nyquist (20.0). Applying a high-pass instead.\n",
      "  warnings.warn(msg)\n"
     ]
    },
    {
     "name": "stdout",
     "output_type": "stream",
     "text": [
      "CARB old centroid time 20.85629850317346 new centroid time 13.779891309038497\n",
      "CARB old duration 31.675 new duration time 24.625\n",
      "CRBN old centroid time 20.313092964965367 new centroid time 13.861824235026674\n",
      "CRBN old duration 33.1 new duration time 26.7\n",
      "OBSR old centroid time 15.257455691660956 new centroid time 12.66126159809759\n",
      "OBSR old duration 26.95 new duration time 24.35\n",
      "OPCH old centroid time 19.813595681516876 new centroid time 11.112573092953337\n",
      "OPCH old duration 30.4 new duration time 21.8\n",
      "PANH old centroid time 14.10110311829329 new centroid time 11.331890226728316\n",
      "PANH old duration 22.7 new duration time 19.925\n",
      "PARA old centroid time 15.395253940794996 new centroid time 11.63206593168402\n",
      "PARA old duration 24.05 new duration time 20.275\n",
      "PR04 old centroid time 20.065639016188523 new centroid time 14.047214437256937\n",
      "PR04 old duration 31.525 new duration time 25.45\n",
      "PR05 old centroid time 19.012744763063274 new centroid time 14.603323801560737\n",
      "PR05 old duration 33.325 new duration time 28.875\n",
      "RUSH old centroid time 19.13060945827531 new centroid time 13.967151404390425\n",
      "RUSH old duration 29.05 new duration time 23.85\n",
      "SIFT old centroid time 18.021517503167775 new centroid time 13.00354000467811\n",
      "SIFT old duration 30.225 new duration time 25.175\n",
      "VOIT old centroid time 19.371313529372543 new centroid time 13.91436463000341\n",
      "VOIT old duration 31.5 new duration time 26.025\n",
      "FMW old centroid time 16.12434607747916 new centroid time 13.583247014177699\n",
      "FMW old duration 26.35 new duration time 23.8\n",
      "LO2 old centroid time 17.069541055622366 new centroid time 12.995717194763552\n",
      "LO2 old duration 27.95 new duration time 23.85\n",
      "LON old centroid time 16.710992301527153 new centroid time 12.559865102131923\n",
      "LON old duration 27.5 new duration time 23.325\n",
      "RCM old centroid time 10.958214493296566 new centroid time 10.661172644729104\n",
      "RCM old duration 18.425 new duration time 18.125\n",
      "RER old centroid time 13.851070043876621 new centroid time 11.459764738088227\n",
      "RER old duration 24.325 new duration time 21.925\n",
      "STAR old centroid time 12.009157240650737 new centroid time 11.241320156115158\n",
      "STAR old duration 22.5 new duration time 21.725\n",
      "STAR old centroid time 11.770591975084061 new centroid time 11.241320156115158\n",
      "STAR old duration 21.4 new duration time 21.725\n",
      "STOR old centroid time 28.604062711376905 new centroid time 16.9627618018883\n",
      "STOR old duration 49.35 new duration time 37.575\n",
      "WPEQ old centroid time 23.30633414098841 new centroid time 13.74904290995352\n",
      "WPEQ old duration 35.4 new duration time 25.725\n"
     ]
    },
    {
     "name": "stderr",
     "output_type": "stream",
     "text": [
      "/Users/marinedenolle/miniconda3/envs/seismo_exo/lib/python3.10/site-packages/obspy/signal/filter.py:62: UserWarning: Selected high corner frequency (20) of bandpass is at or above Nyquist (20.0). Applying a high-pass instead.\n",
      "  warnings.warn(msg)\n"
     ]
    },
    {
     "name": "stdout",
     "output_type": "stream",
     "text": [
      "OBSR old centroid time 10.943396380714038 new centroid time 8.176502597195897\n",
      "OBSR old duration 20.375 new duration time 17.6\n",
      "PANH old centroid time 11.202523769247374 new centroid time 8.420041307432859\n",
      "PANH old duration 19.55 new duration time 16.75\n",
      "PARA old centroid time 14.28998156531795 new centroid time 10.867396528212552\n",
      "PARA old duration 40.925 new duration time 37.375\n",
      "PR05 old centroid time 13.941776902489353 new centroid time 9.836615604127546\n",
      "PR05 old duration 24.4 new duration time 20.275\n",
      "RUSH old centroid time 14.61653609787136 new centroid time 10.126019631104832\n",
      "RUSH old duration 25.275 new duration time 20.775\n",
      "SIFT old centroid time 13.825265451049408 new centroid time 10.293979883461889\n",
      "SIFT old duration 24.975 new duration time 21.45\n",
      "VOIT old centroid time 15.65316429081479 new centroid time 9.120070907127872\n",
      "VOIT old duration 27.475 new duration time 20.85\n",
      "FMW old centroid time 11.300091605388854 new centroid time 7.987244021931319\n",
      "FMW old duration 19.95 new duration time 16.65\n",
      "LON old centroid time 11.582617428508033 new centroid time 7.383582719531375\n",
      "LON old duration 20.975 new duration time 16.5\n",
      "RCM old centroid time 6.966344969772824 new centroid time 5.656523448622586\n",
      "RCM old duration 13.425 new duration time 12.1\n",
      "RER old centroid time 10.061622738077773 new centroid time 7.303784119735876\n",
      "RER old duration 18.35 new duration time 15.575\n",
      "STAR old centroid time 7.583321080053532 new centroid time 5.777946373290321\n",
      "STAR old duration 14.275 new duration time 12.45\n"
     ]
    },
    {
     "name": "stderr",
     "output_type": "stream",
     "text": [
      "/Users/marinedenolle/miniconda3/envs/seismo_exo/lib/python3.10/site-packages/obspy/signal/filter.py:62: UserWarning: Selected high corner frequency (20) of bandpass is at or above Nyquist (20.0). Applying a high-pass instead.\n",
      "  warnings.warn(msg)\n"
     ]
    },
    {
     "name": "stdout",
     "output_type": "stream",
     "text": [
      "OBSR old centroid time 9.142880126879337 new centroid time 7.838793734312562\n",
      "OBSR old duration 18.25 new duration time 16.925\n",
      "PANH old centroid time 8.797772733700407 new centroid time 7.404299878981234\n",
      "PANH old duration 16.35 new duration time 14.95\n",
      "PARA old centroid time 10.06370061145304 new centroid time 8.80523393296996\n",
      "PARA old duration 20.0 new duration time 18.725\n",
      "RUSH old centroid time 12.027353770631091 new centroid time 9.210960934854409\n",
      "RUSH old duration 22.725 new duration time 19.875\n",
      "SIFT old centroid time 13.45189984123696 new centroid time 10.975853488730225\n",
      "SIFT old duration 24.425 new duration time 21.925\n",
      "VOIT old centroid time 14.877770654178748 new centroid time 29.903009495160617\n",
      "VOIT old duration 28.525 new duration time 43.525\n",
      "FMW old centroid time 8.27035893247726 new centroid time 6.418614286855061\n",
      "FMW old duration 15.825 new duration time 13.95\n",
      "LO2 old centroid time 8.868986512428142 new centroid time 6.45494713422844\n",
      "LO2 old duration 17.4 new duration time 14.925\n",
      "LON old centroid time 8.479820926123661 new centroid time 6.323114803764172\n",
      "LON old duration 16.9 new duration time 14.675\n",
      "RCM old centroid time 4.40792427524372 new centroid time 4.050722610581408\n",
      "RCM old duration 9.325 new duration time 8.95\n",
      "RER old centroid time 8.329886080342447 new centroid time 7.0005373747068225\n",
      "RER old duration 16.675 new duration time 15.325\n",
      "STAR old centroid time 4.715183407108561 new centroid time 4.399622425459802\n",
      "STAR old duration 10.175 new duration time 9.85\n"
     ]
    },
    {
     "name": "stderr",
     "output_type": "stream",
     "text": [
      "/Users/marinedenolle/miniconda3/envs/seismo_exo/lib/python3.10/site-packages/obspy/signal/filter.py:62: UserWarning: Selected high corner frequency (20) of bandpass is at or above Nyquist (20.0). Applying a high-pass instead.\n",
      "  warnings.warn(msg)\n"
     ]
    },
    {
     "name": "stdout",
     "output_type": "stream",
     "text": [
      "OBSR old centroid time 11.52590292394278 new centroid time 8.283394989067366\n",
      "OBSR old duration 20.4 new duration time 17.15\n",
      "PANH old centroid time 11.620637907015231 new centroid time 7.41135871301971\n",
      "PANH old duration 20.15 new duration time 15.9\n",
      "PARA old centroid time 11.896137675013481 new centroid time 7.5722189302518865\n",
      "PARA old duration 19.425 new duration time 15.05\n",
      "RUSH old centroid time 15.325926554640715 new centroid time 9.725536300225148\n",
      "RUSH old duration 25.9 new duration time 20.075\n",
      "FMW old centroid time 11.367120530286627 new centroid time 7.335376556764011\n",
      "FMW old duration 19.375 new duration time 15.3\n",
      "LO2 old centroid time 13.460012430706053 new centroid time 8.18631206798382\n",
      "LO2 old duration 26.025 new duration time 20.7\n",
      "RCM old centroid time 14.141589485414116 new centroid time 13.316016362336711\n",
      "RCM old duration 111.275 new duration time 110.425\n",
      "STAR old centroid time 6.877619349578853 new centroid time 5.444321099981473\n",
      "STAR old duration 10.975 new duration time 9.525\n"
     ]
    },
    {
     "name": "stderr",
     "output_type": "stream",
     "text": [
      "/Users/marinedenolle/miniconda3/envs/seismo_exo/lib/python3.10/site-packages/obspy/signal/filter.py:62: UserWarning: Selected high corner frequency (20) of bandpass is at or above Nyquist (20.0). Applying a high-pass instead.\n",
      "  warnings.warn(msg)\n"
     ]
    },
    {
     "name": "stdout",
     "output_type": "stream",
     "text": [
      "OBSR old centroid time 10.015244515337136 new centroid time 8.349491107576062\n",
      "OBSR old duration 18.5 new duration time 16.825\n",
      "PANH old centroid time 10.505089704405007 new centroid time 8.742921286332363\n",
      "PANH old duration 19.075 new duration time 17.3\n",
      "PARA old centroid time 11.513985046255572 new centroid time 9.703506624169043\n",
      "PARA old duration 17.925 new duration time 16.1\n",
      "PR04 old centroid time 15.207465215506069 new centroid time 10.88789265484306\n",
      "PR04 old duration 28.225 new duration time 23.925\n",
      "PR05 old centroid time 13.046531185696574 new centroid time 10.080203894402949\n",
      "PR05 old duration 24.425 new duration time 21.45\n",
      "RUSH old centroid time 13.545068252372214 new centroid time 10.52122003738497\n",
      "RUSH old duration 24.6 new duration time 21.6\n",
      "SIFT old centroid time 14.029702782269963 new centroid time 11.41722345794142\n",
      "SIFT old duration 23.475 new duration time 20.925\n",
      "VOIT old centroid time 14.697862454031544 new centroid time 10.164171476616849\n",
      "VOIT old duration 26.9 new duration time 22.375\n",
      "FMW old centroid time 10.06694840093966 new centroid time 7.52035262891921\n",
      "FMW old duration 18.475 new duration time 15.9\n",
      "LO2 old centroid time 11.857795760312264 new centroid time 9.19768237125934\n",
      "LO2 old duration 23.45 new duration time 20.75\n",
      "LON old centroid time 11.585972072344802 new centroid time 8.746768761342137\n",
      "LON old duration 23.125 new duration time 20.25\n",
      "RCM old centroid time 5.639481554514195 new centroid time 4.851518148931052\n",
      "RCM old duration 9.35 new duration time 8.55\n",
      "RER old centroid time 9.719383352909684 new centroid time 7.95800803580976\n",
      "RER old duration 19.175 new duration time 17.4\n",
      "STAR old centroid time 5.996573510409786 new centroid time 5.179930216731089\n",
      "STAR old duration 10.875 new duration time 10.05\n",
      "STAR old centroid time 5.7677399313281335 new centroid time 5.179930216731089\n",
      "STAR old duration 10.05 new duration time 10.05\n"
     ]
    },
    {
     "name": "stderr",
     "output_type": "stream",
     "text": [
      "/Users/marinedenolle/miniconda3/envs/seismo_exo/lib/python3.10/site-packages/obspy/signal/filter.py:62: UserWarning: Selected high corner frequency (20) of bandpass is at or above Nyquist (20.0). Applying a high-pass instead.\n",
      "  warnings.warn(msg)\n"
     ]
    },
    {
     "name": "stdout",
     "output_type": "stream",
     "text": [
      "OBSR old centroid time 6.543904158198349 new centroid time 5.35896845281942\n",
      "OBSR old duration 12.25 new duration time 11.05\n",
      "PANH old centroid time 5.656313776894099 new centroid time 5.16803211220747\n",
      "PANH old duration 13.375 new duration time 12.875\n",
      "PARA old centroid time 29.81457724596087 new centroid time 28.992746297852264\n",
      "PARA old duration 106.95 new duration time 106.075\n",
      "RUSH old centroid time 9.243227565278346 new centroid time 6.777982824791471\n",
      "RUSH old duration 21.475 new duration time 19.0\n",
      "FMW old centroid time 5.438208737891774 new centroid time 4.259961028957146\n",
      "FMW old duration 11.65 new duration time 10.4\n",
      "RCM old centroid time 4.130043961081566 new centroid time 4.106820923147748\n",
      "RCM old duration 9.05 new duration time 9.025\n",
      "RER old centroid time 75.95490984904984 new centroid time 6.601572088267037\n",
      "RER old duration 87.325 new duration time 12.275\n",
      "STAR old centroid time 5.075679993407574 new centroid time 4.481329518915458\n",
      "STAR old duration 10.05 new duration time 9.425\n"
     ]
    },
    {
     "name": "stderr",
     "output_type": "stream",
     "text": [
      "/Users/marinedenolle/miniconda3/envs/seismo_exo/lib/python3.10/site-packages/obspy/signal/filter.py:62: UserWarning: Selected high corner frequency (20) of bandpass is at or above Nyquist (20.0). Applying a high-pass instead.\n",
      "  warnings.warn(msg)\n"
     ]
    },
    {
     "name": "stdout",
     "output_type": "stream",
     "text": [
      "CRBN old centroid time 13.699783704047332 new centroid time 9.70312084959217\n",
      "CRBN old duration 25.3 new duration time 21.175\n",
      "OBSR old centroid time 9.858854501648132 new centroid time 8.113477179410092\n",
      "OBSR old duration 19.55 new duration time 17.775\n",
      "OPCH old centroid time 13.922885515782509 new centroid time 10.136303492653681\n",
      "OPCH old duration 24.45 new duration time 20.7\n",
      "PANH old centroid time 9.188878736109707 new centroid time 7.880575007947866\n",
      "PANH old duration 16.275 new duration time 14.95\n",
      "PARA old centroid time 9.778443225810356 new centroid time 7.995788358413439\n",
      "PARA old duration 15.675 new duration time 13.85\n",
      "PR04 old centroid time 15.558879038087703 new centroid time 11.446546082838804\n",
      "PR04 old duration 30.9 new duration time 26.75\n",
      "PR05 old centroid time 12.2979423976863 new centroid time 9.232047767771594\n",
      "PR05 old duration 23.3 new duration time 20.275\n",
      "SIFT old centroid time 13.502231254890559 new centroid time 10.498828955671096\n",
      "SIFT old duration 24.6 new duration time 21.525\n",
      "VOIT old centroid time 14.846279019762354 new centroid time 11.125817891419892\n",
      "VOIT old duration 26.9 new duration time 23.225\n",
      "FMW old centroid time 9.141781300334706 new centroid time 6.892483853835327\n",
      "FMW old duration 17.1 new duration time 14.825\n",
      "LO2 old centroid time 10.780864423109799 new centroid time 8.295494974446868\n",
      "LO2 old duration 23.3 new duration time 20.75\n",
      "LON old centroid time 9.58987196191208 new centroid time 7.249368997591418\n",
      "LON old duration 17.85 new duration time 15.475\n",
      "RCM old centroid time 4.444325950008135 new centroid time 4.0444507762638935\n",
      "RCM old duration 8.575 new duration time 8.15\n",
      "RER old centroid time 45.68734643014093 new centroid time 60.796413212094\n",
      "RER old duration 110.95 new duration time 125.95\n",
      "STAR old centroid time 5.6742929308033805 new centroid time 5.698465421445855\n",
      "STAR old duration 12.375 new duration time 12.4\n",
      "STAR old centroid time 5.423324119184291 new centroid time 5.698465421445855\n",
      "STAR old duration 11.45 new duration time 12.4\n"
     ]
    },
    {
     "name": "stderr",
     "output_type": "stream",
     "text": [
      "/Users/marinedenolle/miniconda3/envs/seismo_exo/lib/python3.10/site-packages/obspy/signal/filter.py:62: UserWarning: Selected high corner frequency (20) of bandpass is at or above Nyquist (20.0). Applying a high-pass instead.\n",
      "  warnings.warn(msg)\n"
     ]
    },
    {
     "name": "stdout",
     "output_type": "stream",
     "text": [
      "OBSR old centroid time 9.616119916826017 new centroid time 7.556764594716614\n",
      "OBSR old duration 20.65 new duration time 18.575\n",
      "PARA old centroid time 10.835145533743974 new centroid time 8.74923536797993\n",
      "PARA old duration 17.65 new duration time 15.625\n",
      "PR04 old centroid time 13.889489620147488 new centroid time 9.658334024351504\n",
      "PR04 old duration 25.55 new duration time 21.275\n",
      "PR05 old centroid time 14.265822728212068 new centroid time 11.083566234495356\n",
      "PR05 old duration 32.65 new duration time 29.45\n",
      "RUSH old centroid time 13.228212889232095 new centroid time 9.863341840986884\n",
      "RUSH old duration 24.4 new duration time 21.025\n",
      "SIFT old centroid time 14.492311628862623 new centroid time 11.306374275645563\n",
      "SIFT old duration 27.35 new duration time 24.1\n",
      "VOIT old centroid time 14.616682463971511 new centroid time 10.014707702729618\n",
      "VOIT old duration 26.35 new duration time 21.75\n",
      "FMW old centroid time 10.440448965994626 new centroid time 7.9145844907477825\n",
      "FMW old duration 19.05 new duration time 16.5\n",
      "LO2 old centroid time 11.183819843472985 new centroid time 8.321898998239432\n",
      "LO2 old duration 21.025 new duration time 18.15\n",
      "LON old centroid time 10.979468304360722 new centroid time 8.128594756238188\n",
      "LON old duration 20.8 new duration time 17.925\n",
      "RCM old centroid time 6.045397568413847 new centroid time 4.980687177783179\n",
      "RCM old duration 12.2 new duration time 11.1\n",
      "RER old centroid time 9.260004023877189 new centroid time 7.177002642617811\n",
      "RER old duration 18.575 new duration time 16.475\n",
      "STAR old centroid time 6.874669031649268 new centroid time 5.7603391490128475\n",
      "STAR old duration 12.95 new duration time 11.825\n"
     ]
    },
    {
     "name": "stderr",
     "output_type": "stream",
     "text": [
      "/Users/marinedenolle/miniconda3/envs/seismo_exo/lib/python3.10/site-packages/obspy/signal/filter.py:62: UserWarning: Selected high corner frequency (20) of bandpass is at or above Nyquist (20.0). Applying a high-pass instead.\n",
      "  warnings.warn(msg)\n"
     ]
    },
    {
     "name": "stdout",
     "output_type": "stream",
     "text": [
      "CARB old centroid time 19.737035970518225 new centroid time 10.10679460175422\n",
      "CARB old duration 28.575 new duration time 18.625\n",
      "CRBN old centroid time 18.91076706336675 new centroid time 13.344124998173506\n",
      "CRBN old duration 27.9 new duration time 22.475\n",
      "OBSR old centroid time 15.193685302362836 new centroid time 13.042846334733104\n",
      "OBSR old duration 26.35 new duration time 24.175\n",
      "OPCH old centroid time 18.412606893095745 new centroid time 10.27901932174842\n",
      "OPCH old duration 29.175 new duration time 20.775\n",
      "PARA old centroid time 16.90732566834255 new centroid time 14.715764521991796\n",
      "PARA old duration 27.825 new duration time 25.625\n",
      "PR04 old centroid time 19.821048458964114 new centroid time 15.217184001706645\n",
      "PR04 old duration 34.15 new duration time 29.675\n",
      "PR05 old centroid time 17.10571838207397 new centroid time 12.982690718955823\n",
      "PR05 old duration 28.2 new duration time 24.125\n",
      "RUSH old centroid time 18.84275790568501 new centroid time 15.177206289544879\n",
      "RUSH old duration 31.75 new duration time 28.075\n",
      "SIFT old centroid time 18.142313539864617 new centroid time 14.343827369337712\n",
      "SIFT old duration 30.2 new duration time 26.375\n",
      "VOIT old centroid time 19.049079598973925 new centroid time 13.854738065284703\n",
      "VOIT old duration 30.475 new duration time 25.25\n",
      "FMW old centroid time 14.897599833181948 new centroid time 12.530067326603577\n",
      "FMW old duration 24.125 new duration time 21.75\n",
      "LO2 old centroid time 15.364649665979163 new centroid time 11.51541328285759\n",
      "LO2 old duration 25.925 new duration time 22.075\n",
      "LON old centroid time 15.105092361665383 new centroid time 11.37844952186682\n",
      "LON old duration 25.575 new duration time 21.825\n",
      "RCM old centroid time 10.837307977206581 new centroid time 9.401637759549098\n",
      "RCM old duration 17.675 new duration time 16.2\n",
      "RER old centroid time 14.51904802452933 new centroid time 12.452623130029531\n",
      "RER old duration 24.225 new duration time 22.15\n",
      "STAR old centroid time 11.269282530630294 new centroid time 9.738812141612176\n",
      "STAR old duration 18.95 new duration time 17.4\n",
      "STAR old centroid time 11.235858687895053 new centroid time 9.738812141612176\n",
      "STAR old duration 18.2 new duration time 17.4\n"
     ]
    },
    {
     "name": "stderr",
     "output_type": "stream",
     "text": [
      "/Users/marinedenolle/miniconda3/envs/seismo_exo/lib/python3.10/site-packages/obspy/signal/filter.py:62: UserWarning: Selected high corner frequency (20) of bandpass is at or above Nyquist (20.0). Applying a high-pass instead.\n",
      "  warnings.warn(msg)\n"
     ]
    },
    {
     "name": "stdout",
     "output_type": "stream",
     "text": [
      "CARB old centroid time 12.72339699679498 new centroid time 10.328595578070146\n",
      "CARB old duration 23.175 new duration time 20.75\n",
      "OBSR old centroid time 8.24024370909651 new centroid time 8.622964435013706\n",
      "OBSR old duration 17.6 new duration time 18.0\n",
      "OPCH old centroid time 11.938691983522322 new centroid time 8.659922602323862\n",
      "OPCH old duration 21.425 new duration time 18.075\n",
      "PARA old centroid time 9.058310133902252 new centroid time 9.292076649519577\n",
      "PARA old duration 17.325 new duration time 17.575\n",
      "PR04 old centroid time 13.006007133482411 new centroid time 11.140021112240817\n",
      "PR04 old duration 26.775 new duration time 24.9\n",
      "PR05 old centroid time 10.6505437743752 new centroid time 9.683125005715125\n",
      "PR05 old duration 23.075 new duration time 22.1\n",
      "RUSH old centroid time 13.06046331644359 new centroid time 12.096231515752493\n",
      "RUSH old duration 26.325 new duration time 25.35\n",
      "SIFT old centroid time 11.241269528774827 new centroid time 10.480724167332058\n",
      "SIFT old duration 21.775 new duration time 21.0\n",
      "VOIT old centroid time 12.240296127310689 new centroid time 10.54112239448043\n",
      "VOIT old duration 25.575 new duration time 23.8\n",
      "FMW old centroid time 9.019109488753765 new centroid time 8.801425406390806\n",
      "FMW old duration 18.725 new duration time 18.5\n",
      "LO2 old centroid time 9.010258805267972 new centroid time 8.764652127548644\n",
      "LO2 old duration 19.1 new duration time 18.85\n",
      "LON old centroid time 8.883053628995013 new centroid time 8.323579296001396\n",
      "LON old duration 18.875 new duration time 18.3\n",
      "RCM old centroid time 4.534107006064568 new centroid time 5.8513230272170285\n",
      "RCM old duration 12.125 new duration time 13.625\n",
      "SPFR old centroid time -79.8078860281056 new centroid time -64.41544824853293\n",
      "SPFR old duration 130.45 new duration time 145.45\n"
     ]
    },
    {
     "name": "stderr",
     "output_type": "stream",
     "text": [
      "/Users/marinedenolle/miniconda3/envs/seismo_exo/lib/python3.10/site-packages/obspy/signal/filter.py:62: UserWarning: Selected high corner frequency (20) of bandpass is at or above Nyquist (20.0). Applying a high-pass instead.\n",
      "  warnings.warn(msg)\n"
     ]
    },
    {
     "name": "stdout",
     "output_type": "stream",
     "text": [
      "OBSR old centroid time 42.02866622891974 new centroid time 20.80480595839753\n",
      "OBSR old duration 54.75 new duration time 30.5\n",
      "PARA old centroid time 44.844354454845316 new centroid time 6.61268889905429\n",
      "PARA old duration 51.475 new duration time 12.55\n",
      "FMW old centroid time 45.4106230518386 new centroid time 6.355663293910131\n",
      "FMW old duration 51.95 new duration time 12.725\n",
      "RCM old centroid time 42.6726615341765 new centroid time 6.032799394859391\n",
      "RCM old duration 49.45 new duration time 11.85\n",
      "RER old centroid time 79.27208038736862 new centroid time 39.33489406937755\n",
      "RER old duration 122.575 new duration time 83.275\n"
     ]
    },
    {
     "name": "stderr",
     "output_type": "stream",
     "text": [
      "/Users/marinedenolle/miniconda3/envs/seismo_exo/lib/python3.10/site-packages/obspy/signal/filter.py:62: UserWarning: Selected high corner frequency (20) of bandpass is at or above Nyquist (20.0). Applying a high-pass instead.\n",
      "  warnings.warn(msg)\n"
     ]
    },
    {
     "name": "stdout",
     "output_type": "stream",
     "text": [
      "CARB old centroid time 12.558234831627905 new centroid time 8.775851829121327\n",
      "CARB old duration 26.35 new duration time 22.625\n",
      "OBSR old centroid time 7.650503568773636 new centroid time 6.367477994113046\n",
      "OBSR old duration 14.95 new duration time 13.65\n",
      "PARA old centroid time 7.040634471900022 new centroid time 5.857083822406894\n",
      "PARA old duration 15.05 new duration time 13.85\n",
      "PR04 old centroid time 10.789805458245429 new centroid time 7.661925440248746\n",
      "PR04 old duration 19.3 new duration time 16.175\n",
      "PR05 old centroid time 9.08691120767436 new centroid time 7.110616727039714\n",
      "PR05 old duration 18.5 new duration time 16.5\n",
      "RUSH old centroid time 11.147323706310857 new centroid time 8.987958110249107\n",
      "RUSH old duration 19.3 new duration time 17.125\n",
      "SIFT old centroid time 10.314429448766731 new centroid time 8.183113415334299\n",
      "SIFT old duration 20.9 new duration time 18.725\n",
      "VOIT old centroid time 11.961079004914236 new centroid time 8.521661515931484\n",
      "VOIT old duration 24.725 new duration time 21.3\n",
      "FMW old centroid time 7.73111828535849 new centroid time 5.474935054854306\n",
      "FMW old duration 15.375 new duration time 13.1\n",
      "LO2 old centroid time 7.693639860941157 new centroid time 6.205255560621307\n",
      "LO2 old duration 14.675 new duration time 13.175\n",
      "LON old centroid time 23.269262806215963 new centroid time 22.155650284621668\n",
      "LON old duration 134.2 new duration time 133.1\n",
      "RCM old centroid time 4.246336668188522 new centroid time 3.810522262346225\n",
      "RCM old duration 9.15 new duration time 8.7\n",
      "RER old centroid time 5.215111926245999 new centroid time 4.461441513820917\n",
      "RER old duration 10.3 new duration time 9.525\n",
      "STAR old centroid time 2.4329626002378784 new centroid time 2.1034535511078585\n",
      "STAR old duration 6.125 new duration time 5.75\n"
     ]
    },
    {
     "name": "stderr",
     "output_type": "stream",
     "text": [
      "/Users/marinedenolle/miniconda3/envs/seismo_exo/lib/python3.10/site-packages/obspy/signal/filter.py:62: UserWarning: Selected high corner frequency (20) of bandpass is at or above Nyquist (20.0). Applying a high-pass instead.\n",
      "  warnings.warn(msg)\n"
     ]
    },
    {
     "name": "stdout",
     "output_type": "stream",
     "text": [
      "OBSR old centroid time 8.940224124988621 new centroid time 8.845910247580205\n",
      "OBSR old duration 21.125 new duration time 21.025\n",
      "PARA old centroid time 9.903842915051655 new centroid time 9.427498100690775\n",
      "PARA old duration 19.525 new duration time 19.0\n",
      "RUSH old centroid time 11.279740509890594 new centroid time 9.775701212818396\n",
      "RUSH old duration 21.775 new duration time 20.2\n",
      "SIFT old centroid time 11.21439401699879 new centroid time 9.290285492767435\n",
      "SIFT old duration 23.125 new duration time 21.15\n",
      "FMW old centroid time 8.993083305152812 new centroid time 8.175189159790635\n",
      "FMW old duration 18.975 new duration time 18.1\n",
      "LON old centroid time 9.769463514212857 new centroid time 8.679628763421567\n",
      "LON old duration 19.95 new duration time 18.825\n",
      "RCM old centroid time 5.042292396241555 new centroid time 5.659746847154686\n",
      "RCM old duration 13.7 new duration time 14.425\n",
      "RER old centroid time 8.043594747534089 new centroid time 7.691852139495987\n",
      "RER old duration 18.3 new duration time 17.925\n"
     ]
    },
    {
     "name": "stderr",
     "output_type": "stream",
     "text": [
      "/Users/marinedenolle/miniconda3/envs/seismo_exo/lib/python3.10/site-packages/obspy/signal/filter.py:62: UserWarning: Selected high corner frequency (20) of bandpass is at or above Nyquist (20.0). Applying a high-pass instead.\n",
      "  warnings.warn(msg)\n"
     ]
    },
    {
     "name": "stdout",
     "output_type": "stream",
     "text": [
      "OBSR old centroid time 6.529358580483777 new centroid time 5.872974503778641\n",
      "OBSR old duration 13.325 new duration time 12.65\n",
      "PARA old centroid time 6.284673437530868 new centroid time 5.530556541248812\n",
      "PARA old duration 15.6 new duration time 14.8\n",
      "FMW old centroid time 4.0831318320039465 new centroid time 3.482057462197126\n",
      "FMW old duration 9.975 new duration time 9.275\n",
      "RCM old centroid time 3.879448350959531 new centroid time 3.9676110529826376\n",
      "RCM old duration 7.55 new duration time 7.65\n",
      "RER old centroid time 4.127919681925806 new centroid time 3.305864696477827\n",
      "RER old duration 8.9 new duration time 8.05\n"
     ]
    },
    {
     "name": "stderr",
     "output_type": "stream",
     "text": [
      "/Users/marinedenolle/miniconda3/envs/seismo_exo/lib/python3.10/site-packages/obspy/signal/filter.py:62: UserWarning: Selected high corner frequency (20) of bandpass is at or above Nyquist (20.0). Applying a high-pass instead.\n",
      "  warnings.warn(msg)\n"
     ]
    },
    {
     "name": "stdout",
     "output_type": "stream",
     "text": [
      "OBSR old centroid time 5.567157811142776 new centroid time 5.756961041211698\n",
      "OBSR old duration 12.325 new duration time 12.525\n",
      "PARA old centroid time 5.331344332950978 new centroid time 5.4418000933583945\n",
      "PARA old duration 14.55 new duration time 14.7\n",
      "FMW old centroid time 3.2430042995475996 new centroid time 3.3623091689811346\n",
      "FMW old duration 8.85 new duration time 9.1\n",
      "RCM old centroid time 3.072699316254249 new centroid time 3.9536134071078117\n",
      "RCM old duration 6.45 new duration time 7.55\n",
      "RER old centroid time 3.159382480025934 new centroid time 3.3329973695675825\n",
      "RER old duration 7.875 new duration time 8.075\n"
     ]
    },
    {
     "name": "stderr",
     "output_type": "stream",
     "text": [
      "/Users/marinedenolle/miniconda3/envs/seismo_exo/lib/python3.10/site-packages/obspy/signal/filter.py:62: UserWarning: Selected high corner frequency (20) of bandpass is at or above Nyquist (20.0). Applying a high-pass instead.\n",
      "  warnings.warn(msg)\n"
     ]
    },
    {
     "name": "stdout",
     "output_type": "stream",
     "text": [
      "OBSR old centroid time 5.567157811142776 new centroid time 5.756961041211698\n",
      "OBSR old duration 12.325 new duration time 12.525\n",
      "PARA old centroid time 5.331344332950978 new centroid time 5.4418000933583945\n",
      "PARA old duration 14.55 new duration time 14.7\n",
      "FMW old centroid time 3.2430042995475996 new centroid time 3.3623091689811346\n",
      "FMW old duration 8.85 new duration time 9.1\n",
      "RCM old centroid time 3.072699316254249 new centroid time 3.9536134071078117\n",
      "RCM old duration 6.45 new duration time 7.55\n",
      "RER old centroid time 3.159382480025934 new centroid time 3.3329973695675825\n",
      "RER old duration 7.875 new duration time 8.075\n"
     ]
    },
    {
     "name": "stderr",
     "output_type": "stream",
     "text": [
      "/Users/marinedenolle/miniconda3/envs/seismo_exo/lib/python3.10/site-packages/obspy/signal/filter.py:62: UserWarning: Selected high corner frequency (20) of bandpass is at or above Nyquist (20.0). Applying a high-pass instead.\n",
      "  warnings.warn(msg)\n"
     ]
    },
    {
     "name": "stdout",
     "output_type": "stream",
     "text": [
      "OBSR old centroid time 5.567157811142776 new centroid time 5.756961041211698\n",
      "OBSR old duration 12.325 new duration time 12.525\n",
      "PARA old centroid time 5.331344332950978 new centroid time 5.4418000933583945\n",
      "PARA old duration 14.55 new duration time 14.7\n",
      "FMW old centroid time 3.2430042995475996 new centroid time 3.3623091689811346\n",
      "FMW old duration 8.85 new duration time 9.1\n",
      "RCM old centroid time 3.072699316254249 new centroid time 3.9536134071078117\n",
      "RCM old duration 6.45 new duration time 7.55\n",
      "RER old centroid time 3.159382480025934 new centroid time 3.3329973695675825\n",
      "RER old duration 7.875 new duration time 8.075\n"
     ]
    },
    {
     "name": "stderr",
     "output_type": "stream",
     "text": [
      "/Users/marinedenolle/miniconda3/envs/seismo_exo/lib/python3.10/site-packages/obspy/signal/filter.py:62: UserWarning: Selected high corner frequency (20) of bandpass is at or above Nyquist (20.0). Applying a high-pass instead.\n",
      "  warnings.warn(msg)\n"
     ]
    },
    {
     "name": "stdout",
     "output_type": "stream",
     "text": [
      "OBSR old centroid time 5.567157811142776 new centroid time 5.756961041211698\n",
      "OBSR old duration 12.325 new duration time 12.525\n",
      "PARA old centroid time 5.331344332950978 new centroid time 5.4418000933583945\n",
      "PARA old duration 14.55 new duration time 14.7\n",
      "FMW old centroid time 3.2430042995475996 new centroid time 3.3623091689811346\n",
      "FMW old duration 8.85 new duration time 9.1\n",
      "RCM old centroid time 3.072699316254249 new centroid time 3.9536134071078117\n",
      "RCM old duration 6.45 new duration time 7.55\n",
      "RER old centroid time 3.159382480025934 new centroid time 3.3329973695675825\n",
      "RER old duration 7.875 new duration time 8.075\n"
     ]
    },
    {
     "name": "stderr",
     "output_type": "stream",
     "text": [
      "/Users/marinedenolle/miniconda3/envs/seismo_exo/lib/python3.10/site-packages/obspy/signal/filter.py:62: UserWarning: Selected high corner frequency (20) of bandpass is at or above Nyquist (20.0). Applying a high-pass instead.\n",
      "  warnings.warn(msg)\n"
     ]
    },
    {
     "name": "stdout",
     "output_type": "stream",
     "text": [
      "OBSR old centroid time 4.72182375979419 new centroid time 5.730596912057486\n",
      "OBSR old duration 11.3 new duration time 12.5\n",
      "PARA old centroid time 4.852424677470164 new centroid time 5.470928939459485\n",
      "PARA old duration 14.75 new duration time 15.725\n",
      "FMW old centroid time 211.44068782256454 new centroid time -415.9906912212461\n",
      "FMW old duration 78.175 new duration time 72.775\n",
      "RCM old centroid time -11.011222447115873 new centroid time 0.3989713854378699\n",
      "RCM old duration 35.05 new duration time 28.55\n",
      "RER old centroid time 2.265938997111311 new centroid time 3.068086332582306\n",
      "RER old duration 6.225 new duration time 7.3\n"
     ]
    },
    {
     "name": "stderr",
     "output_type": "stream",
     "text": [
      "/Users/marinedenolle/miniconda3/envs/seismo_exo/lib/python3.10/site-packages/obspy/signal/filter.py:62: UserWarning: Selected high corner frequency (20) of bandpass is at or above Nyquist (20.0). Applying a high-pass instead.\n",
      "  warnings.warn(msg)\n"
     ]
    },
    {
     "name": "stdout",
     "output_type": "stream",
     "text": [
      "OBSR old centroid time 4.72182375979419 new centroid time 5.730596912057486\n",
      "OBSR old duration 11.3 new duration time 12.5\n",
      "PARA old centroid time 4.852424677470164 new centroid time 5.470928939459485\n",
      "PARA old duration 14.75 new duration time 15.725\n",
      "FMW old centroid time 211.44068782256454 new centroid time -415.9906912212461\n",
      "FMW old duration 78.175 new duration time 72.775\n",
      "RCM old centroid time -11.011222447115873 new centroid time 0.3989713854378699\n",
      "RCM old duration 35.05 new duration time 28.55\n",
      "RER old centroid time 2.265938997111311 new centroid time 3.068086332582306\n",
      "RER old duration 6.225 new duration time 7.3\n"
     ]
    },
    {
     "name": "stderr",
     "output_type": "stream",
     "text": [
      "/Users/marinedenolle/miniconda3/envs/seismo_exo/lib/python3.10/site-packages/obspy/signal/filter.py:62: UserWarning: Selected high corner frequency (20) of bandpass is at or above Nyquist (20.0). Applying a high-pass instead.\n",
      "  warnings.warn(msg)\n"
     ]
    },
    {
     "name": "stdout",
     "output_type": "stream",
     "text": [
      "OBSR old centroid time 84.0269956058208 new centroid time 97.0902050209524\n",
      "OBSR old duration 134.5 new duration time 138.1\n",
      "PARA old centroid time 77.39834945001131 new centroid time 89.71287372379223\n",
      "PARA old duration 134.8 new duration time 138.8\n",
      "FMW old centroid time 71.862289157307 new centroid time 82.60316935070807\n",
      "FMW old duration 134.825 new duration time 138.8\n",
      "RCM old centroid time 71.8609797250046 new centroid time 83.03497606892059\n",
      "RCM old duration 134.875 new duration time 139.5\n",
      "RER old centroid time 73.04750178736138 new centroid time 84.31873149980883\n",
      "RER old duration 134.9 new duration time 138.55\n"
     ]
    },
    {
     "name": "stderr",
     "output_type": "stream",
     "text": [
      "/Users/marinedenolle/miniconda3/envs/seismo_exo/lib/python3.10/site-packages/obspy/signal/filter.py:62: UserWarning: Selected high corner frequency (20) of bandpass is at or above Nyquist (20.0). Applying a high-pass instead.\n",
      "  warnings.warn(msg)\n"
     ]
    },
    {
     "name": "stdout",
     "output_type": "stream",
     "text": [
      "OBSR old centroid time 10.495750071156587 new centroid time 8.854829689561843\n",
      "OBSR old duration 17.65 new duration time 16.0\n",
      "PARA old centroid time 11.236225447889488 new centroid time 7.158564261592807\n",
      "PARA old duration 20.925 new duration time 16.7\n",
      "PR05 old centroid time 15.443755116393138 new centroid time 10.488017759761048\n",
      "PR05 old duration 34.6 new duration time 29.45\n",
      "RUSH old centroid time 13.269830169459881 new centroid time 7.294181417191981\n",
      "RUSH old duration 23.15 new duration time 17.0\n",
      "SIFT old centroid time 13.029973407286473 new centroid time 7.261840811236166\n",
      "SIFT old duration 20.95 new duration time 15.05\n",
      "FMW old centroid time 12.411815307564435 new centroid time 5.603113501539801\n",
      "FMW old duration 20.475 new duration time 13.55\n",
      "LO2 old centroid time 10.87484715015683 new centroid time 6.795500347360851\n",
      "LO2 old duration 20.8 new duration time 16.625\n",
      "LON old centroid time 11.05957745170304 new centroid time 6.243117834336973\n",
      "LON old duration 20.65 new duration time 15.625\n",
      "RCM old centroid time 11.42367314488674 new centroid time 9.335579841649547\n",
      "RCM old duration 21.175 new duration time 19.05\n",
      "RER old centroid time 7.151079503658414 new centroid time 7.352595988271348\n",
      "RER old duration 12.325 new duration time 12.525\n"
     ]
    },
    {
     "name": "stderr",
     "output_type": "stream",
     "text": [
      "/Users/marinedenolle/miniconda3/envs/seismo_exo/lib/python3.10/site-packages/obspy/signal/filter.py:62: UserWarning: Selected high corner frequency (20) of bandpass is at or above Nyquist (20.0). Applying a high-pass instead.\n",
      "  warnings.warn(msg)\n"
     ]
    },
    {
     "name": "stdout",
     "output_type": "stream",
     "text": [
      "CARB old centroid time 21.803304626988886 new centroid time 13.97612598824475\n",
      "CARB old duration 35.65 new duration time 27.775\n",
      "CRBN old centroid time 20.608519526966916 new centroid time 13.663111437084186\n",
      "CRBN old duration 31.925 new duration time 25.0\n",
      "OBSR old centroid time 15.276325759257057 new centroid time 15.57316959221559\n",
      "OBSR old duration 26.95 new duration time 27.25\n",
      "OPCH old centroid time 20.143788561428988 new centroid time 13.867275845510296\n",
      "OPCH old duration 32.325 new duration time 25.85\n",
      "PARA old centroid time 16.917816126874648 new centroid time 16.627281215902418\n",
      "PARA old duration 31.025 new duration time 30.725\n",
      "PR04 old centroid time 21.36565428787114 new centroid time 14.690316013835899\n",
      "PR04 old duration 37.55 new duration time 30.6\n",
      "PR05 old centroid time 18.60690541587535 new centroid time 16.651425036376523\n",
      "PR05 old duration 34.725 new duration time 32.675\n",
      "RUSH old centroid time 20.317309773720297 new centroid time 18.870511515159734\n",
      "RUSH old duration 33.75 new duration time 32.3\n",
      "SIFT old centroid time 20.504547453593226 new centroid time 14.573031862166319\n",
      "SIFT old duration 35.8 new duration time 29.65\n",
      "VOIT old centroid time 21.033977779787755 new centroid time 14.555482261423835\n",
      "VOIT old duration 35.325 new duration time 28.825\n",
      "FMW old centroid time 15.613088001086393 new centroid time 15.117454883039247\n",
      "FMW old duration 26.375 new duration time 25.875\n",
      "LO2 old centroid time 18.20769586349193 new centroid time 17.607949342344043\n",
      "LO2 old duration 33.7 new duration time 33.075\n",
      "LON old centroid time 17.993312370728297 new centroid time 16.513849844511952\n",
      "LON old duration 33.625 new duration time 32.125\n",
      "RCM old centroid time 12.108148595315878 new centroid time 14.197086713517281\n",
      "RCM old duration 22.65 new duration time 24.8\n",
      "RER old centroid time 15.997372037989136 new centroid time 16.336692196254916\n",
      "RER old duration 40.3 new duration time 40.65\n",
      "STAR old centroid time 12.352850423693837 new centroid time 13.179283015944849\n",
      "STAR old duration 22.85 new duration time 23.725\n"
     ]
    },
    {
     "name": "stderr",
     "output_type": "stream",
     "text": [
      "/Users/marinedenolle/miniconda3/envs/seismo_exo/lib/python3.10/site-packages/obspy/signal/filter.py:62: UserWarning: Selected high corner frequency (20) of bandpass is at or above Nyquist (20.0). Applying a high-pass instead.\n",
      "  warnings.warn(msg)\n"
     ]
    },
    {
     "name": "stdout",
     "output_type": "stream",
     "text": [
      "OBSR old centroid time 11.300146576179557 new centroid time 10.382192115665216\n",
      "OBSR old duration 20.2 new duration time 19.275\n",
      "PARA old centroid time 12.237304977458757 new centroid time 10.318529946091605\n",
      "PARA old duration 20.25 new duration time 18.3\n",
      "PR04 old centroid time 16.357439364930034 new centroid time 12.857230653506422\n",
      "PR04 old duration 30.875 new duration time 27.35\n",
      "PR05 old centroid time 13.223929625930586 new centroid time 10.430968614362321\n",
      "PR05 old duration 24.8 new duration time 21.85\n",
      "RUSH old centroid time 15.560343642270016 new centroid time 13.021335506631628\n",
      "RUSH old duration 25.975 new duration time 23.45\n",
      "SIFT old centroid time 13.707272356855997 new centroid time 9.366971572971897\n",
      "SIFT old duration 23.675 new duration time 19.2\n",
      "VOIT old centroid time 14.328036355933815 new centroid time 7.860441451269895\n",
      "VOIT old duration 24.125 new duration time 17.625\n",
      "FMW old centroid time 11.480461305865372 new centroid time 9.553689900739103\n",
      "FMW old duration 20.825 new duration time 18.875\n",
      "LO2 old centroid time 39.12368636036846 new centroid time 36.92893375185576\n",
      "LO2 old duration 118.475 new duration time 116.25\n",
      "LON old centroid time 39.48878377183008 new centroid time 37.226513604072565\n",
      "LON old duration 118.5 new duration time 116.225\n",
      "RCM old centroid time 7.1523233149070755 new centroid time 6.9099779231384835\n",
      "RCM old duration 15.05 new duration time 14.8\n",
      "RER old centroid time 10.563022231931079 new centroid time 9.561943991633296\n",
      "RER old duration 18.2 new duration time 17.2\n",
      "STAR old centroid time 6.839590226916183 new centroid time 6.285419043577365\n",
      "STAR old duration 13.925 new duration time 13.35\n"
     ]
    },
    {
     "name": "stderr",
     "output_type": "stream",
     "text": [
      "/Users/marinedenolle/miniconda3/envs/seismo_exo/lib/python3.10/site-packages/obspy/signal/filter.py:62: UserWarning: Selected high corner frequency (20) of bandpass is at or above Nyquist (20.0). Applying a high-pass instead.\n",
      "  warnings.warn(msg)\n"
     ]
    },
    {
     "name": "stdout",
     "output_type": "stream",
     "text": [
      "OBSR old centroid time 8.20475404078926 new centroid time 7.49214217651538\n",
      "OBSR old duration 15.275 new duration time 14.55\n",
      "RUSH old centroid time 11.89211526355294 new centroid time 9.788165058942152\n",
      "RUSH old duration 20.025 new duration time 17.9\n",
      "SIFT old centroid time 13.178787906163587 new centroid time 11.04942573944338\n",
      "SIFT old duration 25.25 new duration time 23.25\n",
      "FMW old centroid time 9.353705875697884 new centroid time 7.981549057470034\n",
      "FMW old duration 18.55 new duration time 17.175\n",
      "LO2 old centroid time 20.08390390083727 new centroid time 18.415072034008084\n",
      "LO2 old duration 54.625 new duration time 52.875\n",
      "LON old centroid time 21.462235382697568 new centroid time 19.920039739890147\n",
      "LON old duration 55.025 new duration time 53.4\n",
      "RCM old centroid time 3.2408323886002495 new centroid time 3.5148213519150806\n",
      "RCM old duration 6.475 new duration time 6.775\n",
      "RER old centroid time 7.531534185046471 new centroid time 6.765957724567601\n",
      "RER old duration 13.225 new duration time 12.45\n",
      "STAR old centroid time 4.1901688290954455 new centroid time 4.304965035079661\n",
      "STAR old duration 10.65 new duration time 10.775\n"
     ]
    },
    {
     "name": "stderr",
     "output_type": "stream",
     "text": [
      "/Users/marinedenolle/miniconda3/envs/seismo_exo/lib/python3.10/site-packages/obspy/signal/filter.py:62: UserWarning: Selected high corner frequency (20) of bandpass is at or above Nyquist (20.0). Applying a high-pass instead.\n",
      "  warnings.warn(msg)\n"
     ]
    },
    {
     "name": "stdout",
     "output_type": "stream",
     "text": [
      "OBSR old centroid time 16.26025608098665 new centroid time 11.55957322702125\n",
      "OBSR old duration 27.1 new duration time 22.35\n",
      "PARA old centroid time 15.549166490810402 new centroid time 11.048895462110295\n",
      "PARA old duration 26.125 new duration time 21.575\n",
      "RUSH old centroid time 18.044543100539777 new centroid time 10.938158357638846\n",
      "RUSH old duration 29.85 new duration time 22.775\n",
      "FMW old centroid time 16.55474596199897 new centroid time 11.959019505010016\n",
      "FMW old duration 29.675 new duration time 25.025\n",
      "LO2 old centroid time 72.78707675754347 new centroid time 67.88118697801497\n",
      "LO2 old duration 130.4 new duration time 125.35\n",
      "LON old centroid time 73.9861599948449 new centroid time 69.17221653061742\n",
      "LON old duration 130.35 new duration time 125.425\n",
      "RCM old centroid time 11.177186902949977 new centroid time 10.830435830723173\n",
      "RCM old duration 19.3 new duration time 18.95\n",
      "RER old centroid time 14.854791918466166 new centroid time 9.851230015908856\n",
      "RER old duration 25.45 new duration time 20.35\n",
      "SPFR old centroid time 37.34157215617438 new centroid time 52.59308081479236\n",
      "SPFR old duration 38.35 new duration time 53.35\n",
      "STAR old centroid time 12.50933582058557 new centroid time 8.133474421452254\n",
      "STAR old duration 22.325 new duration time 17.85\n"
     ]
    },
    {
     "name": "stderr",
     "output_type": "stream",
     "text": [
      "/Users/marinedenolle/miniconda3/envs/seismo_exo/lib/python3.10/site-packages/obspy/signal/filter.py:62: UserWarning: Selected high corner frequency (20) of bandpass is at or above Nyquist (20.0). Applying a high-pass instead.\n",
      "  warnings.warn(msg)\n"
     ]
    },
    {
     "name": "stdout",
     "output_type": "stream",
     "text": [
      "CARB old centroid time 22.43597315541103 new centroid time 14.34082003814373\n",
      "CARB old duration 37.5 new duration time 29.275\n",
      "CRBN old centroid time 23.11506227997561 new centroid time 17.125361620589157\n",
      "CRBN old duration 43.425 new duration time 37.3\n",
      "OBSR old centroid time 16.265154591441377 new centroid time 16.289849454849392\n",
      "OBSR old duration 29.75 new duration time 29.775\n",
      "PARA old centroid time 24.951441030207814 new centroid time 23.962631808126705\n",
      "PARA old duration 105.35 new duration time 104.35\n",
      "PR04 old centroid time 21.501171354637705 new centroid time 19.0357327960964\n",
      "PR04 old duration 37.625 new duration time 35.15\n",
      "PR05 old centroid time 20.363072962055092 new centroid time 17.589294268488743\n",
      "PR05 old duration 37.825 new duration time 35.0\n",
      "RUSH old centroid time 20.048932200032603 new centroid time 18.899425873155426\n",
      "RUSH old duration 36.025 new duration time 34.875\n",
      "SIFT old centroid time 19.23831957388468 new centroid time 17.506712475120608\n",
      "SIFT old duration 35.175 new duration time 33.375\n",
      "VOIT old centroid time 21.200029023785742 new centroid time 16.010506240364744\n",
      "VOIT old duration 34.725 new duration time 29.225\n",
      "FMW old centroid time 19.431337329619645 new centroid time 18.284247239975517\n",
      "FMW old duration 38.125 new duration time 36.975\n",
      "LO2 old centroid time 18.60841482707118 new centroid time 16.86016993256775\n",
      "LO2 old duration 31.725 new duration time 29.975\n",
      "LON old centroid time 18.348641899791925 new centroid time 16.697358658202795\n",
      "LON old duration 31.875 new duration time 30.225\n",
      "RCM old centroid time 27.062750511869517 new centroid time 26.86950844232508\n",
      "RCM old duration 102.8 new duration time 102.6\n",
      "RER old centroid time 40.20763723471589 new centroid time 39.60335555563644\n",
      "RER old duration 106.325 new duration time 105.7\n"
     ]
    },
    {
     "name": "stderr",
     "output_type": "stream",
     "text": [
      "/Users/marinedenolle/miniconda3/envs/seismo_exo/lib/python3.10/site-packages/obspy/signal/filter.py:62: UserWarning: Selected high corner frequency (20) of bandpass is at or above Nyquist (20.0). Applying a high-pass instead.\n",
      "  warnings.warn(msg)\n"
     ]
    },
    {
     "name": "stdout",
     "output_type": "stream",
     "text": [
      "OBSR old centroid time 16.85360080586879 new centroid time 11.999978787623249\n",
      "OBSR old duration 34.6 new duration time 29.6\n",
      "PARA old centroid time 15.809595851449197 new centroid time 14.106168700169265\n",
      "PARA old duration 34.775 new duration time 33.05\n",
      "RCM old centroid time 21.32793186012544 new centroid time 21.399306515683758\n",
      "RCM old duration 50.025 new duration time 50.1\n",
      "STAR old centroid time 18.180286727299123 new centroid time 17.55608788261109\n",
      "STAR old duration 44.625 new duration time 44.0\n"
     ]
    },
    {
     "name": "stderr",
     "output_type": "stream",
     "text": [
      "/Users/marinedenolle/miniconda3/envs/seismo_exo/lib/python3.10/site-packages/obspy/signal/filter.py:62: UserWarning: Selected high corner frequency (20) of bandpass is at or above Nyquist (20.0). Applying a high-pass instead.\n",
      "  warnings.warn(msg)\n"
     ]
    },
    {
     "name": "stdout",
     "output_type": "stream",
     "text": [
      "CARB old centroid time 15.890210965817813 new centroid time 10.204470012792813\n",
      "CARB old duration 22.125 new duration time 16.25\n",
      "CRBN old centroid time 15.485635916487743 new centroid time 11.10581552465728\n",
      "CRBN old duration 25.025 new duration time 20.55\n",
      "OBSR old centroid time 10.301746223538625 new centroid time 8.283307506504821\n",
      "OBSR old duration 17.55 new duration time 15.525\n",
      "OPCH old centroid time 14.87043409804833 new centroid time 8.27812533845396\n",
      "OPCH old duration 22.85 new duration time 16.025\n",
      "PARA old centroid time 12.30501074193466 new centroid time 9.651749630771583\n",
      "PARA old duration 21.725 new duration time 19.025\n",
      "PR04 old centroid time 16.74587197696091 new centroid time 10.873401467219301\n",
      "PR04 old duration 29.625 new duration time 23.5\n",
      "PR05 old centroid time 10.09086456845332 new centroid time 6.786687683775453\n",
      "PR05 old duration 128.2 new duration time 124.825\n",
      "RUSH old centroid time 14.07027309671575 new centroid time 10.84081563960178\n",
      "RUSH old duration 22.9 new duration time 19.675\n",
      "SIFT old centroid time 13.79427552018898 new centroid time 11.188967023141123\n",
      "SIFT old duration 23.9 new duration time 21.2\n",
      "VOIT old centroid time 16.44093957261838 new centroid time 10.945501666475105\n",
      "VOIT old duration 28.575 new duration time 22.85\n",
      "FMW old centroid time 11.56427814372467 new centroid time 9.329926319886669\n",
      "FMW old duration 19.4 new duration time 17.175\n",
      "LO2 old centroid time 11.933498862205917 new centroid time 9.193164571735817\n",
      "LO2 old duration 20.8 new duration time 18.025\n",
      "LON old centroid time 11.56904599101269 new centroid time 8.749959867621586\n",
      "LON old duration 20.45 new duration time 17.6\n",
      "RCM old centroid time 6.562479208988472 new centroid time 5.923005406247243\n",
      "RCM old duration 11.5 new duration time 10.85\n",
      "RER old centroid time 10.476751190940666 new centroid time 8.685814863112302\n",
      "RER old duration 18.6 new duration time 16.8\n"
     ]
    },
    {
     "name": "stderr",
     "output_type": "stream",
     "text": [
      "/Users/marinedenolle/miniconda3/envs/seismo_exo/lib/python3.10/site-packages/obspy/signal/filter.py:62: UserWarning: Selected high corner frequency (20) of bandpass is at or above Nyquist (20.0). Applying a high-pass instead.\n",
      "  warnings.warn(msg)\n"
     ]
    },
    {
     "name": "stdout",
     "output_type": "stream",
     "text": [
      "OBSR old centroid time 92.45497132801803 new centroid time 20.332071323303857\n",
      "OBSR old duration 104.6 new duration time 33.05\n",
      "RCM old centroid time 87.51642366779886 new centroid time 19.087572114656357\n",
      "RCM old duration 96.7 new duration time 30.775\n",
      "RER old centroid time 90.48752990262867 new centroid time 19.93205459717429\n",
      "RER old duration 100.85 new duration time 32.075\n"
     ]
    },
    {
     "name": "stderr",
     "output_type": "stream",
     "text": [
      "/Users/marinedenolle/miniconda3/envs/seismo_exo/lib/python3.10/site-packages/obspy/signal/filter.py:62: UserWarning: Selected high corner frequency (20) of bandpass is at or above Nyquist (20.0). Applying a high-pass instead.\n",
      "  warnings.warn(msg)\n"
     ]
    },
    {
     "name": "stdout",
     "output_type": "stream",
     "text": [
      "OBSR old centroid time 92.45497132801803 new centroid time 20.332071323303857\n",
      "OBSR old duration 104.6 new duration time 33.05\n",
      "RCM old centroid time 87.51642366779886 new centroid time 19.087572114656357\n",
      "RCM old duration 96.7 new duration time 30.775\n",
      "RER old centroid time 90.48752990262867 new centroid time 19.93205459717429\n",
      "RER old duration 100.85 new duration time 32.075\n"
     ]
    },
    {
     "name": "stderr",
     "output_type": "stream",
     "text": [
      "/Users/marinedenolle/miniconda3/envs/seismo_exo/lib/python3.10/site-packages/obspy/signal/filter.py:62: UserWarning: Selected high corner frequency (20) of bandpass is at or above Nyquist (20.0). Applying a high-pass instead.\n",
      "  warnings.warn(msg)\n"
     ]
    },
    {
     "name": "stdout",
     "output_type": "stream",
     "text": [
      "OBSR old centroid time 92.45497132801803 new centroid time 20.332071323303857\n",
      "OBSR old duration 104.6 new duration time 33.05\n",
      "RCM old centroid time 87.51642366779886 new centroid time 19.087572114656357\n",
      "RCM old duration 96.7 new duration time 30.775\n",
      "RER old centroid time 90.48752990262867 new centroid time 19.93205459717429\n",
      "RER old duration 100.85 new duration time 32.075\n"
     ]
    },
    {
     "name": "stderr",
     "output_type": "stream",
     "text": [
      "/Users/marinedenolle/miniconda3/envs/seismo_exo/lib/python3.10/site-packages/obspy/signal/filter.py:62: UserWarning: Selected high corner frequency (20) of bandpass is at or above Nyquist (20.0). Applying a high-pass instead.\n",
      "  warnings.warn(msg)\n"
     ]
    },
    {
     "name": "stdout",
     "output_type": "stream",
     "text": [
      "OBSR old centroid time 91.050381934529 new centroid time 21.014824254129866\n",
      "OBSR old duration 103.625 new duration time 33.8\n",
      "RCM old centroid time 86.42679747619098 new centroid time 19.135168541175087\n",
      "RCM old duration 95.7 new duration time 30.825\n",
      "RER old centroid time 89.88682803086992 new centroid time 19.592617148514243\n",
      "RER old duration 99.85 new duration time 31.675\n"
     ]
    },
    {
     "name": "stderr",
     "output_type": "stream",
     "text": [
      "/Users/marinedenolle/miniconda3/envs/seismo_exo/lib/python3.10/site-packages/obspy/signal/filter.py:62: UserWarning: Selected high corner frequency (20) of bandpass is at or above Nyquist (20.0). Applying a high-pass instead.\n",
      "  warnings.warn(msg)\n"
     ]
    },
    {
     "name": "stdout",
     "output_type": "stream",
     "text": [
      "OBSR old centroid time 89.95179184772392 new centroid time 21.01038971543712\n",
      "OBSR old duration 102.625 new duration time 33.8\n",
      "RCM old centroid time 85.306723307349 new centroid time 19.037418485209805\n",
      "RCM old duration 94.7 new duration time 30.725\n",
      "RER old centroid time 89.09077635911926 new centroid time 20.35525795434493\n",
      "RER old duration 98.85 new duration time 32.525\n"
     ]
    },
    {
     "name": "stderr",
     "output_type": "stream",
     "text": [
      "/Users/marinedenolle/miniconda3/envs/seismo_exo/lib/python3.10/site-packages/obspy/signal/filter.py:62: UserWarning: Selected high corner frequency (20) of bandpass is at or above Nyquist (20.0). Applying a high-pass instead.\n",
      "  warnings.warn(msg)\n"
     ]
    },
    {
     "name": "stdout",
     "output_type": "stream",
     "text": [
      "OBSR old centroid time 13.144610370716038 new centroid time 11.826752837315661\n",
      "OBSR old duration 25.175 new duration time 23.85\n",
      "PARA old centroid time 11.699197511794129 new centroid time 7.808022364008305\n",
      "PARA old duration 21.9 new duration time 17.9\n",
      "PR04 old centroid time 14.684182868587436 new centroid time 9.994450013135266\n",
      "PR04 old duration 26.2 new duration time 21.4\n",
      "PR05 old centroid time 13.39623512692635 new centroid time 9.221311565854094\n",
      "PR05 old duration 24.375 new duration time 20.05\n",
      "RUSH old centroid time 33.14122182102997 new centroid time 28.557498214684827\n",
      "RUSH old duration 105.075 new duration time 100.4\n",
      "SIFT old centroid time 14.708449004555145 new centroid time 9.634375443930942\n",
      "SIFT old duration 27.15 new duration time 21.925\n",
      "VOIT old centroid time 15.207742529441598 new centroid time 8.799646281245902\n",
      "VOIT old duration 24.05 new duration time 17.675\n",
      "FMW old centroid time 13.247210198974761 new centroid time 9.096643012382676\n",
      "FMW old duration 23.975 new duration time 19.75\n",
      "LON old centroid time 12.470687319137612 new centroid time 9.073423086953536\n",
      "LON old duration 24.05 new duration time 20.625\n",
      "RCM old centroid time 7.699877904694668 new centroid time 8.236133013063048\n",
      "RCM old duration 16.8 new duration time 17.35\n",
      "RER old centroid time 9.959871203889803 new centroid time 9.3136028845703\n",
      "RER old duration 19.0 new duration time 18.35\n"
     ]
    },
    {
     "name": "stderr",
     "output_type": "stream",
     "text": [
      "/Users/marinedenolle/miniconda3/envs/seismo_exo/lib/python3.10/site-packages/obspy/signal/filter.py:62: UserWarning: Selected high corner frequency (20) of bandpass is at or above Nyquist (20.0). Applying a high-pass instead.\n",
      "  warnings.warn(msg)\n"
     ]
    },
    {
     "name": "stdout",
     "output_type": "stream",
     "text": [
      "OBSR old centroid time 12.792757389315767 new centroid time 9.992830374366003\n",
      "OBSR old duration 21.875 new duration time 19.05\n",
      "OPCH old centroid time 16.72488697015664 new centroid time 11.54163756091232\n",
      "OPCH old duration 25.325 new duration time 20.1\n",
      "PARA old centroid time 14.566489443612337 new centroid time 11.21805623752089\n",
      "PARA old duration 22.85 new duration time 19.475\n",
      "PR05 old centroid time 15.269199617639082 new centroid time 9.985951617183046\n",
      "PR05 old duration 24.525 new duration time 19.4\n",
      "RUSH old centroid time 17.863106599433806 new centroid time 12.022341134732633\n",
      "RUSH old duration 29.225 new duration time 23.675\n",
      "SIFT old centroid time 16.392841035381608 new centroid time 12.861255710992419\n",
      "SIFT old duration 26.7 new duration time 23.175\n",
      "VOIT old centroid time 16.99058002998922 new centroid time 11.052594564722563\n",
      "VOIT old duration 29.45 new duration time 23.525\n",
      "FMW old centroid time 13.148327536862435 new centroid time 10.211545528297703\n",
      "FMW old duration 19.55 new duration time 16.575\n",
      "LO2 old centroid time 15.16553066920392 new centroid time 9.921722990851109\n",
      "LO2 old duration 25.85 new duration time 20.575\n",
      "LON old centroid time 15.39013227289346 new centroid time 13.154418848967582\n",
      "LON old duration 29.325 new duration time 27.075\n",
      "RCM old centroid time 8.925354785126014 new centroid time 8.678967600465471\n",
      "RCM old duration 17.4 new duration time 17.15\n",
      "RER old centroid time 12.223313277310565 new centroid time 9.401465483869629\n",
      "RER old duration 21.0 new duration time 18.15\n"
     ]
    },
    {
     "name": "stderr",
     "output_type": "stream",
     "text": [
      "/Users/marinedenolle/miniconda3/envs/seismo_exo/lib/python3.10/site-packages/obspy/signal/filter.py:62: UserWarning: Selected high corner frequency (20) of bandpass is at or above Nyquist (20.0). Applying a high-pass instead.\n",
      "  warnings.warn(msg)\n"
     ]
    },
    {
     "name": "stdout",
     "output_type": "stream",
     "text": [
      "OBSR old centroid time 22.845107753238864 new centroid time 19.8958419734942\n",
      "OBSR old duration 44.575 new duration time 41.625\n",
      "PARA old centroid time 22.066136983763766 new centroid time 16.97703800970685\n",
      "PARA old duration 45.95 new duration time 40.8\n",
      "RUSH old centroid time 24.15025053345563 new centroid time 16.860229032113995\n",
      "RUSH old duration 46.5 new duration time 39.275\n",
      "SIFT old centroid time 21.04857605489002 new centroid time 13.500176794816642\n",
      "SIFT old duration 40.225 new duration time 32.55\n",
      "FMW old centroid time 22.943358837577303 new centroid time 17.362403289838817\n",
      "FMW old duration 43.425 new duration time 37.8\n",
      "LO2 old centroid time 20.79780675604409 new centroid time 14.765429820322035\n",
      "LO2 old duration 41.025 new duration time 34.875\n",
      "LON old centroid time 20.46295668657215 new centroid time 14.576991901009608\n",
      "LON old duration 40.875 new duration time 34.85\n",
      "RCM old centroid time 18.960774638929834 new centroid time 19.158417957416336\n",
      "RCM old duration 41.2 new duration time 41.4\n",
      "RER old centroid time 21.042040642541178 new centroid time 15.829961920811112\n",
      "RER old duration 43.175 new duration time 37.825\n"
     ]
    },
    {
     "name": "stderr",
     "output_type": "stream",
     "text": [
      "/Users/marinedenolle/miniconda3/envs/seismo_exo/lib/python3.10/site-packages/obspy/signal/filter.py:62: UserWarning: Selected high corner frequency (20) of bandpass is at or above Nyquist (20.0). Applying a high-pass instead.\n",
      "  warnings.warn(msg)\n"
     ]
    },
    {
     "name": "stdout",
     "output_type": "stream",
     "text": [
      "CARB old centroid time 19.347788733710335 new centroid time 10.351989958196759\n",
      "CARB old duration 31.225 new duration time 22.2\n",
      "CRBN old centroid time 17.44761916273963 new centroid time 10.303192878815874\n",
      "CRBN old duration 26.9 new duration time 19.375\n",
      "OBSR old centroid time 14.00201331613934 new centroid time 11.087581326937386\n",
      "OBSR old duration 24.35 new duration time 21.425\n",
      "OPCH old centroid time 18.926468906057416 new centroid time 9.97343368132936\n",
      "OPCH old duration 26.85 new duration time 18.075\n",
      "PARA old centroid time 15.177787024186536 new centroid time 12.446563706603884\n",
      "PARA old duration 23.85 new duration time 21.1\n",
      "PR04 old centroid time 18.981183558834285 new centroid time 10.696788206362484\n",
      "PR04 old duration 32.475 new duration time 23.975\n",
      "PR05 old centroid time 16.4095898962463 new centroid time 11.225719275628647\n",
      "PR05 old duration 29.875 new duration time 24.8\n",
      "RUSH old centroid time 17.743696855697532 new centroid time 13.129363362621437\n",
      "RUSH old duration 32.05 new duration time 27.375\n",
      "SIFT old centroid time 18.320034060423804 new centroid time 12.140862380705492\n",
      "SIFT old duration 31.325 new duration time 25.05\n",
      "VOIT old centroid time 17.73101485626341 new centroid time 12.217793316011583\n",
      "VOIT old duration 29.175 new duration time 23.525\n",
      "FMW old centroid time 13.755616010882873 new centroid time 9.57842085574602\n",
      "FMW old duration 22.125 new duration time 17.9\n",
      "LO2 old centroid time 15.332096728499314 new centroid time 10.630123084222369\n",
      "LO2 old duration 25.475 new duration time 20.725\n",
      "LON old centroid time 15.886996637332349 new centroid time 11.025047106817183\n",
      "LON old duration 27.575 new duration time 22.65\n",
      "RCM old centroid time 9.727955621051334 new centroid time 9.210847257488043\n",
      "RCM old duration 16.875 new duration time 16.35\n",
      "RER old centroid time 29.804291186078963 new centroid time 27.306547863847147\n",
      "RER old duration 78.55 new duration time 76.05\n"
     ]
    },
    {
     "name": "stderr",
     "output_type": "stream",
     "text": [
      "/Users/marinedenolle/miniconda3/envs/seismo_exo/lib/python3.10/site-packages/obspy/signal/filter.py:62: UserWarning: Selected high corner frequency (20) of bandpass is at or above Nyquist (20.0). Applying a high-pass instead.\n",
      "  warnings.warn(msg)\n"
     ]
    },
    {
     "name": "stdout",
     "output_type": "stream",
     "text": [
      "CARB old centroid time 59.19091411506978 new centroid time 7.145621623708604\n",
      "CARB old duration 134.9 new duration time 12.85\n",
      "OBSR old centroid time 14.465232902171175 new centroid time 12.077516196345057\n",
      "OBSR old duration 22.45 new duration time 20.05\n",
      "OPCH old centroid time 19.408162241381852 new centroid time 11.849845292304629\n",
      "OPCH old duration 26.85 new duration time 19.3\n",
      "PARA old centroid time 35.769334305841795 new centroid time 35.18043979732635\n",
      "PARA old duration 101.25 new duration time 100.6\n",
      "PR04 old centroid time 21.711677090196165 new centroid time 11.619389092048927\n",
      "PR04 old duration 39.2 new duration time 28.7\n",
      "PR05 old centroid time 18.612269362496875 new centroid time 15.305674510464808\n",
      "PR05 old duration 30.4 new duration time 27.05\n",
      "RUSH old centroid time 19.067940500178008 new centroid time 14.201107717130423\n",
      "RUSH old duration 30.725 new duration time 25.875\n",
      "SIFT old centroid time 19.235140837456076 new centroid time 14.964399770050242\n",
      "SIFT old duration 30.525 new duration time 26.2\n",
      "VOIT old centroid time 19.71073567169082 new centroid time 11.03747829709373\n",
      "VOIT old duration 26.75 new duration time 18.0\n",
      "FMW old centroid time 15.407674350764395 new centroid time 11.370383614426355\n",
      "FMW old duration 26.3 new duration time 22.2\n",
      "LO2 old centroid time 16.778960719503562 new centroid time 13.988891017181226\n",
      "LO2 old duration 26.175 new duration time 23.35\n",
      "LON old centroid time 16.61174186607216 new centroid time 13.750088846774366\n",
      "LON old duration 25.875 new duration time 23.0\n",
      "RCM old centroid time 10.00150141433557 new centroid time 10.001501414335568\n",
      "RCM old duration 18.225 new duration time 18.225\n",
      "RER old centroid time 14.338441357080882 new centroid time 12.523253094469625\n",
      "RER old duration 22.2 new duration time 20.375\n",
      "STAR old centroid time 60.24653918893345 new centroid time 75.26713358560194\n",
      "STAR old duration 112.525 new duration time 127.525\n",
      "STAR old centroid time 69.3324910697928 new centroid time 75.26713358560194\n",
      "STAR old duration 119.7 new duration time 127.525\n"
     ]
    },
    {
     "name": "stderr",
     "output_type": "stream",
     "text": [
      "/Users/marinedenolle/miniconda3/envs/seismo_exo/lib/python3.10/site-packages/obspy/signal/filter.py:62: UserWarning: Selected high corner frequency (20) of bandpass is at or above Nyquist (20.0). Applying a high-pass instead.\n",
      "  warnings.warn(msg)\n"
     ]
    },
    {
     "name": "stdout",
     "output_type": "stream",
     "text": [
      "GTWY old centroid time 74.49970432573934 new centroid time 89.02367510106716\n",
      "GTWY old duration 118.225 new duration time 131.8\n",
      "OBSR old centroid time 10.461256240244941 new centroid time 8.816254901966339\n",
      "OBSR old duration 19.575 new duration time 17.925\n",
      "RUSH old centroid time 15.189569888410109 new centroid time 12.763143183007001\n",
      "RUSH old duration 30.15 new duration time 27.725\n",
      "SIFT old centroid time 13.439391444241652 new centroid time 10.830898709620703\n",
      "SIFT old duration 23.775 new duration time 21.125\n",
      "FMW old centroid time 10.404537188484658 new centroid time 8.193519916274518\n",
      "FMW old duration 17.325 new duration time 15.125\n",
      "LON old centroid time 33.054639074881905 new centroid time 30.817170517604776\n",
      "LON old duration 74.875 new duration time 72.4\n",
      "RCM old centroid time 7.267171817473771 new centroid time 6.5350174042716045\n",
      "RCM old duration 18.85 new duration time 18.1\n",
      "RER old centroid time 9.099777484239956 new centroid time 7.280779488114586\n",
      "RER old duration 17.875 new duration time 16.025\n"
     ]
    },
    {
     "name": "stderr",
     "output_type": "stream",
     "text": [
      "/Users/marinedenolle/miniconda3/envs/seismo_exo/lib/python3.10/site-packages/obspy/signal/filter.py:62: UserWarning: Selected high corner frequency (20) of bandpass is at or above Nyquist (20.0). Applying a high-pass instead.\n",
      "  warnings.warn(msg)\n"
     ]
    },
    {
     "name": "stdout",
     "output_type": "stream",
     "text": [
      "CARB old centroid time 16.40574794610487 new centroid time 10.374650119322437\n",
      "CARB old duration 29.475 new duration time 23.3\n",
      "CRBN old centroid time 14.94568545354757 new centroid time 10.310994605236562\n",
      "CRBN old duration 24.925 new duration time 20.275\n",
      "OBSR old centroid time 10.674655249444378 new centroid time 8.555147171004865\n",
      "OBSR old duration 18.45 new duration time 16.3\n",
      "OPCH old centroid time 15.59166612179228 new centroid time 10.565606132279934\n",
      "OPCH old duration 24.925 new duration time 19.85\n",
      "PARA old centroid time 12.124006541896646 new centroid time 7.815210795405899\n",
      "PARA old duration 20.625 new duration time 16.15\n",
      "PR01 old centroid time 18.926025608511676 new centroid time 12.536117621824548\n",
      "PR01 old duration 33.75 new duration time 27.425\n",
      "PR04 old centroid time 16.246346584361238 new centroid time 12.086814746523816\n",
      "PR04 old duration 29.075 new duration time 24.875\n",
      "PR05 old centroid time 14.055955450103445 new centroid time 10.496905462358923\n",
      "PR05 old duration 27.1 new duration time 23.45\n",
      "RUSH old centroid time 14.726015571268464 new centroid time 10.939148875066733\n",
      "RUSH old duration 26.225 new duration time 22.575\n",
      "SIFT old centroid time 15.37578429586118 new centroid time 13.179773401357137\n",
      "SIFT old duration 28.675 new duration time 26.45\n",
      "VOIT old centroid time 15.418633034690274 new centroid time 10.4728592621134\n",
      "VOIT old duration 28.85 new duration time 23.925\n",
      "FMW old centroid time 12.125786444523204 new centroid time 10.349055708642783\n",
      "FMW old duration 24.5 new duration time 22.7\n",
      "LO2 old centroid time 13.679867353876991 new centroid time 11.271585080072178\n",
      "LO2 old duration 25.7 new duration time 23.275\n",
      "LON old centroid time 13.249577361003835 new centroid time 10.817218423364375\n",
      "LON old duration 24.925 new duration time 22.475\n",
      "RCM old centroid time 6.282502788121169 new centroid time 6.686196583570464\n",
      "RCM old duration 11.15 new duration time 11.575\n",
      "RER old centroid time 9.799828926980688 new centroid time 8.174352161038945\n",
      "RER old duration 17.075 new duration time 15.425\n",
      "WPEQ old centroid time 21.53215243583747 new centroid time 13.604728188369187\n",
      "WPEQ old duration 35.075 new duration time 27.25\n"
     ]
    },
    {
     "name": "stderr",
     "output_type": "stream",
     "text": [
      "/Users/marinedenolle/miniconda3/envs/seismo_exo/lib/python3.10/site-packages/obspy/signal/filter.py:62: UserWarning: Selected high corner frequency (20) of bandpass is at or above Nyquist (20.0). Applying a high-pass instead.\n",
      "  warnings.warn(msg)\n"
     ]
    },
    {
     "name": "stdout",
     "output_type": "stream",
     "text": [
      "OBSR old centroid time 9.364158055316096 new centroid time 8.085118718598173\n",
      "OBSR old duration 16.5 new duration time 15.2\n",
      "PARA old centroid time 11.54016877188849 new centroid time 10.589187145151346\n",
      "PARA old duration 20.275 new duration time 19.3\n",
      "RUSH old centroid time 27.00480892448075 new centroid time 24.40341412201202\n",
      "RUSH old duration 92.325 new duration time 89.75\n",
      "SIFT old centroid time 15.860443579570514 new centroid time 13.778560551790896\n",
      "SIFT old duration 33.775 new duration time 31.65\n",
      "FMW old centroid time 10.722372684621726 new centroid time 9.191396945677965\n",
      "FMW old duration 19.2 new duration time 17.65\n",
      "LO2 old centroid time 11.724647131886567 new centroid time 10.305312045981731\n",
      "LO2 old duration 23.025 new duration time 21.55\n",
      "LON old centroid time 11.567126819322246 new centroid time 10.232625382061585\n",
      "LON old duration 22.575 new duration time 21.175\n",
      "RCM old centroid time 6.739497709179785 new centroid time 6.881439002422826\n",
      "RCM old duration 13.525 new duration time 13.675\n",
      "RER old centroid time 9.881125012477723 new centroid time 9.162755781034273\n",
      "RER old duration 18.6 new duration time 17.875\n"
     ]
    },
    {
     "name": "stderr",
     "output_type": "stream",
     "text": [
      "/Users/marinedenolle/miniconda3/envs/seismo_exo/lib/python3.10/site-packages/obspy/signal/filter.py:62: UserWarning: Selected high corner frequency (20) of bandpass is at or above Nyquist (20.0). Applying a high-pass instead.\n",
      "  warnings.warn(msg)\n"
     ]
    },
    {
     "name": "stdout",
     "output_type": "stream",
     "text": [
      "CARB old centroid time 88.82133267296375 new centroid time 103.83183960214697\n",
      "CARB old duration 134.975 new duration time 149.975\n",
      "OBSR old centroid time 11.008308972666278 new centroid time 8.146683569680665\n",
      "OBSR old duration 18.975 new duration time 16.125\n",
      "PARA old centroid time 11.02642817763314 new centroid time 9.006521369168022\n",
      "PARA old duration 18.525 new duration time 16.5\n",
      "SIFT old centroid time 14.91286654277319 new centroid time 10.415163338308986\n",
      "SIFT old duration 32.375 new duration time 27.85\n",
      "FMW old centroid time 10.643900859916096 new centroid time 7.622618009775639\n",
      "FMW old duration 17.675 new duration time 14.625\n",
      "LO2 old centroid time 12.931367616345074 new centroid time 9.248980848022297\n",
      "LO2 old duration 26.575 new duration time 22.85\n",
      "LON old centroid time 12.561456192881602 new centroid time 9.898906710012975\n",
      "LON old duration 26.1 new duration time 23.45\n",
      "RCM old centroid time 6.4286282495892 new centroid time 6.4286282495892\n",
      "RCM old duration 12.0 new duration time 12.0\n",
      "RER old centroid time 9.424435355626551 new centroid time 8.020035214668207\n",
      "RER old duration 16.9 new duration time 15.475\n"
     ]
    },
    {
     "name": "stderr",
     "output_type": "stream",
     "text": [
      "/Users/marinedenolle/miniconda3/envs/seismo_exo/lib/python3.10/site-packages/obspy/signal/filter.py:62: UserWarning: Selected high corner frequency (20) of bandpass is at or above Nyquist (20.0). Applying a high-pass instead.\n",
      "  warnings.warn(msg)\n"
     ]
    },
    {
     "name": "stdout",
     "output_type": "stream",
     "text": [
      "OBSR old centroid time 12.202333377295144 new centroid time 10.135257133291649\n",
      "OBSR old duration 22.1 new duration time 19.975\n",
      "PARA old centroid time 13.112343044651476 new centroid time 11.952010576846993\n",
      "PARA old duration 21.925 new duration time 20.75\n",
      "SIFT old centroid time 16.04313962707704 new centroid time 10.987800416075174\n",
      "SIFT old duration 28.25 new duration time 23.175\n",
      "FMW old centroid time 13.221124495402893 new centroid time 11.848889000105938\n",
      "FMW old duration 24.425 new duration time 23.05\n",
      "LO2 old centroid time 12.899588306862665 new centroid time 11.209450171447411\n",
      "LO2 old duration 21.675 new duration time 19.95\n",
      "LON old centroid time 13.101532609995193 new centroid time 11.481247143709236\n",
      "LON old duration 21.575 new duration time 19.95\n",
      "RCM old centroid time 7.520831431450497 new centroid time 8.127272438449655\n",
      "RCM old duration 14.0 new duration time 14.65\n",
      "RER old centroid time 10.508463028869965 new centroid time 9.442290053910938\n",
      "RER old duration 17.3 new duration time 16.225\n"
     ]
    },
    {
     "name": "stderr",
     "output_type": "stream",
     "text": [
      "/Users/marinedenolle/miniconda3/envs/seismo_exo/lib/python3.10/site-packages/obspy/signal/filter.py:62: UserWarning: Selected high corner frequency (20) of bandpass is at or above Nyquist (20.0). Applying a high-pass instead.\n",
      "  warnings.warn(msg)\n"
     ]
    },
    {
     "name": "stdout",
     "output_type": "stream",
     "text": [
      "OBSR old centroid time 17.28807497868162 new centroid time 14.419109086288007\n",
      "OBSR old duration 31.825 new duration time 28.95\n",
      "PARA old centroid time 17.02365464232953 new centroid time 14.509587080594692\n",
      "PARA old duration 30.875 new duration time 28.35\n",
      "RUSH old centroid time 18.52916905457843 new centroid time 11.862791477155072\n",
      "RUSH old duration 33.125 new duration time 26.3\n",
      "SIFT old centroid time 19.421284498220608 new centroid time 13.249243889272604\n",
      "SIFT old duration 51.4 new duration time 45.4\n",
      "FMW old centroid time 16.6742587224403 new centroid time 12.678037174499746\n",
      "FMW old duration 30.0 new duration time 25.975\n",
      "LO2 old centroid time -329.8360724856871 new centroid time -227.56755523538075\n",
      "LO2 old duration 108.8 new duration time 102.525\n",
      "RCM old centroid time 13.367235966696375 new centroid time 12.182427669035205\n",
      "RCM old duration 26.175 new duration time 24.975\n",
      "RER old centroid time 14.614613389449435 new centroid time 11.457167938764348\n",
      "RER old duration 27.325 new duration time 24.15\n"
     ]
    },
    {
     "name": "stderr",
     "output_type": "stream",
     "text": [
      "/Users/marinedenolle/miniconda3/envs/seismo_exo/lib/python3.10/site-packages/obspy/signal/filter.py:62: UserWarning: Selected high corner frequency (20) of bandpass is at or above Nyquist (20.0). Applying a high-pass instead.\n",
      "  warnings.warn(msg)\n"
     ]
    },
    {
     "name": "stdout",
     "output_type": "stream",
     "text": [
      "OBSR old centroid time 10.722683554571093 new centroid time 9.663483481094604\n",
      "OBSR old duration 18.475 new duration time 17.4\n",
      "PARA old centroid time 12.253456659176855 new centroid time 10.844048405315268\n",
      "PARA old duration 18.6 new duration time 17.15\n",
      "RUSH old centroid time 13.41031968178923 new centroid time 11.711510735189108\n",
      "RUSH old duration 24.0 new duration time 22.175\n",
      "FMW old centroid time 11.678172699334015 new centroid time 8.125606793264739\n",
      "FMW old duration 20.225 new duration time 16.575\n",
      "LON old centroid time 12.298162698885063 new centroid time 9.179234033870575\n",
      "LON old duration 19.9 new duration time 16.775\n",
      "RCM old centroid time 7.817511079922567 new centroid time 8.056320741632163\n",
      "RCM old duration 14.3 new duration time 14.55\n",
      "RER old centroid time 15.01235180111023 new centroid time 12.321710147459077\n",
      "RER old duration 47.4 new duration time 44.575\n",
      "SPFR old centroid time 92.26257034413015 new centroid time 106.14497492491475\n",
      "SPFR old duration 134.85 new duration time 149.525\n"
     ]
    },
    {
     "name": "stderr",
     "output_type": "stream",
     "text": [
      "/Users/marinedenolle/miniconda3/envs/seismo_exo/lib/python3.10/site-packages/obspy/signal/filter.py:62: UserWarning: Selected high corner frequency (20) of bandpass is at or above Nyquist (20.0). Applying a high-pass instead.\n",
      "  warnings.warn(msg)\n"
     ]
    },
    {
     "name": "stdout",
     "output_type": "stream",
     "text": [
      "OBSR old centroid time 28.260452250892275 new centroid time 25.301476165237936\n",
      "OBSR old duration 69.675 new duration time 66.725\n",
      "PARA old centroid time 25.714480047590598 new centroid time 23.63961711325467\n",
      "PARA old duration 69.375 new duration time 67.25\n",
      "RUSH old centroid time 25.137002457886357 new centroid time 20.115643248024334\n",
      "RUSH old duration 65.025 new duration time 59.775\n",
      "SIFT old centroid time 25.63303641184629 new centroid time 21.1351904215862\n",
      "SIFT old duration 64.55 new duration time 70.15\n",
      "VOIT old centroid time 29.120599143846707 new centroid time 23.399549287239946\n",
      "VOIT old duration 73.15 new duration time 67.5\n",
      "FMW old centroid time 21.447213138707376 new centroid time 18.04230675169832\n",
      "FMW old duration 60.725 new duration time 57.3\n",
      "LO2 old centroid time 30.08624375075724 new centroid time 27.33844161883361\n",
      "LO2 old duration 70.6 new duration time 67.775\n",
      "LON old centroid time 27.141887298910696 new centroid time 23.34780442383797\n",
      "LON old duration 67.575 new duration time 63.55\n",
      "RCM old centroid time 29.21542767739221 new centroid time 29.472571288432135\n",
      "RCM old duration 68.05 new duration time 68.325\n",
      "RER old centroid time 41.20126409421372 new centroid time 39.35756088704681\n",
      "RER old duration 116.3 new duration time 114.375\n"
     ]
    },
    {
     "name": "stderr",
     "output_type": "stream",
     "text": [
      "/Users/marinedenolle/miniconda3/envs/seismo_exo/lib/python3.10/site-packages/obspy/signal/filter.py:62: UserWarning: Selected high corner frequency (20) of bandpass is at or above Nyquist (20.0). Applying a high-pass instead.\n",
      "  warnings.warn(msg)\n"
     ]
    },
    {
     "name": "stdout",
     "output_type": "stream",
     "text": [
      "OBSR old centroid time 21.040184660323742 new centroid time 19.054471837082843\n",
      "OBSR old duration 41.875 new duration time 39.875\n",
      "PARA old centroid time 21.266389729658826 new centroid time 19.196749287207023\n",
      "PARA old duration 43.275 new duration time 41.2\n",
      "PR04 old centroid time 25.318743358597466 new centroid time 15.691788123511287\n",
      "PR04 old duration 50.125 new duration time 39.475\n",
      "PR05 old centroid time 27.273872135383616 new centroid time 21.57666256763119\n",
      "PR05 old duration 56.5 new duration time 50.65\n",
      "RUSH old centroid time 27.293319147099233 new centroid time 23.70982205544661\n",
      "RUSH old duration 55.95 new duration time 52.425\n",
      "SIFT old centroid time 24.908364538048062 new centroid time 19.69731009301992\n",
      "SIFT old duration 51.05 new duration time 45.725\n",
      "VOIT old centroid time 29.352024163893695 new centroid time 21.597115091218285\n",
      "VOIT old duration 65.2 new duration time 57.575\n",
      "FMW old centroid time 20.149367078584785 new centroid time 17.195132022910666\n",
      "FMW old duration 39.95 new duration time 36.95\n",
      "LO2 old centroid time 43.7465820169466 new centroid time 39.509179826452446\n",
      "LO2 old duration 134.975 new duration time 130.325\n",
      "LON old centroid time 44.36437200292164 new centroid time 40.079521608666404\n",
      "LON old duration 134.975 new duration time 130.275\n",
      "RCM old centroid time 16.677925661780694 new centroid time 15.208960791061548\n",
      "RCM old duration 35.825 new duration time 34.325\n",
      "RER old centroid time 17.24745891608852 new centroid time 15.994635275394302\n",
      "RER old duration 104.675 new duration time 103.375\n",
      "SPFR old centroid time 75.55841916601513 new centroid time 90.12921719863775\n",
      "SPFR old duration 134.675 new duration time 149.675\n"
     ]
    },
    {
     "name": "stderr",
     "output_type": "stream",
     "text": [
      "/Users/marinedenolle/miniconda3/envs/seismo_exo/lib/python3.10/site-packages/obspy/signal/filter.py:62: UserWarning: Selected high corner frequency (20) of bandpass is at or above Nyquist (20.0). Applying a high-pass instead.\n",
      "  warnings.warn(msg)\n"
     ]
    },
    {
     "name": "stdout",
     "output_type": "stream",
     "text": [
      "OBSR old centroid time 13.781117529971885 new centroid time 12.250798423983856\n",
      "OBSR old duration 25.475 new duration time 23.925\n",
      "PARA old centroid time 14.410547994897609 new centroid time 13.514665826809132\n",
      "PARA old duration 23.225 new duration time 22.325\n",
      "PR05 old centroid time 18.589820774410875 new centroid time 14.433527030704234\n",
      "PR05 old duration 32.475 new duration time 28.675\n",
      "SIFT old centroid time 18.587193190428707 new centroid time 10.421237844279029\n",
      "SIFT old duration 30.975 new duration time 22.35\n",
      "VOIT old centroid time 25.76414368219149 new centroid time 20.40016904893122\n",
      "VOIT old duration 86.675 new duration time 81.175\n",
      "FMW old centroid time 14.137734805565124 new centroid time 12.393085832054963\n",
      "FMW old duration 24.625 new duration time 22.85\n",
      "LO2 old centroid time 15.983634248629757 new centroid time 14.260081044131422\n",
      "LO2 old duration 27.6 new duration time 25.825\n",
      "LON old centroid time 16.0468307542609 new centroid time 14.060156164036174\n",
      "LON old duration 27.05 new duration time 25.0\n",
      "RCM old centroid time 8.502477555736272 new centroid time 8.884296768890936\n",
      "RCM old duration 14.8 new duration time 15.2\n",
      "RER old centroid time 12.564334518236622 new centroid time 11.097143554591668\n",
      "RER old duration 19.375 new duration time 17.9\n"
     ]
    },
    {
     "name": "stderr",
     "output_type": "stream",
     "text": [
      "/Users/marinedenolle/miniconda3/envs/seismo_exo/lib/python3.10/site-packages/obspy/signal/filter.py:62: UserWarning: Selected high corner frequency (20) of bandpass is at or above Nyquist (20.0). Applying a high-pass instead.\n",
      "  warnings.warn(msg)\n"
     ]
    },
    {
     "name": "stdout",
     "output_type": "stream",
     "text": [
      "GTWY old centroid time 100.23854732434246 new centroid time 30.43780252312969\n",
      "GTWY old duration 129.55 new duration time 57.45\n",
      "OBSR old centroid time 10.097343997385975 new centroid time 8.521493159461205\n",
      "OBSR old duration 21.325 new duration time 19.725\n",
      "PARA old centroid time 12.012165672150662 new centroid time 10.523224917314002\n",
      "PARA old duration 19.25 new duration time 17.75\n",
      "FMW old centroid time 9.916108704406591 new centroid time 8.18490691790706\n",
      "FMW old duration 17.875 new duration time 16.175\n",
      "LO2 old centroid time 12.049758480889615 new centroid time 9.728770536079391\n",
      "LO2 old duration 20.75 new duration time 18.425\n",
      "LON old centroid time 11.620790498890177 new centroid time 9.799751241439026\n",
      "LON old duration 20.675 new duration time 18.8\n",
      "RCM old centroid time 6.066636946830588 new centroid time 5.615514988458602\n",
      "RCM old duration 11.125 new duration time 10.65\n",
      "RER old centroid time 9.177159008996037 new centroid time 7.8400473730248885\n",
      "RER old duration 17.6 new duration time 16.225\n"
     ]
    },
    {
     "name": "stderr",
     "output_type": "stream",
     "text": [
      "/Users/marinedenolle/miniconda3/envs/seismo_exo/lib/python3.10/site-packages/obspy/signal/filter.py:62: UserWarning: Selected high corner frequency (20) of bandpass is at or above Nyquist (20.0). Applying a high-pass instead.\n",
      "  warnings.warn(msg)\n"
     ]
    },
    {
     "name": "stdout",
     "output_type": "stream",
     "text": [
      "OBSR old centroid time 12.622736910008472 new centroid time 9.152184908109508\n",
      "OBSR old duration 22.025 new duration time 18.525\n",
      "PARA old centroid time 14.586842110303339 new centroid time 9.49430264031608\n",
      "PARA old duration 25.15 new duration time 20.075\n",
      "RUSH old centroid time 17.202153821417706 new centroid time 9.994360689002628\n",
      "RUSH old duration 27.2 new duration time 20.175\n",
      "SIFT old centroid time 24.601655446878638 new centroid time 17.859005701448606\n",
      "SIFT old duration 90.65 new duration time 84.1\n",
      "FMW old centroid time 14.327473412512427 new centroid time 8.657433426857281\n",
      "FMW old duration 27.175 new duration time 21.55\n",
      "LO2 old centroid time 13.446135635891356 new centroid time 7.508598318936873\n",
      "LO2 old duration 22.475 new duration time 16.375\n",
      "LON old centroid time 13.86918471198072 new centroid time 7.798540431071564\n",
      "LON old duration 22.7 new duration time 16.575\n",
      "RCM old centroid time 8.236340615146398 new centroid time 7.768139581918501\n",
      "RCM old duration 14.675 new duration time 14.2\n",
      "RER old centroid time 12.301786343106501 new centroid time 6.9621463729863295\n",
      "RER old duration 20.4 new duration time 14.925\n"
     ]
    },
    {
     "name": "stderr",
     "output_type": "stream",
     "text": [
      "/Users/marinedenolle/miniconda3/envs/seismo_exo/lib/python3.10/site-packages/obspy/signal/filter.py:62: UserWarning: Selected high corner frequency (20) of bandpass is at or above Nyquist (20.0). Applying a high-pass instead.\n",
      "  warnings.warn(msg)\n"
     ]
    },
    {
     "name": "stdout",
     "output_type": "stream",
     "text": [
      "OBSR old centroid time 10.541230429864559 new centroid time 7.4546519343591235\n",
      "OBSR old duration 19.1 new duration time 16.05\n",
      "OPCH old centroid time 14.508235644471611 new centroid time 7.983262395575707\n",
      "OPCH old duration 21.75 new duration time 15.2\n",
      "PARA old centroid time 11.862135505142412 new centroid time 9.004117411190668\n",
      "PARA old duration 20.325 new duration time 17.45\n",
      "PR04 old centroid time 15.35643857882634 new centroid time 10.083327184422465\n",
      "PR04 old duration 27.375 new duration time 21.875\n",
      "PR05 old centroid time 15.54008522859769 new centroid time 10.734284758025925\n",
      "PR05 old duration 32.675 new duration time 27.775\n",
      "RUSH old centroid time 13.76036656718834 new centroid time 8.815670663781463\n",
      "RUSH old duration 24.05 new duration time 19.15\n",
      "SIFT old centroid time 15.23626061008049 new centroid time 10.657932293369045\n",
      "SIFT old duration 27.975 new duration time 23.35\n",
      "VOIT old centroid time 16.52805282510925 new centroid time 10.410890559322405\n",
      "VOIT old duration 28.85 new duration time 22.9\n",
      "FMW old centroid time 18.65344104969154 new centroid time 15.130865903770133\n",
      "FMW old duration 58.575 new duration time 55.025\n",
      "LO2 old centroid time 12.23911033714833 new centroid time 8.5177132906823\n",
      "LO2 old duration 20.875 new duration time 17.125\n",
      "LON old centroid time 12.269647278087746 new centroid time 8.544626248193016\n",
      "LON old duration 20.6 new duration time 16.875\n",
      "RCM old centroid time 7.005830029462207 new centroid time 6.482701649885226\n",
      "RCM old duration 13.675 new duration time 13.15\n",
      "RER old centroid time 10.002649609179034 new centroid time 7.334604627035993\n",
      "RER old duration 18.2 new duration time 15.525\n"
     ]
    },
    {
     "name": "stderr",
     "output_type": "stream",
     "text": [
      "/Users/marinedenolle/miniconda3/envs/seismo_exo/lib/python3.10/site-packages/obspy/signal/filter.py:62: UserWarning: Selected high corner frequency (20) of bandpass is at or above Nyquist (20.0). Applying a high-pass instead.\n",
      "  warnings.warn(msg)\n"
     ]
    },
    {
     "name": "stdout",
     "output_type": "stream",
     "text": [
      "OBSR old centroid time 10.854749409554382 new centroid time 10.038661045918222\n",
      "OBSR old duration 21.2 new duration time 20.375\n",
      "PARA old centroid time 11.247931162760459 new centroid time 9.545226142280212\n",
      "PARA old duration 19.8 new duration time 18.075\n",
      "RUSH old centroid time 14.417937512138602 new centroid time 12.490243183538833\n",
      "RUSH old duration 27.425 new duration time 25.5\n",
      "SIFT old centroid time 14.458554091769566 new centroid time 10.74292061268665\n",
      "SIFT old duration 24.825 new duration time 21.15\n",
      "VOIT old centroid time 15.48434175457254 new centroid time 10.381733215613032\n",
      "VOIT old duration 26.125 new duration time 21.125\n",
      "FMW old centroid time 12.305136308282039 new centroid time 10.868386620092586\n",
      "FMW old duration 23.0 new duration time 21.55\n",
      "LO2 old centroid time 12.352240705684562 new centroid time 10.490432222123205\n",
      "LO2 old duration 22.675 new duration time 20.85\n",
      "LON old centroid time 12.508934358522355 new centroid time 10.972542801426329\n",
      "LON old duration 22.575 new duration time 21.05\n",
      "RCM old centroid time 6.855855948586858 new centroid time 7.5540835050487685\n",
      "RCM old duration 15.1 new duration time 15.85\n",
      "RER old centroid time 11.459808103589781 new centroid time 10.433255146949854\n",
      "RER old duration 22.1 new duration time 21.05\n"
     ]
    },
    {
     "name": "stderr",
     "output_type": "stream",
     "text": [
      "/Users/marinedenolle/miniconda3/envs/seismo_exo/lib/python3.10/site-packages/obspy/signal/filter.py:62: UserWarning: Selected high corner frequency (20) of bandpass is at or above Nyquist (20.0). Applying a high-pass instead.\n",
      "  warnings.warn(msg)\n"
     ]
    },
    {
     "name": "stdout",
     "output_type": "stream",
     "text": [
      "OBSR old centroid time 10.606064201207289 new centroid time 9.717844192126362\n",
      "OBSR old duration 20.05 new duration time 19.15\n",
      "PARA old centroid time 11.134302646077659 new centroid time 10.407528047476683\n",
      "PARA old duration 21.725 new duration time 20.975\n",
      "SIFT old centroid time 12.037453490934642 new centroid time 9.594326711536931\n",
      "SIFT old duration 23.65 new duration time 21.2\n",
      "LO2 old centroid time 11.133373149903816 new centroid time 9.568092633857137\n",
      "LO2 old duration 21.55 new duration time 19.925\n",
      "LON old centroid time 11.11084057623991 new centroid time 9.546049693048335\n",
      "LON old duration 21.325 new duration time 19.725\n",
      "RCM old centroid time 5.844772084282094 new centroid time 6.137071803825566\n",
      "RCM old duration 13.25 new duration time 13.6\n",
      "RER old centroid time 9.31467079671552 new centroid time 8.184833149698163\n",
      "RER old duration 18.175 new duration time 16.975\n"
     ]
    },
    {
     "name": "stderr",
     "output_type": "stream",
     "text": [
      "/Users/marinedenolle/miniconda3/envs/seismo_exo/lib/python3.10/site-packages/obspy/signal/filter.py:62: UserWarning: Selected high corner frequency (20) of bandpass is at or above Nyquist (20.0). Applying a high-pass instead.\n",
      "  warnings.warn(msg)\n"
     ]
    },
    {
     "name": "stdout",
     "output_type": "stream",
     "text": [
      "OBSR old centroid time 14.105595532200807 new centroid time 11.120263746591148\n",
      "OBSR old duration 24.975 new duration time 21.975\n",
      "OPCH old centroid time 18.29350273501183 new centroid time 8.952967833810836\n",
      "OPCH old duration 26.025 new duration time 16.4\n",
      "PARA old centroid time 15.301999622873877 new centroid time 13.155973093427468\n",
      "PARA old duration 25.325 new duration time 23.175\n",
      "PR04 old centroid time 20.909572707246724 new centroid time 13.142282898018072\n",
      "PR04 old duration 35.675 new duration time 27.525\n",
      "PR05 old centroid time 18.780321786511873 new centroid time 14.275563213469917\n",
      "PR05 old duration 34.675 new duration time 30.3\n",
      "RUSH old centroid time 17.047891050307033 new centroid time 10.213377869939212\n",
      "RUSH old duration 27.8 new duration time 20.825\n",
      "SIFT old centroid time 17.955704784859527 new centroid time 12.770068437527952\n",
      "SIFT old duration 29.3 new duration time 24.175\n",
      "VOIT old centroid time 17.529234458693033 new centroid time 9.643368751576787\n",
      "VOIT old duration 25.025 new duration time 17.125\n",
      "FMW old centroid time 13.644875968282237 new centroid time 7.9528496040933785\n",
      "FMW old duration 21.175 new duration time 15.4\n",
      "LO2 old centroid time 15.532656105571036 new centroid time 10.926634892976828\n",
      "LO2 old duration 24.925 new duration time 20.3\n",
      "LON old centroid time 15.487132160541675 new centroid time 11.15869252523525\n",
      "LON old duration 24.65 new duration time 20.325\n",
      "RCM old centroid time 9.088273161705887 new centroid time 8.519953130971846\n",
      "RCM old duration 16.5 new duration time 15.925\n",
      "RER old centroid time 13.157733212568216 new centroid time 10.157043351661603\n",
      "RER old duration 21.05 new duration time 18.075\n"
     ]
    },
    {
     "name": "stderr",
     "output_type": "stream",
     "text": [
      "/Users/marinedenolle/miniconda3/envs/seismo_exo/lib/python3.10/site-packages/obspy/signal/filter.py:62: UserWarning: Selected high corner frequency (20) of bandpass is at or above Nyquist (20.0). Applying a high-pass instead.\n",
      "  warnings.warn(msg)\n"
     ]
    },
    {
     "name": "stdout",
     "output_type": "stream",
     "text": [
      "OBSR old centroid time 10.206992819643949 new centroid time 8.193536268494725\n",
      "OBSR old duration 19.2 new duration time 17.175\n",
      "PARA old centroid time 11.85763606156553 new centroid time 9.175712634044139\n",
      "PARA old duration 23.35 new duration time 20.65\n",
      "RUSH old centroid time 13.949897624722642 new centroid time 8.756621517787837\n",
      "RUSH old duration 25.325 new duration time 19.95\n",
      "SIFT old centroid time 13.859859543330236 new centroid time 9.12159174363184\n",
      "SIFT old duration 25.0 new duration time 20.225\n",
      "VOIT old centroid time 14.321255501980419 new centroid time 7.677297908679367\n",
      "VOIT old duration 22.5 new duration time 15.625\n",
      "FMW old centroid time 10.157063270583398 new centroid time 6.970192768424657\n",
      "FMW old duration 17.325 new duration time 14.125\n",
      "LON old centroid time 11.26784188536699 new centroid time 6.997398849189824\n",
      "LON old duration 21.2 new duration time 16.875\n",
      "RCM old centroid time 6.83657809817706 new centroid time 5.931172372507425\n",
      "RCM old duration 13.325 new duration time 12.4\n",
      "RER old centroid time 8.597617260727906 new centroid time 23.455554363502934\n",
      "RER old duration 14.95 new duration time 29.95\n"
     ]
    },
    {
     "name": "stderr",
     "output_type": "stream",
     "text": [
      "/Users/marinedenolle/miniconda3/envs/seismo_exo/lib/python3.10/site-packages/obspy/signal/filter.py:62: UserWarning: Selected high corner frequency (20) of bandpass is at or above Nyquist (20.0). Applying a high-pass instead.\n",
      "  warnings.warn(msg)\n"
     ]
    },
    {
     "name": "stdout",
     "output_type": "stream",
     "text": [
      "CARB old centroid time 21.190538758317825 new centroid time 36.25379172689206\n",
      "CARB old duration 36.475 new duration time 51.475\n",
      "OBSR old centroid time 19.854207674592665 new centroid time 18.825084715186538\n",
      "OBSR old duration 40.775 new duration time 39.725\n",
      "PARA old centroid time 20.58677749054599 new centroid time 19.034002491642962\n",
      "PARA old duration 39.7 new duration time 38.15\n",
      "PR04 old centroid time 24.97303161204966 new centroid time 18.470261393285114\n",
      "PR04 old duration 48.0 new duration time 41.9\n",
      "PR05 old centroid time 28.86206918630323 new centroid time 25.813760195019597\n",
      "PR05 old duration 108.075 new duration time 104.9\n",
      "RUSH old centroid time 20.78087289819613 new centroid time 16.9318390603731\n",
      "RUSH old duration 37.9 new duration time 34.05\n",
      "SIFT old centroid time 21.02997641665539 new centroid time 17.253726717433086\n",
      "SIFT old duration 36.15 new duration time 32.425\n",
      "VOIT old centroid time 19.96124005882159 new centroid time 35.00392091797968\n",
      "VOIT old duration 34.95 new duration time 49.95\n",
      "FMW old centroid time 22.20806523107815 new centroid time 21.18781350928447\n",
      "FMW old duration 45.425 new duration time 44.425\n",
      "RCM old centroid time 18.017910129792398 new centroid time 17.770679753451642\n",
      "RCM old duration 38.125 new duration time 37.875\n",
      "RER old centroid time 18.5078940862149 new centroid time 17.70200949230582\n",
      "RER old duration 38.0 new duration time 37.175\n"
     ]
    },
    {
     "name": "stderr",
     "output_type": "stream",
     "text": [
      "/Users/marinedenolle/miniconda3/envs/seismo_exo/lib/python3.10/site-packages/obspy/signal/filter.py:62: UserWarning: Selected high corner frequency (20) of bandpass is at or above Nyquist (20.0). Applying a high-pass instead.\n",
      "  warnings.warn(msg)\n"
     ]
    },
    {
     "name": "stdout",
     "output_type": "stream",
     "text": [
      "OBSR old centroid time 21.75670961781142 new centroid time 8.823708802366685\n",
      "OBSR old duration 119.2 new duration time 16.375\n",
      "OPCH old centroid time 19.60665835626343 new centroid time 34.554593207869786\n",
      "OPCH old duration 27.85 new duration time 42.85\n",
      "PARA old centroid time 15.589751595554914 new centroid time 11.90664921440606\n",
      "PARA old duration 26.3 new duration time 22.575\n",
      "PR04 old centroid time 25.20487419802302 new centroid time 18.250309459062013\n",
      "PR04 old duration 123.975 new duration time 117.1\n",
      "PR05 old centroid time 19.708787579221234 new centroid time 13.65904418784362\n",
      "PR05 old duration 36.075 new duration time 30.2\n",
      "RUSH old centroid time 18.867545634255105 new centroid time 13.06141431225174\n",
      "RUSH old duration 33.375 new duration time 27.475\n",
      "SIFT old centroid time 19.756870850112715 new centroid time 13.70414628492959\n",
      "SIFT old duration 31.7 new duration time 25.65\n",
      "VOIT old centroid time 19.608225706551178 new centroid time 11.598363876935666\n",
      "VOIT old duration 32.6 new duration time 24.325\n",
      "FMW old centroid time 15.523715020098516 new centroid time 12.047307983895418\n",
      "FMW old duration 29.175 new duration time 25.675\n",
      "LON old centroid time 15.611076854721663 new centroid time 10.410038685364253\n",
      "LON old duration 24.0 new duration time 18.725\n",
      "RCM old centroid time 10.07700685715673 new centroid time 12.853514715600754\n",
      "RCM old duration 18.425 new duration time 21.275\n",
      "RER old centroid time 13.864058654737025 new centroid time 9.505827372444049\n",
      "RER old duration 22.825 new duration time 18.425\n"
     ]
    },
    {
     "name": "stderr",
     "output_type": "stream",
     "text": [
      "/Users/marinedenolle/miniconda3/envs/seismo_exo/lib/python3.10/site-packages/obspy/signal/filter.py:62: UserWarning: Selected high corner frequency (20) of bandpass is at or above Nyquist (20.0). Applying a high-pass instead.\n",
      "  warnings.warn(msg)\n"
     ]
    },
    {
     "name": "stdout",
     "output_type": "stream",
     "text": [
      "OBSR old centroid time 10.730076331757216 new centroid time 8.66281312840568\n",
      "OBSR old duration 18.925 new duration time 16.85\n",
      "PARA old centroid time 12.930822462366795 new centroid time 10.897807136621122\n",
      "PARA old duration 23.65 new duration time 21.6\n",
      "PR05 old centroid time 13.625936567206224 new centroid time 10.247748205355004\n",
      "PR05 old duration 24.55 new duration time 21.1\n",
      "RUSH old centroid time 14.350223858410502 new centroid time 11.311085508468539\n",
      "RUSH old duration 25.875 new duration time 22.75\n",
      "SIFT old centroid time 15.512832025634514 new centroid time 12.411047929423823\n",
      "SIFT old duration 29.75 new duration time 26.625\n",
      "VOIT old centroid time 15.546936281058125 new centroid time 30.572888337196897\n",
      "VOIT old duration 27.075 new duration time 42.075\n",
      "FMW old centroid time 11.982501552330817 new centroid time 8.952471815578111\n",
      "FMW old duration 22.975 new duration time 19.9\n",
      "LON old centroid time 12.989927646340725 new centroid time 10.824795682211192\n",
      "LON old duration 26.0 new duration time 23.825\n",
      "RCM old centroid time 6.469964841169191 new centroid time 6.469964841169192\n",
      "RCM old duration 13.075 new duration time 13.075\n",
      "RER old centroid time 10.272899680944276 new centroid time 8.112214812114415\n",
      "RER old duration 18.025 new duration time 15.825\n"
     ]
    },
    {
     "name": "stderr",
     "output_type": "stream",
     "text": [
      "/Users/marinedenolle/miniconda3/envs/seismo_exo/lib/python3.10/site-packages/obspy/signal/filter.py:62: UserWarning: Selected high corner frequency (20) of bandpass is at or above Nyquist (20.0). Applying a high-pass instead.\n",
      "  warnings.warn(msg)\n"
     ]
    },
    {
     "name": "stdout",
     "output_type": "stream",
     "text": [
      "OBSR old centroid time 9.499489938848868 new centroid time 6.825229592950772\n",
      "OBSR old duration 18.5 new duration time 15.8\n",
      "PARA old centroid time 10.512224010712266 new centroid time 8.062483033835898\n",
      "PARA old duration 20.775 new duration time 18.3\n",
      "PR05 old centroid time 11.958303528972296 new centroid time 7.9896838937592305\n",
      "PR05 old duration 22.375 new duration time 18.425\n",
      "RUSH old centroid time 13.419159203031171 new centroid time 9.073642415718044\n",
      "RUSH old duration 22.425 new duration time 18.075\n",
      "SIFT old centroid time 11.949968135805637 new centroid time 7.935546485236149\n",
      "SIFT old duration 20.825 new duration time 16.725\n",
      "VOIT old centroid time 13.099798073551492 new centroid time 7.823227846342522\n",
      "VOIT old duration 21.725 new duration time 16.375\n",
      "FMW old centroid time 9.317070116809633 new centroid time 6.121513269854252\n",
      "FMW old duration 16.675 new duration time 13.45\n",
      "LON old centroid time 10.235278554687598 new centroid time 7.004463517650354\n",
      "LON old duration 18.75 new duration time 15.5\n",
      "RCM old centroid time 5.058889685385715 new centroid time 3.810503232118195\n",
      "RCM old duration 10.5 new duration time 9.225\n",
      "RER old centroid time 9.156765649720818 new centroid time 6.477115694379456\n",
      "RER old duration 17.475 new duration time 14.75\n"
     ]
    },
    {
     "name": "stderr",
     "output_type": "stream",
     "text": [
      "/Users/marinedenolle/miniconda3/envs/seismo_exo/lib/python3.10/site-packages/obspy/signal/filter.py:62: UserWarning: Selected high corner frequency (20) of bandpass is at or above Nyquist (20.0). Applying a high-pass instead.\n",
      "  warnings.warn(msg)\n"
     ]
    },
    {
     "name": "stdout",
     "output_type": "stream",
     "text": [
      "OBSR old centroid time 14.290978370286144 new centroid time 7.976109818169011\n",
      "OBSR old duration 21.475 new duration time 15.15\n",
      "PARA old centroid time 14.269153310255248 new centroid time 8.018230618123168\n",
      "PARA old duration 21.425 new duration time 15.125\n",
      "PR05 old centroid time 18.529144622713524 new centroid time 11.229740714741151\n",
      "PR05 old duration 34.525 new duration time 27.175\n",
      "RUSH old centroid time 18.418272016259504 new centroid time 10.06031649809771\n",
      "RUSH old duration 29.3 new duration time 20.95\n",
      "SIFT old centroid time 17.61794858318915 new centroid time 9.967218862977463\n",
      "SIFT old duration 28.575 new duration time 20.875\n",
      "VOIT old centroid time 18.16040480031458 new centroid time 33.29714074767936\n",
      "VOIT old duration 29.15 new duration time 44.15\n",
      "FMW old centroid time 16.563828377294865 new centroid time 9.398277627673927\n",
      "FMW old duration 31.875 new duration time 24.675\n",
      "LON old centroid time 65.44852656199282 new centroid time 58.298473737443615\n",
      "LON old duration 134.525 new duration time 127.3\n",
      "RCM old centroid time 8.39507497921852 new centroid time 7.603766251842956\n",
      "RCM old duration 13.3 new duration time 12.5\n",
      "RER old centroid time 12.682786517263692 new centroid time 6.4525215002685075\n",
      "RER old duration 19.375 new duration time 13.0\n"
     ]
    },
    {
     "name": "stderr",
     "output_type": "stream",
     "text": [
      "/Users/marinedenolle/miniconda3/envs/seismo_exo/lib/python3.10/site-packages/obspy/signal/filter.py:62: UserWarning: Selected high corner frequency (20) of bandpass is at or above Nyquist (20.0). Applying a high-pass instead.\n",
      "  warnings.warn(msg)\n"
     ]
    },
    {
     "name": "stdout",
     "output_type": "stream",
     "text": [
      "CARB old centroid time 18.22954291567727 new centroid time 12.806470303554423\n",
      "CARB old duration 32.55 new duration time 27.175\n",
      "OBSR old centroid time 12.370039128004308 new centroid time 10.539118389458464\n",
      "OBSR old duration 20.5 new duration time 18.65\n",
      "OPCH old centroid time 16.9677401651262 new centroid time 10.374229926503132\n",
      "OPCH old duration 26.55 new duration time 19.95\n",
      "PARA old centroid time 12.71964788964265 new centroid time 9.717436763494781\n",
      "PARA old duration 18.95 new duration time 15.9\n",
      "PR04 old centroid time 17.440517540811697 new centroid time 12.422375025675624\n",
      "PR04 old duration 29.625 new duration time 24.45\n",
      "PR05 old centroid time 14.80736798499318 new centroid time 10.3615574177973\n",
      "PR05 old duration 26.1 new duration time 21.55\n",
      "RUSH old centroid time 16.598460609010626 new centroid time 11.986627362346931\n",
      "RUSH old duration 30.9 new duration time 26.25\n",
      "SIFT old centroid time 16.222961931735906 new centroid time 11.893403636415995\n",
      "SIFT old duration 27.475 new duration time 23.075\n",
      "VOIT old centroid time 17.18068699202392 new centroid time 11.362366193191551\n",
      "VOIT old duration 30.625 new duration time 24.75\n",
      "FMW old centroid time 12.868032781859698 new centroid time 10.392787979730885\n",
      "FMW old duration 23.675 new duration time 21.175\n",
      "LO2 old centroid time 13.75349067819802 new centroid time 10.20477432021038\n",
      "LO2 old duration 28.15 new duration time 24.475\n",
      "LON old centroid time 13.15021284871696 new centroid time 9.490703431788614\n",
      "LON old duration 23.725 new duration time 20.05\n",
      "RCM old centroid time 8.878415364640215 new centroid time 8.611075153119106\n",
      "RCM old duration 15.875 new duration time 15.6\n",
      "RER old centroid time 11.94235404519546 new centroid time 10.090191249354415\n",
      "RER old duration 21.475 new duration time 19.6\n"
     ]
    },
    {
     "name": "stderr",
     "output_type": "stream",
     "text": [
      "/Users/marinedenolle/miniconda3/envs/seismo_exo/lib/python3.10/site-packages/obspy/signal/filter.py:62: UserWarning: Selected high corner frequency (20) of bandpass is at or above Nyquist (20.0). Applying a high-pass instead.\n",
      "  warnings.warn(msg)\n"
     ]
    },
    {
     "name": "stdout",
     "output_type": "stream",
     "text": [
      "OBSR old centroid time 13.631562981340112 new centroid time 11.66009315227015\n",
      "OBSR old duration 21.6 new duration time 19.625\n",
      "PARA old centroid time 15.029457265624318 new centroid time 13.707699189119902\n",
      "PARA old duration 26.1 new duration time 24.775\n",
      "PR04 old centroid time 18.200349539874374 new centroid time 11.220079329904294\n",
      "PR04 old duration 30.7 new duration time 23.75\n",
      "PR05 old centroid time 15.42864575661389 new centroid time 10.568082652480355\n",
      "PR05 old duration 24.4 new duration time 19.575\n",
      "RUSH old centroid time 16.038383141313194 new centroid time 11.503660448279541\n",
      "RUSH old duration 26.775 new duration time 22.2\n",
      "SIFT old centroid time 16.061328403041443 new centroid time 10.022286940126284\n",
      "SIFT old duration 27.725 new duration time 21.5\n",
      "VOIT old centroid time 17.096641798155016 new centroid time 9.864702437268953\n",
      "VOIT old duration 26.65 new duration time 19.225\n",
      "FMW old centroid time 14.15713388163911 new centroid time 12.133072487850546\n",
      "FMW old duration 24.95 new duration time 22.925\n",
      "LON old centroid time 15.406996258871931 new centroid time 12.443931664712974\n",
      "LON old duration 23.075 new duration time 20.1\n",
      "RCM old centroid time 9.010685758768178 new centroid time 9.596658525821887\n",
      "RCM old duration 15.55 new duration time 16.15\n",
      "RER old centroid time 12.340731531921756 new centroid time 7.5967323102077895\n",
      "RER old duration 17.7 new duration time 12.875\n"
     ]
    },
    {
     "name": "stderr",
     "output_type": "stream",
     "text": [
      "/Users/marinedenolle/miniconda3/envs/seismo_exo/lib/python3.10/site-packages/obspy/signal/filter.py:62: UserWarning: Selected high corner frequency (20) of bandpass is at or above Nyquist (20.0). Applying a high-pass instead.\n",
      "  warnings.warn(msg)\n"
     ]
    },
    {
     "name": "stdout",
     "output_type": "stream",
     "text": [
      "OBSR old centroid time 13.798084560614244 new centroid time 8.958992169884818\n",
      "OBSR old duration 23.125 new duration time 18.125\n",
      "PARA old centroid time 13.376440942656117 new centroid time 12.144781856865656\n",
      "PARA old duration 21.875 new duration time 20.625\n",
      "PR04 old centroid time 15.45383122157157 new centroid time 6.678540989802903\n",
      "PR04 old duration 27.375 new duration time 18.4\n",
      "PR05 old centroid time 14.717693097339616 new centroid time 7.044095499105979\n",
      "PR05 old duration 25.475 new duration time 17.65\n",
      "RUSH old centroid time 16.7332904032639 new centroid time 8.729254660383798\n",
      "RUSH old duration 29.15 new duration time 21.05\n",
      "SIFT old centroid time 16.13168994544986 new centroid time 8.52970671353652\n",
      "SIFT old duration 25.575 new duration time 17.825\n",
      "VOIT old centroid time 19.754216446038942 new centroid time 11.009791183288327\n",
      "VOIT old duration 58.375 new duration time 49.4\n",
      "FMW old centroid time 14.041254344574021 new centroid time 7.074374876111827\n",
      "FMW old duration 24.825 new duration time 17.525\n",
      "LON old centroid time 12.34114233547116 new centroid time 6.8207948927197375\n",
      "LON old duration 19.875 new duration time 14.225\n",
      "RCM old centroid time 7.671057638370182 new centroid time 7.330919219916623\n",
      "RCM old duration 13.075 new duration time 12.725\n",
      "RER old centroid time 11.511045445161045 new centroid time 9.61743820998271\n",
      "RER old duration 19.15 new duration time 17.225\n"
     ]
    },
    {
     "name": "stderr",
     "output_type": "stream",
     "text": [
      "/Users/marinedenolle/miniconda3/envs/seismo_exo/lib/python3.10/site-packages/obspy/signal/filter.py:62: UserWarning: Selected high corner frequency (20) of bandpass is at or above Nyquist (20.0). Applying a high-pass instead.\n",
      "  warnings.warn(msg)\n"
     ]
    },
    {
     "name": "stdout",
     "output_type": "stream",
     "text": [
      "OBSR old centroid time 12.308709123130111 new centroid time 9.522436395022556\n",
      "OBSR old duration 20.575 new duration time 17.775\n",
      "RUSH old centroid time 14.91923232000682 new centroid time 9.63767553246687\n",
      "RUSH old duration 25.425 new duration time 20.225\n",
      "VOIT old centroid time 16.76095561800248 new centroid time 8.76508207236865\n",
      "VOIT old duration 28.45 new duration time 20.65\n",
      "FMW old centroid time 12.03722224333878 new centroid time 7.2561882529648924\n",
      "FMW old duration 19.975 new duration time 15.125\n",
      "RCM old centroid time 11.213590693320434 new centroid time 10.60388836811045\n",
      "RCM old duration 64.55 new duration time 63.925\n",
      "RER old centroid time 11.462706564602222 new centroid time 7.500734723765664\n",
      "RER old duration 19.075 new duration time 15.1\n"
     ]
    },
    {
     "name": "stderr",
     "output_type": "stream",
     "text": [
      "/Users/marinedenolle/miniconda3/envs/seismo_exo/lib/python3.10/site-packages/obspy/signal/filter.py:62: UserWarning: Selected high corner frequency (20) of bandpass is at or above Nyquist (20.0). Applying a high-pass instead.\n",
      "  warnings.warn(msg)\n"
     ]
    },
    {
     "name": "stdout",
     "output_type": "stream",
     "text": [
      "OBSR old centroid time 10.940641420638062 new centroid time 9.699390081672373\n",
      "OBSR old duration 21.55 new duration time 20.3\n",
      "PARA old centroid time 12.59197531669842 new centroid time 10.078082440803612\n",
      "PARA old duration 20.6 new duration time 18.175\n",
      "PR04 old centroid time 16.486053165735218 new centroid time 11.890663002843457\n",
      "PR04 old duration 33.95 new duration time 29.275\n",
      "PR05 old centroid time 12.627430938989203 new centroid time 8.945238024874214\n",
      "PR05 old duration 23.525 new duration time 19.575\n",
      "RUSH old centroid time 14.463015600431413 new centroid time 11.612611019885524\n",
      "RUSH old duration 26.1 new duration time 23.25\n",
      "SIFT old centroid time 15.245608016392236 new centroid time 10.20746798116951\n",
      "SIFT old duration 28.425 new duration time 23.2\n",
      "VOIT old centroid time 15.623116332737919 new centroid time 8.596719513340421\n",
      "VOIT old duration 25.05 new duration time 17.8\n",
      "FMW old centroid time 11.049389495951766 new centroid time 9.103912886580757\n",
      "FMW old duration 19.325 new duration time 17.35\n",
      "RCM old centroid time 6.543630667559802 new centroid time 5.956586883401956\n",
      "RCM old duration 10.875 new duration time 10.275\n",
      "RER old centroid time 10.213434183706891 new centroid time 8.561719607429646\n",
      "RER old duration 17.65 new duration time 15.975\n"
     ]
    },
    {
     "name": "stderr",
     "output_type": "stream",
     "text": [
      "/Users/marinedenolle/miniconda3/envs/seismo_exo/lib/python3.10/site-packages/obspy/signal/filter.py:62: UserWarning: Selected high corner frequency (20) of bandpass is at or above Nyquist (20.0). Applying a high-pass instead.\n",
      "  warnings.warn(msg)\n"
     ]
    },
    {
     "name": "stdout",
     "output_type": "stream",
     "text": [
      "OBSR old centroid time 8.400266320251433 new centroid time 6.197889790497992\n",
      "OBSR old duration 15.15 new duration time 12.925\n",
      "PARA old centroid time 9.172303748768414 new centroid time 6.922094695726648\n",
      "PARA old duration 16.15 new duration time 13.875\n",
      "FMW old centroid time 8.44646427487829 new centroid time 5.580202823331025\n",
      "FMW old duration 16.825 new duration time 13.925\n",
      "RCM old centroid time 4.692737079970369 new centroid time 4.3287559338141595\n",
      "RCM old duration 8.875 new duration time 8.5\n",
      "RER old centroid time 7.438422678098078 new centroid time 5.071740270771137\n",
      "RER old duration 12.7 new duration time 10.275\n"
     ]
    },
    {
     "name": "stderr",
     "output_type": "stream",
     "text": [
      "/Users/marinedenolle/miniconda3/envs/seismo_exo/lib/python3.10/site-packages/obspy/signal/filter.py:62: UserWarning: Selected high corner frequency (20) of bandpass is at or above Nyquist (20.0). Applying a high-pass instead.\n",
      "  warnings.warn(msg)\n"
     ]
    },
    {
     "name": "stdout",
     "output_type": "stream",
     "text": [
      "OBSR old centroid time 11.848005987143289 new centroid time 10.383595223821768\n",
      "OBSR old duration 20.625 new duration time 19.15\n",
      "PARA old centroid time 20.663655534254215 new centroid time 18.4574532119511\n",
      "PARA old duration 55.75 new duration time 53.5\n",
      "PR04 old centroid time 15.990592814239088 new centroid time 10.264145130410768\n",
      "PR04 old duration 27.025 new duration time 21.375\n",
      "PR05 old centroid time 15.253120500988757 new centroid time 10.775332529786885\n",
      "PR05 old duration 24.65 new duration time 20.05\n",
      "RUSH old centroid time 15.73548512876554 new centroid time 11.500607472827442\n",
      "RUSH old duration 26.925 new duration time 22.7\n",
      "SIFT old centroid time 17.357234534008363 new centroid time 12.723996802288426\n",
      "SIFT old duration 52.75 new duration time 48.05\n",
      "VOIT old centroid time 17.500711409870327 new centroid time 12.678025655473261\n",
      "VOIT old duration 28.625 new duration time 24.0\n",
      "FMW old centroid time 13.556556461887652 new centroid time 10.56511805793022\n",
      "FMW old duration 28.025 new duration time 24.975\n",
      "LON old centroid time 13.695635502881105 new centroid time 9.83948027397439\n",
      "LON old duration 22.2 new duration time 18.275\n",
      "RCM old centroid time 14.857258137527314 new centroid time 14.583424632611793\n",
      "RCM old duration 48.4 new duration time 48.1\n",
      "RER old centroid time 12.254758752329314 new centroid time 10.104570215919615\n",
      "RER old duration 22.55 new duration time 20.35\n"
     ]
    },
    {
     "name": "stderr",
     "output_type": "stream",
     "text": [
      "/Users/marinedenolle/miniconda3/envs/seismo_exo/lib/python3.10/site-packages/obspy/signal/filter.py:62: UserWarning: Selected high corner frequency (20) of bandpass is at or above Nyquist (20.0). Applying a high-pass instead.\n",
      "  warnings.warn(msg)\n"
     ]
    },
    {
     "name": "stdout",
     "output_type": "stream",
     "text": [
      "OBSR old centroid time 16.317485098035462 new centroid time 14.476284710995492\n",
      "OBSR old duration 25.875 new duration time 24.025\n",
      "PARA old centroid time 17.759350348106146 new centroid time 16.2859360618378\n",
      "PARA old duration 28.825 new duration time 27.325\n",
      "PR04 old centroid time 18.60198377994097 new centroid time 13.084796992017008\n",
      "PR04 old duration 30.175 new duration time 24.65\n",
      "PR05 old centroid time 17.426625405963218 new centroid time 11.088265117943173\n",
      "PR05 old duration 23.95 new duration time 18.025\n",
      "RUSH old centroid time 18.42297741026044 new centroid time 12.977364905400037\n",
      "RUSH old duration 29.125 new duration time 23.65\n",
      "SIFT old centroid time 19.05437823877843 new centroid time 12.404864854320481\n",
      "SIFT old duration 31.55 new duration time 24.85\n",
      "VOIT old centroid time 19.417814858087947 new centroid time 34.50612821761173\n",
      "VOIT old duration 29.075 new duration time 44.075\n",
      "FMW old centroid time 19.138963629040333 new centroid time 16.023549966760037\n",
      "FMW old duration 41.4 new duration time 38.275\n",
      "LON old centroid time 16.602143778237483 new centroid time 13.858161192779868\n",
      "LON old duration 27.425 new duration time 24.675\n",
      "RCM old centroid time 11.929213216326698 new centroid time 11.776432308994922\n",
      "RCM old duration 19.55 new duration time 19.4\n",
      "RER old centroid time 15.597833790300479 new centroid time 14.432941948286793\n",
      "RER old duration 24.225 new duration time 23.05\n"
     ]
    },
    {
     "name": "stderr",
     "output_type": "stream",
     "text": [
      "/Users/marinedenolle/miniconda3/envs/seismo_exo/lib/python3.10/site-packages/obspy/signal/filter.py:62: UserWarning: Selected high corner frequency (20) of bandpass is at or above Nyquist (20.0). Applying a high-pass instead.\n",
      "  warnings.warn(msg)\n"
     ]
    },
    {
     "name": "stdout",
     "output_type": "stream",
     "text": [
      "CARB old centroid time 16.69322174539793 new centroid time 11.25855149711128\n",
      "CARB old duration 31.175 new duration time 25.8\n",
      "OBSR old centroid time 10.45158153979784 new centroid time 9.4404604950686\n",
      "OBSR old duration 19.6 new duration time 18.575\n",
      "PARA old centroid time 10.434384598693908 new centroid time 9.163842960323372\n",
      "PARA old duration 18.125 new duration time 16.825\n",
      "PR04 old centroid time 14.312662299064813 new centroid time 10.770263794702947\n",
      "PR04 old duration 28.15 new duration time 24.575\n",
      "PR05 old centroid time 12.90363636143636 new centroid time 9.715233085785702\n",
      "PR05 old duration 23.925 new duration time 20.75\n",
      "RUSH old centroid time 13.467021200667254 new centroid time 10.853644191199729\n",
      "RUSH old duration 25.475 new duration time 22.85\n",
      "SIFT old centroid time 14.967017648549032 new centroid time 11.538795211221416\n",
      "SIFT old duration 28.825 new duration time 25.35\n",
      "VOIT old centroid time 14.637067242164049 new centroid time 10.078196426548066\n",
      "VOIT old duration 25.975 new duration time 21.4\n",
      "FMW old centroid time 10.877560447549204 new centroid time 9.231656733520978\n",
      "FMW old duration 21.325 new duration time 19.65\n",
      "LON old centroid time 11.61379783068193 new centroid time 9.664170745036476\n",
      "LON old duration 23.8 new duration time 21.85\n",
      "RCM old centroid time 5.599529331738611 new centroid time 5.335717876413871\n",
      "RCM old duration 11.275 new duration time 11.0\n",
      "RER old centroid time 9.279019111534767 new centroid time 8.162886545538178\n",
      "RER old duration 17.925 new duration time 16.8\n",
      "WPEQ old centroid time 19.364138206924267 new centroid time 12.568856856304174\n",
      "WPEQ old duration 32.75 new duration time 25.85\n"
     ]
    },
    {
     "name": "stderr",
     "output_type": "stream",
     "text": [
      "/Users/marinedenolle/miniconda3/envs/seismo_exo/lib/python3.10/site-packages/obspy/signal/filter.py:62: UserWarning: Selected high corner frequency (20) of bandpass is at or above Nyquist (20.0). Applying a high-pass instead.\n",
      "  warnings.warn(msg)\n"
     ]
    },
    {
     "name": "stdout",
     "output_type": "stream",
     "text": [
      "OBSR old centroid time 14.157365238898379 new centroid time 12.156052101910756\n",
      "OBSR old duration 22.075 new duration time 20.075\n",
      "PARA old centroid time 15.389931995046082 new centroid time 11.002630173143443\n",
      "PARA old duration 25.2 new duration time 20.7\n",
      "PR05 old centroid time 16.032686147516888 new centroid time 8.135863529956577\n",
      "PR05 old duration 25.45 new duration time 17.6\n",
      "RUSH old centroid time 16.8530721143066 new centroid time 9.48804930623316\n",
      "RUSH old duration 27.9 new duration time 20.425\n",
      "SIFT old centroid time 16.951779188540026 new centroid time 9.657761976136548\n",
      "SIFT old duration 29.5 new duration time 22.025\n",
      "VOIT old centroid time 20.028729110078558 new centroid time 10.923852478821638\n",
      "VOIT old duration 55.25 new duration time 45.65\n",
      "FMW old centroid time 14.831153462425593 new centroid time 8.932268109429588\n",
      "FMW old duration 26.1 new duration time 20.15\n",
      "LON old centroid time 40.27894471279666 new centroid time 34.95900535385966\n",
      "LON old duration 120.85 new duration time 115.25\n",
      "RCM old centroid time 9.489212816613723 new centroid time 8.876754863379519\n",
      "RCM old duration 16.825 new duration time 16.2\n"
     ]
    },
    {
     "name": "stderr",
     "output_type": "stream",
     "text": [
      "/Users/marinedenolle/miniconda3/envs/seismo_exo/lib/python3.10/site-packages/obspy/signal/filter.py:62: UserWarning: Selected high corner frequency (20) of bandpass is at or above Nyquist (20.0). Applying a high-pass instead.\n",
      "  warnings.warn(msg)\n"
     ]
    },
    {
     "name": "stdout",
     "output_type": "stream",
     "text": [
      "OBSR old centroid time 11.612985803769588 new centroid time 10.62002868873629\n",
      "OBSR old duration 23.65 new duration time 22.65\n",
      "PARA old centroid time 12.645425184991286 new centroid time 11.146238772109871\n",
      "PARA old duration 23.825 new duration time 22.3\n",
      "PR04 old centroid time 15.291867958896205 new centroid time 10.468637796672288\n",
      "PR04 old duration 27.3 new duration time 22.575\n",
      "RUSH old centroid time 14.141582444839784 new centroid time 9.709299749273654\n",
      "RUSH old duration 23.675 new duration time 19.275\n",
      "SIFT old centroid time 13.95486373421132 new centroid time 10.599654817512462\n",
      "SIFT old duration 24.75 new duration time 21.425\n",
      "VOIT old centroid time 14.660037181781007 new centroid time 9.684440311679005\n",
      "VOIT old duration 23.675 new duration time 18.65\n",
      "FMW old centroid time 11.499632561717485 new centroid time 9.579868459427919\n",
      "FMW old duration 21.725 new duration time 19.8\n",
      "LON old centroid time 11.998069531326319 new centroid time 7.603441946504137\n",
      "LON old duration 19.425 new duration time 14.9\n",
      "RCM old centroid time 6.488869040558118 new centroid time 6.078258834407139\n",
      "RCM old duration 10.85 new duration time 10.425\n",
      "RER old centroid time 10.195808796858197 new centroid time 9.03151589110688\n",
      "RER old duration 18.25 new duration time 17.075\n"
     ]
    },
    {
     "name": "stderr",
     "output_type": "stream",
     "text": [
      "/Users/marinedenolle/miniconda3/envs/seismo_exo/lib/python3.10/site-packages/obspy/signal/filter.py:62: UserWarning: Selected high corner frequency (20) of bandpass is at or above Nyquist (20.0). Applying a high-pass instead.\n",
      "  warnings.warn(msg)\n"
     ]
    },
    {
     "name": "stdout",
     "output_type": "stream",
     "text": [
      "CRBN old centroid time 18.60855937348639 new centroid time 8.908836318939818\n",
      "CRBN old duration 26.675 new duration time 17.0\n",
      "OBSR old centroid time 13.84236596275555 new centroid time 7.638889365701665\n",
      "OBSR old duration 21.45 new duration time 15.2\n",
      "OPCH old centroid time 15.658256442797907 new centroid time 15.537337431222497\n",
      "OPCH old duration 103.8 new duration time 103.675\n",
      "PARA old centroid time 16.1758782952056 new centroid time 9.954487108777982\n",
      "PARA old duration 26.375 new duration time 20.075\n",
      "PR04 old centroid time 19.680560074946374 new centroid time 11.293675752883566\n",
      "PR04 old duration 31.0 new duration time 22.6\n",
      "PR05 old centroid time 17.123429590484808 new centroid time 9.66034632730461\n",
      "PR05 old duration 27.95 new duration time 20.675\n",
      "RUSH old centroid time 19.367260546886016 new centroid time 10.734101025811531\n",
      "RUSH old duration 30.825 new duration time 22.825\n",
      "SIFT old centroid time 19.114276499693943 new centroid time 12.30387018293512\n",
      "SIFT old duration 32.875 new duration time 26.05\n",
      "VOIT old centroid time 19.100702601474975 new centroid time 10.712227764650285\n",
      "VOIT old duration 33.1 new duration time 24.5\n",
      "LO2 old centroid time 15.738213807339319 new centroid time 7.614522031309689\n",
      "LO2 old duration 26.275 new duration time 17.875\n",
      "LON old centroid time 15.83410020328449 new centroid time 8.758272080850118\n",
      "LON old duration 26.05 new duration time 18.875\n",
      "RCM old centroid time 10.514027685583812 new centroid time 5.421582389216637\n",
      "RCM old duration 16.75 new duration time 11.5\n",
      "STAR old centroid time 326.68858806723017 new centroid time 341.655021518015\n",
      "STAR old duration 93.475 new duration time 108.45\n"
     ]
    },
    {
     "name": "stderr",
     "output_type": "stream",
     "text": [
      "/Users/marinedenolle/miniconda3/envs/seismo_exo/lib/python3.10/site-packages/obspy/signal/filter.py:62: UserWarning: Selected high corner frequency (20) of bandpass is at or above Nyquist (20.0). Applying a high-pass instead.\n",
      "  warnings.warn(msg)\n"
     ]
    },
    {
     "name": "stdout",
     "output_type": "stream",
     "text": [
      "OBSR old centroid time 14.869541073400258 new centroid time 12.02347680905866\n",
      "OBSR old duration 25.075 new duration time 22.225\n",
      "PARA old centroid time 17.114537916366018 new centroid time 13.572318900063339\n",
      "PARA old duration 27.25 new duration time 23.675\n",
      "RUSH old centroid time 19.641367390977937 new centroid time 12.901850228964733\n",
      "RUSH old duration 32.475 new duration time 25.65\n",
      "SIFT old centroid time 19.10463883251918 new centroid time 11.972965275062814\n",
      "SIFT old duration 33.325 new duration time 25.625\n",
      "VOIT old centroid time 20.78293579184977 new centroid time 35.8018473369997\n",
      "VOIT old duration 32.225 new duration time 47.225\n",
      "FMW old centroid time 16.851883351429183 new centroid time 12.161873518495744\n",
      "FMW old duration 30.775 new duration time 26.05\n",
      "RCM old centroid time 10.520844070203687 new centroid time 9.851946697355052\n",
      "RCM old duration 18.175 new duration time 17.5\n",
      "RER old centroid time 14.155103744791878 new centroid time 11.45349779663313\n",
      "RER old duration 22.725 new duration time 20.025\n",
      "SPFR old centroid time 37.91791274700455 new centroid time 31.62019257239364\n",
      "SPFR old duration 59.775 new duration time 53.5\n"
     ]
    },
    {
     "name": "stderr",
     "output_type": "stream",
     "text": [
      "/Users/marinedenolle/miniconda3/envs/seismo_exo/lib/python3.10/site-packages/obspy/signal/filter.py:62: UserWarning: Selected high corner frequency (20) of bandpass is at or above Nyquist (20.0). Applying a high-pass instead.\n",
      "  warnings.warn(msg)\n"
     ]
    },
    {
     "name": "stdout",
     "output_type": "stream",
     "text": [
      "OBSR old centroid time 12.720008390029994 new centroid time 10.005934390432124\n",
      "OBSR old duration 19.95 new duration time 17.2\n",
      "PARA old centroid time 14.26232544156468 new centroid time 12.95218443762645\n",
      "PARA old duration 24.1 new duration time 22.775\n",
      "SIFT old centroid time 15.211415918090397 new centroid time 8.995912567102575\n",
      "SIFT old duration 26.325 new duration time 20.0\n",
      "VOIT old centroid time 16.804900730783697 new centroid time 9.320204597748537\n",
      "VOIT old duration 27.125 new duration time 19.675\n",
      "FMW old centroid time 12.88180107068226 new centroid time 9.574123636914493\n",
      "FMW old duration 23.275 new duration time 19.9\n",
      "LO2 old centroid time 13.238745505878034 new centroid time 8.593424092613295\n",
      "LO2 old duration 22.125 new duration time 17.55\n",
      "LON old centroid time 13.621209346923415 new centroid time 9.073653138252526\n",
      "LON old duration 22.025 new duration time 17.725\n",
      "RCM old centroid time 7.486272606127591 new centroid time 7.000813103062875\n",
      "RCM old duration 13.925 new duration time 13.425\n",
      "RER old centroid time 12.68109207682535 new centroid time 10.95534468199939\n",
      "RER old duration 42.3 new duration time 40.6\n",
      "STAR old centroid time 55.60927825160864 new centroid time 70.99695609641472\n",
      "STAR old duration 97.475 new duration time 112.475\n"
     ]
    },
    {
     "name": "stderr",
     "output_type": "stream",
     "text": [
      "/Users/marinedenolle/miniconda3/envs/seismo_exo/lib/python3.10/site-packages/obspy/signal/filter.py:62: UserWarning: Selected high corner frequency (20) of bandpass is at or above Nyquist (20.0). Applying a high-pass instead.\n",
      "  warnings.warn(msg)\n"
     ]
    },
    {
     "name": "stdout",
     "output_type": "stream",
     "text": [
      "OBSR old centroid time 13.852385010940361 new centroid time 12.671704983252068\n",
      "OBSR old duration 23.85 new duration time 22.65\n",
      "PARA old centroid time 14.954198680525955 new centroid time 13.328490183924783\n",
      "PARA old duration 25.65 new duration time 24.0\n",
      "PR04 old centroid time 25.628563638382044 new centroid time 22.23644241950141\n",
      "PR04 old duration 114.975 new duration time 111.825\n",
      "PR05 old centroid time 15.95034021592145 new centroid time 12.81231312652806\n",
      "PR05 old duration 27.975 new duration time 24.875\n",
      "RUSH old centroid time 29.644074398615423 new centroid time 21.13570298935319\n",
      "RUSH old duration 101.2 new duration time 91.475\n",
      "SIFT old centroid time 17.07625531725888 new centroid time 13.636441522017279\n",
      "SIFT old duration 28.55 new duration time 24.925\n",
      "VOIT old centroid time 17.874521052535364 new centroid time 7.965577412816343\n",
      "VOIT old duration 26.1 new duration time 15.8\n",
      "FMW old centroid time 13.938740511253487 new centroid time 12.78788932477039\n",
      "FMW old duration 24.025 new duration time 22.875\n",
      "LO2 old centroid time 14.647006410422547 new centroid time 11.058511752588412\n",
      "LO2 old duration 23.725 new duration time 20.075\n",
      "LON old centroid time 14.788810315720525 new centroid time 11.562887834990606\n",
      "LON old duration 23.7 new duration time 20.45\n",
      "RCM old centroid time 10.297571088686077 new centroid time 9.642396039690663\n",
      "RCM old duration 17.275 new duration time 16.6\n",
      "RER old centroid time 163.38565662603688 new centroid time 166.27221742398896\n",
      "RER old duration 129.65 new duration time 126.975\n"
     ]
    },
    {
     "name": "stderr",
     "output_type": "stream",
     "text": [
      "/Users/marinedenolle/miniconda3/envs/seismo_exo/lib/python3.10/site-packages/obspy/signal/filter.py:62: UserWarning: Selected high corner frequency (20) of bandpass is at or above Nyquist (20.0). Applying a high-pass instead.\n",
      "  warnings.warn(msg)\n"
     ]
    },
    {
     "name": "stdout",
     "output_type": "stream",
     "text": [
      "OBSR old centroid time 14.122943297036766 new centroid time 12.05634526459634\n",
      "OBSR old duration 23.275 new duration time 21.2\n",
      "PARA old centroid time 16.12009646805561 new centroid time 14.455385262934954\n",
      "PARA old duration 26.65 new duration time 24.975\n",
      "PR04 old centroid time 18.583385227057388 new centroid time 9.473594273598954\n",
      "PR04 old duration 30.575 new duration time 21.025\n",
      "PR05 old centroid time 32.34436551337215 new centroid time 25.049132885316585\n",
      "PR05 old duration 132.2 new duration time 124.45\n",
      "RUSH old centroid time 18.08922202100772 new centroid time 10.025462687882317\n",
      "RUSH old duration 31.1 new duration time 22.8\n",
      "SIFT old centroid time 17.363926957071925 new centroid time 11.706705075765422\n",
      "SIFT old duration 28.875 new duration time 23.3\n",
      "VOIT old centroid time 20.164248608750558 new centroid time 11.308500588441788\n",
      "VOIT old duration 37.575 new duration time 28.05\n",
      "FMW old centroid time 14.693477668363503 new centroid time 10.560948349335993\n",
      "FMW old duration 24.9 new duration time 20.75\n",
      "LO2 old centroid time 15.71814010392679 new centroid time 11.420349385242668\n",
      "LO2 old duration 25.825 new duration time 21.5\n",
      "LON old centroid time 15.633295983230665 new centroid time 11.559721979160132\n",
      "LON old duration 24.4 new duration time 20.325\n",
      "RCM old centroid time 9.823041560727058 new centroid time 9.453679042692483\n",
      "RCM old duration 16.875 new duration time 16.5\n",
      "RER old centroid time 12.931280606916424 new centroid time 10.733050366290955\n",
      "RER old duration 20.375 new duration time 18.2\n"
     ]
    },
    {
     "name": "stderr",
     "output_type": "stream",
     "text": [
      "/Users/marinedenolle/miniconda3/envs/seismo_exo/lib/python3.10/site-packages/obspy/signal/filter.py:62: UserWarning: Selected high corner frequency (20) of bandpass is at or above Nyquist (20.0). Applying a high-pass instead.\n",
      "  warnings.warn(msg)\n"
     ]
    },
    {
     "name": "stdout",
     "output_type": "stream",
     "text": [
      "CARB old centroid time 30.76084747108761 new centroid time 45.75826833734615\n",
      "CARB old duration 79.275 new duration time 94.275\n",
      "CRBN old centroid time 20.148852144204195 new centroid time 13.552032109956688\n",
      "CRBN old duration 35.6 new duration time 28.9\n",
      "OBSR old centroid time 19.344947481090617 new centroid time 19.24576139971593\n",
      "OBSR old duration 44.625 new duration time 44.525\n",
      "PARA old centroid time 20.33581227866452 new centroid time 19.308298679449138\n",
      "PARA old duration 48.725 new duration time 47.7\n",
      "PR04 old centroid time 23.848186769791596 new centroid time 17.542491788037914\n",
      "PR04 old duration 48.875 new duration time 42.25\n",
      "PR05 old centroid time 27.760903597810444 new centroid time 25.340255990064268\n",
      "PR05 old duration 120.7 new duration time 118.4\n",
      "RUSH old centroid time 18.770913415190396 new centroid time 12.429223226144067\n",
      "RUSH old duration 36.85 new duration time 30.325\n",
      "SIFT old centroid time 19.99565981754503 new centroid time 15.017212868466844\n",
      "SIFT old duration 37.6 new duration time 32.65\n",
      "VOIT old centroid time 17.615716900576192 new centroid time 10.146505081250064\n",
      "VOIT old duration 31.625 new duration time 24.325\n",
      "FMW old centroid time 29.811551132304757 new centroid time 28.376602192252406\n",
      "FMW old duration 63.225 new duration time 61.8\n",
      "LO2 old centroid time 22.00335314154871 new centroid time 19.572010552013076\n",
      "LO2 old duration 44.975 new duration time 42.5\n",
      "LON old centroid time 20.498078828277464 new centroid time 16.341081777373848\n",
      "LON old duration 42.75 new duration time 38.45\n",
      "RCM old centroid time 18.972236322291213 new centroid time 19.16888389771706\n",
      "RCM old duration 45.825 new duration time 46.025\n",
      "RER old centroid time 17.580784715363325 new centroid time 17.1087566471025\n",
      "RER old duration 40.25 new duration time 39.775\n"
     ]
    },
    {
     "name": "stderr",
     "output_type": "stream",
     "text": [
      "/Users/marinedenolle/miniconda3/envs/seismo_exo/lib/python3.10/site-packages/obspy/signal/filter.py:62: UserWarning: Selected high corner frequency (20) of bandpass is at or above Nyquist (20.0). Applying a high-pass instead.\n",
      "  warnings.warn(msg)\n"
     ]
    },
    {
     "name": "stdout",
     "output_type": "stream",
     "text": [
      "OBSR old centroid time 14.143847462503917 new centroid time 12.080989107092561\n",
      "OBSR old duration 23.35 new duration time 21.275\n",
      "PARA old centroid time 15.765182549462638 new centroid time 14.038764440901348\n",
      "PARA old duration 26.325 new duration time 24.6\n",
      "PR04 old centroid time 17.69768852055412 new centroid time 11.592839064526544\n",
      "PR04 old duration 30.325 new duration time 23.975\n",
      "RUSH old centroid time 17.069371314287075 new centroid time 8.786761741421824\n",
      "RUSH old duration 29.6 new duration time 21.175\n",
      "SIFT old centroid time 16.00365970068373 new centroid time 10.33374267392056\n",
      "SIFT old duration 25.625 new duration time 19.875\n",
      "FMW old centroid time 16.69243751243996 new centroid time 14.181100087666026\n",
      "FMW old duration 38.95 new duration time 36.4\n",
      "RCM old centroid time 9.592711170882476 new centroid time 9.026112279328704\n",
      "RCM old duration 16.85 new duration time 16.275\n",
      "RER old centroid time 13.627054695663071 new centroid time 11.575732798685204\n",
      "RER old duration 22.375 new duration time 20.3\n"
     ]
    },
    {
     "name": "stderr",
     "output_type": "stream",
     "text": [
      "/Users/marinedenolle/miniconda3/envs/seismo_exo/lib/python3.10/site-packages/obspy/signal/filter.py:62: UserWarning: Selected high corner frequency (20) of bandpass is at or above Nyquist (20.0). Applying a high-pass instead.\n",
      "  warnings.warn(msg)\n"
     ]
    },
    {
     "name": "stdout",
     "output_type": "stream",
     "text": [
      "CRBN old centroid time 110.10757055564245 new centroid time 124.98259779511167\n",
      "CRBN old duration 134.975 new duration time 149.975\n",
      "OBSR old centroid time 9.076026686499665 new centroid time 7.9870391192336045\n",
      "OBSR old duration 19.025 new duration time 17.9\n",
      "PARA old centroid time 8.75847007534571 new centroid time 7.52733511145365\n",
      "PARA old duration 14.175 new duration time 12.9\n",
      "FMW old centroid time 7.58776093151399 new centroid time 5.838490946946688\n",
      "FMW old duration 14.65 new duration time 12.875\n",
      "LO2 old centroid time 10.122244769577586 new centroid time 8.049132795730088\n",
      "LO2 old duration 22.65 new duration time 20.525\n",
      "LON old centroid time 10.62816582664039 new centroid time 8.725664912015018\n",
      "LON old duration 101.15 new duration time 99.2\n",
      "RCM old centroid time 4.208138743939814 new centroid time 3.8754626621799115\n",
      "RCM old duration 8.725 new duration time 8.35\n",
      "RER old centroid time 7.022409837919323 new centroid time 5.8134442155070225\n",
      "RER old duration 13.5 new duration time 12.25\n"
     ]
    },
    {
     "name": "stderr",
     "output_type": "stream",
     "text": [
      "/Users/marinedenolle/miniconda3/envs/seismo_exo/lib/python3.10/site-packages/obspy/signal/filter.py:62: UserWarning: Selected high corner frequency (20) of bandpass is at or above Nyquist (20.0). Applying a high-pass instead.\n",
      "  warnings.warn(msg)\n"
     ]
    },
    {
     "name": "stdout",
     "output_type": "stream",
     "text": [
      "OBSR old centroid time 11.74230063405038 new centroid time 9.34702752203598\n",
      "OBSR old duration 22.575 new duration time 20.175\n",
      "PARA old centroid time 12.598471864811515 new centroid time 9.253168391466174\n",
      "PARA old duration 18.525 new duration time 15.175\n",
      "PR04 old centroid time 18.27005132525375 new centroid time 13.262636627576072\n",
      "PR04 old duration 29.25 new duration time 24.225\n",
      "PR05 old centroid time 14.413249456303005 new centroid time 9.158291490553122\n",
      "PR05 old duration 26.575 new duration time 21.35\n",
      "RUSH old centroid time 15.93440355239426 new centroid time 10.739723755694083\n",
      "RUSH old duration 26.9 new duration time 21.675\n",
      "SIFT old centroid time 15.601970112633753 new centroid time 11.652918341982664\n",
      "SIFT old duration 27.6 new duration time 23.6\n",
      "VOIT old centroid time 15.52268455458245 new centroid time 9.995919232110472\n",
      "VOIT old duration 28.325 new duration time 22.55\n",
      "FMW old centroid time 12.682022850262655 new centroid time 9.576317042445652\n",
      "FMW old duration 20.75 new duration time 17.65\n",
      "LON old centroid time 12.824656666697917 new centroid time 7.995955584905744\n",
      "LON old duration 21.55 new duration time 16.675\n",
      "RCM old centroid time 7.88851630695371 new centroid time 6.245555864751586\n",
      "RCM old duration 14.725 new duration time 13.05\n",
      "RER old centroid time 11.371469151443033 new centroid time 8.47841595113912\n",
      "RER old duration 18.825 new duration time 15.925\n",
      "STAR old centroid time 88.4338757135578 new centroid time 103.43412251458673\n",
      "STAR old duration 109.25 new duration time 124.25\n"
     ]
    },
    {
     "name": "stderr",
     "output_type": "stream",
     "text": [
      "/Users/marinedenolle/miniconda3/envs/seismo_exo/lib/python3.10/site-packages/obspy/signal/filter.py:62: UserWarning: Selected high corner frequency (20) of bandpass is at or above Nyquist (20.0). Applying a high-pass instead.\n",
      "  warnings.warn(msg)\n"
     ]
    },
    {
     "name": "stdout",
     "output_type": "stream",
     "text": [
      "CARB old centroid time 15.437196038396676 new centroid time 30.427196292915994\n",
      "CARB old duration 27.4 new duration time 42.4\n",
      "OBSR old centroid time 10.834283840073889 new centroid time 15.738060947455274\n",
      "OBSR old duration 21.225 new duration time 26.225\n",
      "OPCH old centroid time 14.688302816768726 new centroid time 10.367384163707138\n",
      "OPCH old duration 23.175 new duration time 19.025\n",
      "PARA old centroid time 11.455398520938484 new centroid time 10.641326249510508\n",
      "PARA old duration 20.6 new duration time 19.775\n",
      "PR04 old centroid time 15.375144820442852 new centroid time 10.565342465561526\n",
      "PR04 old duration 28.05 new duration time 23.175\n",
      "PR05 old centroid time 13.850759610532174 new centroid time 10.23491631862225\n",
      "PR05 old duration 26.0 new duration time 22.45\n",
      "RUSH old centroid time 13.294042857090774 new centroid time 9.472796055285276\n",
      "RUSH old duration 25.25 new duration time 21.375\n",
      "SIFT old centroid time 14.402934047240686 new centroid time 11.465162711204114\n",
      "SIFT old duration 26.625 new duration time 23.7\n",
      "VOIT old centroid time 13.492229749682178 new centroid time 8.457364722690599\n",
      "VOIT old duration 21.075 new duration time 15.975\n",
      "FMW old centroid time 11.159842955683564 new centroid time 8.379678251684236\n",
      "FMW old duration 19.0 new duration time 16.2\n",
      "LON old centroid time 13.056985006608686 new centroid time 10.756674102141888\n",
      "LON old duration 24.95 new duration time 22.625\n",
      "RCM old centroid time 5.423165027179174 new centroid time 5.770303932384931\n",
      "RCM old duration 10.45 new duration time 10.8\n",
      "RER old centroid time 9.198988237064139 new centroid time 8.909400972090955\n",
      "RER old duration 15.95 new duration time 15.65\n",
      "STAR old centroid time 51.964222308733746 new centroid time 0.3393505567098642\n",
      "STAR old duration 52.6 new duration time 0.675\n"
     ]
    },
    {
     "name": "stderr",
     "output_type": "stream",
     "text": [
      "/Users/marinedenolle/miniconda3/envs/seismo_exo/lib/python3.10/site-packages/obspy/signal/filter.py:62: UserWarning: Selected high corner frequency (20) of bandpass is at or above Nyquist (20.0). Applying a high-pass instead.\n",
      "  warnings.warn(msg)\n"
     ]
    },
    {
     "name": "stdout",
     "output_type": "stream",
     "text": [
      "CARB old centroid time 18.41338811230666 new centroid time 9.14442858532177\n",
      "CARB old duration 26.85 new duration time 17.5\n",
      "CRBN old centroid time 15.764910028929243 new centroid time 7.961105599567522\n",
      "CRBN old duration 24.45 new duration time 16.525\n",
      "KAUT old centroid time 13.881088826778502 new centroid time 9.13057264778426\n",
      "KAUT old duration 23.75 new duration time 18.875\n",
      "OBSR old centroid time 11.299908285644959 new centroid time 10.487494854784325\n",
      "OBSR old duration 19.825 new duration time 19.0\n",
      "OPCH old centroid time 16.7275821740212 new centroid time 9.284337404489904\n",
      "OPCH old duration 29.35 new duration time 21.825\n",
      "PARA old centroid time 10.090613459627692 new centroid time 8.532647933277403\n",
      "PARA old duration 15.45 new duration time 13.875\n",
      "PR01 old centroid time 19.509476372875245 new centroid time 10.54679577073237\n",
      "PR01 old duration 33.175 new duration time 24.15\n",
      "PR03 old centroid time 19.782648514833227 new centroid time 11.161654260823711\n",
      "PR03 old duration 32.825 new duration time 24.1\n",
      "PR04 old centroid time 17.93161925990045 new centroid time 14.595732301139538\n",
      "PR04 old duration 34.825 new duration time 31.45\n",
      "PR05 old centroid time 17.300340968666177 new centroid time 14.288519681509092\n",
      "PR05 old duration 33.8 new duration time 30.775\n",
      "RUSH old centroid time 16.37730561194758 new centroid time 14.584244902556877\n",
      "RUSH old duration 29.975 new duration time 28.175\n",
      "SIFT old centroid time 16.45122427931319 new centroid time 14.415708943589415\n",
      "SIFT old duration 31.775 new duration time 29.725\n",
      "VOIT old centroid time 17.353383756455838 new centroid time 11.376713184757937\n",
      "VOIT old duration 26.9 new duration time 20.875\n",
      "FMW old centroid time 11.898576780735683 new centroid time 9.946831418757862\n",
      "FMW old duration 21.0 new duration time 19.025\n",
      "LO2 old centroid time 11.542967995620948 new centroid time 9.424448285770739\n",
      "LO2 old duration 19.975 new duration time 17.85\n",
      "LON old centroid time 11.904800449904304 new centroid time 9.903994295836943\n",
      "LON old duration 20.375 new duration time 18.35\n",
      "PUPY old centroid time 28.1892864048818 new centroid time 14.203077104070779\n",
      "PUPY old duration 47.275 new duration time 33.45\n",
      "RCM old centroid time 9.516214771179024 new centroid time 9.945890743103888\n",
      "RCM old duration 17.05 new duration time 17.5\n",
      "RER old centroid time 9.673144806481433 new centroid time 8.912968556270933\n",
      "RER old duration 16.875 new duration time 16.1\n",
      "STOR old centroid time 37.79864283116454 new centroid time 52.74615431688919\n",
      "STOR old duration 90.825 new duration time 105.825\n",
      "WPEQ old centroid time 23.04086847465383 new centroid time 11.766820249488383\n",
      "WPEQ old duration 36.425 new duration time 25.075\n"
     ]
    },
    {
     "name": "stderr",
     "output_type": "stream",
     "text": [
      "/Users/marinedenolle/miniconda3/envs/seismo_exo/lib/python3.10/site-packages/obspy/signal/filter.py:62: UserWarning: Selected high corner frequency (20) of bandpass is at or above Nyquist (20.0). Applying a high-pass instead.\n",
      "  warnings.warn(msg)\n"
     ]
    },
    {
     "name": "stdout",
     "output_type": "stream",
     "text": [
      "OBSR old centroid time 10.572881589908732 new centroid time 10.139017534137638\n",
      "OBSR old duration 18.425 new duration time 17.975\n",
      "PARA old centroid time 11.63623872445255 new centroid time 10.882445711298143\n",
      "PARA old duration 19.475 new duration time 18.7\n",
      "PR04 old centroid time 14.714813034015755 new centroid time 11.988341544951227\n",
      "PR04 old duration 29.075 new duration time 26.2\n",
      "PR05 old centroid time 13.096962473632784 new centroid time 9.586718063756223\n",
      "PR05 old duration 22.875 new duration time 19.35\n",
      "RUSH old centroid time 14.77525056162152 new centroid time 12.742773473074818\n",
      "RUSH old duration 26.15 new duration time 24.125\n",
      "SIFT old centroid time 13.798343192726405 new centroid time 11.786048410457301\n",
      "SIFT old duration 24.175 new duration time 22.15\n",
      "VOIT old centroid time 16.220592316671592 new centroid time 7.852735080941941\n",
      "VOIT old duration 26.9 new duration time 18.325\n",
      "FMW old centroid time 10.729136615374363 new centroid time 4.666579930491461\n",
      "FMW old duration 18.2 new duration time 11.45\n",
      "LON old centroid time 11.619006665051844 new centroid time 9.960973498235791\n",
      "LON old duration 20.925 new duration time 19.2\n",
      "RCM old centroid time 9.636339073971824 new centroid time 4.713650506895263\n",
      "RCM old duration 17.325 new duration time 11.825\n",
      "RER old centroid time 9.889343261624065 new centroid time 9.597565765879958\n",
      "RER old duration 16.75 new duration time 16.45\n"
     ]
    },
    {
     "name": "stderr",
     "output_type": "stream",
     "text": [
      "/Users/marinedenolle/miniconda3/envs/seismo_exo/lib/python3.10/site-packages/obspy/signal/filter.py:62: UserWarning: Selected high corner frequency (20) of bandpass is at or above Nyquist (20.0). Applying a high-pass instead.\n",
      "  warnings.warn(msg)\n"
     ]
    },
    {
     "name": "stdout",
     "output_type": "stream",
     "text": [
      "CARB old centroid time 19.534630784577 new centroid time 15.529423764232162\n",
      "CARB old duration 27.95 new duration time 23.95\n",
      "CRBN old centroid time 17.690443012175567 new centroid time 14.090978459847886\n",
      "CRBN old duration 26.0 new duration time 22.4\n",
      "OBSR old centroid time 12.662755913015605 new centroid time 11.585603100305246\n",
      "OBSR old duration 23.25 new duration time 22.15\n",
      "OPCH old centroid time 19.23640919374379 new centroid time 13.819107845072553\n",
      "OPCH old duration 31.25 new duration time 25.825\n",
      "PARA old centroid time 13.539461608324645 new centroid time 12.027690354550389\n",
      "PARA old duration 22.0 new duration time 20.475\n",
      "PR01 old centroid time 21.241278631949125 new centroid time 15.120087633834117\n",
      "PR01 old duration 35.125 new duration time 28.9\n",
      "PR03 old centroid time 21.72269448082196 new centroid time 10.924939170024361\n",
      "PR03 old duration 34.325 new duration time 23.525\n",
      "PR04 old centroid time 16.893037785406293 new centroid time 13.75794791758682\n",
      "PR04 old duration 28.875 new duration time 25.725\n",
      "PR05 old centroid time 17.108929164749775 new centroid time 14.534545986988997\n",
      "PR05 old duration 29.65 new duration time 27.05\n",
      "RUSH old centroid time 18.391016581075444 new centroid time 16.320516932301143\n",
      "RUSH old duration 29.625 new duration time 27.55\n",
      "SIFT old centroid time 16.860012550783164 new centroid time 14.845241961141468\n",
      "SIFT old duration 30.4 new duration time 28.375\n",
      "VOIT old centroid time 19.49334604489986 new centroid time 15.315821579944808\n",
      "VOIT old duration 30.2 new duration time 26.025\n",
      "FMW old centroid time 13.251659477267232 new centroid time 10.90519543839054\n",
      "FMW old duration 22.275 new duration time 19.9\n",
      "LO2 old centroid time 13.522745012967782 new centroid time 10.157170680584612\n",
      "LO2 old duration 17.925 new duration time 14.575\n",
      "LON old centroid time 13.852876816223082 new centroid time 11.504243292515827\n",
      "LON old duration 23.075 new duration time 20.7\n",
      "RCM old centroid time 12.38207872826089 new centroid time 12.696979486682034\n",
      "RCM old duration 23.875 new duration time 24.2\n",
      "RER old centroid time 12.115835159109732 new centroid time 11.17980771274777\n",
      "RER old duration 20.725 new duration time 19.775\n",
      "WPEQ old centroid time 25.552249770524824 new centroid time 17.630184181705065\n",
      "WPEQ old duration 39.825 new duration time 31.9\n"
     ]
    },
    {
     "name": "stderr",
     "output_type": "stream",
     "text": [
      "/Users/marinedenolle/miniconda3/envs/seismo_exo/lib/python3.10/site-packages/obspy/signal/filter.py:62: UserWarning: Selected high corner frequency (20) of bandpass is at or above Nyquist (20.0). Applying a high-pass instead.\n",
      "  warnings.warn(msg)\n"
     ]
    },
    {
     "name": "stdout",
     "output_type": "stream",
     "text": [
      "OBSR old centroid time 11.940088645270363 new centroid time 8.830932424512355\n",
      "OBSR old duration 24.05 new duration time 20.925\n",
      "PARA old centroid time 11.75636432671694 new centroid time 8.603938913164697\n",
      "PARA old duration 21.2 new duration time 18.075\n",
      "PR04 old centroid time 15.657100356551569 new centroid time 10.963175545860624\n",
      "PR04 old duration 27.65 new duration time 22.975\n",
      "PR05 old centroid time 14.212259958512288 new centroid time 9.873628276967873\n",
      "PR05 old duration 25.75 new duration time 21.425\n",
      "RUSH old centroid time 15.474865810693409 new centroid time 11.422379407353823\n",
      "RUSH old duration 26.625 new duration time 22.575\n",
      "SIFT old centroid time 15.24422362205593 new centroid time 11.504948455259283\n",
      "SIFT old duration 29.325 new duration time 25.6\n",
      "VOIT old centroid time 15.26560245616001 new centroid time 9.25293306127334\n",
      "VOIT old duration 25.7 new duration time 19.475\n",
      "FMW old centroid time 12.85479715993597 new centroid time 10.071314779941432\n",
      "FMW old duration 24.0 new duration time 21.2\n",
      "LO2 old centroid time 13.387138983810125 new centroid time 10.167932252607086\n",
      "LO2 old duration 20.775 new duration time 17.6\n",
      "RCM old centroid time 6.075387093240153 new centroid time 4.31130786163869\n",
      "RCM old duration 11.15 new duration time 9.325\n",
      "RER old centroid time 10.272195209998676 new centroid time 7.564867352337461\n",
      "RER old duration 18.475 new duration time 15.75\n"
     ]
    },
    {
     "name": "stderr",
     "output_type": "stream",
     "text": [
      "/Users/marinedenolle/miniconda3/envs/seismo_exo/lib/python3.10/site-packages/obspy/signal/filter.py:62: UserWarning: Selected high corner frequency (20) of bandpass is at or above Nyquist (20.0). Applying a high-pass instead.\n",
      "  warnings.warn(msg)\n"
     ]
    },
    {
     "name": "stdout",
     "output_type": "stream",
     "text": [
      "CARB old centroid time 19.585129265998575 new centroid time 35.16510167756757\n",
      "CARB old duration 81.65 new duration time 96.375\n",
      "OBSR old centroid time 13.695197405306349 new centroid time 11.316348952405773\n",
      "OBSR old duration 23.75 new duration time 21.35\n",
      "OPCH old centroid time 16.38023682131935 new centroid time 9.236241541714309\n",
      "OPCH old duration 23.575 new duration time 16.2\n",
      "PARA old centroid time 13.096074236452976 new centroid time 9.238838485479954\n",
      "PARA old duration 21.95 new duration time 18.05\n",
      "PR01 old centroid time 18.005434469225424 new centroid time 9.0135762082965\n",
      "PR01 old duration 29.8 new duration time 20.775\n",
      "PR04 old centroid time 19.1523918054253 new centroid time 12.58299549900935\n",
      "PR04 old duration 32.575 new duration time 25.875\n",
      "PR05 old centroid time 17.029996623612853 new centroid time 11.690828039955294\n",
      "PR05 old duration 31.375 new duration time 25.825\n",
      "RUSH old centroid time 17.0494540521545 new centroid time 11.316937076052053\n",
      "RUSH old duration 30.8 new duration time 25.025\n",
      "SIFT old centroid time 18.15208474015954 new centroid time 12.541624669757958\n",
      "SIFT old duration 30.675 new duration time 25.025\n",
      "VOIT old centroid time 17.98905577578133 new centroid time 11.369891430308167\n",
      "VOIT old duration 28.7 new duration time 22.1\n",
      "FMW old centroid time 14.056792221117217 new centroid time 11.94635798753028\n",
      "FMW old duration 25.125 new duration time 23.0\n",
      "LO2 old centroid time 15.491701313646352 new centroid time 11.623700812907463\n",
      "LO2 old duration 25.7 new duration time 21.75\n",
      "LON old centroid time 15.380921121429708 new centroid time 11.002114398374184\n",
      "LON old duration 24.6 new duration time 20.125\n",
      "RCM old centroid time 8.228859100122275 new centroid time 5.225954021805271\n",
      "RCM old duration 15.75 new duration time 12.6\n",
      "RER old centroid time 15.31322930926032 new centroid time 11.012322285854967\n",
      "RER old duration 44.775 new duration time 40.475\n",
      "WPEQ old centroid time 22.60992263802025 new centroid time 12.609258797713801\n",
      "WPEQ old duration 35.0 new duration time 24.925\n"
     ]
    },
    {
     "name": "stderr",
     "output_type": "stream",
     "text": [
      "/Users/marinedenolle/miniconda3/envs/seismo_exo/lib/python3.10/site-packages/obspy/signal/filter.py:62: UserWarning: Selected high corner frequency (20) of bandpass is at or above Nyquist (20.0). Applying a high-pass instead.\n",
      "  warnings.warn(msg)\n"
     ]
    },
    {
     "name": "stdout",
     "output_type": "stream",
     "text": [
      "CARB old centroid time 24.850513306641552 new centroid time -5.567169296557436\n",
      "CARB old duration 73.525 new duration time 56.45\n",
      "CRBN old centroid time 17.784964605063866 new centroid time 13.05844636771884\n",
      "CRBN old duration 32.8 new duration time 28.075\n",
      "OBSR old centroid time 15.637358680562798 new centroid time 16.356505910304357\n",
      "OBSR old duration 33.325 new duration time 34.075\n",
      "OPCH old centroid time 19.553159033533003 new centroid time 14.02420471725475\n",
      "OPCH old duration 36.475 new duration time 30.825\n",
      "PARA old centroid time 17.829686776235043 new centroid time 17.441504473544686\n",
      "PARA old duration 35.325 new duration time 34.925\n",
      "PR01 old centroid time 21.984351122927137 new centroid time 36.999288835171875\n",
      "PR01 old duration 50.275 new duration time 65.275\n",
      "PR04 old centroid time 22.643266754206525 new centroid time 17.23350698149456\n",
      "PR04 old duration 56.075 new duration time 50.525\n",
      "PR05 old centroid time 17.611273768474266 new centroid time 15.489737107963144\n",
      "PR05 old duration 33.3 new duration time 31.1\n",
      "RUSH old centroid time 19.057655650418955 new centroid time 16.096778781486787\n",
      "RUSH old duration 42.0 new duration time 38.975\n",
      "SIFT old centroid time 18.23859331423662 new centroid time 15.857546139506162\n",
      "SIFT old duration 37.45 new duration time 35.025\n",
      "VOIT old centroid time 19.71251970472252 new centroid time 17.11372422271018\n",
      "VOIT old duration 36.975 new duration time 34.35\n",
      "FMW old centroid time 15.958083234753598 new centroid time 15.290231613975909\n",
      "FMW old duration 31.25 new duration time 30.575\n",
      "LO2 old centroid time 17.250001032742116 new centroid time 14.354449868404533\n",
      "LO2 old duration 34.1 new duration time 31.125\n",
      "LON old centroid time 16.129132553902203 new centroid time 13.229114028334282\n",
      "LON old duration 31.4 new duration time 28.425\n",
      "RCM old centroid time 15.56868648027339 new centroid time 16.13892191027233\n",
      "RCM old duration 31.975 new duration time 32.575\n",
      "RER old centroid time 18.111977326821165 new centroid time 18.399370085800705\n",
      "RER old duration 47.975 new duration time 48.275\n",
      "WPEQ old centroid time 23.9526677857763 new centroid time 14.65480245203317\n",
      "WPEQ old duration 41.875 new duration time 32.425\n"
     ]
    },
    {
     "name": "stderr",
     "output_type": "stream",
     "text": [
      "/Users/marinedenolle/miniconda3/envs/seismo_exo/lib/python3.10/site-packages/obspy/signal/filter.py:62: UserWarning: Selected high corner frequency (20) of bandpass is at or above Nyquist (20.0). Applying a high-pass instead.\n",
      "  warnings.warn(msg)\n"
     ]
    },
    {
     "name": "stdout",
     "output_type": "stream",
     "text": [
      "OBSR old centroid time 14.851226400317778 new centroid time 12.971185292450203\n",
      "OBSR old duration 28.7 new duration time 26.8\n",
      "PR04 old centroid time 17.92605893987417 new centroid time 14.379861919760966\n",
      "PR04 old duration 33.05 new duration time 29.35\n",
      "PR05 old centroid time 15.906575368564297 new centroid time 12.95525536583612\n",
      "PR05 old duration 29.825 new duration time 26.7\n",
      "RUSH old centroid time 16.75717807934258 new centroid time 12.097569885955926\n",
      "RUSH old duration 33.25 new duration time 28.575\n",
      "SIFT old centroid time 16.131279141416492 new centroid time 12.369779251808978\n",
      "SIFT old duration 31.425 new duration time 27.55\n",
      "VOIT old centroid time 17.302234120248883 new centroid time 11.93326983144267\n",
      "VOIT old duration 35.125 new duration time 29.675\n",
      "FMW old centroid time 14.153525300008043 new centroid time 11.872191890974031\n",
      "FMW old duration 25.975 new duration time 23.675\n",
      "LON old centroid time 15.184729058397865 new centroid time 12.286852966407048\n",
      "LON old duration 29.425 new duration time 26.5\n",
      "RCM old centroid time 9.974142018460103 new centroid time 10.022813755821373\n",
      "RCM old duration 19.875 new duration time 19.925\n",
      "RER old centroid time 12.854277961748739 new centroid time 11.16389787904867\n",
      "RER old duration 22.825 new duration time 21.125\n"
     ]
    },
    {
     "name": "stderr",
     "output_type": "stream",
     "text": [
      "/Users/marinedenolle/miniconda3/envs/seismo_exo/lib/python3.10/site-packages/obspy/signal/filter.py:62: UserWarning: Selected high corner frequency (20) of bandpass is at or above Nyquist (20.0). Applying a high-pass instead.\n",
      "  warnings.warn(msg)\n"
     ]
    },
    {
     "name": "stdout",
     "output_type": "stream",
     "text": [
      "CARB old centroid time 18.694831943996075 new centroid time 12.594857632924457\n",
      "CARB old duration 31.1 new duration time 24.925\n",
      "OBSR old centroid time 11.284304944734249 new centroid time 8.577262038184942\n",
      "OBSR old duration 21.85 new duration time 19.075\n",
      "PARA old centroid time 12.691063018012835 new centroid time 9.468164231841246\n",
      "PARA old duration 21.375 new duration time 18.125\n",
      "PR04 old centroid time 17.530956372547468 new centroid time 11.950773402633049\n",
      "PR04 old duration 31.125 new duration time 25.475\n",
      "PR05 old centroid time 17.07011610223526 new centroid time 12.835879052771533\n",
      "PR05 old duration 33.325 new duration time 29.025\n",
      "RUSH old centroid time 16.40012731008908 new centroid time 11.778370539609572\n",
      "RUSH old duration 30.125 new duration time 25.45\n",
      "SIFT old centroid time 16.659261565289313 new centroid time 12.55559371017649\n",
      "SIFT old duration 29.35 new duration time 25.175\n",
      "VOIT old centroid time 17.360554694024465 new centroid time 11.597515515141623\n",
      "VOIT old duration 29.75 new duration time 24.125\n",
      "FMW old centroid time 12.109775268598169 new centroid time 9.31331023188919\n",
      "FMW old duration 22.05 new duration time 19.25\n",
      "LO2 old centroid time 13.219736921037704 new centroid time 8.98236618208346\n",
      "LO2 old duration 22.325 new duration time 18.0\n",
      "LON old centroid time 13.346528907861948 new centroid time 9.30729182723471\n",
      "LON old duration 22.3 new duration time 18.2\n",
      "RCM old centroid time 8.426859117084561 new centroid time 7.026367754129944\n",
      "RCM old duration 17.95 new duration time 16.5\n",
      "RER old centroid time 12.027661768615035 new centroid time 10.003305979862798\n",
      "RER old duration 21.1 new duration time 19.05\n"
     ]
    },
    {
     "name": "stderr",
     "output_type": "stream",
     "text": [
      "/Users/marinedenolle/miniconda3/envs/seismo_exo/lib/python3.10/site-packages/obspy/signal/filter.py:62: UserWarning: Selected high corner frequency (20) of bandpass is at or above Nyquist (20.0). Applying a high-pass instead.\n",
      "  warnings.warn(msg)\n"
     ]
    },
    {
     "name": "stdout",
     "output_type": "stream",
     "text": [
      "GTWY old centroid time 105.99935938626375 new centroid time 25.760006532882684\n",
      "GTWY old duration 132.275 new duration time 47.4\n",
      "OBSR old centroid time 10.31069121953721 new centroid time 10.402808225484948\n",
      "OBSR old duration 21.925 new duration time 22.025\n",
      "PARA old centroid time 13.954406034597094 new centroid time 11.122845596885512\n",
      "PARA old duration 32.8 new duration time 29.8\n",
      "PR04 old centroid time 15.706511479747089 new centroid time 9.633370579587638\n",
      "PR04 old duration 40.625 new duration time 34.35\n",
      "RUSH old centroid time 13.916883098642726 new centroid time 8.816053679443513\n",
      "RUSH old duration 26.55 new duration time 21.225\n",
      "SIFT old centroid time 15.31697095230233 new centroid time 10.43657513449347\n",
      "SIFT old duration 34.7 new duration time 29.675\n",
      "FMW old centroid time 20.577277366035744 new centroid time 19.276339832744924\n",
      "FMW old duration 44.05 new duration time 42.725\n",
      "LO2 old centroid time 13.134004162445757 new centroid time 9.266543131808398\n",
      "LO2 old duration 27.95 new duration time 24.075\n",
      "LON old centroid time 12.822209203539801 new centroid time 9.677265148423142\n",
      "LON old duration 26.35 new duration time 23.175\n",
      "RCM old centroid time 10.19258673057823 new centroid time 10.794846730722146\n",
      "RCM old duration 23.3 new duration time 23.925\n",
      "RER old centroid time 11.91141019180536 new centroid time 11.766844081911287\n",
      "RER old duration 29.475 new duration time 29.325\n"
     ]
    },
    {
     "name": "stderr",
     "output_type": "stream",
     "text": [
      "/Users/marinedenolle/miniconda3/envs/seismo_exo/lib/python3.10/site-packages/obspy/signal/filter.py:62: UserWarning: Selected high corner frequency (20) of bandpass is at or above Nyquist (20.0). Applying a high-pass instead.\n",
      "  warnings.warn(msg)\n"
     ]
    },
    {
     "name": "stdout",
     "output_type": "stream",
     "text": [
      "GTWY old centroid time 108.86234704056398 new centroid time 123.88872542335235\n",
      "GTWY old duration 134.975 new duration time 149.975\n",
      "OBSR old centroid time 9.990955280641085 new centroid time 8.423582313643452\n",
      "OBSR old duration 17.95 new duration time 16.35\n",
      "RUSH old centroid time 13.269909751888287 new centroid time 9.605627913713093\n",
      "RUSH old duration 24.225 new duration time 20.6\n",
      "FMW old centroid time 11.073178974683334 new centroid time 9.887568543749103\n",
      "FMW old duration 20.475 new duration time 19.275\n",
      "LO2 old centroid time 69.16297536640882 new centroid time 63.47599221585629\n",
      "LO2 old duration 117.8 new duration time 113.525\n",
      "LON old centroid time 60.72992375753656 new centroid time 55.85424835878749\n",
      "LON old duration 117.625 new duration time 113.5\n",
      "RCM old centroid time 6.3464178436113325 new centroid time 8.890290940206015\n",
      "RCM old duration 11.8 new duration time 14.425\n",
      "RER old centroid time 9.586640525261172 new centroid time 7.775340552535248\n",
      "RER old duration 17.625 new duration time 15.8\n",
      "SPFR old centroid time 37.110200438712646 new centroid time 52.11747393619918\n",
      "SPFR old duration 121.325 new duration time 136.325\n"
     ]
    },
    {
     "name": "stderr",
     "output_type": "stream",
     "text": [
      "/Users/marinedenolle/miniconda3/envs/seismo_exo/lib/python3.10/site-packages/obspy/signal/filter.py:62: UserWarning: Selected high corner frequency (20) of bandpass is at or above Nyquist (20.0). Applying a high-pass instead.\n",
      "  warnings.warn(msg)\n"
     ]
    },
    {
     "name": "stdout",
     "output_type": "stream",
     "text": [
      "CARB old centroid time 20.206239932921036 new centroid time 9.527258779991616\n",
      "CARB old duration 28.7 new duration time 18.1\n",
      "CRBN old centroid time 46.24248809637865 new centroid time 39.561571635956085\n",
      "CRBN old duration 119.425 new duration time 113.25\n",
      "OBSR old centroid time 16.13649212266568 new centroid time 13.636922171689564\n",
      "OBSR old duration 26.9 new duration time 24.4\n",
      "OPCH old centroid time 19.66746460967722 new centroid time 11.36439594321332\n",
      "OPCH old duration 31.7 new duration time 23.35\n",
      "PARA old centroid time 16.205751437286867 new centroid time 11.428736211416512\n",
      "PARA old duration 25.325 new duration time 20.5\n",
      "PR04 old centroid time 21.208992579747687 new centroid time 11.347978417622064\n",
      "PR04 old duration 36.225 new duration time 26.1\n",
      "PR05 old centroid time 17.476191662565416 new centroid time 8.480339791950069\n",
      "PR05 old duration 27.25 new duration time 18.05\n",
      "RUSH old centroid time 18.980443943704973 new centroid time 13.781773738338682\n",
      "RUSH old duration 31.875 new duration time 26.65\n",
      "SIFT old centroid time 19.256300467146428 new centroid time 13.723684046600283\n",
      "SIFT old duration 32.175 new duration time 26.625\n",
      "VOIT old centroid time 21.12880135116378 new centroid time 12.216573220819575\n",
      "VOIT old duration 35.575 new duration time 26.625\n",
      "FMW old centroid time 16.39646575254493 new centroid time 13.328213029650566\n",
      "FMW old duration 28.3 new duration time 25.225\n",
      "LO2 old centroid time 17.09012354702033 new centroid time 10.998591320770021\n",
      "LO2 old duration 26.25 new duration time 20.025\n",
      "LON old centroid time 17.368850994284486 new centroid time 13.492767038197547\n",
      "LON old duration 26.575 new duration time 22.85\n",
      "RCM old centroid time 10.95108148203267 new centroid time 10.362960600385549\n",
      "RCM old duration 18.5 new duration time 17.9\n",
      "RER old centroid time 15.094157437956442 new centroid time 12.850400410881246\n",
      "RER old duration 21.95 new duration time 19.7\n",
      "WPEQ old centroid time 23.30182362155154 new centroid time 10.793647649830266\n",
      "WPEQ old duration 33.025 new duration time 20.6\n"
     ]
    },
    {
     "name": "stderr",
     "output_type": "stream",
     "text": [
      "/Users/marinedenolle/miniconda3/envs/seismo_exo/lib/python3.10/site-packages/obspy/signal/filter.py:62: UserWarning: Selected high corner frequency (20) of bandpass is at or above Nyquist (20.0). Applying a high-pass instead.\n",
      "  warnings.warn(msg)\n"
     ]
    },
    {
     "name": "stdout",
     "output_type": "stream",
     "text": [
      "CARB old centroid time 19.885992046317952 new centroid time 10.712186391927682\n",
      "CARB old duration 29.625 new duration time 20.45\n",
      "KAUT old centroid time 16.951748867056725 new centroid time 6.6631207404990995\n",
      "KAUT old duration 26.2 new duration time 15.6\n",
      "OBSR old centroid time 14.951813592292421 new centroid time 13.90548208999093\n",
      "OBSR old duration 25.2 new duration time 24.15\n",
      "OPCH old centroid time 19.565362413835807 new centroid time 11.348585328134389\n",
      "OPCH old duration 31.0 new duration time 22.775\n",
      "PARA old centroid time 15.487105730918712 new centroid time 10.04721034081875\n",
      "PARA old duration 25.425 new duration time 19.975\n",
      "PR01 old centroid time 23.427541190484636 new centroid time 13.639913484063701\n",
      "PR01 old duration 37.125 new duration time 27.325\n",
      "PR03 old centroid time 23.2101816112066 new centroid time 13.089216396928778\n",
      "PR03 old duration 34.7 new duration time 24.875\n",
      "PR04 old centroid time 22.93369939164663 new centroid time 14.27739295919568\n",
      "PR04 old duration 42.5 new duration time 33.775\n",
      "PR05 old centroid time 20.046449213973172 new centroid time 14.750758416019732\n",
      "PR05 old duration 36.325 new duration time 30.975\n",
      "RUSH old centroid time 18.78141008211384 new centroid time 12.086625865852447\n",
      "RUSH old duration 29.4 new duration time 22.675\n",
      "SIFT old centroid time 21.38663581584403 new centroid time 15.917784909380481\n",
      "SIFT old duration 34.875 new duration time 29.375\n",
      "VOIT old centroid time 20.00976658773263 new centroid time 11.210103416168158\n",
      "VOIT old duration 32.85 new duration time 24.025\n",
      "FMW old centroid time 16.936998126353405 new centroid time 10.31915116234211\n",
      "FMW old duration 29.2 new duration time 22.5\n",
      "LO2 old centroid time 18.162067130976634 new centroid time 11.575826814639049\n",
      "LO2 old duration 30.15 new duration time 23.45\n",
      "LON old centroid time 17.46349545776314 new centroid time 11.415753796125811\n",
      "LON old duration 29.475 new duration time 23.4\n",
      "PUPY old centroid time 30.9167657874854 new centroid time 15.770285362770066\n",
      "PUPY old duration 47.3 new duration time 32.975\n",
      "RCM old centroid time 10.589579216862807 new centroid time 5.728046094909475\n",
      "RCM old duration 16.925 new duration time 11.925\n",
      "RER old centroid time 15.267894250079044 new centroid time 10.515460080534439\n",
      "RER old duration 25.025 new duration time 20.2\n",
      "WPEQ old centroid time 26.27113347763483 new centroid time 15.223450399919283\n",
      "WPEQ old duration 43.05 new duration time 31.95\n"
     ]
    },
    {
     "name": "stderr",
     "output_type": "stream",
     "text": [
      "/Users/marinedenolle/miniconda3/envs/seismo_exo/lib/python3.10/site-packages/obspy/signal/filter.py:62: UserWarning: Selected high corner frequency (20) of bandpass is at or above Nyquist (20.0). Applying a high-pass instead.\n",
      "  warnings.warn(msg)\n"
     ]
    },
    {
     "name": "stdout",
     "output_type": "stream",
     "text": [
      "OBSR old centroid time 15.371612543637031 new centroid time 14.075018933846504\n",
      "OBSR old duration 26.925 new duration time 25.6\n",
      "PARA old centroid time 15.589215399586765 new centroid time 14.42738456861219\n",
      "PARA old duration 28.825 new duration time 27.65\n",
      "PR04 old centroid time 19.123305535244242 new centroid time 15.952771338991504\n",
      "PR04 old duration 35.05 new duration time 31.85\n",
      "PR05 old centroid time 18.7481371562537 new centroid time 14.654018597757084\n",
      "PR05 old duration 46.6 new duration time 42.325\n",
      "RUSH old centroid time 18.902821645634074 new centroid time 16.64629174469386\n",
      "RUSH old duration 33.575 new duration time 31.325\n",
      "SIFT old centroid time 17.621921354513333 new centroid time 15.61509340798645\n",
      "SIFT old duration 30.675 new duration time 28.65\n",
      "VOIT old centroid time 17.863692935457582 new centroid time 15.540038852580672\n",
      "VOIT old duration 30.875 new duration time 28.45\n",
      "FMW old centroid time 16.760040893105007 new centroid time 14.895899939234054\n",
      "FMW old duration 29.35 new duration time 27.475\n",
      "LON old centroid time 16.54244243667029 new centroid time 14.873756661799282\n",
      "LON old duration 27.75 new duration time 26.075\n",
      "RCM old centroid time 12.738884127805447 new centroid time 13.056639125415707\n",
      "RCM old duration 25.075 new duration time 25.4\n",
      "RER old centroid time 14.207730971120501 new centroid time 13.351014446603187\n",
      "RER old duration 27.475 new duration time 26.6\n"
     ]
    },
    {
     "name": "stderr",
     "output_type": "stream",
     "text": [
      "/Users/marinedenolle/miniconda3/envs/seismo_exo/lib/python3.10/site-packages/obspy/signal/filter.py:62: UserWarning: Selected high corner frequency (20) of bandpass is at or above Nyquist (20.0). Applying a high-pass instead.\n",
      "  warnings.warn(msg)\n"
     ]
    },
    {
     "name": "stdout",
     "output_type": "stream",
     "text": [
      "CARB old centroid time 46.44203562695406 new centroid time 39.065077128663084\n",
      "CARB old duration 130.6 new duration time 123.025\n",
      "CRBN old centroid time 40.26769194503085 new centroid time 33.79395722731758\n",
      "CRBN old duration 124.75 new duration time 118.125\n",
      "OBSR old centroid time 13.048233241538393 new centroid time 9.463776934732936\n",
      "OBSR old duration 22.625 new duration time 19.025\n",
      "OPCH old centroid time 18.587645244011142 new centroid time 11.976850932537642\n",
      "OPCH old duration 33.075 new duration time 26.5\n",
      "PARA old centroid time 13.700676857827796 new centroid time 10.82845182672084\n",
      "PARA old duration 23.325 new duration time 20.45\n",
      "PR04 old centroid time 19.18900243266397 new centroid time 13.096510465490104\n",
      "PR04 old duration 35.225 new duration time 28.9\n",
      "PR05 old centroid time 21.9424737030954 new centroid time 16.209350242692988\n",
      "PR05 old duration 120.625 new duration time 114.85\n",
      "RUSH old centroid time 17.395991805830565 new centroid time 12.82369573307237\n",
      "RUSH old duration 30.45 new duration time 25.875\n",
      "SIFT old centroid time 17.18346739807446 new centroid time 12.294152506498937\n",
      "SIFT old duration 30.775 new duration time 25.85\n",
      "VOIT old centroid time 34.74632559384932 new centroid time 28.400024098442156\n",
      "VOIT old duration 124.425 new duration time 117.975\n",
      "FMW old centroid time 23.86915808775075 new centroid time 19.080318017895078\n",
      "FMW old duration 119.725 new duration time 114.5\n",
      "LO2 old centroid time 15.113038138733891 new centroid time 9.874046456770765\n",
      "LO2 old duration 24.9 new duration time 19.625\n",
      "LON old centroid time 14.911496115929916 new centroid time 9.96276043237289\n",
      "LON old duration 24.6 new duration time 19.625\n",
      "RCM old centroid time 8.515778141453518 new centroid time 7.400320692145899\n",
      "RCM old duration 15.35 new duration time 14.225\n",
      "RER old centroid time 12.379157771224596 new centroid time 9.247084070023545\n",
      "RER old duration 18.175 new duration time 15.025\n",
      "WPEQ old centroid time 54.21823584401772 new centroid time 44.24824771344461\n",
      "WPEQ old duration 132.025 new duration time 122.0\n"
     ]
    },
    {
     "name": "stderr",
     "output_type": "stream",
     "text": [
      "/Users/marinedenolle/miniconda3/envs/seismo_exo/lib/python3.10/site-packages/obspy/signal/filter.py:62: UserWarning: Selected high corner frequency (20) of bandpass is at or above Nyquist (20.0). Applying a high-pass instead.\n",
      "  warnings.warn(msg)\n"
     ]
    },
    {
     "name": "stdout",
     "output_type": "stream",
     "text": [
      "OBSR old centroid time 16.23261346348345 new centroid time 12.930302198569528\n",
      "OBSR old duration 26.05 new duration time 22.725\n",
      "PARA old centroid time 15.337594534659805 new centroid time 11.654341598289673\n",
      "PARA old duration 25.25 new duration time 21.525\n",
      "PR04 old centroid time 18.04722207249792 new centroid time 10.578954995978638\n",
      "PR04 old duration 32.05 new duration time 24.225\n",
      "RUSH old centroid time 18.823032858714228 new centroid time 13.542836632997306\n",
      "RUSH old duration 31.2 new duration time 25.75\n",
      "SIFT old centroid time 18.581593883504578 new centroid time 11.476919130960848\n",
      "SIFT old duration 32.05 new duration time 24.275\n",
      "FMW old centroid time 16.708349581199787 new centroid time 13.569208306506244\n",
      "FMW old duration 29.65 new duration time 26.525\n",
      "LO2 old centroid time 16.322768902969845 new centroid time 11.34639909841839\n",
      "LO2 old duration 28.5 new duration time 23.45\n",
      "LON old centroid time 16.627159667454148 new centroid time 11.670296244995223\n",
      "LON old duration 28.8 new duration time 23.825\n",
      "RCM old centroid time 9.617185793488432 new centroid time 9.028508595154166\n",
      "RCM old duration 15.675 new duration time 15.075\n",
      "RER old centroid time 13.922689688466681 new centroid time 11.611237604886172\n",
      "RER old duration 23.35 new duration time 21.025\n"
     ]
    },
    {
     "name": "stderr",
     "output_type": "stream",
     "text": [
      "/Users/marinedenolle/miniconda3/envs/seismo_exo/lib/python3.10/site-packages/obspy/signal/filter.py:62: UserWarning: Selected high corner frequency (20) of bandpass is at or above Nyquist (20.0). Applying a high-pass instead.\n",
      "  warnings.warn(msg)\n"
     ]
    },
    {
     "name": "stdout",
     "output_type": "stream",
     "text": [
      "CARB old centroid time 17.18313705596327 new centroid time 11.06285543151042\n",
      "CARB old duration 29.05 new duration time 22.7\n",
      "CRBN old centroid time 15.66331325341741 new centroid time 10.481548002099887\n",
      "CRBN old duration 26.65 new duration time 21.525\n",
      "OBSR old centroid time 11.126294761170875 new centroid time 11.47060893003591\n",
      "OBSR old duration 21.0 new duration time 21.35\n",
      "OPCH old centroid time 15.168742551996427 new centroid time 10.178322650840725\n",
      "OPCH old duration 25.7 new duration time 20.55\n",
      "PARA old centroid time 14.19742660481568 new centroid time 14.316732238073364\n",
      "PARA old duration 27.925 new duration time 28.05\n",
      "PR04 old centroid time 15.601354058037602 new centroid time 10.29661609732362\n",
      "PR04 old duration 30.825 new duration time 25.5\n",
      "PR05 old centroid time 14.750199644698904 new centroid time 10.69935394109892\n",
      "PR05 old duration 25.725 new duration time 21.675\n",
      "RUSH old centroid time 15.04241379464564 new centroid time 10.688610501290272\n",
      "RUSH old duration 29.7 new duration time 25.275\n",
      "SIFT old centroid time 14.2298327144758 new centroid time 10.47833390063946\n",
      "SIFT old duration 26.85 new duration time 23.05\n",
      "VOIT old centroid time 15.212902111970362 new centroid time 10.124432495864157\n",
      "VOIT old duration 23.475 new duration time 18.3\n",
      "FMW old centroid time 12.811940540308111 new centroid time 12.324862918929153\n",
      "FMW old duration 25.9 new duration time 25.4\n",
      "LO2 old centroid time 19.60270607650993 new centroid time 17.89029927699394\n",
      "LO2 old duration 70.1 new duration time 68.375\n",
      "LON old centroid time 34.59501368281262 new centroid time 32.717499343720156\n",
      "LON old duration 132.625 new duration time 130.725\n",
      "RCM old centroid time 9.231558526056093 new centroid time 10.433714551257628\n",
      "RCM old duration 19.675 new duration time 20.95\n",
      "RER old centroid time 11.556490875789539 new centroid time 11.756342127843533\n",
      "RER old duration 23.525 new duration time 23.725\n",
      "WPEQ old centroid time 20.50015098817382 new centroid time 11.898016063218503\n",
      "WPEQ old duration 36.25 new duration time 27.225\n"
     ]
    },
    {
     "name": "stderr",
     "output_type": "stream",
     "text": [
      "/Users/marinedenolle/miniconda3/envs/seismo_exo/lib/python3.10/site-packages/obspy/signal/filter.py:62: UserWarning: Selected high corner frequency (20) of bandpass is at or above Nyquist (20.0). Applying a high-pass instead.\n",
      "  warnings.warn(msg)\n"
     ]
    },
    {
     "name": "stdout",
     "output_type": "stream",
     "text": [
      "OBSR old centroid time 12.30662996431538 new centroid time 10.180489775847162\n",
      "OBSR old duration 19.425 new duration time 17.275\n",
      "RUSH old centroid time 15.836611398699231 new centroid time 8.847234450151145\n",
      "RUSH old duration 26.4 new duration time 18.975\n",
      "SIFT old centroid time 15.55227223544361 new centroid time 9.800180094468995\n",
      "SIFT old duration 27.9 new duration time 22.175\n",
      "FMW old centroid time 21.602375464804652 new centroid time 18.12437720771139\n",
      "FMW old duration 60.875 new duration time 57.325\n",
      "RCM old centroid time 10.0146373172262 new centroid time 10.160272987961267\n",
      "RCM old duration 18.075 new duration time 18.225\n",
      "RER old centroid time 12.505013693499839 new centroid time 11.027814723414547\n",
      "RER old duration 21.575 new duration time 20.05\n"
     ]
    },
    {
     "name": "stderr",
     "output_type": "stream",
     "text": [
      "/Users/marinedenolle/miniconda3/envs/seismo_exo/lib/python3.10/site-packages/obspy/signal/filter.py:62: UserWarning: Selected high corner frequency (20) of bandpass is at or above Nyquist (20.0). Applying a high-pass instead.\n",
      "  warnings.warn(msg)\n"
     ]
    },
    {
     "name": "stdout",
     "output_type": "stream",
     "text": [
      "CARB old centroid time 23.453688064359042 new centroid time 16.75901574751647\n",
      "CARB old duration 47.2 new duration time 40.45\n",
      "CRBN old centroid time 27.868233223054766 new centroid time 23.41657247128571\n",
      "CRBN old duration 78.55 new duration time 74.0\n",
      "OBSR old centroid time 21.759026393147018 new centroid time 20.47949666399689\n",
      "OBSR old duration 47.075 new duration time 45.775\n",
      "PARA old centroid time 22.70618512936171 new centroid time 21.619683874877435\n",
      "PARA old duration 49.075 new duration time 47.975\n",
      "PR04 old centroid time 22.777738586522954 new centroid time 19.952917392133358\n",
      "PR04 old duration 47.275 new duration time 44.5\n",
      "PR05 old centroid time 22.6556669344517 new centroid time 20.635512955329947\n",
      "PR05 old duration 48.15 new duration time 46.1\n",
      "RUSH old centroid time 25.17456292222395 new centroid time 23.00618682268571\n",
      "RUSH old duration 53.025 new duration time 50.875\n",
      "SIFT old centroid time 24.003416179730745 new centroid time 21.966060175475455\n",
      "SIFT old duration 53.0 new duration time 50.95\n",
      "VOIT old centroid time 23.97464550902294 new centroid time 21.275125644843285\n",
      "VOIT old duration 52.925 new duration time 50.2\n",
      "FMW old centroid time 21.859741951733277 new centroid time 20.38498235348009\n",
      "FMW old duration 47.05 new duration time 45.575\n",
      "LO2 old centroid time 24.125218049577253 new centroid time 22.13660213962678\n",
      "LO2 old duration 48.8 new duration time 46.8\n",
      "LON old centroid time 23.958080538296155 new centroid time 22.169617179244828\n",
      "LON old duration 48.65 new duration time 46.85\n",
      "RCM old centroid time 18.047205110702578 new centroid time 18.023111288362973\n",
      "RCM old duration 42.15 new duration time 42.125\n",
      "RER old centroid time 20.802527411656776 new centroid time 19.913591116055947\n",
      "RER old duration 44.5 new duration time 43.6\n",
      "WPEQ old centroid time 30.026742118447384 new centroid time 20.7784994613615\n",
      "WPEQ old duration 55.7 new duration time 46.375\n"
     ]
    },
    {
     "name": "stderr",
     "output_type": "stream",
     "text": [
      "/Users/marinedenolle/miniconda3/envs/seismo_exo/lib/python3.10/site-packages/obspy/signal/filter.py:62: UserWarning: Selected high corner frequency (20) of bandpass is at or above Nyquist (20.0). Applying a high-pass instead.\n",
      "  warnings.warn(msg)\n"
     ]
    },
    {
     "name": "stdout",
     "output_type": "stream",
     "text": [
      "CARB old centroid time 31.44599277498883 new centroid time 19.689739772869878\n",
      "CARB old duration 62.15 new duration time 50.625\n",
      "OBSR old centroid time 22.733539066609005 new centroid time 21.119556418491012\n",
      "OBSR old duration 51.775 new duration time 50.15\n",
      "PARA old centroid time 22.995841286510466 new centroid time 21.786025457608545\n",
      "PARA old duration 51.475 new duration time 50.25\n",
      "PR04 old centroid time 30.406157577158897 new centroid time 25.39559125114731\n",
      "PR04 old duration 62.725 new duration time 57.775\n",
      "PR05 old centroid time 29.25053329065083 new centroid time 25.420476799960664\n",
      "PR05 old duration 61.575 new duration time 57.725\n",
      "RUSH old centroid time 31.017146278865727 new centroid time 26.753518683649645\n",
      "RUSH old duration 62.35 new duration time 58.0\n",
      "SIFT old centroid time 29.205752630651332 new centroid time 23.908318550615526\n",
      "SIFT old duration 60.825 new duration time 55.5\n",
      "VOIT old centroid time 31.13708894622477 new centroid time 23.791523245799432\n",
      "VOIT old duration 63.6 new duration time 56.175\n",
      "FMW old centroid time 23.717812549242687 new centroid time 21.55397116253684\n",
      "FMW old duration 53.725 new duration time 51.6\n",
      "LO2 old centroid time 27.06722254962444 new centroid time 24.638904495186463\n",
      "LO2 old duration 58.55 new duration time 56.1\n",
      "LON old centroid time 27.56478528728719 new centroid time 24.695786260580164\n",
      "LON old duration 58.6 new duration time 55.7\n",
      "RCM old centroid time 20.449193796092143 new centroid time 20.596226599316296\n",
      "RCM old duration 50.15 new duration time 50.3\n",
      "RER old centroid time 26.220685014860756 new centroid time 25.379661328008883\n",
      "RER old duration 55.75 new duration time 54.9\n"
     ]
    },
    {
     "name": "stderr",
     "output_type": "stream",
     "text": [
      "/Users/marinedenolle/miniconda3/envs/seismo_exo/lib/python3.10/site-packages/obspy/signal/filter.py:62: UserWarning: Selected high corner frequency (20) of bandpass is at or above Nyquist (20.0). Applying a high-pass instead.\n",
      "  warnings.warn(msg)\n"
     ]
    },
    {
     "name": "stdout",
     "output_type": "stream",
     "text": [
      "OBSR old centroid time 13.137628677627301 new centroid time 10.926152205401703\n",
      "OBSR old duration 21.9 new duration time 19.675\n",
      "PARA old centroid time 16.00465922269465 new centroid time 14.490502160532266\n",
      "PARA old duration 28.9 new duration time 27.375\n",
      "PR04 old centroid time 17.92640038847917 new centroid time 10.508471340902997\n",
      "PR04 old duration 29.55 new duration time 21.8\n",
      "RUSH old centroid time 18.391554858008433 new centroid time 11.428131758364273\n",
      "RUSH old duration 33.8 new duration time 26.475\n",
      "SIFT old centroid time 17.37270428470799 new centroid time 11.787516888350448\n",
      "SIFT old duration 31.45 new duration time 25.675\n",
      "VOIT old centroid time 17.753431829918775 new centroid time 10.109578977418959\n",
      "VOIT old duration 27.9 new duration time 20.15\n",
      "FMW old centroid time 16.519786137588653 new centroid time 14.365338663803373\n",
      "FMW old duration 38.1 new duration time 35.95\n",
      "LO2 old centroid time 16.45775561052234 new centroid time 11.896865640764052\n",
      "LO2 old duration 28.675 new duration time 24.1\n",
      "LON old centroid time 16.20192101120478 new centroid time 11.751682957540785\n",
      "LON old duration 27.85 new duration time 23.425\n",
      "RCM old centroid time 12.029357767664271 new centroid time 11.613000798783997\n",
      "RCM old duration 23.675 new duration time 23.25\n",
      "RER old centroid time 13.793846038382364 new centroid time 12.75194018284596\n",
      "RER old duration 24.85 new duration time 23.8\n"
     ]
    },
    {
     "name": "stderr",
     "output_type": "stream",
     "text": [
      "/Users/marinedenolle/miniconda3/envs/seismo_exo/lib/python3.10/site-packages/obspy/signal/filter.py:62: UserWarning: Selected high corner frequency (20) of bandpass is at or above Nyquist (20.0). Applying a high-pass instead.\n",
      "  warnings.warn(msg)\n"
     ]
    },
    {
     "name": "stdout",
     "output_type": "stream",
     "text": [
      "CRBN old centroid time 87.15164811902923 new centroid time 102.1409413377512\n",
      "CRBN old duration 134.3 new duration time 149.3\n",
      "OBSR old centroid time 14.751710503733378 new centroid time 12.25462026573933\n",
      "OBSR old duration 24.0 new duration time 21.5\n",
      "PARA old centroid time 15.610978617189886 new centroid time 13.298814183036063\n",
      "PARA old duration 26.475 new duration time 24.15\n",
      "PR04 old centroid time 19.743074715490437 new centroid time 15.230443933042695\n",
      "PR04 old duration 33.825 new duration time 29.55\n",
      "PR05 old centroid time 17.189117992419753 new centroid time 12.998014740469873\n",
      "PR05 old duration 28.225 new duration time 24.05\n",
      "RUSH old centroid time 18.353404923678465 new centroid time 14.349603849316058\n",
      "RUSH old duration 30.125 new duration time 26.125\n",
      "SIFT old centroid time 18.052262722120997 new centroid time 13.75878985385155\n",
      "SIFT old duration 30.425 new duration time 26.125\n",
      "VOIT old centroid time 20.031402903204793 new centroid time 11.153346745119695\n",
      "VOIT old duration 31.4 new duration time 22.675\n",
      "FMW old centroid time 15.152930128031715 new centroid time 12.487970470198288\n",
      "FMW old duration 27.7 new duration time 25.025\n",
      "LO2 old centroid time 15.75422703993035 new centroid time 12.475695221297473\n",
      "LO2 old duration 25.425 new duration time 22.125\n",
      "LON old centroid time 15.756896613867365 new centroid time 12.33299926583637\n",
      "LON old duration 25.125 new duration time 21.675\n",
      "RCM old centroid time 10.285784098736148 new centroid time 9.300299700943777\n",
      "RCM old duration 18.7 new duration time 17.7\n",
      "RER old centroid time 14.198402036747208 new centroid time 11.86898708033981\n",
      "RER old duration 23.275 new duration time 20.925\n",
      "WPEQ old centroid time 22.576760987213472 new centroid time 11.450371404057455\n",
      "WPEQ old duration 35.025 new duration time 23.55\n"
     ]
    },
    {
     "name": "stderr",
     "output_type": "stream",
     "text": [
      "/Users/marinedenolle/miniconda3/envs/seismo_exo/lib/python3.10/site-packages/obspy/signal/filter.py:62: UserWarning: Selected high corner frequency (20) of bandpass is at or above Nyquist (20.0). Applying a high-pass instead.\n",
      "  warnings.warn(msg)\n"
     ]
    },
    {
     "name": "stdout",
     "output_type": "stream",
     "text": [
      "OBSR old centroid time 17.079409359813774 new centroid time 19.39769649042773\n",
      "OBSR old duration 39.175 new duration time 41.575\n",
      "PARA old centroid time 16.91195848109444 new centroid time 16.170231787642074\n",
      "PARA old duration 35.075 new duration time 34.3\n",
      "PR05 old centroid time 16.082729040337185 new centroid time 30.962127035707027\n",
      "PR05 old duration 36.8 new duration time 51.8\n",
      "RUSH old centroid time 18.215794294535907 new centroid time 15.775710094456231\n",
      "RUSH old duration 35.2 new duration time 32.725\n",
      "SIFT old centroid time 17.092066753423737 new centroid time 13.181111696999377\n",
      "SIFT old duration 32.875 new duration time 28.7\n",
      "VOIT old centroid time 20.573059740621886 new centroid time 17.143665469120897\n",
      "VOIT old duration 39.7 new duration time 36.2\n",
      "FMW old centroid time 19.15632666932335 new centroid time 18.4752414866687\n",
      "FMW old duration 42.675 new duration time 41.975\n",
      "GSM old centroid time 71.27065367048405 new centroid time 70.34493228023237\n",
      "GSM old duration 134.875 new duration time 133.875\n",
      "GSM old centroid time 73.3679336156747 new centroid time 70.34493228023237\n",
      "GSM old duration 134.9 new duration time 133.875\n",
      "LON old centroid time 72.93594131384711 new centroid time 74.4558999900091\n",
      "LON old duration 134.875 new duration time 136.575\n",
      "RCM old centroid time 13.962268084104567 new centroid time 17.005231703972704\n",
      "RCM old duration 33.675 new duration time 36.825\n",
      "RER old centroid time 19.72112945673961 new centroid time 18.783104542811877\n",
      "RER old duration 94.05 new duration time 93.025\n"
     ]
    },
    {
     "name": "stderr",
     "output_type": "stream",
     "text": [
      "/Users/marinedenolle/miniconda3/envs/seismo_exo/lib/python3.10/site-packages/obspy/signal/filter.py:62: UserWarning: Selected high corner frequency (20) of bandpass is at or above Nyquist (20.0). Applying a high-pass instead.\n",
      "  warnings.warn(msg)\n"
     ]
    },
    {
     "name": "stdout",
     "output_type": "stream",
     "text": [
      "OBSR old centroid time 6.130704396983913 new centroid time 5.64227267652019\n",
      "OBSR old duration 11.55 new duration time 11.05\n",
      "PARA old centroid time 8.883173811390474 new centroid time 6.952402142580622\n",
      "PARA old duration 17.025 new duration time 15.05\n",
      "RUSH old centroid time 11.937906205204639 new centroid time 9.857150293053094\n",
      "RUSH old duration 20.275 new duration time 18.2\n",
      "FMW old centroid time 7.7417559446015956 new centroid time 6.82243164975518\n",
      "FMW old duration 14.45 new duration time 13.5\n",
      "RCM old centroid time 7.162069065247122 new centroid time 6.341025116981739\n",
      "RCM old duration 13.9 new duration time 13.05\n",
      "RER old centroid time 7.526401378841584 new centroid time 6.469236109715747\n",
      "RER old duration 14.575 new duration time 13.5\n"
     ]
    },
    {
     "name": "stderr",
     "output_type": "stream",
     "text": [
      "/Users/marinedenolle/miniconda3/envs/seismo_exo/lib/python3.10/site-packages/obspy/signal/filter.py:62: UserWarning: Selected high corner frequency (20) of bandpass is at or above Nyquist (20.0). Applying a high-pass instead.\n",
      "  warnings.warn(msg)\n"
     ]
    },
    {
     "name": "stdout",
     "output_type": "stream",
     "text": [
      "OBSR old centroid time 5.159413047890616 new centroid time 5.631277663783466\n",
      "OBSR old duration 10.5 new duration time 11.0\n",
      "PARA old centroid time 7.872055062086989 new centroid time 7.271680605362427\n",
      "PARA old duration 16.025 new duration time 15.4\n",
      "RUSH old centroid time 10.913790729036744 new centroid time 9.904968080549784\n",
      "RUSH old duration 19.275 new duration time 18.25\n",
      "FMW old centroid time 6.749877619729968 new centroid time 6.731083178631855\n",
      "FMW old duration 13.325 new duration time 13.3\n",
      "RCM old centroid time 6.19179649498411 new centroid time 6.281893169664645\n",
      "RCM old duration 12.875 new duration time 12.975\n",
      "RER old centroid time 6.535381606009204 new centroid time 6.274440982957831\n",
      "RER old duration 13.55 new duration time 13.275\n"
     ]
    },
    {
     "name": "stderr",
     "output_type": "stream",
     "text": [
      "/Users/marinedenolle/miniconda3/envs/seismo_exo/lib/python3.10/site-packages/obspy/signal/filter.py:62: UserWarning: Selected high corner frequency (20) of bandpass is at or above Nyquist (20.0). Applying a high-pass instead.\n",
      "  warnings.warn(msg)\n"
     ]
    },
    {
     "name": "stdout",
     "output_type": "stream",
     "text": [
      "OBSR old centroid time 5.159413047890616 new centroid time 5.631277663783466\n",
      "OBSR old duration 10.5 new duration time 11.0\n",
      "PARA old centroid time 7.872055062086989 new centroid time 7.271680605362427\n",
      "PARA old duration 16.025 new duration time 15.4\n",
      "RUSH old centroid time 10.913790729036744 new centroid time 9.904968080549784\n",
      "RUSH old duration 19.275 new duration time 18.25\n",
      "FMW old centroid time 6.749877619729968 new centroid time 6.731083178631855\n",
      "FMW old duration 13.325 new duration time 13.3\n",
      "RCM old centroid time 6.19179649498411 new centroid time 6.281893169664645\n",
      "RCM old duration 12.875 new duration time 12.975\n",
      "RER old centroid time 6.535381606009204 new centroid time 6.274440982957831\n",
      "RER old duration 13.55 new duration time 13.275\n"
     ]
    },
    {
     "name": "stderr",
     "output_type": "stream",
     "text": [
      "/Users/marinedenolle/miniconda3/envs/seismo_exo/lib/python3.10/site-packages/obspy/signal/filter.py:62: UserWarning: Selected high corner frequency (20) of bandpass is at or above Nyquist (20.0). Applying a high-pass instead.\n",
      "  warnings.warn(msg)\n"
     ]
    },
    {
     "name": "stdout",
     "output_type": "stream",
     "text": [
      "CRBN old centroid time 25.087768767779632 new centroid time 18.04893919283942\n",
      "CRBN old duration 43.275 new duration time 36.3\n",
      "OBSR old centroid time 22.060045339504647 new centroid time 21.440848745329436\n",
      "OBSR old duration 42.5 new duration time 41.875\n",
      "PARA old centroid time 23.659329287100153 new centroid time 22.40888692523369\n",
      "PARA old duration 40.875 new duration time 39.625\n",
      "PR04 old centroid time 25.603022037866577 new centroid time 22.605316610850792\n",
      "PR04 old duration 46.75 new duration time 43.725\n",
      "PR05 old centroid time 24.46998266419889 new centroid time 20.855402998683108\n",
      "PR05 old duration 45.75 new duration time 42.125\n",
      "RUSH old centroid time 24.022542812244325 new centroid time 19.142505868839347\n",
      "RUSH old duration 41.15 new duration time 36.15\n",
      "SIFT old centroid time 24.55375338586677 new centroid time 20.288001898057388\n",
      "SIFT old duration 41.275 new duration time 36.975\n",
      "VOIT old centroid time 26.731498804250204 new centroid time 21.38968790848663\n",
      "VOIT old duration 42.95 new duration time 37.65\n",
      "FMW old centroid time 23.053363034986372 new centroid time 20.8870335008985\n",
      "FMW old duration 43.625 new duration time 41.45\n",
      "LO2 old centroid time 24.185527508221043 new centroid time 21.515740209935597\n",
      "LO2 old duration 45.2 new duration time 42.475\n",
      "LON old centroid time 23.442233433372877 new centroid time 21.052010791043532\n",
      "LON old duration 43.45 new duration time 41.025\n",
      "RCM old centroid time 20.57876023517149 new centroid time 20.700548387154278\n",
      "RCM old duration 40.05 new duration time 40.175\n",
      "RER old centroid time 20.13037547580987 new centroid time 19.41478488180729\n",
      "RER old duration 37.25 new duration time 36.525\n",
      "STAR old centroid time 8.70749169917751 new centroid time 23.743934685164742\n",
      "STAR old duration 94.725 new duration time 109.725\n"
     ]
    },
    {
     "name": "stderr",
     "output_type": "stream",
     "text": [
      "/Users/marinedenolle/miniconda3/envs/seismo_exo/lib/python3.10/site-packages/obspy/signal/filter.py:62: UserWarning: Selected high corner frequency (20) of bandpass is at or above Nyquist (20.0). Applying a high-pass instead.\n",
      "  warnings.warn(msg)\n"
     ]
    },
    {
     "name": "stdout",
     "output_type": "stream",
     "text": [
      "OBSR old centroid time 12.50549016604455 new centroid time 10.65714200806502\n",
      "OBSR old duration 21.0 new duration time 19.1\n",
      "PARA old centroid time 14.338979140433375 new centroid time 13.773087478773876\n",
      "PARA old duration 23.95 new duration time 23.375\n",
      "PR05 old centroid time 12.694574642861722 new centroid time 8.37916974048714\n",
      "PR05 old duration 21.425 new duration time 16.95\n",
      "SIFT old centroid time 13.775048179935101 new centroid time 11.086524156831736\n",
      "SIFT old duration 22.725 new duration time 20.025\n",
      "VOIT old centroid time 16.394619725375772 new centroid time 31.438054624503376\n",
      "VOIT old duration 32.325 new duration time 47.325\n",
      "FMW old centroid time 15.357415571652101 new centroid time 13.875450697108068\n",
      "FMW old duration 37.15 new duration time 35.625\n",
      "LO2 old centroid time 12.34961039298346 new centroid time 9.863646811783127\n",
      "LO2 old duration 23.675 new duration time 21.175\n",
      "LON old centroid time 12.331729936320487 new centroid time 9.8005804082111\n",
      "LON old duration 23.7 new duration time 21.1\n",
      "RCM old centroid time 7.673174799862673 new centroid time 7.696255132230928\n",
      "RCM old duration 69.8 new duration time 69.825\n",
      "RER old centroid time 11.218317523890024 new centroid time 10.162723647016634\n",
      "RER old duration 18.7 new duration time 17.6\n"
     ]
    },
    {
     "name": "stderr",
     "output_type": "stream",
     "text": [
      "/Users/marinedenolle/miniconda3/envs/seismo_exo/lib/python3.10/site-packages/obspy/signal/filter.py:62: UserWarning: Selected high corner frequency (20) of bandpass is at or above Nyquist (20.0). Applying a high-pass instead.\n",
      "  warnings.warn(msg)\n"
     ]
    },
    {
     "name": "stdout",
     "output_type": "stream",
     "text": [
      "OBSR old centroid time 14.870379400707069 new centroid time 11.753801194117893\n",
      "OBSR old duration 23.275 new duration time 20.125\n",
      "FMW old centroid time 17.32219841783327 new centroid time 10.493218339255542\n",
      "FMW old duration 28.575 new duration time 21.575\n",
      "RCM old centroid time 13.672268350535852 new centroid time 14.184944020004806\n",
      "RCM old duration 104.725 new duration time 105.2\n",
      "RER old centroid time 14.754433098258389 new centroid time 6.646458614299329\n",
      "RER old duration 22.375 new duration time 13.75\n"
     ]
    },
    {
     "name": "stderr",
     "output_type": "stream",
     "text": [
      "/Users/marinedenolle/miniconda3/envs/seismo_exo/lib/python3.10/site-packages/obspy/signal/filter.py:62: UserWarning: Selected high corner frequency (20) of bandpass is at or above Nyquist (20.0). Applying a high-pass instead.\n",
      "  warnings.warn(msg)\n"
     ]
    },
    {
     "name": "stdout",
     "output_type": "stream",
     "text": [
      "OBSR old centroid time 39.68068251128487 new centroid time 34.66948036326013\n",
      "OBSR old duration 90.4 new duration time 84.475\n",
      "PARA old centroid time 14.32711667078929 new centroid time 11.212078267573741\n",
      "PARA old duration 85.375 new duration time 82.225\n",
      "FMW old centroid time 20.838142714068734 new centroid time 18.785240081527974\n",
      "FMW old duration 87.8 new duration time 85.725\n",
      "RCM old centroid time 7.717421477627119 new centroid time 7.205829683711267\n",
      "RCM old duration 13.2 new duration time 12.675\n",
      "RER old centroid time 34.493929841923666 new centroid time 29.69594308199385\n",
      "RER old duration 87.45 new duration time 81.825\n",
      "STAR old centroid time 95.5606767826337 new centroid time 110.8168773308899\n",
      "STAR old duration 122.7 new duration time 137.7\n"
     ]
    },
    {
     "name": "stderr",
     "output_type": "stream",
     "text": [
      "/Users/marinedenolle/miniconda3/envs/seismo_exo/lib/python3.10/site-packages/obspy/signal/filter.py:62: UserWarning: Selected high corner frequency (20) of bandpass is at or above Nyquist (20.0). Applying a high-pass instead.\n",
      "  warnings.warn(msg)\n"
     ]
    },
    {
     "name": "stdout",
     "output_type": "stream",
     "text": [
      "CARB old centroid time 27.02652698967514 new centroid time 17.94388895521747\n",
      "CARB old duration 48.65 new duration time 39.55\n",
      "OBSR old centroid time 24.845027065685407 new centroid time 24.300108181247\n",
      "OBSR old duration 52.3 new duration time 51.75\n",
      "PARA old centroid time 24.13057347135437 new centroid time 20.855069073510276\n",
      "PARA old duration 46.15 new duration time 42.95\n",
      "PR04 old centroid time 25.721587650100798 new centroid time 17.498963072047356\n",
      "PR04 old duration 50.025 new duration time 41.575\n",
      "PR05 old centroid time 23.98557455603655 new centroid time 38.97068282682165\n",
      "PR05 old duration 48.55 new duration time 63.55\n",
      "RUSH old centroid time 23.774636407497837 new centroid time 16.57561039133417\n",
      "RUSH old duration 43.75 new duration time 36.25\n",
      "SIFT old centroid time 24.455003451617987 new centroid time 17.51080543839234\n",
      "SIFT old duration 43.9 new duration time 36.75\n",
      "VOIT old centroid time 26.234705787605794 new centroid time 18.18361102245885\n",
      "VOIT old duration 47.125 new duration time 38.9\n",
      "FMW old centroid time 30.196614820891018 new centroid time 23.70460988293073\n",
      "FMW old duration 56.05 new duration time 48.825\n",
      "LO2 old centroid time 25.492171601604316 new centroid time 18.337949222655734\n",
      "LO2 old duration 53.675 new duration time 46.375\n",
      "LON old centroid time 24.936973598392505 new centroid time 18.16176207762853\n",
      "LON old duration 53.6 new duration time 46.75\n",
      "RCM old centroid time 22.63638431786914 new centroid time 23.09804104035308\n",
      "RCM old duration 50.65 new duration time 51.125\n",
      "RER old centroid time 22.971616285970597 new centroid time 22.141936597546813\n",
      "RER old duration 49.625 new duration time 48.775\n"
     ]
    },
    {
     "name": "stderr",
     "output_type": "stream",
     "text": [
      "/Users/marinedenolle/miniconda3/envs/seismo_exo/lib/python3.10/site-packages/obspy/signal/filter.py:62: UserWarning: Selected high corner frequency (20) of bandpass is at or above Nyquist (20.0). Applying a high-pass instead.\n",
      "  warnings.warn(msg)\n"
     ]
    },
    {
     "name": "stdout",
     "output_type": "stream",
     "text": [
      "OBSR old centroid time 11.720899963895102 new centroid time 9.056423409329009\n",
      "OBSR old duration 19.9 new duration time 17.225\n",
      "PARA old centroid time 12.841848754810929 new centroid time 10.650181397533302\n",
      "PARA old duration 22.25 new duration time 20.05\n",
      "RUSH old centroid time 15.122907475819474 new centroid time 11.092507337042042\n",
      "RUSH old duration 26.55 new duration time 22.5\n",
      "SIFT old centroid time 14.197321900713517 new centroid time 9.487559031463604\n",
      "SIFT old duration 26.025 new duration time 21.2\n",
      "VOIT old centroid time 15.67783490013665 new centroid time 10.231698939875201\n",
      "VOIT old duration 24.825 new duration time 19.525\n",
      "FMW old centroid time 11.40857058805979 new centroid time 8.515864999078602\n",
      "FMW old duration 19.575 new duration time 16.675\n",
      "LO2 old centroid time 12.670859881272653 new centroid time 9.492800663098985\n",
      "LO2 old duration 22.725 new duration time 19.575\n",
      "LON old centroid time 12.74984190697284 new centroid time 9.739432644810595\n",
      "LON old duration 22.225 new duration time 19.25\n",
      "RCM old centroid time 7.315362557771136 new centroid time 6.778886922034785\n",
      "RCM old duration 14.175 new duration time 13.625\n",
      "RER old centroid time 11.066906455372672 new centroid time 8.910127515009092\n",
      "RER old duration 20.325 new duration time 18.15\n"
     ]
    },
    {
     "name": "stderr",
     "output_type": "stream",
     "text": [
      "/Users/marinedenolle/miniconda3/envs/seismo_exo/lib/python3.10/site-packages/obspy/signal/filter.py:62: UserWarning: Selected high corner frequency (20) of bandpass is at or above Nyquist (20.0). Applying a high-pass instead.\n",
      "  warnings.warn(msg)\n"
     ]
    },
    {
     "name": "stdout",
     "output_type": "stream",
     "text": [
      "OBSR old centroid time 7.4128285957961575 new centroid time 6.436436074556829\n",
      "OBSR old duration 13.925 new duration time 12.925\n",
      "PARA old centroid time 7.989754536586845 new centroid time 6.799253066725839\n",
      "PARA old duration 16.975 new duration time 15.775\n",
      "RCM old centroid time 3.536354903054765 new centroid time 3.062364742694241\n",
      "RCM old duration 7.125 new duration time 6.625\n",
      "RER old centroid time 6.3859575031469875 new centroid time 5.172356696134355\n",
      "RER old duration 12.5 new duration time 11.25\n"
     ]
    },
    {
     "name": "stderr",
     "output_type": "stream",
     "text": [
      "/Users/marinedenolle/miniconda3/envs/seismo_exo/lib/python3.10/site-packages/obspy/signal/filter.py:62: UserWarning: Selected high corner frequency (20) of bandpass is at or above Nyquist (20.0). Applying a high-pass instead.\n",
      "  warnings.warn(msg)\n"
     ]
    },
    {
     "name": "stdout",
     "output_type": "stream",
     "text": [
      "OBSR old centroid time 16.228168407085075 new centroid time 15.524439800889477\n",
      "OBSR old duration 38.8 new duration time 38.075\n",
      "PARA old centroid time 16.145880257627937 new centroid time 15.035531132302\n",
      "PARA old duration 39.5 new duration time 38.35\n",
      "PR04 old centroid time 16.20622892373099 new centroid time 13.017895366494756\n",
      "PR04 old duration 37.95 new duration time 34.775\n",
      "PR05 old centroid time 14.268916539208389 new centroid time 12.10878569627973\n",
      "PR05 old duration 32.725 new duration time 30.575\n",
      "RUSH old centroid time 17.482923184473808 new centroid time 15.001782205414786\n",
      "RUSH old duration 39.575 new duration time 37.05\n",
      "SIFT old centroid time 17.713937124532375 new centroid time 15.144152798686664\n",
      "SIFT old duration 42.225 new duration time 39.7\n",
      "FMW old centroid time 15.2682499391055 new centroid time 13.924215314111587\n",
      "FMW old duration 36.425 new duration time 35.05\n",
      "LO2 old centroid time 13.818066499014979 new centroid time 11.845757220113786\n",
      "LO2 old duration 31.675 new duration time 29.675\n",
      "RCM old centroid time 12.391698582194708 new centroid time 12.24564501012783\n",
      "RCM old duration 31.675 new duration time 31.525\n",
      "RER old centroid time 12.90050244864283 new centroid time 12.025173485963744\n",
      "RER old duration 32.25 new duration time 31.35\n"
     ]
    },
    {
     "name": "stderr",
     "output_type": "stream",
     "text": [
      "/Users/marinedenolle/miniconda3/envs/seismo_exo/lib/python3.10/site-packages/obspy/signal/filter.py:62: UserWarning: Selected high corner frequency (20) of bandpass is at or above Nyquist (20.0). Applying a high-pass instead.\n",
      "  warnings.warn(msg)\n"
     ]
    },
    {
     "name": "stdout",
     "output_type": "stream",
     "text": [
      "OBSR old centroid time 16.940800530496993 new centroid time 14.51839193885275\n",
      "OBSR old duration 25.825 new duration time 23.375\n",
      "PARA old centroid time 18.26658888284642 new centroid time 8.704499080373878\n",
      "PARA old duration 27.775 new duration time 18.0\n",
      "RUSH old centroid time 20.20066438258987 new centroid time 8.991389631369053\n",
      "RUSH old duration 31.175 new duration time 19.6\n",
      "SIFT old centroid time 19.035981443425058 new centroid time 7.959735497088474\n",
      "SIFT old duration 29.15 new duration time 18.125\n",
      "FMW old centroid time 17.33360246870441 new centroid time 7.373077914900564\n",
      "FMW old duration 26.45 new duration time 16.2\n",
      "LO2 old centroid time 17.60968006059494 new centroid time 7.314383229375449\n",
      "LO2 old duration 25.55 new duration time 15.0\n",
      "LON old centroid time 17.867134540246656 new centroid time 7.514909587115492\n",
      "LON old duration 25.95 new duration time 15.3\n",
      "RCM old centroid time 12.235876856513123 new centroid time 12.480077530506165\n",
      "RCM old duration 18.05 new duration time 18.3\n",
      "RER old centroid time 15.987304309792536 new centroid time 6.511836805401552\n",
      "RER old duration 23.425 new duration time 13.6\n"
     ]
    },
    {
     "name": "stderr",
     "output_type": "stream",
     "text": [
      "/Users/marinedenolle/miniconda3/envs/seismo_exo/lib/python3.10/site-packages/obspy/signal/filter.py:62: UserWarning: Selected high corner frequency (20) of bandpass is at or above Nyquist (20.0). Applying a high-pass instead.\n",
      "  warnings.warn(msg)\n"
     ]
    },
    {
     "name": "stdout",
     "output_type": "stream",
     "text": [
      "OBSR old centroid time 15.507775017574646 new centroid time 13.510867148629188\n",
      "OBSR old duration 31.0 new duration time 28.975\n",
      "PARA old centroid time 14.102080462377756 new centroid time 13.136372162277896\n",
      "PARA old duration 24.7 new duration time 23.725\n",
      "PR05 old centroid time 14.013909914134132 new centroid time 9.274232307727763\n",
      "PR05 old duration 25.025 new duration time 20.1\n",
      "RUSH old centroid time 15.881939776613105 new centroid time 12.516105583786645\n",
      "RUSH old duration 28.85 new duration time 25.525\n",
      "FMW old centroid time 15.204106175784908 new centroid time 13.09545897533752\n",
      "FMW old duration 32.15 new duration time 30.025\n",
      "LON old centroid time 27.574566240865465 new centroid time 23.060043505529116\n",
      "LON old duration 55.675 new duration time 50.95\n",
      "RCM old centroid time 8.097960338958268 new centroid time 8.354749061295346\n",
      "RCM old duration 16.15 new duration time 16.425\n",
      "RER old centroid time 12.72419705123837 new centroid time 10.569684677161877\n",
      "RER old duration 23.8 new duration time 21.6\n"
     ]
    },
    {
     "name": "stderr",
     "output_type": "stream",
     "text": [
      "/Users/marinedenolle/miniconda3/envs/seismo_exo/lib/python3.10/site-packages/obspy/signal/filter.py:62: UserWarning: Selected high corner frequency (20) of bandpass is at or above Nyquist (20.0). Applying a high-pass instead.\n",
      "  warnings.warn(msg)\n"
     ]
    },
    {
     "name": "stdout",
     "output_type": "stream",
     "text": [
      "OBSR old centroid time 12.3410177006557 new centroid time 6.113051053092548\n",
      "OBSR old duration 19.725 new duration time 13.35\n",
      "PARA old centroid time 10.092910827153496 new centroid time 5.1756756624527585\n",
      "PARA old duration 14.85 new duration time 9.875\n",
      "RUSH old centroid time 13.81092138253889 new centroid time 6.330415523739091\n",
      "RUSH old duration 23.275 new duration time 15.425\n",
      "FMW old centroid time 9.08242955165071 new centroid time 3.9607283764171393\n",
      "FMW old duration 14.525 new duration time 9.5\n",
      "RCM old centroid time 6.6307309626073625 new centroid time 5.261317393237704\n",
      "RCM old duration 9.25 new duration time 7.875\n",
      "RER old centroid time 10.312432810434979 new centroid time 4.556984743493286\n",
      "RER old duration 15.875 new duration time 10.125\n"
     ]
    },
    {
     "name": "stderr",
     "output_type": "stream",
     "text": [
      "/Users/marinedenolle/miniconda3/envs/seismo_exo/lib/python3.10/site-packages/obspy/signal/filter.py:62: UserWarning: Selected high corner frequency (20) of bandpass is at or above Nyquist (20.0). Applying a high-pass instead.\n",
      "  warnings.warn(msg)\n"
     ]
    },
    {
     "name": "stdout",
     "output_type": "stream",
     "text": [
      "OBSR old centroid time 18.3008660614272 new centroid time 16.493091977455002\n",
      "OBSR old duration 33.825 new duration time 32.0\n",
      "PARA old centroid time 17.24916907946158 new centroid time 16.137588579553224\n",
      "PARA old duration 29.875 new duration time 28.75\n",
      "RUSH old centroid time 45.25392084353862 new centroid time 39.76859226592933\n",
      "RUSH old duration 121.625 new duration time 115.4\n",
      "SIFT old centroid time 18.892380684549327 new centroid time 13.273965654229928\n",
      "SIFT old duration 30.925 new duration time 25.475\n",
      "VOIT old centroid time 19.826545506682212 new centroid time 17.811052015776184\n",
      "VOIT old duration 32.275 new duration time 30.2\n",
      "FMW old centroid time 19.983430639718087 new centroid time 18.801096993546004\n",
      "FMW old duration 41.925 new duration time 40.725\n",
      "LO2 old centroid time 25.058297514192315 new centroid time 20.397828216930506\n",
      "LO2 old duration 100.325 new duration time 95.5\n",
      "LON old centroid time 27.406329604603844 new centroid time 23.18178487124373\n",
      "LON old duration 100.5 new duration time 96.125\n",
      "RCM old centroid time 12.476062395007212 new centroid time 13.132226507606749\n",
      "RCM old duration 25.65 new duration time 26.325\n",
      "RER old centroid time 15.717060019983972 new centroid time 13.716287480320037\n",
      "RER old duration 26.175 new duration time 24.15\n",
      "WPEQ old centroid time 23.11224370811188 new centroid time 15.446909837066176\n",
      "WPEQ old duration 37.0 new duration time 29.325\n"
     ]
    },
    {
     "name": "stderr",
     "output_type": "stream",
     "text": [
      "/Users/marinedenolle/miniconda3/envs/seismo_exo/lib/python3.10/site-packages/obspy/signal/filter.py:62: UserWarning: Selected high corner frequency (20) of bandpass is at or above Nyquist (20.0). Applying a high-pass instead.\n",
      "  warnings.warn(msg)\n"
     ]
    },
    {
     "name": "stdout",
     "output_type": "stream",
     "text": [
      "CARB old centroid time 18.21184553466159 new centroid time 13.258763886940708\n",
      "CARB old duration 32.25 new duration time 27.225\n",
      "OBSR old centroid time 11.511047665985004 new centroid time 9.473244982050847\n",
      "OBSR old duration 20.975 new duration time 18.925\n",
      "PARA old centroid time 10.671768443120225 new centroid time 9.233014072950889\n",
      "PARA old duration 19.55 new duration time 18.1\n",
      "PR04 old centroid time 15.782660377997356 new centroid time 12.074345021067591\n",
      "PR04 old duration 33.7 new duration time 29.8\n",
      "PR05 old centroid time 15.502669610622144 new centroid time 12.32303505007955\n",
      "PR05 old duration 33.675 new duration time 30.375\n",
      "RUSH old centroid time 15.69155783396299 new centroid time 12.544023709452858\n",
      "RUSH old duration 27.875 new duration time 24.75\n",
      "SIFT old centroid time 15.656647408815543 new centroid time 12.417291562208526\n",
      "SIFT old duration 28.25 new duration time 24.975\n",
      "VOIT old centroid time 16.588044136469225 new centroid time 11.889848157282914\n",
      "VOIT old duration 31.3 new duration time 26.675\n",
      "FMW old centroid time 11.839705127662791 new centroid time 9.747062684235386\n",
      "FMW old duration 22.75 new duration time 20.65\n",
      "LO2 old centroid time 11.606043045710955 new centroid time 9.12987321060051\n",
      "LO2 old duration 20.4 new duration time 17.875\n",
      "LON old centroid time 11.773323829986728 new centroid time 9.179954682944375\n",
      "LON old duration 20.275 new duration time 17.625\n",
      "RCM old centroid time 4.420560484030337 new centroid time 3.9794460388460937\n",
      "RCM old duration 9.4 new duration time 8.925\n",
      "RER old centroid time 8.712733746300833 new centroid time 6.927880967223979\n",
      "RER old duration 17.05 new duration time 15.225\n"
     ]
    },
    {
     "name": "stderr",
     "output_type": "stream",
     "text": [
      "/Users/marinedenolle/miniconda3/envs/seismo_exo/lib/python3.10/site-packages/obspy/signal/filter.py:62: UserWarning: Selected high corner frequency (20) of bandpass is at or above Nyquist (20.0). Applying a high-pass instead.\n",
      "  warnings.warn(msg)\n"
     ]
    },
    {
     "name": "stdout",
     "output_type": "stream",
     "text": [
      "OBSR old centroid time 6.2029384961395175 new centroid time 6.68206327564995\n",
      "OBSR old duration 10.35 new duration time 10.85\n",
      "FMW old centroid time 6.9196478645139265 new centroid time 3.444146351261435\n",
      "FMW old duration 13.075 new duration time 9.4\n",
      "RCM old centroid time 7.8422108460776805 new centroid time 5.7858132379864164\n",
      "RCM old duration 15.6 new duration time 13.5\n",
      "RER old centroid time 6.444509999377772 new centroid time 3.222054525536475\n",
      "RER old duration 10.9 new duration time 7.55\n"
     ]
    },
    {
     "name": "stderr",
     "output_type": "stream",
     "text": [
      "/Users/marinedenolle/miniconda3/envs/seismo_exo/lib/python3.10/site-packages/obspy/signal/filter.py:62: UserWarning: Selected high corner frequency (20) of bandpass is at or above Nyquist (20.0). Applying a high-pass instead.\n",
      "  warnings.warn(msg)\n"
     ]
    },
    {
     "name": "stdout",
     "output_type": "stream",
     "text": [
      "OBSR old centroid time 13.089354903732875 new centroid time 9.204663799285482\n",
      "OBSR old duration 22.275 new duration time 18.325\n",
      "PARA old centroid time 16.598988764001675 new centroid time 10.51448538955354\n",
      "PARA old duration 64.55 new duration time 58.2\n",
      "RCM old centroid time 7.732239765480934 new centroid time 8.020063819896407\n",
      "RCM old duration 13.85 new duration time 14.15\n",
      "RER old centroid time 17.141698437253915 new centroid time 15.27472061304381\n",
      "RER old duration 66.125 new duration time 64.2\n"
     ]
    },
    {
     "name": "stderr",
     "output_type": "stream",
     "text": [
      "/Users/marinedenolle/miniconda3/envs/seismo_exo/lib/python3.10/site-packages/obspy/signal/filter.py:62: UserWarning: Selected high corner frequency (20) of bandpass is at or above Nyquist (20.0). Applying a high-pass instead.\n",
      "  warnings.warn(msg)\n"
     ]
    },
    {
     "name": "stdout",
     "output_type": "stream",
     "text": [
      "CRBN old centroid time 94.98820686680594 new centroid time 109.96523472301871\n",
      "CRBN old duration 114.175 new duration time 129.175\n",
      "KAUT old centroid time 53.725009259579195 new centroid time 68.75084401047363\n",
      "KAUT old duration 68.9 new duration time 83.9\n",
      "SPFR old centroid time -83.13492104952792 new centroid time -76.77881643796935\n",
      "SPFR old duration 117.275 new duration time 112.25\n"
     ]
    },
    {
     "name": "stderr",
     "output_type": "stream",
     "text": [
      "/Users/marinedenolle/miniconda3/envs/seismo_exo/lib/python3.10/site-packages/obspy/signal/filter.py:62: UserWarning: Selected high corner frequency (20) of bandpass is at or above Nyquist (20.0). Applying a high-pass instead.\n",
      "  warnings.warn(msg)\n"
     ]
    },
    {
     "name": "stdout",
     "output_type": "stream",
     "text": [
      "CARB old centroid time 116.53442065533656 new centroid time 13.625966065741594\n",
      "CARB old duration 134.975 new duration time 24.05\n",
      "OBSR old centroid time 43.53839893176722 new centroid time 43.110205879301034\n",
      "OBSR old duration 131.275 new duration time 130.825\n",
      "OPCH old centroid time 121.108831743069 new centroid time 9.165228890602537\n",
      "OPCH old duration 134.975 new duration time 18.025\n",
      "PARA old centroid time 93.89702918197358 new centroid time 90.40350686997982\n",
      "PARA old duration 134.825 new duration time 131.2\n",
      "PR01 old centroid time 120.8528873241418 new centroid time 12.864890703237648\n",
      "PR01 old duration 134.125 new duration time 21.75\n",
      "PR03 old centroid time 117.27767802887946 new centroid time 10.838760447132566\n",
      "PR03 old duration 134.4 new duration time 19.325\n",
      "PR04 old centroid time 110.04439295164005 new centroid time 12.813400920786876\n",
      "PR04 old duration 134.8 new duration time 22.625\n",
      "PR05 old centroid time 115.834431106524 new centroid time 13.472787261329172\n",
      "PR05 old duration 134.85 new duration time 22.55\n",
      "RUSH old centroid time 93.5498746895888 new centroid time 88.97676237100963\n",
      "RUSH old duration 134.975 new duration time 130.25\n",
      "SIFT old centroid time 102.66812394032937 new centroid time 99.72250138747683\n",
      "SIFT old duration 134.95 new duration time 131.925\n",
      "STYX old centroid time 121.27281088172478 new centroid time 10.895783407915602\n",
      "STYX old duration 134.975 new duration time 19.575\n",
      "VOIT old centroid time 108.22122541198524 new centroid time 102.68911973929258\n",
      "VOIT old duration 133.95 new duration time 128.375\n",
      "FMW old centroid time 99.01018609726466 new centroid time 96.47308306115983\n",
      "FMW old duration 134.95 new duration time 132.175\n",
      "LO2 old centroid time 91.56112432333082 new centroid time 88.33912036018752\n",
      "LO2 old duration 134.975 new duration time 131.375\n",
      "LON old centroid time 99.5727570070421 new centroid time 97.17636233471461\n",
      "LON old duration 134.95 new duration time 132.175\n",
      "PUPY old centroid time 129.76974638453177 new centroid time 14.320234136790877\n",
      "PUPY old duration 134.775 new duration time 22.575\n",
      "RCM old centroid time 42.56601334091825 new centroid time 42.60708067356196\n",
      "RCM old duration 131.6 new duration time 131.65\n",
      "RER old centroid time 32.93739557279359 new centroid time 32.191955425137444\n",
      "RER old duration 129.4 new duration time 128.625\n",
      "STOR old centroid time 120.17110897308349 new centroid time 12.55850425409585\n",
      "STOR old duration 134.925 new duration time 22.775\n",
      "WPEQ old centroid time 120.59540642514631 new centroid time 11.612010724891904\n",
      "WPEQ old duration 134.65 new duration time 20.525\n"
     ]
    },
    {
     "name": "stderr",
     "output_type": "stream",
     "text": [
      "/Users/marinedenolle/miniconda3/envs/seismo_exo/lib/python3.10/site-packages/obspy/signal/filter.py:62: UserWarning: Selected high corner frequency (20) of bandpass is at or above Nyquist (20.0). Applying a high-pass instead.\n",
      "  warnings.warn(msg)\n"
     ]
    },
    {
     "name": "stdout",
     "output_type": "stream",
     "text": [
      "CARB old centroid time 25.70621256181596 new centroid time 17.99549645145835\n",
      "CARB old duration 53.225 new duration time 45.4\n",
      "CRBN old centroid time 22.68785468705546 new centroid time 18.32071186305709\n",
      "CRBN old duration 50.625 new duration time 46.3\n",
      "OBSR old centroid time 21.81006340996998 new centroid time 21.19310724862654\n",
      "OBSR old duration 49.15 new duration time 48.525\n",
      "PARA old centroid time 25.287237605043583 new centroid time 26.633742600507624\n",
      "PARA old duration 76.225 new duration time 77.6\n",
      "PR04 old centroid time 23.556340481038305 new centroid time 17.764821046620252\n",
      "PR04 old duration 47.175 new duration time 41.275\n",
      "PR05 old centroid time 22.06455890571414 new centroid time 20.349371796612903\n",
      "PR05 old duration 44.0 new duration time 42.25\n",
      "RUSH old centroid time 22.65121645247502 new centroid time 20.88933782272974\n",
      "RUSH old duration 49.3 new duration time 47.525\n",
      "SIFT old centroid time 20.660622278952488 new centroid time 18.690323300319676\n",
      "SIFT old duration 42.775 new duration time 40.8\n",
      "VOIT old centroid time 22.555005858632136 new centroid time 19.12096122742257\n",
      "VOIT old duration 44.85 new duration time 41.425\n",
      "FMW old centroid time 22.462731660994717 new centroid time 21.305472588461136\n",
      "FMW old duration 48.65 new duration time 47.475\n",
      "LO2 old centroid time 19.206180082455035 new centroid time 34.20824550986746\n",
      "LO2 old duration 34.2 new duration time 49.2\n",
      "LON old centroid time 19.6137688853774 new centroid time 17.300445778277332\n",
      "LON old duration 37.7 new duration time 35.35\n",
      "RCM old centroid time 16.425331241153913 new centroid time 16.590472783767392\n",
      "RCM old duration 39.625 new duration time 39.8\n",
      "RER old centroid time 19.679488296228374 new centroid time 18.89986718751846\n",
      "RER old duration 42.525 new duration time 41.725\n",
      "SPFR old centroid time 64.78968434621017 new centroid time 79.84239400860682\n",
      "SPFR old duration 105.05 new duration time 120.05\n",
      "WPEQ old centroid time 29.396278777141475 new centroid time 17.904688391103342\n",
      "WPEQ old duration 53.75 new duration time 42.0\n"
     ]
    },
    {
     "name": "stderr",
     "output_type": "stream",
     "text": [
      "/Users/marinedenolle/miniconda3/envs/seismo_exo/lib/python3.10/site-packages/obspy/signal/filter.py:62: UserWarning: Selected high corner frequency (20) of bandpass is at or above Nyquist (20.0). Applying a high-pass instead.\n",
      "  warnings.warn(msg)\n"
     ]
    },
    {
     "name": "stdout",
     "output_type": "stream",
     "text": [
      "CARB old centroid time 18.497555117045216 new centroid time 33.488570010180105\n",
      "CARB old duration 34.375 new duration time 49.35\n",
      "OBSR old centroid time 13.83798872282655 new centroid time 14.779063691888798\n",
      "OBSR old duration 28.025 new duration time 29.0\n",
      "PARA old centroid time 13.587602720831642 new centroid time 14.148324339471971\n",
      "PARA old duration 27.05 new duration time 27.625\n",
      "PR04 old centroid time 19.719863999052123 new centroid time 15.140336453363322\n",
      "PR04 old duration 53.325 new duration time 48.475\n",
      "PR05 old centroid time 15.462735466234312 new centroid time 14.5728949874724\n",
      "PR05 old duration 30.6 new duration time 29.675\n",
      "RUSH old centroid time 16.95344562702948 new centroid time 12.757002808302438\n",
      "RUSH old duration 34.9 new duration time 30.6\n",
      "SIFT old centroid time 15.234949284794641 new centroid time 13.285131263261745\n",
      "SIFT old duration 28.8 new duration time 26.775\n",
      "VOIT old centroid time 17.839590313123256 new centroid time 13.453981242980728\n",
      "VOIT old duration 33.125 new duration time 28.725\n",
      "FMW old centroid time 13.44589015528103 new centroid time 12.577909251771683\n",
      "FMW old duration 26.325 new duration time 25.45\n",
      "RCM old centroid time 12.857396829381331 new centroid time 13.409509592561923\n",
      "RCM old duration 26.475 new duration time 27.05\n",
      "RER old centroid time 13.069754532380172 new centroid time 13.751841165854394\n",
      "RER old duration 26.65 new duration time 27.35\n"
     ]
    },
    {
     "name": "stderr",
     "output_type": "stream",
     "text": [
      "/Users/marinedenolle/miniconda3/envs/seismo_exo/lib/python3.10/site-packages/obspy/signal/filter.py:62: UserWarning: Selected high corner frequency (20) of bandpass is at or above Nyquist (20.0). Applying a high-pass instead.\n",
      "  warnings.warn(msg)\n"
     ]
    },
    {
     "name": "stdout",
     "output_type": "stream",
     "text": [
      "OBSR old centroid time 7.232432734278412 new centroid time 5.3494972621555155\n",
      "OBSR old duration 68.275 new duration time 66.325\n",
      "PARA old centroid time 8.76804269270507 new centroid time 7.6683153698660895\n",
      "PARA old duration 17.95 new duration time 16.825\n",
      "PR05 old centroid time 10.836629565900141 new centroid time 7.593807518833862\n",
      "PR05 old duration 21.575 new duration time 18.3\n",
      "RUSH old centroid time 11.361710113035846 new centroid time 8.587701770866698\n",
      "RUSH old duration 21.4 new duration time 18.575\n",
      "SIFT old centroid time 12.740132601159798 new centroid time 9.439256315239508\n",
      "SIFT old duration 25.2 new duration time 21.725\n",
      "VOIT old centroid time 13.524046237658695 new centroid time 9.617700238016134\n",
      "VOIT old duration 23.9 new duration time 20.125\n",
      "FMW old centroid time 10.11496537456972 new centroid time 8.443718400988281\n",
      "FMW old duration 21.1 new duration time 19.4\n",
      "RER old centroid time 4.920350521022764 new centroid time 4.654601941035796\n",
      "RER old duration 8.15 new duration time 7.875\n",
      "SPFR old centroid time 70.62504498586661 new centroid time 87.95977392751982\n",
      "SPFR old duration 132.95 new duration time 147.95\n"
     ]
    },
    {
     "name": "stderr",
     "output_type": "stream",
     "text": [
      "/Users/marinedenolle/miniconda3/envs/seismo_exo/lib/python3.10/site-packages/obspy/signal/filter.py:62: UserWarning: Selected high corner frequency (20) of bandpass is at or above Nyquist (20.0). Applying a high-pass instead.\n",
      "  warnings.warn(msg)\n"
     ]
    },
    {
     "name": "stdout",
     "output_type": "stream",
     "text": [
      "OBSR old centroid time 21.28805848094194 new centroid time 18.998622204104603\n",
      "OBSR old duration 57.775 new duration time 55.475\n",
      "PARA old centroid time 12.667402193296866 new centroid time 11.282023110319148\n",
      "PARA old duration 24.05 new duration time 22.6\n",
      "RUSH old centroid time 14.850095810098946 new centroid time 10.494783316913464\n",
      "RUSH old duration 28.575 new duration time 24.275\n",
      "FMW old centroid time 14.450820761766854 new centroid time 10.191293779976094\n",
      "FMW old duration 28.425 new duration time 24.025\n",
      "RCM old centroid time 9.355800608774729 new centroid time 9.93808361960759\n",
      "RCM old duration 21.775 new duration time 22.4\n",
      "RER old centroid time 11.495912794035466 new centroid time 10.73959645974121\n",
      "RER old duration 23.575 new duration time 22.8\n"
     ]
    },
    {
     "name": "stderr",
     "output_type": "stream",
     "text": [
      "/Users/marinedenolle/miniconda3/envs/seismo_exo/lib/python3.10/site-packages/obspy/signal/filter.py:62: UserWarning: Selected high corner frequency (20) of bandpass is at or above Nyquist (20.0). Applying a high-pass instead.\n",
      "  warnings.warn(msg)\n"
     ]
    },
    {
     "name": "stdout",
     "output_type": "stream",
     "text": [
      "CARB old centroid time 17.742917944943635 new centroid time 15.141908619649909\n",
      "CARB old duration 31.45 new duration time 28.875\n",
      "CRBN old centroid time 17.0357518038654 new centroid time 14.888666119851953\n",
      "CRBN old duration 32.325 new duration time 30.1\n",
      "OBSR old centroid time 13.604671036793707 new centroid time 14.842348069938078\n",
      "OBSR old duration 26.9 new duration time 28.2\n",
      "PARA old centroid time 16.708983410524933 new centroid time 17.09079412263518\n",
      "PARA old duration 31.2 new duration time 31.6\n",
      "PR04 old centroid time 18.0925173274676 new centroid time 16.148372554141606\n",
      "PR04 old duration 32.75 new duration time 30.8\n",
      "PR05 old centroid time 15.444997223828473 new centroid time 15.230021379830468\n",
      "PR05 old duration 30.225 new duration time 30.0\n",
      "RUSH old centroid time 15.641213667135116 new centroid time 14.953109187942076\n",
      "RUSH old duration 32.275 new duration time 31.575\n",
      "SIFT old centroid time 15.158300572898606 new centroid time 14.745447716052675\n",
      "SIFT old duration 28.625 new duration time 28.2\n",
      "VOIT old centroid time 17.783887907963337 new centroid time 15.970394496077558\n",
      "VOIT old duration 36.3 new duration time 34.45\n",
      "FMW old centroid time 15.467058938904026 new centroid time 16.047518311986643\n",
      "FMW old duration 30.55 new duration time 31.2\n",
      "LON old centroid time 14.431332405672471 new centroid time 12.233100435503166\n",
      "LON old duration 28.225 new duration time 25.95\n",
      "RCM old centroid time 15.034571652644702 new centroid time 16.5051698562528\n",
      "RCM old duration 31.525 new duration time 33.15\n",
      "RER old centroid time 12.813907186181632 new centroid time 13.765838139593807\n",
      "RER old duration 26.45 new duration time 27.475\n",
      "SPFR old centroid time 81.76978320356547 new centroid time 96.75602084950874\n",
      "SPFR old duration 91.6 new duration time 106.6\n"
     ]
    },
    {
     "name": "stderr",
     "output_type": "stream",
     "text": [
      "/Users/marinedenolle/miniconda3/envs/seismo_exo/lib/python3.10/site-packages/obspy/signal/filter.py:62: UserWarning: Selected high corner frequency (20) of bandpass is at or above Nyquist (20.0). Applying a high-pass instead.\n",
      "  warnings.warn(msg)\n"
     ]
    },
    {
     "name": "stdout",
     "output_type": "stream",
     "text": [
      "OBSR old centroid time 9.672348499418083 new centroid time 6.026160636510733\n",
      "OBSR old duration 16.225 new duration time 12.575\n",
      "PARA old centroid time 12.00960584507441 new centroid time 8.326222046428354\n",
      "PARA old duration 20.425 new duration time 16.6\n",
      "RUSH old centroid time 15.026260050608675 new centroid time 9.465514323745392\n",
      "RUSH old duration 27.0 new duration time 21.5\n",
      "FMW old centroid time 11.782059731361086 new centroid time 7.354306279955523\n",
      "FMW old duration 20.925 new duration time 16.425\n",
      "RCM old centroid time 6.574342069303006 new centroid time 6.653114597763351\n",
      "RCM old duration 12.075 new duration time 12.15\n"
     ]
    },
    {
     "name": "stderr",
     "output_type": "stream",
     "text": [
      "/Users/marinedenolle/miniconda3/envs/seismo_exo/lib/python3.10/site-packages/obspy/signal/filter.py:62: UserWarning: Selected high corner frequency (20) of bandpass is at or above Nyquist (20.0). Applying a high-pass instead.\n",
      "  warnings.warn(msg)\n"
     ]
    },
    {
     "name": "stdout",
     "output_type": "stream",
     "text": [
      "PANH old centroid time 7.825879825397697 new centroid time 8.15323231918141\n",
      "PANH old duration 13.75 new duration time 14.1\n",
      "PARA old centroid time 11.301862855784766 new centroid time 10.298531898416071\n",
      "PARA old duration 16.825 new duration time 15.75\n",
      "SPFR old centroid time 53.51709875311728 new centroid time 67.33362285684818\n",
      "SPFR old duration 126.475 new duration time 141.45\n"
     ]
    },
    {
     "name": "stderr",
     "output_type": "stream",
     "text": [
      "/Users/marinedenolle/miniconda3/envs/seismo_exo/lib/python3.10/site-packages/obspy/signal/filter.py:62: UserWarning: Selected high corner frequency (20) of bandpass is at or above Nyquist (20.0). Applying a high-pass instead.\n",
      "  warnings.warn(msg)\n"
     ]
    },
    {
     "name": "stdout",
     "output_type": "stream",
     "text": [
      "CARB old centroid time 27.42457106740592 new centroid time 21.9171604550576\n",
      "CARB old duration 75.825 new duration time 70.525\n",
      "CRBN old centroid time 25.85874536760539 new centroid time 20.818470045567455\n",
      "CRBN old duration 52.45 new duration time 47.4\n",
      "OBSR old centroid time 21.722104772275713 new centroid time 19.21641461374567\n",
      "OBSR old duration 49.75 new duration time 47.225\n",
      "OPCH old centroid time 26.665315800382437 new centroid time 41.68790109763612\n",
      "OPCH old duration 70.975 new duration time 85.95\n",
      "PANH old centroid time 21.003723208885745 new centroid time 18.875646057314\n",
      "PANH old duration 47.2 new duration time 45.1\n",
      "PARA old centroid time 23.284898841581782 new centroid time 20.736593696028105\n",
      "PARA old duration 48.775 new duration time 46.225\n",
      "PR04 old centroid time 24.781157301333494 new centroid time 19.123026803514023\n",
      "PR04 old duration 49.975 new duration time 44.5\n",
      "PR05 old centroid time 24.785515829916925 new centroid time 20.751221282177553\n",
      "PR05 old duration 50.425 new duration time 46.375\n",
      "RUSH old centroid time 23.630344195561715 new centroid time 19.614141846152737\n",
      "RUSH old duration 51.775 new duration time 47.825\n",
      "SIFT old centroid time 24.166244132217354 new centroid time 21.59501123384994\n",
      "SIFT old duration 51.15 new duration time 48.575\n",
      "STYX old centroid time 26.264011728513758 new centroid time 41.26025522711824\n",
      "STYX old duration 57.1 new duration time 72.1\n",
      "VOIT old centroid time 22.923585877548117 new centroid time 17.39088137961077\n",
      "VOIT old duration 48.65 new duration time 43.225\n",
      "FMW old centroid time 22.709504561388943 new centroid time 19.545714527407824\n",
      "FMW old duration 49.175 new duration time 46.025\n",
      "LO2 old centroid time 25.01053048048063 new centroid time 22.175915539548413\n",
      "LO2 old duration 49.95 new duration time 47.075\n",
      "LON old centroid time 24.097079139341393 new centroid time 21.446494891221054\n",
      "LON old duration 49.325 new duration time 46.6\n",
      "RCM old centroid time 18.999780280452693 new centroid time 16.79031070926317\n",
      "RCM old duration 45.0 new duration time 42.6\n",
      "RER old centroid time 23.771614975450497 new centroid time 21.437057650410043\n",
      "RER old duration 50.05 new duration time 47.675\n",
      "WPEQ old centroid time 30.99237669186425 new centroid time 23.008526092397204\n",
      "WPEQ old duration 57.525 new duration time 49.75\n"
     ]
    },
    {
     "name": "stderr",
     "output_type": "stream",
     "text": [
      "/Users/marinedenolle/miniconda3/envs/seismo_exo/lib/python3.10/site-packages/obspy/signal/filter.py:62: UserWarning: Selected high corner frequency (20) of bandpass is at or above Nyquist (20.0). Applying a high-pass instead.\n",
      "  warnings.warn(msg)\n"
     ]
    },
    {
     "name": "stdout",
     "output_type": "stream",
     "text": [
      "OBSR old centroid time 7.249661569776592 new centroid time 7.5368836250826154\n",
      "OBSR old duration 15.875 new duration time 16.175\n",
      "PANH old centroid time 7.113040811615021 new centroid time 6.692612654216353\n",
      "PANH old duration 14.95 new duration time 14.5\n",
      "RUSH old centroid time 11.197624617823742 new centroid time 8.282265860822774\n",
      "RUSH old duration 22.675 new duration time 19.625\n",
      "FMW old centroid time 7.322631848005315 new centroid time 6.98277635594949\n",
      "FMW old duration 15.225 new duration time 14.875\n",
      "RCM old centroid time 8.698585651576337 new centroid time 9.24737407626042\n",
      "RCM old duration 48.65 new duration time 49.225\n"
     ]
    },
    {
     "name": "stderr",
     "output_type": "stream",
     "text": [
      "/Users/marinedenolle/miniconda3/envs/seismo_exo/lib/python3.10/site-packages/obspy/signal/filter.py:62: UserWarning: Selected high corner frequency (20) of bandpass is at or above Nyquist (20.0). Applying a high-pass instead.\n",
      "  warnings.warn(msg)\n"
     ]
    },
    {
     "name": "stdout",
     "output_type": "stream",
     "text": [
      "OBSR old centroid time 10.223562763896231 new centroid time 6.6658958637001104\n",
      "OBSR old duration 19.4 new duration time 15.85\n",
      "PANH old centroid time 9.560403416460236 new centroid time 7.147431092966582\n",
      "PANH old duration 17.925 new duration time 15.525\n",
      "PARA old centroid time 10.840866287597384 new centroid time 7.310317244584325\n",
      "PARA old duration 18.525 new duration time 14.9\n",
      "PR05 old centroid time -7.343254538888426 new centroid time -11.39070494033716\n",
      "PR05 old duration 83.075 new duration time 78.75\n",
      "RUSH old centroid time 14.627662843313216 new centroid time 10.210285556510438\n",
      "RUSH old duration 25.1 new duration time 20.775\n",
      "SIFT old centroid time 13.130753983746619 new centroid time 8.507307344316814\n",
      "SIFT old duration 25.75 new duration time 21.025\n",
      "FMW old centroid time 11.377789352889659 new centroid time 7.67249304616215\n",
      "FMW old duration 20.6 new duration time 16.875\n",
      "RCM old centroid time 5.950363420105297 new centroid time 5.557600193314066\n",
      "RCM old duration 11.775 new duration time 11.375\n"
     ]
    },
    {
     "name": "stderr",
     "output_type": "stream",
     "text": [
      "/Users/marinedenolle/miniconda3/envs/seismo_exo/lib/python3.10/site-packages/obspy/signal/filter.py:62: UserWarning: Selected high corner frequency (20) of bandpass is at or above Nyquist (20.0). Applying a high-pass instead.\n",
      "  warnings.warn(msg)\n"
     ]
    },
    {
     "name": "stdout",
     "output_type": "stream",
     "text": [
      "CRBN old centroid time 69.27419212564878 new centroid time 83.96242833162708\n",
      "CRBN old duration 134.675 new duration time 149.65\n",
      "OBSR old centroid time 15.18590838621154 new centroid time 15.425326184890602\n",
      "OBSR old duration 34.525 new duration time 34.775\n",
      "PANH old centroid time 17.607835769204804 new centroid time 17.314214212466094\n",
      "PANH old duration 43.025 new duration time 42.7\n",
      "PR05 old centroid time 14.413774472927134 new centroid time 13.227348248184677\n",
      "PR05 old duration 30.775 new duration time 29.55\n",
      "RUSH old centroid time 14.968023245268006 new centroid time 11.87434719576511\n",
      "RUSH old duration 29.9 new duration time 26.675\n",
      "SIFT old centroid time 16.023681474098392 new centroid time 13.160721667625825\n",
      "SIFT old duration 30.875 new duration time 27.95\n",
      "FMW old centroid time 15.053387715596422 new centroid time 14.680243494367813\n",
      "FMW old duration 34.675 new duration time 34.3\n",
      "RCM old centroid time 13.32967058565246 new centroid time 14.038507345659312\n",
      "RCM old duration 33.625 new duration time 34.4\n",
      "RER old centroid time 29.84080591521145 new centroid time 29.532161632421115\n",
      "RER old duration 82.625 new duration time 82.325\n"
     ]
    },
    {
     "name": "stderr",
     "output_type": "stream",
     "text": [
      "/Users/marinedenolle/miniconda3/envs/seismo_exo/lib/python3.10/site-packages/obspy/signal/filter.py:62: UserWarning: Selected high corner frequency (20) of bandpass is at or above Nyquist (20.0). Applying a high-pass instead.\n",
      "  warnings.warn(msg)\n"
     ]
    },
    {
     "name": "stdout",
     "output_type": "stream",
     "text": [
      "CARB old centroid time 35.36588519203449 new centroid time 25.716439640655953\n",
      "CARB old duration 63.45 new duration time 53.525\n",
      "CRBN old centroid time 32.800507475848214 new centroid time 27.329795128002402\n",
      "CRBN old duration 59.925 new duration time 54.4\n",
      "OBSR old centroid time 30.930319487554264 new centroid time 28.8621019115328\n",
      "OBSR old duration 57.35 new duration time 55.275\n",
      "OPCH old centroid time 33.70692321072572 new centroid time 23.892883585106212\n",
      "OPCH old duration 56.625 new duration time 45.95\n",
      "PANH old centroid time 29.519424104843154 new centroid time 26.95767426597289\n",
      "PANH old duration 54.65 new duration time 52.075\n",
      "PARA old centroid time 31.691061258187002 new centroid time 29.04511718505133\n",
      "PARA old duration 56.15 new duration time 53.475\n",
      "PR04 old centroid time 32.26014762897559 new centroid time 23.07587240537075\n",
      "PR04 old duration 59.1 new duration time 49.725\n",
      "PR05 old centroid time 31.129126294081097 new centroid time 27.731200738381347\n",
      "PR05 old duration 58.6 new duration time 55.2\n",
      "RUSH old centroid time 31.64991518656406 new centroid time 28.07052617471378\n",
      "RUSH old duration 59.0 new duration time 55.4\n",
      "SIFT old centroid time 29.863716793740384 new centroid time 26.631467847216477\n",
      "SIFT old duration 55.45 new duration time 52.2\n",
      "STYX old centroid time 35.28492761161896 new centroid time 50.241180962404755\n",
      "STYX old duration 62.975 new duration time 77.975\n",
      "FMW old centroid time 31.515507854488074 new centroid time 28.644440405956274\n",
      "FMW old duration 60.825 new duration time 57.95\n",
      "LO2 old centroid time 32.08378068086657 new centroid time 28.42092730102881\n",
      "LO2 old duration 55.475 new duration time 51.75\n",
      "LON old centroid time 31.619971725137447 new centroid time 27.966318773917703\n",
      "LON old duration 55.325 new duration time 51.575\n",
      "RCM old centroid time 27.469245423489124 new centroid time 25.735151568981\n",
      "RCM old duration 53.6 new duration time 51.825\n",
      "RER old centroid time 35.34894967475586 new centroid time 26.238623636173404\n",
      "RER old duration 83.7 new duration time 73.825\n"
     ]
    },
    {
     "name": "stderr",
     "output_type": "stream",
     "text": [
      "/Users/marinedenolle/miniconda3/envs/seismo_exo/lib/python3.10/site-packages/obspy/signal/filter.py:62: UserWarning: Selected high corner frequency (20) of bandpass is at or above Nyquist (20.0). Applying a high-pass instead.\n",
      "  warnings.warn(msg)\n"
     ]
    },
    {
     "name": "stdout",
     "output_type": "stream",
     "text": [
      "OBSR old centroid time 9.861478861738938 new centroid time 7.518723298340583\n",
      "OBSR old duration 18.325 new duration time 15.975\n",
      "PANH old centroid time 5.095268910827177 new centroid time 3.9040351249551666\n",
      "PANH old duration 10.275 new duration time 9.05\n",
      "PARA old centroid time 8.213070912273444 new centroid time 6.291355379180122\n",
      "PARA old duration 16.475 new duration time 14.475\n",
      "PR05 old centroid time 12.299978114080574 new centroid time 8.57377777342725\n",
      "PR05 old duration 27.175 new duration time 23.3\n",
      "RUSH old centroid time 12.224740382009113 new centroid time 8.279973333559726\n",
      "RUSH old duration 23.125 new duration time 19.1\n",
      "SIFT old centroid time 12.547291303167162 new centroid time 8.68393936892738\n",
      "SIFT old duration 24.125 new duration time 20.125\n",
      "FMW old centroid time 10.512828846023492 new centroid time 8.247578377440343\n",
      "FMW old duration 38.625 new duration time 36.25\n",
      "RCM old centroid time 6.055856107040624 new centroid time 5.625677762556539\n",
      "RCM old duration 16.875 new duration time 16.45\n"
     ]
    },
    {
     "name": "stderr",
     "output_type": "stream",
     "text": [
      "/Users/marinedenolle/miniconda3/envs/seismo_exo/lib/python3.10/site-packages/obspy/signal/filter.py:62: UserWarning: Selected high corner frequency (20) of bandpass is at or above Nyquist (20.0). Applying a high-pass instead.\n",
      "  warnings.warn(msg)\n"
     ]
    },
    {
     "name": "stdout",
     "output_type": "stream",
     "text": [
      "OBSR old centroid time -723.4142534699535 new centroid time -579.9941033417641\n",
      "OBSR old duration 118.15 new duration time 121.5\n",
      "PANH old centroid time 7.349711686969165 new centroid time 7.181461355365536\n",
      "PANH old duration 15.775 new duration time 15.6\n",
      "PARA old centroid time 7.267070247955425 new centroid time 7.149154644676703\n",
      "PARA old duration 14.925 new duration time 14.8\n",
      "PR05 old centroid time 9.894764445589123 new centroid time 8.227502701779509\n",
      "PR05 old duration 21.325 new duration time 19.625\n",
      "RUSH old centroid time 10.857742456127182 new centroid time 8.963633710804919\n",
      "RUSH old duration 20.35 new duration time 18.425\n",
      "SIFT old centroid time 10.885769572791736 new centroid time 9.199972488082933\n",
      "SIFT old duration 18.975 new duration time 17.275\n",
      "VOIT old centroid time 12.348062238876444 new centroid time 9.323192107687849\n",
      "VOIT old duration 21.875 new duration time 18.95\n",
      "FMW old centroid time 7.147428901766939 new centroid time 6.701632265389615\n",
      "FMW old duration 13.775 new duration time 13.325\n",
      "RCM old centroid time 82.47204496029275 new centroid time 97.56184109243898\n",
      "RCM old duration 103.55 new duration time 118.1\n"
     ]
    },
    {
     "name": "stderr",
     "output_type": "stream",
     "text": [
      "/Users/marinedenolle/miniconda3/envs/seismo_exo/lib/python3.10/site-packages/obspy/signal/filter.py:62: UserWarning: Selected high corner frequency (20) of bandpass is at or above Nyquist (20.0). Applying a high-pass instead.\n",
      "  warnings.warn(msg)\n"
     ]
    },
    {
     "name": "stdout",
     "output_type": "stream",
     "text": [
      "CARB old centroid time 17.130252201690485 new centroid time 9.804611960734611\n",
      "CARB old duration 28.925 new duration time 21.275\n",
      "CRBN old centroid time 16.348657522920675 new centroid time 9.34755236019745\n",
      "CRBN old duration 27.075 new duration time 20.0\n",
      "OBSR old centroid time 12.008645295628746 new centroid time 9.467441807507475\n",
      "OBSR old duration 21.05 new duration time 18.5\n",
      "OPCH old centroid time 16.30715961941392 new centroid time 9.254640075448103\n",
      "OPCH old duration 26.25 new duration time 19.15\n",
      "PANH old centroid time 12.844726006187226 new centroid time 10.540119926184753\n",
      "PANH old duration 23.35 new duration time 21.0\n",
      "PARA old centroid time 14.086111126682137 new centroid time 9.692971899270603\n",
      "PARA old duration 25.375 new duration time 20.85\n",
      "PR04 old centroid time 14.532909857158065 new centroid time 7.7717179514067904\n",
      "PR04 old duration 22.525 new duration time 15.55\n",
      "PR05 old centroid time 15.14390469697926 new centroid time 9.299171558182678\n",
      "PR05 old duration 25.525 new duration time 19.575\n",
      "RUSH old centroid time 14.826114522417543 new centroid time 9.280033284475767\n",
      "RUSH old duration 25.3 new duration time 19.675\n",
      "SIFT old centroid time 14.198260018738017 new centroid time 8.76357714407119\n",
      "SIFT old duration 24.575 new duration time 19.1\n",
      "VOIT old centroid time 14.924955914530841 new centroid time 9.247382552753647\n",
      "VOIT old duration 23.125 new duration time 17.25\n",
      "FMW old centroid time 20.285621276359084 new centroid time 15.206823255441474\n",
      "FMW old duration 57.7 new duration time 52.475\n",
      "LO2 old centroid time 13.023847105830935 new centroid time 7.844347878903892\n",
      "LO2 old duration 22.7 new duration time 17.525\n",
      "LON old centroid time 13.05009272135722 new centroid time 8.879581195436577\n",
      "LON old duration 23.325 new duration time 19.15\n",
      "RCM old centroid time 10.084460873086872 new centroid time 9.767636110539245\n",
      "RCM old duration 17.85 new duration time 17.525\n",
      "RER old centroid time 19.234722707984975 new centroid time 14.847664659979237\n",
      "RER old duration 129.9 new duration time 125.4\n",
      "SPFR old centroid time 67.1363429733262 new centroid time 82.19921221168498\n",
      "SPFR old duration 123.775 new duration time 138.775\n"
     ]
    },
    {
     "name": "stderr",
     "output_type": "stream",
     "text": [
      "/Users/marinedenolle/miniconda3/envs/seismo_exo/lib/python3.10/site-packages/obspy/signal/filter.py:62: UserWarning: Selected high corner frequency (20) of bandpass is at or above Nyquist (20.0). Applying a high-pass instead.\n",
      "  warnings.warn(msg)\n"
     ]
    },
    {
     "name": "stdout",
     "output_type": "stream",
     "text": [
      "OBSR old centroid time 14.674569410558359 new centroid time 13.931998250105647\n",
      "OBSR old duration 30.825 new duration time 30.075\n",
      "PANH old centroid time 13.321662419178582 new centroid time 12.052443373181102\n",
      "PANH old duration 31.025 new duration time 29.75\n",
      "PARA old centroid time 14.059479053026136 new centroid time 13.016786428274823\n",
      "PARA old duration 30.875 new duration time 29.85\n",
      "RUSH old centroid time 15.77825391519514 new centroid time 12.938348505546315\n",
      "RUSH old duration 78.0 new duration time 75.15\n",
      "FMW old centroid time -63.55390504538034 new centroid time -48.892074845248\n",
      "FMW old duration 110.175 new duration time 125.05\n",
      "RCM old centroid time 12.363643735662992 new centroid time 12.100303937674363\n",
      "RCM old duration 28.675 new duration time 28.4\n",
      "RER old centroid time 12.42621722283666 new centroid time 11.087708093501572\n",
      "RER old duration 28.25 new duration time 26.875\n"
     ]
    },
    {
     "name": "stderr",
     "output_type": "stream",
     "text": [
      "/Users/marinedenolle/miniconda3/envs/seismo_exo/lib/python3.10/site-packages/obspy/signal/filter.py:62: UserWarning: Selected high corner frequency (20) of bandpass is at or above Nyquist (20.0). Applying a high-pass instead.\n",
      "  warnings.warn(msg)\n"
     ]
    },
    {
     "name": "stdout",
     "output_type": "stream",
     "text": [
      "CARB old centroid time 18.763964120893444 new centroid time 13.306809215382525\n",
      "CARB old duration 34.2 new duration time 28.675\n",
      "CRBN old centroid time 15.73981926987322 new centroid time 10.68850379473728\n",
      "CRBN old duration 29.75 new duration time 24.675\n",
      "GTWY old centroid time 17.442273340164117 new centroid time 12.51888259272616\n",
      "GTWY old duration 32.325 new duration time 27.225\n",
      "KAUT old centroid time 15.073782126993693 new centroid time 10.519179717502935\n",
      "KAUT old duration 27.225 new duration time 22.525\n",
      "OBSR old centroid time 13.654717744310377 new centroid time 11.791786340462968\n",
      "OBSR old duration 27.0 new duration time 25.125\n",
      "OPCH old centroid time 15.816215657701596 new centroid time 10.707852212706666\n",
      "OPCH old duration 28.425 new duration time 23.275\n",
      "PANH old centroid time 12.709148912269251 new centroid time 10.802206121619854\n",
      "PANH old duration 24.6 new duration time 22.675\n",
      "PARA old centroid time 13.907191731591398 new centroid time 12.022767640048889\n",
      "PARA old duration 29.35 new duration time 27.45\n",
      "PR01 old centroid time 17.389370606804572 new centroid time 11.304294532800904\n",
      "PR01 old duration 33.375 new duration time 27.25\n",
      "PR04 old centroid time 17.764058646738754 new centroid time 12.752043107892648\n",
      "PR04 old duration 33.75 new duration time 28.7\n",
      "PR05 old centroid time 14.945203650318376 new centroid time 11.902729569333696\n",
      "PR05 old duration 29.2 new duration time 26.15\n",
      "RUSH old centroid time 15.736427050157275 new centroid time 11.75709150970385\n",
      "RUSH old duration 29.975 new duration time 25.975\n",
      "SIFT old centroid time 14.435985830028976 new centroid time 11.58607790595949\n",
      "SIFT old duration 29.0 new duration time 26.15\n",
      "STYX old centroid time 19.97220918000139 new centroid time 12.61686523656127\n",
      "STYX old duration 35.1 new duration time 27.8\n",
      "TRON old centroid time 21.817792981459128 new centroid time 13.379615368024641\n",
      "TRON old duration 36.45 new duration time 28.025\n",
      "VOIT old centroid time 14.841720288182065 new centroid time 9.626467838784839\n",
      "VOIT old duration 27.1 new duration time 21.85\n",
      "FMW old centroid time 12.262053581939124 new centroid time 9.877222675723921\n",
      "FMW old duration 24.45 new duration time 22.05\n",
      "LO2 old centroid time 15.119394536741488 new centroid time 11.176561032181699\n",
      "LO2 old duration 28.125 new duration time 24.125\n",
      "LON old centroid time 14.971924141420676 new centroid time 10.9196706273256\n",
      "LON old duration 27.9 new duration time 23.775\n",
      "PCEP old centroid time 77.07819477877663 new centroid time 92.07985535012845\n",
      "PCEP old duration 93.65 new duration time 108.65\n",
      "PUPY old centroid time 24.381528279518662 new centroid time 13.06311949162967\n",
      "PUPY old duration 38.7 new duration time 27.575\n",
      "RCM old centroid time 10.861387723740934 new centroid time 10.2938523696438\n",
      "RCM old duration 24.275 new duration time 23.7\n",
      "RER old centroid time 12.87702174114086 new centroid time 10.69557080264735\n",
      "RER old duration 27.025 new duration time 24.825\n",
      "STOR old centroid time 23.667321992886443 new centroid time 14.45948675232375\n",
      "STOR old duration 42.1 new duration time 32.975\n",
      "WPEQ old centroid time 21.662127538643343 new centroid time 13.622733683490303\n",
      "WPEQ old duration 39.65 new duration time 31.5\n"
     ]
    },
    {
     "name": "stderr",
     "output_type": "stream",
     "text": [
      "/Users/marinedenolle/miniconda3/envs/seismo_exo/lib/python3.10/site-packages/obspy/signal/filter.py:62: UserWarning: Selected high corner frequency (20) of bandpass is at or above Nyquist (20.0). Applying a high-pass instead.\n",
      "  warnings.warn(msg)\n"
     ]
    },
    {
     "name": "stdout",
     "output_type": "stream",
     "text": [
      "OBSR old centroid time 7.225758466770261 new centroid time 5.37061355878014\n",
      "OBSR old duration 11.775 new duration time 9.85\n",
      "PANH old centroid time 6.902938962316493 new centroid time 5.774576935584669\n",
      "PANH old duration 13.2 new duration time 12.075\n",
      "PARA old centroid time 7.38210516759424 new centroid time 6.027201567844415\n",
      "PARA old duration 13.85 new duration time 12.45\n",
      "FMW old centroid time 6.947802207034024 new centroid time 5.051061371879127\n",
      "FMW old duration 11.775 new duration time 9.85\n",
      "PUPY old centroid time 123.7542993921818 new centroid time 6.4116739800405\n",
      "PUPY old duration 117.575 new duration time 13.25\n",
      "RCM old centroid time 2.78255038740335 new centroid time 3.0736867982055096\n",
      "RCM old duration 6.925 new duration time 7.25\n"
     ]
    },
    {
     "name": "stderr",
     "output_type": "stream",
     "text": [
      "/Users/marinedenolle/miniconda3/envs/seismo_exo/lib/python3.10/site-packages/obspy/signal/filter.py:62: UserWarning: Selected high corner frequency (20) of bandpass is at or above Nyquist (20.0). Applying a high-pass instead.\n",
      "  warnings.warn(msg)\n"
     ]
    },
    {
     "name": "stdout",
     "output_type": "stream",
     "text": [
      "OBSR old centroid time 11.494639806309038 new centroid time 10.872693652727405\n",
      "OBSR old duration 26.975 new duration time 26.35\n",
      "PANH old centroid time 11.617440054614406 new centroid time 10.586225377952259\n",
      "PANH old duration 26.95 new duration time 25.9\n",
      "PARA old centroid time 9.711393655421462 new centroid time 8.551821049437706\n",
      "PARA old duration 21.325 new duration time 20.15\n",
      "PR04 old centroid time 13.140341564383363 new centroid time 9.936723640348788\n",
      "PR04 old duration 28.8 new duration time 25.525\n",
      "PR05 old centroid time 13.153556941515378 new centroid time 11.215494829637676\n",
      "PR05 old duration 31.1 new duration time 29.075\n",
      "RUSH old centroid time 12.51926364417104 new centroid time 10.70431796279682\n",
      "RUSH old duration 24.25 new duration time 22.325\n",
      "SIFT old centroid time 11.139608077747555 new centroid time 9.085781084862486\n",
      "SIFT old duration 23.45 new duration time 21.35\n",
      "TRON old centroid time 90.79137291335472 new centroid time 105.76153133204004\n",
      "TRON old duration 133.25 new duration time 148.25\n",
      "VOIT old centroid time 11.710521318655282 new centroid time 8.667572061541643\n",
      "VOIT old duration 23.825 new duration time 20.75\n",
      "FMW old centroid time 11.340064996920114 new centroid time 9.92554108866703\n",
      "FMW old duration 26.025 new duration time 24.575\n",
      "LO2 old centroid time 16.639504574508976 new centroid time 14.527800769430211\n",
      "LO2 old duration 130.325 new duration time 128.325\n",
      "LON old centroid time 15.784059410927672 new centroid time 13.64475501267946\n",
      "LON old duration 130.925 new duration time 128.9\n",
      "RCM old centroid time 7.827397604388263 new centroid time 8.44745889506773\n",
      "RCM old duration 20.875 new duration time 21.525\n",
      "RER old centroid time 13.38014102108803 new centroid time 12.325213866479398\n",
      "RER old duration 35.25 new duration time 34.15\n"
     ]
    },
    {
     "name": "stderr",
     "output_type": "stream",
     "text": [
      "/Users/marinedenolle/miniconda3/envs/seismo_exo/lib/python3.10/site-packages/obspy/signal/filter.py:62: UserWarning: Selected high corner frequency (20) of bandpass is at or above Nyquist (20.0). Applying a high-pass instead.\n",
      "  warnings.warn(msg)\n"
     ]
    },
    {
     "name": "stdout",
     "output_type": "stream",
     "text": [
      "CRBN old centroid time 78.20011762305757 new centroid time 92.76447782908748\n",
      "CRBN old duration 107.45 new duration time 122.425\n",
      "KAUT old centroid time 71.94618759712505 new centroid time 86.942725706457\n",
      "KAUT old duration 85.0 new duration time 100.0\n",
      "PANH old centroid time 106.17652340840654 new centroid time 19.25170915459647\n",
      "PANH old duration 126.9 new duration time 38.575\n",
      "PR05 old centroid time 104.73378558206629 new centroid time 21.437278092205183\n",
      "PR05 old duration 130.075 new duration time 41.225\n",
      "FMW old centroid time 105.59575286805693 new centroid time 20.35043576737764\n",
      "FMW old duration 126.45 new duration time 39.775\n"
     ]
    },
    {
     "name": "stderr",
     "output_type": "stream",
     "text": [
      "/Users/marinedenolle/miniconda3/envs/seismo_exo/lib/python3.10/site-packages/obspy/signal/filter.py:62: UserWarning: Selected high corner frequency (20) of bandpass is at or above Nyquist (20.0). Applying a high-pass instead.\n",
      "  warnings.warn(msg)\n"
     ]
    },
    {
     "name": "stdout",
     "output_type": "stream",
     "text": [
      "OBSR old centroid time 12.566796625128168 new centroid time 14.016200282987615\n",
      "OBSR old duration 32.075 new duration time 33.6\n",
      "PANH old centroid time 12.581206190986247 new centroid time 13.924224746614184\n",
      "PANH old duration 32.1 new duration time 33.525\n",
      "PR05 old centroid time 12.27629015858928 new centroid time 9.900067347847964\n",
      "PR05 old duration 27.025 new duration time 24.55\n",
      "RUSH old centroid time 14.569150926362665 new centroid time 11.01514680077228\n",
      "RUSH old duration 32.025 new duration time 28.2\n",
      "FMW old centroid time 13.05649308432907 new centroid time 14.470486580285678\n",
      "FMW old duration 30.55 new duration time 32.075\n",
      "RCM old centroid time 11.019070736670471 new centroid time 13.5635066043795\n",
      "RCM old duration 28.275 new duration time 31.125\n"
     ]
    },
    {
     "name": "stderr",
     "output_type": "stream",
     "text": [
      "/Users/marinedenolle/miniconda3/envs/seismo_exo/lib/python3.10/site-packages/obspy/signal/filter.py:62: UserWarning: Selected high corner frequency (20) of bandpass is at or above Nyquist (20.0). Applying a high-pass instead.\n",
      "  warnings.warn(msg)\n"
     ]
    },
    {
     "name": "stdout",
     "output_type": "stream",
     "text": [
      "CARB old centroid time 16.349145049737057 new centroid time 9.296296963116495\n",
      "CARB old duration 28.85 new duration time 21.925\n",
      "CRBN old centroid time 18.286022451487053 new centroid time 12.414839215875384\n",
      "CRBN old duration 50.125 new duration time 44.175\n",
      "OBSR old centroid time 11.5606644808564 new centroid time 9.077737114501398\n",
      "OBSR old duration 21.225 new duration time 18.725\n",
      "OPCH old centroid time 14.128965064541212 new centroid time 8.529368276579143\n",
      "OPCH old duration 22.3 new duration time 16.75\n",
      "PANH old centroid time 11.722842284290714 new centroid time 7.7450205785489095\n",
      "PANH old duration 22.75 new duration time 18.65\n",
      "PARA old centroid time 12.140283312897418 new centroid time 8.800471578384236\n",
      "PARA old duration 25.75 new duration time 22.35\n",
      "PR04 old centroid time 11.180718004307977 new centroid time 5.091945753247664\n",
      "PR04 old duration 18.875 new duration time 12.725\n",
      "PR05 old centroid time 12.992746053079266 new centroid time 7.824259947842602\n",
      "PR05 old duration 22.325 new duration time 17.25\n",
      "RUSH old centroid time 15.084868075643504 new centroid time 9.924713449012295\n",
      "RUSH old duration 28.925 new duration time 23.675\n",
      "SIFT old centroid time 13.121145350912577 new centroid time 7.990084573157915\n",
      "SIFT old duration 24.225 new duration time 19.075\n",
      "VOIT old centroid time 16.074829417864922 new centroid time 9.77894664344927\n",
      "VOIT old duration 27.875 new duration time 21.625\n",
      "FMW old centroid time 16.588667063715224 new centroid time 11.786958075483168\n",
      "FMW old duration 44.6 new duration time 39.7\n",
      "LO2 old centroid time 12.218220648247433 new centroid time 7.964455929983407\n",
      "LO2 old duration 22.575 new duration time 18.225\n",
      "LON old centroid time 12.145655333509579 new centroid time 7.867828924885877\n",
      "LON old duration 21.975 new duration time 17.6\n",
      "RCM old centroid time 7.925382056571957 new centroid time 4.591004810049717\n",
      "RCM old duration 13.425 new duration time 9.85\n",
      "RER old centroid time 14.92134823754093 new centroid time 11.964787516798886\n",
      "RER old duration 46.075 new duration time 43.05\n",
      "WPEQ old centroid time 18.889395631733848 new centroid time 10.047089455181498\n",
      "WPEQ old duration 33.55 new duration time 24.625\n"
     ]
    },
    {
     "name": "stderr",
     "output_type": "stream",
     "text": [
      "/Users/marinedenolle/miniconda3/envs/seismo_exo/lib/python3.10/site-packages/obspy/signal/filter.py:62: UserWarning: Selected high corner frequency (20) of bandpass is at or above Nyquist (20.0). Applying a high-pass instead.\n",
      "  warnings.warn(msg)\n"
     ]
    },
    {
     "name": "stdout",
     "output_type": "stream",
     "text": [
      "CARB old centroid time 16.955431241255408 new centroid time 11.892805358365731\n",
      "CARB old duration 43.7 new duration time 38.8\n",
      "CRBN old centroid time 15.013395202658367 new centroid time 10.41683508839453\n",
      "CRBN old duration 42.15 new duration time 37.5\n",
      "OBSR old centroid time 15.296881158224672 new centroid time 14.426013426620084\n",
      "OBSR old duration 42.55 new duration time 41.65\n",
      "OPCH old centroid time 12.461894886510503 new centroid time 7.882933926238968\n",
      "OPCH old duration 39.575 new duration time 35.025\n",
      "PANH old centroid time 13.555849416497354 new centroid time 11.261574723510476\n",
      "PANH old duration 40.25 new duration time 37.85\n",
      "PARA old centroid time 12.905717167114885 new centroid time 11.968515174791237\n",
      "PARA old duration 40.2 new duration time 39.225\n",
      "PR05 old centroid time 13.272039508342147 new centroid time 10.511422737602814\n",
      "PR05 old duration 39.15 new duration time 36.25\n",
      "RUSH old centroid time 15.911828584876774 new centroid time 12.890104188937196\n",
      "RUSH old duration 43.075 new duration time 40.025\n",
      "SIFT old centroid time 16.30780816410537 new centroid time 13.447651195908186\n",
      "SIFT old duration 45.95 new duration time 42.975\n",
      "VOIT old centroid time 16.54664325314983 new centroid time 12.38023911618713\n",
      "VOIT old duration 42.9 new duration time 38.775\n",
      "FMW old centroid time 14.934659070724697 new centroid time 11.922601484050045\n",
      "FMW old duration 42.675 new duration time 39.525\n",
      "LON old centroid time 12.8838952079608 new centroid time 11.028571244199362\n",
      "LON old duration 39.1 new duration time 37.125\n",
      "RCM old centroid time 9.708661493401143 new centroid time 10.86653108691674\n",
      "RCM old duration 36.925 new duration time 38.15\n",
      "RER old centroid time 10.624363551018064 new centroid time 11.114392316821753\n",
      "RER old duration 37.75 new duration time 38.275\n"
     ]
    },
    {
     "name": "stderr",
     "output_type": "stream",
     "text": [
      "/Users/marinedenolle/miniconda3/envs/seismo_exo/lib/python3.10/site-packages/obspy/signal/filter.py:62: UserWarning: Selected high corner frequency (20) of bandpass is at or above Nyquist (20.0). Applying a high-pass instead.\n",
      "  warnings.warn(msg)\n"
     ]
    },
    {
     "name": "stdout",
     "output_type": "stream",
     "text": [
      "OBSR old centroid time 12.244332981214802 new centroid time 10.262930362295458\n",
      "OBSR old duration 23.125 new duration time 21.1\n",
      "PANH old centroid time 10.365640747318096 new centroid time 8.814629808683305\n",
      "PANH old duration 19.9 new duration time 18.325\n",
      "PARA old centroid time 11.038240354725598 new centroid time 9.694068126830008\n",
      "PARA old duration 20.625 new duration time 19.25\n",
      "PR04 old centroid time 13.719714416719107 new centroid time 9.637055427583428\n",
      "PR04 old duration 30.625 new duration time 26.475\n",
      "RUSH old centroid time 13.769184726251147 new centroid time 10.361241906174698\n",
      "RUSH old duration 27.65 new duration time 24.15\n",
      "FMW old centroid time 11.914196167729578 new centroid time 9.487413511421883\n",
      "FMW old duration 22.775 new duration time 20.25\n",
      "LO2 old centroid time 12.549320348021132 new centroid time 10.553805415856555\n",
      "LO2 old duration 23.85 new duration time 21.825\n",
      "RCM old centroid time 6.964493429216437 new centroid time 6.83383793990236\n",
      "RCM old duration 14.55 new duration time 14.4\n",
      "RER old centroid time 34.68682612577369 new centroid time 33.13972450281824\n",
      "RER old duration 122.6 new duration time 121.1\n"
     ]
    },
    {
     "name": "stderr",
     "output_type": "stream",
     "text": [
      "/Users/marinedenolle/miniconda3/envs/seismo_exo/lib/python3.10/site-packages/obspy/signal/filter.py:62: UserWarning: Selected high corner frequency (20) of bandpass is at or above Nyquist (20.0). Applying a high-pass instead.\n",
      "  warnings.warn(msg)\n"
     ]
    },
    {
     "name": "stdout",
     "output_type": "stream",
     "text": [
      "OBSR old centroid time 25.98717718839867 new centroid time 24.334696568209782\n",
      "OBSR old duration 126.2 new duration time 124.525\n",
      "PANH old centroid time 8.446582402214668 new centroid time 6.385404535878873\n",
      "PANH old duration 17.525 new duration time 15.4\n",
      "PARA old centroid time 7.734057846779974 new centroid time 6.3223988944655565\n",
      "PARA old duration 15.8 new duration time 14.375\n",
      "PR05 old centroid time 11.411663303057955 new centroid time 8.88191331260043\n",
      "PR05 old duration 25.125 new duration time 22.475\n",
      "RUSH old centroid time 12.362399570000518 new centroid time 9.41334088093161\n",
      "RUSH old duration 24.4 new duration time 21.35\n",
      "SIFT old centroid time 11.616589361604097 new centroid time 9.176704401070683\n",
      "SIFT old duration 21.35 new duration time 18.95\n",
      "FMW old centroid time 11.212253331300374 new centroid time 8.469153028815501\n",
      "FMW old duration 24.9 new duration time 22.075\n",
      "RCM old centroid time 5.486424334718901 new centroid time 5.171788729378317\n",
      "RCM old duration 14.2 new duration time 13.875\n",
      "RER old centroid time 5.870350379901243 new centroid time 4.983480482387438\n",
      "RER old duration 11.775 new duration time 10.875\n"
     ]
    },
    {
     "name": "stderr",
     "output_type": "stream",
     "text": [
      "/Users/marinedenolle/miniconda3/envs/seismo_exo/lib/python3.10/site-packages/obspy/signal/filter.py:62: UserWarning: Selected high corner frequency (20) of bandpass is at or above Nyquist (20.0). Applying a high-pass instead.\n",
      "  warnings.warn(msg)\n"
     ]
    },
    {
     "name": "stdout",
     "output_type": "stream",
     "text": [
      "OBSR old centroid time 7.9840264304359145 new centroid time 6.215331266719928\n",
      "OBSR old duration 14.375 new duration time 12.575\n",
      "PANH old centroid time 8.673951703763878 new centroid time 7.487931001211588\n",
      "PANH old duration 17.225 new duration time 16.025\n",
      "PARA old centroid time 8.67282865506078 new centroid time 7.732750882073012\n",
      "PARA old duration 17.35 new duration time 16.4\n",
      "PR05 old centroid time 10.884131548619536 new centroid time 8.724336682889252\n",
      "PR05 old duration 24.05 new duration time 21.875\n",
      "RUSH old centroid time 12.017281628593691 new centroid time 9.183366473311382\n",
      "RUSH old duration 20.65 new duration time 17.8\n",
      "SIFT old centroid time 14.003960827555087 new centroid time 11.364939834096788\n",
      "SIFT old duration 25.825 new duration time 23.225\n",
      "VOIT old centroid time 20.931084445278334 new centroid time 17.30316252433943\n",
      "VOIT old duration 103.75 new duration time 99.975\n",
      "FMW old centroid time 9.507003496417065 new centroid time 7.365134299883687\n",
      "FMW old duration 15.95 new duration time 13.8\n",
      "LO2 old centroid time 9.216761543787845 new centroid time 7.288547517746845\n",
      "LO2 old duration 18.425 new duration time 16.475\n",
      "LON old centroid time 9.044075000745703 new centroid time 7.025900604026967\n",
      "LON old duration 18.05 new duration time 16.025\n",
      "RCM old centroid time 3.648165007554202 new centroid time 3.6705142317935224\n",
      "RCM old duration 8.075 new duration time 8.1\n",
      "RER old centroid time 6.737764511472164 new centroid time 5.5247396934230375\n",
      "RER old duration 13.15 new duration time 11.925\n"
     ]
    },
    {
     "name": "stderr",
     "output_type": "stream",
     "text": [
      "/Users/marinedenolle/miniconda3/envs/seismo_exo/lib/python3.10/site-packages/obspy/signal/filter.py:62: UserWarning: Selected high corner frequency (20) of bandpass is at or above Nyquist (20.0). Applying a high-pass instead.\n",
      "  warnings.warn(msg)\n"
     ]
    },
    {
     "name": "stdout",
     "output_type": "stream",
     "text": [
      "CARB old centroid time 18.06522499141588 new centroid time 13.183175570196774\n",
      "CARB old duration 33.7 new duration time 28.8\n",
      "GTWY old centroid time 84.11892130291427 new centroid time 92.30562663660797\n",
      "GTWY old duration 134.85 new duration time 138.375\n",
      "OBSR old centroid time 13.759266168678382 new centroid time 13.791507738689626\n",
      "OBSR old duration 28.275 new duration time 28.3\n",
      "OPCH old centroid time 16.075934490875728 new centroid time 11.408129217029137\n",
      "OPCH old duration 29.675 new duration time 24.975\n",
      "PANH old centroid time 13.50397157866114 new centroid time 13.78000611973952\n",
      "PANH old duration 28.525 new duration time 28.8\n",
      "PARA old centroid time 17.054073282685597 new centroid time 16.812264277445376\n",
      "PARA old duration 38.175 new duration time 37.925\n",
      "PR04 old centroid time 16.350478541980067 new centroid time 12.694403920103271\n",
      "PR04 old duration 34.3 new duration time 30.575\n",
      "PR05 old centroid time 13.739329210518612 new centroid time 11.977117265397993\n",
      "PR05 old duration 26.975 new duration time 25.2\n",
      "RUSH old centroid time 16.02366530889307 new centroid time 14.379951154903086\n",
      "RUSH old duration 30.975 new duration time 29.325\n",
      "SIFT old centroid time 16.32117074387849 new centroid time 14.346618739261741\n",
      "SIFT old duration 33.5 new duration time 31.475\n",
      "STYX old centroid time 20.215421606961318 new centroid time 35.12273140803146\n",
      "STYX old duration 35.45 new duration time 50.45\n",
      "VOIT old centroid time 17.56613444224208 new centroid time 14.626029321833784\n",
      "VOIT old duration 34.7 new duration time 31.725\n",
      "FMW old centroid time 14.042179866524942 new centroid time 13.201666237127817\n",
      "FMW old duration 29.175 new duration time 28.325\n",
      "LON old centroid time 14.795449903320463 new centroid time 12.620797742058896\n",
      "LON old duration 30.75 new duration time 28.525\n",
      "RCM old centroid time 12.402436275960655 new centroid time 13.945458754870582\n",
      "RCM old duration 28.375 new duration time 29.975\n",
      "RER old centroid time 12.444499508502693 new centroid time 12.54138307500509\n",
      "RER old duration 25.575 new duration time 25.675\n",
      "WPEQ old centroid time 18.387655314172438 new centroid time 10.806027884643846\n",
      "WPEQ old duration 33.625 new duration time 26.05\n"
     ]
    },
    {
     "name": "stderr",
     "output_type": "stream",
     "text": [
      "/Users/marinedenolle/miniconda3/envs/seismo_exo/lib/python3.10/site-packages/obspy/signal/filter.py:62: UserWarning: Selected high corner frequency (20) of bandpass is at or above Nyquist (20.0). Applying a high-pass instead.\n",
      "  warnings.warn(msg)\n"
     ]
    },
    {
     "name": "stdout",
     "output_type": "stream",
     "text": [
      "CARB old centroid time 15.959230605788022 new centroid time 9.9123283018916\n",
      "CARB old duration 26.725 new duration time 20.5\n",
      "CRBN old centroid time 16.470026191581777 new centroid time 10.91431143916478\n",
      "CRBN old duration 29.175 new duration time 23.55\n",
      "OBSR old centroid time 10.037128909588823 new centroid time 8.362081989993786\n",
      "OBSR old duration 18.85 new duration time 17.15\n",
      "OPCH old centroid time 13.816791313840316 new centroid time 9.026201315173353\n",
      "OPCH old duration 22.575 new duration time 17.75\n",
      "PANH old centroid time 8.92421026183926 new centroid time 7.586211990653624\n",
      "PANH old duration 17.35 new duration time 16.0\n",
      "PARA old centroid time 10.498511374470194 new centroid time 8.473102226034971\n",
      "PARA old duration 18.775 new duration time 16.7\n",
      "PR04 old centroid time 16.83261646028874 new centroid time 11.628645338110113\n",
      "PR04 old duration 31.025 new duration time 25.675\n",
      "PR05 old centroid time 13.57450962897728 new centroid time 10.097851959513237\n",
      "PR05 old duration 28.5 new duration time 25.075\n",
      "RUSH old centroid time 13.66691145724247 new centroid time 10.48785650498332\n",
      "RUSH old duration 23.375 new duration time 20.175\n",
      "SIFT old centroid time 14.108457310937247 new centroid time 9.749377122899062\n",
      "SIFT old duration 25.1 new duration time 20.775\n",
      "STYX old centroid time 19.12725769698407 new centroid time 34.108192723866196\n",
      "STYX old duration 32.6 new duration time 47.6\n",
      "VOIT old centroid time 15.081642092579889 new centroid time 10.908298023885148\n",
      "VOIT old duration 26.45 new duration time 22.325\n",
      "FMW old centroid time 12.25249789660499 new centroid time 10.264524432037183\n",
      "FMW old duration 24.25 new duration time 22.225\n",
      "LO2 old centroid time 10.935306463028319 new centroid time 7.202764821139842\n",
      "LO2 old duration 19.95 new duration time 16.1\n",
      "LON old centroid time 11.169494891816337 new centroid time 7.733645771784721\n",
      "LON old duration 19.9 new duration time 16.425\n",
      "RCM old centroid time 6.002306690952339 new centroid time 6.203621405964927\n",
      "RCM old duration 12.825 new duration time 13.025\n"
     ]
    },
    {
     "name": "stderr",
     "output_type": "stream",
     "text": [
      "/Users/marinedenolle/miniconda3/envs/seismo_exo/lib/python3.10/site-packages/obspy/signal/filter.py:62: UserWarning: Selected high corner frequency (20) of bandpass is at or above Nyquist (20.0). Applying a high-pass instead.\n",
      "  warnings.warn(msg)\n"
     ]
    },
    {
     "name": "stdout",
     "output_type": "stream",
     "text": [
      "OBSR old centroid time 16.36898519142976 new centroid time 16.07724831227727\n",
      "OBSR old duration 40.925 new duration time 40.625\n",
      "OPCH old centroid time 18.591179124583427 new centroid time 15.868937875142143\n",
      "OPCH old duration 38.1 new duration time 35.35\n",
      "PARA old centroid time 15.63011792802975 new centroid time 15.015665281296897\n",
      "PARA old duration 39.075 new duration time 38.45\n",
      "PR04 old centroid time 15.470883093855681 new centroid time 12.966629844779774\n",
      "PR04 old duration 33.975 new duration time 31.425\n",
      "PR05 old centroid time 14.040576232647819 new centroid time 12.178872701777278\n",
      "PR05 old duration 31.425 new duration time 29.55\n",
      "RUSH old centroid time 16.072907301060784 new centroid time 13.754641074020322\n",
      "RUSH old duration 37.7 new duration time 35.325\n",
      "SIFT old centroid time 15.405280855158699 new centroid time 13.57711617315023\n",
      "SIFT old duration 38.775 new duration time 36.875\n",
      "VOIT old centroid time 21.845767297968727 new centroid time 18.583969641896864\n",
      "VOIT old duration 86.675 new duration time 83.3\n",
      "FMW old centroid time 15.308409825726793 new centroid time 14.228144283726362\n",
      "FMW old duration 36.325 new duration time 35.2\n",
      "LON old centroid time 18.219491223543997 new centroid time 16.811537201665626\n",
      "LON old duration 42.125 new duration time 40.675\n",
      "RCM old centroid time 12.626109373798863 new centroid time 13.01861078760081\n",
      "RCM old duration 32.75 new duration time 33.2\n",
      "RER old centroid time 17.98352717602828 new centroid time 17.470500594507858\n",
      "RER old duration 43.675 new duration time 43.125\n"
     ]
    },
    {
     "name": "stderr",
     "output_type": "stream",
     "text": [
      "/Users/marinedenolle/miniconda3/envs/seismo_exo/lib/python3.10/site-packages/obspy/signal/filter.py:62: UserWarning: Selected high corner frequency (20) of bandpass is at or above Nyquist (20.0). Applying a high-pass instead.\n",
      "  warnings.warn(msg)\n"
     ]
    },
    {
     "name": "stdout",
     "output_type": "stream",
     "text": [
      "CARB old centroid time 31.998737779323942 new centroid time 46.96610979133942\n",
      "CARB old duration 59.525 new duration time 74.525\n",
      "OBSR old centroid time 13.261805883208334 new centroid time 13.16279532856077\n",
      "OBSR old duration 29.1 new duration time 29.0\n",
      "OPCH old centroid time 14.525299253902922 new centroid time 10.205673934398975\n",
      "OPCH old duration 29.475 new duration time 25.15\n",
      "PANH old centroid time 10.66205979085859 new centroid time 7.900829515802643\n",
      "PANH old duration 22.2 new duration time 19.375\n",
      "PARA old centroid time 12.119176595906964 new centroid time 9.528756773729848\n",
      "PARA old duration 27.175 new duration time 24.525\n",
      "PR04 old centroid time 16.536804455027237 new centroid time 12.116815081414957\n",
      "PR04 old duration 35.05 new duration time 30.475\n",
      "RUSH old centroid time 14.468931510966055 new centroid time 10.509431146879383\n",
      "RUSH old duration 32.45 new duration time 28.475\n",
      "SIFT old centroid time 12.63420696881011 new centroid time 8.702784509500553\n",
      "SIFT old duration 27.1 new duration time 23.025\n",
      "VOIT old centroid time 15.755969242624944 new centroid time 11.244840730194758\n",
      "VOIT old duration 28.8 new duration time 24.375\n",
      "FMW old centroid time 12.194810518125113 new centroid time 9.723800855001171\n",
      "FMW old duration 27.85 new duration time 25.325\n",
      "LON old centroid time 14.386333320106276 new centroid time 11.142758585899633\n",
      "LON old duration 31.925 new duration time 28.625\n",
      "RCM old centroid time 10.268442665726973 new centroid time 9.978922867856111\n",
      "RCM old duration 26.675 new duration time 26.375\n",
      "RER old centroid time 12.186431271542133 new centroid time 10.140623808362033\n",
      "RER old duration 28.55 new duration time 26.425\n",
      "WPEQ old centroid time 17.959636879360417 new centroid time 10.065568358908571\n",
      "WPEQ old duration 32.275 new duration time 24.325\n"
     ]
    },
    {
     "name": "stderr",
     "output_type": "stream",
     "text": [
      "/Users/marinedenolle/miniconda3/envs/seismo_exo/lib/python3.10/site-packages/obspy/signal/filter.py:62: UserWarning: Selected high corner frequency (20) of bandpass is at or above Nyquist (20.0). Applying a high-pass instead.\n",
      "  warnings.warn(msg)\n"
     ]
    },
    {
     "name": "stdout",
     "output_type": "stream",
     "text": [
      "CARB old centroid time 27.535664220013135 new centroid time 24.025019231947873\n",
      "CARB old duration 48.175 new duration time 44.75\n",
      "CRBN old centroid time 25.533190847561627 new centroid time 18.955371460120606\n",
      "CRBN old duration 48.975 new duration time 42.075\n",
      "OBSR old centroid time 22.38215710172289 new centroid time 22.185908302806578\n",
      "OBSR old duration 46.0 new duration time 45.8\n",
      "OPCH old centroid time 24.70546259303691 new centroid time 21.03991674412143\n",
      "OPCH old duration 47.3 new duration time 43.575\n",
      "PANH old centroid time 20.27641804589734 new centroid time 19.330778421854063\n",
      "PANH old duration 39.075 new duration time 38.125\n",
      "PARA old centroid time 21.439546454082596 new centroid time 20.387145513105892\n",
      "PARA old duration 42.8 new duration time 41.725\n",
      "PR04 old centroid time 23.126160697584876 new centroid time 21.015077255083504\n",
      "PR04 old duration 42.85 new duration time 40.75\n",
      "PR05 old centroid time 22.181299073614962 new centroid time 20.44306036105055\n",
      "PR05 old duration 45.975 new duration time 44.225\n",
      "RUSH old centroid time 24.87311402017972 new centroid time 23.461417583140022\n",
      "RUSH old duration 45.825 new duration time 44.4\n",
      "SIFT old centroid time 21.55590942676349 new centroid time 19.639018643815472\n",
      "SIFT old duration 41.925 new duration time 40.0\n",
      "VOIT old centroid time 25.212195237675065 new centroid time 22.466782553996172\n",
      "VOIT old duration 47.0 new duration time 44.225\n",
      "FMW old centroid time 24.637944713033654 new centroid time 23.3407144916344\n",
      "FMW old duration 53.225 new duration time 51.9\n",
      "LON old centroid time 22.072316787141734 new centroid time 20.4885630358286\n",
      "LON old duration 42.6 new duration time 40.975\n",
      "RCM old centroid time 19.402910511471728 new centroid time 19.24327788991782\n",
      "RCM old duration 40.175 new duration time 40.0\n",
      "RER old centroid time 19.482239422066428 new centroid time 18.814319814705943\n",
      "RER old duration 39.55 new duration time 38.85\n"
     ]
    },
    {
     "name": "stderr",
     "output_type": "stream",
     "text": [
      "/Users/marinedenolle/miniconda3/envs/seismo_exo/lib/python3.10/site-packages/obspy/signal/filter.py:62: UserWarning: Selected high corner frequency (20) of bandpass is at or above Nyquist (20.0). Applying a high-pass instead.\n",
      "  warnings.warn(msg)\n"
     ]
    },
    {
     "name": "stdout",
     "output_type": "stream",
     "text": [
      "OBSR old centroid time 9.80176798508115 new centroid time 7.966721287847973\n",
      "OBSR old duration 17.925 new duration time 16.075\n",
      "OPCH old centroid time 14.10726914988665 new centroid time 10.401286339910992\n",
      "OPCH old duration 24.125 new duration time 20.5\n",
      "PANH old centroid time 9.621939042226288 new centroid time 8.075731752787433\n",
      "PANH old duration 17.675 new duration time 16.1\n",
      "PARA old centroid time 9.83905580254307 new centroid time 8.681910123164853\n",
      "PARA old duration 19.925 new duration time 18.75\n",
      "RUSH old centroid time 13.573521764124633 new centroid time 10.31465380423364\n",
      "RUSH old duration 24.95 new duration time 21.65\n",
      "SIFT old centroid time 12.743649349402212 new centroid time 9.10597179255894\n",
      "SIFT old duration 21.725 new duration time 17.95\n",
      "VOIT old centroid time 15.892610904345798 new centroid time 30.916922928871486\n",
      "VOIT old duration 27.225 new duration time 42.225\n",
      "FMW old centroid time 10.650773594059107 new centroid time 8.342695000134372\n",
      "FMW old duration 19.85 new duration time 17.525\n",
      "LO2 old centroid time 19.029809283515725 new centroid time 17.007204119108557\n",
      "LO2 old duration 81.075 new duration time 79.0\n",
      "LON old centroid time 19.36660947959574 new centroid time 17.37827056522151\n",
      "LON old duration 80.95 new duration time 78.925\n",
      "RCM old centroid time 4.78214115770906 new centroid time 4.555780629420553\n",
      "RCM old duration 10.475 new duration time 10.225\n",
      "RER old centroid time 29.576622362079778 new centroid time 28.435300738108882\n",
      "RER old duration 87.25 new duration time 86.0\n"
     ]
    },
    {
     "name": "stderr",
     "output_type": "stream",
     "text": [
      "/Users/marinedenolle/miniconda3/envs/seismo_exo/lib/python3.10/site-packages/obspy/signal/filter.py:62: UserWarning: Selected high corner frequency (20) of bandpass is at or above Nyquist (20.0). Applying a high-pass instead.\n",
      "  warnings.warn(msg)\n"
     ]
    },
    {
     "name": "stdout",
     "output_type": "stream",
     "text": [
      "OBSR old centroid time 76.65317726072124 new centroid time 75.40349152311613\n",
      "OBSR old duration 122.875 new duration time 121.425\n",
      "PANH old centroid time 8.351841377280971 new centroid time 7.080775243856611\n",
      "PANH old duration 17.15 new duration time 15.8\n",
      "PARA old centroid time 40.19770315260166 new centroid time 39.67622381184913\n",
      "PARA old duration 124.85 new duration time 124.2\n",
      "RUSH old centroid time 59.637774884888344 new centroid time 57.816755871213466\n",
      "RUSH old duration 128.475 new duration time 126.55\n",
      "SIFT old centroid time 48.35519324229936 new centroid time 47.48685113319137\n",
      "SIFT old duration 128.9 new duration time 128.025\n",
      "FMW old centroid time 32.6910108802387 new centroid time 32.62469205886213\n",
      "FMW old duration 121.625 new duration time 121.55\n",
      "RCM old centroid time 10.472367027341953 new centroid time 11.516410957798362\n",
      "RCM old duration 77.875 new duration time 79.15\n",
      "RER old centroid time 42.94836321538491 new centroid time 41.96671770015436\n",
      "RER old duration 118.1 new duration time 116.65\n"
     ]
    },
    {
     "name": "stderr",
     "output_type": "stream",
     "text": [
      "/Users/marinedenolle/miniconda3/envs/seismo_exo/lib/python3.10/site-packages/obspy/signal/filter.py:62: UserWarning: Selected high corner frequency (20) of bandpass is at or above Nyquist (20.0). Applying a high-pass instead.\n",
      "  warnings.warn(msg)\n"
     ]
    },
    {
     "name": "stdout",
     "output_type": "stream",
     "text": [
      "OBSR old centroid time 6.141484638606634 new centroid time 5.029460517947186\n",
      "OBSR old duration 11.9 new duration time 10.775\n",
      "PANH old centroid time 4.547126092372691 new centroid time 3.7366714299458215\n",
      "PANH old duration 9.4 new duration time 8.55\n",
      "PARA old centroid time 7.037370024382243 new centroid time 6.270244982742753\n",
      "PARA old duration 15.45 new duration time 14.675\n",
      "FMW old centroid time -54.045819206573576 new centroid time -54.25071783668589\n",
      "FMW old duration 74.6 new duration time 73.25\n",
      "RCM old centroid time 3.489414405612568 new centroid time 3.5123208192059097\n",
      "RCM old duration 7.525 new duration time 7.55\n",
      "RER old centroid time 4.507758406262994 new centroid time 3.3415011589149195\n",
      "RER old duration 9.1 new duration time 7.9\n"
     ]
    },
    {
     "name": "stderr",
     "output_type": "stream",
     "text": [
      "/Users/marinedenolle/miniconda3/envs/seismo_exo/lib/python3.10/site-packages/obspy/signal/filter.py:62: UserWarning: Selected high corner frequency (20) of bandpass is at or above Nyquist (20.0). Applying a high-pass instead.\n",
      "  warnings.warn(msg)\n"
     ]
    },
    {
     "name": "stdout",
     "output_type": "stream",
     "text": [
      "OBSR old centroid time 11.427661884931053 new centroid time 9.004440980231955\n",
      "OBSR old duration 21.0 new duration time 18.575\n",
      "PANH old centroid time 9.350352876372916 new centroid time 6.804002623330634\n",
      "PANH old duration 17.05 new duration time 14.55\n",
      "PARA old centroid time 11.709535120071305 new centroid time 8.727965013397364\n",
      "PARA old duration 20.225 new duration time 17.2\n",
      "RUSH old centroid time 14.716933929177827 new centroid time 11.838868182100404\n",
      "RUSH old duration 24.7 new duration time 21.825\n",
      "SIFT old centroid time 15.95429910543289 new centroid time 13.212012272767302\n",
      "SIFT old duration 25.9 new duration time 23.175\n",
      "VOIT old centroid time 14.529902170267311 new centroid time 29.548160029789724\n",
      "VOIT old duration 24.2 new duration time 39.2\n",
      "FMW old centroid time 12.419974260857998 new centroid time 10.27299348498397\n",
      "FMW old duration 24.4 new duration time 22.25\n",
      "RCM old centroid time 6.512073014836472 new centroid time 6.02104742862058\n",
      "RCM old duration 13.45 new duration time 12.95\n",
      "RER old centroid time 10.983368446296803 new centroid time 7.9724204175730184\n",
      "RER old duration 24.0 new duration time 20.85\n"
     ]
    },
    {
     "name": "stderr",
     "output_type": "stream",
     "text": [
      "/Users/marinedenolle/miniconda3/envs/seismo_exo/lib/python3.10/site-packages/obspy/signal/filter.py:62: UserWarning: Selected high corner frequency (20) of bandpass is at or above Nyquist (20.0). Applying a high-pass instead.\n",
      "  warnings.warn(msg)\n"
     ]
    },
    {
     "name": "stdout",
     "output_type": "stream",
     "text": [
      "PR04 old centroid time 44.78974455876268 new centroid time 23.592266466800684\n",
      "PR04 old duration 64.425 new duration time 42.35\n",
      "PR05 old centroid time 44.159123534743095 new centroid time 22.966558156498316\n",
      "PR05 old duration 61.925 new duration time 40.9\n",
      "RUSH old centroid time 44.71787464569536 new centroid time 23.142990424535306\n",
      "RUSH old duration 70.825 new duration time 48.6\n",
      "SIFT old centroid time 46.388971452314706 new centroid time 25.83714337267158\n",
      "SIFT old duration 66.25 new duration time 45.025\n",
      "STYX old centroid time 51.504191394097234 new centroid time 28.864667940961255\n",
      "STYX old duration 75.425 new duration time 52.775\n",
      "VOIT old centroid time 48.883872323052806 new centroid time 26.922149091312694\n",
      "VOIT old duration 68.45 new duration time 47.025\n",
      "FMW old centroid time 36.45074814814969 new centroid time 51.46732978539007\n",
      "FMW old duration 120.825 new duration time 135.825\n",
      "PUPY old centroid time 34.98595177776491 new centroid time 21.110480759271013\n",
      "PUPY old duration 59.225 new duration time 44.7\n",
      "WPEQ old centroid time 57.97636377920396 new centroid time 41.57130098783844\n",
      "WPEQ old duration 117.45 new duration time 101.5\n"
     ]
    },
    {
     "name": "stderr",
     "output_type": "stream",
     "text": [
      "/Users/marinedenolle/miniconda3/envs/seismo_exo/lib/python3.10/site-packages/obspy/signal/filter.py:62: UserWarning: Selected high corner frequency (20) of bandpass is at or above Nyquist (20.0). Applying a high-pass instead.\n",
      "  warnings.warn(msg)\n"
     ]
    },
    {
     "name": "stdout",
     "output_type": "stream",
     "text": [
      "OBSR old centroid time 9.375801183838325 new centroid time 7.494190953339647\n",
      "OBSR old duration 15.55 new duration time 13.625\n",
      "PANH old centroid time 6.422919176670621 new centroid time 1.719839703465045\n",
      "PANH old duration 115.3 new duration time 110.45\n",
      "PARA old centroid time 9.801954593384227 new centroid time 4.833219904320061\n",
      "PARA old duration 16.475 new duration time 11.3\n",
      "SIFT old centroid time 268.9696348498758 new centroid time 256.0190517978181\n",
      "SIFT old duration 126.075 new duration time 121.05\n",
      "FMW old centroid time 10.026037788139854 new centroid time 4.89632603743167\n",
      "FMW old duration 17.95 new duration time 12.625\n",
      "RCM old centroid time 16.006506933507005 new centroid time 15.628182634249498\n",
      "RCM old duration 112.175 new duration time 111.75\n",
      "RER old centroid time 6.839262744881125 new centroid time 3.2468111145350487\n",
      "RER old duration 9.95 new duration time 6.225\n"
     ]
    },
    {
     "name": "stderr",
     "output_type": "stream",
     "text": [
      "/Users/marinedenolle/miniconda3/envs/seismo_exo/lib/python3.10/site-packages/obspy/signal/filter.py:62: UserWarning: Selected high corner frequency (20) of bandpass is at or above Nyquist (20.0). Applying a high-pass instead.\n",
      "  warnings.warn(msg)\n"
     ]
    },
    {
     "name": "stdout",
     "output_type": "stream",
     "text": [
      "PANH old centroid time 75.71547556662047 new centroid time 5.3818932655401195\n",
      "PANH old duration 83.9 new duration time 12.35\n",
      "RCM old centroid time 75.9706828855919 new centroid time 4.246900840487749\n",
      "RCM old duration 81.625 new duration time 10.475\n",
      "RCS old centroid time 70.68666870457311 new centroid time 15.832994739121832\n",
      "RCS old duration 76.7 new duration time 20.675\n",
      "RER old centroid time 85.0329230053374 new centroid time 3.7417914635262486\n",
      "RER old duration 94.1 new duration time 9.0\n"
     ]
    },
    {
     "name": "stderr",
     "output_type": "stream",
     "text": [
      "/Users/marinedenolle/miniconda3/envs/seismo_exo/lib/python3.10/site-packages/obspy/signal/filter.py:62: UserWarning: Selected high corner frequency (20) of bandpass is at or above Nyquist (20.0). Applying a high-pass instead.\n",
      "  warnings.warn(msg)\n"
     ]
    },
    {
     "name": "stdout",
     "output_type": "stream",
     "text": [
      "OBSR old centroid time 8.246777664706165 new centroid time 7.085993348922492\n",
      "OBSR old duration 15.125 new duration time 13.95\n",
      "PANH old centroid time 9.316679845527569 new centroid time 7.774176753310422\n",
      "PANH old duration 20.65 new duration time 19.075\n",
      "PARA old centroid time 10.721479240145367 new centroid time 8.93032639632565\n",
      "PARA old duration 33.85 new duration time 31.925\n",
      "PR04 old centroid time 11.146693561252784 new centroid time 6.92377215271901\n",
      "PR04 old duration 21.225 new duration time 17.0\n",
      "PR05 old centroid time 9.767421358499712 new centroid time 6.369135655029429\n",
      "PR05 old duration 21.05 new duration time 17.7\n",
      "RUSH old centroid time 10.867478861866303 new centroid time 7.639405596318294\n",
      "RUSH old duration 21.675 new duration time 18.35\n",
      "SIFT old centroid time 10.676155891794622 new centroid time 7.325833468863942\n",
      "SIFT old duration 21.025 new duration time 17.625\n",
      "FMW old centroid time 9.683890414769019 new centroid time 6.220633345299804\n",
      "FMW old duration 17.225 new duration time 13.625\n",
      "LO2 old centroid time 9.583383771793233 new centroid time 6.805536887120725\n",
      "LO2 old duration 19.05 new duration time 16.25\n",
      "LON old centroid time 9.266128671438597 new centroid time 6.500115095348311\n",
      "LON old duration 17.775 new duration time 14.975\n",
      "RCM old centroid time 13.836003919508398 new centroid time 13.525068309952054\n",
      "RCM old duration 31.1 new duration time 30.775\n",
      "RCS old centroid time 11.608975145067237 new centroid time 10.243688948461097\n",
      "RCS old duration 34.2 new duration time 32.8\n",
      "RER old centroid time 5.4206900331658 new centroid time 4.568343747116251\n",
      "RER old duration 10.125 new duration time 9.25\n",
      "RER old centroid time 5.3888183216888175 new centroid time 4.568343747116251\n",
      "RER old duration 10.1 new duration time 9.25\n"
     ]
    },
    {
     "name": "stderr",
     "output_type": "stream",
     "text": [
      "/Users/marinedenolle/miniconda3/envs/seismo_exo/lib/python3.10/site-packages/obspy/signal/filter.py:62: UserWarning: Selected high corner frequency (20) of bandpass is at or above Nyquist (20.0). Applying a high-pass instead.\n",
      "  warnings.warn(msg)\n"
     ]
    },
    {
     "name": "stdout",
     "output_type": "stream",
     "text": [
      "CRBN old centroid time 78.65349411493105 new centroid time 78.6244810035533\n",
      "CRBN old duration 134.625 new duration time 129.3\n",
      "OBSR old centroid time 10.436068324967788 new centroid time 8.669819176773382\n",
      "OBSR old duration 16.55 new duration time 14.775\n",
      "OPCH old centroid time 12.840793296803188 new centroid time 5.6511934046188115\n",
      "OPCH old duration 20.1 new duration time 12.8\n",
      "PANH old centroid time 18.38512817025418 new centroid time 15.45377319544235\n",
      "PANH old duration 79.025 new duration time 75.975\n",
      "PARA old centroid time 10.634567307674638 new centroid time 8.636536417334838\n",
      "PARA old duration 19.55 new duration time 17.475\n",
      "RUSH old centroid time 11.688167867416778 new centroid time 5.154021713754964\n",
      "RUSH old duration 19.45 new duration time 12.75\n",
      "SIFT old centroid time 11.56558270018661 new centroid time 5.175429615696871\n",
      "SIFT old duration 20.3 new duration time 13.7\n",
      "RCM old centroid time 10.59842695260331 new centroid time 8.675671911361325\n",
      "RCM old duration 71.875 new duration time 69.95\n",
      "RCS old centroid time 6.484639319367909 new centroid time 6.826417613744352\n",
      "RCS old duration 10.75 new duration time 11.1\n",
      "RER old centroid time 8.940058252993785 new centroid time 6.000182539422821\n",
      "RER old duration 16.0 new duration time 13.0\n",
      "RER old centroid time 9.067866861214018 new centroid time 6.000182539422821\n",
      "RER old duration 16.25 new duration time 13.0\n"
     ]
    },
    {
     "name": "stderr",
     "output_type": "stream",
     "text": [
      "/Users/marinedenolle/miniconda3/envs/seismo_exo/lib/python3.10/site-packages/obspy/signal/filter.py:62: UserWarning: Selected high corner frequency (20) of bandpass is at or above Nyquist (20.0). Applying a high-pass instead.\n",
      "  warnings.warn(msg)\n"
     ]
    },
    {
     "name": "stdout",
     "output_type": "stream",
     "text": [
      "ARAT old centroid time 12.693327702442891 new centroid time 8.385629488395324\n",
      "ARAT old duration 23.075 new duration time 18.475\n",
      "OBSR old centroid time 12.382699815889366 new centroid time 12.101597986838371\n",
      "OBSR old duration 23.3 new duration time 23.0\n",
      "PANH old centroid time 12.052154599139714 new centroid time 11.30177709513677\n",
      "PANH old duration 22.775 new duration time 22.0\n",
      "PARA old centroid time 12.753296922333853 new centroid time 9.00493216665739\n",
      "PARA old duration 25.725 new duration time 21.675\n",
      "PR04 old centroid time 13.626405100513342 new centroid time 7.3116149442524145\n",
      "PR04 old duration 24.45 new duration time 17.75\n",
      "PR05 old centroid time 13.177935084927489 new centroid time 9.34672583123656\n",
      "PR05 old duration 23.55 new duration time 19.4\n",
      "RUSH old centroid time 13.719319131914927 new centroid time 8.059502351675002\n",
      "RUSH old duration 26.1 new duration time 19.8\n",
      "SIFT old centroid time 13.183761058111607 new centroid time 8.884059879320395\n",
      "SIFT old duration 24.1 new duration time 19.55\n",
      "FMW old centroid time 11.839175657937496 new centroid time 11.34939086132267\n",
      "FMW old duration 22.75 new duration time 22.25\n",
      "LON old centroid time 12.222525347882968 new centroid time 7.118315286838126\n",
      "LON old duration 20.475 new duration time 15.125\n",
      "RCM old centroid time 11.206360478922713 new centroid time 12.75738322788382\n",
      "RCM old duration 20.925 new duration time 22.575\n",
      "RCS old centroid time 8.546842726908498 new centroid time 9.317752485045762\n",
      "RCS old duration 17.35 new duration time 18.175\n",
      "RER old centroid time 10.83415975809065 new centroid time 26.012096705282584\n",
      "RER old duration 19.175 new duration time 34.175\n",
      "RER old centroid time 10.923388341976937 new centroid time 26.012096705282584\n",
      "RER old duration 19.375 new duration time 34.175\n",
      "STAR old centroid time 10.792475515686967 new centroid time 10.273108535356872\n",
      "STAR old duration 21.0 new duration time 20.45\n"
     ]
    },
    {
     "name": "stderr",
     "output_type": "stream",
     "text": [
      "/Users/marinedenolle/miniconda3/envs/seismo_exo/lib/python3.10/site-packages/obspy/signal/filter.py:62: UserWarning: Selected high corner frequency (20) of bandpass is at or above Nyquist (20.0). Applying a high-pass instead.\n",
      "  warnings.warn(msg)\n"
     ]
    },
    {
     "name": "stdout",
     "output_type": "stream",
     "text": [
      "ARAT old centroid time 11.747101693336747 new centroid time 8.20339317266393\n",
      "ARAT old duration 19.3 new duration time 15.7\n",
      "CARB old centroid time 41.09976843265085 new centroid time 56.13278059673191\n",
      "CARB old duration 68.95 new duration time 83.95\n",
      "CRBN old centroid time 48.30927133859473 new centroid time 63.30889361805313\n",
      "CRBN old duration 83.3 new duration time 98.3\n",
      "OBSR old centroid time 9.843970534925688 new centroid time 7.880325086431926\n",
      "OBSR old duration 17.275 new duration time 15.275\n",
      "PANH old centroid time 9.011652174413776 new centroid time 6.461325571960262\n",
      "PANH old duration 17.575 new duration time 14.975\n",
      "PARA old centroid time 12.43026950381966 new centroid time 9.797776766888735\n",
      "PARA old duration 22.875 new duration time 20.125\n",
      "PR04 old centroid time 36.31757412485615 new centroid time 31.501667358757047\n",
      "PR04 old duration 64.475 new duration time 59.45\n",
      "RUSH old centroid time 36.37534703371915 new centroid time 32.06788570418592\n",
      "RUSH old duration 77.0 new duration time 72.7\n",
      "SIFT old centroid time 14.432219405694381 new centroid time 10.267856538394845\n",
      "SIFT old duration 30.675 new duration time 26.35\n",
      "FMW old centroid time 11.358243483844317 new centroid time 8.270600371291188\n",
      "FMW old duration 24.75 new duration time 21.6\n",
      "RCM old centroid time 7.9648878043489395 new centroid time 7.512378338433463\n",
      "RCM old duration 18.025 new duration time 17.55\n",
      "RCS old centroid time 5.819842157870112 new centroid time 6.370197004049171\n",
      "RCS old duration 14.975 new duration time 15.575\n",
      "RER old centroid time 31.04692376064141 new centroid time 29.064096747320306\n",
      "RER old duration 94.725 new duration time 92.6\n",
      "RER old centroid time 24.389015441733775 new centroid time 29.064096747320306\n",
      "RER old duration 93.95 new duration time 92.6\n",
      "STAR old centroid time 7.608195017371509 new centroid time 6.616071405945032\n",
      "STAR old duration 13.3 new duration time 12.3\n"
     ]
    },
    {
     "name": "stderr",
     "output_type": "stream",
     "text": [
      "/Users/marinedenolle/miniconda3/envs/seismo_exo/lib/python3.10/site-packages/obspy/signal/filter.py:62: UserWarning: Selected high corner frequency (20) of bandpass is at or above Nyquist (20.0). Applying a high-pass instead.\n",
      "  warnings.warn(msg)\n"
     ]
    },
    {
     "name": "stdout",
     "output_type": "stream",
     "text": [
      "ARAT old centroid time 12.143451075340641 new centroid time 9.58345332067461\n",
      "ARAT old duration 19.875 new duration time 17.325\n",
      "OBSR old centroid time 10.558746575320246 new centroid time 8.195312038897324\n",
      "OBSR old duration 19.325 new duration time 17.0\n",
      "PANH old centroid time 9.816345126416733 new centroid time 6.815188142732179\n",
      "PANH old duration 16.575 new duration time 13.625\n",
      "RUSH old centroid time 15.069737007154318 new centroid time 11.088374616758848\n",
      "RUSH old duration 27.425 new duration time 23.4\n",
      "VOIT old centroid time 13.600697657274033 new centroid time 6.691195046676966\n",
      "VOIT old duration 21.525 new duration time 14.85\n",
      "FMW old centroid time 12.187001715568645 new centroid time 9.696511475062744\n",
      "FMW old duration 24.325 new duration time 21.9\n",
      "LON old centroid time 60.63998241167059 new centroid time 57.276218157550524\n",
      "LON old duration 132.575 new duration time 129.325\n",
      "RCM old centroid time 6.41378017016301 new centroid time 5.918355367224775\n",
      "RCM old duration 11.9 new duration time 11.4\n",
      "RCS old centroid time 4.886403601495007 new centroid time 4.788238025833671\n",
      "RCS old duration 9.675 new duration time 9.575\n",
      "RER old centroid time 19.08164836193924 new centroid time 16.995317132221913\n",
      "RER old duration 124.85 new duration time 122.7\n",
      "RER old centroid time 10.633471934952208 new centroid time 16.995317132221913\n",
      "RER old duration 17.875 new duration time 122.7\n",
      "STAR old centroid time 8.161708789774053 new centroid time 6.593114566737969\n",
      "STAR old duration 13.625 new duration time 12.05\n",
      "STAR old centroid time 8.035079028545766 new centroid time 6.593114566737969\n",
      "STAR old duration 13.35 new duration time 12.05\n"
     ]
    },
    {
     "name": "stderr",
     "output_type": "stream",
     "text": [
      "/Users/marinedenolle/miniconda3/envs/seismo_exo/lib/python3.10/site-packages/obspy/signal/filter.py:62: UserWarning: Selected high corner frequency (20) of bandpass is at or above Nyquist (20.0). Applying a high-pass instead.\n",
      "  warnings.warn(msg)\n"
     ]
    },
    {
     "name": "stdout",
     "output_type": "stream",
     "text": [
      "ARAT old centroid time 12.985383011422956 new centroid time 8.774161656785633\n",
      "ARAT old duration 22.625 new duration time 18.425\n",
      "OBSR old centroid time 12.635427241305083 new centroid time 9.703054808335272\n",
      "OBSR old duration 22.8 new duration time 19.85\n",
      "PANH old centroid time 11.280866948108066 new centroid time 7.684927005330887\n",
      "PANH old duration 19.5 new duration time 15.85\n",
      "PARA old centroid time 11.832176948174341 new centroid time 7.488479113268865\n",
      "PARA old duration 20.825 new duration time 16.4\n",
      "FMW old centroid time 12.483552765654634 new centroid time 7.38519339671003\n",
      "FMW old duration 24.075 new duration time 18.725\n",
      "RCM old centroid time 5.063249592151274 new centroid time 5.394718098351251\n",
      "RCM old duration 7.95 new duration time 8.3\n",
      "RCS old centroid time 8.107259443814248 new centroid time 6.526264294397571\n",
      "RCS old duration 14.725 new duration time 13.1\n",
      "RER old centroid time 9.197986755363134 new centroid time 6.93877361810388\n",
      "RER old duration 16.175 new duration time 13.85\n",
      "RER old centroid time 9.634846968339438 new centroid time 6.93877361810388\n",
      "RER old duration 16.15 new duration time 13.85\n",
      "STAR old centroid time 7.833263021271035 new centroid time 10.613917116720287\n",
      "STAR old duration 13.825 new duration time 16.875\n"
     ]
    },
    {
     "name": "stderr",
     "output_type": "stream",
     "text": [
      "/Users/marinedenolle/miniconda3/envs/seismo_exo/lib/python3.10/site-packages/obspy/signal/filter.py:62: UserWarning: Selected high corner frequency (20) of bandpass is at or above Nyquist (20.0). Applying a high-pass instead.\n",
      "  warnings.warn(msg)\n"
     ]
    },
    {
     "name": "stdout",
     "output_type": "stream",
     "text": [
      "KAUT old centroid time 276.6171190379935 new centroid time 290.8981793995105\n",
      "KAUT old duration 122.525 new duration time 137.525\n",
      "OBSR old centroid time 10.533182210045771 new centroid time 8.527356177241955\n",
      "OBSR old duration 18.85 new duration time 16.825\n",
      "PANH old centroid time 15.037336300477778 new centroid time 13.104507073068916\n",
      "PANH old duration 86.825 new duration time 84.85\n",
      "FMW old centroid time 10.600778346616478 new centroid time 8.744386574471314\n",
      "FMW old duration 19.6 new duration time 17.75\n",
      "RCM old centroid time 7.850193522719944 new centroid time 6.682530332233652\n",
      "RCM old duration 14.775 new duration time 13.625\n",
      "RCS old centroid time 5.714855753725639 new centroid time 5.284590423084777\n",
      "RCS old duration 85.175 new duration time 84.7\n",
      "RER old centroid time 9.109589091366653 new centroid time 7.025936307920349\n",
      "RER old duration 18.3 new duration time 16.1\n",
      "STAR old centroid time 8.469722190541844 new centroid time 5.6696345731693665\n",
      "STAR old duration 17.6 new duration time 14.725\n"
     ]
    },
    {
     "name": "stderr",
     "output_type": "stream",
     "text": [
      "/Users/marinedenolle/miniconda3/envs/seismo_exo/lib/python3.10/site-packages/obspy/signal/filter.py:62: UserWarning: Selected high corner frequency (20) of bandpass is at or above Nyquist (20.0). Applying a high-pass instead.\n",
      "  warnings.warn(msg)\n"
     ]
    },
    {
     "name": "stdout",
     "output_type": "stream",
     "text": [
      "ARAT old centroid time 8.656035764571369 new centroid time 6.90838538593363\n",
      "ARAT old duration 16.5 new duration time 14.675\n",
      "OBSR old centroid time 14.673300062877736 new centroid time 19.258103383985762\n",
      "OBSR old duration 90.2 new duration time 95.075\n",
      "PANH old centroid time 9.264453712250015 new centroid time 8.376508702602344\n",
      "PANH old duration 18.35 new duration time 17.45\n",
      "FMW old centroid time 8.462732449571984 new centroid time 6.481902201136117\n",
      "FMW old duration 16.1 new duration time 14.075\n",
      "RCM old centroid time 3.592952958259861 new centroid time 4.068434853719487\n",
      "RCM old duration 9.175 new duration time 9.75\n",
      "RCS old centroid time 6.127264006279153 new centroid time 6.19571073403762\n",
      "RCS old duration 90.15 new duration time 90.225\n",
      "RER old centroid time 5.386668855875686 new centroid time 4.593091402563685\n",
      "RER old duration 88.225 new duration time 87.425\n",
      "STAR old centroid time 4.120862199698056 new centroid time 3.914699707626286\n",
      "STAR old duration 7.975 new duration time 7.75\n"
     ]
    },
    {
     "name": "stderr",
     "output_type": "stream",
     "text": [
      "/Users/marinedenolle/miniconda3/envs/seismo_exo/lib/python3.10/site-packages/obspy/signal/filter.py:62: UserWarning: Selected high corner frequency (20) of bandpass is at or above Nyquist (20.0). Applying a high-pass instead.\n",
      "  warnings.warn(msg)\n"
     ]
    },
    {
     "name": "stdout",
     "output_type": "stream",
     "text": [
      "ARAT old centroid time 16.76007763663723 new centroid time 15.858088479915018\n",
      "ARAT old duration 46.1 new duration time 45.175\n",
      "OBSR old centroid time 22.522760421129345 new centroid time 21.750004862350984\n",
      "OBSR old duration 55.1 new duration time 54.3\n",
      "PANH old centroid time 18.49873235817768 new centroid time 17.401417540549385\n",
      "PANH old duration 48.0 new duration time 46.825\n",
      "PARA old centroid time 20.79288238389983 new centroid time 20.276718903629153\n",
      "PARA old duration 52.325 new duration time 51.775\n",
      "RUSH old centroid time 20.541448270042334 new centroid time 18.395141207204546\n",
      "RUSH old duration 56.325 new duration time 54.175\n",
      "FMW old centroid time 19.361940306705154 new centroid time 17.546813628962063\n",
      "FMW old duration 48.65 new duration time 46.725\n",
      "RER old centroid time 19.110546625581353 new centroid time 18.82521075506229\n",
      "RER old duration 48.0 new duration time 47.7\n"
     ]
    },
    {
     "name": "stderr",
     "output_type": "stream",
     "text": [
      "/Users/marinedenolle/miniconda3/envs/seismo_exo/lib/python3.10/site-packages/obspy/signal/filter.py:62: UserWarning: Selected high corner frequency (20) of bandpass is at or above Nyquist (20.0). Applying a high-pass instead.\n",
      "  warnings.warn(msg)\n"
     ]
    },
    {
     "name": "stdout",
     "output_type": "stream",
     "text": [
      "ARAT old centroid time 20.977789744524408 new centroid time 18.990284033883455\n",
      "ARAT old duration 56.3 new duration time 54.3\n",
      "CARB old centroid time 32.76269252498277 new centroid time 26.588232379669407\n",
      "CARB old duration 98.925 new duration time 92.875\n",
      "OBSR old centroid time 44.365732770748345 new centroid time 42.51211767153997\n",
      "OBSR old duration 120.725 new duration time 118.85\n",
      "OPCH old centroid time 20.343236408207463 new centroid time 16.236072284809822\n",
      "OPCH old duration 47.2 new duration time 43.1\n",
      "PANH old centroid time 22.260454684532835 new centroid time 20.100156971348824\n",
      "PANH old duration 56.3 new duration time 54.125\n",
      "PARA old centroid time 19.568458850045836 new centroid time 17.75861560291483\n",
      "PARA old duration 51.825 new duration time 50.0\n",
      "PR04 old centroid time 28.81146217078492 new centroid time 23.98066592752733\n",
      "PR04 old duration 66.95 new duration time 62.1\n",
      "PR05 old centroid time 26.856262991635464 new centroid time 24.060476798273708\n",
      "PR05 old duration 67.875 new duration time 65.0\n",
      "RUSH old centroid time 27.260340765614576 new centroid time 24.17044763204041\n",
      "RUSH old duration 70.475 new duration time 67.375\n",
      "SIFT old centroid time 21.47495760041904 new centroid time 18.618765913764193\n",
      "SIFT old duration 50.8 new duration time 47.925\n",
      "STYX old centroid time 28.771979082577996 new centroid time 21.039677395606045\n",
      "STYX old duration 60.125 new duration time 52.7\n",
      "VOIT old centroid time 24.228978365461906 new centroid time 19.98880246930738\n",
      "VOIT old duration 58.1 new duration time 53.85\n",
      "FMW old centroid time 30.096872343162232 new centroid time 27.290837008350387\n",
      "FMW old duration 80.8 new duration time 77.975\n",
      "LON old centroid time 20.480644768135935 new centroid time 17.996761846121945\n",
      "LON old duration 51.1 new duration time 48.625\n",
      "RCM old centroid time 24.412480708202512 new centroid time 23.549748674140798\n",
      "RCM old duration 67.5 new duration time 66.625\n",
      "RCS old centroid time 25.225032506736394 new centroid time 23.981671168054486\n",
      "RCS old duration 69.125 new duration time 67.875\n",
      "RER old centroid time 25.521211322677637 new centroid time 23.69009748748017\n",
      "RER old duration 67.15 new duration time 65.3\n",
      "RER old centroid time 24.36260020769311 new centroid time 23.69009748748017\n",
      "RER old duration 65.55 new duration time 65.3\n",
      "STAR old centroid time 13.816016027260986 new centroid time 28.80655786156607\n",
      "STAR old duration 37.3 new duration time 52.3\n",
      "STAR old centroid time 12.8355529283658 new centroid time 28.80655786156607\n",
      "STAR old duration 35.45 new duration time 52.3\n",
      "WPEQ old centroid time 28.689456726619415 new centroid time 21.01028636989173\n",
      "WPEQ old duration 65.875 new duration time 58.2\n"
     ]
    },
    {
     "name": "stderr",
     "output_type": "stream",
     "text": [
      "/Users/marinedenolle/miniconda3/envs/seismo_exo/lib/python3.10/site-packages/obspy/signal/filter.py:62: UserWarning: Selected high corner frequency (20) of bandpass is at or above Nyquist (20.0). Applying a high-pass instead.\n",
      "  warnings.warn(msg)\n"
     ]
    },
    {
     "name": "stdout",
     "output_type": "stream",
     "text": [
      "ARAT old centroid time 12.710027159458553 new centroid time 10.780928946636338\n",
      "ARAT old duration 24.075 new duration time 22.1\n",
      "CARB old centroid time 15.833175840512224 new centroid time 11.62234036485075\n",
      "CARB old duration 23.925 new duration time 19.6\n",
      "OBSR old centroid time 11.077670143531153 new centroid time 9.970825701932993\n",
      "OBSR old duration 20.675 new duration time 19.55\n",
      "OPCH old centroid time 15.774035215259604 new centroid time 13.80771563923225\n",
      "OPCH old duration 26.575 new duration time 24.6\n",
      "PANH old centroid time 9.716079178897193 new centroid time 8.172429347325725\n",
      "PANH old duration 17.45 new duration time 15.875\n",
      "PARA old centroid time 11.507922062105719 new centroid time 10.25112783950602\n",
      "PARA old duration 20.05 new duration time 18.775\n",
      "PR04 old centroid time 16.801049961871016 new centroid time 13.21185134216858\n",
      "PR04 old duration 28.625 new duration time 24.925\n",
      "PR05 old centroid time 14.807664789886388 new centroid time 12.400674291473527\n",
      "PR05 old duration 28.65 new duration time 26.2\n",
      "RUSH old centroid time 15.4257382875511 new centroid time 12.610664662056163\n",
      "RUSH old duration 26.9 new duration time 24.0\n",
      "SIFT old centroid time 15.024547506271073 new centroid time 12.569291054940653\n",
      "SIFT old duration 25.7 new duration time 23.225\n",
      "VOIT old centroid time 15.8122443383707 new centroid time 12.016795630137862\n",
      "VOIT old duration 28.2 new duration time 24.475\n",
      "FMW old centroid time 11.594461215100061 new centroid time 9.797668028018363\n",
      "FMW old duration 20.1 new duration time 18.275\n",
      "LON old centroid time 13.5948983539864 new centroid time 11.583051596323063\n",
      "LON old duration 24.425 new duration time 22.375\n",
      "RCM old centroid time 6.571932182408519 new centroid time 6.167404606937625\n",
      "RCM old duration 12.475 new duration time 12.05\n",
      "RCS old centroid time 4.6621134375353135 new centroid time 4.545391118749585\n",
      "RCS old duration 8.975 new duration time 8.85\n",
      "RER old centroid time 10.822622622969138 new centroid time 9.403586861410927\n",
      "RER old duration 19.025 new duration time 17.575\n",
      "RER old centroid time 11.001137360898529 new centroid time 9.403586861410927\n",
      "RER old duration 19.3 new duration time 17.575\n",
      "STAR old centroid time 8.45754882271572 new centroid time 7.831136253105528\n",
      "STAR old duration 16.45 new duration time 15.8\n",
      "STAR old centroid time 8.133645350547274 new centroid time 7.831136253105528\n",
      "STAR old duration 15.1 new duration time 15.8\n",
      "WPEQ old centroid time 22.028256616848925 new centroid time 15.480970670660257\n",
      "WPEQ old duration 38.175 new duration time 31.375\n"
     ]
    },
    {
     "name": "stderr",
     "output_type": "stream",
     "text": [
      "/Users/marinedenolle/miniconda3/envs/seismo_exo/lib/python3.10/site-packages/obspy/signal/filter.py:62: UserWarning: Selected high corner frequency (20) of bandpass is at or above Nyquist (20.0). Applying a high-pass instead.\n",
      "  warnings.warn(msg)\n"
     ]
    },
    {
     "name": "stdout",
     "output_type": "stream",
     "text": [
      "ARAT old centroid time 5.7456205198863035 new centroid time 6.4417821533449215\n",
      "ARAT old duration 10.775 new duration time 11.525\n",
      "CARB old centroid time 38.235241875380794 new centroid time 28.098717942408033\n",
      "CARB old duration 79.925 new duration time 71.0\n",
      "GTWY old centroid time 239.02354897468706 new centroid time 253.09165000857863\n",
      "GTWY old duration 128.625 new duration time 143.625\n",
      "OBSR old centroid time 6.0311246643575 new centroid time 5.693947356299101\n",
      "OBSR old duration 12.45 new duration time 12.075\n",
      "PANH old centroid time 6.0224881804901385 new centroid time 5.4740228191798455\n",
      "PANH old duration 11.625 new duration time 11.05\n",
      "PARA old centroid time 45.94991043831782 new centroid time 45.86682763379882\n",
      "PARA old duration 121.675 new duration time 121.5\n",
      "RCM old centroid time 1.7579167152567612 new centroid time 76.88204088169982\n",
      "RCM old duration 56.7 new duration time 80.15\n",
      "STAR old centroid time 12.966038511302507 new centroid time 15.613794154670583\n",
      "STAR old duration 36.325 new duration time 41.275\n"
     ]
    },
    {
     "name": "stderr",
     "output_type": "stream",
     "text": [
      "/Users/marinedenolle/miniconda3/envs/seismo_exo/lib/python3.10/site-packages/obspy/signal/filter.py:62: UserWarning: Selected high corner frequency (20) of bandpass is at or above Nyquist (20.0). Applying a high-pass instead.\n",
      "  warnings.warn(msg)\n"
     ]
    },
    {
     "name": "stdout",
     "output_type": "stream",
     "text": [
      "ARAT old centroid time 17.340543841755895 new centroid time 15.31623885400266\n",
      "ARAT old duration 53.65 new duration time 51.55\n",
      "OBSR old centroid time 11.610527329551376 new centroid time 9.706664932027582\n",
      "OBSR old duration 22.8 new duration time 20.9\n",
      "PANH old centroid time 10.382655893382042 new centroid time 9.203558981773046\n",
      "PANH old duration 18.575 new duration time 17.375\n",
      "RUSH old centroid time 15.934159591468045 new centroid time 13.557536432247616\n",
      "RUSH old duration 30.7 new duration time 28.2\n",
      "FMW old centroid time 10.948690090642161 new centroid time 9.141678312406889\n",
      "FMW old duration 17.45 new duration time 15.675\n",
      "RCM old centroid time 17.864485603893744 new centroid time 17.91086909159789\n",
      "RCM old duration 111.275 new duration time 111.325\n",
      "RCS old centroid time 4.495961515974505 new centroid time 4.971053612846832\n",
      "RCS old duration 8.6 new duration time 9.125\n",
      "RER old centroid time 10.6937203194823 new centroid time 8.689763374382764\n",
      "RER old duration 18.1 new duration time 16.075\n",
      "RER old centroid time 10.703832159939617 new centroid time 8.689763374382764\n",
      "RER old duration 18.225 new duration time 16.075\n",
      "STAR old centroid time 15.910530883777298 new centroid time 14.858355480378744\n",
      "STAR old duration 80.025 new duration time 78.95\n"
     ]
    },
    {
     "name": "stderr",
     "output_type": "stream",
     "text": [
      "/Users/marinedenolle/miniconda3/envs/seismo_exo/lib/python3.10/site-packages/obspy/signal/filter.py:62: UserWarning: Selected high corner frequency (20) of bandpass is at or above Nyquist (20.0). Applying a high-pass instead.\n",
      "  warnings.warn(msg)\n"
     ]
    },
    {
     "name": "stdout",
     "output_type": "stream",
     "text": [
      "ARAT old centroid time 13.53777324564376 new centroid time 9.125758715685324\n",
      "ARAT old duration 22.025 new duration time 17.575\n",
      "OBSR old centroid time 12.849283169556148 new centroid time 9.065637996046968\n",
      "OBSR old duration 21.925 new duration time 18.15\n",
      "PANH old centroid time 12.355622022807617 new centroid time 8.612040578896437\n",
      "PANH old duration 20.65 new duration time 16.925\n",
      "PARA old centroid time 12.37730608906179 new centroid time 8.163210277587593\n",
      "PARA old duration 22.125 new duration time 17.725\n",
      "RCM old centroid time 8.661439022157563 new centroid time 8.27455995701923\n",
      "RCM old duration 15.175 new duration time 14.775\n",
      "RCS old centroid time 19.29979421443629 new centroid time 15.485575053031374\n",
      "RCS old duration 98.1 new duration time 94.3\n",
      "RER old centroid time 10.803357618284695 new centroid time 7.075161525200705\n",
      "RER old duration 18.35 new duration time 14.525\n",
      "RER old centroid time 10.858080277944232 new centroid time 7.075161525200705\n",
      "RER old duration 18.375 new duration time 14.525\n",
      "STAR old centroid time 9.196059457065903 new centroid time 6.919965471071924\n",
      "STAR old duration 16.1 new duration time 13.775\n"
     ]
    },
    {
     "name": "stderr",
     "output_type": "stream",
     "text": [
      "/Users/marinedenolle/miniconda3/envs/seismo_exo/lib/python3.10/site-packages/obspy/signal/filter.py:62: UserWarning: Selected high corner frequency (20) of bandpass is at or above Nyquist (20.0). Applying a high-pass instead.\n",
      "  warnings.warn(msg)\n"
     ]
    },
    {
     "name": "stdout",
     "output_type": "stream",
     "text": [
      "ARAT old centroid time 9.169393941052975 new centroid time 7.3132911719267994\n",
      "ARAT old duration 18.85 new duration time 16.85\n",
      "OBSR old centroid time 45.89925837898517 new centroid time 45.100418915662736\n",
      "OBSR old duration 134.5 new duration time 133.675\n",
      "PANH old centroid time 40.623302279794984 new centroid time 40.44964459814253\n",
      "PANH old duration 127.85 new duration time 127.65\n",
      "PARA old centroid time 35.449532541716174 new centroid time 35.20067968814269\n",
      "PARA old duration 122.65 new duration time 122.4\n",
      "FMW old centroid time 38.13735937723289 new centroid time 36.64675847884327\n",
      "FMW old duration 128.9 new duration time 127.275\n",
      "RCM old centroid time 35.040850018733074 new centroid time 35.62002830332659\n",
      "RCM old duration 125.1 new duration time 125.85\n",
      "RCS old centroid time 62.94198312130935 new centroid time 62.838332710671146\n",
      "RCS old duration 110.025 new duration time 109.925\n",
      "RER old centroid time 32.26470038474604 new centroid time 30.45963907498785\n",
      "RER old duration 120.875 new duration time 118.65\n",
      "STAR old centroid time 42.10996105108606 new centroid time 42.34142996179117\n",
      "STAR old duration 129.025 new duration time 129.375\n"
     ]
    },
    {
     "name": "stderr",
     "output_type": "stream",
     "text": [
      "/Users/marinedenolle/miniconda3/envs/seismo_exo/lib/python3.10/site-packages/obspy/signal/filter.py:62: UserWarning: Selected high corner frequency (20) of bandpass is at or above Nyquist (20.0). Applying a high-pass instead.\n",
      "  warnings.warn(msg)\n"
     ]
    },
    {
     "name": "stdout",
     "output_type": "stream",
     "text": [
      "OBSR old centroid time 7.220342699246266 new centroid time 5.870175259018632\n",
      "OBSR old duration 13.9 new duration time 12.55\n",
      "PANH old centroid time 6.521427687997612 new centroid time 6.2809760804015555\n",
      "PANH old duration 15.375 new duration time 15.125\n",
      "PARA old centroid time 7.888972364027265 new centroid time 7.1033281707966704\n",
      "PARA old duration 14.0 new duration time 13.2\n",
      "FMW old centroid time 7.893876971824664 new centroid time 6.218725119233704\n",
      "FMW old duration 16.8 new duration time 15.0\n",
      "PCEP old centroid time 36.933047037076506 new centroid time 51.877215520625384\n",
      "PCEP old duration 134.925 new duration time 149.925\n",
      "RCM old centroid time 3.3851408700651624 new centroid time 4.477772690382635\n",
      "RCM old duration 7.275 new duration time 8.425\n",
      "RCS old centroid time 2.1702815310422974 new centroid time 3.817938925173594\n",
      "RCS old duration 5.75 new duration time 7.525\n",
      "STAR old centroid time 7.033395553953936 new centroid time 5.9566144320638035\n",
      "STAR old duration 15.775 new duration time 14.675\n"
     ]
    },
    {
     "name": "stderr",
     "output_type": "stream",
     "text": [
      "/Users/marinedenolle/miniconda3/envs/seismo_exo/lib/python3.10/site-packages/obspy/signal/filter.py:62: UserWarning: Selected high corner frequency (20) of bandpass is at or above Nyquist (20.0). Applying a high-pass instead.\n",
      "  warnings.warn(msg)\n"
     ]
    },
    {
     "name": "stdout",
     "output_type": "stream",
     "text": [
      "ARAT old centroid time 12.412449000857988 new centroid time 8.851164912297866\n",
      "ARAT old duration 21.075 new duration time 17.4\n",
      "OBSR old centroid time 9.795773285750677 new centroid time 8.859175869554123\n",
      "OBSR old duration 18.05 new duration time 17.1\n",
      "PANH old centroid time 10.947256314231478 new centroid time 9.758306034315215\n",
      "PANH old duration 21.575 new duration time 20.375\n",
      "PARA old centroid time 11.298181960227483 new centroid time 7.992662849835214\n",
      "PARA old duration 19.65 new duration time 16.225\n",
      "FMW old centroid time -24.59035161853173 new centroid time -25.30711757533138\n",
      "FMW old duration 73.425 new duration time 72.175\n",
      "RCM old centroid time 7.796422444109044 new centroid time 7.529980275927137\n",
      "RCM old duration 15.15 new duration time 14.875\n",
      "RCS old centroid time 3.658702012582142 new centroid time 4.476114060565258\n",
      "RCS old duration 8.475 new duration time 9.375\n",
      "STAR old centroid time 16.62396722183205 new centroid time 15.698917483518889\n",
      "STAR old duration 93.8 new duration time 92.85\n",
      "WPEQ old centroid time 66.57021099846911 new centroid time 5.8315997883821975\n",
      "WPEQ old duration 125.775 new duration time 18.55\n"
     ]
    },
    {
     "name": "stderr",
     "output_type": "stream",
     "text": [
      "/Users/marinedenolle/miniconda3/envs/seismo_exo/lib/python3.10/site-packages/obspy/signal/filter.py:62: UserWarning: Selected high corner frequency (20) of bandpass is at or above Nyquist (20.0). Applying a high-pass instead.\n",
      "  warnings.warn(msg)\n"
     ]
    },
    {
     "name": "stdout",
     "output_type": "stream",
     "text": [
      "ARAT old centroid time 10.875627575941868 new centroid time 7.124092353539077\n",
      "ARAT old duration 18.6 new duration time 14.9\n",
      "OBSR old centroid time 10.655586112627233 new centroid time 8.304663143453032\n",
      "OBSR old duration 18.875 new duration time 16.525\n",
      "PARA old centroid time 11.245649651837777 new centroid time 8.819776555605749\n",
      "PARA old duration 19.0 new duration time 16.575\n",
      "RUSH old centroid time 13.121316029499047 new centroid time 9.188150140404714\n",
      "RUSH old duration 27.075 new duration time 23.025\n",
      "RCM old centroid time 6.423553602186878 new centroid time 5.246158246212745\n",
      "RCM old duration 13.225 new duration time 12.025\n",
      "RCS old centroid time 4.47957643657792 new centroid time 3.897265643688683\n",
      "RCS old duration 9.725 new duration time 9.15\n",
      "RER old centroid time 10.073266804273619 new centroid time 6.852438333820937\n",
      "RER old duration 17.75 new duration time 14.475\n",
      "STAR old centroid time 9.47267425534762 new centroid time 6.837183648793421\n",
      "STAR old duration 66.5 new duration time 63.825\n"
     ]
    },
    {
     "name": "stderr",
     "output_type": "stream",
     "text": [
      "/Users/marinedenolle/miniconda3/envs/seismo_exo/lib/python3.10/site-packages/obspy/signal/filter.py:62: UserWarning: Selected high corner frequency (20) of bandpass is at or above Nyquist (20.0). Applying a high-pass instead.\n",
      "  warnings.warn(msg)\n"
     ]
    },
    {
     "name": "stdout",
     "output_type": "stream",
     "text": [
      "OBSR old centroid time 21.162487960656097 new centroid time 17.80257550947347\n",
      "OBSR old duration 94.0 new duration time 90.25\n",
      "PARA old centroid time 9.190676488828508 new centroid time 6.87924792062557\n",
      "PARA old duration 15.2 new duration time 12.825\n",
      "PR04 old centroid time 19.211094661869566 new centroid time 14.350319646515745\n",
      "PR04 old duration 58.875 new duration time 52.75\n"
     ]
    },
    {
     "name": "stderr",
     "output_type": "stream",
     "text": [
      "/Users/marinedenolle/miniconda3/envs/seismo_exo/lib/python3.10/site-packages/obspy/signal/filter.py:62: UserWarning: Selected high corner frequency (20) of bandpass is at or above Nyquist (20.0). Applying a high-pass instead.\n",
      "  warnings.warn(msg)\n"
     ]
    },
    {
     "name": "stdout",
     "output_type": "stream",
     "text": [
      "OBSR old centroid time 9.05365776788271 new centroid time 7.723207079162499\n",
      "OBSR old duration 17.8 new duration time 16.475\n",
      "LON old centroid time 10.938429193142131 new centroid time 26.054565887546833\n",
      "LON old duration 19.175 new duration time 34.175\n",
      "RCM old centroid time 4.0762703064425345 new centroid time 3.9598447241212478\n",
      "RCM old duration 8.8 new duration time 8.675\n",
      "RCS old centroid time 2.235495392429479 new centroid time 2.639767507570148\n",
      "RCS old duration 5.2 new duration time 5.725\n"
     ]
    },
    {
     "name": "stderr",
     "output_type": "stream",
     "text": [
      "/Users/marinedenolle/miniconda3/envs/seismo_exo/lib/python3.10/site-packages/obspy/signal/filter.py:62: UserWarning: Selected high corner frequency (20) of bandpass is at or above Nyquist (20.0). Applying a high-pass instead.\n",
      "  warnings.warn(msg)\n"
     ]
    },
    {
     "name": "stdout",
     "output_type": "stream",
     "text": [
      "OBSR old centroid time 9.05365776788271 new centroid time 7.723207079162499\n",
      "OBSR old duration 17.8 new duration time 16.475\n",
      "LON old centroid time 10.938429193142131 new centroid time 26.054565887546833\n",
      "LON old duration 19.175 new duration time 34.175\n",
      "RCM old centroid time 4.0762703064425345 new centroid time 3.9598447241212478\n",
      "RCM old duration 8.8 new duration time 8.675\n",
      "RCS old centroid time 2.235495392429479 new centroid time 2.639767507570148\n",
      "RCS old duration 5.2 new duration time 5.725\n"
     ]
    },
    {
     "name": "stderr",
     "output_type": "stream",
     "text": [
      "/Users/marinedenolle/miniconda3/envs/seismo_exo/lib/python3.10/site-packages/obspy/signal/filter.py:62: UserWarning: Selected high corner frequency (20) of bandpass is at or above Nyquist (20.0). Applying a high-pass instead.\n",
      "  warnings.warn(msg)\n"
     ]
    },
    {
     "name": "stdout",
     "output_type": "stream",
     "text": [
      "OBSR old centroid time 9.05365776788271 new centroid time 7.723207079162499\n",
      "OBSR old duration 17.8 new duration time 16.475\n",
      "LON old centroid time 10.938429193142131 new centroid time 26.054565887546833\n",
      "LON old duration 19.175 new duration time 34.175\n",
      "RCM old centroid time 4.0762703064425345 new centroid time 3.9598447241212478\n",
      "RCM old duration 8.8 new duration time 8.675\n",
      "RCS old centroid time 2.235495392429479 new centroid time 2.639767507570148\n",
      "RCS old duration 5.2 new duration time 5.725\n"
     ]
    },
    {
     "name": "stderr",
     "output_type": "stream",
     "text": [
      "/Users/marinedenolle/miniconda3/envs/seismo_exo/lib/python3.10/site-packages/obspy/signal/filter.py:62: UserWarning: Selected high corner frequency (20) of bandpass is at or above Nyquist (20.0). Applying a high-pass instead.\n",
      "  warnings.warn(msg)\n"
     ]
    },
    {
     "name": "stdout",
     "output_type": "stream",
     "text": [
      "OBSR old centroid time 7.644209083206479 new centroid time 5.6905835033856835\n",
      "OBSR old duration 13.525 new duration time 11.55\n",
      "PANH old centroid time 7.177176738297157 new centroid time 5.352431699702984\n",
      "PANH old duration 12.525 new duration time 10.65\n",
      "PARA old centroid time 8.008232940584877 new centroid time 6.211201017435416\n",
      "PARA old duration 15.175 new duration time 13.325\n",
      "RCM old centroid time 4.124485065578071 new centroid time 3.2196878059800342\n",
      "RCM old duration 7.775 new duration time 6.85\n",
      "RCS old centroid time 4.678406341344131 new centroid time 3.820230382756976\n",
      "RCS old duration 9.0 new duration time 8.125\n",
      "RER old centroid time 6.27870307101921 new centroid time 4.295606328556848\n",
      "RER old duration 11.05 new duration time 9.025\n",
      "STAR old centroid time 9.511813686479593 new centroid time 8.86818711827105\n",
      "STAR old duration 64.875 new duration time 64.175\n"
     ]
    },
    {
     "name": "stderr",
     "output_type": "stream",
     "text": [
      "/Users/marinedenolle/miniconda3/envs/seismo_exo/lib/python3.10/site-packages/obspy/signal/filter.py:62: UserWarning: Selected high corner frequency (20) of bandpass is at or above Nyquist (20.0). Applying a high-pass instead.\n",
      "  warnings.warn(msg)\n"
     ]
    },
    {
     "name": "stdout",
     "output_type": "stream",
     "text": [
      "CRBN old centroid time 56.891279357823045 new centroid time 72.05910722405507\n",
      "CRBN old duration 90.675 new duration time 105.65\n",
      "OBSR old centroid time 11.676980236215265 new centroid time 10.871103147409865\n",
      "OBSR old duration 23.4 new duration time 22.575\n",
      "PANH old centroid time 10.635740123571903 new centroid time 6.542882848186646\n",
      "PANH old duration 19.0 new duration time 14.625\n",
      "RCM old centroid time 11.556274664732271 new centroid time 11.601721657150671\n",
      "RCM old duration 35.325 new duration time 35.375\n",
      "RCS old centroid time 8.867823625984004 new centroid time 9.63002536854608\n",
      "RCS old duration 19.95 new duration time 20.75\n",
      "STAR old centroid time 15.057066460641192 new centroid time 15.291337293516392\n",
      "STAR old duration 58.1 new duration time 58.35\n"
     ]
    },
    {
     "name": "stderr",
     "output_type": "stream",
     "text": [
      "/Users/marinedenolle/miniconda3/envs/seismo_exo/lib/python3.10/site-packages/obspy/signal/filter.py:62: UserWarning: Selected high corner frequency (20) of bandpass is at or above Nyquist (20.0). Applying a high-pass instead.\n",
      "  warnings.warn(msg)\n"
     ]
    },
    {
     "name": "stdout",
     "output_type": "stream",
     "text": [
      "ARAT old centroid time 22.866197140571476 new centroid time 21.930808856496764\n",
      "ARAT old duration 75.85 new duration time 74.8\n",
      "KAUT old centroid time 59.82580273214628 new centroid time 74.84240998465141\n",
      "KAUT old duration 93.9 new duration time 108.9\n",
      "OBSR old centroid time 23.58388658906702 new centroid time 22.500779277159527\n",
      "OBSR old duration 75.425 new duration time 74.3\n",
      "PANH old centroid time 14.896141425200735 new centroid time 13.847819171286421\n",
      "PANH old duration 41.7 new duration time 40.625\n",
      "RCS old centroid time 12.180012636400681 new centroid time 11.223610944375249\n",
      "RCS old duration 37.725 new duration time 36.725\n",
      "RER old centroid time 18.12249782883761 new centroid time 17.415356569260013\n",
      "RER old duration 64.275 new duration time 63.45\n",
      "RER old centroid time 18.54224611803727 new centroid time 17.415356569260013\n",
      "RER old duration 64.975 new duration time 63.45\n",
      "STAR old centroid time 10.34642684501086 new centroid time 10.63891084428932\n",
      "STAR old duration 34.0 new duration time 34.35\n",
      "STAR old centroid time 6.865984358834714 new centroid time 10.63891084428932\n",
      "STAR old duration 15.225 new duration time 34.35\n"
     ]
    },
    {
     "name": "stderr",
     "output_type": "stream",
     "text": [
      "/Users/marinedenolle/miniconda3/envs/seismo_exo/lib/python3.10/site-packages/obspy/signal/filter.py:62: UserWarning: Selected high corner frequency (20) of bandpass is at or above Nyquist (20.0). Applying a high-pass instead.\n",
      "  warnings.warn(msg)\n"
     ]
    },
    {
     "name": "stdout",
     "output_type": "stream",
     "text": [
      "ARAT old centroid time 13.19897307421483 new centroid time 10.451963788026081\n",
      "ARAT old duration 21.425 new duration time 18.6\n",
      "OBSR old centroid time 14.43463432881569 new centroid time 12.949748134973326\n",
      "OBSR old duration 23.75 new duration time 22.275\n",
      "PANH old centroid time 13.289727451456596 new centroid time 11.814198533417063\n",
      "PANH old duration 22.05 new duration time 20.575\n",
      "PARA old centroid time 13.623577833149566 new centroid time 9.564675947344453\n",
      "PARA old duration 23.2 new duration time 18.85\n",
      "RCM old centroid time 9.157002521896722 new centroid time 9.610843181874522\n",
      "RCM old duration 14.425 new duration time 14.95\n",
      "RCS old centroid time 10.670432156678977 new centroid time 10.718893866127207\n",
      "RCS old duration 16.775 new duration time 16.825\n",
      "RER old centroid time 11.628597166018798 new centroid time 9.766431568756857\n",
      "RER old duration 19.8 new duration time 17.9\n",
      "RER old centroid time 11.763445327605192 new centroid time 9.766431568756857\n",
      "RER old duration 20.125 new duration time 17.9\n",
      "STAR old centroid time 10.242370054900931 new centroid time 10.266469318096847\n",
      "STAR old duration 17.6 new duration time 17.625\n"
     ]
    },
    {
     "name": "stderr",
     "output_type": "stream",
     "text": [
      "/Users/marinedenolle/miniconda3/envs/seismo_exo/lib/python3.10/site-packages/obspy/signal/filter.py:62: UserWarning: Selected high corner frequency (20) of bandpass is at or above Nyquist (20.0). Applying a high-pass instead.\n",
      "  warnings.warn(msg)\n"
     ]
    },
    {
     "name": "stdout",
     "output_type": "stream",
     "text": [
      "ARAT old centroid time 16.635928931868868 new centroid time 12.806891812851896\n",
      "ARAT old duration 40.975 new duration time 37.075\n",
      "GTWY old centroid time 9.836263212482498 new centroid time 24.908092491267933\n",
      "GTWY old duration 17.025 new duration time 32.025\n",
      "OBSR old centroid time 29.75782875765825 new centroid time 26.744043133055467\n",
      "OBSR old duration 68.225 new duration time 65.1\n",
      "PANH old centroid time 26.29066315464965 new centroid time 23.715373475172562\n",
      "PANH old duration 62.95 new duration time 60.3\n",
      "RCM old centroid time 28.787624335966456 new centroid time 27.946716296733452\n",
      "RCM old duration 67.55 new duration time 66.675\n",
      "RCS old centroid time 16.056798505632926 new centroid time 14.027207376572814\n",
      "RCS old duration 43.55 new duration time 41.475\n",
      "RER old centroid time 27.060455796703565 new centroid time 24.5949944855379\n",
      "RER old duration 58.075 new duration time 55.45\n",
      "RER old centroid time 26.143868792823564 new centroid time 24.5949944855379\n",
      "RER old duration 59.475 new duration time 55.45\n",
      "STAR old centroid time 24.403949719275488 new centroid time 24.211595993921343\n",
      "STAR old duration 57.975 new duration time 57.775\n",
      "STAR old centroid time 21.377472190002987 new centroid time 24.211595993921343\n",
      "STAR old duration 51.15 new duration time 57.775\n",
      "TEHA old centroid time 139.60081330368556 new centroid time 6.456014207975305\n",
      "TEHA old duration 134.925 new duration time 12.125\n"
     ]
    },
    {
     "name": "stderr",
     "output_type": "stream",
     "text": [
      "/Users/marinedenolle/miniconda3/envs/seismo_exo/lib/python3.10/site-packages/obspy/signal/filter.py:62: UserWarning: Selected high corner frequency (20) of bandpass is at or above Nyquist (20.0). Applying a high-pass instead.\n",
      "  warnings.warn(msg)\n"
     ]
    },
    {
     "name": "stdout",
     "output_type": "stream",
     "text": [
      "ARAT old centroid time 12.256131332141784 new centroid time 10.767035112116389\n",
      "ARAT old duration 20.625 new duration time 19.125\n",
      "CARB old centroid time 17.159288607893057 new centroid time 12.939480298901442\n",
      "CARB old duration 30.125 new duration time 25.875\n",
      "CRBN old centroid time 15.376054302952797 new centroid time 11.928212066648967\n",
      "CRBN old duration 28.975 new duration time 25.45\n",
      "OBSR old centroid time 12.051929970056252 new centroid time 10.616567798731612\n",
      "OBSR old duration 23.1 new duration time 21.65\n",
      "OPCH old centroid time 15.476475802194763 new centroid time 9.77536179440148\n",
      "OPCH old duration 26.45 new duration time 20.775\n",
      "PANH old centroid time 10.751659337301115 new centroid time 9.787093062466589\n",
      "PANH old duration 18.975 new duration time 18.0\n",
      "PARA old centroid time 10.5632013580778 new centroid time 9.85541041603995\n",
      "PARA old duration 18.15 new duration time 17.425\n",
      "PR01 old centroid time 16.971996355178575 new centroid time 12.679957895194837\n",
      "PR01 old duration 30.725 new duration time 26.45\n",
      "PR03 old centroid time 15.90682324255861 new centroid time 12.401104538513408\n",
      "PR03 old duration 27.25 new duration time 23.625\n",
      "PR04 old centroid time 14.036233651215943 new centroid time 10.421132989616565\n",
      "PR04 old duration 25.675 new duration time 22.0\n",
      "PR05 old centroid time 13.016447212851304 new centroid time 10.56019173798633\n",
      "PR05 old duration 23.35 new duration time 20.875\n",
      "RUSH old centroid time 14.490977059236656 new centroid time 11.6928327162771\n",
      "RUSH old duration 26.075 new duration time 23.25\n",
      "SIFT old centroid time 13.509342554955541 new centroid time 11.23729088201319\n",
      "SIFT old duration 23.7 new duration time 21.425\n",
      "STYX old centroid time 18.401701744201237 new centroid time 9.55076243568377\n",
      "STYX old duration 28.4 new duration time 19.375\n",
      "VOIT old centroid time 15.492487351897077 new centroid time 11.937071397631472\n",
      "VOIT old duration 27.875 new duration time 24.275\n",
      "FMW old centroid time 13.633288829501497 new centroid time 11.8648006753576\n",
      "FMW old duration 25.425 new duration time 23.65\n",
      "LO2 old centroid time 11.93035196197393 new centroid time 10.47615725064621\n",
      "LO2 old duration 23.0 new duration time 21.525\n",
      "LON old centroid time 11.75283683908177 new centroid time 10.484772849957126\n",
      "LON old duration 22.175 new duration time 20.9\n",
      "RCM old centroid time 7.308327995913861 new centroid time 7.818353755663446\n",
      "RCM old duration 13.55 new duration time 14.1\n",
      "RCS old centroid time 9.680668077939837 new centroid time 9.51195550697746\n",
      "RCS old duration 19.225 new duration time 19.05\n",
      "RER old centroid time 10.372695444765226 new centroid time 9.241202559309782\n",
      "RER old duration 19.975 new duration time 18.825\n",
      "RER old centroid time 10.350038443336064 new centroid time 9.241202559309782\n",
      "RER old duration 20.275 new duration time 18.825\n",
      "STAR old centroid time 8.973778130866664 new centroid time 8.556194924569507\n",
      "STAR old duration 16.625 new duration time 16.2\n",
      "STAR old centroid time 8.951152981780243 new centroid time 8.556194924569507\n",
      "STAR old duration 16.475 new duration time 16.2\n",
      "TEHA old centroid time 129.1933981708834 new centroid time 3.048936378562218\n",
      "TEHA old duration 134.9 new duration time 6.025\n",
      "WPEQ old centroid time 20.980045624521555 new centroid time 12.144821613068885\n",
      "WPEQ old duration 39.4 new duration time 29.85\n"
     ]
    },
    {
     "name": "stderr",
     "output_type": "stream",
     "text": [
      "/Users/marinedenolle/miniconda3/envs/seismo_exo/lib/python3.10/site-packages/obspy/signal/filter.py:62: UserWarning: Selected high corner frequency (20) of bandpass is at or above Nyquist (20.0). Applying a high-pass instead.\n",
      "  warnings.warn(msg)\n"
     ]
    },
    {
     "name": "stdout",
     "output_type": "stream",
     "text": [
      "ARAT old centroid time 12.256131332141784 new centroid time 10.767035112116389\n",
      "ARAT old duration 20.625 new duration time 19.125\n",
      "CARB old centroid time 17.159288607893057 new centroid time 12.939480298901442\n",
      "CARB old duration 30.125 new duration time 25.875\n",
      "CRBN old centroid time 15.376054302952797 new centroid time 11.928212066648967\n",
      "CRBN old duration 28.975 new duration time 25.45\n",
      "OBSR old centroid time 12.051929970056252 new centroid time 10.616567798731612\n",
      "OBSR old duration 23.1 new duration time 21.65\n",
      "OPCH old centroid time 15.476475802194763 new centroid time 9.77536179440148\n",
      "OPCH old duration 26.45 new duration time 20.775\n",
      "PANH old centroid time 10.751659337301115 new centroid time 9.787093062466589\n",
      "PANH old duration 18.975 new duration time 18.0\n",
      "PARA old centroid time 10.5632013580778 new centroid time 9.85541041603995\n",
      "PARA old duration 18.15 new duration time 17.425\n",
      "PR01 old centroid time 16.971996355178575 new centroid time 12.679957895194837\n",
      "PR01 old duration 30.725 new duration time 26.45\n",
      "PR03 old centroid time 15.90682324255861 new centroid time 12.401104538513408\n",
      "PR03 old duration 27.25 new duration time 23.625\n",
      "PR04 old centroid time 14.036233651215943 new centroid time 10.421132989616565\n",
      "PR04 old duration 25.675 new duration time 22.0\n",
      "PR05 old centroid time 13.016447212851304 new centroid time 10.56019173798633\n",
      "PR05 old duration 23.35 new duration time 20.875\n",
      "RUSH old centroid time 14.490977059236656 new centroid time 11.6928327162771\n",
      "RUSH old duration 26.075 new duration time 23.25\n",
      "SIFT old centroid time 13.509342554955541 new centroid time 11.23729088201319\n",
      "SIFT old duration 23.7 new duration time 21.425\n",
      "STYX old centroid time 18.401701744201237 new centroid time 9.55076243568377\n",
      "STYX old duration 28.4 new duration time 19.375\n",
      "VOIT old centroid time 15.492487351897077 new centroid time 11.937071397631472\n",
      "VOIT old duration 27.875 new duration time 24.275\n",
      "FMW old centroid time 13.633288829501497 new centroid time 11.8648006753576\n",
      "FMW old duration 25.425 new duration time 23.65\n",
      "LO2 old centroid time 11.93035196197393 new centroid time 10.47615725064621\n",
      "LO2 old duration 23.0 new duration time 21.525\n",
      "LON old centroid time 11.75283683908177 new centroid time 10.484772849957126\n",
      "LON old duration 22.175 new duration time 20.9\n",
      "RCM old centroid time 7.308327995913861 new centroid time 7.818353755663446\n",
      "RCM old duration 13.55 new duration time 14.1\n",
      "RCS old centroid time 9.680668077939837 new centroid time 9.51195550697746\n",
      "RCS old duration 19.225 new duration time 19.05\n",
      "RER old centroid time 10.372695444765226 new centroid time 9.241202559309782\n",
      "RER old duration 19.975 new duration time 18.825\n",
      "RER old centroid time 10.350038443336064 new centroid time 9.241202559309782\n",
      "RER old duration 20.275 new duration time 18.825\n",
      "STAR old centroid time 8.973778130866664 new centroid time 8.556194924569507\n",
      "STAR old duration 16.625 new duration time 16.2\n",
      "STAR old centroid time 8.951152981780243 new centroid time 8.556194924569507\n",
      "STAR old duration 16.475 new duration time 16.2\n",
      "TEHA old centroid time 129.1933981708834 new centroid time 3.048936378562218\n",
      "TEHA old duration 134.9 new duration time 6.025\n",
      "WPEQ old centroid time 20.980045624521555 new centroid time 12.144821613068885\n",
      "WPEQ old duration 39.4 new duration time 29.85\n"
     ]
    },
    {
     "name": "stderr",
     "output_type": "stream",
     "text": [
      "/Users/marinedenolle/miniconda3/envs/seismo_exo/lib/python3.10/site-packages/obspy/signal/filter.py:62: UserWarning: Selected high corner frequency (20) of bandpass is at or above Nyquist (20.0). Applying a high-pass instead.\n",
      "  warnings.warn(msg)\n"
     ]
    },
    {
     "name": "stdout",
     "output_type": "stream",
     "text": [
      "ARAT old centroid time 11.256237562835915 new centroid time 10.743511800082382\n",
      "ARAT old duration 19.625 new duration time 19.1\n",
      "CARB old centroid time 16.15907082726907 new centroid time 13.131551245983488\n",
      "CARB old duration 29.125 new duration time 26.075\n",
      "CRBN old centroid time 14.459855925334795 new centroid time 12.108606308226669\n",
      "CRBN old duration 28.475 new duration time 26.025\n",
      "OBSR old centroid time 11.056895198965332 new centroid time 10.761341224952318\n",
      "OBSR old duration 22.1 new duration time 21.8\n",
      "OPCH old centroid time 14.450592054492287 new centroid time 9.69822158412291\n",
      "OPCH old duration 25.55 new duration time 20.775\n",
      "PANH old centroid time 9.763949624141334 new centroid time 9.910117503819635\n",
      "PANH old duration 17.975 new duration time 18.125\n",
      "PARA old centroid time 9.592020058051519 new centroid time 10.046230065611953\n",
      "PARA old duration 17.15 new duration time 17.625\n",
      "PR01 old centroid time 15.943953660907304 new centroid time 12.809650296599772\n",
      "PR01 old duration 29.775 new duration time 26.625\n",
      "PR03 old centroid time 14.9111517668757 new centroid time 11.597467063266558\n",
      "PR03 old duration 26.0 new duration time 22.55\n",
      "PR04 old centroid time 13.032523505078267 new centroid time 10.479999234074329\n",
      "PR04 old duration 24.65 new duration time 22.05\n",
      "PR05 old centroid time 12.009758848254698 new centroid time 10.609780504937168\n",
      "PR05 old duration 22.375 new duration time 20.95\n",
      "RUSH old centroid time 13.493027877653857 new centroid time 11.715446188891098\n",
      "RUSH old duration 25.075 new duration time 23.275\n",
      "SIFT old centroid time 12.504117627917825 new centroid time 11.237120816433787\n",
      "SIFT old duration 22.7 new duration time 21.425\n",
      "STYX old centroid time 17.394384368227545 new centroid time 9.504615465965736\n",
      "STYX old duration 27.4 new duration time 19.3\n",
      "VOIT old centroid time 14.505561919762743 new centroid time 11.857214994736557\n",
      "VOIT old duration 26.85 new duration time 24.175\n",
      "FMW old centroid time 12.623830750486691 new centroid time 11.912741079182306\n",
      "FMW old duration 24.4 new duration time 23.675\n",
      "LO2 old centroid time 10.930600350401292 new centroid time 10.541741807557331\n",
      "LO2 old duration 21.975 new duration time 21.575\n",
      "LON old centroid time 10.74328568663741 new centroid time 10.450789344219709\n",
      "LON old duration 21.125 new duration time 20.825\n",
      "RCM old centroid time 6.481843324663049 new centroid time 7.646679986836223\n",
      "RCM old duration 12.35 new duration time 13.75\n",
      "RCS old centroid time 8.720348757689072 new centroid time 9.659185290824823\n",
      "RCS old duration 18.125 new duration time 19.125\n",
      "RER old centroid time 9.378441544870851 new centroid time 9.211049596764644\n",
      "RER old duration 18.95 new duration time 18.775\n",
      "RER old centroid time 9.35482204178747 new centroid time 9.211049596764644\n",
      "RER old duration 19.25 new duration time 18.775\n",
      "STAR old centroid time 8.002288695255366 new centroid time 8.625020948112514\n",
      "STAR old duration 15.6 new duration time 16.25\n",
      "STAR old centroid time 7.970915216165342 new centroid time 8.625020948112514\n",
      "STAR old duration 15.45 new duration time 16.25\n",
      "TEHA old centroid time 137.01962771797795 new centroid time 2.8844898184290417\n",
      "TEHA old duration 133.575 new duration time 5.6\n",
      "WPEQ old centroid time 20.006599256815807 new centroid time 12.275189643389997\n",
      "WPEQ old duration 38.6 new duration time 30.15\n"
     ]
    },
    {
     "name": "stderr",
     "output_type": "stream",
     "text": [
      "/Users/marinedenolle/miniconda3/envs/seismo_exo/lib/python3.10/site-packages/obspy/signal/filter.py:62: UserWarning: Selected high corner frequency (20) of bandpass is at or above Nyquist (20.0). Applying a high-pass instead.\n",
      "  warnings.warn(msg)\n"
     ]
    },
    {
     "name": "stdout",
     "output_type": "stream",
     "text": [
      "ARAT old centroid time 11.256237562835915 new centroid time 10.743511800082382\n",
      "ARAT old duration 19.625 new duration time 19.1\n",
      "CARB old centroid time 16.15907082726907 new centroid time 13.131551245983488\n",
      "CARB old duration 29.125 new duration time 26.075\n",
      "CRBN old centroid time 14.459855925334795 new centroid time 12.108606308226669\n",
      "CRBN old duration 28.475 new duration time 26.025\n",
      "OBSR old centroid time 11.056895198965332 new centroid time 10.761341224952318\n",
      "OBSR old duration 22.1 new duration time 21.8\n",
      "OPCH old centroid time 14.450592054492287 new centroid time 9.69822158412291\n",
      "OPCH old duration 25.55 new duration time 20.775\n",
      "PANH old centroid time 9.763949624141334 new centroid time 9.910117503819635\n",
      "PANH old duration 17.975 new duration time 18.125\n",
      "PARA old centroid time 9.592020058051519 new centroid time 10.046230065611953\n",
      "PARA old duration 17.15 new duration time 17.625\n",
      "PR01 old centroid time 15.943953660907304 new centroid time 12.809650296599772\n",
      "PR01 old duration 29.775 new duration time 26.625\n",
      "PR03 old centroid time 14.9111517668757 new centroid time 11.597467063266558\n",
      "PR03 old duration 26.0 new duration time 22.55\n",
      "PR04 old centroid time 13.032523505078267 new centroid time 10.479999234074329\n",
      "PR04 old duration 24.65 new duration time 22.05\n",
      "PR05 old centroid time 12.009758848254698 new centroid time 10.609780504937168\n",
      "PR05 old duration 22.375 new duration time 20.95\n",
      "RUSH old centroid time 13.493027877653857 new centroid time 11.715446188891098\n",
      "RUSH old duration 25.075 new duration time 23.275\n",
      "SIFT old centroid time 12.504117627917825 new centroid time 11.237120816433787\n",
      "SIFT old duration 22.7 new duration time 21.425\n",
      "STYX old centroid time 17.394384368227545 new centroid time 9.504615465965736\n",
      "STYX old duration 27.4 new duration time 19.3\n",
      "VOIT old centroid time 14.505561919762743 new centroid time 11.857214994736557\n",
      "VOIT old duration 26.85 new duration time 24.175\n",
      "FMW old centroid time 12.623830750486691 new centroid time 11.912741079182306\n",
      "FMW old duration 24.4 new duration time 23.675\n",
      "LO2 old centroid time 10.930600350401292 new centroid time 10.541741807557331\n",
      "LO2 old duration 21.975 new duration time 21.575\n",
      "LON old centroid time 10.74328568663741 new centroid time 10.450789344219709\n",
      "LON old duration 21.125 new duration time 20.825\n",
      "RCM old centroid time 6.481843324663049 new centroid time 7.646679986836223\n",
      "RCM old duration 12.35 new duration time 13.75\n",
      "RCS old centroid time 8.720348757689072 new centroid time 9.659185290824823\n",
      "RCS old duration 18.125 new duration time 19.125\n",
      "RER old centroid time 9.378441544870851 new centroid time 9.211049596764644\n",
      "RER old duration 18.95 new duration time 18.775\n",
      "RER old centroid time 9.35482204178747 new centroid time 9.211049596764644\n",
      "RER old duration 19.25 new duration time 18.775\n",
      "STAR old centroid time 8.002288695255366 new centroid time 8.625020948112514\n",
      "STAR old duration 15.6 new duration time 16.25\n",
      "STAR old centroid time 7.970915216165342 new centroid time 8.625020948112514\n",
      "STAR old duration 15.45 new duration time 16.25\n",
      "TEHA old centroid time 137.01962771797795 new centroid time 2.8844898184290417\n",
      "TEHA old duration 133.575 new duration time 5.6\n",
      "WPEQ old centroid time 20.006599256815807 new centroid time 12.275189643389997\n",
      "WPEQ old duration 38.6 new duration time 30.15\n"
     ]
    },
    {
     "name": "stderr",
     "output_type": "stream",
     "text": [
      "/Users/marinedenolle/miniconda3/envs/seismo_exo/lib/python3.10/site-packages/obspy/signal/filter.py:62: UserWarning: Selected high corner frequency (20) of bandpass is at or above Nyquist (20.0). Applying a high-pass instead.\n",
      "  warnings.warn(msg)\n"
     ]
    },
    {
     "name": "stdout",
     "output_type": "stream",
     "text": [
      "ARAT old centroid time 11.256237562835915 new centroid time 10.743511800082382\n",
      "ARAT old duration 19.625 new duration time 19.1\n",
      "CARB old centroid time 16.15907082726907 new centroid time 13.131551245983488\n",
      "CARB old duration 29.125 new duration time 26.075\n",
      "CRBN old centroid time 14.459855925334795 new centroid time 12.108606308226669\n",
      "CRBN old duration 28.475 new duration time 26.025\n",
      "OBSR old centroid time 11.056895198965332 new centroid time 10.761341224952318\n",
      "OBSR old duration 22.1 new duration time 21.8\n",
      "OPCH old centroid time 14.450592054492287 new centroid time 9.69822158412291\n",
      "OPCH old duration 25.55 new duration time 20.775\n",
      "PANH old centroid time 9.763949624141334 new centroid time 9.910117503819635\n",
      "PANH old duration 17.975 new duration time 18.125\n",
      "PARA old centroid time 9.592020058051519 new centroid time 10.046230065611953\n",
      "PARA old duration 17.15 new duration time 17.625\n",
      "PR01 old centroid time 15.943953660907304 new centroid time 12.809650296599772\n",
      "PR01 old duration 29.775 new duration time 26.625\n",
      "PR03 old centroid time 14.9111517668757 new centroid time 11.597467063266558\n",
      "PR03 old duration 26.0 new duration time 22.55\n",
      "PR04 old centroid time 13.032523505078267 new centroid time 10.479999234074329\n",
      "PR04 old duration 24.65 new duration time 22.05\n",
      "PR05 old centroid time 12.009758848254698 new centroid time 10.609780504937168\n",
      "PR05 old duration 22.375 new duration time 20.95\n",
      "RUSH old centroid time 13.493027877653857 new centroid time 11.715446188891098\n",
      "RUSH old duration 25.075 new duration time 23.275\n",
      "SIFT old centroid time 12.504117627917825 new centroid time 11.237120816433787\n",
      "SIFT old duration 22.7 new duration time 21.425\n",
      "STYX old centroid time 17.394384368227545 new centroid time 9.504615465965736\n",
      "STYX old duration 27.4 new duration time 19.3\n",
      "VOIT old centroid time 14.505561919762743 new centroid time 11.857214994736557\n",
      "VOIT old duration 26.85 new duration time 24.175\n",
      "FMW old centroid time 12.623830750486691 new centroid time 11.912741079182306\n",
      "FMW old duration 24.4 new duration time 23.675\n",
      "LO2 old centroid time 10.930600350401292 new centroid time 10.541741807557331\n",
      "LO2 old duration 21.975 new duration time 21.575\n",
      "LON old centroid time 10.74328568663741 new centroid time 10.450789344219709\n",
      "LON old duration 21.125 new duration time 20.825\n",
      "RCM old centroid time 6.481843324663049 new centroid time 7.646679986836223\n",
      "RCM old duration 12.35 new duration time 13.75\n",
      "RCS old centroid time 8.720348757689072 new centroid time 9.659185290824823\n",
      "RCS old duration 18.125 new duration time 19.125\n",
      "RER old centroid time 9.378441544870851 new centroid time 9.211049596764644\n",
      "RER old duration 18.95 new duration time 18.775\n",
      "RER old centroid time 9.35482204178747 new centroid time 9.211049596764644\n",
      "RER old duration 19.25 new duration time 18.775\n",
      "STAR old centroid time 8.002288695255366 new centroid time 8.625020948112514\n",
      "STAR old duration 15.6 new duration time 16.25\n",
      "STAR old centroid time 7.970915216165342 new centroid time 8.625020948112514\n",
      "STAR old duration 15.45 new duration time 16.25\n",
      "TEHA old centroid time 137.01962771797795 new centroid time 2.8844898184290417\n",
      "TEHA old duration 133.575 new duration time 5.6\n",
      "WPEQ old centroid time 20.006599256815807 new centroid time 12.275189643389997\n",
      "WPEQ old duration 38.6 new duration time 30.15\n"
     ]
    },
    {
     "name": "stderr",
     "output_type": "stream",
     "text": [
      "/Users/marinedenolle/miniconda3/envs/seismo_exo/lib/python3.10/site-packages/obspy/signal/filter.py:62: UserWarning: Selected high corner frequency (20) of bandpass is at or above Nyquist (20.0). Applying a high-pass instead.\n",
      "  warnings.warn(msg)\n"
     ]
    },
    {
     "name": "stdout",
     "output_type": "stream",
     "text": [
      "ARAT old centroid time 11.256237562835915 new centroid time 10.743511800082382\n",
      "ARAT old duration 19.625 new duration time 19.1\n",
      "CARB old centroid time 16.15907082726907 new centroid time 13.131551245983488\n",
      "CARB old duration 29.125 new duration time 26.075\n",
      "CRBN old centroid time 14.459855925334795 new centroid time 12.108606308226669\n",
      "CRBN old duration 28.475 new duration time 26.025\n",
      "OBSR old centroid time 11.056895198965332 new centroid time 10.761341224952318\n",
      "OBSR old duration 22.1 new duration time 21.8\n",
      "OPCH old centroid time 14.450592054492287 new centroid time 9.69822158412291\n",
      "OPCH old duration 25.55 new duration time 20.775\n",
      "PANH old centroid time 9.763949624141334 new centroid time 9.910117503819635\n",
      "PANH old duration 17.975 new duration time 18.125\n",
      "PARA old centroid time 9.592020058051519 new centroid time 10.046230065611953\n",
      "PARA old duration 17.15 new duration time 17.625\n",
      "PR01 old centroid time 15.943953660907304 new centroid time 12.809650296599772\n",
      "PR01 old duration 29.775 new duration time 26.625\n",
      "PR03 old centroid time 14.9111517668757 new centroid time 11.597467063266558\n",
      "PR03 old duration 26.0 new duration time 22.55\n",
      "PR04 old centroid time 13.032523505078267 new centroid time 10.479999234074329\n",
      "PR04 old duration 24.65 new duration time 22.05\n",
      "PR05 old centroid time 12.009758848254698 new centroid time 10.609780504937168\n",
      "PR05 old duration 22.375 new duration time 20.95\n",
      "RUSH old centroid time 13.493027877653857 new centroid time 11.715446188891098\n",
      "RUSH old duration 25.075 new duration time 23.275\n",
      "SIFT old centroid time 12.504117627917825 new centroid time 11.237120816433787\n",
      "SIFT old duration 22.7 new duration time 21.425\n",
      "STYX old centroid time 17.394384368227545 new centroid time 9.504615465965736\n",
      "STYX old duration 27.4 new duration time 19.3\n",
      "VOIT old centroid time 14.505561919762743 new centroid time 11.857214994736557\n",
      "VOIT old duration 26.85 new duration time 24.175\n",
      "FMW old centroid time 12.623830750486691 new centroid time 11.912741079182306\n",
      "FMW old duration 24.4 new duration time 23.675\n",
      "LO2 old centroid time 10.930600350401292 new centroid time 10.541741807557331\n",
      "LO2 old duration 21.975 new duration time 21.575\n",
      "LON old centroid time 10.74328568663741 new centroid time 10.450789344219709\n",
      "LON old duration 21.125 new duration time 20.825\n",
      "RCM old centroid time 6.481843324663049 new centroid time 7.646679986836223\n",
      "RCM old duration 12.35 new duration time 13.75\n",
      "RCS old centroid time 8.720348757689072 new centroid time 9.659185290824823\n",
      "RCS old duration 18.125 new duration time 19.125\n",
      "RER old centroid time 9.378441544870851 new centroid time 9.211049596764644\n",
      "RER old duration 18.95 new duration time 18.775\n",
      "RER old centroid time 9.35482204178747 new centroid time 9.211049596764644\n",
      "RER old duration 19.25 new duration time 18.775\n",
      "STAR old centroid time 8.002288695255366 new centroid time 8.625020948112514\n",
      "STAR old duration 15.6 new duration time 16.25\n",
      "STAR old centroid time 7.970915216165342 new centroid time 8.625020948112514\n",
      "STAR old duration 15.45 new duration time 16.25\n",
      "TEHA old centroid time 137.01962771797795 new centroid time 2.8844898184290417\n",
      "TEHA old duration 133.575 new duration time 5.6\n",
      "WPEQ old centroid time 20.006599256815807 new centroid time 12.275189643389997\n",
      "WPEQ old duration 38.6 new duration time 30.15\n"
     ]
    },
    {
     "name": "stderr",
     "output_type": "stream",
     "text": [
      "/Users/marinedenolle/miniconda3/envs/seismo_exo/lib/python3.10/site-packages/obspy/signal/filter.py:62: UserWarning: Selected high corner frequency (20) of bandpass is at or above Nyquist (20.0). Applying a high-pass instead.\n",
      "  warnings.warn(msg)\n"
     ]
    },
    {
     "name": "stdout",
     "output_type": "stream",
     "text": [
      "ARAT old centroid time 10.299237704155102 new centroid time 10.83568370892624\n",
      "ARAT old duration 18.575 new duration time 19.15\n",
      "CARB old centroid time 15.173487727075207 new centroid time 12.846843063302025\n",
      "CARB old duration 28.125 new duration time 25.775\n",
      "CRBN old centroid time 13.513971797964393 new centroid time 11.743316344731378\n",
      "CRBN old duration 27.55 new duration time 25.675\n",
      "OBSR old centroid time 10.081869805241213 new centroid time 10.699681771691791\n",
      "OBSR old duration 21.025 new duration time 21.675\n",
      "OPCH old centroid time 13.420827099688156 new centroid time 9.861746570312249\n",
      "OPCH old duration 24.575 new duration time 20.975\n",
      "PANH old centroid time 8.792803209277613 new centroid time 9.87383253051683\n",
      "PANH old duration 16.9 new duration time 18.025\n",
      "PARA old centroid time 8.697276278849017 new centroid time 9.795810395456519\n",
      "PARA old duration 16.05 new duration time 17.275\n",
      "PR01 old centroid time 14.92580246419816 new centroid time 12.589427563544799\n",
      "PR01 old duration 28.775 new duration time 26.375\n",
      "PR03 old centroid time 13.856910111329531 new centroid time 11.5406909693652\n",
      "PR03 old duration 24.35 new duration time 21.925\n",
      "PR04 old centroid time 12.04122154453364 new centroid time 10.638993076674076\n",
      "PR04 old duration 23.65 new duration time 22.225\n",
      "PR05 old centroid time 11.016153394370965 new centroid time 10.61885825747474\n",
      "PR05 old duration 21.4 new duration time 20.975\n",
      "RUSH old centroid time 12.49356453055733 new centroid time 11.76095245348162\n",
      "RUSH old duration 24.075 new duration time 23.325\n",
      "SIFT old centroid time 11.507359893239196 new centroid time 11.188625337922161\n",
      "SIFT old duration 21.7 new duration time 21.375\n",
      "STYX old centroid time 16.402361717574113 new centroid time 9.595513375190412\n",
      "STYX old duration 26.4 new duration time 19.425\n",
      "VOIT old centroid time 13.515074207626574 new centroid time 11.740220607066291\n",
      "VOIT old duration 25.85 new duration time 24.05\n",
      "FMW old centroid time 11.631194543152603 new centroid time 11.989672947992165\n",
      "FMW old duration 23.325 new duration time 23.7\n",
      "LO2 old centroid time 9.958300003394084 new centroid time 10.493189133413782\n",
      "LO2 old duration 20.875 new duration time 21.45\n",
      "LON old centroid time 9.743885631152615 new centroid time 10.424752220817863\n",
      "LON old duration 19.85 new duration time 20.575\n",
      "RCM old centroid time 5.7201906769558635 new centroid time 7.68205974339302\n",
      "RCM old duration 10.95 new duration time 13.425\n",
      "RCS old centroid time 7.792446780208524 new centroid time 9.55536382434575\n",
      "RCS old duration 16.875 new duration time 18.825\n",
      "RER old centroid time 8.42337147135809 new centroid time 9.173412016916663\n",
      "RER old duration 17.775 new duration time 18.6\n",
      "RER old centroid time 8.423506236669846 new centroid time 9.173412016916663\n",
      "RER old duration 18.125 new duration time 18.6\n",
      "STAR old centroid time 7.095725768177334 new centroid time 8.762299444679186\n",
      "STAR old duration 14.525 new duration time 16.325\n",
      "STAR old centroid time 7.069685192951502 new centroid time 8.762299444679186\n",
      "STAR old duration 14.4 new duration time 16.325\n",
      "TEHA old centroid time 119.464065922061 new centroid time 4.145511370605429\n",
      "TEHA old duration 134.975 new duration time 8.45\n",
      "WPEQ old centroid time 18.775461562432934 new centroid time 11.932313604855127\n",
      "WPEQ old duration 35.175 new duration time 27.7\n"
     ]
    },
    {
     "name": "stderr",
     "output_type": "stream",
     "text": [
      "/Users/marinedenolle/miniconda3/envs/seismo_exo/lib/python3.10/site-packages/obspy/signal/filter.py:62: UserWarning: Selected high corner frequency (20) of bandpass is at or above Nyquist (20.0). Applying a high-pass instead.\n",
      "  warnings.warn(msg)\n"
     ]
    },
    {
     "name": "stdout",
     "output_type": "stream",
     "text": [
      "ARAT old centroid time 9.407632589976552 new centroid time 10.68553851526452\n",
      "ARAT old duration 17.425 new duration time 18.85\n",
      "CARB old centroid time 14.177926676903878 new centroid time 12.986873004961632\n",
      "CARB old duration 27.125 new duration time 25.925\n",
      "CRBN old centroid time 12.492203241860793 new centroid time 12.274382359199068\n",
      "CRBN old duration 26.225 new duration time 26.0\n",
      "OBSR old centroid time 9.116412846166433 new centroid time 10.529288987297498\n",
      "OBSR old duration 19.85 new duration time 21.375\n",
      "OPCH old centroid time 12.383039214502238 new centroid time 9.759943957887455\n",
      "OPCH old duration 23.3 new duration time 20.625\n",
      "PANH old centroid time 7.83990050336477 new centroid time 9.82775286482663\n",
      "PANH old duration 15.75 new duration time 17.85\n",
      "PARA old centroid time 7.806756634504734 new centroid time 9.885849307695484\n",
      "PARA old duration 14.925 new duration time 17.25\n",
      "PR01 old centroid time 13.926991740468154 new centroid time 12.611309820777244\n",
      "PR01 old duration 27.775 new duration time 26.4\n",
      "PR03 old centroid time 12.855335308119738 new centroid time 12.439468574327941\n",
      "PR03 old duration 23.05 new duration time 22.625\n",
      "PR04 old centroid time 11.043108988001153 new centroid time 10.451017257735446\n",
      "PR04 old duration 22.65 new duration time 22.025\n",
      "PR05 old centroid time 10.065292469199118 new centroid time 10.601435163299298\n",
      "PR05 old duration 20.1 new duration time 20.725\n",
      "RUSH old centroid time 11.53738728447326 new centroid time 11.80788374918477\n",
      "RUSH old duration 23.075 new duration time 23.375\n",
      "SIFT old centroid time 10.582657681822004 new centroid time 11.233570176994311\n",
      "SIFT old duration 20.675 new duration time 21.4\n",
      "STYX old centroid time 15.375475054080317 new centroid time 9.63354365749655\n",
      "STYX old duration 25.4 new duration time 19.475\n",
      "VOIT old centroid time 12.510016153801539 new centroid time 11.848796284290268\n",
      "VOIT old duration 24.825 new duration time 24.15\n",
      "FMW old centroid time 10.659019958614724 new centroid time 11.770673752357048\n",
      "FMW old duration 22.175 new duration time 23.35\n",
      "LO2 old centroid time 8.982254882881742 new centroid time 10.429616576267014\n",
      "LO2 old duration 19.6 new duration time 21.175\n",
      "LON old centroid time 8.71597464302983 new centroid time 10.346381360768262\n",
      "LON old duration 18.175 new duration time 19.925\n",
      "RCM old centroid time 4.8891736999158795 new centroid time 7.830239247228967\n",
      "RCM old duration 9.925 new duration time 13.525\n",
      "RCS old centroid time 6.970131519285178 new centroid time 9.199542739512058\n",
      "RCS old duration 15.475 new duration time 18.15\n",
      "RER old centroid time 7.495899991282131 new centroid time 9.164662157714087\n",
      "RER old duration 16.45 new duration time 18.35\n",
      "RER old centroid time 7.508903189621332 new centroid time 9.164662157714087\n",
      "RER old duration 16.925 new duration time 18.35\n",
      "STAR old centroid time 6.179175688167267 new centroid time 8.49883742416517\n",
      "STAR old duration 13.425 new duration time 15.975\n",
      "STAR old centroid time 6.147805360115047 new centroid time 8.49883742416517\n",
      "STAR old duration 13.3 new duration time 15.975\n",
      "TEHA old centroid time 117.12802428445288 new centroid time 4.049293865207459\n",
      "TEHA old duration 134.5 new duration time 8.65\n",
      "WPEQ old centroid time 17.760248722168086 new centroid time 11.65408304080619\n",
      "WPEQ old duration 32.6 new duration time 26.075\n"
     ]
    },
    {
     "name": "stderr",
     "output_type": "stream",
     "text": [
      "/Users/marinedenolle/miniconda3/envs/seismo_exo/lib/python3.10/site-packages/obspy/signal/filter.py:62: UserWarning: Selected high corner frequency (20) of bandpass is at or above Nyquist (20.0). Applying a high-pass instead.\n",
      "  warnings.warn(msg)\n"
     ]
    },
    {
     "name": "stdout",
     "output_type": "stream",
     "text": [
      "ARAT old centroid time 9.407632589976552 new centroid time 10.68553851526452\n",
      "ARAT old duration 17.425 new duration time 18.85\n",
      "CARB old centroid time 14.177926676903878 new centroid time 12.986873004961632\n",
      "CARB old duration 27.125 new duration time 25.925\n",
      "CRBN old centroid time 12.492203241860793 new centroid time 12.274382359199068\n",
      "CRBN old duration 26.225 new duration time 26.0\n",
      "OBSR old centroid time 9.116412846166433 new centroid time 10.529288987297498\n",
      "OBSR old duration 19.85 new duration time 21.375\n",
      "OPCH old centroid time 12.383039214502238 new centroid time 9.759943957887455\n",
      "OPCH old duration 23.3 new duration time 20.625\n",
      "PANH old centroid time 7.83990050336477 new centroid time 9.82775286482663\n",
      "PANH old duration 15.75 new duration time 17.85\n",
      "PARA old centroid time 7.806756634504734 new centroid time 9.885849307695484\n",
      "PARA old duration 14.925 new duration time 17.25\n",
      "PR01 old centroid time 13.926991740468154 new centroid time 12.611309820777244\n",
      "PR01 old duration 27.775 new duration time 26.4\n",
      "PR03 old centroid time 12.855335308119738 new centroid time 12.439468574327941\n",
      "PR03 old duration 23.05 new duration time 22.625\n",
      "PR04 old centroid time 11.043108988001153 new centroid time 10.451017257735446\n",
      "PR04 old duration 22.65 new duration time 22.025\n",
      "PR05 old centroid time 10.065292469199118 new centroid time 10.601435163299298\n",
      "PR05 old duration 20.1 new duration time 20.725\n",
      "RUSH old centroid time 11.53738728447326 new centroid time 11.80788374918477\n",
      "RUSH old duration 23.075 new duration time 23.375\n",
      "SIFT old centroid time 10.582657681822004 new centroid time 11.233570176994311\n",
      "SIFT old duration 20.675 new duration time 21.4\n",
      "STYX old centroid time 15.375475054080317 new centroid time 9.63354365749655\n",
      "STYX old duration 25.4 new duration time 19.475\n",
      "VOIT old centroid time 12.510016153801539 new centroid time 11.848796284290268\n",
      "VOIT old duration 24.825 new duration time 24.15\n",
      "FMW old centroid time 10.659019958614724 new centroid time 11.770673752357048\n",
      "FMW old duration 22.175 new duration time 23.35\n",
      "LO2 old centroid time 8.982254882881742 new centroid time 10.429616576267014\n",
      "LO2 old duration 19.6 new duration time 21.175\n",
      "LON old centroid time 8.71597464302983 new centroid time 10.346381360768262\n",
      "LON old duration 18.175 new duration time 19.925\n",
      "RCM old centroid time 4.8891736999158795 new centroid time 7.830239247228967\n",
      "RCM old duration 9.925 new duration time 13.525\n",
      "RCS old centroid time 6.970131519285178 new centroid time 9.199542739512058\n",
      "RCS old duration 15.475 new duration time 18.15\n",
      "RER old centroid time 7.495899991282131 new centroid time 9.164662157714087\n",
      "RER old duration 16.45 new duration time 18.35\n",
      "RER old centroid time 7.508903189621332 new centroid time 9.164662157714087\n",
      "RER old duration 16.925 new duration time 18.35\n",
      "STAR old centroid time 6.179175688167267 new centroid time 8.49883742416517\n",
      "STAR old duration 13.425 new duration time 15.975\n",
      "STAR old centroid time 6.147805360115047 new centroid time 8.49883742416517\n",
      "STAR old duration 13.3 new duration time 15.975\n",
      "TEHA old centroid time 117.12802428445288 new centroid time 4.049293865207459\n",
      "TEHA old duration 134.5 new duration time 8.65\n",
      "WPEQ old centroid time 17.760248722168086 new centroid time 11.65408304080619\n",
      "WPEQ old duration 32.6 new duration time 26.075\n"
     ]
    },
    {
     "name": "stderr",
     "output_type": "stream",
     "text": [
      "/Users/marinedenolle/miniconda3/envs/seismo_exo/lib/python3.10/site-packages/obspy/signal/filter.py:62: UserWarning: Selected high corner frequency (20) of bandpass is at or above Nyquist (20.0). Applying a high-pass instead.\n",
      "  warnings.warn(msg)\n"
     ]
    },
    {
     "name": "stdout",
     "output_type": "stream",
     "text": [
      "ARAT old centroid time 19.17577446268247 new centroid time 15.069841733903663\n",
      "ARAT old duration 33.275 new duration time 29.15\n",
      "CARB old centroid time 33.882535729462326 new centroid time 29.132098745489458\n",
      "CARB old duration 127.2 new duration time 122.4\n",
      "CRBN old centroid time 26.10431350491652 new centroid time 17.91251332622884\n",
      "CRBN old duration 70.875 new duration time 62.625\n",
      "OBSR old centroid time 17.027096479736652 new centroid time 10.973700086352569\n",
      "OBSR old duration 28.275 new duration time 22.175\n",
      "OPCH old centroid time 21.26693643985504 new centroid time 13.98385105750421\n",
      "OPCH old duration 36.65 new duration time 29.4\n",
      "PARA old centroid time 18.645188385703307 new centroid time 15.214602076979087\n",
      "PARA old duration 34.3 new duration time 30.8\n",
      "PR04 old centroid time 23.037958331751405 new centroid time 17.44639002340965\n",
      "PR04 old duration 51.3 new duration time 45.675\n",
      "PR05 old centroid time 19.32659446880466 new centroid time 13.91758077943307\n",
      "PR05 old duration 31.975 new duration time 26.525\n",
      "RUSH old centroid time 21.780336593109503 new centroid time 16.825250273970532\n",
      "RUSH old duration 47.775 new duration time 42.725\n",
      "SIFT old centroid time 20.597202542219733 new centroid time 15.490953842684624\n",
      "SIFT old duration 35.75 new duration time 30.65\n",
      "VOIT old centroid time 20.377128688991924 new centroid time 14.865924477772719\n",
      "VOIT old duration 33.6 new duration time 27.9\n",
      "FMW old centroid time 27.70000574359274 new centroid time 24.862822569939848\n",
      "FMW old duration 122.175 new duration time 119.25\n",
      "LON old centroid time 19.044149875708552 new centroid time 15.572375500666231\n",
      "LON old duration 36.15 new duration time 32.675\n",
      "RCS old centroid time 15.018500372036673 new centroid time 15.042391784292242\n",
      "RCS old duration 26.375 new duration time 26.4\n",
      "RER old centroid time -413.6241978944682 new centroid time 22.120633030593698\n",
      "RER old duration 102.65 new duration time 7.975\n",
      "RER old centroid time 18.58886442494743 new centroid time 22.120633030593698\n",
      "RER old duration 44.75 new duration time 7.975\n",
      "SPFR old centroid time 47.263763692432676 new centroid time 62.93167499070061\n",
      "SPFR old duration 121.2 new duration time 136.2\n",
      "STAR old centroid time 24.107287571537004 new centroid time 16.631342980079065\n",
      "STAR old duration 124.275 new duration time 25.85\n",
      "STAR old centroid time 22.217869778368588 new centroid time 16.631342980079065\n",
      "STAR old duration 124.075 new duration time 25.85\n",
      "WPEQ old centroid time 26.801120611622913 new centroid time 13.074701933422466\n",
      "WPEQ old duration 47.025 new duration time 32.275\n"
     ]
    },
    {
     "name": "stderr",
     "output_type": "stream",
     "text": [
      "/Users/marinedenolle/miniconda3/envs/seismo_exo/lib/python3.10/site-packages/obspy/signal/filter.py:62: UserWarning: Selected high corner frequency (20) of bandpass is at or above Nyquist (20.0). Applying a high-pass instead.\n",
      "  warnings.warn(msg)\n"
     ]
    },
    {
     "name": "stdout",
     "output_type": "stream",
     "text": [
      "ARAT old centroid time 16.361047807325992 new centroid time 12.200362617785652\n",
      "ARAT old duration 30.2 new duration time 25.9\n",
      "CARB old centroid time 20.942558426856223 new centroid time 14.00492096253852\n",
      "CARB old duration 34.55 new duration time 27.7\n",
      "CRBN old centroid time 24.245242458576804 new centroid time 16.606533753857125\n",
      "CRBN old duration 70.25 new duration time 62.325\n",
      "OBSR old centroid time 14.360557805118606 new centroid time 12.457572051670379\n",
      "OBSR old duration 23.825 new duration time 21.925\n",
      "OPCH old centroid time 18.665677868448242 new centroid time 12.098505977088273\n",
      "OPCH old duration 32.2 new duration time 25.6\n",
      "PANH old centroid time 14.465941708798786 new centroid time 10.914059190491665\n",
      "PANH old duration 25.975 new duration time 22.375\n",
      "PARA old centroid time 16.1085305997331 new centroid time 12.398135730694548\n",
      "PARA old duration 29.375 new duration time 25.525\n",
      "PR04 old centroid time 19.273123611078905 new centroid time 13.116735998948494\n",
      "PR04 old duration 34.875 new duration time 28.625\n",
      "PR05 old centroid time 17.01554587771121 new centroid time 12.007177840766866\n",
      "PR05 old duration 29.25 new duration time 24.15\n",
      "RUSH old centroid time 17.637767842978615 new centroid time 12.300434959465038\n",
      "RUSH old duration 30.6 new duration time 25.15\n",
      "SIFT old centroid time 17.828186341137517 new centroid time 13.603594740699055\n",
      "SIFT old duration 31.975 new duration time 27.75\n",
      "VOIT old centroid time 19.579705933809333 new centroid time 13.064651315959374\n",
      "VOIT old duration 31.075 new duration time 24.35\n",
      "FMW old centroid time 16.366624915864712 new centroid time 11.922316561396315\n",
      "FMW old duration 34.6 new duration time 29.95\n",
      "LON old centroid time 16.132630433371002 new centroid time 11.333319222371909\n",
      "LON old duration 29.45 new duration time 24.525\n",
      "RCM old centroid time 11.461726079795879 new centroid time 9.460181417158275\n",
      "RCM old duration 20.95 new duration time 18.875\n",
      "RCS old centroid time 12.741658559370611 new centroid time 13.707164450298976\n",
      "RCS old duration 23.2 new duration time 24.175\n",
      "RER old centroid time 25.84714494531387 new centroid time 22.287982403918797\n",
      "RER old duration 108.35 new duration time 104.575\n",
      "RER old centroid time 14.925650847946024 new centroid time 22.287982403918797\n",
      "RER old duration 27.45 new duration time 104.575\n",
      "STAR old centroid time 12.166152054732855 new centroid time 12.64400988838297\n",
      "STAR old duration 23.95 new duration time 24.45\n",
      "STAR old centroid time 11.996476648254244 new centroid time 12.64400988838297\n",
      "STAR old duration 23.2 new duration time 24.45\n",
      "WPEQ old centroid time 24.145506403239317 new centroid time 14.582801751338591\n",
      "WPEQ old duration 41.7 new duration time 31.875\n"
     ]
    },
    {
     "name": "stderr",
     "output_type": "stream",
     "text": [
      "/Users/marinedenolle/miniconda3/envs/seismo_exo/lib/python3.10/site-packages/obspy/signal/filter.py:62: UserWarning: Selected high corner frequency (20) of bandpass is at or above Nyquist (20.0). Applying a high-pass instead.\n",
      "  warnings.warn(msg)\n"
     ]
    },
    {
     "name": "stdout",
     "output_type": "stream",
     "text": [
      "ARAT old centroid time 25.100288093028784 new centroid time 23.1583744690281\n",
      "ARAT old duration 51.675 new duration time 49.7\n",
      "CARB old centroid time 27.579130410820273 new centroid time 22.96824536057224\n",
      "CARB old duration 50.75 new duration time 46.2\n",
      "OBSR old centroid time 25.395268802785584 new centroid time 23.61492820312242\n",
      "OBSR old duration 52.325 new duration time 50.525\n",
      "OPCH old centroid time 25.190217639550575 new centroid time 22.370924068237674\n",
      "OPCH old duration 48.95 new duration time 46.125\n",
      "PANH old centroid time 22.31794026271082 new centroid time 22.022461656046858\n",
      "PANH old duration 49.05 new duration time 48.75\n",
      "PARA old centroid time 25.48972478051388 new centroid time 24.844129607418957\n",
      "PARA old duration 51.75 new duration time 51.1\n",
      "PR04 old centroid time 26.06714266170234 new centroid time 23.77333012803721\n",
      "PR04 old duration 49.175 new duration time 46.925\n",
      "PR05 old centroid time 25.060847860665966 new centroid time 22.27461288233718\n",
      "PR05 old duration 50.125 new duration time 47.3\n",
      "RUSH old centroid time 26.83888375636315 new centroid time 25.237254385602768\n",
      "RUSH old duration 53.3 new duration time 51.7\n",
      "SIFT old centroid time 25.97675613182177 new centroid time 24.267160733694585\n",
      "SIFT old duration 52.725 new duration time 51.025\n",
      "STYX old centroid time 32.1014290806237 new centroid time 23.931158419156276\n",
      "STYX old duration 65.875 new duration time 57.225\n",
      "VOIT old centroid time 25.240703574472406 new centroid time 20.95483622280499\n",
      "VOIT old duration 48.125 new duration time 43.825\n",
      "FMW old centroid time 23.752614014164305 new centroid time 22.79067473809412\n",
      "FMW old duration 48.85 new duration time 47.875\n",
      "LO2 old centroid time 25.09543362509056 new centroid time 23.740192120925887\n",
      "LO2 old duration 47.5 new duration time 46.15\n",
      "LON old centroid time 24.9826615142738 new centroid time 23.12852200442577\n",
      "LON old duration 47.175 new duration time 45.325\n",
      "RCM old centroid time 21.792485359670394 new centroid time 22.34070904060009\n",
      "RCM old duration 47.575 new duration time 48.15\n",
      "RCS old centroid time 23.673675919462507 new centroid time 24.305207144348753\n",
      "RCS old duration 50.2 new duration time 50.85\n",
      "RER old centroid time 24.00377456747022 new centroid time 22.880525721058255\n",
      "RER old duration 47.175 new duration time 46.025\n",
      "RER old centroid time 24.278472813972904 new centroid time 22.880525721058255\n",
      "RER old duration 48.8 new duration time 46.025\n",
      "STAR old centroid time 23.834310069649188 new centroid time 24.294403715780845\n",
      "STAR old duration 49.825 new duration time 50.3\n",
      "STAR old centroid time 22.945776371528265 new centroid time 24.294403715780845\n",
      "STAR old duration 45.825 new duration time 50.3\n",
      "WPEQ old centroid time 30.715081123697342 new centroid time 24.298183060175557\n",
      "WPEQ old duration 55.575 new duration time 48.975\n"
     ]
    },
    {
     "name": "stderr",
     "output_type": "stream",
     "text": [
      "/Users/marinedenolle/miniconda3/envs/seismo_exo/lib/python3.10/site-packages/obspy/signal/filter.py:62: UserWarning: Selected high corner frequency (20) of bandpass is at or above Nyquist (20.0). Applying a high-pass instead.\n",
      "  warnings.warn(msg)\n"
     ]
    },
    {
     "name": "stdout",
     "output_type": "stream",
     "text": [
      "ARAT old centroid time 84.27065551107312 new centroid time 13.542437354127996\n",
      "ARAT old duration 99.725 new duration time 25.4\n",
      "CARB old centroid time 83.5140112218338 new centroid time 10.461123818794587\n",
      "CARB old duration 92.175 new duration time 20.85\n",
      "CRBN old centroid time 83.90552836473022 new centroid time 15.385583901671975\n",
      "CRBN old duration 112.725 new duration time 41.125\n",
      "GTWY old centroid time 82.63549917253877 new centroid time 10.547491793573336\n",
      "GTWY old duration 88.725 new duration time 14.325\n",
      "KAUT old centroid time 84.461988796401 new centroid time 10.752709858180726\n",
      "KAUT old duration 91.55 new duration time 16.675\n",
      "OBSR old centroid time 79.88055997969562 new centroid time 12.13768672947881\n",
      "OBSR old duration 95.1 new duration time 21.15\n",
      "OPCH old centroid time 90.44202491257222 new centroid time 13.41230806996578\n",
      "OPCH old duration 98.95 new duration time 21.65\n",
      "PANH old centroid time 83.58605043564035 new centroid time 13.410258381998796\n",
      "PANH old duration 101.025 new duration time 25.4\n",
      "PARA old centroid time 82.89822560988473 new centroid time 13.864251149650178\n",
      "PARA old duration 101.35 new duration time 25.825\n",
      "PR01 old centroid time 80.1337306801832 new centroid time 9.083057522489677\n",
      "PR01 old duration 86.0 new duration time 14.55\n",
      "PR02 old centroid time 78.71555983367416 new centroid time 11.093541871657868\n",
      "PR02 old duration 90.25 new duration time 18.825\n",
      "PR03 old centroid time 80.0211046792725 new centroid time 9.801379650029558\n",
      "PR03 old duration 86.15 new duration time 14.725\n",
      "PR04 old centroid time 81.9056827562744 new centroid time 10.670852185242499\n",
      "PR04 old duration 91.025 new duration time 18.975\n",
      "PR05 old centroid time 82.69074506254138 new centroid time 10.463661155338992\n",
      "PR05 old duration 91.175 new duration time 18.05\n",
      "RUSH old centroid time 83.69188435381183 new centroid time 11.487449985811471\n",
      "RUSH old duration 90.625 new duration time 18.025\n",
      "SIFT old centroid time 81.7380911204754 new centroid time 10.914533107968778\n",
      "SIFT old duration 91.075 new duration time 18.325\n",
      "STYX old centroid time 80.75064561014474 new centroid time 10.18780909558746\n",
      "STYX old duration 88.65 new duration time 17.9\n",
      "TRON old centroid time 79.24622408807438 new centroid time 9.753695369955725\n",
      "TRON old duration 87.25 new duration time 18.025\n",
      "VOIT old centroid time 82.34930635521175 new centroid time 11.35017574085015\n",
      "VOIT old duration 93.65 new duration time 22.05\n",
      "FMW old centroid time 83.8443214717927 new centroid time 11.296440009200005\n",
      "FMW old duration 94.825 new duration time 20.025\n",
      "LO2 old centroid time 83.27637135057009 new centroid time 10.819304435225423\n",
      "LO2 old duration 94.275 new duration time 19.275\n",
      "LON old centroid time 83.28534189591687 new centroid time 10.693559312703577\n",
      "LON old duration 94.2 new duration time 19.225\n",
      "PUPY old centroid time 86.85393236003614 new centroid time 11.108600700499387\n",
      "PUPY old duration 97.175 new duration time 21.55\n",
      "RCM old centroid time 68.12539894740365 new centroid time 37.50565910492555\n",
      "RCM old duration 95.125 new duration time 66.825\n",
      "RCS old centroid time 71.81458243844511 new centroid time 86.81946550840873\n",
      "RCS old duration 97.65 new duration time 112.65\n",
      "RER old centroid time 80.6878699767146 new centroid time 9.988976015240546\n",
      "RER old duration 90.275 new duration time 16.05\n",
      "RER old centroid time 79.89245079989645 new centroid time 9.988976015240546\n",
      "RER old duration 90.925 new duration time 16.05\n",
      "SPFR old centroid time 76.16948836019459 new centroid time 7.1071169596009485\n",
      "SPFR old duration 81.875 new duration time 13.675\n",
      "STAR old centroid time 65.98199880763666 new centroid time 35.749720994241144\n",
      "STAR old duration 93.875 new duration time 65.225\n",
      "STOR old centroid time 86.6460743315002 new centroid time 13.691762890887599\n",
      "STOR old duration 104.675 new duration time 33.85\n",
      "TEHA old centroid time 74.981439297534 new centroid time 6.910778060862749\n",
      "TEHA old duration 81.75 new duration time 13.175\n",
      "WPEQ old centroid time 95.63891632907045 new centroid time 15.47614641913593\n",
      "WPEQ old duration 110.5 new duration time 30.325\n"
     ]
    },
    {
     "name": "stderr",
     "output_type": "stream",
     "text": [
      "/Users/marinedenolle/miniconda3/envs/seismo_exo/lib/python3.10/site-packages/obspy/signal/filter.py:62: UserWarning: Selected high corner frequency (20) of bandpass is at or above Nyquist (20.0). Applying a high-pass instead.\n",
      "  warnings.warn(msg)\n"
     ]
    },
    {
     "name": "stdout",
     "output_type": "stream",
     "text": [
      "ARAT old centroid time 12.972934635111564 new centroid time 11.404725171165612\n",
      "ARAT old duration 24.025 new duration time 22.425\n",
      "OBSR old centroid time 13.757687597218336 new centroid time 13.174551952804274\n",
      "OBSR old duration 33.775 new duration time 33.175\n",
      "PANH old centroid time 14.588060651693398 new centroid time 13.602737514832738\n",
      "PANH old duration 33.0 new duration time 32.0\n",
      "PARA old centroid time 13.911618223515365 new centroid time 12.438852845536122\n",
      "PARA old duration 29.675 new duration time 28.15\n",
      "RUSH old centroid time 16.09147602575109 new centroid time 13.657687653230072\n",
      "RUSH old duration 30.4 new duration time 27.925\n",
      "SIFT old centroid time 14.646268485290523 new centroid time 10.255315480687969\n",
      "SIFT old duration 25.675 new duration time 21.15\n",
      "FMW old centroid time 17.419828644535208 new centroid time 15.949711357570457\n",
      "FMW old duration 40.975 new duration time 39.5\n",
      "RCM old centroid time 10.092741070180965 new centroid time 10.64891138584614\n",
      "RCM old duration 22.6 new duration time 23.525\n",
      "RCS old centroid time 16.61784683525022 new centroid time 16.134203484572677\n",
      "RCS old duration 33.4 new duration time 32.9\n",
      "RER old centroid time 10.513016708585676 new centroid time 10.122229384330026\n",
      "RER old duration 19.575 new duration time 19.175\n",
      "RER old centroid time 10.597118551414704 new centroid time 10.122229384330026\n",
      "RER old duration 21.175 new duration time 19.175\n",
      "STAR old centroid time 10.739971530349374 new centroid time 11.018465956437803\n",
      "STAR old duration 26.425 new duration time 26.725\n",
      "STAR old centroid time 8.940404670353754 new centroid time 11.018465956437803\n",
      "STAR old duration 16.9 new duration time 26.725\n"
     ]
    },
    {
     "name": "stderr",
     "output_type": "stream",
     "text": [
      "/Users/marinedenolle/miniconda3/envs/seismo_exo/lib/python3.10/site-packages/obspy/signal/filter.py:62: UserWarning: Selected high corner frequency (20) of bandpass is at or above Nyquist (20.0). Applying a high-pass instead.\n",
      "  warnings.warn(msg)\n"
     ]
    },
    {
     "name": "stdout",
     "output_type": "stream",
     "text": [
      "ARAT old centroid time 15.938163853441374 new centroid time 13.135264294330872\n",
      "ARAT old duration 26.85 new duration time 24.0\n",
      "CARB old centroid time 21.671725950723335 new centroid time 13.652850717004215\n",
      "CARB old duration 37.725 new duration time 29.5\n",
      "CRBN old centroid time 20.219080622968935 new centroid time 12.849920566954914\n",
      "CRBN old duration 32.2 new duration time 25.125\n",
      "OBSR old centroid time 15.183834102223123 new centroid time 15.233383211671653\n",
      "OBSR old duration 25.525 new duration time 25.575\n",
      "OPCH old centroid time 18.864334462178988 new centroid time 13.786205451202955\n",
      "OPCH old duration 30.875 new duration time 25.75\n",
      "PANH old centroid time 15.108386307226226 new centroid time 14.267600246816837\n",
      "PANH old duration 26.5 new duration time 25.65\n",
      "PARA old centroid time 15.92077956421917 new centroid time 15.56251451423342\n",
      "PARA old duration 28.875 new duration time 28.5\n",
      "PR01 old centroid time 21.500291860250417 new centroid time 12.181566291134217\n",
      "PR01 old duration 37.6 new duration time 27.775\n",
      "PR04 old centroid time 19.34934415684084 new centroid time 15.732128256683099\n",
      "PR04 old duration 33.3 new duration time 29.675\n",
      "PR05 old centroid time 17.525938572008087 new centroid time 11.025887801883957\n",
      "PR05 old duration 28.425 new duration time 21.8\n",
      "RUSH old centroid time 17.514292731126407 new centroid time 14.585093550480824\n",
      "RUSH old duration 30.05 new duration time 27.1\n",
      "SIFT old centroid time 17.974333036380077 new centroid time 11.437502981005434\n",
      "SIFT old duration 34.9 new duration time 28.175\n",
      "VOIT old centroid time 17.94961757199746 new centroid time 10.94881325332757\n",
      "VOIT old duration 28.825 new duration time 21.675\n",
      "FMW old centroid time 16.16236571188049 new centroid time 12.275959236360604\n",
      "FMW old duration 27.525 new duration time 23.525\n",
      "LO2 old centroid time 16.978237442719937 new centroid time 11.902763360960899\n",
      "LO2 old duration 28.3 new duration time 23.275\n",
      "LON old centroid time 16.798061028497465 new centroid time 14.035136191010807\n",
      "LON old duration 30.075 new duration time 27.25\n",
      "RCM old centroid time 12.498435409958207 new centroid time 14.209024717291506\n",
      "RCM old duration 21.65 new duration time 23.425\n",
      "RCS old centroid time 13.801278010737974 new centroid time 15.363379894586704\n",
      "RCS old duration 26.425 new duration time 28.025\n",
      "RER old centroid time 15.804849536486431 new centroid time 15.483251182398554\n",
      "RER old duration 28.75 new duration time 28.425\n",
      "RER old centroid time 15.606183945820577 new centroid time 15.483251182398554\n",
      "RER old duration 27.925 new duration time 28.425\n",
      "STAR old centroid time 12.16432878333215 new centroid time 14.035260754794571\n",
      "STAR old duration 23.525 new duration time 25.5\n",
      "STAR old centroid time 12.062051038554504 new centroid time 14.035260754794571\n",
      "STAR old duration 23.225 new duration time 25.5\n",
      "WPEQ old centroid time 23.32398183810833 new centroid time 9.390552325893966\n",
      "WPEQ old duration 37.175 new duration time 22.5\n"
     ]
    },
    {
     "name": "stderr",
     "output_type": "stream",
     "text": [
      "/Users/marinedenolle/miniconda3/envs/seismo_exo/lib/python3.10/site-packages/obspy/signal/filter.py:62: UserWarning: Selected high corner frequency (20) of bandpass is at or above Nyquist (20.0). Applying a high-pass instead.\n",
      "  warnings.warn(msg)\n"
     ]
    },
    {
     "name": "stdout",
     "output_type": "stream",
     "text": [
      "ARAT old centroid time 14.62505678600956 new centroid time 8.180515937802097\n",
      "ARAT old duration 24.675 new duration time 18.15\n",
      "CARB old centroid time 18.494235561799947 new centroid time 9.613302222394385\n",
      "CARB old duration 28.65 new duration time 19.9\n",
      "CRBN old centroid time 16.242417267017547 new centroid time 8.048930701130569\n",
      "CRBN old duration 28.725 new duration time 20.55\n",
      "OBSR old centroid time 12.673486934290324 new centroid time 7.5372825235438\n",
      "OBSR old duration 21.575 new duration time 16.5\n",
      "OPCH old centroid time 14.320880367299557 new centroid time 7.120244640408119\n",
      "OPCH old duration 23.25 new duration time 15.95\n",
      "PANH old centroid time 9.208011642918054 new centroid time 6.150652305179376\n",
      "PANH old duration 15.75 new duration time 12.675\n",
      "PARA old centroid time 12.785764419251533 new centroid time 8.351234827712107\n",
      "PARA old duration 21.15 new duration time 16.7\n",
      "PR04 old centroid time 17.276667285498768 new centroid time 8.934208532186325\n",
      "PR04 old duration 28.3 new duration time 19.9\n",
      "PR05 old centroid time 15.70000822092267 new centroid time 8.70542618194122\n",
      "PR05 old duration 28.8 new duration time 21.875\n",
      "RUSH old centroid time 16.434642962920496 new centroid time 9.369544063247648\n",
      "RUSH old duration 29.0 new duration time 21.7\n",
      "SIFT old centroid time 15.478641339985291 new centroid time 10.751689827025709\n",
      "SIFT old duration 27.325 new duration time 22.575\n",
      "VOIT old centroid time 15.270694651854683 new centroid time 6.886454195659139\n",
      "VOIT old duration 24.0 new duration time 15.55\n",
      "LON old centroid time 14.035940910096727 new centroid time 7.456484376219461\n",
      "LON old duration 24.5 new duration time 17.775\n",
      "RCM old centroid time 15.94452507617405 new centroid time 12.29004771676232\n",
      "RCM old duration 53.7 new duration time 50.125\n",
      "RCS old centroid time 4.767490938368035 new centroid time 4.45370166861777\n",
      "RCS old duration 9.325 new duration time 9.0\n",
      "RER old centroid time 11.953929589566512 new centroid time 5.953111442917426\n",
      "RER old duration 19.575 new duration time 13.425\n",
      "RER old centroid time 12.545500275436773 new centroid time 5.953111442917426\n",
      "RER old duration 21.525 new duration time 13.425\n",
      "STAR old centroid time 10.753618425752142 new centroid time 7.846678794472327\n",
      "STAR old duration 18.0 new duration time 15.1\n",
      "WPEQ old centroid time 19.831844227077458 new centroid time 9.51999667164954\n",
      "WPEQ old duration 33.525 new duration time 22.8\n"
     ]
    },
    {
     "name": "stderr",
     "output_type": "stream",
     "text": [
      "/Users/marinedenolle/miniconda3/envs/seismo_exo/lib/python3.10/site-packages/obspy/signal/filter.py:62: UserWarning: Selected high corner frequency (20) of bandpass is at or above Nyquist (20.0). Applying a high-pass instead.\n",
      "  warnings.warn(msg)\n"
     ]
    },
    {
     "name": "stdout",
     "output_type": "stream",
     "text": [
      "OBSR old centroid time 69.28106357611637 new centroid time 5.916885193399322\n",
      "OBSR old duration 76.0 new duration time 12.35\n",
      "SPFR old centroid time 62.070001399542 new centroid time 77.05750918427671\n",
      "SPFR old duration 102.675 new duration time 117.675\n",
      "STAR old centroid time 49.5333104682536 new centroid time 15.417327324900288\n",
      "STAR old duration 69.075 new duration time 31.05\n"
     ]
    },
    {
     "name": "stderr",
     "output_type": "stream",
     "text": [
      "/Users/marinedenolle/miniconda3/envs/seismo_exo/lib/python3.10/site-packages/obspy/signal/filter.py:62: UserWarning: Selected high corner frequency (20) of bandpass is at or above Nyquist (20.0). Applying a high-pass instead.\n",
      "  warnings.warn(msg)\n"
     ]
    },
    {
     "name": "stdout",
     "output_type": "stream",
     "text": [
      "ARAT old centroid time 12.702513198831591 new centroid time 9.636108755740938\n",
      "ARAT old duration 21.65 new duration time 18.375\n",
      "OBSR old centroid time 14.306549007314297 new centroid time 12.956070530302872\n",
      "OBSR old duration 22.725 new duration time 21.325\n",
      "PANH old centroid time 12.531657676611605 new centroid time 10.651937927387479\n",
      "PANH old duration 22.725 new duration time 20.7\n",
      "PARA old centroid time 13.985189087215655 new centroid time 11.447851924685578\n",
      "PARA old duration 23.475 new duration time 20.85\n",
      "PR05 old centroid time 14.828215012278946 new centroid time 10.447251935241532\n",
      "PR05 old duration 63.925 new duration time 59.25\n",
      "RUSH old centroid time 15.95614061704453 new centroid time 12.171428299505184\n",
      "RUSH old duration 27.9 new duration time 24.125\n",
      "FMW old centroid time 13.362987469999785 new centroid time 12.7432323774188\n",
      "FMW old duration 23.35 new duration time 22.725\n",
      "RCM old centroid time 10.609431953344542 new centroid time 10.768422539423469\n",
      "RCM old duration 19.45 new duration time 19.625\n",
      "RCS old centroid time 8.767178230007033 new centroid time 8.565866765075425\n",
      "RCS old duration 14.575 new duration time 14.35\n",
      "RER old centroid time 11.238761062120208 new centroid time 8.847935628071848\n",
      "RER old duration 18.575 new duration time 16.125\n",
      "RER old centroid time 11.2755451908078 new centroid time 8.847935628071848\n",
      "RER old duration 18.7 new duration time 16.125\n",
      "STAR old centroid time 10.495737575248883 new centroid time 9.300111530220198\n",
      "STAR old duration 18.625 new duration time 17.4\n"
     ]
    },
    {
     "name": "stderr",
     "output_type": "stream",
     "text": [
      "/Users/marinedenolle/miniconda3/envs/seismo_exo/lib/python3.10/site-packages/obspy/signal/filter.py:62: UserWarning: Selected high corner frequency (20) of bandpass is at or above Nyquist (20.0). Applying a high-pass instead.\n",
      "  warnings.warn(msg)\n"
     ]
    },
    {
     "name": "stdout",
     "output_type": "stream",
     "text": [
      "ARAT old centroid time 12.110729622037532 new centroid time 10.073336349380497\n",
      "ARAT old duration 20.475 new duration time 18.4\n",
      "OBSR old centroid time 12.857311932674754 new centroid time 10.158124126749977\n",
      "OBSR old duration 25.575 new duration time 22.825\n",
      "PANH old centroid time 11.293601444057359 new centroid time 11.073918189094133\n",
      "PANH old duration 22.85 new duration time 22.625\n",
      "PARA old centroid time 10.724979146973576 new centroid time 8.839764207950171\n",
      "PARA old duration 15.175 new duration time 13.25\n",
      "PR01 old centroid time 63.3409987134662 new centroid time 21.91222467839428\n",
      "PR01 old duration 127.425 new duration time 82.4\n",
      "PR05 old centroid time 14.158970511918993 new centroid time 11.674319669382344\n",
      "PR05 old duration 27.9 new duration time 25.325\n",
      "RUSH old centroid time 14.66898791834217 new centroid time 11.552060907513562\n",
      "RUSH old duration 26.625 new duration time 23.425\n",
      "SIFT old centroid time 15.871437274993063 new centroid time 11.514720780914786\n",
      "SIFT old duration 26.125 new duration time 21.675\n",
      "VOIT old centroid time 15.590353658347126 new centroid time 10.442517737141332\n",
      "VOIT old duration 27.05 new duration time 21.9\n",
      "FMW old centroid time 12.646991397650288 new centroid time 9.505943707256847\n",
      "FMW old duration 23.375 new duration time 20.125\n",
      "LON old centroid time 11.642862199777174 new centroid time 9.485847606085501\n",
      "LON old duration 22.325 new duration time 20.1\n",
      "RCM old centroid time 5.257388038980269 new centroid time 8.605103477565649\n",
      "RCM old duration 10.55 new duration time 14.05\n",
      "RCS old centroid time 8.764627259452489 new centroid time 8.911067195303708\n",
      "RCS old duration 15.925 new duration time 16.075\n",
      "RER old centroid time 9.313662841281948 new centroid time 6.061407196402331\n",
      "RER old duration 17.525 new duration time 13.9\n",
      "RER old centroid time 9.60812460447232 new centroid time 6.061407196402331\n",
      "RER old duration 17.6 new duration time 13.9\n",
      "STAR old centroid time 9.218262933826733 new centroid time 9.733156110546423\n",
      "STAR old duration 20.275 new duration time 20.825\n"
     ]
    },
    {
     "name": "stderr",
     "output_type": "stream",
     "text": [
      "/Users/marinedenolle/miniconda3/envs/seismo_exo/lib/python3.10/site-packages/obspy/signal/filter.py:62: UserWarning: Selected high corner frequency (20) of bandpass is at or above Nyquist (20.0). Applying a high-pass instead.\n",
      "  warnings.warn(msg)\n"
     ]
    },
    {
     "name": "stdout",
     "output_type": "stream",
     "text": [
      "ARAT old centroid time 15.080153132328082 new centroid time 11.274461948497695\n",
      "ARAT old duration 30.175 new duration time 26.325\n",
      "OBSR old centroid time 18.05386293014692 new centroid time 13.813741309291409\n",
      "OBSR old duration 37.45 new duration time 33.15\n",
      "PANH old centroid time 15.718102289686767 new centroid time 10.89873473048617\n",
      "PANH old duration 30.9 new duration time 25.925\n",
      "PARA old centroid time 23.214296786400727 new centroid time 18.993312220245464\n",
      "PARA old duration 94.975 new duration time 90.75\n",
      "FMW old centroid time 16.0497634948577 new centroid time 10.963490998331194\n",
      "FMW old duration 29.6 new duration time 24.425\n",
      "RCM old centroid time 23.223088274642464 new centroid time 21.63048970628696\n",
      "RCM old duration 93.25 new duration time 91.65\n",
      "RCS old centroid time 14.003245733214557 new centroid time 10.634464317538892\n",
      "RCS old duration 26.55 new duration time 23.125\n",
      "RER old centroid time 13.828115786882625 new centroid time 9.90010674031812\n",
      "RER old duration 28.175 new duration time 24.25\n",
      "RER old centroid time 13.104872590031672 new centroid time 9.90010674031812\n",
      "RER old duration 26.075 new duration time 24.25\n",
      "STAR old centroid time 12.651857494150446 new centroid time 11.018313418321013\n",
      "STAR old duration 26.425 new duration time 24.775\n",
      "STAR old centroid time 11.616500401198484 new centroid time 11.018313418321013\n",
      "STAR old duration 22.25 new duration time 24.775\n"
     ]
    },
    {
     "name": "stderr",
     "output_type": "stream",
     "text": [
      "/Users/marinedenolle/miniconda3/envs/seismo_exo/lib/python3.10/site-packages/obspy/signal/filter.py:62: UserWarning: Selected high corner frequency (20) of bandpass is at or above Nyquist (20.0). Applying a high-pass instead.\n",
      "  warnings.warn(msg)\n"
     ]
    },
    {
     "name": "stdout",
     "output_type": "stream",
     "text": [
      "ARAT old centroid time 11.934788651115587 new centroid time 9.15396647625093\n",
      "ARAT old duration 19.75 new duration time 16.925\n",
      "CARB old centroid time 19.15079322187489 new centroid time 14.104407669563853\n",
      "CARB old duration 39.85 new duration time 34.725\n",
      "OBSR old centroid time 9.736690530094467 new centroid time 7.804052354188095\n",
      "OBSR old duration 20.125 new duration time 18.175\n",
      "OPCH old centroid time 18.226120310284397 new centroid time 13.572210636641646\n",
      "OPCH old duration 46.4 new duration time 41.575\n",
      "PANH old centroid time 11.467471344655799 new centroid time 9.44927785533987\n",
      "PANH old duration 27.05 new duration time 25.0\n",
      "PARA old centroid time 11.447265924673072 new centroid time 9.215724295013166\n",
      "PARA old duration 20.5 new duration time 18.225\n",
      "PR04 old centroid time 16.71028825015095 new centroid time 12.789444949538765\n",
      "PR04 old duration 35.05 new duration time 31.05\n",
      "RUSH old centroid time 14.577332529924073 new centroid time 11.159839689014946\n",
      "RUSH old duration 28.0 new duration time 24.45\n",
      "SIFT old centroid time 15.961037487552737 new centroid time 13.115677146942414\n",
      "SIFT old duration 29.475 new duration time 26.775\n",
      "VOIT old centroid time 15.820594571132391 new centroid time 11.509816206307113\n",
      "VOIT old duration 27.4 new duration time 22.975\n",
      "FMW old centroid time 10.03685602447158 new centroid time 7.704814940518577\n",
      "FMW old duration 19.2 new duration time 16.825\n",
      "LO2 old centroid time 29.595697446716212 new centroid time 26.649989249866955\n",
      "LO2 old duration 80.575 new duration time 77.625\n",
      "LON old centroid time 28.982312018488727 new centroid time 26.063411281605756\n",
      "LON old duration 79.85 new duration time 76.925\n",
      "RCM old centroid time 8.917816198031403 new centroid time 8.032834566700528\n",
      "RCM old duration 35.025 new duration time 34.125\n",
      "RCS old centroid time 4.950173807373195 new centroid time 4.680284891980681\n",
      "RCS old duration 11.625 new duration time 11.35\n",
      "RER old centroid time 35.51623849201829 new centroid time 33.53231019985783\n",
      "RER old duration 128.2 new duration time 126.1\n",
      "RER old centroid time 10.297864754444623 new centroid time 33.53231019985783\n",
      "RER old duration 20.05 new duration time 126.1\n"
     ]
    },
    {
     "name": "stderr",
     "output_type": "stream",
     "text": [
      "/Users/marinedenolle/miniconda3/envs/seismo_exo/lib/python3.10/site-packages/obspy/signal/filter.py:62: UserWarning: Selected high corner frequency (20) of bandpass is at or above Nyquist (20.0). Applying a high-pass instead.\n",
      "  warnings.warn(msg)\n"
     ]
    },
    {
     "name": "stdout",
     "output_type": "stream",
     "text": [
      "KAUT old centroid time 62.908165157562706 new centroid time 77.91487317391322\n",
      "KAUT old duration 119.125 new duration time 134.125\n",
      "OBSR old centroid time 95.31976747437866 new centroid time 6.5086386004265995\n",
      "OBSR old duration 133.9 new duration time 11.35\n",
      "PANH old centroid time 105.26136037784272 new centroid time 4.492365863741771\n",
      "PANH old duration 132.15 new duration time 9.625\n",
      "RCM old centroid time 86.20138407398659 new centroid time 3.2881401616962567\n",
      "RCM old duration 127.7 new duration time 6.45\n",
      "RCS old centroid time 172.6275104180876 new centroid time 2.880753696102685\n",
      "RCS old duration 126.25 new duration time 5.85\n"
     ]
    },
    {
     "name": "stderr",
     "output_type": "stream",
     "text": [
      "/Users/marinedenolle/miniconda3/envs/seismo_exo/lib/python3.10/site-packages/obspy/signal/filter.py:62: UserWarning: Selected high corner frequency (20) of bandpass is at or above Nyquist (20.0). Applying a high-pass instead.\n",
      "  warnings.warn(msg)\n"
     ]
    },
    {
     "name": "stdout",
     "output_type": "stream",
     "text": [
      "CARB old centroid time 76.34859605150754 new centroid time 91.62132128343882\n",
      "CARB old duration 134.9 new duration time 149.875\n",
      "OBSR old centroid time 12.531681733707046 new centroid time 11.469108831809656\n",
      "OBSR old duration 57.85 new duration time 56.725\n",
      "PANH old centroid time 4.808898572168977 new centroid time 4.323575609657196\n",
      "PANH old duration 9.7 new duration time 9.2\n",
      "RCM old centroid time 1.8444802985990574 new centroid time 3.321929787529108\n",
      "RCM old duration 4.925 new duration time 6.575\n",
      "RCS old centroid time 3.0251023540755453 new centroid time 3.3973251658091543\n",
      "RCS old duration 5.925 new duration time 6.35\n"
     ]
    },
    {
     "name": "stderr",
     "output_type": "stream",
     "text": [
      "/Users/marinedenolle/miniconda3/envs/seismo_exo/lib/python3.10/site-packages/obspy/signal/filter.py:62: UserWarning: Selected high corner frequency (20) of bandpass is at or above Nyquist (20.0). Applying a high-pass instead.\n",
      "  warnings.warn(msg)\n"
     ]
    },
    {
     "name": "stdout",
     "output_type": "stream",
     "text": [
      "ARAT old centroid time 15.811678807359517 new centroid time 13.941285775497422\n",
      "ARAT old duration 29.1 new duration time 27.225\n",
      "CARB old centroid time 20.409238723882368 new centroid time 13.675216558956942\n",
      "CARB old duration 35.4 new duration time 28.3\n",
      "CRBN old centroid time 18.681710878607223 new centroid time 11.616282596173575\n",
      "CRBN old duration 30.4 new duration time 23.375\n",
      "OBSR old centroid time 14.118954802859141 new centroid time 12.778237201484357\n",
      "OBSR old duration 25.2 new duration time 23.85\n",
      "OPCH old centroid time 18.10386160641219 new centroid time 14.439818663627884\n",
      "OPCH old duration 28.7 new duration time 25.075\n",
      "PANH old centroid time 14.871970751164838 new centroid time 13.488456661343111\n",
      "PANH old duration 27.7 new duration time 26.3\n",
      "PARA old centroid time 16.385473960005328 new centroid time 14.998691280028426\n",
      "PARA old duration 31.4 new duration time 29.975\n",
      "PR04 old centroid time 17.251008000120354 new centroid time 14.406853570758654\n",
      "PR04 old duration 27.9 new duration time 25.075\n",
      "PR05 old centroid time 16.358231826943513 new centroid time 13.691481933641688\n",
      "PR05 old duration 27.425 new duration time 24.85\n",
      "RUSH old centroid time 17.12382493365321 new centroid time 14.683858296622809\n",
      "RUSH old duration 31.25 new duration time 28.825\n",
      "SIFT old centroid time 15.831841062346452 new centroid time 13.04240989509646\n",
      "SIFT old duration 29.85 new duration time 27.025\n",
      "VOIT old centroid time 16.941156927353077 new centroid time 13.306112272198982\n",
      "VOIT old duration 30.075 new duration time 26.35\n",
      "FMW old centroid time 16.950718415487625 new centroid time 15.058176443066806\n",
      "FMW old duration 35.6 new duration time 33.7\n",
      "LO2 old centroid time 15.951019580997368 new centroid time 13.116199899521886\n",
      "LO2 old duration 27.025 new duration time 24.175\n",
      "LON old centroid time 15.758427646557871 new centroid time 12.722955398143126\n",
      "LON old duration 26.875 new duration time 23.825\n",
      "RCM old centroid time 11.936807105368429 new centroid time 11.497306054829416\n",
      "RCM old duration 21.95 new duration time 21.5\n",
      "RCS old centroid time 12.98540302229754 new centroid time 12.49577188992066\n",
      "RCS old duration 22.8 new duration time 22.3\n",
      "RER old centroid time 15.041858242735085 new centroid time 13.945671056263581\n",
      "RER old duration 28.2 new duration time 27.1\n",
      "RER old centroid time 14.904635227591488 new centroid time 13.945671056263581\n",
      "RER old duration 28.275 new duration time 27.1\n",
      "STAR old centroid time 12.494760308335168 new centroid time 12.422563035980138\n",
      "STAR old duration 25.0 new duration time 24.925\n",
      "STAR old centroid time 12.268011982970389 new centroid time 12.422563035980138\n",
      "STAR old duration 24.65 new duration time 24.925\n",
      "WPEQ old centroid time 23.297737929744017 new centroid time 15.068026453487404\n",
      "WPEQ old duration 38.1 new duration time 29.925\n"
     ]
    },
    {
     "name": "stderr",
     "output_type": "stream",
     "text": [
      "/Users/marinedenolle/miniconda3/envs/seismo_exo/lib/python3.10/site-packages/obspy/signal/filter.py:62: UserWarning: Selected high corner frequency (20) of bandpass is at or above Nyquist (20.0). Applying a high-pass instead.\n",
      "  warnings.warn(msg)\n"
     ]
    },
    {
     "name": "stdout",
     "output_type": "stream",
     "text": [
      "ARAT old centroid time 11.166560829559488 new centroid time 9.869895141842484\n",
      "ARAT old duration 23.625 new duration time 22.275\n",
      "CARB old centroid time 15.766526322310096 new centroid time 12.348809837262001\n",
      "CARB old duration 31.275 new duration time 27.7\n",
      "OBSR old centroid time 11.291177490454718 new centroid time 10.979969185873195\n",
      "OBSR old duration 25.675 new duration time 25.35\n",
      "PANH old centroid time 12.946642826498321 new centroid time 11.585514002061359\n",
      "PANH old duration 67.475 new duration time 65.925\n",
      "PARA old centroid time 12.43692628229263 new centroid time 11.368899442335737\n",
      "PARA old duration 27.075 new duration time 25.95\n",
      "PR04 old centroid time 13.003120537316022 new centroid time 10.322281553944467\n",
      "PR04 old duration 28.5 new duration time 25.675\n",
      "PR05 old centroid time 12.606985103672042 new centroid time 10.70682834010425\n",
      "PR05 old duration 25.4 new duration time 23.4\n",
      "RUSH old centroid time 12.807604944631347 new centroid time 10.804430739267534\n",
      "RUSH old duration 24.45 new duration time 22.375\n",
      "SIFT old centroid time 12.356873719764483 new centroid time 10.411607089801416\n",
      "SIFT old duration 24.475 new duration time 22.45\n",
      "VOIT old centroid time 13.973650402199933 new centroid time 11.209142831174756\n",
      "VOIT old duration 28.1 new duration time 25.2\n",
      "LO2 old centroid time 11.03449346723007 new centroid time 9.050035912091074\n",
      "LO2 old duration 21.7 new duration time 19.65\n",
      "LON old centroid time 11.017192333938944 new centroid time 9.092728163935336\n",
      "LON old duration 21.6 new duration time 19.6\n",
      "RCM old centroid time 9.218711842940975 new centroid time 8.722299132996843\n",
      "RCM old duration 99.7 new duration time 99.15\n",
      "RCS old centroid time 9.988339676317006 new centroid time 9.823735918201445\n",
      "RCS old duration 21.075 new duration time 20.9\n",
      "RER old centroid time 10.146222522239382 new centroid time 9.457996036560955\n",
      "RER old duration 22.525 new duration time 21.8\n",
      "RER old centroid time 9.945128194464093 new centroid time 9.457996036560955\n",
      "RER old duration 22.475 new duration time 21.8\n",
      "STAR old centroid time 7.414547155752708 new centroid time 7.306283636810021\n",
      "STAR old duration 18.225 new duration time 18.1\n",
      "STAR old centroid time 6.976127928968457 new centroid time 7.306283636810021\n",
      "STAR old duration 17.675 new duration time 18.1\n"
     ]
    },
    {
     "name": "stderr",
     "output_type": "stream",
     "text": [
      "/Users/marinedenolle/miniconda3/envs/seismo_exo/lib/python3.10/site-packages/obspy/signal/filter.py:62: UserWarning: Selected high corner frequency (20) of bandpass is at or above Nyquist (20.0). Applying a high-pass instead.\n",
      "  warnings.warn(msg)\n"
     ]
    },
    {
     "name": "stdout",
     "output_type": "stream",
     "text": [
      "ARAT old centroid time 25.00384071425075 new centroid time 22.241965253131653\n",
      "ARAT old duration 52.725 new duration time 50.0\n",
      "OBSR old centroid time 29.732152390893575 new centroid time 26.019703805063717\n",
      "OBSR old duration 59.0 new duration time 55.15\n",
      "OPCH old centroid time 133.3545750402528 new centroid time 147.91427340899173\n",
      "OPCH old duration 134.7 new duration time 149.7\n",
      "PARA old centroid time 28.8389955110718 new centroid time 26.409218863053646\n",
      "PARA old duration 57.05 new duration time 54.6\n",
      "RUSH old centroid time 29.599638270267825 new centroid time 23.70351657152456\n",
      "RUSH old duration 57.475 new duration time 51.425\n",
      "FMW old centroid time 28.36626967817283 new centroid time 25.085164946675086\n",
      "FMW old duration 58.1 new duration time 54.825\n",
      "LO2 old centroid time 26.803044004222322 new centroid time 22.052837400608958\n",
      "LO2 old duration 54.925 new duration time 50.175\n",
      "LON old centroid time 26.83543521657273 new centroid time 22.138005822792415\n",
      "LON old duration 58.65 new duration time 53.975\n",
      "RCM old centroid time 26.221637294679393 new centroid time 25.42357209645807\n",
      "RCM old duration 57.6 new duration time 56.8\n",
      "RCS old centroid time 26.37160552346041 new centroid time 24.05621459460432\n",
      "RCS old duration 54.975 new duration time 52.675\n",
      "RER old centroid time 27.841314446195838 new centroid time 23.736498868551244\n",
      "RER old duration 51.5 new duration time 47.475\n",
      "RER old centroid time 28.188346071804744 new centroid time 23.736498868551244\n",
      "RER old duration 54.625 new duration time 47.475\n",
      "STAR old centroid time 25.03087909098443 new centroid time 24.320085125044944\n",
      "STAR old duration 53.4 new duration time 52.675\n",
      "STAR old centroid time 23.597897870248573 new centroid time 24.320085125044944\n",
      "STAR old duration 46.875 new duration time 52.675\n"
     ]
    },
    {
     "name": "stderr",
     "output_type": "stream",
     "text": [
      "/Users/marinedenolle/miniconda3/envs/seismo_exo/lib/python3.10/site-packages/obspy/signal/filter.py:62: UserWarning: Selected high corner frequency (20) of bandpass is at or above Nyquist (20.0). Applying a high-pass instead.\n",
      "  warnings.warn(msg)\n"
     ]
    },
    {
     "name": "stdout",
     "output_type": "stream",
     "text": [
      "ARAT old centroid time 16.022405267008217 new centroid time 14.059212700198803\n",
      "ARAT old duration 27.4 new duration time 25.375\n",
      "OBSR old centroid time 14.856951685801269 new centroid time 14.463375194826094\n",
      "OBSR old duration 26.0 new duration time 25.6\n",
      "OPCH old centroid time 20.15350559010158 new centroid time 13.509431272333167\n",
      "OPCH old duration 35.75 new duration time 28.95\n",
      "PANH old centroid time 15.229874075500858 new centroid time 12.835152236775613\n",
      "PANH old duration 26.1 new duration time 23.675\n",
      "PARA old centroid time 16.21001828111369 new centroid time 13.496093142726954\n",
      "PARA old duration 28.9 new duration time 26.175\n",
      "PR04 old centroid time 16.643757537762333 new centroid time 10.671144497926825\n",
      "PR04 old duration 30.05 new duration time 23.675\n",
      "PR05 old centroid time 16.33748731061375 new centroid time 11.426353497980951\n",
      "PR05 old duration 26.425 new duration time 21.425\n",
      "RUSH old centroid time 18.07857787791642 new centroid time 12.299295689606758\n",
      "RUSH old duration 30.1 new duration time 24.075\n",
      "SIFT old centroid time 16.784735255628306 new centroid time 12.560869625229424\n",
      "SIFT old duration 30.925 new duration time 26.575\n",
      "VOIT old centroid time 22.81875075416732 new centroid time 20.59208381322692\n",
      "VOIT old duration 76.075 new duration time 73.925\n",
      "FMW old centroid time 14.949719382462916 new centroid time 12.56780960502635\n",
      "FMW old duration 26.5 new duration time 24.075\n",
      "RCM old centroid time 13.715115939357156 new centroid time 12.977671864930297\n",
      "RCM old duration 24.375 new duration time 23.625\n",
      "RCS old centroid time 10.7309758659684 new centroid time 11.461810512383304\n",
      "RCS old duration 19.525 new duration time 20.275\n",
      "RER old centroid time 13.21975410293988 new centroid time 8.830809602755034\n",
      "RER old duration 22.225 new duration time 17.6\n",
      "RER old centroid time 13.491037768311593 new centroid time 8.830809602755034\n",
      "RER old duration 22.5 new duration time 17.6\n",
      "STAR old centroid time 13.442415104017359 new centroid time 12.564063444239178\n",
      "STAR old duration 23.4 new duration time 22.5\n",
      "STAR old centroid time 13.598994170854974 new centroid time 12.564063444239178\n",
      "STAR old duration 23.775 new duration time 22.5\n",
      "WPEQ old centroid time 33.19155631647027 new centroid time 23.554472041629126\n",
      "WPEQ old duration 124.05 new duration time 114.225\n"
     ]
    },
    {
     "name": "stderr",
     "output_type": "stream",
     "text": [
      "/Users/marinedenolle/miniconda3/envs/seismo_exo/lib/python3.10/site-packages/obspy/signal/filter.py:62: UserWarning: Selected high corner frequency (20) of bandpass is at or above Nyquist (20.0). Applying a high-pass instead.\n",
      "  warnings.warn(msg)\n"
     ]
    },
    {
     "name": "stdout",
     "output_type": "stream",
     "text": [
      "ARAT old centroid time 9.500866912453962 new centroid time 7.631459643427291\n",
      "ARAT old duration 16.5 new duration time 14.6\n",
      "OBSR old centroid time 13.128284304477638 new centroid time 11.224333680599395\n",
      "OBSR old duration 36.475 new duration time 34.55\n",
      "PANH old centroid time 10.319923885551626 new centroid time 8.846127732137344\n",
      "PANH old duration 29.75 new duration time 28.225\n",
      "PARA old centroid time 10.274563319879295 new centroid time 8.807494563499846\n",
      "PARA old duration 21.75 new duration time 20.225\n",
      "RUSH old centroid time 13.35018131436721 new centroid time 9.739382419661695\n",
      "RUSH old duration 23.0 new duration time 19.4\n",
      "FMW old centroid time 10.284669252532925 new centroid time 7.596473671686956\n",
      "FMW old duration 21.4 new duration time 18.625\n",
      "RCM old centroid time 8.968537665021438 new centroid time 9.427190774093386\n",
      "RCM old duration 31.275 new duration time 31.825\n",
      "RCS old centroid time 7.990986106519377 new centroid time 8.08334299592298\n",
      "RCS old duration 19.925 new duration time 20.025\n",
      "RER old centroid time 8.465571686138935 new centroid time 7.4630395642269844\n",
      "RER old duration 20.7 new duration time 19.675\n",
      "RER old centroid time 8.073453501328078 new centroid time 7.4630395642269844\n",
      "RER old duration 15.65 new duration time 19.675\n",
      "STAR old centroid time 16.52175514302268 new centroid time 16.14416182640174\n",
      "STAR old duration 79.9 new duration time 79.5\n"
     ]
    },
    {
     "name": "stderr",
     "output_type": "stream",
     "text": [
      "/Users/marinedenolle/miniconda3/envs/seismo_exo/lib/python3.10/site-packages/obspy/signal/filter.py:62: UserWarning: Selected high corner frequency (20) of bandpass is at or above Nyquist (20.0). Applying a high-pass instead.\n",
      "  warnings.warn(msg)\n"
     ]
    },
    {
     "name": "stdout",
     "output_type": "stream",
     "text": [
      "ARAT old centroid time 19.541644494304904 new centroid time 17.078228816394446\n",
      "ARAT old duration 41.975 new duration time 39.475\n",
      "OBSR old centroid time 22.75663180291115 new centroid time 20.93592959571063\n",
      "OBSR old duration 52.2 new duration time 50.375\n",
      "PANH old centroid time 19.003104741984526 new centroid time 17.755380426332025\n",
      "PANH old duration 40.425 new duration time 39.175\n",
      "PARA old centroid time 17.775659309477632 new centroid time 15.986952738203973\n",
      "PARA old duration 36.575 new duration time 34.75\n",
      "PR04 old centroid time 19.24575749956423 new centroid time 15.744499235819656\n",
      "PR04 old duration 38.1 new duration time 34.55\n",
      "RUSH old centroid time 20.696971205784923 new centroid time 16.89597716895961\n",
      "RUSH old duration 41.275 new duration time 37.475\n",
      "FMW old centroid time 20.363139376537294 new centroid time 18.111013481924942\n",
      "FMW old duration 41.525 new duration time 39.275\n",
      "LO2 old centroid time 18.00396674880624 new centroid time 15.412003803645623\n",
      "LO2 old duration 34.925 new duration time 32.225\n",
      "LON old centroid time 19.72352038746995 new centroid time 17.059963004376982\n",
      "LON old duration 50.475 new duration time 47.675\n",
      "RCM old centroid time 16.15655579604808 new centroid time 16.30352712699401\n",
      "RCM old duration 37.525 new duration time 37.675\n",
      "RCS old centroid time 17.12750618178276 new centroid time 15.893219539814975\n",
      "RCS old duration 35.425 new duration time 34.175\n",
      "RER old centroid time 18.12315693082786 new centroid time 16.178214098586114\n",
      "RER old duration 43.25 new duration time 41.275\n",
      "RER old centroid time 18.163227413585467 new centroid time 16.178214098586114\n",
      "RER old duration 44.35 new duration time 41.275\n",
      "STAR old centroid time 17.54540435275255 new centroid time 17.787410114301494\n",
      "STAR old duration 45.25 new duration time 45.5\n",
      "STAR old centroid time 15.281672789363297 new centroid time 17.787410114301494\n",
      "STAR old duration 34.6 new duration time 45.5\n"
     ]
    },
    {
     "name": "stderr",
     "output_type": "stream",
     "text": [
      "/Users/marinedenolle/miniconda3/envs/seismo_exo/lib/python3.10/site-packages/obspy/signal/filter.py:62: UserWarning: Selected high corner frequency (20) of bandpass is at or above Nyquist (20.0). Applying a high-pass instead.\n",
      "  warnings.warn(msg)\n"
     ]
    },
    {
     "name": "stdout",
     "output_type": "stream",
     "text": [
      "ARAT old centroid time 25.50616722941986 new centroid time 23.50186213667855\n",
      "ARAT old duration 58.425 new duration time 56.325\n",
      "OBSR old centroid time 28.959875446997522 new centroid time 31.604278444224825\n",
      "OBSR old duration 85.0 new duration time 87.975\n",
      "PANH old centroid time 22.28368304953783 new centroid time 20.546510284797563\n",
      "PANH old duration 54.2 new duration time 52.35\n",
      "PARA old centroid time 33.178869917975035 new centroid time 31.18723905391108\n",
      "PARA old duration 106.05 new duration time 103.95\n",
      "RCM old centroid time 20.665175989915294 new centroid time 20.489224041063956\n",
      "RCM old duration 50.325 new duration time 50.125\n",
      "RER old centroid time 24.151209697490568 new centroid time 22.946767240030898\n",
      "RER old duration 56.775 new duration time 55.475\n",
      "STAR old centroid time 22.638186559746902 new centroid time 22.49164161650093\n",
      "STAR old duration 56.625 new duration time 56.45\n"
     ]
    },
    {
     "name": "stderr",
     "output_type": "stream",
     "text": [
      "/Users/marinedenolle/miniconda3/envs/seismo_exo/lib/python3.10/site-packages/obspy/signal/filter.py:62: UserWarning: Selected high corner frequency (20) of bandpass is at or above Nyquist (20.0). Applying a high-pass instead.\n",
      "  warnings.warn(msg)\n"
     ]
    },
    {
     "name": "stdout",
     "output_type": "stream",
     "text": [
      "ARAT old centroid time 9.621224728139024 new centroid time 8.550706839607221\n",
      "ARAT old duration 19.075 new duration time 18.0\n",
      "OBSR old centroid time 8.286251196942263 new centroid time 6.5581252853411405\n",
      "OBSR old duration 15.675 new duration time 13.9\n",
      "PANH old centroid time 8.279898477349324 new centroid time 7.464899541104169\n",
      "PANH old duration 16.2 new duration time 15.375\n",
      "PARA old centroid time 9.094879547411832 new centroid time 8.628667063259298\n",
      "PARA old duration 17.725 new duration time 17.25\n",
      "PR04 old centroid time 22.566450589290262 new centroid time 19.54955248430655\n",
      "PR04 old duration 85.7 new duration time 82.4\n",
      "PR05 old centroid time 11.947619076841828 new centroid time 9.963148807735664\n",
      "PR05 old duration 23.25 new duration time 21.225\n",
      "RUSH old centroid time 14.197619650603786 new centroid time 11.71564342669909\n",
      "RUSH old duration 28.0 new duration time 25.525\n",
      "SIFT old centroid time 13.191170910687527 new centroid time 11.251778792105672\n",
      "SIFT old duration 25.325 new duration time 23.425\n",
      "VOIT old centroid time 13.922786415354517 new centroid time 10.21971257290616\n",
      "VOIT old duration 27.175 new duration time 23.325\n",
      "FMW old centroid time 9.261011149088452 new centroid time 7.43163163170263\n",
      "FMW old duration 17.875 new duration time 16.025\n",
      "LON old centroid time 8.936053811967946 new centroid time 7.3711575562313\n",
      "LON old duration 16.7 new duration time 15.1\n",
      "RCM old centroid time 3.865933625427136 new centroid time 4.178741351450488\n",
      "RCM old duration 9.675 new duration time 10.025\n",
      "RCS old centroid time 5.58990509649507 new centroid time 5.469430954567737\n",
      "RCS old duration 9.9 new duration time 9.775\n",
      "RER old centroid time 22.209760949627693 new centroid time 21.63785598167315\n",
      "RER old duration 83.675 new duration time 83.075\n",
      "RER old centroid time 19.68648066428713 new centroid time 21.63785598167315\n",
      "RER old duration 81.725 new duration time 83.075\n",
      "STAR old centroid time 22.17118545516401 new centroid time 22.202497719392294\n",
      "STAR old duration 81.125 new duration time 81.175\n",
      "STAR old centroid time 15.71765204746845 new centroid time 22.202497719392294\n",
      "STAR old duration 79.05 new duration time 81.175\n"
     ]
    },
    {
     "name": "stderr",
     "output_type": "stream",
     "text": [
      "/Users/marinedenolle/miniconda3/envs/seismo_exo/lib/python3.10/site-packages/obspy/signal/filter.py:62: UserWarning: Selected high corner frequency (20) of bandpass is at or above Nyquist (20.0). Applying a high-pass instead.\n",
      "  warnings.warn(msg)\n"
     ]
    },
    {
     "name": "stdout",
     "output_type": "stream",
     "text": [
      "ARAT old centroid time 9.839314202433803 new centroid time 9.42635261582105\n",
      "ARAT old duration 17.35 new duration time 16.925\n",
      "CARB old centroid time 14.332568676789753 new centroid time 10.890765748531402\n",
      "CARB old duration 29.025 new duration time 25.525\n",
      "OBSR old centroid time 8.990305148666321 new centroid time 8.899198837574561\n",
      "OBSR old duration 17.525 new duration time 17.425\n",
      "OPCH old centroid time 11.972099817399542 new centroid time 6.5286257299624095\n",
      "OPCH old duration 20.525 new duration time 14.775\n",
      "PANH old centroid time 9.695856339882194 new centroid time 8.876366602156608\n",
      "PANH old duration 19.275 new duration time 18.425\n",
      "PARA old centroid time 10.172442158335551 new centroid time 9.955262833565323\n",
      "PARA old duration 19.25 new duration time 19.025\n",
      "PR04 old centroid time 10.721520851256791 new centroid time 5.992830559972745\n",
      "PR04 old duration 20.6 new duration time 15.25\n",
      "PR05 old centroid time 10.056762619418503 new centroid time 8.14067937946572\n",
      "PR05 old duration 18.2 new duration time 16.225\n",
      "RUSH old centroid time 11.377037434549752 new centroid time 9.27069690140776\n",
      "RUSH old duration 20.625 new duration time 18.475\n",
      "SIFT old centroid time 10.89126730344295 new centroid time 9.42860356639522\n",
      "SIFT old duration 21.875 new duration time 20.4\n",
      "VOIT old centroid time 13.745994183310328 new centroid time 8.908789962986077\n",
      "VOIT old duration 26.275 new duration time 21.05\n",
      "FMW old centroid time 8.77639421190357 new centroid time 8.702477081297928\n",
      "FMW old duration 17.05 new duration time 16.975\n",
      "LON old centroid time 9.090676266683394 new centroid time 6.830922139611723\n",
      "LON old duration 16.175 new duration time 13.85\n",
      "RCM old centroid time 8.326168572129145 new centroid time 9.999605493519745\n",
      "RCM old duration 16.875 new duration time 18.65\n",
      "RCS old centroid time 5.660250990938649 new centroid time 8.542266216061591\n",
      "RCS old duration 11.925 new duration time 14.975\n",
      "RER old centroid time 7.5744876911060395 new centroid time 6.417777242296129\n",
      "RER old duration 14.125 new duration time 12.9\n",
      "RER old centroid time 7.602740601400917 new centroid time 6.417777242296129\n",
      "RER old duration 14.4 new duration time 12.9\n",
      "STAR old centroid time 7.500606950039623 new centroid time 8.533596482082986\n",
      "STAR old duration 15.175 new duration time 16.275\n",
      "WPEQ old centroid time 16.037512057649963 new centroid time 9.385853720607596\n",
      "WPEQ old duration 27.725 new duration time 21.225\n"
     ]
    },
    {
     "name": "stderr",
     "output_type": "stream",
     "text": [
      "/Users/marinedenolle/miniconda3/envs/seismo_exo/lib/python3.10/site-packages/obspy/signal/filter.py:62: UserWarning: Selected high corner frequency (20) of bandpass is at or above Nyquist (20.0). Applying a high-pass instead.\n",
      "  warnings.warn(msg)\n"
     ]
    },
    {
     "name": "stdout",
     "output_type": "stream",
     "text": [
      "CRBN old centroid time 175.91410394216487 new centroid time 190.68689224633792\n",
      "CRBN old duration 134.75 new duration time 149.75\n",
      "OBSR old centroid time 67.62372687600376 new centroid time 82.57630033098727\n",
      "OBSR old duration 134.85 new duration time 149.85\n",
      "PARA old centroid time 68.63789348603163 new centroid time 83.50386738254113\n",
      "PARA old duration 134.825 new duration time 149.825\n",
      "FMW old centroid time 68.3377020751603 new centroid time 83.28075579191555\n",
      "FMW old duration 134.825 new duration time 149.825\n",
      "RCS old centroid time 67.64049634532547 new centroid time 82.93854550291411\n",
      "RCS old duration 134.85 new duration time 149.7\n",
      "RER old centroid time 67.94864965009467 new centroid time 83.03367038533557\n",
      "RER old duration 134.875 new duration time 149.875\n"
     ]
    },
    {
     "name": "stderr",
     "output_type": "stream",
     "text": [
      "/Users/marinedenolle/miniconda3/envs/seismo_exo/lib/python3.10/site-packages/obspy/signal/filter.py:62: UserWarning: Selected high corner frequency (20) of bandpass is at or above Nyquist (20.0). Applying a high-pass instead.\n",
      "  warnings.warn(msg)\n"
     ]
    },
    {
     "name": "stdout",
     "output_type": "stream",
     "text": [
      "CRBN old centroid time 172.63776546900783 new centroid time 187.31277364806476\n",
      "CRBN old duration 134.975 new duration time 149.975\n",
      "OBSR old centroid time 67.51075605265484 new centroid time 82.5580596815115\n",
      "OBSR old duration 134.875 new duration time 149.875\n",
      "OPCH old centroid time -39.5425760682006 new centroid time -25.266223877266206\n",
      "OPCH old duration 134.975 new duration time 149.975\n",
      "PARA old centroid time 68.33268343909224 new centroid time 83.28519607154828\n",
      "PARA old duration 134.875 new duration time 149.875\n",
      "FMW old centroid time 68.11788997028951 new centroid time 83.12899075659016\n",
      "FMW old duration 134.85 new duration time 149.825\n",
      "RCS old centroid time 67.59310211567602 new centroid time 82.9542570113884\n",
      "RCS old duration 134.85 new duration time 149.675\n",
      "RER old centroid time 67.81459185619666 new centroid time 82.97697256198194\n",
      "RER old duration 134.85 new duration time 149.85\n"
     ]
    },
    {
     "name": "stderr",
     "output_type": "stream",
     "text": [
      "/Users/marinedenolle/miniconda3/envs/seismo_exo/lib/python3.10/site-packages/obspy/signal/filter.py:62: UserWarning: Selected high corner frequency (20) of bandpass is at or above Nyquist (20.0). Applying a high-pass instead.\n",
      "  warnings.warn(msg)\n"
     ]
    },
    {
     "name": "stdout",
     "output_type": "stream",
     "text": [
      "CRBN old centroid time 172.63776546900783 new centroid time 187.31277364806476\n",
      "CRBN old duration 134.975 new duration time 149.975\n",
      "OBSR old centroid time 67.51075605265484 new centroid time 82.5580596815115\n",
      "OBSR old duration 134.875 new duration time 149.875\n",
      "OPCH old centroid time -39.5425760682006 new centroid time -25.266223877266206\n",
      "OPCH old duration 134.975 new duration time 149.975\n",
      "PARA old centroid time 68.33268343909224 new centroid time 83.28519607154828\n",
      "PARA old duration 134.875 new duration time 149.875\n",
      "FMW old centroid time 68.11788997028951 new centroid time 83.12899075659016\n",
      "FMW old duration 134.85 new duration time 149.825\n",
      "RCS old centroid time 67.59310211567602 new centroid time 82.9542570113884\n",
      "RCS old duration 134.85 new duration time 149.675\n",
      "RER old centroid time 67.81459185619666 new centroid time 82.97697256198194\n",
      "RER old duration 134.85 new duration time 149.85\n"
     ]
    },
    {
     "name": "stderr",
     "output_type": "stream",
     "text": [
      "/Users/marinedenolle/miniconda3/envs/seismo_exo/lib/python3.10/site-packages/obspy/signal/filter.py:62: UserWarning: Selected high corner frequency (20) of bandpass is at or above Nyquist (20.0). Applying a high-pass instead.\n",
      "  warnings.warn(msg)\n"
     ]
    },
    {
     "name": "stdout",
     "output_type": "stream",
     "text": [
      "CRBN old centroid time 172.63776546900783 new centroid time 187.31277364806476\n",
      "CRBN old duration 134.975 new duration time 149.975\n",
      "OBSR old centroid time 67.51075605265484 new centroid time 82.5580596815115\n",
      "OBSR old duration 134.875 new duration time 149.875\n",
      "OPCH old centroid time -39.5425760682006 new centroid time -25.266223877266206\n",
      "OPCH old duration 134.975 new duration time 149.975\n",
      "PARA old centroid time 68.33268343909224 new centroid time 83.28519607154828\n",
      "PARA old duration 134.875 new duration time 149.875\n",
      "FMW old centroid time 68.11788997028951 new centroid time 83.12899075659016\n",
      "FMW old duration 134.85 new duration time 149.825\n",
      "RCS old centroid time 67.59310211567602 new centroid time 82.9542570113884\n",
      "RCS old duration 134.85 new duration time 149.675\n",
      "RER old centroid time 67.81459185619666 new centroid time 82.97697256198194\n",
      "RER old duration 134.85 new duration time 149.85\n"
     ]
    },
    {
     "name": "stderr",
     "output_type": "stream",
     "text": [
      "/Users/marinedenolle/miniconda3/envs/seismo_exo/lib/python3.10/site-packages/obspy/signal/filter.py:62: UserWarning: Selected high corner frequency (20) of bandpass is at or above Nyquist (20.0). Applying a high-pass instead.\n",
      "  warnings.warn(msg)\n"
     ]
    },
    {
     "name": "stdout",
     "output_type": "stream",
     "text": [
      "ARAT old centroid time 11.029946628119037 new centroid time 8.647600445950111\n",
      "ARAT old duration 20.775 new duration time 18.375\n",
      "OBSR old centroid time 10.922478824116688 new centroid time 9.44746086832261\n",
      "OBSR old duration 20.375 new duration time 18.9\n",
      "PANH old centroid time 12.426582465781761 new centroid time 10.575415400630344\n",
      "PANH old duration 24.275 new duration time 22.4\n",
      "PARA old centroid time 12.387842591661261 new centroid time 10.309550683867647\n",
      "PARA old duration 25.0 new duration time 22.9\n",
      "PR04 old centroid time 12.73634345808132 new centroid time 8.75992366628419\n",
      "PR04 old duration 22.95 new duration time 18.825\n",
      "RUSH old centroid time 13.588361317976013 new centroid time 8.134931936367579\n",
      "RUSH old duration 25.95 new duration time 20.225\n",
      "SIFT old centroid time 12.443768842613846 new centroid time 9.567967422828064\n",
      "SIFT old duration 25.125 new duration time 22.225\n",
      "FMW old centroid time 11.182506754264255 new centroid time 9.325815338333118\n",
      "FMW old duration 22.6 new duration time 20.725\n",
      "LO2 old centroid time 10.274380780271862 new centroid time 7.415629502950997\n",
      "LO2 old duration 19.075 new duration time 16.15\n",
      "LON old centroid time 10.021198624770275 new centroid time 7.590072438301586\n",
      "LON old duration 18.7 new duration time 16.225\n",
      "RCM old centroid time 9.925640219903048 new centroid time 9.141255051977984\n",
      "RCM old duration 19.325 new duration time 18.525\n",
      "RCS old centroid time 7.341164250914515 new centroid time 7.317026193037693\n",
      "RCS old duration 16.8 new duration time 16.775\n",
      "RER old centroid time 8.107479564307102 new centroid time 6.2800695827861155\n",
      "RER old duration 14.975 new duration time 12.85\n",
      "RER old centroid time 9.26908595258528 new centroid time 6.2800695827861155\n",
      "RER old duration 18.375 new duration time 12.85\n",
      "SPFR old centroid time 81.81927027837422 new centroid time 96.84338745140408\n",
      "SPFR old duration 96.55 new duration time 111.55\n",
      "STAR old centroid time 13.576888191340691 new centroid time 12.198196720605365\n",
      "STAR old duration 77.925 new duration time 76.525\n"
     ]
    },
    {
     "name": "stderr",
     "output_type": "stream",
     "text": [
      "/Users/marinedenolle/miniconda3/envs/seismo_exo/lib/python3.10/site-packages/obspy/signal/filter.py:62: UserWarning: Selected high corner frequency (20) of bandpass is at or above Nyquist (20.0). Applying a high-pass instead.\n",
      "  warnings.warn(msg)\n"
     ]
    },
    {
     "name": "stdout",
     "output_type": "stream",
     "text": [
      "GTWY old centroid time 109.73040959807817 new centroid time 124.76141875908942\n",
      "GTWY old duration 128.075 new duration time 143.075\n",
      "PANH old centroid time 43.01985298465412 new centroid time 6.33500036043019\n",
      "PANH old duration 46.85 new duration time 13.175\n",
      "RCM old centroid time 39.78944738463454 new centroid time 6.278966493493656\n",
      "RCM old duration 41.525 new duration time 11.5\n"
     ]
    },
    {
     "name": "stderr",
     "output_type": "stream",
     "text": [
      "/Users/marinedenolle/miniconda3/envs/seismo_exo/lib/python3.10/site-packages/obspy/signal/filter.py:62: UserWarning: Selected high corner frequency (20) of bandpass is at or above Nyquist (20.0). Applying a high-pass instead.\n",
      "  warnings.warn(msg)\n"
     ]
    },
    {
     "name": "stdout",
     "output_type": "stream",
     "text": [
      "ARAT old centroid time 9.098168532733947 new centroid time 6.986613060577274\n",
      "ARAT old duration 14.9 new duration time 12.725\n",
      "OBSR old centroid time 8.134656130795786 new centroid time 6.875026418311852\n",
      "OBSR old duration 15.225 new duration time 13.95\n",
      "PARA old centroid time 9.224154726356913 new centroid time 6.713454415256024\n",
      "PARA old duration 17.425 new duration time 14.9\n",
      "RUSH old centroid time 11.858887399512653 new centroid time 8.285774216637675\n",
      "RUSH old duration 19.225 new duration time 15.5\n",
      "SIFT old centroid time 12.93835968918946 new centroid time 8.952102369788763\n",
      "SIFT old duration 22.35 new duration time 18.325\n",
      "FMW old centroid time 9.369386746173287 new centroid time 7.356450590414317\n",
      "FMW old duration 18.05 new duration time 16.075\n",
      "LO2 old centroid time 19.80385394485762 new centroid time 16.330875138275477\n",
      "LO2 old duration 35.975 new duration time 32.375\n",
      "RCM old centroid time 17.576839686740872 new centroid time 16.600874792991053\n",
      "RCM old duration 111.05 new duration time 110.05\n",
      "RER old centroid time 12.824272149412893 new centroid time 10.848199889322443\n",
      "RER old duration 96.625 new duration time 94.575\n",
      "STAR old centroid time 3.883806705578401 new centroid time 3.4457143184689882\n",
      "STAR old duration 8.2 new duration time 7.75\n"
     ]
    },
    {
     "name": "stderr",
     "output_type": "stream",
     "text": [
      "/Users/marinedenolle/miniconda3/envs/seismo_exo/lib/python3.10/site-packages/obspy/signal/filter.py:62: UserWarning: Selected high corner frequency (20) of bandpass is at or above Nyquist (20.0). Applying a high-pass instead.\n",
      "  warnings.warn(msg)\n"
     ]
    },
    {
     "name": "stdout",
     "output_type": "stream",
     "text": [
      "OBSR old centroid time 10.38652149899984 new centroid time 7.936687552334469\n",
      "OBSR old duration 16.975 new duration time 14.55\n",
      "PANH old centroid time 8.764513184793483 new centroid time 6.576537344696398\n",
      "PANH old duration 16.375 new duration time 14.225\n",
      "PARA old centroid time -180.96274318650734 new centroid time -162.12866824707024\n",
      "PARA old duration 127.725 new duration time 142.7\n",
      "FMW old centroid time 9.40156703496015 new centroid time 6.116832900661242\n",
      "FMW old duration 15.9 new duration time 12.5\n",
      "RCM old centroid time 7.56185670721239 new centroid time 6.649086912908552\n",
      "RCM old duration 12.575 new duration time 11.65\n",
      "RCS old centroid time 8.688682266940036 new centroid time 8.419227209259041\n",
      "RCS old duration 73.6 new duration time 73.3\n",
      "SPFR old centroid time 34.532918592619744 new centroid time 50.09973713321426\n",
      "SPFR old duration 94.4 new duration time 109.4\n",
      "STAR old centroid time 9.78592132862035 new centroid time 8.095188653148023\n",
      "STAR old duration 53.3 new duration time 51.575\n"
     ]
    },
    {
     "name": "stderr",
     "output_type": "stream",
     "text": [
      "/Users/marinedenolle/miniconda3/envs/seismo_exo/lib/python3.10/site-packages/obspy/signal/filter.py:62: UserWarning: Selected high corner frequency (20) of bandpass is at or above Nyquist (20.0). Applying a high-pass instead.\n",
      "  warnings.warn(msg)\n"
     ]
    },
    {
     "name": "stdout",
     "output_type": "stream",
     "text": [
      "ARAT old centroid time 10.973182113561439 new centroid time 7.841973312050528\n",
      "ARAT old duration 17.375 new duration time 14.125\n",
      "OBSR old centroid time 11.766140637501486 new centroid time 9.679201107133006\n",
      "OBSR old duration 26.7 new duration time 24.575\n",
      "OPCH old centroid time 103.18907213866895 new centroid time 118.1759356281552\n",
      "OPCH old duration 134.575 new duration time 149.575\n",
      "PANH old centroid time 8.699677183043843 new centroid time 6.463389116054292\n",
      "PANH old duration 15.65 new duration time 13.375\n",
      "RUSH old centroid time 13.522263738774289 new centroid time 10.06187867501952\n",
      "RUSH old duration 27.025 new duration time 23.6\n",
      "FMW old centroid time 10.876551161343988 new centroid time 7.592391368576935\n",
      "FMW old duration 22.45 new duration time 19.05\n",
      "RCM old centroid time 5.2454581932849225 new centroid time 4.788055953072426\n",
      "RCM old duration 9.85 new duration time 9.375\n",
      "RCS old centroid time 4.255758313102471 new centroid time 4.497578672093461\n",
      "RCS old duration 10.1 new duration time 10.375\n",
      "RER old centroid time 9.015669874685162 new centroid time 6.3174699011475814\n",
      "RER old duration 14.975 new duration time 12.225\n",
      "RER old centroid time 9.068983455561252 new centroid time 6.3174699011475814\n",
      "RER old duration 14.925 new duration time 12.225\n",
      "STAR old centroid time 13.028497888802555 new centroid time 12.885178024318478\n",
      "STAR old duration 92.9 new duration time 92.75\n"
     ]
    },
    {
     "name": "stderr",
     "output_type": "stream",
     "text": [
      "/Users/marinedenolle/miniconda3/envs/seismo_exo/lib/python3.10/site-packages/obspy/signal/filter.py:62: UserWarning: Selected high corner frequency (20) of bandpass is at or above Nyquist (20.0). Applying a high-pass instead.\n",
      "  warnings.warn(msg)\n"
     ]
    },
    {
     "name": "stdout",
     "output_type": "stream",
     "text": [
      "ARAT old centroid time 28.52257649155289 new centroid time 25.97858082801711\n",
      "ARAT old duration 70.975 new duration time 68.425\n",
      "OBSR old centroid time 38.27751001151335 new centroid time 36.03032448882435\n",
      "OBSR old duration 80.775 new duration time 78.5\n",
      "PANH old centroid time 36.09626234880567 new centroid time 34.01294999557912\n",
      "PANH old duration 78.6 new duration time 76.5\n",
      "PARA old centroid time 38.5444970349679 new centroid time 37.158319807657946\n",
      "PARA old duration 80.425 new duration time 79.0\n",
      "PR04 old centroid time 36.75308866215306 new centroid time 32.72043942703706\n",
      "PR04 old duration 78.475 new duration time 74.3\n",
      "PR05 old centroid time 35.383361514877336 new centroid time 32.279345873296414\n",
      "PR05 old duration 78.5 new duration time 75.3\n",
      "RUSH old centroid time 35.489716504721336 new centroid time 31.49625358120894\n",
      "RUSH old duration 77.35 new duration time 73.25\n",
      "SIFT old centroid time 29.514586499145626 new centroid time 26.791438105447618\n",
      "SIFT old duration 73.65 new duration time 70.975\n",
      "FMW old centroid time 39.25441639306586 new centroid time 36.286756322021056\n",
      "FMW old duration 79.85 new duration time 76.85\n",
      "LO2 old centroid time 36.505570912825505 new centroid time 33.18252704464148\n",
      "LO2 old duration 76.65 new duration time 73.225\n",
      "LON old centroid time 34.652120305876686 new centroid time 31.81857328895177\n",
      "LON old duration 74.875 new duration time 72.0\n",
      "RCM old centroid time 35.11062174440714 new centroid time 34.86710700853513\n",
      "RCM old duration 76.275 new duration time 76.025\n",
      "RCS old centroid time 33.83209616827267 new centroid time 32.2401804060074\n",
      "RCS old duration 75.725 new duration time 74.1\n",
      "RER old centroid time 39.02777064636177 new centroid time 37.20008347358803\n",
      "RER old duration 80.025 new duration time 78.15\n",
      "RER old centroid time 38.651504131995225 new centroid time 37.20008347358803\n",
      "RER old duration 79.675 new duration time 78.15\n",
      "STAR old centroid time 35.65151785853677 new centroid time 35.860371277248355\n",
      "STAR old duration 76.5 new duration time 76.725\n",
      "STAR old centroid time 34.555683639236214 new centroid time 35.860371277248355\n",
      "STAR old duration 73.85 new duration time 76.725\n",
      "STOR old centroid time 73.04227338212085 new centroid time 88.18427101830314\n",
      "STOR old duration 111.975 new duration time 126.975\n"
     ]
    },
    {
     "name": "stderr",
     "output_type": "stream",
     "text": [
      "/Users/marinedenolle/miniconda3/envs/seismo_exo/lib/python3.10/site-packages/obspy/signal/filter.py:62: UserWarning: Selected high corner frequency (20) of bandpass is at or above Nyquist (20.0). Applying a high-pass instead.\n",
      "  warnings.warn(msg)\n"
     ]
    },
    {
     "name": "stdout",
     "output_type": "stream",
     "text": [
      "ARAT old centroid time 17.56964048222148 new centroid time 15.045196790758672\n",
      "ARAT old duration 35.525 new duration time 32.95\n",
      "CARB old centroid time 30.53994345433316 new centroid time 24.144144575657947\n",
      "CARB old duration 78.95 new duration time 72.525\n",
      "OBSR old centroid time 25.156586587814584 new centroid time 23.32270116161094\n",
      "OBSR old duration 55.625 new duration time 53.775\n",
      "OPCH old centroid time 24.568006051748114 new centroid time 18.499358259948732\n",
      "OPCH old duration 42.425 new duration time 36.7\n",
      "PANH old centroid time 20.418196963326263 new centroid time 16.99256616708315\n",
      "PANH old duration 40.25 new duration time 36.8\n",
      "PARA old centroid time 22.90447146157453 new centroid time 20.416743067677285\n",
      "PARA old duration 46.775 new duration time 44.225\n",
      "PR04 old centroid time 23.89142167327363 new centroid time 18.2175460025645\n",
      "PR04 old duration 45.4 new duration time 39.6\n",
      "PR05 old centroid time 22.42651435095216 new centroid time 17.76530441453341\n",
      "PR05 old duration 43.775 new duration time 39.05\n",
      "RUSH old centroid time 24.99095363402353 new centroid time 20.150746624774932\n",
      "RUSH old duration 52.125 new duration time 47.175\n",
      "SIFT old centroid time 20.77259449536888 new centroid time 16.022862490883455\n",
      "SIFT old duration 43.25 new duration time 38.375\n",
      "VOIT old centroid time 23.73700492709503 new centroid time 17.857490071733466\n",
      "VOIT old duration 44.65 new duration time 38.55\n",
      "LO2 old centroid time 27.325013300078318 new centroid time 23.516038594324847\n",
      "LO2 old duration 55.775 new duration time 51.925\n",
      "LON old centroid time 27.366931613633273 new centroid time 23.76684255929586\n",
      "LON old duration 56.3 new duration time 52.675\n",
      "RCM old centroid time 20.336879708058536 new centroid time 19.801726159885042\n",
      "RCM old duration 43.125 new duration time 42.575\n",
      "RCS old centroid time 21.8470038875404 new centroid time 20.53234112856388\n",
      "RCS old duration 45.125 new duration time 43.8\n",
      "RER old centroid time 23.064763971865634 new centroid time 21.171036953958918\n",
      "RER old duration 48.725 new duration time 46.8\n",
      "RER old centroid time 22.61451186074342 new centroid time 21.171036953958918\n",
      "RER old duration 48.375 new duration time 46.8\n",
      "STAR old centroid time 18.831721478031696 new centroid time 33.84192889004676\n",
      "STAR old duration 38.85 new duration time 53.85\n",
      "STAR old centroid time 18.196809970633044 new centroid time 33.84192889004676\n",
      "STAR old duration 36.7 new duration time 53.85\n"
     ]
    },
    {
     "name": "stderr",
     "output_type": "stream",
     "text": [
      "/Users/marinedenolle/miniconda3/envs/seismo_exo/lib/python3.10/site-packages/obspy/signal/filter.py:62: UserWarning: Selected high corner frequency (20) of bandpass is at or above Nyquist (20.0). Applying a high-pass instead.\n",
      "  warnings.warn(msg)\n"
     ]
    },
    {
     "name": "stdout",
     "output_type": "stream",
     "text": [
      "ARAT old centroid time 67.66103321165082 new centroid time 7.042759606628156\n",
      "ARAT old duration 96.425 new duration time 16.9\n",
      "OBSR old centroid time 84.9633783530784 new centroid time 8.684765906477455\n",
      "OBSR old duration 94.6 new duration time 16.85\n",
      "OPCH old centroid time 95.83963239822845 new centroid time 7.6854290760555255\n",
      "OPCH old duration 99.825 new duration time 17.85\n",
      "PARA old centroid time 85.14141647353259 new centroid time 8.721230658254228\n",
      "PARA old duration 94.35 new duration time 16.925\n",
      "PR04 old centroid time 88.81361835255306 new centroid time 11.021508760946828\n",
      "PR04 old duration 103.0 new duration time 23.3\n",
      "PR05 old centroid time 92.76967758100604 new centroid time 12.288271842761224\n",
      "PR05 old duration 119.25 new duration time 40.525\n",
      "RUSH old centroid time 90.4550047509434 new centroid time 11.164469276612925\n",
      "RUSH old duration 100.575 new duration time 21.4\n",
      "SIFT old centroid time 87.95009941883875 new centroid time 11.450767500478582\n",
      "SIFT old duration 102.5 new duration time 23.575\n",
      "VOIT old centroid time 88.11287825323785 new centroid time 13.468576711801274\n",
      "VOIT old duration 103.175 new duration time 24.4\n",
      "LO2 old centroid time 86.7427493387929 new centroid time 7.317963620170924\n",
      "LO2 old duration 93.55 new duration time 15.1\n",
      "LON old centroid time 86.12816236480224 new centroid time 7.257184694656396\n",
      "LON old duration 92.0 new duration time 13.7\n",
      "RCM old centroid time 80.03200008893252 new centroid time 3.9930675387456955\n",
      "RCM old duration 85.5 new duration time 9.075\n",
      "RCS old centroid time 81.92878803946635 new centroid time 5.523713541410375\n",
      "RCS old duration 89.025 new duration time 11.8\n",
      "RER old centroid time 72.29614842764794 new centroid time 6.618256828881053\n",
      "RER old duration 92.225 new duration time 14.575\n",
      "STAR old centroid time 81.90156854469026 new centroid time 4.542127694889117\n",
      "STAR old duration 87.7 new duration time 11.15\n",
      "STAR old centroid time 78.56065196134205 new centroid time 4.542127694889117\n",
      "STAR old duration 85.575 new duration time 11.15\n"
     ]
    },
    {
     "name": "stderr",
     "output_type": "stream",
     "text": [
      "/Users/marinedenolle/miniconda3/envs/seismo_exo/lib/python3.10/site-packages/obspy/signal/filter.py:62: UserWarning: Selected high corner frequency (20) of bandpass is at or above Nyquist (20.0). Applying a high-pass instead.\n",
      "  warnings.warn(msg)\n"
     ]
    },
    {
     "name": "stdout",
     "output_type": "stream",
     "text": [
      "ARAT old centroid time 10.062933016945342 new centroid time 8.235570492373231\n",
      "ARAT old duration 19.925 new duration time 18.1\n",
      "OBSR old centroid time 10.421601485451191 new centroid time 8.36224977690696\n",
      "OBSR old duration 18.6 new duration time 16.525\n",
      "OPCH old centroid time 13.950657420881392 new centroid time 8.026654312462977\n",
      "OPCH old duration 25.425 new duration time 19.5\n",
      "PANH old centroid time 22.357126242746684 new centroid time 20.283312977422725\n",
      "PANH old duration 80.025 new duration time 78.0\n",
      "PARA old centroid time 10.1312307068291 new centroid time 8.47571580180668\n",
      "PARA old duration 18.325 new duration time 16.65\n",
      "PR04 old centroid time 14.805670281207602 new centroid time 11.241842392503251\n",
      "PR04 old duration 27.325 new duration time 23.8\n",
      "PR05 old centroid time 14.931457725133612 new centroid time 12.186924497878831\n",
      "PR05 old duration 43.35 new duration time 40.65\n",
      "RUSH old centroid time 14.44995885032853 new centroid time 11.350186572798972\n",
      "RUSH old duration 25.275 new duration time 22.175\n",
      "SIFT old centroid time 14.287806662770674 new centroid time 11.46624583454811\n",
      "SIFT old duration 26.4 new duration time 23.525\n",
      "VOIT old centroid time 16.12707768254669 new centroid time 13.416930195761045\n",
      "VOIT old duration 26.1 new duration time 23.4\n",
      "LO2 old centroid time 9.734837599981987 new centroid time 7.387183312017844\n",
      "LO2 old duration 17.55 new duration time 15.175\n",
      "LON old centroid time 9.5490739805729 new centroid time 7.294538558471894\n",
      "LON old duration 16.075 new duration time 13.8\n",
      "RCM old centroid time 4.389473804704954 new centroid time 4.009250318916479\n",
      "RCM old duration 9.45 new duration time 9.05\n",
      "RCS old centroid time 6.606674270718377 new centroid time 5.463034566196974\n",
      "RCS old duration 12.425 new duration time 11.275\n",
      "RER old centroid time 7.901477647554519 new centroid time 5.9654537179721165\n",
      "RER old duration 14.125 new duration time 12.175\n",
      "STAR old centroid time 5.184058430542058 new centroid time 4.529911299099015\n",
      "STAR old duration 12.1 new duration time 11.425\n",
      "STAR old centroid time 4.574722160119594 new centroid time 4.529911299099015\n",
      "STAR old duration 9.525 new duration time 11.425\n"
     ]
    },
    {
     "name": "stderr",
     "output_type": "stream",
     "text": [
      "/Users/marinedenolle/miniconda3/envs/seismo_exo/lib/python3.10/site-packages/obspy/signal/filter.py:62: UserWarning: Selected high corner frequency (20) of bandpass is at or above Nyquist (20.0). Applying a high-pass instead.\n",
      "  warnings.warn(msg)\n"
     ]
    },
    {
     "name": "stdout",
     "output_type": "stream",
     "text": [
      "ARAT old centroid time 10.249651437160027 new centroid time 7.999376961994916\n",
      "ARAT old duration 20.425 new duration time 18.15\n",
      "OBSR old centroid time 10.38629827711912 new centroid time 7.7732334184531835\n",
      "OBSR old duration 20.75 new duration time 18.1\n",
      "OPCH old centroid time 13.670652842841474 new centroid time 10.44134054476273\n",
      "OPCH old duration 25.9 new duration time 22.675\n",
      "PANH old centroid time 13.133480070320214 new centroid time 10.732785549051169\n",
      "PANH old duration 35.4 new duration time 33.125\n",
      "PARA old centroid time 8.754784757936582 new centroid time 7.6771959909194765\n",
      "PARA old duration 18.6 new duration time 17.5\n",
      "PR04 old centroid time 13.322449541736152 new centroid time 9.169115831822234\n",
      "PR04 old duration 25.3 new duration time 21.125\n",
      "PR05 old centroid time 11.577376810116613 new centroid time 8.436758808276906\n",
      "PR05 old duration 26.05 new duration time 23.0\n",
      "RUSH old centroid time 12.560798850938736 new centroid time 8.838017994354342\n",
      "RUSH old duration 23.825 new duration time 20.0\n",
      "SIFT old centroid time 13.060069933114205 new centroid time 9.31157528078839\n",
      "SIFT old duration 25.775 new duration time 22.0\n",
      "VOIT old centroid time 13.6109169345286 new centroid time 8.679158503786159\n",
      "VOIT old duration 23.65 new duration time 18.75\n",
      "FMW old centroid time 9.630585279471074 new centroid time 6.544933126725991\n",
      "FMW old duration 17.3 new duration time 14.225\n",
      "LO2 old centroid time 8.394579851190398 new centroid time 6.44640487170802\n",
      "LO2 old duration 14.125 new duration time 12.15\n",
      "LON old centroid time 8.327530897961966 new centroid time 6.2674440651945185\n",
      "LON old duration 14.0 new duration time 11.925\n",
      "RCM old centroid time 4.884972112637305 new centroid time 4.376247531432714\n",
      "RCM old duration 10.0 new duration time 9.475\n",
      "RCS old centroid time 6.972003155453316 new centroid time 5.320636874220485\n",
      "RCS old duration 12.55 new duration time 10.9\n",
      "RER old centroid time 7.101792596829605 new centroid time 5.3834642562828945\n",
      "RER old duration 13.35 new duration time 11.6\n",
      "RER old centroid time 7.155707920038936 new centroid time 5.3834642562828945\n",
      "RER old duration 13.7 new duration time 11.6\n",
      "STAR old centroid time 6.003971449206401 new centroid time 5.273243927507936\n",
      "STAR old duration 11.95 new duration time 11.2\n"
     ]
    },
    {
     "name": "stderr",
     "output_type": "stream",
     "text": [
      "/Users/marinedenolle/miniconda3/envs/seismo_exo/lib/python3.10/site-packages/obspy/signal/filter.py:62: UserWarning: Selected high corner frequency (20) of bandpass is at or above Nyquist (20.0). Applying a high-pass instead.\n",
      "  warnings.warn(msg)\n"
     ]
    },
    {
     "name": "stdout",
     "output_type": "stream",
     "text": [
      "ARAT old centroid time 14.9892757843054 new centroid time 14.046526446914253\n",
      "ARAT old duration 29.325 new duration time 28.375\n",
      "CARB old centroid time 19.901857115725303 new centroid time 34.933953151541566\n",
      "CARB old duration 32.875 new duration time 47.875\n",
      "CRBN old centroid time 19.473334188086056 new centroid time 34.50511631978693\n",
      "CRBN old duration 42.575 new duration time 57.575\n",
      "OBSR old centroid time 15.40431649226832 new centroid time 14.592744282972985\n",
      "OBSR old duration 29.875 new duration time 29.05\n",
      "OPCH old centroid time 19.81660847666951 new centroid time 14.483738918561155\n",
      "OPCH old duration 40.5 new duration time 34.9\n",
      "PANH old centroid time 16.21890796402142 new centroid time 15.258013511111816\n",
      "PANH old duration 34.05 new duration time 33.075\n",
      "PARA old centroid time 16.8734367689992 new centroid time 15.711337154660633\n",
      "PARA old duration 32.325 new duration time 31.15\n",
      "PR04 old centroid time 20.196620596892487 new centroid time 15.431103750106635\n",
      "PR04 old duration 37.85 new duration time 32.9\n",
      "PR05 old centroid time 17.734064736010218 new centroid time 15.312191525438042\n",
      "PR05 old duration 33.15 new duration time 30.6\n",
      "RUSH old centroid time 18.1429970710199 new centroid time 15.879157539379543\n",
      "RUSH old duration 33.35 new duration time 31.05\n",
      "SIFT old centroid time 18.136810891894896 new centroid time 15.62272299915839\n",
      "SIFT old duration 30.625 new duration time 28.0\n",
      "VOIT old centroid time 19.143710912779454 new centroid time 12.777670822525085\n",
      "VOIT old duration 33.875 new duration time 27.475\n",
      "FMW old centroid time 16.699010160496126 new centroid time 15.604790382886161\n",
      "FMW old duration 37.075 new duration time 35.975\n",
      "LON old centroid time 20.30170178063511 new centroid time 17.37235773318431\n",
      "LON old duration 50.475 new duration time 47.45\n",
      "RCM old centroid time 12.838898390741624 new centroid time 13.125105222734724\n",
      "RCM old duration 25.825 new duration time 26.125\n",
      "RCS old centroid time 15.462748092098682 new centroid time 15.904167508042919\n",
      "RCS old duration 36.025 new duration time 36.475\n",
      "RER old centroid time 16.816778677475885 new centroid time 16.27658952730675\n",
      "RER old duration 37.675 new duration time 37.125\n",
      "RER old centroid time 15.971821087362237 new centroid time 16.27658952730675\n",
      "RER old duration 34.825 new duration time 37.125\n",
      "STAR old centroid time 13.493487269466115 new centroid time 13.565641681665369\n",
      "STAR old duration 28.425 new duration time 28.5\n",
      "STAR old centroid time 13.139407276959552 new centroid time 13.565641681665369\n",
      "STAR old duration 26.975 new duration time 28.5\n",
      "TEHA old centroid time 43.457036978825684 new centroid time 10.324886990993102\n",
      "TEHA old duration 48.075 new duration time 17.45\n"
     ]
    },
    {
     "name": "stderr",
     "output_type": "stream",
     "text": [
      "/Users/marinedenolle/miniconda3/envs/seismo_exo/lib/python3.10/site-packages/obspy/signal/filter.py:62: UserWarning: Selected high corner frequency (20) of bandpass is at or above Nyquist (20.0). Applying a high-pass instead.\n",
      "  warnings.warn(msg)\n"
     ]
    },
    {
     "name": "stdout",
     "output_type": "stream",
     "text": [
      "ARAT old centroid time 13.53867212488178 new centroid time 13.823308494124833\n",
      "ARAT old duration 29.975 new duration time 30.275\n",
      "OBSR old centroid time 15.366156630018166 new centroid time 15.242725708230996\n",
      "OBSR old duration 32.725 new duration time 32.6\n",
      "PANH old centroid time 23.969761856157483 new centroid time 24.317686005190026\n",
      "PANH old duration 100.45 new duration time 100.8\n",
      "PARA old centroid time 15.348302559574055 new centroid time 14.081596307893712\n",
      "PARA old duration 35.0 new duration time 33.675\n",
      "FMW old centroid time 14.70179036344954 new centroid time 13.03461719613106\n",
      "FMW old duration 33.3 new duration time 31.55\n",
      "RCM old centroid time 32.57109190314611 new centroid time 32.76282354606145\n",
      "RCM old duration 120.45 new duration time 120.725\n",
      "RCS old centroid time 14.204453586546549 new centroid time 14.372918040418677\n",
      "RCS old duration 30.825 new duration time 31.0\n",
      "RER old centroid time 13.460674889910877 new centroid time 11.530133765130644\n",
      "RER old duration 30.5 new duration time 28.5\n",
      "RER old centroid time 13.466749425105403 new centroid time 11.530133765130644\n",
      "RER old duration 30.5 new duration time 28.5\n",
      "SPFR old centroid time 308.5462771316343 new centroid time 323.833652690661\n",
      "SPFR old duration 115.175 new duration time 130.175\n",
      "STAR old centroid time 19.133046554883684 new centroid time 20.272026001195716\n",
      "STAR old duration 97.075 new duration time 98.275\n"
     ]
    },
    {
     "name": "stderr",
     "output_type": "stream",
     "text": [
      "/Users/marinedenolle/miniconda3/envs/seismo_exo/lib/python3.10/site-packages/obspy/signal/filter.py:62: UserWarning: Selected high corner frequency (20) of bandpass is at or above Nyquist (20.0). Applying a high-pass instead.\n",
      "  warnings.warn(msg)\n"
     ]
    },
    {
     "name": "stdout",
     "output_type": "stream",
     "text": [
      "ARAT old centroid time 8.234015335357295 new centroid time 5.425766499237605\n",
      "ARAT old duration 14.975 new duration time 12.075\n",
      "OBSR old centroid time 12.159261005714143 new centroid time 10.132458028089546\n",
      "OBSR old duration 21.475 new duration time 19.4\n",
      "PANH old centroid time 9.950978972705435 new centroid time 6.709020557077029\n",
      "PANH old duration 17.525 new duration time 14.15\n",
      "PARA old centroid time 9.538217684784467 new centroid time 6.488393080987892\n",
      "PARA old duration 17.2 new duration time 14.05\n",
      "FMW old centroid time 11.387977886625134 new centroid time 6.265732629265364\n",
      "FMW old duration 20.95 new duration time 15.7\n",
      "RCM old centroid time 7.815706134093057 new centroid time 8.376725452900235\n",
      "RCM old duration 14.275 new duration time 14.85\n",
      "RER old centroid time 8.11485167719454 new centroid time 7.530477120506016\n",
      "RER old duration 16.0 new duration time 15.4\n",
      "STAR old centroid time 8.76415506749148 new centroid time 7.427033913697106\n",
      "STAR old duration 15.3 new duration time 13.95\n"
     ]
    },
    {
     "name": "stderr",
     "output_type": "stream",
     "text": [
      "/Users/marinedenolle/miniconda3/envs/seismo_exo/lib/python3.10/site-packages/obspy/signal/filter.py:62: UserWarning: Selected high corner frequency (20) of bandpass is at or above Nyquist (20.0). Applying a high-pass instead.\n",
      "  warnings.warn(msg)\n"
     ]
    },
    {
     "name": "stdout",
     "output_type": "stream",
     "text": [
      "OBSR old centroid time 8.459980255339874 new centroid time 7.014626666196359\n",
      "OBSR old duration 16.425 new duration time 14.975\n",
      "PANH old centroid time 7.238568124879852 new centroid time 5.421761270097878\n",
      "PANH old duration 12.675 new duration time 10.875\n",
      "PARA old centroid time 9.689390479112937 new centroid time 8.873379885316401\n",
      "PARA old duration 16.175 new duration time 15.35\n",
      "RUSH old centroid time 12.020385399364297 new centroid time 9.311491702473827\n",
      "RUSH old duration 20.8 new duration time 18.1\n",
      "FMW old centroid time 8.517970572008629 new centroid time 6.458704572386251\n",
      "FMW old duration 16.125 new duration time 14.05\n",
      "LO2 old centroid time 8.44566243764293 new centroid time 6.776102984540328\n",
      "LO2 old duration 16.6 new duration time 14.875\n",
      "LON old centroid time 8.448060148846418 new centroid time 6.887167995317845\n",
      "LON old duration 16.5 new duration time 14.875\n",
      "RCM old centroid time 3.64931525807743 new centroid time 3.6726835350149702\n",
      "RCM old duration 7.525 new duration time 7.55\n",
      "RCS old centroid time 4.3142003480929505 new centroid time 3.9728232377507644\n",
      "RCS old duration 9.025 new duration time 8.675\n",
      "RER old centroid time 7.85132047136142 new centroid time 6.806716147074185\n",
      "RER old duration 13.525 new duration time 12.475\n",
      "STAR old centroid time 5.5470261625334985 new centroid time 3.8043723932672426\n",
      "STAR old duration 10.625 new duration time 8.875\n",
      "STAR old centroid time 5.317150600515318 new centroid time 3.8043723932672426\n",
      "STAR old duration 10.075 new duration time 8.875\n"
     ]
    },
    {
     "name": "stderr",
     "output_type": "stream",
     "text": [
      "/Users/marinedenolle/miniconda3/envs/seismo_exo/lib/python3.10/site-packages/obspy/signal/filter.py:62: UserWarning: Selected high corner frequency (20) of bandpass is at or above Nyquist (20.0). Applying a high-pass instead.\n",
      "  warnings.warn(msg)\n"
     ]
    },
    {
     "name": "stdout",
     "output_type": "stream",
     "text": [
      "OBSR old centroid time 8.459980255339874 new centroid time 7.014626666196359\n",
      "OBSR old duration 16.425 new duration time 14.975\n",
      "PANH old centroid time 7.238568124879852 new centroid time 5.421761270097878\n",
      "PANH old duration 12.675 new duration time 10.875\n",
      "PARA old centroid time 9.689390479112937 new centroid time 8.873379885316401\n",
      "PARA old duration 16.175 new duration time 15.35\n",
      "RUSH old centroid time 12.020385399364297 new centroid time 9.311491702473827\n",
      "RUSH old duration 20.8 new duration time 18.1\n",
      "FMW old centroid time 8.517970572008629 new centroid time 6.458704572386251\n",
      "FMW old duration 16.125 new duration time 14.05\n",
      "LO2 old centroid time 8.44566243764293 new centroid time 6.776102984540328\n",
      "LO2 old duration 16.6 new duration time 14.875\n",
      "LON old centroid time 8.448060148846418 new centroid time 6.887167995317845\n",
      "LON old duration 16.5 new duration time 14.875\n",
      "RCM old centroid time 3.64931525807743 new centroid time 3.6726835350149702\n",
      "RCM old duration 7.525 new duration time 7.55\n",
      "RCS old centroid time 4.3142003480929505 new centroid time 3.9728232377507644\n",
      "RCS old duration 9.025 new duration time 8.675\n",
      "RER old centroid time 7.85132047136142 new centroid time 6.806716147074185\n",
      "RER old duration 13.525 new duration time 12.475\n",
      "STAR old centroid time 5.5470261625334985 new centroid time 3.8043723932672426\n",
      "STAR old duration 10.625 new duration time 8.875\n",
      "STAR old centroid time 5.317150600515318 new centroid time 3.8043723932672426\n",
      "STAR old duration 10.075 new duration time 8.875\n"
     ]
    },
    {
     "name": "stderr",
     "output_type": "stream",
     "text": [
      "/Users/marinedenolle/miniconda3/envs/seismo_exo/lib/python3.10/site-packages/obspy/signal/filter.py:62: UserWarning: Selected high corner frequency (20) of bandpass is at or above Nyquist (20.0). Applying a high-pass instead.\n",
      "  warnings.warn(msg)\n"
     ]
    },
    {
     "name": "stdout",
     "output_type": "stream",
     "text": [
      "OBSR old centroid time 11.535430747524696 new centroid time 9.166897055484759\n",
      "OBSR old duration 20.375 new duration time 18.0\n",
      "PANH old centroid time 14.608549434077103 new centroid time 12.571762221786754\n",
      "PANH old duration 67.025 new duration time 64.9\n",
      "PARA old centroid time 11.97786864577887 new centroid time 8.870589743524201\n",
      "PARA old duration 19.025 new duration time 15.875\n",
      "RCM old centroid time 6.665098679203753 new centroid time 5.310136858938876\n",
      "RCM old duration 11.675 new duration time 10.325\n",
      "RCS old centroid time 4.756927186219017 new centroid time 3.7532736587487676\n",
      "RCS old duration 10.375 new duration time 9.35\n",
      "RER old centroid time 9.653136545408527 new centroid time 6.326175916630001\n",
      "RER old duration 16.825 new duration time 13.425\n"
     ]
    },
    {
     "name": "stderr",
     "output_type": "stream",
     "text": [
      "/Users/marinedenolle/miniconda3/envs/seismo_exo/lib/python3.10/site-packages/obspy/signal/filter.py:62: UserWarning: Selected high corner frequency (20) of bandpass is at or above Nyquist (20.0). Applying a high-pass instead.\n",
      "  warnings.warn(msg)\n"
     ]
    },
    {
     "name": "stdout",
     "output_type": "stream",
     "text": [
      "OBSR old centroid time 10.869595059860318 new centroid time 9.725951523630371\n",
      "OBSR old duration 19.075 new duration time 17.925\n",
      "PANH old centroid time 11.193283396486441 new centroid time 8.239821859193516\n",
      "PANH old duration 18.575 new duration time 15.6\n",
      "PARA old centroid time 10.998204182890944 new centroid time 7.991529657807354\n",
      "PARA old duration 17.1 new duration time 14.0\n",
      "RUSH old centroid time 13.461147393078633 new centroid time 8.444539896866816\n",
      "RUSH old duration 21.05 new duration time 15.95\n",
      "FMW old centroid time 10.691415388563897 new centroid time 8.46795054421256\n",
      "FMW old duration 17.125 new duration time 14.85\n",
      "GSM old centroid time 73.43533921109012 new centroid time 88.4856741250101\n",
      "GSM old duration 134.825 new duration time 149.825\n",
      "RCM old centroid time 6.06088703152683 new centroid time 6.301295791626505\n",
      "RCM old duration 10.875 new duration time 11.125\n",
      "RCS old centroid time 6.01971789101284 new centroid time 5.8972501277748925\n",
      "RCS old duration 10.45 new duration time 10.325\n",
      "RER old centroid time 9.293409699214426 new centroid time 7.192107399824808\n",
      "RER old duration 14.95 new duration time 12.825\n",
      "RER old centroid time 9.232723667915005 new centroid time 7.192107399824808\n",
      "RER old duration 15.05 new duration time 12.825\n",
      "STAR old centroid time 7.724498930824368 new centroid time 5.571270783000494\n",
      "STAR old duration 14.325 new duration time 12.15\n",
      "STAR old centroid time 7.249243177973805 new centroid time 5.571270783000494\n",
      "STAR old duration 12.8 new duration time 12.15\n"
     ]
    },
    {
     "name": "stderr",
     "output_type": "stream",
     "text": [
      "/Users/marinedenolle/miniconda3/envs/seismo_exo/lib/python3.10/site-packages/obspy/signal/filter.py:62: UserWarning: Selected high corner frequency (20) of bandpass is at or above Nyquist (20.0). Applying a high-pass instead.\n",
      "  warnings.warn(msg)\n"
     ]
    },
    {
     "name": "stdout",
     "output_type": "stream",
     "text": [
      "CRBN old centroid time 77.43501709619157 new centroid time 92.5559932587341\n",
      "CRBN old duration 132.175 new duration time 147.175\n",
      "OBSR old centroid time 11.129809819194993 new centroid time 9.050665644956664\n",
      "OBSR old duration 21.875 new duration time 19.775\n",
      "PANH old centroid time 11.196147391300523 new centroid time 8.486846838068722\n",
      "PANH old duration 21.775 new duration time 18.975\n",
      "PARA old centroid time 12.370070723256118 new centroid time 10.468787563144\n",
      "PARA old duration 23.65 new duration time 21.725\n",
      "FMW old centroid time 16.693822363860253 new centroid time 13.477491456852281\n",
      "FMW old duration 50.5 new duration time 47.125\n",
      "LO2 old centroid time 13.197356195134795 new centroid time 8.909575214195689\n",
      "LO2 old duration 22.925 new duration time 18.65\n",
      "LON old centroid time 13.337038881612303 new centroid time 10.464592214373548\n",
      "LON old duration 22.775 new duration time 19.975\n",
      "RCM old centroid time 7.711815790019506 new centroid time 7.253487829918296\n",
      "RCM old duration 15.65 new duration time 15.175\n",
      "RCS old centroid time 5.8284860729075305 new centroid time 6.015727243537108\n",
      "RCS old duration 11.55 new duration time 11.75\n",
      "RER old centroid time 10.849246318138716 new centroid time 9.114750919811778\n",
      "RER old duration 21.1 new duration time 19.35\n",
      "RER old centroid time 11.143386344048062 new centroid time 9.114750919811778\n",
      "RER old duration 22.275 new duration time 19.35\n",
      "STAR old centroid time 11.909697567727173 new centroid time 9.045256040012363\n",
      "STAR old duration 21.875 new duration time 19.175\n"
     ]
    },
    {
     "name": "stderr",
     "output_type": "stream",
     "text": [
      "/Users/marinedenolle/miniconda3/envs/seismo_exo/lib/python3.10/site-packages/obspy/signal/filter.py:62: UserWarning: Selected high corner frequency (20) of bandpass is at or above Nyquist (20.0). Applying a high-pass instead.\n",
      "  warnings.warn(msg)\n"
     ]
    },
    {
     "name": "stdout",
     "output_type": "stream",
     "text": [
      "ARAT old centroid time 15.767941689910794 new centroid time 13.119228366394953\n",
      "ARAT old duration 27.975 new duration time 25.3\n",
      "CARB old centroid time 20.938676307057584 new centroid time 14.815219501056546\n",
      "CARB old duration 36.725 new duration time 30.2\n",
      "CRBN old centroid time 17.76306687734479 new centroid time 12.17381000037152\n",
      "CRBN old duration 29.35 new duration time 23.925\n",
      "OBSR old centroid time 15.264656865120205 new centroid time 12.119118683277645\n",
      "OBSR old duration 29.7 new duration time 26.55\n",
      "OPCH old centroid time 18.470187492312697 new centroid time 13.511508863210405\n",
      "OPCH old duration 30.475 new duration time 25.6\n",
      "PANH old centroid time 12.563814248908281 new centroid time 10.198659179250791\n",
      "PANH old duration 21.925 new duration time 19.55\n",
      "PARA old centroid time 14.768972612875787 new centroid time 12.731932806451079\n",
      "PARA old duration 25.775 new duration time 23.725\n",
      "PR01 old centroid time 21.606018638196304 new centroid time 15.245523638265832\n",
      "PR01 old duration 36.25 new duration time 29.875\n",
      "PR04 old centroid time 20.90026621173724 new centroid time 17.203372355518994\n",
      "PR04 old duration 35.65 new duration time 32.025\n",
      "PR05 old centroid time 17.499918954816575 new centroid time 12.774032533399355\n",
      "PR05 old duration 30.7 new duration time 25.75\n",
      "RUSH old centroid time 17.171793964622093 new centroid time 12.914291865043875\n",
      "RUSH old duration 26.225 new duration time 22.025\n",
      "SIFT old centroid time 19.03250564121396 new centroid time 14.686449608865006\n",
      "SIFT old duration 31.075 new duration time 26.625\n",
      "STYX old centroid time 23.309620973029677 new centroid time 14.222250018378459\n",
      "STYX old duration 40.275 new duration time 30.75\n",
      "VOIT old centroid time 18.748245821227833 new centroid time 13.66062168239354\n",
      "VOIT old duration 30.225 new duration time 25.075\n",
      "FMW old centroid time 16.30357293041361 new centroid time 13.253290725507119\n",
      "FMW old duration 31.8 new duration time 28.75\n",
      "LO2 old centroid time 15.750157599807386 new centroid time 13.535767652517825\n",
      "LO2 old duration 26.825 new duration time 24.6\n",
      "LON old centroid time 15.692624288208844 new centroid time 13.648397251388399\n",
      "LON old duration 25.575 new duration time 23.525\n",
      "RCM old centroid time 13.770103917675053 new centroid time 13.009838239070428\n",
      "RCM old duration 32.75 new duration time 31.975\n",
      "RCS old centroid time 12.71438246211882 new centroid time 12.651691963939808\n",
      "RCS old duration 33.55 new duration time 33.475\n",
      "RER old centroid time 14.430018844220585 new centroid time 12.300858632593046\n",
      "RER old duration 28.475 new duration time 26.325\n",
      "RER old centroid time 14.381081849436525 new centroid time 12.300858632593046\n",
      "RER old duration 27.375 new duration time 26.325\n",
      "STAR old centroid time 13.97686565569781 new centroid time 11.844510726833441\n",
      "STAR old duration 28.375 new duration time 26.25\n",
      "STAR old centroid time 13.504490324479072 new centroid time 11.844510726833441\n",
      "STAR old duration 26.575 new duration time 26.25\n"
     ]
    },
    {
     "name": "stderr",
     "output_type": "stream",
     "text": [
      "/Users/marinedenolle/miniconda3/envs/seismo_exo/lib/python3.10/site-packages/obspy/signal/filter.py:62: UserWarning: Selected high corner frequency (20) of bandpass is at or above Nyquist (20.0). Applying a high-pass instead.\n",
      "  warnings.warn(msg)\n"
     ]
    },
    {
     "name": "stdout",
     "output_type": "stream",
     "text": [
      "ARAT old centroid time 17.091673600674063 new centroid time 14.668296357542244\n",
      "ARAT old duration 28.05 new duration time 25.55\n",
      "GTWY old centroid time 124.28631275809755 new centroid time 139.05356939603593\n",
      "GTWY old duration 127.475 new duration time 142.475\n",
      "OBSR old centroid time 17.377953770704824 new centroid time 15.611720247098427\n",
      "OBSR old duration 30.5 new duration time 28.725\n",
      "PANH old centroid time 15.781746076108659 new centroid time 11.128354376842566\n",
      "PANH old duration 27.55 new duration time 22.325\n",
      "RUSH old centroid time 20.121982886973367 new centroid time 16.894657574329525\n",
      "RUSH old duration 39.1 new duration time 36.0\n",
      "FMW old centroid time 16.447754176352564 new centroid time 12.267995836466547\n",
      "FMW old duration 26.825 new duration time 22.575\n",
      "LON old centroid time 16.29959495021039 new centroid time 12.974284122616181\n",
      "LON old duration 27.225 new duration time 23.825\n",
      "RCM old centroid time 10.694950162360051 new centroid time 10.900455531359283\n",
      "RCM old duration 17.55 new duration time 17.775\n",
      "RCS old centroid time 12.638654370763792 new centroid time 12.198467072922156\n",
      "RCS old duration 19.35 new duration time 18.9\n",
      "RER old centroid time 14.521118317103166 new centroid time 13.434767787592978\n",
      "RER old duration 24.75 new duration time 23.675\n",
      "STAR old centroid time 13.823357056927794 new centroid time 13.09080309422387\n",
      "STAR old duration 25.425 new duration time 24.675\n"
     ]
    },
    {
     "name": "stderr",
     "output_type": "stream",
     "text": [
      "/Users/marinedenolle/miniconda3/envs/seismo_exo/lib/python3.10/site-packages/obspy/signal/filter.py:62: UserWarning: Selected high corner frequency (20) of bandpass is at or above Nyquist (20.0). Applying a high-pass instead.\n",
      "  warnings.warn(msg)\n"
     ]
    },
    {
     "name": "stdout",
     "output_type": "stream",
     "text": [
      "ARAT old centroid time 35.09089886761128 new centroid time 11.515155840518881\n",
      "ARAT old duration 76.25 new duration time 20.525\n",
      "CARB old centroid time 63.94554207055382 new centroid time 8.68842672227431\n",
      "CARB old duration 67.85 new duration time 13.05\n",
      "CRBN old centroid time 55.79258130323735 new centroid time 9.069175184209405\n",
      "CRBN old duration 70.875 new duration time 15.925\n",
      "OBSR old centroid time 9.344496090638076 new centroid time 6.013091545898234\n",
      "OBSR old duration 16.95 new duration time 13.575\n",
      "OPCH old centroid time 50.87631560175806 new centroid time 12.022264767889043\n",
      "OPCH old duration 78.5 new duration time 17.65\n",
      "PANH old centroid time 20.251160855013367 new centroid time 18.03006600102781\n",
      "PANH old duration 71.275 new duration time 69.025\n",
      "PARA old centroid time 23.15256887439482 new centroid time 14.782802523943179\n",
      "PARA old duration 76.275 new duration time 26.9\n",
      "PR04 old centroid time 55.61199794264482 new centroid time 11.117023874235393\n",
      "PR04 old duration 77.05 new duration time 21.375\n",
      "PR05 old centroid time 54.50353029635412 new centroid time 12.474624279391431\n",
      "PR05 old duration 82.3 new duration time 25.325\n",
      "RUSH old centroid time 46.41974094507213 new centroid time 11.84845154670112\n",
      "RUSH old duration 78.55 new duration time 22.25\n",
      "SIFT old centroid time 48.993362694623464 new centroid time 18.841629682919883\n",
      "SIFT old duration 109.875 new duration time 53.65\n",
      "STYX old centroid time 62.67713271868426 new centroid time 12.783748309809845\n",
      "STYX old duration 78.825 new duration time 24.325\n",
      "VOIT old centroid time 49.84674411796385 new centroid time 9.66940733778467\n",
      "VOIT old duration 71.975 new duration time 16.775\n",
      "FMW old centroid time 38.91414606803867 new centroid time 10.060518947775861\n",
      "FMW old duration 75.0 new duration time 18.3\n",
      "LON old centroid time 49.19646781759751 new centroid time 10.465688441186904\n",
      "LON old duration 80.775 new duration time 22.175\n",
      "PUPY old centroid time 73.71170158564676 new centroid time 11.584179356370807\n",
      "PUPY old duration 86.65 new duration time 24.575\n",
      "RCM old centroid time 6.988541395641115 new centroid time 5.817583054005019\n",
      "RCM old duration 12.9 new duration time 11.75\n",
      "RCS old centroid time 4.618310877575113 new centroid time 3.865684348917659\n",
      "RCS old duration 8.325 new duration time 7.55\n",
      "RER old centroid time 39.802618095298214 new centroid time 10.993799177948755\n",
      "RER old duration 77.175 new duration time 19.5\n",
      "RER old centroid time 35.171883441420384 new centroid time 10.993799177948755\n",
      "RER old duration 76.0 new duration time 19.5\n",
      "STAR old centroid time 7.73057582629891 new centroid time 5.776710967620719\n",
      "STAR old duration 13.65 new duration time 11.7\n",
      "STOR old centroid time 57.392238851952555 new centroid time 10.222325220356797\n",
      "STOR old duration 72.85 new duration time 20.25\n"
     ]
    },
    {
     "name": "stderr",
     "output_type": "stream",
     "text": [
      "/Users/marinedenolle/miniconda3/envs/seismo_exo/lib/python3.10/site-packages/obspy/signal/filter.py:62: UserWarning: Selected high corner frequency (20) of bandpass is at or above Nyquist (20.0). Applying a high-pass instead.\n",
      "  warnings.warn(msg)\n"
     ]
    },
    {
     "name": "stdout",
     "output_type": "stream",
     "text": [
      "ARAT old centroid time 11.988322385740487 new centroid time 8.51533434966774\n",
      "ARAT old duration 19.575 new duration time 16.0\n",
      "OBSR old centroid time 11.696345068439332 new centroid time 8.646834312339658\n",
      "OBSR old duration 20.975 new duration time 17.85\n",
      "PANH old centroid time 9.753447854307565 new centroid time 6.788561497577067\n",
      "PANH old duration 17.6 new duration time 14.625\n",
      "PARA old centroid time 10.899595717436965 new centroid time 8.06838280367183\n",
      "PARA old duration 18.75 new duration time 15.9\n",
      "PR04 old centroid time 23.658193395389464 new centroid time 18.645006655392898\n",
      "PR04 old duration 128.2 new duration time 122.975\n",
      "RUSH old centroid time 14.680603816197035 new centroid time 10.433763988340905\n",
      "RUSH old duration 24.625 new duration time 20.4\n",
      "SIFT old centroid time 16.0801655406294 new centroid time 12.297317742037992\n",
      "SIFT old duration 119.1 new duration time 115.225\n",
      "FMW old centroid time 11.414663965814743 new centroid time 8.252903247161658\n",
      "FMW old duration 23.7 new duration time 20.525\n",
      "LON old centroid time 10.577791467516942 new centroid time 6.780002001690099\n",
      "LON old duration 18.2 new duration time 14.4\n",
      "RCM old centroid time 218.42832185728392 new centroid time 236.0995719925798\n",
      "RCM old duration 90.775 new duration time 89.15\n",
      "RCS old centroid time 4.4897322077009765 new centroid time 3.4125314546832604\n",
      "RCS old duration 9.325 new duration time 8.225\n",
      "RER old centroid time 10.741419910059236 new centroid time 7.806170526622229\n",
      "RER old duration 19.125 new duration time 16.2\n",
      "RER old centroid time 10.951617857579862 new centroid time 7.806170526622229\n",
      "RER old duration 19.25 new duration time 16.2\n",
      "STAR old centroid time 7.645664958522825 new centroid time 5.165005269718498\n",
      "STAR old duration 13.25 new duration time 10.775\n"
     ]
    },
    {
     "name": "stderr",
     "output_type": "stream",
     "text": [
      "/Users/marinedenolle/miniconda3/envs/seismo_exo/lib/python3.10/site-packages/obspy/signal/filter.py:62: UserWarning: Selected high corner frequency (20) of bandpass is at or above Nyquist (20.0). Applying a high-pass instead.\n",
      "  warnings.warn(msg)\n"
     ]
    },
    {
     "name": "stdout",
     "output_type": "stream",
     "text": [
      "ARAT old centroid time 11.270239638776625 new centroid time 9.076328347029538\n",
      "ARAT old duration 21.625 new duration time 19.425\n",
      "CARB old centroid time 28.645089592358904 new centroid time 23.301409168576885\n",
      "CARB old duration 125.75 new duration time 120.3\n",
      "CRBN old centroid time 32.019870706405015 new centroid time 27.673478525465008\n",
      "CRBN old duration 130.175 new duration time 125.75\n",
      "OBSR old centroid time 12.637095132077366 new centroid time 10.219302328538623\n",
      "OBSR old duration 26.3 new duration time 23.875\n",
      "OPCH old centroid time 13.795621695419648 new centroid time 9.194649159063548\n",
      "OPCH old duration 26.225 new duration time 21.65\n",
      "PANH old centroid time 11.465741003750667 new centroid time 9.061678623525687\n",
      "PANH old duration 22.9 new duration time 20.45\n",
      "PARA old centroid time 12.875643662870052 new centroid time 11.864799182589033\n",
      "PARA old duration 26.875 new duration time 25.85\n",
      "PR01 old centroid time 12.718643569553882 new centroid time 7.277456916697303\n",
      "PR01 old duration 124.5 new duration time 119.125\n",
      "PR04 old centroid time 15.224204166536936 new centroid time 10.77598214126671\n",
      "PR04 old duration 31.675 new duration time 27.3\n",
      "PR05 old centroid time 13.784060457049781 new centroid time 10.173651398885507\n",
      "PR05 old duration 28.3 new duration time 24.65\n",
      "RUSH old centroid time 16.543053848780715 new centroid time 13.362315767958338\n",
      "RUSH old duration 39.675 new duration time 36.5\n",
      "SIFT old centroid time 13.355014003456926 new centroid time 9.463606974345348\n",
      "SIFT old duration 25.325 new duration time 21.425\n",
      "STYX old centroid time 23.794070461624788 new centroid time 16.160186859312947\n",
      "STYX old duration 125.525 new duration time 117.9\n",
      "VOIT old centroid time 15.273724074224104 new centroid time 10.14933117751587\n",
      "VOIT old duration 26.325 new duration time 21.3\n",
      "FMW old centroid time 13.428054023805167 new centroid time 10.650397137036219\n",
      "FMW old duration 30.625 new duration time 27.8\n",
      "LO2 old centroid time 12.138054842688728 new centroid time 8.868419704584538\n",
      "LO2 old duration 23.45 new duration time 20.275\n",
      "LON old centroid time 12.120437527478872 new centroid time 8.735470047281414\n",
      "LON old duration 23.175 new duration time 19.925\n",
      "RCM old centroid time 8.45199780221252 new centroid time 7.863951802825102\n",
      "RCM old duration 19.125 new duration time 18.525\n",
      "RCS old centroid time 9.90471950454705 new centroid time 10.200992850027118\n",
      "RCS old duration 24.075 new duration time 24.375\n",
      "RER old centroid time 10.959973464649394 new centroid time 9.403314064567542\n",
      "RER old duration 22.05 new duration time 20.475\n",
      "RER old centroid time 10.798769078595594 new centroid time 9.403314064567542\n",
      "RER old duration 21.9 new duration time 20.475\n",
      "STAR old centroid time 8.497715442339658 new centroid time 8.577175831858908\n",
      "STAR old duration 18.4 new duration time 18.475\n",
      "STAR old centroid time 7.932588012191659 new centroid time 8.577175831858908\n",
      "STAR old duration 15.925 new duration time 18.475\n",
      "WPEQ old centroid time 18.088383233023364 new centroid time 9.974359468937255\n",
      "WPEQ old duration 32.35 new duration time 23.975\n"
     ]
    },
    {
     "name": "stderr",
     "output_type": "stream",
     "text": [
      "/Users/marinedenolle/miniconda3/envs/seismo_exo/lib/python3.10/site-packages/obspy/signal/filter.py:62: UserWarning: Selected high corner frequency (20) of bandpass is at or above Nyquist (20.0). Applying a high-pass instead.\n",
      "  warnings.warn(msg)\n"
     ]
    },
    {
     "name": "stdout",
     "output_type": "stream",
     "text": [
      "ARAT old centroid time 11.35824826095525 new centroid time 8.648713332392976\n",
      "ARAT old duration 18.625 new duration time 15.875\n",
      "CARB old centroid time 15.196054656631114 new centroid time 9.702337730132994\n",
      "CARB old duration 24.975 new duration time 19.55\n",
      "OBSR old centroid time 21.477945434304687 new centroid time 18.814498910943307\n",
      "OBSR old duration 131.75 new duration time 129.025\n",
      "OPCH old centroid time 14.21191128395582 new centroid time 10.004510738776203\n",
      "OPCH old duration 25.75 new duration time 21.575\n",
      "PANH old centroid time 9.15070891164217 new centroid time 6.780603635357971\n",
      "PANH old duration 17.825 new duration time 15.45\n",
      "PARA old centroid time 11.643910074307719 new centroid time 9.316347942510246\n",
      "PARA old duration 22.7 new duration time 20.35\n",
      "PR04 old centroid time 13.54380342945811 new centroid time 8.827705845733252\n",
      "PR04 old duration 22.275 new duration time 17.5\n",
      "RUSH old centroid time 13.569192991308316 new centroid time 9.681619530370714\n",
      "RUSH old duration 26.3 new duration time 22.425\n",
      "SIFT old centroid time 13.29986882582756 new centroid time 9.287217713550046\n",
      "SIFT old duration 21.675 new duration time 17.65\n",
      "STYX old centroid time 18.49509862768811 new centroid time 33.37836593695855\n",
      "STYX old duration 32.2 new duration time 47.2\n",
      "VOIT old centroid time 14.055788014867032 new centroid time 9.266251410902553\n",
      "VOIT old duration 24.775 new duration time 20.0\n",
      "FMW old centroid time 10.215603490569297 new centroid time 7.37905121492962\n",
      "FMW old duration 18.425 new duration time 15.575\n",
      "LON old centroid time 12.536237888251755 new centroid time 9.159755848170237\n",
      "LON old duration 24.075 new duration time 20.675\n",
      "RCM old centroid time 6.138383484509195 new centroid time 4.919773405660614\n",
      "RCM old duration 11.425 new duration time 10.15\n",
      "RCS old centroid time 3.079985486953341 new centroid time 7.934088798029526\n",
      "RCS old duration 6.125 new duration time 11.125\n",
      "RER old centroid time 9.619027375748228 new centroid time 6.884275251696645\n",
      "RER old duration 19.05 new duration time 16.275\n",
      "RER old centroid time 9.722946249414717 new centroid time 6.884275251696645\n",
      "RER old duration 19.075 new duration time 16.275\n",
      "STAR old centroid time 8.11676147674238 new centroid time 5.999384544513538\n",
      "STAR old duration 15.85 new duration time 13.7\n",
      "STAR old centroid time 7.8829070363540685 new centroid time 5.999384544513538\n",
      "STAR old duration 15.575 new duration time 13.7\n"
     ]
    },
    {
     "name": "stderr",
     "output_type": "stream",
     "text": [
      "/Users/marinedenolle/miniconda3/envs/seismo_exo/lib/python3.10/site-packages/obspy/signal/filter.py:62: UserWarning: Selected high corner frequency (20) of bandpass is at or above Nyquist (20.0). Applying a high-pass instead.\n",
      "  warnings.warn(msg)\n"
     ]
    },
    {
     "name": "stdout",
     "output_type": "stream",
     "text": [
      "ARAT old centroid time 21.942398516131092 new centroid time 18.817197254404974\n",
      "ARAT old duration 51.45 new duration time 48.375\n",
      "GTWY old centroid time 17.768295488567524 new centroid time 4.556995197094128\n",
      "GTWY old duration 23.45 new duration time 10.1\n",
      "OBSR old centroid time 23.67875204953783 new centroid time 24.068963126508567\n",
      "OBSR old duration 52.725 new duration time 53.125\n",
      "PANH old centroid time 21.516438938515748 new centroid time 19.61304791717108\n",
      "PANH old duration 50.675 new duration time 48.725\n",
      "PARA old centroid time 21.698751488019642 new centroid time 23.034540776847965\n",
      "PARA old duration 52.175 new duration time 53.55\n",
      "RUSH old centroid time 19.489357439548797 new centroid time 34.3224869625091\n",
      "RUSH old duration 41.1 new duration time 56.1\n",
      "FMW old centroid time 24.797362253799417 new centroid time 21.57169081708714\n",
      "FMW old duration 53.875 new duration time 50.475\n",
      "RCM old centroid time 19.495737771312697 new centroid time 20.321617697759592\n",
      "RCM old duration 48.475 new duration time 49.475\n",
      "RCS old centroid time 22.61690637992666 new centroid time 23.748930055362347\n",
      "RCS old duration 49.85 new duration time 51.025\n",
      "RER old centroid time 24.01444783655171 new centroid time 38.811716263292304\n",
      "RER old duration 54.775 new duration time 69.775\n",
      "RER old centroid time 22.147134178363125 new centroid time 38.811716263292304\n",
      "RER old duration 50.95 new duration time 69.775\n",
      "STAR old centroid time 18.30032623951841 new centroid time 19.324083228162692\n",
      "STAR old duration 43.525 new duration time 44.7\n"
     ]
    },
    {
     "name": "stderr",
     "output_type": "stream",
     "text": [
      "/Users/marinedenolle/miniconda3/envs/seismo_exo/lib/python3.10/site-packages/obspy/signal/filter.py:62: UserWarning: Selected high corner frequency (20) of bandpass is at or above Nyquist (20.0). Applying a high-pass instead.\n",
      "  warnings.warn(msg)\n"
     ]
    },
    {
     "name": "stdout",
     "output_type": "stream",
     "text": [
      "ARAT old centroid time 14.124572181035411 new centroid time 13.346954055953207\n",
      "ARAT old duration 28.275 new duration time 27.425\n",
      "OBSR old centroid time 14.846315487247653 new centroid time 13.586848042150386\n",
      "OBSR old duration 28.8 new duration time 27.525\n",
      "PANH old centroid time -78.28030174679198 new centroid time -78.68645038044326\n",
      "PANH old duration 123.175 new duration time 120.25\n",
      "PARA old centroid time 13.786320933110531 new centroid time 12.074511933698112\n",
      "PARA old duration 26.35 new duration time 24.6\n",
      "FMW old centroid time 13.984023586549833 new centroid time 11.82379667659432\n",
      "FMW old duration 26.8 new duration time 24.725\n",
      "RCM old centroid time 11.912983676092649 new centroid time 12.351428984041837\n",
      "RCM old duration 36.6 new duration time 37.125\n",
      "RCS old centroid time 14.324414111885101 new centroid time 13.805268059802874\n",
      "RCS old duration 71.6 new duration time 71.025\n",
      "RER old centroid time 12.455240861097849 new centroid time 11.748602706469054\n",
      "RER old duration 25.625 new duration time 24.9\n",
      "RER old centroid time 12.533339650054463 new centroid time 11.748602706469054\n",
      "RER old duration 25.65 new duration time 24.9\n",
      "STAR old centroid time 9.125079531543491 new centroid time 24.128593699810246\n",
      "STAR old duration 20.3 new duration time 35.3\n"
     ]
    },
    {
     "name": "stderr",
     "output_type": "stream",
     "text": [
      "/Users/marinedenolle/miniconda3/envs/seismo_exo/lib/python3.10/site-packages/obspy/signal/filter.py:62: UserWarning: Selected high corner frequency (20) of bandpass is at or above Nyquist (20.0). Applying a high-pass instead.\n",
      "  warnings.warn(msg)\n"
     ]
    },
    {
     "name": "stdout",
     "output_type": "stream",
     "text": [
      "ARAT old centroid time 10.809620709250328 new centroid time 8.098419218588107\n",
      "ARAT old duration 21.975 new duration time 19.15\n",
      "OBSR old centroid time 9.702717306466862 new centroid time 8.587088972052564\n",
      "OBSR old duration 18.325 new duration time 17.2\n",
      "PANH old centroid time 7.7807785712549915 new centroid time 5.623403665988674\n",
      "PANH old duration 15.3 new duration time 13.125\n",
      "PARA old centroid time 10.731583227400352 new centroid time 8.835116296518896\n",
      "PARA old duration 18.45 new duration time 16.525\n",
      "FMW old centroid time 9.386940218312718 new centroid time 6.808665866963372\n",
      "FMW old duration 18.8 new duration time 16.175\n",
      "RCM old centroid time 7.84748331656607 new centroid time 7.185868982009053\n",
      "RCM old duration 15.725 new duration time 15.05\n",
      "RCS old centroid time 4.763846863798205 new centroid time 4.649723546378517\n",
      "RCS old duration 10.475 new duration time 10.35\n",
      "RER old centroid time 9.027687656176731 new centroid time 6.430110185970074\n",
      "RER old duration 16.925 new duration time 14.25\n",
      "RER old centroid time 8.988852858147508 new centroid time 6.430110185970074\n",
      "RER old duration 17.0 new duration time 14.25\n",
      "STAR old centroid time 7.596285177692969 new centroid time 6.392771556110782\n",
      "STAR old duration 14.125 new duration time 12.9\n"
     ]
    },
    {
     "name": "stderr",
     "output_type": "stream",
     "text": [
      "/Users/marinedenolle/miniconda3/envs/seismo_exo/lib/python3.10/site-packages/obspy/signal/filter.py:62: UserWarning: Selected high corner frequency (20) of bandpass is at or above Nyquist (20.0). Applying a high-pass instead.\n",
      "  warnings.warn(msg)\n"
     ]
    },
    {
     "name": "stdout",
     "output_type": "stream",
     "text": [
      "OPCH old centroid time 12.615824481255132 new centroid time 9.864278269983418\n",
      "OPCH old duration 29.05 new duration time 26.35\n",
      "PANH old centroid time 7.580054032549018 new centroid time 6.802724279016897\n",
      "PANH old duration 14.5 new duration time 13.7\n",
      "PARA old centroid time 9.28837424704646 new centroid time 8.468480150755228\n",
      "PARA old duration 17.75 new duration time 16.875\n",
      "RUSH old centroid time 18.45213421399502 new centroid time 16.40402014404435\n",
      "RUSH old duration 61.825 new duration time 59.7\n",
      "SIFT old centroid time 29.350230020435685 new centroid time 26.38720010914517\n",
      "SIFT old duration 83.825 new duration time 80.6\n",
      "VOIT old centroid time 21.74506847853872 new centroid time 19.203476610211865\n",
      "VOIT old duration 104.475 new duration time 101.925\n",
      "LON old centroid time 9.71699736461558 new centroid time 8.360426505683728\n",
      "LON old duration 20.675 new duration time 19.275\n",
      "RCS old centroid time 9.968775934521124 new centroid time 10.4633611126721\n",
      "RCS old duration 35.0 new duration time 35.575\n",
      "RER old centroid time 22.272641835570973 new centroid time 21.739932933497464\n",
      "RER old duration 126.775 new duration time 126.2\n",
      "STAR old centroid time 4.98028510613131 new centroid time 5.027485237134721\n",
      "STAR old duration 13.625 new duration time 13.675\n",
      "STAR old centroid time 4.542061535246164 new centroid time 5.027485237134721\n",
      "STAR old duration 11.55 new duration time 13.675\n"
     ]
    },
    {
     "name": "stderr",
     "output_type": "stream",
     "text": [
      "/Users/marinedenolle/miniconda3/envs/seismo_exo/lib/python3.10/site-packages/obspy/signal/filter.py:62: UserWarning: Selected high corner frequency (20) of bandpass is at or above Nyquist (20.0). Applying a high-pass instead.\n",
      "  warnings.warn(msg)\n"
     ]
    },
    {
     "name": "stdout",
     "output_type": "stream",
     "text": [
      "ARAT old centroid time 10.472756602130083 new centroid time 6.619083818309086\n",
      "ARAT old duration 16.65 new duration time 12.8\n",
      "OBSR old centroid time 10.51976920746435 new centroid time 6.833360011226234\n",
      "OBSR old duration 16.5 new duration time 12.8\n",
      "PANH old centroid time 10.685697051447764 new centroid time 5.786186441484851\n",
      "PANH old duration 16.875 new duration time 11.95\n",
      "PARA old centroid time 12.64721805884488 new centroid time 8.878849834760535\n",
      "PARA old duration 22.075 new duration time 18.3\n",
      "PR04 old centroid time 14.451686963807177 new centroid time 7.730721158708164\n",
      "PR04 old duration 26.5 new duration time 19.675\n",
      "PR05 old centroid time 13.09248533819327 new centroid time 7.962824619285619\n",
      "PR05 old duration 24.3 new duration time 19.125\n",
      "RUSH old centroid time 16.189521860562394 new centroid time 9.678348950395913\n",
      "RUSH old duration 33.8 new duration time 27.05\n",
      "SIFT old centroid time 13.96476327610561 new centroid time 8.82716962732966\n",
      "SIFT old duration 21.5 new duration time 16.25\n",
      "VOIT old centroid time 16.632677285792006 new centroid time 9.09550946996069\n",
      "VOIT old duration 25.575 new duration time 17.925\n",
      "FMW old centroid time 12.754507778977443 new centroid time 7.3781701030544244\n",
      "FMW old duration 22.675 new duration time 17.3\n",
      "LON old centroid time 12.468138965407642 new centroid time 7.008981937408742\n",
      "LON old duration 21.2 new duration time 15.6\n",
      "RCM old centroid time 9.15190500211108 new centroid time 5.937445192980165\n",
      "RCM old duration 16.0 new duration time 12.775\n",
      "RCS old centroid time 41.4633723332713 new centroid time 37.66281736142227\n",
      "RCS old duration 118.9 new duration time 115.05\n",
      "RER old centroid time 8.749629904745193 new centroid time 5.4336962389888\n",
      "RER old duration 14.2 new duration time 10.875\n",
      "STAR old centroid time 5.3838869370247835 new centroid time 4.849790184573779\n",
      "STAR old duration 9.825 new duration time 9.275\n",
      "STAR old centroid time 4.45319872755012 new centroid time 4.849790184573779\n",
      "STAR old duration 6.025 new duration time 9.275\n"
     ]
    },
    {
     "name": "stderr",
     "output_type": "stream",
     "text": [
      "/Users/marinedenolle/miniconda3/envs/seismo_exo/lib/python3.10/site-packages/obspy/signal/filter.py:62: UserWarning: Selected high corner frequency (20) of bandpass is at or above Nyquist (20.0). Applying a high-pass instead.\n",
      "  warnings.warn(msg)\n"
     ]
    },
    {
     "name": "stdout",
     "output_type": "stream",
     "text": [
      "OBSR old centroid time 18.792169078712696 new centroid time 16.792009460590958\n",
      "OBSR old duration 74.075 new duration time 72.05\n",
      "PANH old centroid time 8.5319590664545 new centroid time 6.598305837541164\n",
      "PANH old duration 14.75 new duration time 12.8\n",
      "PARA old centroid time 11.31248780379671 new centroid time 9.214115289045681\n",
      "PARA old duration 22.2 new duration time 20.075\n",
      "FMW old centroid time 10.39486218292781 new centroid time 7.871373569727753\n",
      "FMW old duration 17.0 new duration time 14.425\n",
      "RCM old centroid time 16.29092702644332 new centroid time 15.812547719825766\n",
      "RCM old duration 70.375 new duration time 69.875\n",
      "RCS old centroid time 16.84152868580814 new centroid time 16.79709010505736\n",
      "RCS old duration 69.025 new duration time 68.975\n",
      "RER old centroid time 10.241257378735316 new centroid time 7.780048253338444\n",
      "RER old duration 17.75 new duration time 15.225\n",
      "STAR old centroid time 18.371593327812178 new centroid time 19.54105183174909\n",
      "STAR old duration 71.525 new duration time 72.8\n"
     ]
    },
    {
     "name": "stderr",
     "output_type": "stream",
     "text": [
      "/Users/marinedenolle/miniconda3/envs/seismo_exo/lib/python3.10/site-packages/obspy/signal/filter.py:62: UserWarning: Selected high corner frequency (20) of bandpass is at or above Nyquist (20.0). Applying a high-pass instead.\n",
      "  warnings.warn(msg)\n"
     ]
    },
    {
     "name": "stdout",
     "output_type": "stream",
     "text": [
      "ARAT old centroid time 13.39784420468289 new centroid time 9.377731521435086\n",
      "ARAT old duration 20.275 new duration time 16.225\n",
      "CARB old centroid time 21.15501418616018 new centroid time 12.687025565445154\n",
      "CARB old duration 33.225 new duration time 24.775\n",
      "CRBN old centroid time 18.586843549692276 new centroid time 10.804776859051145\n",
      "CRBN old duration 31.4 new duration time 23.575\n",
      "OBSR old centroid time 12.77615481817548 new centroid time 7.581861059533041\n",
      "OBSR old duration 18.125 new duration time 12.925\n",
      "OPCH old centroid time 18.957785453299444 new centroid time 9.175924046493098\n",
      "OPCH old duration 30.6 new duration time 20.725\n",
      "PANH old centroid time 16.0683203925245 new centroid time 11.583257331705074\n",
      "PANH old duration 30.55 new duration time 26.075\n",
      "PARA old centroid time 14.285291666674349 new centroid time 9.159416744808837\n",
      "PARA old duration 23.15 new duration time 17.975\n",
      "PR01 old centroid time 21.90510801505643 new centroid time 11.885419683769129\n",
      "PR01 old duration 34.275 new duration time 24.125\n",
      "PR04 old centroid time 18.60698773035314 new centroid time 11.58231034108049\n",
      "PR04 old duration 29.675 new duration time 22.625\n",
      "PR05 old centroid time 17.32120730618878 new centroid time 11.693286313572981\n",
      "PR05 old duration 30.3 new duration time 24.65\n",
      "RUSH old centroid time 18.25966839880839 new centroid time 12.904697109014302\n",
      "RUSH old duration 30.25 new duration time 24.9\n",
      "SIFT old centroid time 17.268444538468966 new centroid time 12.013626404565116\n",
      "SIFT old duration 28.15 new duration time 22.875\n",
      "STYX old centroid time 22.78407557578804 new centroid time 12.934209930882322\n",
      "STYX old duration 38.675 new duration time 28.875\n",
      "VOIT old centroid time 18.619007388516305 new centroid time 11.004974485948269\n",
      "VOIT old duration 31.975 new duration time 24.3\n",
      "LO2 old centroid time 15.722255560436563 new centroid time 9.748547171455069\n",
      "LO2 old duration 25.175 new duration time 19.225\n",
      "LON old centroid time 15.510388517519752 new centroid time 10.101582676289885\n",
      "LON old duration 25.05 new duration time 19.625\n",
      "RCM old centroid time 24.224580328503507 new centroid time 39.31893871163013\n",
      "RCM old duration 113.925 new duration time 128.925\n",
      "RCS old centroid time 20.981844516900644 new centroid time 17.174112636812172\n",
      "RCS old duration 134.7 new duration time 130.85\n",
      "RER old centroid time 11.425535416125808 new centroid time 7.825927265011368\n",
      "RER old duration 16.775 new duration time 13.15\n",
      "RER old centroid time 11.367345622288575 new centroid time 7.825927265011368\n",
      "RER old duration 16.975 new duration time 13.15\n",
      "STAR old centroid time 9.814624773323397 new centroid time 9.890982363684165\n",
      "STAR old duration 23.275 new duration time 23.35\n",
      "STAR old centroid time 7.160233447554121 new centroid time 9.890982363684165\n",
      "STAR old duration 10.45 new duration time 23.35\n"
     ]
    },
    {
     "name": "stderr",
     "output_type": "stream",
     "text": [
      "/Users/marinedenolle/miniconda3/envs/seismo_exo/lib/python3.10/site-packages/obspy/signal/filter.py:62: UserWarning: Selected high corner frequency (20) of bandpass is at or above Nyquist (20.0). Applying a high-pass instead.\n",
      "  warnings.warn(msg)\n"
     ]
    },
    {
     "name": "stdout",
     "output_type": "stream",
     "text": [
      "ARAT old centroid time 15.596083791130864 new centroid time 12.19313932315118\n",
      "ARAT old duration 30.55 new duration time 27.1\n",
      "OBSR old centroid time 12.413889939240052 new centroid time 10.201029171257408\n",
      "OBSR old duration 22.325 new duration time 20.1\n",
      "PANH old centroid time 11.294198718683493 new centroid time 9.65051324388024\n",
      "PANH old duration 21.575 new duration time 19.925\n",
      "FMW old centroid time 51.27507272836126 new centroid time 47.565070972749055\n",
      "FMW old duration 96.75 new duration time 92.875\n",
      "RCM old centroid time 8.433452654361925 new centroid time 8.825432305444247\n",
      "RCM old duration 17.525 new duration time 17.925\n",
      "RCS old centroid time 7.202078308699111 new centroid time 7.631705616897439\n",
      "RCS old duration 15.625 new duration time 16.1\n",
      "RER old centroid time 12.618908308623638 new centroid time 10.013895108548157\n",
      "RER old duration 21.425 new duration time 18.8\n",
      "RER old centroid time 12.574866098944101 new centroid time 10.013895108548157\n",
      "RER old duration 21.475 new duration time 18.8\n",
      "STAR old centroid time 11.365897245840184 new centroid time 10.29982897769759\n",
      "STAR old duration 21.65 new duration time 20.575\n"
     ]
    },
    {
     "name": "stderr",
     "output_type": "stream",
     "text": [
      "/Users/marinedenolle/miniconda3/envs/seismo_exo/lib/python3.10/site-packages/obspy/signal/filter.py:62: UserWarning: Selected high corner frequency (20) of bandpass is at or above Nyquist (20.0). Applying a high-pass instead.\n",
      "  warnings.warn(msg)\n"
     ]
    },
    {
     "name": "stdout",
     "output_type": "stream",
     "text": [
      "ARAT old centroid time 17.91135465196644 new centroid time 15.089276604129026\n",
      "ARAT old duration 38.15 new duration time 35.3\n",
      "OBSR old centroid time 19.343964693681215 new centroid time 18.006473893496942\n",
      "OBSR old duration 37.9 new duration time 36.55\n",
      "PANH old centroid time 20.682224159657675 new centroid time 18.735249498897907\n",
      "PANH old duration 42.225 new duration time 40.275\n",
      "PARA old centroid time 23.755751683501742 new centroid time 21.53101658441115\n",
      "PARA old duration 64.85 new duration time 62.575\n",
      "PR04 old centroid time 24.248922136198384 new centroid time 16.58646559017802\n",
      "PR04 old duration 48.475 new duration time 40.675\n",
      "RUSH old centroid time 22.52383596842872 new centroid time 20.263690640808523\n",
      "RUSH old duration 44.6 new duration time 42.35\n",
      "SIFT old centroid time 19.68418198366996 new centroid time 15.065735418511796\n",
      "SIFT old duration 40.875 new duration time 36.125\n",
      "VOIT old centroid time 20.331711313115882 new centroid time 35.5737982472116\n",
      "VOIT old duration 39.95 new duration time 54.95\n",
      "FMW old centroid time 19.7515928223082 new centroid time 17.65674532136753\n",
      "FMW old duration 40.775 new duration time 38.725\n",
      "LON old centroid time 35.38384838630187 new centroid time 30.564692659345408\n",
      "LON old duration 84.8 new duration time 79.875\n",
      "RCM old centroid time 16.04713608946469 new centroid time 14.88229620357914\n",
      "RCM old duration 37.25 new duration time 36.075\n",
      "RCS old centroid time 17.555052061140668 new centroid time 16.997899863584692\n",
      "RCS old duration 37.875 new duration time 37.3\n",
      "RER old centroid time 16.508109708291897 new centroid time 15.20363562412173\n",
      "RER old duration 37.05 new duration time 35.75\n",
      "RER old centroid time 17.107378861160054 new centroid time 15.20363562412173\n",
      "RER old duration 38.5 new duration time 35.75\n",
      "STAR old centroid time 18.606809543124537 new centroid time 17.79496042274602\n",
      "STAR old duration 37.65 new duration time 36.825\n"
     ]
    },
    {
     "name": "stderr",
     "output_type": "stream",
     "text": [
      "/Users/marinedenolle/miniconda3/envs/seismo_exo/lib/python3.10/site-packages/obspy/signal/filter.py:62: UserWarning: Selected high corner frequency (20) of bandpass is at or above Nyquist (20.0). Applying a high-pass instead.\n",
      "  warnings.warn(msg)\n"
     ]
    },
    {
     "name": "stdout",
     "output_type": "stream",
     "text": [
      "ARAT old centroid time 11.828052961286682 new centroid time 26.793523699476378\n",
      "ARAT old duration 20.9 new duration time 35.9\n",
      "OBSR old centroid time 12.516195641625217 new centroid time 10.693788862117001\n",
      "OBSR old duration 23.4 new duration time 21.55\n",
      "PANH old centroid time 13.881636885625904 new centroid time 12.517769379666662\n",
      "PANH old duration 25.275 new duration time 23.9\n",
      "PARA old centroid time 14.662279604303103 new centroid time 9.492461362507665\n",
      "PARA old duration 24.75 new duration time 19.35\n",
      "PR04 old centroid time 16.829026339222075 new centroid time 14.18265617923435\n",
      "PR04 old duration 30.25 new duration time 27.575\n",
      "PR05 old centroid time 15.097243519924971 new centroid time 11.171282825206564\n",
      "PR05 old duration 28.85 new duration time 24.725\n",
      "RUSH old centroid time 17.036962368152754 new centroid time 14.159767167457987\n",
      "RUSH old duration 31.25 new duration time 28.375\n",
      "SIFT old centroid time 16.548484622433037 new centroid time 14.471461055984554\n",
      "SIFT old duration 28.8 new duration time 26.575\n",
      "VOIT old centroid time 16.771278175762635 new centroid time 10.226148629859834\n",
      "VOIT old duration 27.825 new duration time 21.0\n",
      "RCM old centroid time 10.28791670946892 new centroid time 9.99383789521984\n",
      "RCM old duration 20.45 new duration time 20.15\n",
      "RCS old centroid time 11.974311932626184 new centroid time 11.291301357198929\n",
      "RCS old duration 20.275 new duration time 19.575\n",
      "RER old centroid time 10.719469653558368 new centroid time 8.801163435096566\n",
      "RER old duration 18.8 new duration time 16.9\n",
      "RER old centroid time 10.740049986228522 new centroid time 8.801163435096566\n",
      "RER old duration 19.2 new duration time 16.9\n",
      "STAR old centroid time 7.104606188331496 new centroid time 7.32204624426169\n",
      "STAR old duration 14.5 new duration time 14.75\n",
      "STAR old centroid time 6.696397363554924 new centroid time 7.32204624426169\n",
      "STAR old duration 13.875 new duration time 14.75\n"
     ]
    },
    {
     "name": "stderr",
     "output_type": "stream",
     "text": [
      "/Users/marinedenolle/miniconda3/envs/seismo_exo/lib/python3.10/site-packages/obspy/signal/filter.py:62: UserWarning: Selected high corner frequency (20) of bandpass is at or above Nyquist (20.0). Applying a high-pass instead.\n",
      "  warnings.warn(msg)\n"
     ]
    },
    {
     "name": "stdout",
     "output_type": "stream",
     "text": [
      "ARAT old centroid time 12.848463268544084 new centroid time 7.262654471299738\n",
      "ARAT old duration 20.975 new duration time 15.3\n",
      "OBSR old centroid time 12.645324698559616 new centroid time 12.216308998114572\n",
      "OBSR old duration 22.825 new duration time 22.375\n",
      "PANH old centroid time 11.937414594329761 new centroid time 8.478741093365372\n",
      "PANH old duration 20.475 new duration time 17.0\n",
      "PARA old centroid time 13.67682367741168 new centroid time 9.429613842975757\n",
      "PARA old duration 21.875 new duration time 17.55\n",
      "FMW old centroid time 12.478909081803636 new centroid time 7.144497897815155\n",
      "FMW old duration 21.975 new duration time 16.55\n",
      "RCM old centroid time 8.110888136297474 new centroid time 7.091322708926022\n",
      "RCM old duration 15.275 new duration time 14.25\n",
      "RCS old centroid time 7.217325338914822 new centroid time 5.54049038699736\n",
      "RCS old duration 14.5 new duration time 12.775\n",
      "RER old centroid time 98.98055011491752 new centroid time 3.8513397673823118\n",
      "RER old duration 124.8 new duration time 6.725\n",
      "RER old centroid time 11.102446869339527 new centroid time 3.8513397673823118\n",
      "RER old duration 20.45 new duration time 6.725\n",
      "STAR old centroid time 9.95156070586696 new centroid time 10.209076393753266\n",
      "STAR old duration 18.2 new duration time 18.475\n"
     ]
    },
    {
     "name": "stderr",
     "output_type": "stream",
     "text": [
      "/Users/marinedenolle/miniconda3/envs/seismo_exo/lib/python3.10/site-packages/obspy/signal/filter.py:62: UserWarning: Selected high corner frequency (20) of bandpass is at or above Nyquist (20.0). Applying a high-pass instead.\n",
      "  warnings.warn(msg)\n"
     ]
    },
    {
     "name": "stdout",
     "output_type": "stream",
     "text": [
      "ARAT old centroid time 19.341739536277807 new centroid time 15.74297754863425\n",
      "ARAT old duration 38.5 new duration time 34.875\n",
      "OBSR old centroid time 21.07422211299872 new centroid time 20.524661220239487\n",
      "OBSR old duration 47.55 new duration time 47.0\n",
      "PANH old centroid time 21.214600966110897 new centroid time 19.464375083699483\n",
      "PANH old duration 44.325 new duration time 42.55\n",
      "PARA old centroid time 18.254789141828898 new centroid time 16.17706997595265\n",
      "PARA old duration 36.625 new duration time 34.5\n",
      "PR05 old centroid time 19.952412637037487 new centroid time 15.167861789686254\n",
      "PR05 old duration 39.175 new duration time 34.45\n",
      "RUSH old centroid time 21.022513910815807 new centroid time 17.21415062121433\n",
      "RUSH old duration 37.925 new duration time 34.05\n",
      "SIFT old centroid time 20.067085621596444 new centroid time 17.28193579278367\n",
      "SIFT old duration 34.7 new duration time 31.825\n",
      "VOIT old centroid time 23.846055229396406 new centroid time 17.084062724169367\n",
      "VOIT old duration 38.325 new duration time 31.675\n",
      "FMW old centroid time 21.952992462244822 new centroid time 18.938902042475\n",
      "FMW old duration 44.7 new duration time 41.65\n",
      "LON old centroid time 20.790846818652884 new centroid time 16.759397124934782\n",
      "LON old duration 39.5 new duration time 35.425\n",
      "RCM old centroid time 18.096793289557134 new centroid time 17.87562250105854\n",
      "RCM old duration 40.5 new duration time 40.275\n",
      "RCS old centroid time 20.92144001680555 new centroid time 23.2346061940879\n",
      "RCS old duration 48.45 new duration time 51.175\n",
      "RER old centroid time 18.393100665980356 new centroid time 17.078230724270043\n",
      "RER old duration 42.625 new duration time 41.325\n",
      "RER old centroid time 17.60902662731911 new centroid time 17.078230724270043\n",
      "RER old duration 38.45 new duration time 41.325\n",
      "STAR old centroid time 22.977424424408323 new centroid time 22.90484103357499\n",
      "STAR old duration 89.575 new duration time 89.5\n",
      "STAR old centroid time 20.063760222980072 new centroid time 22.90484103357499\n",
      "STAR old duration 89.4 new duration time 89.5\n"
     ]
    },
    {
     "name": "stderr",
     "output_type": "stream",
     "text": [
      "/Users/marinedenolle/miniconda3/envs/seismo_exo/lib/python3.10/site-packages/obspy/signal/filter.py:62: UserWarning: Selected high corner frequency (20) of bandpass is at or above Nyquist (20.0). Applying a high-pass instead.\n",
      "  warnings.warn(msg)\n"
     ]
    },
    {
     "name": "stdout",
     "output_type": "stream",
     "text": [
      "ARAT old centroid time 7.049202613575645 new centroid time 4.750765741747659\n",
      "ARAT old duration 12.425 new duration time 10.075\n",
      "GTWY old centroid time 423.438766575392 new centroid time 442.82598242736094\n",
      "GTWY old duration 124.275 new duration time 139.275\n",
      "OBSR old centroid time 7.723536743202846 new centroid time 5.749126408277044\n",
      "OBSR old duration 13.675 new duration time 11.675\n",
      "PANH old centroid time 9.280761888115123 new centroid time 7.617898871519898\n",
      "PANH old duration 16.725 new duration time 15.05\n",
      "PARA old centroid time 9.16859155092398 new centroid time 7.846386938302022\n",
      "PARA old duration 15.55 new duration time 14.2\n",
      "RCM old centroid time 5.792422132842625 new centroid time 5.3070280995411965\n",
      "RCM old duration 12.55 new duration time 12.05\n",
      "RCS old centroid time 7.739910438974487 new centroid time 8.646515958015721\n",
      "RCS old duration 14.9 new duration time 15.825\n",
      "RER old centroid time 5.462136102848203 new centroid time 4.560503733038865\n",
      "RER old duration 8.9 new duration time 7.975\n",
      "RER old centroid time 5.305485304558147 new centroid time 4.560503733038865\n",
      "RER old duration 8.65 new duration time 7.975\n",
      "STAR old centroid time 2.4722621724861393 new centroid time 2.7844072850842174\n",
      "STAR old duration 4.55 new duration time 4.9\n"
     ]
    },
    {
     "name": "stderr",
     "output_type": "stream",
     "text": [
      "/Users/marinedenolle/miniconda3/envs/seismo_exo/lib/python3.10/site-packages/obspy/signal/filter.py:62: UserWarning: Selected high corner frequency (20) of bandpass is at or above Nyquist (20.0). Applying a high-pass instead.\n",
      "  warnings.warn(msg)\n"
     ]
    },
    {
     "name": "stdout",
     "output_type": "stream",
     "text": [
      "ARAT old centroid time 11.656255551558763 new centroid time 8.440760603965243\n",
      "ARAT old duration 18.275 new duration time 15.05\n",
      "OBSR old centroid time 12.708050606028362 new centroid time 9.89993028930892\n",
      "OBSR old duration 19.95 new duration time 17.225\n",
      "RER old centroid time 10.518756885517192 new centroid time 8.421984171421345\n",
      "RER old duration 17.3 new duration time 15.175\n",
      "RER old centroid time 10.467864763653317 new centroid time 8.421984171421345\n",
      "RER old duration 17.275 new duration time 15.175\n",
      "STAR old centroid time 7.96448193137653 new centroid time 8.148291742431859\n",
      "STAR old duration 13.25 new duration time 13.45\n",
      "STAR old centroid time 7.867520291406454 new centroid time 8.148291742431859\n",
      "STAR old duration 12.3 new duration time 13.45\n"
     ]
    },
    {
     "name": "stderr",
     "output_type": "stream",
     "text": [
      "/Users/marinedenolle/miniconda3/envs/seismo_exo/lib/python3.10/site-packages/obspy/signal/filter.py:62: UserWarning: Selected high corner frequency (20) of bandpass is at or above Nyquist (20.0). Applying a high-pass instead.\n",
      "  warnings.warn(msg)\n"
     ]
    },
    {
     "name": "stdout",
     "output_type": "stream",
     "text": [
      "OBSR old centroid time 11.55301805923251 new centroid time 6.766672545970466\n",
      "OBSR old duration 20.725 new duration time 15.9\n",
      "PANH old centroid time 10.050650492440889 new centroid time 6.242903880868475\n",
      "PANH old duration 18.15 new duration time 14.325\n",
      "PARA old centroid time 11.98946333320704 new centroid time 8.142460384285721\n",
      "PARA old duration 18.925 new duration time 15.1\n",
      "RCM old centroid time 7.706955184723504 new centroid time 5.649802531049103\n",
      "RCM old duration 13.975 new duration time 11.9\n",
      "RCS old centroid time 4.794174442885011 new centroid time 3.266688162454464\n",
      "RCS old duration 7.3 new duration time 5.75\n",
      "RER old centroid time 10.654205431105424 new centroid time 6.471440860057961\n",
      "RER old duration 17.425 new duration time 13.25\n",
      "STAR old centroid time 37.97441947432077 new centroid time 34.393262812353186\n",
      "STAR old duration 134.225 new duration time 130.425\n"
     ]
    },
    {
     "name": "stderr",
     "output_type": "stream",
     "text": [
      "/Users/marinedenolle/miniconda3/envs/seismo_exo/lib/python3.10/site-packages/obspy/signal/filter.py:62: UserWarning: Selected high corner frequency (20) of bandpass is at or above Nyquist (20.0). Applying a high-pass instead.\n",
      "  warnings.warn(msg)\n"
     ]
    },
    {
     "name": "stdout",
     "output_type": "stream",
     "text": [
      "ARAT old centroid time 21.267856885273023 new centroid time 18.49952288753864\n",
      "ARAT old duration 52.3 new duration time 49.5\n",
      "OBSR old centroid time 24.192816128699185 new centroid time 23.623958010242134\n",
      "OBSR old duration 55.25 new duration time 54.675\n",
      "PANH old centroid time 20.435013905705926 new centroid time 18.723035292227372\n",
      "PANH old duration 49.85 new duration time 48.125\n",
      "PARA old centroid time 19.953575643146202 new centroid time 19.788112769598293\n",
      "PARA old duration 48.05 new duration time 47.85\n",
      "RUSH old centroid time 20.91092213144127 new centroid time 16.366334195647664\n",
      "RUSH old duration 51.275 new duration time 46.475\n",
      "FMW old centroid time 21.526569005444806 new centroid time 18.896891580659982\n",
      "FMW old duration 52.175 new duration time 49.5\n",
      "RCM old centroid time 18.674661054684083 new centroid time 19.631939477749007\n",
      "RCM old duration 48.05 new duration time 49.075\n",
      "RCS old centroid time 19.74727932797817 new centroid time 20.905662957304788\n",
      "RCS old duration 48.85 new duration time 50.05\n",
      "RER old centroid time 20.220442217486703 new centroid time 18.095335054048974\n",
      "RER old duration 50.875 new duration time 48.7\n"
     ]
    },
    {
     "name": "stderr",
     "output_type": "stream",
     "text": [
      "/Users/marinedenolle/miniconda3/envs/seismo_exo/lib/python3.10/site-packages/obspy/signal/filter.py:62: UserWarning: Selected high corner frequency (20) of bandpass is at or above Nyquist (20.0). Applying a high-pass instead.\n",
      "  warnings.warn(msg)\n"
     ]
    },
    {
     "name": "stdout",
     "output_type": "stream",
     "text": [
      "ARAT old centroid time 11.011888013106907 new centroid time 7.4084321270651206\n",
      "ARAT old duration 18.625 new duration time 15.025\n",
      "OBSR old centroid time 9.86459151689654 new centroid time 6.960079744279899\n",
      "OBSR old duration 15.85 new duration time 12.925\n",
      "PANH old centroid time 8.986811338588407 new centroid time 6.386501980738734\n",
      "PANH old duration 16.45 new duration time 13.825\n",
      "PARA old centroid time 10.861466155804603 new centroid time 8.08592220384545\n",
      "PARA old duration 20.275 new duration time 17.475\n",
      "RUSH old centroid time 13.013048924756259 new centroid time 8.459141864141952\n",
      "RUSH old duration 23.975 new duration time 19.475\n",
      "SIFT old centroid time 12.528977008233174 new centroid time 7.865352050614768\n",
      "SIFT old duration 22.8 new duration time 18.25\n",
      "FMW old centroid time 10.536484288133956 new centroid time 7.339431285460265\n",
      "FMW old duration 19.15 new duration time 15.925\n",
      "LO2 old centroid time 10.20947439659276 new centroid time 6.568514947092772\n",
      "LO2 old duration 18.525 new duration time 14.8\n",
      "LON old centroid time 10.460996047491406 new centroid time 6.781753999501016\n",
      "LON old duration 18.625 new duration time 14.85\n",
      "RCM old centroid time 5.337457933998784 new centroid time 3.5768052064737414\n",
      "RCM old duration 10.15 new duration time 8.375\n",
      "RCS old centroid time 4.352836503004905 new centroid time 4.377246667118563\n",
      "RCS old duration 8.675 new duration time 8.7\n",
      "RER old centroid time 9.430466776481246 new centroid time 6.462144607033934\n",
      "RER old duration 17.125 new duration time 14.1\n",
      "STAR old centroid time 7.288194467085062 new centroid time 4.928539113958763\n",
      "STAR old duration 10.975 new duration time 8.6\n"
     ]
    },
    {
     "name": "stderr",
     "output_type": "stream",
     "text": [
      "/Users/marinedenolle/miniconda3/envs/seismo_exo/lib/python3.10/site-packages/obspy/signal/filter.py:62: UserWarning: Selected high corner frequency (20) of bandpass is at or above Nyquist (20.0). Applying a high-pass instead.\n",
      "  warnings.warn(msg)\n"
     ]
    },
    {
     "name": "stdout",
     "output_type": "stream",
     "text": [
      "OBSR old centroid time 10.482954932323429 new centroid time 6.8677542168261745\n",
      "OBSR old duration 18.8 new duration time 15.15\n",
      "PANH old centroid time 8.463762583286147 new centroid time 5.299559523891173\n",
      "PANH old duration 15.875 new duration time 12.75\n",
      "PARA old centroid time 9.316577576794996 new centroid time 6.694471033841553\n",
      "PARA old duration 15.175 new duration time 12.575\n",
      "TRON old centroid time 80.25792290353202 new centroid time 95.28809924317144\n",
      "TRON old duration 118.0 new duration time 133.0\n",
      "RCM old centroid time 5.1684990603420085 new centroid time 5.37360064868576\n",
      "RCM old duration 10.1 new duration time 10.325\n",
      "RER old centroid time 62.458249636091715 new centroid time 71.12560696429482\n",
      "RER old duration 44.95 new duration time 59.925\n",
      "RER old centroid time 32.24559478194631 new centroid time 71.12560696429482\n",
      "RER old duration 93.225 new duration time 59.925\n",
      "STAR old centroid time 5.868017732283458 new centroid time 5.4652179014157225\n",
      "STAR old duration 10.95 new duration time 10.525\n",
      "WPEQ old centroid time 111.80623927811347 new centroid time 126.81203386500363\n",
      "WPEQ old duration 132.8 new duration time 147.8\n",
      "WPEQ old centroid time 106.98273003416374 new centroid time 126.81203386500363\n",
      "WPEQ old duration 132.875 new duration time 147.8\n"
     ]
    },
    {
     "name": "stderr",
     "output_type": "stream",
     "text": [
      "/Users/marinedenolle/miniconda3/envs/seismo_exo/lib/python3.10/site-packages/obspy/signal/filter.py:62: UserWarning: Selected high corner frequency (20) of bandpass is at or above Nyquist (20.0). Applying a high-pass instead.\n",
      "  warnings.warn(msg)\n"
     ]
    },
    {
     "name": "stdout",
     "output_type": "stream",
     "text": [
      "ARAT old centroid time 13.685361302940704 new centroid time 11.5188980525503\n",
      "ARAT old duration 23.775 new duration time 21.55\n",
      "OBSR old centroid time 11.661889759862007 new centroid time 10.761052377608438\n",
      "OBSR old duration 22.3 new duration time 21.4\n",
      "PANH old centroid time 18.14428489730749 new centroid time 16.058476455362577\n",
      "PANH old duration 59.525 new duration time 57.4\n",
      "RUSH old centroid time 16.119325965297538 new centroid time 11.283335103978223\n",
      "RUSH old duration 29.1 new duration time 24.175\n",
      "SIFT old centroid time 15.366504312006244 new centroid time 10.812434366964602\n",
      "SIFT old duration 27.875 new duration time 23.25\n",
      "FMW old centroid time 13.741830690565747 new centroid time 11.517009215284153\n",
      "FMW old duration 26.15 new duration time 23.9\n",
      "LO2 old centroid time 67.7723291456604 new centroid time 65.15427288336132\n",
      "LO2 old duration 134.925 new duration time 132.4\n",
      "LON old centroid time 67.92503781926295 new centroid time 65.615478743266\n",
      "LON old duration 134.9 new duration time 132.675\n",
      "RCM old centroid time 11.636819155814601 new centroid time 11.7095069309296\n",
      "RCM old duration 22.725 new duration time 22.8\n",
      "RCS old centroid time 21.237367650776832 new centroid time 20.56476919633954\n",
      "RCS old duration 75.325 new duration time 74.625\n",
      "RER old centroid time 11.565756959711903 new centroid time 9.851748087207705\n",
      "RER old duration 22.6 new duration time 20.825\n",
      "RER old centroid time 11.36928820677277 new centroid time 9.851748087207705\n",
      "RER old duration 22.425 new duration time 20.825\n",
      "STAR old centroid time 10.900726939723006 new centroid time 10.493920830572513\n",
      "STAR old duration 22.025 new duration time 21.6\n"
     ]
    },
    {
     "name": "stderr",
     "output_type": "stream",
     "text": [
      "/Users/marinedenolle/miniconda3/envs/seismo_exo/lib/python3.10/site-packages/obspy/signal/filter.py:62: UserWarning: Selected high corner frequency (20) of bandpass is at or above Nyquist (20.0). Applying a high-pass instead.\n",
      "  warnings.warn(msg)\n"
     ]
    },
    {
     "name": "stdout",
     "output_type": "stream",
     "text": [
      "ARAT old centroid time 23.457061544167033 new centroid time 19.259363545995143\n",
      "ARAT old duration 55.925 new duration time 51.575\n",
      "OBSR old centroid time 25.422167749046377 new centroid time 23.573487385927482\n",
      "OBSR old duration 57.775 new duration time 55.925\n",
      "PANH old centroid time 23.297212022835662 new centroid time 20.630855985498737\n",
      "PANH old duration 56.75 new duration time 54.05\n",
      "PARA old centroid time 26.536529219125534 new centroid time 23.963483143873727\n",
      "PARA old duration 59.325 new duration time 56.7\n",
      "RUSH old centroid time 26.870251943143032 new centroid time 19.543198525624778\n",
      "RUSH old duration 68.0 new duration time 61.325\n",
      "SIFT old centroid time 27.44003555195971 new centroid time 21.98535303871912\n",
      "SIFT old duration 65.0 new duration time 59.475\n",
      "FMW old centroid time 23.299404031484944 new centroid time 20.386619362841227\n",
      "FMW old duration 56.575 new duration time 53.6\n",
      "RCM old centroid time 19.70144361854313 new centroid time 20.013561706834384\n",
      "RCM old duration 51.425 new duration time 51.75\n",
      "RCS old centroid time 42.28059235173199 new centroid time 41.51512093822048\n",
      "RCS old duration 106.775 new duration time 106.0\n",
      "RER old centroid time 22.77558992174824 new centroid time 21.631458781968156\n",
      "RER old duration 55.5 new duration time 54.35\n",
      "STAR old centroid time 21.895760432371294 new centroid time 21.253025273919004\n",
      "STAR old duration 54.15 new duration time 53.5\n",
      "STAR old centroid time 18.70527371666749 new centroid time 21.253025273919004\n",
      "STAR old duration 49.0 new duration time 53.5\n"
     ]
    },
    {
     "name": "stderr",
     "output_type": "stream",
     "text": [
      "/Users/marinedenolle/miniconda3/envs/seismo_exo/lib/python3.10/site-packages/obspy/signal/filter.py:62: UserWarning: Selected high corner frequency (20) of bandpass is at or above Nyquist (20.0). Applying a high-pass instead.\n",
      "  warnings.warn(msg)\n"
     ]
    },
    {
     "name": "stdout",
     "output_type": "stream",
     "text": [
      "ARAT old centroid time 11.955663062811338 new centroid time 8.633521606327125\n",
      "ARAT old duration 20.8 new duration time 17.5\n",
      "OBSR old centroid time 11.988503328864203 new centroid time 9.408128928997643\n",
      "OBSR old duration 22.125 new duration time 19.525\n",
      "PARA old centroid time 13.238075028448165 new centroid time 9.813553613196571\n",
      "PARA old duration 24.1 new duration time 20.625\n",
      "RCM old centroid time 9.483024811204885 new centroid time 8.574129921820916\n",
      "RCM old duration 18.675 new duration time 17.775\n",
      "RCS old centroid time 17.292573172319557 new centroid time 15.723762353747018\n",
      "RCS old duration 97.8 new duration time 96.175\n",
      "RER old centroid time 8.69591315405973 new centroid time 5.941913388881098\n",
      "RER old duration 15.125 new duration time 12.325\n",
      "RER old centroid time 8.822659664256115 new centroid time 5.941913388881098\n",
      "RER old duration 15.8 new duration time 12.325\n",
      "STAR old centroid time 6.8106426237588265 new centroid time 6.691452308440987\n",
      "STAR old duration 13.1 new duration time 12.975\n",
      "STAR old centroid time 6.6375791002036655 new centroid time 6.691452308440987\n",
      "STAR old duration 12.225 new duration time 12.975\n"
     ]
    },
    {
     "name": "stderr",
     "output_type": "stream",
     "text": [
      "/Users/marinedenolle/miniconda3/envs/seismo_exo/lib/python3.10/site-packages/obspy/signal/filter.py:62: UserWarning: Selected high corner frequency (20) of bandpass is at or above Nyquist (20.0). Applying a high-pass instead.\n",
      "  warnings.warn(msg)\n"
     ]
    },
    {
     "name": "stdout",
     "output_type": "stream",
     "text": [
      "ARAT old centroid time 27.34750891481835 new centroid time 23.019963768729816\n",
      "ARAT old duration 48.85 new duration time 44.5\n",
      "CARB old centroid time 30.518039006967406 new centroid time 15.843144589575326\n",
      "CARB old duration 53.1 new duration time 37.35\n",
      "CRBN old centroid time 29.932402299598944 new centroid time 23.114870493529033\n",
      "CRBN old duration 52.625 new duration time 45.75\n",
      "GTWY old centroid time 39.849343965486355 new centroid time 31.505163540163423\n",
      "GTWY old duration 115.65 new duration time 107.425\n",
      "KAUT old centroid time 28.380435380429343 new centroid time 23.064944223420447\n",
      "KAUT old duration 46.625 new duration time 41.2\n",
      "OBSR old centroid time 25.04146948128452 new centroid time 19.959113030017217\n",
      "OBSR old duration 43.875 new duration time 38.725\n",
      "OPCH old centroid time 28.92405470859688 new centroid time 22.377854040341806\n",
      "OPCH old duration 50.45 new duration time 43.9\n",
      "PANH old centroid time 24.187718590921246 new centroid time 19.759642473020296\n",
      "PANH old duration 42.375 new duration time 37.975\n",
      "PARA old centroid time 27.5309050516924 new centroid time 23.249405718088596\n",
      "PARA old duration 50.525 new duration time 46.2\n",
      "PR01 old centroid time 31.084369838770375 new centroid time 20.155403958598242\n",
      "PR01 old duration 52.35 new duration time 41.15\n",
      "PR03 old centroid time 29.541087264291484 new centroid time 21.287967495557098\n",
      "PR03 old duration 50.45 new duration time 42.25\n",
      "PR04 old centroid time 29.197247962308346 new centroid time 15.59853572461324\n",
      "PR04 old duration 50.15 new duration time 35.8\n",
      "PR05 old centroid time 26.78154360101563 new centroid time 21.097281915189903\n",
      "PR05 old duration 45.525 new duration time 39.875\n",
      "RUSH old centroid time 28.351795184439137 new centroid time 22.7050547919997\n",
      "RUSH old duration 49.65 new duration time 44.0\n",
      "SIFT old centroid time 28.6051795332971 new centroid time 23.583274375383795\n",
      "SIFT old duration 50.7 new duration time 45.65\n",
      "STYX old centroid time 37.51789579458924 new centroid time 52.51834397843588\n",
      "STYX old duration 78.975 new duration time 93.975\n",
      "VOIT old centroid time 30.926133283605054 new centroid time 21.144059002218434\n",
      "VOIT old duration 55.7 new duration time 45.8\n",
      "FMW old centroid time 26.329955346244635 new centroid time 21.56372562698254\n",
      "FMW old duration 48.175 new duration time 43.425\n",
      "LO2 old centroid time 26.83813048032706 new centroid time 22.61512255718442\n",
      "LO2 old duration 47.35 new duration time 43.15\n",
      "LON old centroid time 26.649827266892153 new centroid time 22.145584506702125\n",
      "LON old duration 47.5 new duration time 43.0\n",
      "RCM old centroid time 22.31449905807885 new centroid time 19.57106218411559\n",
      "RCM old duration 39.575 new duration time 36.8\n",
      "RCS old centroid time 23.28795744594209 new centroid time 22.373038446998287\n",
      "RCS old duration 44.025 new duration time 43.1\n",
      "RER old centroid time 5.309039046655231 new centroid time 20.02828256007062\n",
      "RER old duration 6.75 new duration time 21.75\n",
      "RER old centroid time 24.925373858829907 new centroid time 20.02828256007062\n",
      "RER old duration 45.375 new duration time 21.75\n",
      "STAR old centroid time 22.55468618023979 new centroid time 21.386273133925297\n",
      "STAR old duration 42.5 new duration time 41.325\n",
      "STAR old centroid time 22.43197118945645 new centroid time 21.386273133925297\n",
      "STAR old duration 41.825 new duration time 41.325\n"
     ]
    },
    {
     "name": "stderr",
     "output_type": "stream",
     "text": [
      "/Users/marinedenolle/miniconda3/envs/seismo_exo/lib/python3.10/site-packages/obspy/signal/filter.py:62: UserWarning: Selected high corner frequency (20) of bandpass is at or above Nyquist (20.0). Applying a high-pass instead.\n",
      "  warnings.warn(msg)\n"
     ]
    },
    {
     "name": "stdout",
     "output_type": "stream",
     "text": [
      "ARAT old centroid time 14.225521039296678 new centroid time 13.118279536188417\n",
      "ARAT old duration 33.475 new duration time 32.375\n",
      "OBSR old centroid time 17.88728316434276 new centroid time 17.687883068600055\n",
      "OBSR old duration 38.175 new duration time 37.95\n",
      "PANH old centroid time 22.364787586614597 new centroid time 20.49601781538226\n",
      "PANH old duration 59.675 new duration time 57.725\n",
      "PARA old centroid time 19.12704694348427 new centroid time 18.25053160271295\n",
      "PARA old duration 60.05 new duration time 59.15\n",
      "RUSH old centroid time 18.153147433856383 new centroid time 16.693139286467055\n",
      "RUSH old duration 38.875 new duration time 37.25\n",
      "SIFT old centroid time 16.58170715276686 new centroid time 14.007920553663677\n",
      "SIFT old duration 44.075 new duration time 41.475\n",
      "FMW old centroid time 18.009758912665415 new centroid time 17.462060494888178\n",
      "FMW old duration 39.375 new duration time 38.8\n",
      "LO2 old centroid time 15.978148842920364 new centroid time 13.663609363333626\n",
      "LO2 old duration 37.525 new duration time 35.2\n",
      "LON old centroid time 17.81063780590184 new centroid time 15.055059036942131\n",
      "LON old duration 44.825 new duration time 42.05\n",
      "RCM old centroid time 13.133819177955852 new centroid time 13.011447725651136\n",
      "RCM old duration 31.7 new duration time 31.575\n",
      "RCS old centroid time 20.37935515780299 new centroid time 20.75553937986344\n",
      "RCS old duration 61.55 new duration time 62.0\n",
      "RER old centroid time 15.205569930642627 new centroid time 15.345292600277588\n",
      "RER old duration 36.225 new duration time 36.375\n",
      "STAR old centroid time 15.105991127752596 new centroid time 15.446245432292397\n",
      "STAR old duration 35.75 new duration time 36.175\n"
     ]
    },
    {
     "name": "stderr",
     "output_type": "stream",
     "text": [
      "/Users/marinedenolle/miniconda3/envs/seismo_exo/lib/python3.10/site-packages/obspy/signal/filter.py:62: UserWarning: Selected high corner frequency (20) of bandpass is at or above Nyquist (20.0). Applying a high-pass instead.\n",
      "  warnings.warn(msg)\n"
     ]
    },
    {
     "name": "stdout",
     "output_type": "stream",
     "text": [
      "ARAT old centroid time 16.985304924136294 new centroid time 16.24047609877695\n",
      "ARAT old duration 34.4 new duration time 33.65\n",
      "CARB old centroid time 21.342588789627193 new centroid time 14.152189686130896\n",
      "CARB old duration 39.25 new duration time 32.075\n",
      "OBSR old centroid time 19.907088890106458 new centroid time 19.907088890106458\n",
      "OBSR old duration 40.775 new duration time 40.775\n",
      "OPCH old centroid time 21.385511695341513 new centroid time 14.955206833900027\n",
      "OPCH old duration 41.725 new duration time 35.25\n",
      "PANH old centroid time 18.476358576589387 new centroid time 17.786636787832634\n",
      "PANH old duration 40.4 new duration time 39.7\n",
      "PARA old centroid time 17.3019458041586 new centroid time 16.50555372218802\n",
      "PARA old duration 37.95 new duration time 37.15\n",
      "PR04 old centroid time 20.383371682401346 new centroid time 18.06789631830335\n",
      "PR04 old duration 42.95 new duration time 40.625\n",
      "PR05 old centroid time 20.015841923460222 new centroid time 15.23620034434384\n",
      "PR05 old duration 38.7 new duration time 33.85\n",
      "RUSH old centroid time 19.991754558774623 new centroid time 17.852825223112887\n",
      "RUSH old duration 40.675 new duration time 38.5\n",
      "SIFT old centroid time 19.070940793990903 new centroid time 16.402832682236415\n",
      "SIFT old duration 38.875 new duration time 36.175\n",
      "VOIT old centroid time 21.15236183812347 new centroid time 15.316312645627542\n",
      "VOIT old duration 42.2 new duration time 36.3\n",
      "FMW old centroid time 18.488120931134358 new centroid time 17.418906155347493\n",
      "FMW old duration 39.45 new duration time 38.375\n",
      "LO2 old centroid time 19.178039098755832 new centroid time 16.254054081297188\n",
      "LO2 old duration 39.175 new duration time 36.275\n",
      "LON old centroid time 19.162285280483186 new centroid time 16.720803702041348\n",
      "LON old duration 39.025 new duration time 36.65\n",
      "RCM old centroid time 14.762335491837677 new centroid time 15.081147252055072\n",
      "RCM old duration 35.825 new duration time 36.15\n",
      "RCS old centroid time 20.29628998993775 new centroid time 20.742495917090345\n",
      "RCS old duration 54.325 new duration time 54.8\n",
      "RER old centroid time 15.866636552069664 new centroid time 15.670334148253673\n",
      "RER old duration 36.45 new duration time 36.25\n",
      "STAR old centroid time 16.53333329712845 new centroid time 16.719582552601317\n",
      "STAR old duration 36.75 new duration time 36.95\n",
      "STAR old centroid time 15.700789747346196 new centroid time 16.719582552601317\n",
      "STAR old duration 35.375 new duration time 36.95\n"
     ]
    },
    {
     "name": "stderr",
     "output_type": "stream",
     "text": [
      "/Users/marinedenolle/miniconda3/envs/seismo_exo/lib/python3.10/site-packages/obspy/signal/filter.py:62: UserWarning: Selected high corner frequency (20) of bandpass is at or above Nyquist (20.0). Applying a high-pass instead.\n",
      "  warnings.warn(msg)\n"
     ]
    },
    {
     "name": "stdout",
     "output_type": "stream",
     "text": [
      "ARAT old centroid time 28.136284023298423 new centroid time 15.183823209564347\n",
      "ARAT old duration 51.55 new duration time 38.625\n",
      "CRBN old centroid time 64.50441806907254 new centroid time 46.58839274762164\n",
      "CRBN old duration 118.775 new duration time 101.525\n",
      "OPCH old centroid time 22.422733034734176 new centroid time 13.066035330312927\n",
      "OPCH old duration 41.425 new duration time 32.075\n",
      "PANH old centroid time 25.205411127760225 new centroid time 14.886892872460866\n",
      "PANH old duration 47.325 new duration time 37.05\n",
      "PARA old centroid time 27.412588847622786 new centroid time 16.720075141247385\n",
      "PARA old duration 57.85 new duration time 46.775\n",
      "PR05 old centroid time 26.353627668462238 new centroid time 11.920084693539032\n",
      "PR05 old duration 45.875 new duration time 31.65\n",
      "SIFT old centroid time 29.756108409837108 new centroid time 14.766453895222739\n",
      "SIFT old duration 51.95 new duration time 37.275\n",
      "FMW old centroid time 25.02561841755283 new centroid time 13.718033211084428\n",
      "FMW old duration 46.525 new duration time 35.15\n",
      "RER old centroid time 22.53386509371648 new centroid time 9.737624409608914\n",
      "RER old duration 38.825 new duration time 25.825\n"
     ]
    },
    {
     "name": "stderr",
     "output_type": "stream",
     "text": [
      "/Users/marinedenolle/miniconda3/envs/seismo_exo/lib/python3.10/site-packages/obspy/signal/filter.py:62: UserWarning: Selected high corner frequency (20) of bandpass is at or above Nyquist (20.0). Applying a high-pass instead.\n",
      "  warnings.warn(msg)\n"
     ]
    },
    {
     "name": "stdout",
     "output_type": "stream",
     "text": [
      "ARAT old centroid time 28.136284023298423 new centroid time 15.183823209564347\n",
      "ARAT old duration 51.55 new duration time 38.625\n",
      "CRBN old centroid time 64.50441806907254 new centroid time 46.58839274762164\n",
      "CRBN old duration 118.775 new duration time 101.525\n",
      "OPCH old centroid time 22.422733034734176 new centroid time 13.066035330312927\n",
      "OPCH old duration 41.425 new duration time 32.075\n",
      "PANH old centroid time 25.205411127760225 new centroid time 14.886892872460866\n",
      "PANH old duration 47.325 new duration time 37.05\n",
      "PARA old centroid time 27.412588847622786 new centroid time 16.720075141247385\n",
      "PARA old duration 57.85 new duration time 46.775\n",
      "PR05 old centroid time 26.353627668462238 new centroid time 11.920084693539032\n",
      "PR05 old duration 45.875 new duration time 31.65\n",
      "SIFT old centroid time 29.756108409837108 new centroid time 14.766453895222739\n",
      "SIFT old duration 51.95 new duration time 37.275\n",
      "FMW old centroid time 25.02561841755283 new centroid time 13.718033211084428\n",
      "FMW old duration 46.525 new duration time 35.15\n",
      "RER old centroid time 22.53386509371648 new centroid time 9.737624409608914\n",
      "RER old duration 38.825 new duration time 25.825\n"
     ]
    },
    {
     "name": "stderr",
     "output_type": "stream",
     "text": [
      "/Users/marinedenolle/miniconda3/envs/seismo_exo/lib/python3.10/site-packages/obspy/signal/filter.py:62: UserWarning: Selected high corner frequency (20) of bandpass is at or above Nyquist (20.0). Applying a high-pass instead.\n",
      "  warnings.warn(msg)\n"
     ]
    },
    {
     "name": "stdout",
     "output_type": "stream",
     "text": [
      "ARAT old centroid time 25.068339434461 new centroid time 15.327415810065382\n",
      "ARAT old duration 48.95 new duration time 39.025\n",
      "CRBN old centroid time 61.313445685152445 new centroid time 46.76259294489825\n",
      "CRBN old duration 115.8 new duration time 101.675\n",
      "OPCH old centroid time 19.386053415951793 new centroid time 13.26706384736784\n",
      "OPCH old duration 38.425 new duration time 32.3\n",
      "PANH old centroid time 22.23671689833579 new centroid time 14.913670193972653\n",
      "PANH old duration 44.35 new duration time 37.1\n",
      "PARA old centroid time 24.405149736054014 new centroid time 16.887756977630197\n",
      "PARA old duration 55.0 new duration time 47.05\n",
      "PR05 old centroid time 23.30816374421376 new centroid time 12.093433072340654\n",
      "PR05 old duration 43.05 new duration time 31.875\n",
      "SIFT old centroid time 26.49298258821055 new centroid time 14.964670560500485\n",
      "SIFT old duration 49.125 new duration time 37.5\n",
      "FMW old centroid time 22.044081100845382 new centroid time 13.727689038144126\n",
      "FMW old duration 43.425 new duration time 35.1\n",
      "RER old centroid time 19.493899916677844 new centroid time 9.767803252164583\n",
      "RER old duration 35.625 new duration time 25.75\n"
     ]
    },
    {
     "name": "stderr",
     "output_type": "stream",
     "text": [
      "/Users/marinedenolle/miniconda3/envs/seismo_exo/lib/python3.10/site-packages/obspy/signal/filter.py:62: UserWarning: Selected high corner frequency (20) of bandpass is at or above Nyquist (20.0). Applying a high-pass instead.\n",
      "  warnings.warn(msg)\n"
     ]
    },
    {
     "name": "stdout",
     "output_type": "stream",
     "text": [
      "ARAT old centroid time 24.08989387169199 new centroid time 15.389284839079284\n",
      "ARAT old duration 48.0 new duration time 39.125\n",
      "CRBN old centroid time 60.25174176954574 new centroid time 46.92727105106409\n",
      "CRBN old duration 114.825 new duration time 101.825\n",
      "OPCH old centroid time 18.37228569077465 new centroid time 13.137531132913113\n",
      "OPCH old duration 37.425 new duration time 32.15\n",
      "PANH old centroid time 21.24765042542272 new centroid time 14.90860233412783\n",
      "PANH old duration 43.4 new duration time 37.1\n",
      "PARA old centroid time 23.42778289115847 new centroid time 16.68313465266566\n",
      "PARA old duration 54.05 new duration time 46.825\n",
      "PR05 old centroid time 22.259353241426044 new centroid time 12.111392385715\n",
      "PR05 old duration 42.05 new duration time 31.9\n",
      "SIFT old centroid time 25.4671441325692 new centroid time 15.004561989044017\n",
      "SIFT old duration 48.175 new duration time 37.55\n",
      "FMW old centroid time 21.03362292349064 new centroid time 13.773106827292336\n",
      "FMW old duration 42.5 new duration time 35.2\n",
      "RER old centroid time 18.509610987905972 new centroid time 9.862719558252476\n",
      "RER old duration 34.65 new duration time 25.85\n"
     ]
    },
    {
     "name": "stderr",
     "output_type": "stream",
     "text": [
      "/Users/marinedenolle/miniconda3/envs/seismo_exo/lib/python3.10/site-packages/obspy/signal/filter.py:62: UserWarning: Selected high corner frequency (20) of bandpass is at or above Nyquist (20.0). Applying a high-pass instead.\n",
      "  warnings.warn(msg)\n"
     ]
    },
    {
     "name": "stdout",
     "output_type": "stream",
     "text": [
      "ARAT old centroid time 24.08989387169199 new centroid time 15.389284839079284\n",
      "ARAT old duration 48.0 new duration time 39.125\n",
      "CRBN old centroid time 60.25174176954574 new centroid time 46.92727105106409\n",
      "CRBN old duration 114.825 new duration time 101.825\n",
      "OPCH old centroid time 18.37228569077465 new centroid time 13.137531132913113\n",
      "OPCH old duration 37.425 new duration time 32.15\n",
      "PANH old centroid time 21.24765042542272 new centroid time 14.90860233412783\n",
      "PANH old duration 43.4 new duration time 37.1\n",
      "PARA old centroid time 23.42778289115847 new centroid time 16.68313465266566\n",
      "PARA old duration 54.05 new duration time 46.825\n",
      "PR05 old centroid time 22.259353241426044 new centroid time 12.111392385715\n",
      "PR05 old duration 42.05 new duration time 31.9\n",
      "SIFT old centroid time 25.4671441325692 new centroid time 15.004561989044017\n",
      "SIFT old duration 48.175 new duration time 37.55\n",
      "FMW old centroid time 21.03362292349064 new centroid time 13.773106827292336\n",
      "FMW old duration 42.5 new duration time 35.2\n",
      "RER old centroid time 18.509610987905972 new centroid time 9.862719558252476\n",
      "RER old duration 34.65 new duration time 25.85\n"
     ]
    },
    {
     "name": "stderr",
     "output_type": "stream",
     "text": [
      "/Users/marinedenolle/miniconda3/envs/seismo_exo/lib/python3.10/site-packages/obspy/signal/filter.py:62: UserWarning: Selected high corner frequency (20) of bandpass is at or above Nyquist (20.0). Applying a high-pass instead.\n",
      "  warnings.warn(msg)\n"
     ]
    },
    {
     "name": "stdout",
     "output_type": "stream",
     "text": [
      "ARAT old centroid time 23.08993753111699 new centroid time 15.615300663567606\n",
      "ARAT old duration 47.075 new duration time 39.4\n",
      "CRBN old centroid time 59.21442971310555 new centroid time 46.76804247933341\n",
      "CRBN old duration 113.875 new duration time 101.625\n",
      "OPCH old centroid time 17.349777183650712 new centroid time 13.225336313993585\n",
      "OPCH old duration 36.425 new duration time 32.25\n",
      "PANH old centroid time 20.277141332030414 new centroid time 14.90781865379332\n",
      "PANH old duration 42.45 new duration time 37.125\n",
      "PARA old centroid time 22.44939680022741 new centroid time 16.599651069795655\n",
      "PARA old duration 52.85 new duration time 46.675\n",
      "PR05 old centroid time 21.214256018207927 new centroid time 11.966450688934094\n",
      "PR05 old duration 41.025 new duration time 31.725\n",
      "SIFT old centroid time 24.430231678949326 new centroid time 15.056409283725444\n",
      "SIFT old duration 47.3 new duration time 37.6\n",
      "FMW old centroid time 20.032544662002174 new centroid time 13.740746528696034\n",
      "FMW old duration 41.475 new duration time 35.15\n",
      "RER old centroid time 17.51266618634724 new centroid time 9.336234828384407\n",
      "RER old duration 33.55 new duration time 25.225\n"
     ]
    },
    {
     "name": "stderr",
     "output_type": "stream",
     "text": [
      "/Users/marinedenolle/miniconda3/envs/seismo_exo/lib/python3.10/site-packages/obspy/signal/filter.py:62: UserWarning: Selected high corner frequency (20) of bandpass is at or above Nyquist (20.0). Applying a high-pass instead.\n",
      "  warnings.warn(msg)\n"
     ]
    },
    {
     "name": "stdout",
     "output_type": "stream",
     "text": [
      "ARAT old centroid time 23.08993753111699 new centroid time 15.615300663567606\n",
      "ARAT old duration 47.075 new duration time 39.4\n",
      "CRBN old centroid time 59.21442971310555 new centroid time 46.76804247933341\n",
      "CRBN old duration 113.875 new duration time 101.625\n",
      "OPCH old centroid time 17.349777183650712 new centroid time 13.225336313993585\n",
      "OPCH old duration 36.425 new duration time 32.25\n",
      "PANH old centroid time 20.277141332030414 new centroid time 14.90781865379332\n",
      "PANH old duration 42.45 new duration time 37.125\n",
      "PARA old centroid time 22.44939680022741 new centroid time 16.599651069795655\n",
      "PARA old duration 52.85 new duration time 46.675\n",
      "PR05 old centroid time 21.214256018207927 new centroid time 11.966450688934094\n",
      "PR05 old duration 41.025 new duration time 31.725\n",
      "SIFT old centroid time 24.430231678949326 new centroid time 15.056409283725444\n",
      "SIFT old duration 47.3 new duration time 37.6\n",
      "FMW old centroid time 20.032544662002174 new centroid time 13.740746528696034\n",
      "FMW old duration 41.475 new duration time 35.15\n",
      "RER old centroid time 17.51266618634724 new centroid time 9.336234828384407\n",
      "RER old duration 33.55 new duration time 25.225\n"
     ]
    },
    {
     "name": "stderr",
     "output_type": "stream",
     "text": [
      "/Users/marinedenolle/miniconda3/envs/seismo_exo/lib/python3.10/site-packages/obspy/signal/filter.py:62: UserWarning: Selected high corner frequency (20) of bandpass is at or above Nyquist (20.0). Applying a high-pass instead.\n",
      "  warnings.warn(msg)\n"
     ]
    },
    {
     "name": "stdout",
     "output_type": "stream",
     "text": [
      "ARAT old centroid time 23.08993753111699 new centroid time 15.615300663567606\n",
      "ARAT old duration 47.075 new duration time 39.4\n",
      "CRBN old centroid time 59.21442971310555 new centroid time 46.76804247933341\n",
      "CRBN old duration 113.875 new duration time 101.625\n",
      "OPCH old centroid time 17.349777183650712 new centroid time 13.225336313993585\n",
      "OPCH old duration 36.425 new duration time 32.25\n",
      "PANH old centroid time 20.277141332030414 new centroid time 14.90781865379332\n",
      "PANH old duration 42.45 new duration time 37.125\n",
      "PARA old centroid time 22.44939680022741 new centroid time 16.599651069795655\n",
      "PARA old duration 52.85 new duration time 46.675\n",
      "PR05 old centroid time 21.214256018207927 new centroid time 11.966450688934094\n",
      "PR05 old duration 41.025 new duration time 31.725\n",
      "SIFT old centroid time 24.430231678949326 new centroid time 15.056409283725444\n",
      "SIFT old duration 47.3 new duration time 37.6\n",
      "FMW old centroid time 20.032544662002174 new centroid time 13.740746528696034\n",
      "FMW old duration 41.475 new duration time 35.15\n",
      "RER old centroid time 17.51266618634724 new centroid time 9.336234828384407\n",
      "RER old duration 33.55 new duration time 25.225\n"
     ]
    },
    {
     "name": "stderr",
     "output_type": "stream",
     "text": [
      "/Users/marinedenolle/miniconda3/envs/seismo_exo/lib/python3.10/site-packages/obspy/signal/filter.py:62: UserWarning: Selected high corner frequency (20) of bandpass is at or above Nyquist (20.0). Applying a high-pass instead.\n",
      "  warnings.warn(msg)\n"
     ]
    },
    {
     "name": "stdout",
     "output_type": "stream",
     "text": [
      "ARAT old centroid time 20.00522657461238 new centroid time 15.239642227606518\n",
      "ARAT old duration 43.575 new duration time 38.725\n",
      "CRBN old centroid time 56.16553123564394 new centroid time 47.02718462077161\n",
      "CRBN old duration 110.975 new duration time 101.825\n",
      "OPCH old centroid time 14.354081019304543 new centroid time 13.155599486739108\n",
      "OPCH old duration 33.425 new duration time 32.175\n",
      "PANH old centroid time 17.260357797152317 new centroid time 14.990023060524049\n",
      "PANH old duration 39.5 new duration time 37.225\n",
      "PARA old centroid time 19.228752254680973 new centroid time 16.195752917729234\n",
      "PARA old duration 48.975 new duration time 45.75\n",
      "PR05 old centroid time 18.164921720813545 new centroid time 11.87097019417761\n",
      "PR05 old duration 37.95 new duration time 31.625\n",
      "SIFT old centroid time 21.552513400093172 new centroid time 15.14737040003853\n",
      "SIFT old duration 44.4 new duration time 37.75\n",
      "FMW old centroid time 17.043040896988042 new centroid time 13.686639276560946\n",
      "FMW old duration 38.375 new duration time 35.025\n",
      "RER old centroid time 14.377719782536554 new centroid time 9.039264032412024\n",
      "RER old duration 29.775 new duration time 24.525\n"
     ]
    },
    {
     "name": "stderr",
     "output_type": "stream",
     "text": [
      "/Users/marinedenolle/miniconda3/envs/seismo_exo/lib/python3.10/site-packages/obspy/signal/filter.py:62: UserWarning: Selected high corner frequency (20) of bandpass is at or above Nyquist (20.0). Applying a high-pass instead.\n",
      "  warnings.warn(msg)\n"
     ]
    },
    {
     "name": "stdout",
     "output_type": "stream",
     "text": [
      "ARAT old centroid time 20.00522657461238 new centroid time 15.239642227606518\n",
      "ARAT old duration 43.575 new duration time 38.725\n",
      "CRBN old centroid time 56.16553123564394 new centroid time 47.02718462077161\n",
      "CRBN old duration 110.975 new duration time 101.825\n",
      "OPCH old centroid time 14.354081019304543 new centroid time 13.155599486739108\n",
      "OPCH old duration 33.425 new duration time 32.175\n",
      "PANH old centroid time 17.260357797152317 new centroid time 14.990023060524049\n",
      "PANH old duration 39.5 new duration time 37.225\n",
      "PARA old centroid time 19.228752254680973 new centroid time 16.195752917729234\n",
      "PARA old duration 48.975 new duration time 45.75\n",
      "PR05 old centroid time 18.164921720813545 new centroid time 11.87097019417761\n",
      "PR05 old duration 37.95 new duration time 31.625\n",
      "SIFT old centroid time 21.552513400093172 new centroid time 15.14737040003853\n",
      "SIFT old duration 44.4 new duration time 37.75\n",
      "FMW old centroid time 17.043040896988042 new centroid time 13.686639276560946\n",
      "FMW old duration 38.375 new duration time 35.025\n",
      "RER old centroid time 14.377719782536554 new centroid time 9.039264032412024\n",
      "RER old duration 29.775 new duration time 24.525\n"
     ]
    },
    {
     "name": "stderr",
     "output_type": "stream",
     "text": [
      "/Users/marinedenolle/miniconda3/envs/seismo_exo/lib/python3.10/site-packages/obspy/signal/filter.py:62: UserWarning: Selected high corner frequency (20) of bandpass is at or above Nyquist (20.0). Applying a high-pass instead.\n",
      "  warnings.warn(msg)\n"
     ]
    },
    {
     "name": "stdout",
     "output_type": "stream",
     "text": [
      "ARAT old centroid time 18.994927859460393 new centroid time 15.331400422284602\n",
      "ARAT old duration 42.6 new duration time 38.85\n",
      "CRBN old centroid time 55.158579819901014 new centroid time 46.996447165061085\n",
      "CRBN old duration 109.975 new duration time 101.775\n",
      "OPCH old centroid time 13.383853458578438 new centroid time 13.245127108364308\n",
      "OPCH old duration 32.425 new duration time 32.275\n",
      "PANH old centroid time 16.25470823372887 new centroid time 14.990037520955271\n",
      "PANH old duration 38.5 new duration time 37.225\n",
      "PARA old centroid time 17.757340549479544 new centroid time 15.76102036461933\n",
      "PARA old duration 42.925 new duration time 40.775\n",
      "PR05 old centroid time 17.12547573725327 new centroid time 11.896189892120299\n",
      "PR05 old duration 36.85 new duration time 31.625\n",
      "SIFT old centroid time 20.61762384798592 new centroid time 15.237042072538612\n",
      "SIFT old duration 43.45 new duration time 37.875\n",
      "FMW old centroid time 16.02718272286986 new centroid time 13.8160988763512\n",
      "FMW old duration 37.35 new duration time 35.15\n",
      "RER old centroid time 13.400981645728015 new centroid time 9.241725822711837\n",
      "RER old duration 28.875 new duration time 24.8\n"
     ]
    },
    {
     "name": "stderr",
     "output_type": "stream",
     "text": [
      "/Users/marinedenolle/miniconda3/envs/seismo_exo/lib/python3.10/site-packages/obspy/signal/filter.py:62: UserWarning: Selected high corner frequency (20) of bandpass is at or above Nyquist (20.0). Applying a high-pass instead.\n",
      "  warnings.warn(msg)\n"
     ]
    },
    {
     "name": "stdout",
     "output_type": "stream",
     "text": [
      "ARAT old centroid time 17.99401468433284 new centroid time 15.329659870933408\n",
      "ARAT old duration 41.8 new duration time 38.975\n",
      "CRBN old centroid time 54.15417833307156 new centroid time 47.151528384435004\n",
      "CRBN old duration 108.975 new duration time 101.975\n",
      "OPCH old centroid time 12.443248818011918 new centroid time 13.215270955066803\n",
      "OPCH old duration 31.375 new duration time 32.3\n",
      "PANH old centroid time 15.262349184797543 new centroid time 15.025126142755278\n",
      "PANH old duration 37.525 new duration time 37.275\n",
      "PARA old centroid time 16.837054610439953 new centroid time 15.998396206156032\n",
      "PARA old duration 42.075 new duration time 41.15\n",
      "PR05 old centroid time 16.165935728549346 new centroid time 12.044900566299582\n",
      "PR05 old duration 35.925 new duration time 31.8\n",
      "SIFT old centroid time 19.56150308542566 new centroid time 14.925492623934097\n",
      "SIFT old duration 42.225 new duration time 37.45\n",
      "FMW old centroid time 15.01765920148363 new centroid time 13.634692126826065\n",
      "FMW old duration 36.35 new duration time 34.95\n",
      "RER old centroid time 5.379177206582896 new centroid time 20.394277096566846\n",
      "RER old duration 6.925 new duration time 21.925\n",
      "RER old centroid time 12.392932262159015 new centroid time 20.394277096566846\n",
      "RER old duration 27.9 new duration time 21.925\n"
     ]
    },
    {
     "name": "stderr",
     "output_type": "stream",
     "text": [
      "/Users/marinedenolle/miniconda3/envs/seismo_exo/lib/python3.10/site-packages/obspy/signal/filter.py:62: UserWarning: Selected high corner frequency (20) of bandpass is at or above Nyquist (20.0). Applying a high-pass instead.\n",
      "  warnings.warn(msg)\n"
     ]
    },
    {
     "name": "stdout",
     "output_type": "stream",
     "text": [
      "ARAT old centroid time 17.99401468433284 new centroid time 15.329659870933408\n",
      "ARAT old duration 41.8 new duration time 38.975\n",
      "CRBN old centroid time 54.15417833307156 new centroid time 47.151528384435004\n",
      "CRBN old duration 108.975 new duration time 101.975\n",
      "OPCH old centroid time 12.443248818011918 new centroid time 13.215270955066803\n",
      "OPCH old duration 31.375 new duration time 32.3\n",
      "PANH old centroid time 15.262349184797543 new centroid time 15.025126142755278\n",
      "PANH old duration 37.525 new duration time 37.275\n",
      "PARA old centroid time 16.837054610439953 new centroid time 15.998396206156032\n",
      "PARA old duration 42.075 new duration time 41.15\n",
      "PR05 old centroid time 16.165935728549346 new centroid time 12.044900566299582\n",
      "PR05 old duration 35.925 new duration time 31.8\n",
      "SIFT old centroid time 19.56150308542566 new centroid time 14.925492623934097\n",
      "SIFT old duration 42.225 new duration time 37.45\n",
      "FMW old centroid time 15.01765920148363 new centroid time 13.634692126826065\n",
      "FMW old duration 36.35 new duration time 34.95\n",
      "RER old centroid time 5.379177206582896 new centroid time 20.394277096566846\n",
      "RER old duration 6.925 new duration time 21.925\n",
      "RER old centroid time 12.392932262159015 new centroid time 20.394277096566846\n",
      "RER old duration 27.9 new duration time 21.925\n"
     ]
    },
    {
     "name": "stderr",
     "output_type": "stream",
     "text": [
      "/Users/marinedenolle/miniconda3/envs/seismo_exo/lib/python3.10/site-packages/obspy/signal/filter.py:62: UserWarning: Selected high corner frequency (20) of bandpass is at or above Nyquist (20.0). Applying a high-pass instead.\n",
      "  warnings.warn(msg)\n"
     ]
    },
    {
     "name": "stdout",
     "output_type": "stream",
     "text": [
      "ARAT old centroid time 16.955863616477448 new centroid time 15.139050976197796\n",
      "ARAT old duration 40.475 new duration time 38.55\n",
      "CRBN old centroid time 53.14852353592844 new centroid time 46.954346164740095\n",
      "CRBN old duration 107.975 new duration time 101.725\n",
      "OPCH old centroid time 11.617710801269807 new centroid time 12.885408200799484\n",
      "OPCH old duration 30.35 new duration time 32.225\n",
      "PANH old centroid time 14.162604355657576 new centroid time 14.733684880745995\n",
      "PANH old duration 35.975 new duration time 36.7\n",
      "PARA old centroid time 15.429241315794282 new centroid time 15.280105863790864\n",
      "PARA old duration 37.725 new duration time 37.55\n",
      "PR05 old centroid time 15.203452857942608 new centroid time 11.929521549282079\n",
      "PR05 old duration 35.025 new duration time 31.7\n",
      "SIFT old centroid time 18.49441772560913 new centroid time 15.032895797718396\n",
      "SIFT old duration 41.15 new duration time 37.575\n",
      "FMW old centroid time 13.990781837708276 new centroid time 13.669333322879353\n",
      "FMW old duration 35.3 new duration time 34.95\n",
      "RER old centroid time 4.297641778793436 new centroid time 19.142977582795943\n",
      "RER old duration 5.925 new duration time 20.925\n",
      "RER old centroid time 11.370616875071464 new centroid time 19.142977582795943\n",
      "RER old duration 26.95 new duration time 20.925\n"
     ]
    },
    {
     "name": "stderr",
     "output_type": "stream",
     "text": [
      "/Users/marinedenolle/miniconda3/envs/seismo_exo/lib/python3.10/site-packages/obspy/signal/filter.py:62: UserWarning: Selected high corner frequency (20) of bandpass is at or above Nyquist (20.0). Applying a high-pass instead.\n",
      "  warnings.warn(msg)\n"
     ]
    },
    {
     "name": "stdout",
     "output_type": "stream",
     "text": [
      "ARAT old centroid time 15.964666139324091 new centroid time 15.195738880161661\n",
      "ARAT old duration 39.425 new duration time 38.575\n",
      "CRBN old centroid time 52.144467902546964 new centroid time 47.12092520124585\n",
      "CRBN old duration 106.975 new duration time 101.925\n",
      "OPCH old centroid time -4193.70545788647 new centroid time -362.61526623537\n",
      "OPCH old duration 126.5 new duration time 127.35\n",
      "PANH old centroid time 12.789324375243119 new centroid time 13.896183147741066\n",
      "PANH old duration 30.9 new duration time 32.525\n",
      "PARA old centroid time 14.191665066751433 new centroid time 14.748994143435446\n",
      "PARA old duration 35.3 new duration time 36.075\n",
      "PR05 old centroid time 14.229928343678408 new centroid time 12.097725130756341\n",
      "PR05 old duration 34.05 new duration time 31.875\n",
      "SIFT old centroid time 17.522903262070724 new centroid time 14.988605020965599\n",
      "SIFT old duration 40.2 new duration time 37.525\n",
      "FMW old centroid time 12.524225614920407 new centroid time 13.066297668404811\n",
      "FMW old duration 31.225 new duration time 31.975\n",
      "RER old centroid time 3.254442408422908 new centroid time 18.0317982845868\n",
      "RER old duration 4.925 new duration time 19.925\n",
      "RER old centroid time 10.41873601681184 new centroid time 18.0317982845868\n",
      "RER old duration 26.125 new duration time 19.925\n"
     ]
    },
    {
     "name": "stderr",
     "output_type": "stream",
     "text": [
      "/Users/marinedenolle/miniconda3/envs/seismo_exo/lib/python3.10/site-packages/obspy/signal/filter.py:62: UserWarning: Selected high corner frequency (20) of bandpass is at or above Nyquist (20.0). Applying a high-pass instead.\n",
      "  warnings.warn(msg)\n"
     ]
    },
    {
     "name": "stdout",
     "output_type": "stream",
     "text": [
      "ARAT old centroid time 15.964666139324091 new centroid time 15.195738880161661\n",
      "ARAT old duration 39.425 new duration time 38.575\n",
      "CRBN old centroid time 52.144467902546964 new centroid time 47.12092520124585\n",
      "CRBN old duration 106.975 new duration time 101.925\n",
      "OPCH old centroid time -4193.70545788647 new centroid time -362.61526623537\n",
      "OPCH old duration 126.5 new duration time 127.35\n",
      "PANH old centroid time 12.789324375243119 new centroid time 13.896183147741066\n",
      "PANH old duration 30.9 new duration time 32.525\n",
      "PARA old centroid time 14.191665066751433 new centroid time 14.748994143435446\n",
      "PARA old duration 35.3 new duration time 36.075\n",
      "PR05 old centroid time 14.229928343678408 new centroid time 12.097725130756341\n",
      "PR05 old duration 34.05 new duration time 31.875\n",
      "SIFT old centroid time 17.522903262070724 new centroid time 14.988605020965599\n",
      "SIFT old duration 40.2 new duration time 37.525\n",
      "FMW old centroid time 12.524225614920407 new centroid time 13.066297668404811\n",
      "FMW old duration 31.225 new duration time 31.975\n",
      "RER old centroid time 3.254442408422908 new centroid time 18.0317982845868\n",
      "RER old duration 4.925 new duration time 19.925\n",
      "RER old centroid time 10.41873601681184 new centroid time 18.0317982845868\n",
      "RER old duration 26.125 new duration time 19.925\n"
     ]
    },
    {
     "name": "stderr",
     "output_type": "stream",
     "text": [
      "/Users/marinedenolle/miniconda3/envs/seismo_exo/lib/python3.10/site-packages/obspy/signal/filter.py:62: UserWarning: Selected high corner frequency (20) of bandpass is at or above Nyquist (20.0). Applying a high-pass instead.\n",
      "  warnings.warn(msg)\n"
     ]
    },
    {
     "name": "stdout",
     "output_type": "stream",
     "text": [
      "ARAT old centroid time 94.24651642554173 new centroid time 108.90449320047061\n",
      "ARAT old duration 134.85 new duration time 139.775\n",
      "CRBN old centroid time 45.179430418075114 new centroid time 46.755248236214946\n",
      "CRBN old duration 99.825 new duration time 101.625\n",
      "OPCH old centroid time 79.89185829662524 new centroid time 94.56596866901694\n",
      "OPCH old duration 134.875 new duration time 149.875\n",
      "PANH old centroid time 93.21890211482423 new centroid time 107.7412464309785\n",
      "PANH old duration 134.85 new duration time 149.85\n",
      "PARA old centroid time 90.26306642934972 new centroid time 104.77326854153507\n",
      "PARA old duration 134.85 new duration time 149.825\n",
      "PR05 old centroid time 94.83088653834398 new centroid time 112.80219355996879\n",
      "PR05 old duration 134.925 new duration time 139.6\n",
      "SIFT old centroid time 103.73215718072494 new centroid time 123.74842324374669\n",
      "SIFT old duration 134.925 new duration time 139.15\n",
      "FMW old centroid time 86.15314215266142 new centroid time 100.6116121386649\n",
      "FMW old duration 134.875 new duration time 149.85\n",
      "RER old centroid time 0.1875 new centroid time 576.8224656892876\n",
      "RER old duration 0.35 new duration time 14.925\n",
      "RER old centroid time 81.79199357865554 new centroid time 576.8224656892876\n",
      "RER old duration 134.9 new duration time 14.925\n"
     ]
    },
    {
     "name": "stderr",
     "output_type": "stream",
     "text": [
      "/Users/marinedenolle/miniconda3/envs/seismo_exo/lib/python3.10/site-packages/obspy/signal/filter.py:62: UserWarning: Selected high corner frequency (20) of bandpass is at or above Nyquist (20.0). Applying a high-pass instead.\n",
      "  warnings.warn(msg)\n"
     ]
    },
    {
     "name": "stdout",
     "output_type": "stream",
     "text": [
      "ARAT old centroid time 10.694418952660678 new centroid time 8.668165057715843\n",
      "ARAT old duration 22.15 new duration time 20.125\n",
      "OBSR old centroid time 10.174946100725682 new centroid time 6.531533452789899\n",
      "OBSR old duration 16.55 new duration time 12.875\n",
      "PANH old centroid time 9.31382251115577 new centroid time 6.342425674770247\n",
      "PANH old duration 16.475 new duration time 13.475\n",
      "PARA old centroid time 10.039050030724995 new centroid time 7.331703002325678\n",
      "PARA old duration 17.775 new duration time 15.025\n",
      "RCM old centroid time 4.442358761893589 new centroid time 3.9319001779413982\n",
      "RCM old duration 8.25 new duration time 7.725\n",
      "RCS old centroid time 6.35903477266212 new centroid time 5.148901469635504\n",
      "RCS old duration 10.7 new duration time 9.475\n",
      "RER old centroid time 8.100071665235248 new centroid time 5.714402060721941\n",
      "RER old duration 14.9 new duration time 12.425\n",
      "STAR old centroid time 7.492258850129797 new centroid time 5.345081014998359\n",
      "STAR old duration 12.975 new duration time 10.825\n"
     ]
    },
    {
     "name": "stderr",
     "output_type": "stream",
     "text": [
      "/Users/marinedenolle/miniconda3/envs/seismo_exo/lib/python3.10/site-packages/obspy/signal/filter.py:62: UserWarning: Selected high corner frequency (20) of bandpass is at or above Nyquist (20.0). Applying a high-pass instead.\n",
      "  warnings.warn(msg)\n"
     ]
    },
    {
     "name": "stdout",
     "output_type": "stream",
     "text": [
      "OBSR old centroid time 11.96019816733101 new centroid time 9.913785078535698\n",
      "OBSR old duration 22.85 new duration time 20.775\n",
      "PANH old centroid time 10.235406896975181 new centroid time 8.045168065115181\n",
      "PANH old duration 18.825 new duration time 16.55\n",
      "RCM old centroid time 17.37856991442817 new centroid time 16.57001666471676\n",
      "RCM old duration 85.375 new duration time 84.55\n",
      "RCS old centroid time 5.29167246158469 new centroid time 5.014255215948898\n",
      "RCS old duration 11.25 new duration time 10.95\n",
      "STAR old centroid time 9.593634887648534 new centroid time 9.027385575766512\n",
      "STAR old duration 17.05 new duration time 16.45\n"
     ]
    },
    {
     "name": "stderr",
     "output_type": "stream",
     "text": [
      "/Users/marinedenolle/miniconda3/envs/seismo_exo/lib/python3.10/site-packages/obspy/signal/filter.py:62: UserWarning: Selected high corner frequency (20) of bandpass is at or above Nyquist (20.0). Applying a high-pass instead.\n",
      "  warnings.warn(msg)\n"
     ]
    },
    {
     "name": "stdout",
     "output_type": "stream",
     "text": [
      "OBSR old centroid time 5.73246865327943 new centroid time 5.018895285930886\n",
      "OBSR old duration 11.175 new duration time 10.45\n",
      "RCM old centroid time 3.50785122853445 new centroid time 3.927008609297534\n",
      "RCM old duration 7.975 new duration time 8.425\n",
      "RCS old centroid time 3.477894308501962 new centroid time 3.8052309524875803\n",
      "RCS old duration 8.15 new duration time 8.5\n"
     ]
    },
    {
     "name": "stderr",
     "output_type": "stream",
     "text": [
      "/Users/marinedenolle/miniconda3/envs/seismo_exo/lib/python3.10/site-packages/obspy/signal/filter.py:62: UserWarning: Selected high corner frequency (20) of bandpass is at or above Nyquist (20.0). Applying a high-pass instead.\n",
      "  warnings.warn(msg)\n"
     ]
    },
    {
     "name": "stdout",
     "output_type": "stream",
     "text": [
      "OBSR old centroid time 5.73246865327943 new centroid time 5.018895285930886\n",
      "OBSR old duration 11.175 new duration time 10.45\n",
      "RCM old centroid time 3.50785122853445 new centroid time 3.927008609297534\n",
      "RCM old duration 7.975 new duration time 8.425\n",
      "RCS old centroid time 3.477894308501962 new centroid time 3.8052309524875803\n",
      "RCS old duration 8.15 new duration time 8.5\n"
     ]
    },
    {
     "name": "stderr",
     "output_type": "stream",
     "text": [
      "/Users/marinedenolle/miniconda3/envs/seismo_exo/lib/python3.10/site-packages/obspy/signal/filter.py:62: UserWarning: Selected high corner frequency (20) of bandpass is at or above Nyquist (20.0). Applying a high-pass instead.\n",
      "  warnings.warn(msg)\n"
     ]
    },
    {
     "name": "stdout",
     "output_type": "stream",
     "text": [
      "OBSR old centroid time 4.754967360290795 new centroid time 4.6846025185881395\n",
      "OBSR old duration 10.175 new duration time 10.1\n",
      "RCM old centroid time 2.7365049808463833 new centroid time 3.849970740231385\n",
      "RCM old duration 6.85 new duration time 8.25\n",
      "RCS old centroid time 2.604960135285378 new centroid time 3.799659288368302\n",
      "RCS old duration 7.05 new duration time 8.45\n"
     ]
    },
    {
     "name": "stderr",
     "output_type": "stream",
     "text": [
      "/Users/marinedenolle/miniconda3/envs/seismo_exo/lib/python3.10/site-packages/obspy/signal/filter.py:62: UserWarning: Selected high corner frequency (20) of bandpass is at or above Nyquist (20.0). Applying a high-pass instead.\n",
      "  warnings.warn(msg)\n"
     ]
    },
    {
     "name": "stdout",
     "output_type": "stream",
     "text": [
      "ARAT old centroid time 21.070576238902323 new centroid time 16.700776747409044\n",
      "ARAT old duration 38.175 new duration time 33.875\n",
      "OBSR old centroid time 21.27016429479075 new centroid time 16.851302297479005\n",
      "OBSR old duration 41.25 new duration time 36.65\n",
      "PANH old centroid time 21.18837026500269 new centroid time 17.29219580535796\n",
      "PANH old duration 42.375 new duration time 38.375\n",
      "PARA old centroid time 22.65682090283124 new centroid time 18.081717165569177\n",
      "PARA old duration 41.95 new duration time 37.325\n",
      "RUSH old centroid time 22.95070229343783 new centroid time 14.383843911623499\n",
      "RUSH old duration 39.8 new duration time 30.95\n",
      "SIFT old centroid time 23.48913773280021 new centroid time 38.42020879961925\n",
      "SIFT old duration 48.325 new duration time 63.325\n",
      "FMW old centroid time 24.7386720334023 new centroid time 20.57443588280944\n",
      "FMW old duration 49.15 new duration time 44.9\n",
      "LO2 old centroid time 22.009700621519904 new centroid time 17.501268640104264\n",
      "LO2 old duration 39.975 new duration time 35.55\n",
      "LON old centroid time 22.181407139735427 new centroid time 17.08655964789942\n",
      "LON old duration 40.05 new duration time 35.025\n",
      "RCM old centroid time 19.155291204210457 new centroid time 19.131459964988974\n",
      "RCM old duration 40.65 new duration time 40.625\n",
      "RCS old centroid time 19.053194183851083 new centroid time 15.64180133875661\n",
      "RCS old duration 40.1 new duration time 36.45\n",
      "RER old centroid time 20.44545137495133 new centroid time 17.760713224005325\n",
      "RER old duration 39.85 new duration time 37.05\n",
      "RER old centroid time 20.69509432143675 new centroid time 17.760713224005325\n",
      "RER old duration 39.35 new duration time 37.05\n",
      "STAR old centroid time 19.612005005312323 new centroid time 20.96459388517145\n",
      "STAR old duration 39.3 new duration time 40.7\n"
     ]
    },
    {
     "name": "stderr",
     "output_type": "stream",
     "text": [
      "/Users/marinedenolle/miniconda3/envs/seismo_exo/lib/python3.10/site-packages/obspy/signal/filter.py:62: UserWarning: Selected high corner frequency (20) of bandpass is at or above Nyquist (20.0). Applying a high-pass instead.\n",
      "  warnings.warn(msg)\n"
     ]
    },
    {
     "name": "stdout",
     "output_type": "stream",
     "text": [
      "ARAT old centroid time 22.970882008366875 new centroid time 20.696056530433008\n",
      "ARAT old duration 43.425 new duration time 41.175\n",
      "OBSR old centroid time 22.905562216943892 new centroid time 21.599945072171817\n",
      "OBSR old duration 39.925 new duration time 38.6\n",
      "PANH old centroid time 22.932732576854058 new centroid time 19.87944777603505\n",
      "PANH old duration 41.4 new duration time 38.275\n",
      "PARA old centroid time 16.85234798530133 new centroid time 10.66801430591078\n",
      "PARA old duration 82.475 new duration time 76.45\n",
      "PR04 old centroid time 26.675028436997792 new centroid time 17.50897898088147\n",
      "PR04 old duration 44.4 new duration time 34.975\n",
      "PR05 old centroid time 25.381980779301152 new centroid time 19.293763046629486\n",
      "PR05 old duration 41.725 new duration time 35.1\n",
      "RUSH old centroid time 24.157886980876114 new centroid time 17.98350193884874\n",
      "RUSH old duration 41.075 new duration time 34.725\n",
      "SIFT old centroid time 24.203613168951534 new centroid time 16.345705868117236\n",
      "SIFT old duration 40.175 new duration time 31.875\n",
      "VOIT old centroid time 25.35334840835951 new centroid time 17.20848394555333\n",
      "VOIT old duration 40.175 new duration time 31.975\n",
      "FMW old centroid time 23.360665065855724 new centroid time 18.372059706499424\n",
      "FMW old duration 40.325 new duration time 35.25\n",
      "LO2 old centroid time 44.702987917724286 new centroid time 36.81685918096252\n",
      "LO2 old duration 127.525 new duration time 120.55\n",
      "LON old centroid time 46.39951540011831 new centroid time 38.59719633975074\n",
      "LON old duration 127.6 new duration time 120.65\n",
      "RCM old centroid time 20.820334128788346 new centroid time 20.398618203286354\n",
      "RCM old duration 37.675 new duration time 37.25\n",
      "RCS old centroid time 31.8072089686536 new centroid time 32.7148371202265\n",
      "RCS old duration 58.45 new duration time 59.375\n",
      "RER old centroid time 21.05163907896848 new centroid time 19.469344008222876\n",
      "RER old duration 37.275 new duration time 35.675\n",
      "RER old centroid time 20.753967867148074 new centroid time 19.469344008222876\n",
      "RER old duration 36.725 new duration time 35.675\n",
      "STAR old centroid time 21.490459043097196 new centroid time 20.97272614043762\n",
      "STAR old duration 39.125 new duration time 38.6\n",
      "STAR old centroid time 21.43144676808503 new centroid time 20.97272614043762\n",
      "STAR old duration 38.375 new duration time 38.6\n"
     ]
    },
    {
     "name": "stderr",
     "output_type": "stream",
     "text": [
      "/Users/marinedenolle/miniconda3/envs/seismo_exo/lib/python3.10/site-packages/obspy/signal/filter.py:62: UserWarning: Selected high corner frequency (20) of bandpass is at or above Nyquist (20.0). Applying a high-pass instead.\n",
      "  warnings.warn(msg)\n"
     ]
    },
    {
     "name": "stdout",
     "output_type": "stream",
     "text": [
      "ARAT old centroid time 45.31760849242614 new centroid time 40.94762921663897\n",
      "ARAT old duration 99.65 new duration time 95.275\n",
      "OBSR old centroid time 45.873965165646474 new centroid time 41.7406638101908\n",
      "OBSR old duration 102.05 new duration time 97.825\n",
      "PANH old centroid time 52.7940356215136 new centroid time 49.32518282381706\n",
      "PANH old duration 105.175 new duration time 101.625\n",
      "PARA old centroid time 53.82031048365413 new centroid time 50.18444742930638\n",
      "PARA old duration 107.45 new duration time 103.8\n",
      "RUSH old centroid time 48.72384231376405 new centroid time 40.88295667515653\n",
      "RUSH old duration 104.75 new duration time 97.125\n",
      "FMW old centroid time 49.09055604429546 new centroid time 44.507313094184326\n",
      "FMW old duration 102.025 new duration time 97.425\n",
      "LO2 old centroid time 53.75251503916061 new centroid time 46.377606902065395\n",
      "LO2 old duration 103.075 new duration time 95.45\n",
      "LON old centroid time 53.73538042677455 new centroid time 46.65319022580746\n",
      "LON old duration 103.35 new duration time 96.05\n",
      "RCM old centroid time 48.93377061444326 new centroid time 48.32833810857996\n",
      "RCM old duration 98.6 new duration time 97.975\n",
      "RCS old centroid time 36.47480375127498 new centroid time 34.77058860000128\n",
      "RCS old duration 92.2 new duration time 90.475\n",
      "RER old centroid time 46.56429881714082 new centroid time 43.56524912418451\n",
      "RER old duration 100.05 new duration time 97.05\n",
      "STAR old centroid time 39.69985224520262 new centroid time 37.65783961230603\n",
      "STAR old duration 95.375 new duration time 93.325\n"
     ]
    },
    {
     "name": "stderr",
     "output_type": "stream",
     "text": [
      "/Users/marinedenolle/miniconda3/envs/seismo_exo/lib/python3.10/site-packages/obspy/signal/filter.py:62: UserWarning: Selected high corner frequency (20) of bandpass is at or above Nyquist (20.0). Applying a high-pass instead.\n",
      "  warnings.warn(msg)\n"
     ]
    },
    {
     "name": "stdout",
     "output_type": "stream",
     "text": [
      "ARAT old centroid time 13.003712424154937 new centroid time 10.50394029527797\n",
      "ARAT old duration 22.65 new duration time 20.125\n",
      "OBSR old centroid time 22.52088355403368 new centroid time 19.51829260256505\n",
      "OBSR old duration 49.65 new duration time 46.625\n",
      "PANH old centroid time 9.584026254431635 new centroid time 8.226834031583419\n",
      "PANH old duration 15.825 new duration time 14.45\n",
      "PARA old centroid time 11.439108150073121 new centroid time 10.03570309049464\n",
      "PARA old duration 17.225 new duration time 15.8\n",
      "FMW old centroid time 10.786863204628586 new centroid time 8.369619901275007\n",
      "FMW old duration 15.775 new duration time 13.35\n",
      "LO2 old centroid time 11.642155253973003 new centroid time 6.2637067917266815\n",
      "LO2 old duration 17.6 new duration time 12.025\n",
      "RCM old centroid time 8.976567501185711 new centroid time 8.264492361210216\n",
      "RCM old duration 13.675 new duration time 12.95\n",
      "RCS old centroid time 10.822582729033686 new centroid time 8.694935937901914\n",
      "RCS old duration 43.85 new duration time 41.775\n",
      "RER old centroid time 15.81213916180594 new centroid time 18.279540899737302\n",
      "RER old duration 41.4 new duration time 44.175\n",
      "RER old centroid time 11.134592384016361 new centroid time 18.279540899737302\n",
      "RER old duration 16.625 new duration time 44.175\n",
      "STAR old centroid time 14.684260772872156 new centroid time 10.741800122227852\n",
      "STAR old duration 45.025 new duration time 41.025\n"
     ]
    },
    {
     "name": "stderr",
     "output_type": "stream",
     "text": [
      "/Users/marinedenolle/miniconda3/envs/seismo_exo/lib/python3.10/site-packages/obspy/signal/filter.py:62: UserWarning: Selected high corner frequency (20) of bandpass is at or above Nyquist (20.0). Applying a high-pass instead.\n",
      "  warnings.warn(msg)\n"
     ]
    },
    {
     "name": "stdout",
     "output_type": "stream",
     "text": [
      "OBSR old centroid time 14.40037795423623 new centroid time 10.466535921285073\n",
      "OBSR old duration 25.8 new duration time 21.7\n",
      "PARA old centroid time 20.046083846414785 new centroid time 18.23884243044088\n",
      "PARA old duration 56.525 new duration time 54.7\n",
      "FMW old centroid time 13.28582722953789 new centroid time 11.421398744017235\n",
      "FMW old duration 24.05 new duration time 22.175\n",
      "RCM old centroid time 8.422492334751604 new centroid time 8.704367926066356\n",
      "RCM old duration 19.35 new duration time 19.65\n",
      "RCS old centroid time 11.025246229675128 new centroid time 10.683465367201547\n",
      "RCS old duration 22.55 new duration time 22.2\n",
      "RER old centroid time 12.090509441678194 new centroid time 10.811158653255763\n",
      "RER old duration 23.5 new duration time 22.25\n",
      "RER old centroid time 12.285028259461614 new centroid time 10.811158653255763\n",
      "RER old duration 23.8 new duration time 22.25\n",
      "STAR old centroid time 10.690932205302081 new centroid time 10.098936306218423\n",
      "STAR old duration 22.6 new duration time 22.0\n"
     ]
    },
    {
     "name": "stderr",
     "output_type": "stream",
     "text": [
      "/Users/marinedenolle/miniconda3/envs/seismo_exo/lib/python3.10/site-packages/obspy/signal/filter.py:62: UserWarning: Selected high corner frequency (20) of bandpass is at or above Nyquist (20.0). Applying a high-pass instead.\n",
      "  warnings.warn(msg)\n"
     ]
    },
    {
     "name": "stdout",
     "output_type": "stream",
     "text": [
      "ARAT old centroid time 11.912780535461714 new centroid time 9.466687281971469\n",
      "ARAT old duration 24.175 new duration time 21.725\n",
      "OBSR old centroid time 10.020419198218125 new centroid time 8.23469004147704\n",
      "OBSR old duration 15.725 new duration time 13.925\n",
      "PANH old centroid time 12.567868017423097 new centroid time 9.800677022099801\n",
      "PANH old duration 22.175 new duration time 19.5\n",
      "PARA old centroid time 14.563877993908845 new centroid time 10.362510481437415\n",
      "PARA old duration 28.425 new duration time 24.1\n",
      "RUSH old centroid time 15.300811675802333 new centroid time 11.67522111022953\n",
      "RUSH old duration 48.425 new duration time 44.675\n",
      "FMW old centroid time 11.15513623970748 new centroid time 7.802964420421794\n",
      "FMW old duration 17.625 new duration time 14.2\n",
      "RCM old centroid time 12.077638969415561 new centroid time 10.936497895831403\n",
      "RCM old duration 24.3 new duration time 23.15\n",
      "RCS old centroid time 13.967222034572067 new centroid time 13.225038649098847\n",
      "RCS old duration 107.5 new duration time 106.75\n",
      "RER old centroid time 9.168886771490032 new centroid time 7.96154415313292\n",
      "RER old duration 15.0 new duration time 13.775\n",
      "RER old centroid time 9.034459284923075 new centroid time 7.96154415313292\n",
      "RER old duration 14.725 new duration time 13.775\n",
      "STAR old centroid time 6.6022756070996484 new centroid time 6.4080968118778365\n",
      "STAR old duration 12.25 new duration time 12.05\n",
      "STAR old centroid time 6.326009185603139 new centroid time 6.4080968118778365\n",
      "STAR old duration 9.95 new duration time 12.05\n"
     ]
    },
    {
     "name": "stderr",
     "output_type": "stream",
     "text": [
      "/Users/marinedenolle/miniconda3/envs/seismo_exo/lib/python3.10/site-packages/obspy/signal/filter.py:62: UserWarning: Selected high corner frequency (20) of bandpass is at or above Nyquist (20.0). Applying a high-pass instead.\n",
      "  warnings.warn(msg)\n"
     ]
    },
    {
     "name": "stdout",
     "output_type": "stream",
     "text": [
      "OBSR old centroid time 10.863080197771486 new centroid time 7.334972764391259\n",
      "OBSR old duration 17.525 new duration time 13.95\n",
      "PANH old centroid time 10.04979062459625 new centroid time 6.853614701055073\n",
      "PANH old duration 18.075 new duration time 14.8\n",
      "PARA old centroid time 10.658989931517768 new centroid time 6.366548256855595\n",
      "PARA old duration 17.75 new duration time 13.45\n",
      "RCM old centroid time 5.519918464677128 new centroid time 4.961232592291948\n",
      "RCM old duration 11.175 new duration time 10.6\n",
      "RCS old centroid time 7.835446155686542 new centroid time 7.266429167917245\n",
      "RCS old duration 12.875 new duration time 12.3\n",
      "STAR old centroid time 7.094101739218649 new centroid time 4.559306129157369\n",
      "STAR old duration 12.025 new duration time 9.4\n"
     ]
    },
    {
     "name": "stderr",
     "output_type": "stream",
     "text": [
      "/Users/marinedenolle/miniconda3/envs/seismo_exo/lib/python3.10/site-packages/obspy/signal/filter.py:62: UserWarning: Selected high corner frequency (20) of bandpass is at or above Nyquist (20.0). Applying a high-pass instead.\n",
      "  warnings.warn(msg)\n"
     ]
    },
    {
     "name": "stdout",
     "output_type": "stream",
     "text": [
      "ARAT old centroid time 23.322484556525605 new centroid time 20.88204637264866\n",
      "ARAT old duration 52.6 new duration time 50.15\n",
      "OBSR old centroid time 26.158482918783463 new centroid time 24.022069555560698\n",
      "OBSR old duration 57.05 new duration time 54.9\n",
      "PANH old centroid time 24.002809371016735 new centroid time 19.73007078967713\n",
      "PANH old duration 55.475 new duration time 51.25\n",
      "PARA old centroid time 23.142895379747994 new centroid time 21.757149431057773\n",
      "PARA old duration 56.775 new duration time 55.4\n",
      "SIFT old centroid time 30.338102091831455 new centroid time 23.14197677050841\n",
      "SIFT old duration 87.9 new duration time 81.2\n",
      "FMW old centroid time 23.04682005389564 new centroid time 18.71059632448823\n",
      "FMW old duration 53.35 new duration time 49.025\n",
      "LO2 old centroid time 21.635900566193403 new centroid time 17.89612636414853\n",
      "LO2 old duration 52.8 new duration time 48.975\n",
      "LON old centroid time 20.62698324277263 new centroid time 16.25121113732493\n",
      "LON old duration 52.1 new duration time 47.625\n",
      "RCM old centroid time 18.720200999759005 new centroid time 18.31365029812192\n",
      "RCM old duration 50.175 new duration time 49.75\n",
      "RCS old centroid time 20.0044552308856 new centroid time 19.137770820240497\n",
      "RCS old duration 51.75 new duration time 50.875\n",
      "RER old centroid time 29.412685646486114 new centroid time 27.747368189504137\n",
      "RER old duration 58.1 new duration time 56.425\n",
      "RER old centroid time 28.869691810737553 new centroid time 27.747368189504137\n",
      "RER old duration 57.8 new duration time 56.425\n",
      "STAR old centroid time 30.681136161714083 new centroid time 30.04213193082339\n",
      "STAR old duration 60.25 new duration time 59.6\n",
      "STAR old centroid time 30.64025089552483 new centroid time 30.04213193082339\n",
      "STAR old duration 59.975 new duration time 59.6\n"
     ]
    },
    {
     "name": "stderr",
     "output_type": "stream",
     "text": [
      "/Users/marinedenolle/miniconda3/envs/seismo_exo/lib/python3.10/site-packages/obspy/signal/filter.py:62: UserWarning: Selected high corner frequency (20) of bandpass is at or above Nyquist (20.0). Applying a high-pass instead.\n",
      "  warnings.warn(msg)\n"
     ]
    },
    {
     "name": "stdout",
     "output_type": "stream",
     "text": [
      "ARAT old centroid time 31.522759842710716 new centroid time 31.122077780788178\n",
      "ARAT old duration 127.35 new duration time 126.925\n",
      "OBSR old centroid time 24.282825531039197 new centroid time 24.855697526949477\n",
      "OBSR old duration 51.075 new duration time 51.675\n",
      "PANH old centroid time 46.347154363963824 new centroid time 46.043158764541325\n",
      "PANH old duration 127.575 new duration time 127.25\n",
      "PARA old centroid time 37.79444435189976 new centroid time 37.51969065714849\n",
      "PARA old duration 128.375 new duration time 128.075\n",
      "RUSH old centroid time 30.564299352717942 new centroid time 28.96637370026983\n",
      "RUSH old duration 129.725 new duration time 127.95\n",
      "SIFT old centroid time 24.768988486130272 new centroid time 21.233812441672193\n",
      "SIFT old duration 51.725 new duration time 48.125\n",
      "FMW old centroid time 52.153239072891964 new centroid time 51.57634045913774\n",
      "FMW old duration 128.15 new duration time 127.55\n",
      "LO2 old centroid time 39.576635819400494 new centroid time 37.457312690340245\n",
      "LO2 old duration 127.9 new duration time 125.65\n",
      "RCM old centroid time 42.363768656560495 new centroid time 42.67364638365132\n",
      "RCM old duration 127.0 new duration time 127.375\n",
      "RCS old centroid time 48.74656497249174 new centroid time 49.81674141286485\n",
      "RCS old duration 125.65 new duration time 126.875\n",
      "RER old centroid time 31.562910921892676 new centroid time 31.69566965093055\n",
      "RER old duration 126.375 new duration time 126.525\n",
      "RER old centroid time 29.18740550815706 new centroid time 31.69566965093055\n",
      "RER old duration 126.3 new duration time 126.525\n",
      "STAR old centroid time 28.55302399024075 new centroid time 29.40274523909568\n",
      "STAR old duration 125.425 new duration time 126.475\n"
     ]
    },
    {
     "name": "stderr",
     "output_type": "stream",
     "text": [
      "/Users/marinedenolle/miniconda3/envs/seismo_exo/lib/python3.10/site-packages/obspy/signal/filter.py:62: UserWarning: Selected high corner frequency (20) of bandpass is at or above Nyquist (20.0). Applying a high-pass instead.\n",
      "  warnings.warn(msg)\n"
     ]
    },
    {
     "name": "stdout",
     "output_type": "stream",
     "text": [
      "ARAT old centroid time 35.86164798283571 new centroid time 32.75105808039355\n",
      "ARAT old duration 120.35 new duration time 116.775\n",
      "GTWY old centroid time 94.8902741641075 new centroid time 109.89011135221429\n",
      "GTWY old duration 134.525 new duration time 149.525\n",
      "OBSR old centroid time 14.022094332904054 new centroid time 10.908580545877767\n",
      "OBSR old duration 23.1 new duration time 19.975\n",
      "PANH old centroid time 9.043839386913453 new centroid time 9.672962790204037\n",
      "PANH old duration 16.075 new duration time 16.725\n",
      "PARA old centroid time 10.583082070240993 new centroid time 8.731215836789977\n",
      "PARA old duration 17.0 new duration time 15.125\n",
      "RUSH old centroid time 15.036233057207191 new centroid time 6.723318036907114\n",
      "RUSH old duration 24.875 new duration time 16.025\n",
      "FMW old centroid time 10.061616327763652 new centroid time 8.177676212533374\n",
      "FMW old duration 15.775 new duration time 13.875\n",
      "LO2 old centroid time 11.89326687350048 new centroid time 8.3826459490207\n",
      "LO2 old duration 21.1 new duration time 17.525\n",
      "LON old centroid time 11.643120111582844 new centroid time 8.33987118250654\n",
      "LON old duration 20.65 new duration time 17.275\n",
      "RCM old centroid time 7.971339183916226 new centroid time 8.379621110640857\n",
      "RCM old duration 11.9 new duration time 12.325\n",
      "RCS old centroid time 10.022339641221183 new centroid time 8.635701961343168\n",
      "RCS old duration 16.0 new duration time 14.6\n",
      "RER old centroid time 12.558632510038741 new centroid time 10.143629503359898\n",
      "RER old duration 26.55 new duration time 24.025\n",
      "SPFR old centroid time 22.747981789635222 new centroid time 13.963481451121533\n",
      "SPFR old duration 99.8 new duration time 90.725\n",
      "STAR old centroid time 19.767681036319267 new centroid time 15.893023389027153\n",
      "STAR old duration 90.2 new duration time 86.3\n"
     ]
    },
    {
     "name": "stderr",
     "output_type": "stream",
     "text": [
      "/Users/marinedenolle/miniconda3/envs/seismo_exo/lib/python3.10/site-packages/obspy/signal/filter.py:62: UserWarning: Selected high corner frequency (20) of bandpass is at or above Nyquist (20.0). Applying a high-pass instead.\n",
      "  warnings.warn(msg)\n"
     ]
    },
    {
     "name": "stdout",
     "output_type": "stream",
     "text": [
      "RCM old centroid time 15.771621957660043 new centroid time 15.99898296148714\n",
      "RCM old duration 45.725 new duration time 46.025\n",
      "RCS old centroid time 15.130995680592473 new centroid time 15.10958244943884\n",
      "RCS old duration 46.525 new duration time 46.5\n",
      "STAR old centroid time 14.16809802174809 new centroid time 29.293759127099406\n",
      "STAR old duration 32.475 new duration time 47.475\n"
     ]
    },
    {
     "name": "stderr",
     "output_type": "stream",
     "text": [
      "/Users/marinedenolle/miniconda3/envs/seismo_exo/lib/python3.10/site-packages/obspy/signal/filter.py:62: UserWarning: Selected high corner frequency (20) of bandpass is at or above Nyquist (20.0). Applying a high-pass instead.\n",
      "  warnings.warn(msg)\n"
     ]
    },
    {
     "name": "stdout",
     "output_type": "stream",
     "text": [
      "ARAT old centroid time 9.166592322503362 new centroid time 7.782221056168357\n",
      "ARAT old duration 17.2 new duration time 15.825\n",
      "OBSR old centroid time 8.081644402696806 new centroid time 6.271460947875305\n",
      "OBSR old duration 14.475 new duration time 12.625\n",
      "PANH old centroid time 7.477116403358065 new centroid time 6.165386123231094\n",
      "PANH old duration 13.425 new duration time 12.075\n",
      "PARA old centroid time 7.758252442175463 new centroid time 6.849846496954016\n",
      "PARA old duration 15.7 new duration time 14.775\n",
      "FMW old centroid time 35.085129130488255 new centroid time 32.903054345777\n",
      "FMW old duration 97.925 new duration time 95.75\n",
      "RCM old centroid time 3.7070768974638124 new centroid time 3.9518114703915197\n",
      "RCM old duration 8.175 new duration time 8.45\n",
      "RCS old centroid time 5.374224253138046 new centroid time 5.253872973711944\n",
      "RCS old duration 11.125 new duration time 11.0\n",
      "RER old centroid time 6.623194226608113 new centroid time 5.687339885306026\n",
      "RER old duration 12.75 new duration time 11.775\n",
      "RER old centroid time 6.779232665355915 new centroid time 5.687339885306026\n",
      "RER old duration 13.0 new duration time 11.775\n",
      "STAR old centroid time 3.824418244367464 new centroid time 3.362682823589598\n",
      "STAR old duration 8.575 new duration time 8.1\n"
     ]
    },
    {
     "name": "stderr",
     "output_type": "stream",
     "text": [
      "/Users/marinedenolle/miniconda3/envs/seismo_exo/lib/python3.10/site-packages/obspy/signal/filter.py:62: UserWarning: Selected high corner frequency (20) of bandpass is at or above Nyquist (20.0). Applying a high-pass instead.\n",
      "  warnings.warn(msg)\n"
     ]
    },
    {
     "name": "stdout",
     "output_type": "stream",
     "text": [
      "OBSR old centroid time 9.234535291480011 new centroid time 8.745451110688382\n",
      "OBSR old duration 19.1 new duration time 18.6\n",
      "PANH old centroid time 10.889604071354752 new centroid time 9.204759977250765\n",
      "PANH old duration 21.7 new duration time 20.0\n",
      "PARA old centroid time 11.389687970797034 new centroid time 9.63108092403725\n",
      "PARA old duration 22.15 new duration time 20.3\n",
      "RUSH old centroid time 12.39373886440861 new centroid time 9.359462013068713\n",
      "RUSH old duration 22.5 new duration time 19.325\n",
      "RCM old centroid time 8.044379579165293 new centroid time 8.319517335567312\n",
      "RCM old duration 16.5 new duration time 16.8\n",
      "RCS old centroid time 16.139313855721184 new centroid time 17.536266960731304\n",
      "RCS old duration 126.25 new duration time 127.75\n",
      "RER old centroid time 17.946862639986094 new centroid time 17.144271571594302\n",
      "RER old duration 105.25 new duration time 104.4\n",
      "RER old centroid time 7.515413734246421 new centroid time 17.144271571594302\n",
      "RER old duration 15.8 new duration time 104.4\n",
      "STAR old centroid time 7.308320930344692 new centroid time 7.617812443615737\n",
      "STAR old duration 23.45 new duration time 23.825\n"
     ]
    },
    {
     "name": "stderr",
     "output_type": "stream",
     "text": [
      "/Users/marinedenolle/miniconda3/envs/seismo_exo/lib/python3.10/site-packages/obspy/signal/filter.py:62: UserWarning: Selected high corner frequency (20) of bandpass is at or above Nyquist (20.0). Applying a high-pass instead.\n",
      "  warnings.warn(msg)\n"
     ]
    },
    {
     "name": "stdout",
     "output_type": "stream",
     "text": [
      "OBSR old centroid time 7.264635233383278 new centroid time 7.3136286892109394\n",
      "OBSR old duration 15.75 new duration time 15.8\n",
      "PARA old centroid time 9.908501056048156 new centroid time 8.319094252522516\n",
      "PARA old duration 18.875 new duration time 17.25\n",
      "RUSH old centroid time 12.541794000765487 new centroid time 27.65438167159525\n",
      "RUSH old duration 23.0 new duration time 38.0\n",
      "RCM old centroid time 8.185047678030472 new centroid time 8.28067621030215\n",
      "RCM old duration 18.375 new duration time 18.475\n",
      "RCS old centroid time 8.328184211537664 new centroid time 8.676144060221866\n",
      "RCS old duration 75.95 new duration time 76.375\n",
      "RER old centroid time 7.621744281146904 new centroid time 6.576554714327311\n",
      "RER old duration 15.45 new duration time 14.375\n",
      "STAR old centroid time 9.406506250376413 new centroid time 9.137502955203438\n",
      "STAR old duration 38.925 new duration time 38.65\n"
     ]
    },
    {
     "name": "stderr",
     "output_type": "stream",
     "text": [
      "/Users/marinedenolle/miniconda3/envs/seismo_exo/lib/python3.10/site-packages/obspy/signal/filter.py:62: UserWarning: Selected high corner frequency (20) of bandpass is at or above Nyquist (20.0). Applying a high-pass instead.\n",
      "  warnings.warn(msg)\n"
     ]
    },
    {
     "name": "stdout",
     "output_type": "stream",
     "text": [
      "CARB old centroid time 29.70942391776805 new centroid time 18.838799652993078\n",
      "CARB old duration 76.475 new duration time 65.35\n",
      "OBSR old centroid time 40.430578782173214 new centroid time 55.423171333513245\n",
      "OBSR old duration 128.725 new duration time 143.725\n",
      "PARA old centroid time 42.97296659677015 new centroid time 32.0006939707935\n",
      "PARA old duration 126.425 new duration time 115.625\n",
      "RUSH old centroid time 42.7125463175976 new centroid time 31.23982245416603\n",
      "RUSH old duration 87.95 new duration time 77.425\n",
      "FMW old centroid time 28.094698782479522 new centroid time 15.567779460403777\n",
      "FMW old duration 76.7 new duration time 64.15\n",
      "RCM old centroid time 1047.3868035964658 new centroid time 0.9326735216630717\n",
      "RCM old duration 122.625 new duration time 2.475\n",
      "RER old centroid time 54.99201107085557 new centroid time 44.53909110376117\n",
      "RER old duration 133.3 new duration time 123.075\n",
      "RER old centroid time 32.18107073586428 new centroid time 44.53909110376117\n",
      "RER old duration 77.575 new duration time 123.075\n",
      "WPEQ old centroid time 27.036407810521663 new centroid time 15.736266248803608\n",
      "WPEQ old duration 73.6 new duration time 61.725\n"
     ]
    },
    {
     "name": "stderr",
     "output_type": "stream",
     "text": [
      "/Users/marinedenolle/miniconda3/envs/seismo_exo/lib/python3.10/site-packages/obspy/signal/filter.py:62: UserWarning: Selected high corner frequency (20) of bandpass is at or above Nyquist (20.0). Applying a high-pass instead.\n",
      "  warnings.warn(msg)\n"
     ]
    },
    {
     "name": "stdout",
     "output_type": "stream",
     "text": [
      "ARAT old centroid time -2.9316803954938173 new centroid time 12.140701045471857\n",
      "ARAT old duration 93.275 new duration time 108.275\n",
      "CARB old centroid time 21.59623975174358 new centroid time 36.76680199997707\n",
      "CARB old duration 95.5 new duration time 110.5\n",
      "CRBN old centroid time 26.91460452276986 new centroid time 18.778819609789572\n",
      "CRBN old duration 99.225 new duration time 91.375\n",
      "OBSR old centroid time 22.121435318610317 new centroid time 22.913176453937368\n",
      "OBSR old duration 40.2 new duration time 41.0\n",
      "PARA old centroid time 21.80234023630183 new centroid time 16.476811543319844\n",
      "PARA old duration 39.85 new duration time 34.4\n",
      "PR04 old centroid time 25.821310881627838 new centroid time 17.566950258205427\n",
      "PR04 old duration 45.5 new duration time 37.325\n",
      "PR05 old centroid time 22.791232903837503 new centroid time 15.055249724374583\n",
      "PR05 old duration 111.7 new duration time 104.475\n",
      "RUSH old centroid time 24.46334067989948 new centroid time 17.79768185337689\n",
      "RUSH old duration 43.95 new duration time 37.2\n",
      "SIFT old centroid time 24.374307710873378 new centroid time 17.83099615559818\n",
      "SIFT old duration 42.2 new duration time 35.675\n",
      "VOIT old centroid time 25.27644400808153 new centroid time 16.313879269246147\n",
      "VOIT old duration 44.5 new duration time 36.075\n",
      "FMW old centroid time 22.37440549449723 new centroid time 19.406106541139568\n",
      "FMW old duration 40.5 new duration time 37.6\n",
      "LO2 old centroid time 21.84211674015811 new centroid time 15.357797289851806\n",
      "LO2 old duration 38.225 new duration time 31.6\n",
      "LON old centroid time 22.0282255109636 new centroid time 14.867438972134831\n",
      "LON old duration 38.675 new duration time 31.4\n",
      "RCM old centroid time 19.52819901226043 new centroid time 15.714874049374478\n",
      "RCM old duration 34.95 new duration time 31.025\n",
      "RCS old centroid time 21.17780002992346 new centroid time 22.435377733253294\n",
      "RCS old duration 39.55 new duration time 40.825\n",
      "RER old centroid time 20.931979261489257 new centroid time 15.464451019212701\n",
      "RER old duration 38.95 new duration time 33.275\n",
      "RER old centroid time 20.365868675840602 new centroid time 15.464451019212701\n",
      "RER old duration 38.675 new duration time 33.275\n",
      "STAR old centroid time 19.49634436621415 new centroid time 21.430602562739086\n",
      "STAR old duration 36.325 new duration time 38.375\n",
      "STAR old centroid time 19.160710892113503 new centroid time 21.430602562739086\n",
      "STAR old duration 34.75 new duration time 38.375\n"
     ]
    },
    {
     "name": "stderr",
     "output_type": "stream",
     "text": [
      "/Users/marinedenolle/miniconda3/envs/seismo_exo/lib/python3.10/site-packages/obspy/signal/filter.py:62: UserWarning: Selected high corner frequency (20) of bandpass is at or above Nyquist (20.0). Applying a high-pass instead.\n",
      "  warnings.warn(msg)\n"
     ]
    },
    {
     "name": "stdout",
     "output_type": "stream",
     "text": [
      "OBSR old centroid time 13.44604356236549 new centroid time 11.82319960461725\n",
      "OBSR old duration 26.725 new duration time 25.075\n",
      "PANH old centroid time 15.425397080922526 new centroid time 13.607033613953696\n",
      "PANH old duration 30.15 new duration time 28.35\n",
      "PARA old centroid time 14.694459195680276 new centroid time 13.982275079457043\n",
      "PARA old duration 31.65 new duration time 30.875\n",
      "RCM old centroid time 10.307841300479497 new centroid time 10.19137000708431\n",
      "RCM old duration 24.0 new duration time 23.875\n",
      "RCS old centroid time 10.953809913693869 new centroid time 10.703954455302386\n",
      "RCS old duration 59.275 new duration time 59.0\n",
      "RER old centroid time 18.404588103819368 new centroid time 17.40774533843932\n",
      "RER old duration 45.925 new duration time 44.925\n",
      "STAR old centroid time 10.003677397712435 new centroid time 10.271193060488597\n",
      "STAR old duration 23.25 new duration time 23.575\n"
     ]
    },
    {
     "name": "stderr",
     "output_type": "stream",
     "text": [
      "/Users/marinedenolle/miniconda3/envs/seismo_exo/lib/python3.10/site-packages/obspy/signal/filter.py:62: UserWarning: Selected high corner frequency (20) of bandpass is at or above Nyquist (20.0). Applying a high-pass instead.\n",
      "  warnings.warn(msg)\n"
     ]
    },
    {
     "name": "stdout",
     "output_type": "stream",
     "text": [
      "OBSR old centroid time 17.627954351280835 new centroid time 16.180185320396284\n",
      "OBSR old duration 56.45 new duration time 54.975\n",
      "PANH old centroid time 31.48072842659044 new centroid time 28.69005415201356\n",
      "PANH old duration 79.775 new duration time 76.85\n",
      "PARA old centroid time 34.30942717028007 new centroid time 32.16658196480926\n",
      "PARA old duration 81.1 new duration time 78.925\n",
      "RUSH old centroid time 22.205158475302007 new centroid time 18.063917217934584\n",
      "RUSH old duration 62.4 new duration time 58.325\n",
      "SIFT old centroid time 28.279066705931783 new centroid time 25.063238434941635\n",
      "SIFT old duration 76.35 new duration time 73.1\n",
      "FMW old centroid time 20.459323635117343 new centroid time 17.372592479251754\n",
      "FMW old duration 63.55 new duration time 60.4\n",
      "PUPY old centroid time 98.54609574783146 new centroid time 1.8791988068757561\n",
      "PUPY old duration 102.075 new duration time 4.375\n",
      "RCM old centroid time 22.564108182937872 new centroid time 21.100069197878543\n",
      "RCM old duration 68.225 new duration time 66.725\n",
      "RER old centroid time 38.96261257410629 new centroid time 36.83540755554495\n",
      "RER old duration 78.925 new duration time 76.775\n",
      "RER old centroid time 38.16612469962037 new centroid time 36.83540755554495\n",
      "RER old duration 78.275 new duration time 76.775\n",
      "STAR old centroid time 39.20502360085035 new centroid time 39.52965827172992\n",
      "STAR old duration 81.825 new duration time 82.325\n",
      "STAR old centroid time 36.65396509436053 new centroid time 39.52965827172992\n",
      "STAR old duration 76.325 new duration time 82.325\n"
     ]
    },
    {
     "name": "stderr",
     "output_type": "stream",
     "text": [
      "/Users/marinedenolle/miniconda3/envs/seismo_exo/lib/python3.10/site-packages/obspy/signal/filter.py:62: UserWarning: Selected high corner frequency (20) of bandpass is at or above Nyquist (20.0). Applying a high-pass instead.\n",
      "  warnings.warn(msg)\n"
     ]
    },
    {
     "name": "stdout",
     "output_type": "stream",
     "text": [
      "ARAT old centroid time 13.98895842444367 new centroid time 10.094271881800903\n",
      "ARAT old duration 29.05 new duration time 25.1\n",
      "OBSR old centroid time 14.490870778476864 new centroid time 11.937790505385198\n",
      "OBSR old duration 35.8 new duration time 33.225\n",
      "PANH old centroid time 11.699246310520515 new centroid time 9.236363128603923\n",
      "PANH old duration 25.3 new duration time 22.825\n",
      "PARA old centroid time 13.695221328359867 new centroid time 10.897153736535511\n",
      "PARA old duration 28.475 new duration time 25.6\n",
      "RUSH old centroid time 17.603820433803083 new centroid time 13.854951482001384\n",
      "RUSH old duration 38.475 new duration time 34.55\n",
      "FMW old centroid time 12.703332134017892 new centroid time 9.552942496307596\n",
      "FMW old duration 24.6 new duration time 21.4\n",
      "RCM old centroid time 12.967790681418347 new centroid time 11.860601013349221\n",
      "RCM old duration 34.025 new duration time 32.875\n",
      "RCS old centroid time 15.687020491581498 new centroid time 16.018932835639404\n",
      "RCS old duration 43.175 new duration time 43.55\n",
      "RER old centroid time 13.566390445057419 new centroid time 11.65216703534044\n",
      "RER old duration 33.75 new duration time 31.825\n",
      "RER old centroid time 11.774755510615442 new centroid time 11.65216703534044\n",
      "RER old duration 24.05 new duration time 31.825\n",
      "STAR old centroid time 16.266181762316997 new centroid time 13.327726829692246\n",
      "STAR old duration 51.85 new duration time 48.875\n",
      "WPEQ old centroid time 102.07982553898671 new centroid time 117.11325081397383\n",
      "WPEQ old duration 134.925 new duration time 149.925\n"
     ]
    },
    {
     "name": "stderr",
     "output_type": "stream",
     "text": [
      "/Users/marinedenolle/miniconda3/envs/seismo_exo/lib/python3.10/site-packages/obspy/signal/filter.py:62: UserWarning: Selected high corner frequency (20) of bandpass is at or above Nyquist (20.0). Applying a high-pass instead.\n",
      "  warnings.warn(msg)\n"
     ]
    },
    {
     "name": "stdout",
     "output_type": "stream",
     "text": [
      "ARAT old centroid time 13.068600213773548 new centroid time 10.163288496746292\n",
      "ARAT old duration 28.375 new duration time 25.4\n",
      "OBSR old centroid time 13.494571294690521 new centroid time 11.754101149524685\n",
      "OBSR old duration 34.8 new duration time 33.05\n",
      "PANH old centroid time 10.729944092006836 new centroid time 9.328190281161906\n",
      "PANH old duration 24.5 new duration time 23.075\n",
      "PARA old centroid time 12.681949653222937 new centroid time 10.784076994232509\n",
      "PARA old duration 27.375 new duration time 25.425\n",
      "RUSH old centroid time 16.553790312274636 new centroid time 13.296785174211951\n",
      "RUSH old duration 37.275 new duration time 33.875\n",
      "FMW old centroid time 11.688248219056193 new centroid time 9.683002173524214\n",
      "FMW old duration 23.475 new duration time 21.45\n",
      "RCM old centroid time 11.945893608055222 new centroid time 11.758957176968195\n",
      "RCM old duration 32.95 new duration time 32.75\n",
      "RCS old centroid time 14.420014194585125 new centroid time 15.602975335669875\n",
      "RCS old duration 41.6 new duration time 43.025\n",
      "RER old centroid time 12.5787924766078 new centroid time 11.771803062675033\n",
      "RER old duration 32.825 new duration time 32.0\n",
      "RER old centroid time 10.745660136673656 new centroid time 11.771803062675033\n",
      "RER old duration 22.9 new duration time 32.0\n",
      "STAR old centroid time 15.237429679613024 new centroid time 13.299254051917558\n",
      "STAR old duration 50.85 new duration time 48.875\n",
      "WPEQ old centroid time 98.88678864683406 new centroid time 113.88439464430519\n",
      "WPEQ old duration 134.95 new duration time 149.95\n",
      "WPEQ old centroid time 105.20229241291278 new centroid time 113.88439464430519\n",
      "WPEQ old duration 134.95 new duration time 149.95\n"
     ]
    },
    {
     "name": "stderr",
     "output_type": "stream",
     "text": [
      "/Users/marinedenolle/miniconda3/envs/seismo_exo/lib/python3.10/site-packages/obspy/signal/filter.py:62: UserWarning: Selected high corner frequency (20) of bandpass is at or above Nyquist (20.0). Applying a high-pass instead.\n",
      "  warnings.warn(msg)\n"
     ]
    },
    {
     "name": "stdout",
     "output_type": "stream",
     "text": [
      "ARAT old centroid time 11.052300220654773 new centroid time 10.055541791298625\n",
      "ARAT old duration 26.15 new duration time 25.125\n",
      "OBSR old centroid time 11.47291312638315 new centroid time 11.836209716368874\n",
      "OBSR old duration 32.725 new duration time 33.1\n",
      "PANH old centroid time 8.673013925399117 new centroid time 9.023581535717545\n",
      "PANH old duration 22.15 new duration time 22.525\n",
      "PARA old centroid time 10.707698076898309 new centroid time 10.602237109967351\n",
      "PARA old duration 25.3 new duration time 25.175\n",
      "RUSH old centroid time 14.446191147823535 new centroid time 13.520687150079247\n",
      "RUSH old duration 34.475 new duration time 33.55\n",
      "FMW old centroid time 9.673966880455236 new centroid time 9.459843342097708\n",
      "FMW old duration 21.375 new duration time 21.15\n",
      "RCM old centroid time 8.224645007197712 new centroid time 9.595428942193255\n",
      "RCM old duration 22.4 new duration time 24.125\n",
      "RCS old centroid time -57.92845557883288 new centroid time -32.738684459853395\n",
      "RCS old duration 108.325 new duration time 107.35\n",
      "RER old centroid time 10.084742119237607 new centroid time 11.093483995193338\n",
      "RER old duration 27.425 new duration time 28.5\n",
      "RER old centroid time 8.534199336781292 new centroid time 11.093483995193338\n",
      "RER old duration 19.075 new duration time 28.5\n",
      "STAR old centroid time 13.153439527444851 new centroid time 13.153439527444853\n",
      "STAR old duration 48.825 new duration time 48.825\n",
      "WPEQ old centroid time 97.56900088969198 new centroid time 112.56693959057482\n",
      "WPEQ old duration 134.975 new duration time 149.975\n",
      "WPEQ old centroid time 104.67946236521321 new centroid time 112.56693959057482\n",
      "WPEQ old duration 134.975 new duration time 149.975\n"
     ]
    },
    {
     "name": "stderr",
     "output_type": "stream",
     "text": [
      "/Users/marinedenolle/miniconda3/envs/seismo_exo/lib/python3.10/site-packages/obspy/signal/filter.py:62: UserWarning: Selected high corner frequency (20) of bandpass is at or above Nyquist (20.0). Applying a high-pass instead.\n",
      "  warnings.warn(msg)\n"
     ]
    },
    {
     "name": "stdout",
     "output_type": "stream",
     "text": [
      "ARAT old centroid time 11.052300220654773 new centroid time 10.055541791298625\n",
      "ARAT old duration 26.15 new duration time 25.125\n",
      "OBSR old centroid time 11.47291312638315 new centroid time 11.836209716368874\n",
      "OBSR old duration 32.725 new duration time 33.1\n",
      "PANH old centroid time 8.673013925399117 new centroid time 9.023581535717545\n",
      "PANH old duration 22.15 new duration time 22.525\n",
      "PARA old centroid time 10.707698076898309 new centroid time 10.602237109967351\n",
      "PARA old duration 25.3 new duration time 25.175\n",
      "RUSH old centroid time 14.446191147823535 new centroid time 13.520687150079247\n",
      "RUSH old duration 34.475 new duration time 33.55\n",
      "FMW old centroid time 9.673966880455236 new centroid time 9.459843342097708\n",
      "FMW old duration 21.375 new duration time 21.15\n",
      "RCM old centroid time 8.224645007197712 new centroid time 9.595428942193255\n",
      "RCM old duration 22.4 new duration time 24.125\n",
      "RCS old centroid time -57.92845557883288 new centroid time -32.738684459853395\n",
      "RCS old duration 108.325 new duration time 107.35\n",
      "RER old centroid time 10.084742119237607 new centroid time 11.093483995193338\n",
      "RER old duration 27.425 new duration time 28.5\n",
      "RER old centroid time 8.534199336781292 new centroid time 11.093483995193338\n",
      "RER old duration 19.075 new duration time 28.5\n",
      "STAR old centroid time 13.153439527444851 new centroid time 13.153439527444853\n",
      "STAR old duration 48.825 new duration time 48.825\n",
      "WPEQ old centroid time 97.56900088969198 new centroid time 112.56693959057482\n",
      "WPEQ old duration 134.975 new duration time 149.975\n",
      "WPEQ old centroid time 104.67946236521321 new centroid time 112.56693959057482\n",
      "WPEQ old duration 134.975 new duration time 149.975\n"
     ]
    },
    {
     "name": "stderr",
     "output_type": "stream",
     "text": [
      "/Users/marinedenolle/miniconda3/envs/seismo_exo/lib/python3.10/site-packages/obspy/signal/filter.py:62: UserWarning: Selected high corner frequency (20) of bandpass is at or above Nyquist (20.0). Applying a high-pass instead.\n",
      "  warnings.warn(msg)\n"
     ]
    },
    {
     "name": "stdout",
     "output_type": "stream",
     "text": [
      "ARAT old centroid time 11.052300220654773 new centroid time 10.055541791298625\n",
      "ARAT old duration 26.15 new duration time 25.125\n",
      "OBSR old centroid time 11.47291312638315 new centroid time 11.836209716368874\n",
      "OBSR old duration 32.725 new duration time 33.1\n",
      "PANH old centroid time 8.673013925399117 new centroid time 9.023581535717545\n",
      "PANH old duration 22.15 new duration time 22.525\n",
      "PARA old centroid time 10.707698076898309 new centroid time 10.602237109967351\n",
      "PARA old duration 25.3 new duration time 25.175\n",
      "RUSH old centroid time 14.446191147823535 new centroid time 13.520687150079247\n",
      "RUSH old duration 34.475 new duration time 33.55\n",
      "FMW old centroid time 9.673966880455236 new centroid time 9.459843342097708\n",
      "FMW old duration 21.375 new duration time 21.15\n",
      "RCM old centroid time 8.224645007197712 new centroid time 9.595428942193255\n",
      "RCM old duration 22.4 new duration time 24.125\n",
      "RCS old centroid time -57.92845557883288 new centroid time -32.738684459853395\n",
      "RCS old duration 108.325 new duration time 107.35\n",
      "RER old centroid time 10.084742119237607 new centroid time 11.093483995193338\n",
      "RER old duration 27.425 new duration time 28.5\n",
      "RER old centroid time 8.534199336781292 new centroid time 11.093483995193338\n",
      "RER old duration 19.075 new duration time 28.5\n",
      "STAR old centroid time 13.153439527444851 new centroid time 13.153439527444853\n",
      "STAR old duration 48.825 new duration time 48.825\n",
      "WPEQ old centroid time 97.56900088969198 new centroid time 112.56693959057482\n",
      "WPEQ old duration 134.975 new duration time 149.975\n",
      "WPEQ old centroid time 104.67946236521321 new centroid time 112.56693959057482\n",
      "WPEQ old duration 134.975 new duration time 149.975\n"
     ]
    },
    {
     "name": "stderr",
     "output_type": "stream",
     "text": [
      "/Users/marinedenolle/miniconda3/envs/seismo_exo/lib/python3.10/site-packages/obspy/signal/filter.py:62: UserWarning: Selected high corner frequency (20) of bandpass is at or above Nyquist (20.0). Applying a high-pass instead.\n",
      "  warnings.warn(msg)\n"
     ]
    },
    {
     "name": "stdout",
     "output_type": "stream",
     "text": [
      "ARAT old centroid time 11.052300220654773 new centroid time 10.055541791298625\n",
      "ARAT old duration 26.15 new duration time 25.125\n",
      "OBSR old centroid time 11.47291312638315 new centroid time 11.836209716368874\n",
      "OBSR old duration 32.725 new duration time 33.1\n",
      "PANH old centroid time 8.673013925399117 new centroid time 9.023581535717545\n",
      "PANH old duration 22.15 new duration time 22.525\n",
      "PARA old centroid time 10.707698076898309 new centroid time 10.602237109967351\n",
      "PARA old duration 25.3 new duration time 25.175\n",
      "RUSH old centroid time 14.446191147823535 new centroid time 13.520687150079247\n",
      "RUSH old duration 34.475 new duration time 33.55\n",
      "FMW old centroid time 9.673966880455236 new centroid time 9.459843342097708\n",
      "FMW old duration 21.375 new duration time 21.15\n",
      "RCM old centroid time 8.224645007197712 new centroid time 9.595428942193255\n",
      "RCM old duration 22.4 new duration time 24.125\n",
      "RCS old centroid time -57.92845557883288 new centroid time -32.738684459853395\n",
      "RCS old duration 108.325 new duration time 107.35\n",
      "RER old centroid time 10.084742119237607 new centroid time 11.093483995193338\n",
      "RER old duration 27.425 new duration time 28.5\n",
      "RER old centroid time 8.534199336781292 new centroid time 11.093483995193338\n",
      "RER old duration 19.075 new duration time 28.5\n",
      "STAR old centroid time 13.153439527444851 new centroid time 13.153439527444853\n",
      "STAR old duration 48.825 new duration time 48.825\n",
      "WPEQ old centroid time 97.56900088969198 new centroid time 112.56693959057482\n",
      "WPEQ old duration 134.975 new duration time 149.975\n",
      "WPEQ old centroid time 104.67946236521321 new centroid time 112.56693959057482\n",
      "WPEQ old duration 134.975 new duration time 149.975\n"
     ]
    },
    {
     "name": "stderr",
     "output_type": "stream",
     "text": [
      "/Users/marinedenolle/miniconda3/envs/seismo_exo/lib/python3.10/site-packages/obspy/signal/filter.py:62: UserWarning: Selected high corner frequency (20) of bandpass is at or above Nyquist (20.0). Applying a high-pass instead.\n",
      "  warnings.warn(msg)\n"
     ]
    },
    {
     "name": "stdout",
     "output_type": "stream",
     "text": [
      "ARAT old centroid time 7.764569913117454 new centroid time 9.362087121360625\n",
      "ARAT old duration 19.9 new duration time 21.925\n",
      "OBSR old centroid time 6.406713860355261 new centroid time 9.383943500863612\n",
      "OBSR old duration 18.3 new duration time 21.725\n",
      "PANH old centroid time -740.3104994147956 new centroid time -150.50854241861384\n",
      "PANH old duration 111.65 new duration time 108.55\n",
      "PARA old centroid time 7.718470026691938 new centroid time 9.82944845903319\n",
      "PARA old duration 20.675 new duration time 23.575\n",
      "RUSH old centroid time 11.636575161958925 new centroid time 13.152114484837401\n",
      "RUSH old duration 31.5 new duration time 33.2\n",
      "FMW old centroid time 6.851306678093619 new centroid time 9.266092581061306\n",
      "FMW old duration 17.975 new duration time 20.775\n",
      "RCM old centroid time 113.25896970636728 new centroid time 138.63063172516897\n",
      "RCM old duration 133.95 new duration time 138.15\n",
      "RCS old centroid time 90.97737046581688 new centroid time 105.13407188258088\n",
      "RCS old duration 134.9 new duration time 149.75\n",
      "RER old centroid time -154.8529682927896 new centroid time -83.90567598394252\n",
      "RER old duration 100.55 new duration time 102.6\n",
      "RER old centroid time -1629.4672553115518 new centroid time -83.90567598394252\n",
      "RER old duration 106.5 new duration time 102.6\n",
      "STAR old centroid time 5.902108820693107 new centroid time 8.017586008743141\n",
      "STAR old duration 45.95 new duration time 48.85\n",
      "WPEQ old centroid time 100.5737838830977 new centroid time 115.55166754383934\n",
      "WPEQ old duration 134.975 new duration time 149.975\n",
      "WPEQ old centroid time 103.66494427599258 new centroid time 115.55166754383934\n",
      "WPEQ old duration 134.9 new duration time 149.975\n"
     ]
    },
    {
     "name": "stderr",
     "output_type": "stream",
     "text": [
      "/Users/marinedenolle/miniconda3/envs/seismo_exo/lib/python3.10/site-packages/obspy/signal/filter.py:62: UserWarning: Selected high corner frequency (20) of bandpass is at or above Nyquist (20.0). Applying a high-pass instead.\n",
      "  warnings.warn(msg)\n"
     ]
    },
    {
     "name": "stdout",
     "output_type": "stream",
     "text": [
      "PARA old centroid time 10.769929908283011 new centroid time 13.606700520983859\n",
      "PARA old duration 25.1 new duration time 28.625\n",
      "RCM old centroid time 106.13287832186008 new centroid time 122.4085224356383\n",
      "RCM old duration 132.2 new duration time 137.15\n",
      "STAR old centroid time 114.01311241722097 new centroid time 136.56333209925393\n",
      "STAR old duration 132.4 new duration time 136.775\n"
     ]
    },
    {
     "name": "stderr",
     "output_type": "stream",
     "text": [
      "/Users/marinedenolle/miniconda3/envs/seismo_exo/lib/python3.10/site-packages/obspy/signal/filter.py:62: UserWarning: Selected high corner frequency (20) of bandpass is at or above Nyquist (20.0). Applying a high-pass instead.\n",
      "  warnings.warn(msg)\n"
     ]
    },
    {
     "name": "stdout",
     "output_type": "stream",
     "text": [
      "ARAT old centroid time 15.176802900995792 new centroid time 10.590541432867663\n",
      "ARAT old duration 25.8 new duration time 21.15\n",
      "OBSR old centroid time 14.658115485889063 new centroid time 11.09124389520133\n",
      "OBSR old duration 25.3 new duration time 21.7\n",
      "PARA old centroid time 16.737506181421132 new centroid time 14.61847270859188\n",
      "PARA old duration 30.65 new duration time 28.525\n",
      "RUSH old centroid time 18.33677914928959 new centroid time 14.085185762016973\n",
      "RUSH old duration 31.15 new duration time 26.925\n",
      "SIFT old centroid time 17.972692802617395 new centroid time 13.349767653720374\n",
      "SIFT old duration 30.0 new duration time 25.425\n",
      "FMW old centroid time 16.28409000072356 new centroid time 10.463562067286874\n",
      "FMW old duration 27.925 new duration time 22.025\n",
      "LO2 old centroid time 15.629188720334534 new centroid time 11.185555734094523\n",
      "LO2 old duration 25.65 new duration time 21.15\n",
      "LON old centroid time 15.410055443956539 new centroid time 11.10679980451598\n",
      "LON old duration 24.0 new duration time 19.7\n",
      "RCM old centroid time 9.646050469227026 new centroid time 8.61230354191306\n",
      "RCM old duration 16.625 new duration time 15.575\n",
      "RCS old centroid time -10.135135692680398 new centroid time -14.070581998151667\n",
      "RCS old duration 132.5 new duration time 128.925\n",
      "RER old centroid time 3.871175696033141 new centroid time 1.0049347783497953\n",
      "RER old duration 71.15 new duration time 68.325\n",
      "RER old centroid time 13.389460716537098 new centroid time 1.0049347783497953\n",
      "RER old duration 23.975 new duration time 68.325\n",
      "STAR old centroid time 12.390021260435912 new centroid time 10.171909035338148\n",
      "STAR old duration 22.75 new duration time 20.5\n"
     ]
    },
    {
     "name": "stderr",
     "output_type": "stream",
     "text": [
      "/Users/marinedenolle/miniconda3/envs/seismo_exo/lib/python3.10/site-packages/obspy/signal/filter.py:62: UserWarning: Selected high corner frequency (20) of bandpass is at or above Nyquist (20.0). Applying a high-pass instead.\n",
      "  warnings.warn(msg)\n"
     ]
    },
    {
     "name": "stdout",
     "output_type": "stream",
     "text": [
      "OBSR old centroid time 18.664841703477354 new centroid time 17.698978569712878\n",
      "OBSR old duration 37.15 new duration time 36.175\n",
      "PANH old centroid time 17.24079660996149 new centroid time 15.157141613886605\n",
      "PANH old duration 31.9 new duration time 29.8\n",
      "PARA old centroid time 16.375373869850012 new centroid time 16.03640774134325\n",
      "PARA old duration 31.15 new duration time 30.8\n",
      "PR04 old centroid time 22.660051559750865 new centroid time 19.0777437214509\n",
      "PR04 old duration 42.15 new duration time 38.525\n",
      "PR05 old centroid time 21.247777539064714 new centroid time 17.37493703405464\n",
      "PR05 old duration 39.275 new duration time 35.45\n",
      "RUSH old centroid time 22.061218053382262 new centroid time 17.7893572222536\n",
      "RUSH old duration 38.825 new duration time 34.525\n",
      "SIFT old centroid time 20.860632679042183 new centroid time 15.153599970502722\n",
      "SIFT old duration 38.35 new duration time 32.45\n",
      "VOIT old centroid time 22.74841584435132 new centroid time 15.622632352332696\n",
      "VOIT old duration 40.25 new duration time 33.225\n",
      "FMW old centroid time 18.197860806218905 new centroid time 16.04437733993477\n",
      "FMW old duration 34.275 new duration time 32.075\n",
      "LO2 old centroid time 15.812633739165369 new centroid time 14.040225322428928\n",
      "LO2 old duration 30.7 new duration time 28.95\n",
      "LON old centroid time 15.521414924305729 new centroid time 13.606030582560253\n",
      "LON old duration 30.45 new duration time 28.55\n",
      "RCM old centroid time 12.96878149881898 new centroid time 13.421494451045799\n",
      "RCM old duration 26.4 new duration time 26.875\n",
      "RCS old centroid time 15.108762844581634 new centroid time 14.845045425440949\n",
      "RCS old duration 27.9 new duration time 27.625\n",
      "RER old centroid time 19.874097007472905 new centroid time 18.423382865238793\n",
      "RER old duration 45.25 new duration time 43.775\n",
      "RER old centroid time 19.514876032219135 new centroid time 18.423382865238793\n",
      "RER old duration 42.675 new duration time 43.775\n",
      "STAR old centroid time 21.84867967579402 new centroid time 22.304146106632032\n",
      "STAR old duration 48.85 new duration time 49.35\n",
      "STAR old centroid time 20.948597238311997 new centroid time 22.304146106632032\n",
      "STAR old duration 48.4 new duration time 49.35\n"
     ]
    },
    {
     "name": "stderr",
     "output_type": "stream",
     "text": [
      "/Users/marinedenolle/miniconda3/envs/seismo_exo/lib/python3.10/site-packages/obspy/signal/filter.py:62: UserWarning: Selected high corner frequency (20) of bandpass is at or above Nyquist (20.0). Applying a high-pass instead.\n",
      "  warnings.warn(msg)\n"
     ]
    },
    {
     "name": "stdout",
     "output_type": "stream",
     "text": [
      "CRBN old centroid time 55.509348110056926 new centroid time 36.48449460629972\n",
      "CRBN old duration 125.9 new duration time 107.225\n",
      "OBSR old centroid time 31.223700621792695 new centroid time 9.869681745736008\n",
      "OBSR old duration 50.425 new duration time 29.675\n",
      "OPCH old centroid time 29.62927988265433 new centroid time 8.44216617941167\n",
      "OPCH old duration 43.275 new duration time 21.675\n",
      "PARA old centroid time 31.176214100738047 new centroid time 10.09245445040447\n",
      "PARA old duration 50.95 new duration time 29.875\n",
      "PR04 old centroid time 28.139221757960996 new centroid time 8.888572439746103\n",
      "PR04 old duration 43.875 new duration time 24.25\n",
      "PR05 old centroid time 31.50911829394129 new centroid time 12.137996533547415\n",
      "PR05 old duration 56.2 new duration time 36.375\n",
      "RUSH old centroid time 33.52516360726147 new centroid time 13.849961453890508\n",
      "RUSH old duration 58.0 new duration time 38.35\n",
      "SIFT old centroid time 32.59596165304071 new centroid time 13.20605152026254\n",
      "SIFT old duration 58.425 new duration time 38.9\n",
      "VOIT old centroid time 29.137972227890522 new centroid time 9.559899883710639\n",
      "VOIT old duration 48.425 new duration time 28.75\n",
      "FMW old centroid time 29.380348747626314 new centroid time 8.888528659260997\n",
      "FMW old duration 48.2 new duration time 27.475\n",
      "LO2 old centroid time 29.794271171851815 new centroid time 8.890326634016217\n",
      "LO2 old duration 47.225 new duration time 26.325\n",
      "LON old centroid time 31.779884344157704 new centroid time 11.308418553385343\n",
      "LON old duration 54.375 new duration time 33.775\n",
      "RCM old centroid time 34.03867926178954 new centroid time 12.575412193008589\n",
      "RCM old duration 61.25 new duration time 39.6\n",
      "RER old centroid time 35.46285230310688 new centroid time 15.022924413042675\n",
      "RER old duration 91.9 new duration time 71.55\n"
     ]
    },
    {
     "name": "stderr",
     "output_type": "stream",
     "text": [
      "/Users/marinedenolle/miniconda3/envs/seismo_exo/lib/python3.10/site-packages/obspy/signal/filter.py:62: UserWarning: Selected high corner frequency (20) of bandpass is at or above Nyquist (20.0). Applying a high-pass instead.\n",
      "  warnings.warn(msg)\n"
     ]
    },
    {
     "name": "stdout",
     "output_type": "stream",
     "text": [
      "ARAT old centroid time 16.770274847108375 new centroid time 12.306772051831711\n",
      "ARAT old duration 31.65 new duration time 27.05\n",
      "CRBN old centroid time 18.6295198957367 new centroid time 10.053467324012011\n",
      "CRBN old duration 28.875 new duration time 20.45\n",
      "OBSR old centroid time 14.12840587195937 new centroid time 12.29032687255802\n",
      "OBSR old duration 23.225 new duration time 21.375\n",
      "OPCH old centroid time 18.28349650584981 new centroid time 10.961901892660661\n",
      "OPCH old duration 29.0 new duration time 21.55\n",
      "PANH old centroid time 15.695331217083929 new centroid time 13.223320484040528\n",
      "PANH old duration 28.575 new duration time 26.075\n",
      "PR04 old centroid time 18.108070323126466 new centroid time 10.208175334392825\n",
      "PR04 old duration 29.825 new duration time 21.725\n",
      "PR05 old centroid time 18.069575321352854 new centroid time 10.014796092917411\n",
      "PR05 old duration 30.025 new duration time 21.825\n",
      "RUSH old centroid time 18.00885667602494 new centroid time 11.461737159973177\n",
      "RUSH old duration 31.65 new duration time 25.0\n",
      "SIFT old centroid time 16.474021742542682 new centroid time 11.167327117080388\n",
      "SIFT old duration 28.475 new duration time 23.1\n",
      "VOIT old centroid time 17.64721172190897 new centroid time 8.133067315582677\n",
      "VOIT old duration 25.425 new duration time 15.8\n",
      "FMW old centroid time 15.518260816910509 new centroid time 12.021262170411\n",
      "FMW old duration 26.975 new duration time 23.475\n",
      "LO2 old centroid time 16.941412338207943 new centroid time 14.52528788320282\n",
      "LO2 old duration 31.225 new duration time 28.775\n",
      "LON old centroid time 16.920771014991374 new centroid time 13.268648544894168\n",
      "LON old duration 31.05 new duration time 27.375\n",
      "RCM old centroid time 11.818408483325747 new centroid time 12.234247900373184\n",
      "RCM old duration 20.9 new duration time 21.325\n",
      "RCS old centroid time 13.822009555186376 new centroid time 13.7235806402002\n",
      "RCS old duration 25.7 new duration time 25.6\n",
      "RER old centroid time 15.64772114825374 new centroid time 13.397522324888296\n",
      "RER old duration 28.2 new duration time 25.9\n",
      "RER old centroid time 16.076818383272585 new centroid time 13.397522324888296\n",
      "RER old duration 30.475 new duration time 25.9\n",
      "STAR old centroid time 12.501066225054927 new centroid time 12.671688691993806\n",
      "STAR old duration 26.225 new duration time 26.4\n",
      "STAR old centroid time 11.782521215255507 new centroid time 12.671688691993806\n",
      "STAR old duration 23.675 new duration time 26.4\n"
     ]
    },
    {
     "name": "stderr",
     "output_type": "stream",
     "text": [
      "/Users/marinedenolle/miniconda3/envs/seismo_exo/lib/python3.10/site-packages/obspy/signal/filter.py:62: UserWarning: Selected high corner frequency (20) of bandpass is at or above Nyquist (20.0). Applying a high-pass instead.\n",
      "  warnings.warn(msg)\n"
     ]
    },
    {
     "name": "stdout",
     "output_type": "stream",
     "text": [
      "OBSR old centroid time 23.2265593170192 new centroid time 11.558735758661218\n",
      "OBSR old duration 42.875 new duration time 30.45\n",
      "PANH old centroid time 23.157454355723853 new centroid time 11.785507156899579\n",
      "PANH old duration 37.425 new duration time 26.0\n",
      "PARA old centroid time 23.534039875126606 new centroid time 11.001719693056708\n",
      "PARA old duration 31.425 new duration time 18.825\n",
      "RUSH old centroid time 26.398785700567807 new centroid time 13.805559386612797\n",
      "RUSH old duration 43.775 new duration time 30.6\n",
      "SIFT old centroid time 25.94592097032598 new centroid time 13.523056570769898\n",
      "SIFT old duration 47.275 new duration time 34.0\n",
      "LO2 old centroid time 24.47992785747704 new centroid time 13.34548832106923\n",
      "LO2 old duration 41.525 new duration time 30.15\n",
      "LON old centroid time 24.51482961514759 new centroid time 13.554346640820416\n",
      "LON old duration 41.05 new duration time 29.825\n",
      "RCS old centroid time 21.103580157692214 new centroid time 21.546910940931944\n",
      "RCS old duration 40.45 new duration time 40.9\n",
      "RER old centroid time 23.339986637357566 new centroid time 12.145605713487859\n",
      "RER old duration 42.725 new duration time 30.825\n",
      "RER old centroid time 22.716389835673635 new centroid time 12.145605713487859\n",
      "RER old duration 40.225 new duration time 30.825\n",
      "STAR old centroid time 29.489682698066602 new centroid time 20.243752516588568\n",
      "STAR old duration 69.975 new duration time 59.85\n"
     ]
    },
    {
     "name": "stderr",
     "output_type": "stream",
     "text": [
      "/Users/marinedenolle/miniconda3/envs/seismo_exo/lib/python3.10/site-packages/obspy/signal/filter.py:62: UserWarning: Selected high corner frequency (20) of bandpass is at or above Nyquist (20.0). Applying a high-pass instead.\n",
      "  warnings.warn(msg)\n"
     ]
    },
    {
     "name": "stdout",
     "output_type": "stream",
     "text": [
      "PARA old centroid time 75.91642479266302 new centroid time 31.250504787496798\n",
      "PARA old duration 101.025 new duration time 60.125\n",
      "LON old centroid time 81.61853432191494 new centroid time 96.09994148191764\n",
      "LON old duration 134.9 new duration time 149.75\n",
      "SPFR old centroid time 39.2369054145125 new centroid time 12.45264201713238\n",
      "SPFR old duration 42.6 new duration time 18.175\n"
     ]
    },
    {
     "name": "stderr",
     "output_type": "stream",
     "text": [
      "/Users/marinedenolle/miniconda3/envs/seismo_exo/lib/python3.10/site-packages/obspy/signal/filter.py:62: UserWarning: Selected high corner frequency (20) of bandpass is at or above Nyquist (20.0). Applying a high-pass instead.\n",
      "  warnings.warn(msg)\n"
     ]
    },
    {
     "name": "stdout",
     "output_type": "stream",
     "text": [
      "OBSR old centroid time 14.71696783697583 new centroid time 11.60452964403065\n",
      "OBSR old duration 26.2 new duration time 23.075\n",
      "PANH old centroid time 12.366698169301033 new centroid time 9.543428370721653\n",
      "PANH old duration 23.225 new duration time 20.375\n",
      "PARA old centroid time 13.899837977794272 new centroid time 11.364726654811685\n",
      "PARA old duration 27.1 new duration time 24.525\n",
      "RUSH old centroid time 27.2575021121936 new centroid time 22.9740569530312\n",
      "RUSH old duration 94.925 new duration time 90.5\n",
      "SIFT old centroid time 15.741327037177136 new centroid time 11.533088713621973\n",
      "SIFT old duration 26.025 new duration time 21.775\n",
      "FMW old centroid time 14.530763887521157 new centroid time 10.76157696947698\n",
      "FMW old duration 25.925 new duration time 22.175\n",
      "RCM old centroid time 9.294684545022074 new centroid time 7.6777141175368575\n",
      "RCM old duration 19.2 new duration time 17.475\n",
      "RCS old centroid time 10.90178440519002 new centroid time 12.076162232393273\n",
      "RCS old duration 19.5 new duration time 20.725\n",
      "RER old centroid time 11.539934968726532 new centroid time 26.625518116259723\n",
      "RER old duration 20.275 new duration time 35.275\n",
      "RER old centroid time 11.920528228773744 new centroid time 26.625518116259723\n",
      "RER old duration 22.0 new duration time 35.275\n",
      "STAR old centroid time 11.433374017372323 new centroid time 9.129721275087974\n",
      "STAR old duration 22.825 new duration time 20.45\n"
     ]
    },
    {
     "name": "stderr",
     "output_type": "stream",
     "text": [
      "/Users/marinedenolle/miniconda3/envs/seismo_exo/lib/python3.10/site-packages/obspy/signal/filter.py:62: UserWarning: Selected high corner frequency (20) of bandpass is at or above Nyquist (20.0). Applying a high-pass instead.\n",
      "  warnings.warn(msg)\n"
     ]
    },
    {
     "name": "stdout",
     "output_type": "stream",
     "text": [
      "ARAT old centroid time 11.034819553590586 new centroid time 7.440440979116001\n",
      "ARAT old duration 19.1 new duration time 15.425\n",
      "OBSR old centroid time 8.74441558190679 new centroid time 8.357286874929114\n",
      "OBSR old duration 16.75 new duration time 16.35\n",
      "PANH old centroid time 11.555908875516732 new centroid time 10.588358392665564\n",
      "PANH old duration 22.85 new duration time 21.875\n",
      "PARA old centroid time 12.961101648979048 new centroid time 11.724744792152821\n",
      "PARA old duration 26.375 new duration time 25.125\n",
      "SIFT old centroid time 13.81168136487302 new centroid time 9.532142948612453\n",
      "SIFT old duration 27.525 new duration time 23.45\n",
      "FMW old centroid time 14.598260561906686 new centroid time 12.788364602299838\n",
      "FMW old duration 39.225 new duration time 37.35\n",
      "RCM old centroid time 9.25241293084853 new centroid time 8.891818722478325\n",
      "RCM old duration 17.025 new duration time 16.65\n",
      "RCS old centroid time 12.492857009583924 new centroid time 14.792667994915966\n",
      "RCS old duration 45.4 new duration time 47.85\n",
      "RER old centroid time 8.195355773269986 new centroid time 7.951939925454738\n",
      "RER old duration 14.6 new duration time 14.35\n",
      "STAR old centroid time 8.136848443938439 new centroid time 8.787748473028515\n",
      "STAR old duration 16.275 new duration time 16.975\n"
     ]
    },
    {
     "name": "stderr",
     "output_type": "stream",
     "text": [
      "/Users/marinedenolle/miniconda3/envs/seismo_exo/lib/python3.10/site-packages/obspy/signal/filter.py:62: UserWarning: Selected high corner frequency (20) of bandpass is at or above Nyquist (20.0). Applying a high-pass instead.\n",
      "  warnings.warn(msg)\n"
     ]
    },
    {
     "name": "stdout",
     "output_type": "stream",
     "text": [
      "OBSR old centroid time 6.666902201989615 new centroid time 5.403256935048263\n",
      "OBSR old duration 12.575 new duration time 11.3\n",
      "RCM old centroid time 3.670060122663763 new centroid time 3.693028489842508\n",
      "RCM old duration 8.9 new duration time 8.925\n",
      "RCS old centroid time 3.3589329789370597 new centroid time 3.2147611431054757\n",
      "RCS old duration 7.175 new duration time 7.025\n",
      "RER old centroid time 3.548442214352243 new centroid time 18.97912607196387\n",
      "RER old duration 5.35 new duration time 20.35\n",
      "RER old centroid time 14.819827081818834 new centroid time 18.97912607196387\n",
      "RER old duration 34.975 new duration time 20.35\n",
      "STAR old centroid time 2.9707671511685128 new centroid time 2.818559163531446\n",
      "STAR old duration 7.725 new duration time 7.55\n"
     ]
    },
    {
     "name": "stderr",
     "output_type": "stream",
     "text": [
      "/Users/marinedenolle/miniconda3/envs/seismo_exo/lib/python3.10/site-packages/obspy/signal/filter.py:62: UserWarning: Selected high corner frequency (20) of bandpass is at or above Nyquist (20.0). Applying a high-pass instead.\n",
      "  warnings.warn(msg)\n"
     ]
    },
    {
     "name": "stdout",
     "output_type": "stream",
     "text": [
      "CARB old centroid time 17.63893688590231 new centroid time 12.046594999083123\n",
      "CARB old duration 36.8 new duration time 31.175\n",
      "CRBN old centroid time 19.01516884697199 new centroid time 13.08216891829018\n",
      "CRBN old duration 38.75 new duration time 32.825\n",
      "OBSR old centroid time 89.34779978667824 new centroid time 87.8515602321125\n",
      "OBSR old duration 134.925 new duration time 127.6\n",
      "PARA old centroid time -32.718914624452665 new centroid time -35.52660137842587\n",
      "PARA old duration 118.275 new duration time 111.225\n",
      "PR04 old centroid time 19.365541301180166 new centroid time 14.036570138657366\n",
      "PR04 old duration 42.375 new duration time 36.875\n",
      "PR05 old centroid time 20.310842210161958 new centroid time 14.740792625116288\n",
      "PR05 old duration 82.2 new duration time 76.8\n",
      "RUSH old centroid time 24.89759536197163 new centroid time 19.270589548382805\n",
      "RUSH old duration 79.95 new duration time 74.175\n",
      "SIFT old centroid time 17.284780207616503 new centroid time 12.380820093021596\n",
      "SIFT old duration 37.125 new duration time 32.075\n",
      "STYX old centroid time 17.326095276408637 new centroid time 13.268083613417561\n",
      "STYX old duration 46.0 new duration time 41.9\n",
      "VOIT old centroid time 21.771770732310802 new centroid time 15.939638556310324\n",
      "VOIT old duration 52.275 new duration time 46.35\n",
      "FMW old centroid time 20.44884105974512 new centroid time 11.787940269673788\n",
      "FMW old duration 40.675 new duration time 32.475\n",
      "RER old centroid time 10.816572433590746 new centroid time 4.551188872856834\n",
      "RER old duration 95.775 new duration time 89.8\n",
      "SPFR old centroid time 89.82770453548021 new centroid time 104.83664705381977\n",
      "SPFR old duration 98.1 new duration time 113.1\n"
     ]
    },
    {
     "name": "stderr",
     "output_type": "stream",
     "text": [
      "/Users/marinedenolle/miniconda3/envs/seismo_exo/lib/python3.10/site-packages/obspy/signal/filter.py:62: UserWarning: Selected high corner frequency (20) of bandpass is at or above Nyquist (20.0). Applying a high-pass instead.\n",
      "  warnings.warn(msg)\n"
     ]
    },
    {
     "name": "stdout",
     "output_type": "stream",
     "text": [
      "CARB old centroid time 17.63893688590231 new centroid time 12.046594999083123\n",
      "CARB old duration 36.8 new duration time 31.175\n",
      "CRBN old centroid time 19.01516884697199 new centroid time 13.08216891829018\n",
      "CRBN old duration 38.75 new duration time 32.825\n",
      "OBSR old centroid time 89.34779978667824 new centroid time 87.8515602321125\n",
      "OBSR old duration 134.925 new duration time 127.6\n",
      "PARA old centroid time -32.718914624452665 new centroid time -35.52660137842587\n",
      "PARA old duration 118.275 new duration time 111.225\n",
      "PR04 old centroid time 19.365541301180166 new centroid time 14.036570138657366\n",
      "PR04 old duration 42.375 new duration time 36.875\n",
      "PR05 old centroid time 20.310842210161958 new centroid time 14.740792625116288\n",
      "PR05 old duration 82.2 new duration time 76.8\n",
      "RUSH old centroid time 24.89759536197163 new centroid time 19.270589548382805\n",
      "RUSH old duration 79.95 new duration time 74.175\n",
      "SIFT old centroid time 17.284780207616503 new centroid time 12.380820093021596\n",
      "SIFT old duration 37.125 new duration time 32.075\n",
      "STYX old centroid time 17.326095276408637 new centroid time 13.268083613417561\n",
      "STYX old duration 46.0 new duration time 41.9\n",
      "VOIT old centroid time 21.771770732310802 new centroid time 15.939638556310324\n",
      "VOIT old duration 52.275 new duration time 46.35\n",
      "FMW old centroid time 20.44884105974512 new centroid time 11.787940269673788\n",
      "FMW old duration 40.675 new duration time 32.475\n",
      "RER old centroid time 10.816572433590746 new centroid time 4.551188872856834\n",
      "RER old duration 95.775 new duration time 89.8\n",
      "SPFR old centroid time 89.82770453548021 new centroid time 104.83664705381977\n",
      "SPFR old duration 98.1 new duration time 113.1\n"
     ]
    },
    {
     "name": "stderr",
     "output_type": "stream",
     "text": [
      "/Users/marinedenolle/miniconda3/envs/seismo_exo/lib/python3.10/site-packages/obspy/signal/filter.py:62: UserWarning: Selected high corner frequency (20) of bandpass is at or above Nyquist (20.0). Applying a high-pass instead.\n",
      "  warnings.warn(msg)\n"
     ]
    },
    {
     "name": "stdout",
     "output_type": "stream",
     "text": [
      "CARB old centroid time 16.616492796586385 new centroid time 12.037737902792092\n",
      "CARB old duration 35.825 new duration time 31.15\n",
      "CRBN old centroid time 17.956221173087847 new centroid time 13.307248041552231\n",
      "CRBN old duration 37.65 new duration time 33.05\n",
      "OBSR old centroid time 92.78486038216522 new centroid time 91.93970938975102\n",
      "OBSR old duration 134.9 new duration time 128.675\n",
      "PARA old centroid time -27.951567774133075 new centroid time -30.891190547550192\n",
      "PARA old duration 117.0 new duration time 110.95\n",
      "PR04 old centroid time 18.347776121627412 new centroid time 14.025884721861779\n",
      "PR04 old duration 41.05 new duration time 36.675\n",
      "PR05 old centroid time 20.183707022578307 new centroid time 15.758826608017685\n",
      "PR05 old duration 81.2 new duration time 76.775\n",
      "RUSH old centroid time 24.19589051636281 new centroid time 19.450774338020214\n",
      "RUSH old duration 79.025 new duration time 74.2\n",
      "SIFT old centroid time 16.410788595829008 new centroid time 12.429614896099007\n",
      "SIFT old duration 36.2 new duration time 32.125\n",
      "STYX old centroid time 16.91912512859573 new centroid time 13.595304090489087\n",
      "STYX old duration 47.175 new duration time 43.775\n",
      "VOIT old centroid time 20.77498327841602 new centroid time 15.962115239350837\n",
      "VOIT old duration 51.25 new duration time 46.375\n",
      "FMW old centroid time 19.4614830663879 new centroid time 11.96521466869961\n",
      "FMW old duration 39.9 new duration time 32.75\n",
      "RER old centroid time 19.74729996959405 new centroid time 14.296573906314547\n",
      "RER old duration 45.55 new duration time 40.475\n",
      "SPFR old centroid time 88.8631143959698 new centroid time 5.022387930579797\n",
      "SPFR old duration 97.1 new duration time 11.775\n"
     ]
    },
    {
     "name": "stderr",
     "output_type": "stream",
     "text": [
      "/Users/marinedenolle/miniconda3/envs/seismo_exo/lib/python3.10/site-packages/obspy/signal/filter.py:62: UserWarning: Selected high corner frequency (20) of bandpass is at or above Nyquist (20.0). Applying a high-pass instead.\n",
      "  warnings.warn(msg)\n"
     ]
    },
    {
     "name": "stdout",
     "output_type": "stream",
     "text": [
      "CARB old centroid time 16.616492796586385 new centroid time 12.037737902792092\n",
      "CARB old duration 35.825 new duration time 31.15\n",
      "CRBN old centroid time 17.956221173087847 new centroid time 13.307248041552231\n",
      "CRBN old duration 37.65 new duration time 33.05\n",
      "OBSR old centroid time 92.78486038216522 new centroid time 91.93970938975102\n",
      "OBSR old duration 134.9 new duration time 128.675\n",
      "PARA old centroid time -27.951567774133075 new centroid time -30.891190547550192\n",
      "PARA old duration 117.0 new duration time 110.95\n",
      "PR04 old centroid time 18.347776121627412 new centroid time 14.025884721861779\n",
      "PR04 old duration 41.05 new duration time 36.675\n",
      "PR05 old centroid time 20.183707022578307 new centroid time 15.758826608017685\n",
      "PR05 old duration 81.2 new duration time 76.775\n",
      "RUSH old centroid time 24.19589051636281 new centroid time 19.450774338020214\n",
      "RUSH old duration 79.025 new duration time 74.2\n",
      "SIFT old centroid time 16.410788595829008 new centroid time 12.429614896099007\n",
      "SIFT old duration 36.2 new duration time 32.125\n",
      "STYX old centroid time 16.91912512859573 new centroid time 13.595304090489087\n",
      "STYX old duration 47.175 new duration time 43.775\n",
      "VOIT old centroid time 20.77498327841602 new centroid time 15.962115239350837\n",
      "VOIT old duration 51.25 new duration time 46.375\n",
      "FMW old centroid time 19.4614830663879 new centroid time 11.96521466869961\n",
      "FMW old duration 39.9 new duration time 32.75\n",
      "RER old centroid time 19.74729996959405 new centroid time 14.296573906314547\n",
      "RER old duration 45.55 new duration time 40.475\n",
      "SPFR old centroid time 88.8631143959698 new centroid time 5.022387930579797\n",
      "SPFR old duration 97.1 new duration time 11.775\n"
     ]
    },
    {
     "name": "stderr",
     "output_type": "stream",
     "text": [
      "/Users/marinedenolle/miniconda3/envs/seismo_exo/lib/python3.10/site-packages/obspy/signal/filter.py:62: UserWarning: Selected high corner frequency (20) of bandpass is at or above Nyquist (20.0). Applying a high-pass instead.\n",
      "  warnings.warn(msg)\n"
     ]
    },
    {
     "name": "stdout",
     "output_type": "stream",
     "text": [
      "CARB old centroid time 16.616492796586385 new centroid time 12.037737902792092\n",
      "CARB old duration 35.825 new duration time 31.15\n",
      "CRBN old centroid time 17.956221173087847 new centroid time 13.307248041552231\n",
      "CRBN old duration 37.65 new duration time 33.05\n",
      "OBSR old centroid time 92.78486038216522 new centroid time 91.93970938975102\n",
      "OBSR old duration 134.9 new duration time 128.675\n",
      "PARA old centroid time -27.951567774133075 new centroid time -30.891190547550192\n",
      "PARA old duration 117.0 new duration time 110.95\n",
      "PR04 old centroid time 18.347776121627412 new centroid time 14.025884721861779\n",
      "PR04 old duration 41.05 new duration time 36.675\n",
      "PR05 old centroid time 20.183707022578307 new centroid time 15.758826608017685\n",
      "PR05 old duration 81.2 new duration time 76.775\n",
      "RUSH old centroid time 24.19589051636281 new centroid time 19.450774338020214\n",
      "RUSH old duration 79.025 new duration time 74.2\n",
      "SIFT old centroid time 16.410788595829008 new centroid time 12.429614896099007\n",
      "SIFT old duration 36.2 new duration time 32.125\n",
      "STYX old centroid time 16.91912512859573 new centroid time 13.595304090489087\n",
      "STYX old duration 47.175 new duration time 43.775\n",
      "VOIT old centroid time 20.77498327841602 new centroid time 15.962115239350837\n",
      "VOIT old duration 51.25 new duration time 46.375\n",
      "FMW old centroid time 19.4614830663879 new centroid time 11.96521466869961\n",
      "FMW old duration 39.9 new duration time 32.75\n",
      "RER old centroid time 19.74729996959405 new centroid time 14.296573906314547\n",
      "RER old duration 45.55 new duration time 40.475\n",
      "SPFR old centroid time 88.8631143959698 new centroid time 5.022387930579797\n",
      "SPFR old duration 97.1 new duration time 11.775\n"
     ]
    },
    {
     "name": "stderr",
     "output_type": "stream",
     "text": [
      "/Users/marinedenolle/miniconda3/envs/seismo_exo/lib/python3.10/site-packages/obspy/signal/filter.py:62: UserWarning: Selected high corner frequency (20) of bandpass is at or above Nyquist (20.0). Applying a high-pass instead.\n",
      "  warnings.warn(msg)\n"
     ]
    },
    {
     "name": "stdout",
     "output_type": "stream",
     "text": [
      "CARB old centroid time 14.590881851788051 new centroid time 12.057973031095935\n",
      "CARB old duration 33.85 new duration time 31.175\n",
      "CRBN old centroid time 16.378853918156747 new centroid time 13.464904754248419\n",
      "CRBN old duration 38.325 new duration time 35.275\n",
      "PARA old centroid time 18.451480714659887 new centroid time 14.037655945808705\n",
      "PARA old duration 69.75 new duration time 65.75\n",
      "PR04 old centroid time 16.429396180981474 new centroid time 13.964192643869868\n",
      "PR04 old duration 39.1 new duration time 36.625\n",
      "PR05 old centroid time 19.12973938486173 new centroid time 16.858118202342887\n",
      "PR05 old duration 79.25 new duration time 76.85\n",
      "RUSH old centroid time 22.349331452511258 new centroid time 19.53683450339182\n",
      "RUSH old duration 77.05 new duration time 74.275\n",
      "SIFT old centroid time 14.4896844562133 new centroid time 12.644712979354782\n",
      "SIFT old duration 34.4 new duration time 32.425\n",
      "STYX old centroid time 14.661395554884116 new centroid time 13.891434161512423\n",
      "STYX old duration 44.85 new duration time 44.025\n",
      "VOIT old centroid time 18.695722475989793 new centroid time 16.021078507218053\n",
      "VOIT old duration 49.2 new duration time 46.425\n",
      "FMW old centroid time 17.59552886915755 new centroid time 12.281822615816125\n",
      "FMW old duration 38.475 new duration time 33.325\n",
      "RER old centroid time 17.379970177391904 new centroid time 14.282722400760594\n",
      "RER old duration 42.15 new duration time 39.2\n",
      "SPFR old centroid time 87.21518057688257 new centroid time 4.764553502342323\n",
      "SPFR old duration 95.075 new duration time 11.475\n"
     ]
    },
    {
     "name": "stderr",
     "output_type": "stream",
     "text": [
      "/Users/marinedenolle/miniconda3/envs/seismo_exo/lib/python3.10/site-packages/obspy/signal/filter.py:62: UserWarning: Selected high corner frequency (20) of bandpass is at or above Nyquist (20.0). Applying a high-pass instead.\n",
      "  warnings.warn(msg)\n"
     ]
    },
    {
     "name": "stdout",
     "output_type": "stream",
     "text": [
      "CARB old centroid time 13.615034189936418 new centroid time 12.093287430542155\n",
      "CARB old duration 32.9 new duration time 31.2\n",
      "CRBN old centroid time 15.194984654859994 new centroid time 13.6350347165045\n",
      "CRBN old duration 36.475 new duration time 34.85\n",
      "PARA old centroid time 18.1346965770191 new centroid time 14.97085972654279\n",
      "PARA old duration 42.55 new duration time 39.6\n",
      "PR04 old centroid time 15.427943332745365 new centroid time 14.071075926255439\n",
      "PR04 old duration 38.1 new duration time 36.75\n",
      "PR05 old centroid time 17.63498547517665 new centroid time 16.36869022838701\n",
      "PR05 old duration 78.25 new duration time 76.85\n",
      "RUSH old centroid time 21.345094604130566 new centroid time 19.556841958007748\n",
      "RUSH old duration 76.075 new duration time 74.275\n",
      "SIFT old centroid time 13.413322303434374 new centroid time 12.533556138926903\n",
      "SIFT old duration 33.325 new duration time 32.25\n",
      "STYX old centroid time 13.742094866724962 new centroid time 13.311453662223608\n",
      "STYX old duration 43.875 new duration time 43.425\n",
      "VOIT old centroid time 17.203906027686674 new centroid time 15.391503058704458\n",
      "VOIT old duration 44.875 new duration time 42.9\n",
      "FMW old centroid time 16.87982114321775 new centroid time 12.649565006628553\n",
      "FMW old duration 39.425 new duration time 35.325\n",
      "RER old centroid time 16.380497819414906 new centroid time 14.23751126311717\n",
      "RER old duration 41.125 new duration time 39.075\n",
      "SPFR old centroid time 86.14708998066938 new centroid time 5.0794724568558145\n",
      "SPFR old duration 94.075 new duration time 11.825\n"
     ]
    },
    {
     "name": "stderr",
     "output_type": "stream",
     "text": [
      "/Users/marinedenolle/miniconda3/envs/seismo_exo/lib/python3.10/site-packages/obspy/signal/filter.py:62: UserWarning: Selected high corner frequency (20) of bandpass is at or above Nyquist (20.0). Applying a high-pass instead.\n",
      "  warnings.warn(msg)\n"
     ]
    },
    {
     "name": "stdout",
     "output_type": "stream",
     "text": [
      "OBSR old centroid time 6.290082488977992 new centroid time 6.099834850822974\n",
      "OBSR old duration 12.625 new duration time 12.425\n",
      "PANH old centroid time 34.24177874874154 new centroid time 49.239140072984625\n",
      "PANH old duration 75.925 new duration time 90.925\n",
      "RCM old centroid time 23.642137369128278 new centroid time 22.14801982579787\n",
      "RCM old duration 107.675 new duration time 106.125\n",
      "RCS old centroid time 30.096908834107644 new centroid time 29.593094078306216\n",
      "RCS old duration 116.75 new duration time 116.2\n",
      "RER old centroid time 7.368641649374497 new centroid time 6.604338139760955\n",
      "RER old duration 13.475 new duration time 12.7\n",
      "STAR old centroid time 5.814226493057799 new centroid time 5.163949216629199\n",
      "STAR old duration 12.0 new duration time 11.325\n"
     ]
    },
    {
     "name": "stderr",
     "output_type": "stream",
     "text": [
      "/Users/marinedenolle/miniconda3/envs/seismo_exo/lib/python3.10/site-packages/obspy/signal/filter.py:62: UserWarning: Selected high corner frequency (20) of bandpass is at or above Nyquist (20.0). Applying a high-pass instead.\n",
      "  warnings.warn(msg)\n"
     ]
    },
    {
     "name": "stdout",
     "output_type": "stream",
     "text": [
      "OBSR old centroid time 20.760570816812915 new centroid time 17.874496464773383\n",
      "OBSR old duration 60.25 new duration time 57.225\n",
      "PANH old centroid time 13.94024424996231 new centroid time 7.460669421368732\n",
      "PANH old duration 27.525 new duration time 20.7\n",
      "PARA old centroid time 3.4363921418898755 new centroid time -3.155108385497378\n",
      "PARA old duration 90.95 new duration time 84.35\n",
      "LO2 old centroid time 13.034284815360285 new centroid time 7.913905188395407\n",
      "LO2 old duration 21.05 new duration time 15.875\n",
      "RCM old centroid time 11.994208721302254 new centroid time 12.436078280078759\n",
      "RCM old duration 69.975 new duration time 70.425\n",
      "RCS old centroid time 10.732768298216024 new centroid time 7.222988287923226\n",
      "RCS old duration 19.775 new duration time 15.925\n",
      "RER old centroid time 11.326837006592651 new centroid time 10.134850110892248\n",
      "RER old duration 20.2 new duration time 18.95\n",
      "STAR old centroid time 11.776596807955316 new centroid time 12.111999295059121\n",
      "STAR old duration 27.95 new duration time 28.3\n"
     ]
    },
    {
     "name": "stderr",
     "output_type": "stream",
     "text": [
      "/Users/marinedenolle/miniconda3/envs/seismo_exo/lib/python3.10/site-packages/obspy/signal/filter.py:62: UserWarning: Selected high corner frequency (20) of bandpass is at or above Nyquist (20.0). Applying a high-pass instead.\n",
      "  warnings.warn(msg)\n"
     ]
    },
    {
     "name": "stdout",
     "output_type": "stream",
     "text": [
      "OBSR old centroid time 6.4629292524205395 new centroid time 5.071230578708224\n",
      "OBSR old duration 12.075 new duration time 10.65\n",
      "RCS old centroid time 13.009097203775084 new centroid time 12.98679973995944\n",
      "RCS old duration 113.125 new duration time 113.1\n",
      "RER old centroid time 4.254751329167077 new centroid time 19.31125386395024\n",
      "RER old duration 6.55 new duration time 21.55\n",
      "STAR old centroid time 3.8531359441572275 new centroid time 3.6656919119746885\n",
      "STAR old duration 8.5 new duration time 8.3\n"
     ]
    },
    {
     "name": "stderr",
     "output_type": "stream",
     "text": [
      "/Users/marinedenolle/miniconda3/envs/seismo_exo/lib/python3.10/site-packages/obspy/signal/filter.py:62: UserWarning: Selected high corner frequency (20) of bandpass is at or above Nyquist (20.0). Applying a high-pass instead.\n",
      "  warnings.warn(msg)\n"
     ]
    },
    {
     "name": "stdout",
     "output_type": "stream",
     "text": [
      "ARAT old centroid time 19.17842220618062 new centroid time 16.51488480950191\n",
      "ARAT old duration 43.775 new duration time 41.05\n",
      "OBSR old centroid time 20.269313311738674 new centroid time 17.804850606463045\n",
      "OBSR old duration 46.0 new duration time 43.525\n",
      "PANH old centroid time 18.941273679158765 new centroid time 16.352812513627775\n",
      "PANH old duration 44.35 new duration time 41.75\n",
      "PARA old centroid time 30.01577025728927 new centroid time 27.63184292983457\n",
      "PARA old duration 80.125 new duration time 77.725\n",
      "RUSH old centroid time 21.445406238516355 new centroid time 36.419924946351216\n",
      "RUSH old duration 47.825 new duration time 62.825\n",
      "SIFT old centroid time 21.11861545305788 new centroid time 15.786593436467461\n",
      "SIFT old duration 48.075 new duration time 42.95\n",
      "FMW old centroid time 19.108480804500214 new centroid time 16.254464766095836\n",
      "FMW old duration 42.95 new duration time 40.075\n",
      "RCM old centroid time 25.114467436046322 new centroid time 24.080692393527343\n",
      "RCM old duration 117.7 new duration time 116.65\n",
      "RCS old centroid time 19.702380172326894 new centroid time 18.632998494052366\n",
      "RCS old duration 43.75 new duration time 42.675\n",
      "RER old centroid time 19.427950002305337 new centroid time 17.16140358773481\n",
      "RER old duration 43.95 new duration time 41.675\n",
      "STAR old centroid time 16.09556831370074 new centroid time 15.426803284145382\n",
      "STAR old duration 41.35 new duration time 40.675\n",
      "STAR old centroid time 12.837077920973822 new centroid time 15.426803284145382\n",
      "STAR old duration 32.125 new duration time 40.675\n"
     ]
    },
    {
     "name": "stderr",
     "output_type": "stream",
     "text": [
      "/Users/marinedenolle/miniconda3/envs/seismo_exo/lib/python3.10/site-packages/obspy/signal/filter.py:62: UserWarning: Selected high corner frequency (20) of bandpass is at or above Nyquist (20.0). Applying a high-pass instead.\n",
      "  warnings.warn(msg)\n"
     ]
    },
    {
     "name": "stdout",
     "output_type": "stream",
     "text": [
      "OBSR old centroid time 23.034831838356126 new centroid time 19.246909879451977\n",
      "OBSR old duration 55.0 new duration time 51.275\n",
      "PANH old centroid time 23.650573791369236 new centroid time 18.51750509247975\n",
      "PANH old duration 52.275 new duration time 47.075\n",
      "PCEP old centroid time 79.18156947317766 new centroid time 94.1472226439478\n",
      "PCEP old duration 91.3 new duration time 106.3\n",
      "RCM old centroid time 22.98386388098497 new centroid time 22.100019975668342\n",
      "RCM old duration 51.7 new duration time 50.775\n",
      "RCS old centroid time 16.598874296311422 new centroid time 15.10135250079853\n",
      "RCS old duration 46.275 new duration time 44.775\n",
      "RER old centroid time 16.85593174382334 new centroid time 13.228591011935675\n",
      "RER old duration 35.05 new duration time 31.475\n",
      "STAR old centroid time 19.696258795116268 new centroid time 17.43752890049968\n",
      "STAR old duration 42.95 new duration time 40.7\n"
     ]
    },
    {
     "name": "stderr",
     "output_type": "stream",
     "text": [
      "/Users/marinedenolle/miniconda3/envs/seismo_exo/lib/python3.10/site-packages/obspy/signal/filter.py:62: UserWarning: Selected high corner frequency (20) of bandpass is at or above Nyquist (20.0). Applying a high-pass instead.\n",
      "  warnings.warn(msg)\n"
     ]
    },
    {
     "name": "stdout",
     "output_type": "stream",
     "text": [
      "ARAT old centroid time 24.340851537278684 new centroid time 18.012991609058357\n",
      "ARAT old duration 36.3 new duration time 30.025\n",
      "OBSR old centroid time 21.31036903045257 new centroid time 18.835507773148812\n",
      "OBSR old duration 36.375 new duration time 33.875\n",
      "PANH old centroid time 20.52222119249845 new centroid time 18.074781137549554\n",
      "PANH old duration 34.5 new duration time 32.05\n",
      "PARA old centroid time 23.349509178486066 new centroid time 21.125811454153684\n",
      "PARA old duration 38.75 new duration time 36.5\n",
      "SIFT old centroid time 28.766906163085263 new centroid time 21.713770651216937\n",
      "SIFT old duration 71.875 new duration time 64.8\n",
      "FMW old centroid time 37.18813687214782 new centroid time 33.0341491828907\n",
      "FMW old duration 126.6 new duration time 122.375\n",
      "LON old centroid time 167.950184744789 new centroid time 161.1293575278006\n",
      "LON old duration 130.15 new duration time 124.7\n",
      "RCM old centroid time 19.173852549253027 new centroid time 21.646455117845687\n",
      "RCM old duration 34.025 new duration time 36.7\n",
      "RCS old centroid time 15.686379228125437 new centroid time 15.41065632217189\n",
      "RCS old duration 31.225 new duration time 30.925\n",
      "RER old centroid time 20.932796884275188 new centroid time 18.29336480405948\n",
      "RER old duration 32.2 new duration time 29.55\n",
      "STAR old centroid time 20.47525214351065 new centroid time 17.860445817197434\n",
      "STAR old duration 33.35 new duration time 30.7\n"
     ]
    },
    {
     "name": "stderr",
     "output_type": "stream",
     "text": [
      "/Users/marinedenolle/miniconda3/envs/seismo_exo/lib/python3.10/site-packages/obspy/signal/filter.py:62: UserWarning: Selected high corner frequency (20) of bandpass is at or above Nyquist (20.0). Applying a high-pass instead.\n",
      "  warnings.warn(msg)\n"
     ]
    },
    {
     "name": "stdout",
     "output_type": "stream",
     "text": [
      "OBSR old centroid time 12.437694109206591 new centroid time 9.221409098900763\n",
      "OBSR old duration 22.225 new duration time 19.0\n",
      "PANH old centroid time 10.6051169897641 new centroid time 7.372576320879394\n",
      "PANH old duration 17.95 new duration time 14.625\n",
      "PARA old centroid time 12.072419216701853 new centroid time 7.335935393172874\n",
      "PARA old duration 17.35 new duration time 12.5\n",
      "RCM old centroid time 5.118192806686713 new centroid time 3.98847839546179\n",
      "RCM old duration 9.775 new duration time 8.625\n",
      "RCS old centroid time 18.810854428850178 new centroid time 18.732770303564596\n",
      "RCS old duration 116.575 new duration time 116.6\n",
      "RER old centroid time 10.153788544609913 new centroid time 8.137213977979082\n",
      "RER old duration 15.55 new duration time 13.55\n",
      "STAR old centroid time 7.320082786548268 new centroid time 5.4070271115914945\n",
      "STAR old duration 13.875 new duration time 11.925\n"
     ]
    },
    {
     "name": "stderr",
     "output_type": "stream",
     "text": [
      "/Users/marinedenolle/miniconda3/envs/seismo_exo/lib/python3.10/site-packages/obspy/signal/filter.py:62: UserWarning: Selected high corner frequency (20) of bandpass is at or above Nyquist (20.0). Applying a high-pass instead.\n",
      "  warnings.warn(msg)\n"
     ]
    },
    {
     "name": "stdout",
     "output_type": "stream",
     "text": [
      "OBSR old centroid time 11.436483999209965 new centroid time 9.149788382812469\n",
      "OBSR old duration 21.225 new duration time 18.925\n",
      "PANH old centroid time 9.64113628764584 new centroid time 7.3322992103754\n",
      "PANH old duration 16.975 new duration time 14.6\n",
      "PARA old centroid time 11.076703680774939 new centroid time 8.140279936281042\n",
      "PARA old duration 16.325 new duration time 13.325\n",
      "RCM old centroid time 4.131474292964055 new centroid time 4.016276282246952\n",
      "RCM old duration 8.775 new duration time 8.65\n",
      "RCS old centroid time -2.206092173905376 new centroid time -1.2425319964248633\n",
      "RCS old duration 115.55 new duration time 116.55\n",
      "RER old centroid time 9.138090077371869 new centroid time 7.819900720141225\n",
      "RER old duration 14.55 new duration time 13.225\n",
      "STAR old centroid time 6.322671466980107 new centroid time 5.495604601736865\n",
      "STAR old duration 12.875 new duration time 12.025\n"
     ]
    },
    {
     "name": "stderr",
     "output_type": "stream",
     "text": [
      "/Users/marinedenolle/miniconda3/envs/seismo_exo/lib/python3.10/site-packages/obspy/signal/filter.py:62: UserWarning: Selected high corner frequency (20) of bandpass is at or above Nyquist (20.0). Applying a high-pass instead.\n",
      "  warnings.warn(msg)\n"
     ]
    },
    {
     "name": "stdout",
     "output_type": "stream",
     "text": [
      "OBSR old centroid time 10.427904772331313 new centroid time 9.078302516963683\n",
      "OBSR old duration 20.225 new duration time 18.85\n",
      "PANH old centroid time 8.662958169857434 new centroid time 7.472360169346051\n",
      "PANH old duration 15.975 new duration time 14.75\n",
      "PARA old centroid time 10.083744260805013 new centroid time 7.7145940082041715\n",
      "PARA old duration 15.325 new duration time 12.875\n",
      "RCM old centroid time 3.3918750374925604 new centroid time 3.983488252305552\n",
      "RCM old duration 7.25 new duration time 8.225\n",
      "RCS old centroid time -276.7547708207583 new centroid time -146.7786702432944\n",
      "RCS old duration 114.525 new duration time 116.5\n",
      "RER old centroid time 8.136264326204476 new centroid time 7.724349886091007\n",
      "RER old duration 13.55 new duration time 13.125\n",
      "STAR old centroid time 5.353786745008272 new centroid time 5.485906162489503\n",
      "STAR old duration 11.85 new duration time 12.0\n"
     ]
    },
    {
     "name": "stderr",
     "output_type": "stream",
     "text": [
      "/Users/marinedenolle/miniconda3/envs/seismo_exo/lib/python3.10/site-packages/obspy/signal/filter.py:62: UserWarning: Selected high corner frequency (20) of bandpass is at or above Nyquist (20.0). Applying a high-pass instead.\n",
      "  warnings.warn(msg)\n"
     ]
    },
    {
     "name": "stdout",
     "output_type": "stream",
     "text": [
      "OBSR old centroid time 10.522975851723128 new centroid time 8.592336066174209\n",
      "OBSR old duration 20.175 new duration time 18.2\n",
      "PANH old centroid time 8.736124287330938 new centroid time 7.841267780712713\n",
      "PANH old duration 17.275 new duration time 16.35\n",
      "PARA old centroid time 10.334425080325378 new centroid time 8.697347270802693\n",
      "PARA old duration 19.925 new duration time 18.275\n",
      "FMW old centroid time 10.513817696798547 new centroid time 7.621844900716702\n",
      "FMW old duration 22.325 new duration time 19.275\n",
      "LON old centroid time 87.22333905929163 new centroid time 84.71251061158775\n",
      "LON old duration 126.425 new duration time 123.9\n",
      "RCM old centroid time 5.160429660708753 new centroid time 5.183406519257939\n",
      "RCM old duration 11.475 new duration time 11.5\n",
      "RCS old centroid time 4.0677838731067535 new centroid time 4.649184816482357\n",
      "RCS old duration 9.05 new duration time 9.725\n",
      "RER old centroid time 9.111240126801379 new centroid time 8.322806686330358\n",
      "RER old duration 14.175 new duration time 13.375\n",
      "STAR old centroid time 7.142419092994075 new centroid time 6.329443703972704\n",
      "STAR old duration 13.925 new duration time 13.1\n"
     ]
    },
    {
     "name": "stderr",
     "output_type": "stream",
     "text": [
      "/Users/marinedenolle/miniconda3/envs/seismo_exo/lib/python3.10/site-packages/obspy/signal/filter.py:62: UserWarning: Selected high corner frequency (20) of bandpass is at or above Nyquist (20.0). Applying a high-pass instead.\n",
      "  warnings.warn(msg)\n"
     ]
    },
    {
     "name": "stdout",
     "output_type": "stream",
     "text": [
      "KAUT old centroid time 128.99616153420376 new centroid time 143.98378598025596\n",
      "KAUT old duration 134.975 new duration time 149.975\n",
      "OBSR old centroid time 104.12366652474324 new centroid time 4.088775985053473\n",
      "OBSR old duration 125.1 new duration time 8.75\n",
      "PANH old centroid time 93.98946295257822 new centroid time 37.73727700223479\n",
      "PANH old duration 124.6 new duration time 67.925\n",
      "PARA old centroid time 86.65740046628235 new centroid time 30.04966746200812\n",
      "PARA old duration 126.675 new duration time 70.175\n",
      "RCM old centroid time 82.65740426006168 new centroid time 24.798580482299506\n",
      "RCM old duration 118.825 new duration time 63.4\n",
      "RCS old centroid time 95.35313268257461 new centroid time 3.305785253501015\n",
      "RCS old duration 121.2 new duration time 7.1\n",
      "RER old centroid time 90.06878044554443 new centroid time 33.077525907018384\n",
      "RER old duration 125.7 new duration time 69.1\n",
      "STAR old centroid time 89.00925336014669 new centroid time 2.8981478423967655\n",
      "STAR old duration 121.35 new duration time 7.2\n"
     ]
    },
    {
     "name": "stderr",
     "output_type": "stream",
     "text": [
      "/Users/marinedenolle/miniconda3/envs/seismo_exo/lib/python3.10/site-packages/obspy/signal/filter.py:62: UserWarning: Selected high corner frequency (20) of bandpass is at or above Nyquist (20.0). Applying a high-pass instead.\n",
      "  warnings.warn(msg)\n"
     ]
    },
    {
     "name": "stdout",
     "output_type": "stream",
     "text": [
      "OBSR old centroid time 8.333290853689437 new centroid time 5.7327192340533975\n",
      "OBSR old duration 14.875 new duration time 12.175\n",
      "PANH old centroid time 7.7442202471635095 new centroid time 6.0310305208993435\n",
      "PANH old duration 15.05 new duration time 13.35\n",
      "PARA old centroid time 7.753469893017257 new centroid time 6.76537050374988\n",
      "PARA old duration 13.775 new duration time 12.775\n",
      "RCM old centroid time 2.7236421515667044 new centroid time 2.8113599005285215\n",
      "RCM old duration 7.05 new duration time 7.15\n",
      "RCS old centroid time 4.995075905111867 new centroid time 4.538409946886364\n",
      "RCS old duration 8.825 new duration time 8.35\n",
      "RER old centroid time 5.0193069590418515 new centroid time 19.985722789100524\n",
      "RER old duration 10.25 new duration time 25.25\n",
      "RER old centroid time 8.37100077527852 new centroid time 19.985722789100524\n",
      "RER old duration 20.725 new duration time 25.25\n",
      "STAR old centroid time 7.368741484743809 new centroid time 7.178557372298631\n",
      "STAR old duration 18.95 new duration time 18.75\n"
     ]
    },
    {
     "name": "stderr",
     "output_type": "stream",
     "text": [
      "/Users/marinedenolle/miniconda3/envs/seismo_exo/lib/python3.10/site-packages/obspy/signal/filter.py:62: UserWarning: Selected high corner frequency (20) of bandpass is at or above Nyquist (20.0). Applying a high-pass instead.\n",
      "  warnings.warn(msg)\n"
     ]
    },
    {
     "name": "stdout",
     "output_type": "stream",
     "text": [
      "ARAT old centroid time 14.740469907830839 new centroid time 12.632995280481573\n",
      "ARAT old duration 27.825 new duration time 25.725\n",
      "OBSR old centroid time 19.690670878056032 new centroid time 17.595550830414933\n",
      "OBSR old duration 49.725 new duration time 47.625\n",
      "PANH old centroid time 13.390798525329243 new centroid time 10.98513035342692\n",
      "PANH old duration 25.55 new duration time 23.15\n",
      "PARA old centroid time 14.360618382572461 new centroid time 12.975667401211078\n",
      "PARA old duration 28.275 new duration time 26.9\n",
      "PR05 old centroid time 32.776700692269834 new centroid time 27.877697084278264\n",
      "PR05 old duration 133.35 new duration time 128.3\n",
      "SIFT old centroid time 17.54233106351986 new centroid time 13.488759682981236\n",
      "SIFT old duration 30.05 new duration time 26.125\n",
      "FMW old centroid time 15.067980891484078 new centroid time 12.97803193772626\n",
      "FMW old duration 28.3 new duration time 26.175\n",
      "LON old centroid time 13.206820687675261 new centroid time 11.257172418821893\n",
      "LON old duration 24.725 new duration time 22.75\n",
      "PCEP old centroid time 71.24908981492314 new centroid time 86.19038928143446\n",
      "PCEP old duration 81.275 new duration time 96.275\n",
      "RCM old centroid time 12.228603846100304 new centroid time 11.61525948963908\n",
      "RCM old duration 28.5 new duration time 27.875\n",
      "RCS old centroid time 11.58550997665302 new centroid time 10.267735283547305\n",
      "RCS old duration 21.15 new duration time 19.825\n",
      "RER old centroid time 19.58856329167416 new centroid time 18.478250446367184\n",
      "RER old duration 49.125 new duration time 48.0\n",
      "STAR old centroid time 20.671759099561946 new centroid time 20.166507160125914\n",
      "STAR old duration 46.075 new duration time 45.55\n",
      "STAR old centroid time 20.040010019997233 new centroid time 20.166507160125914\n",
      "STAR old duration 45.85 new duration time 45.55\n"
     ]
    },
    {
     "name": "stderr",
     "output_type": "stream",
     "text": [
      "/Users/marinedenolle/miniconda3/envs/seismo_exo/lib/python3.10/site-packages/obspy/signal/filter.py:62: UserWarning: Selected high corner frequency (20) of bandpass is at or above Nyquist (20.0). Applying a high-pass instead.\n",
      "  warnings.warn(msg)\n"
     ]
    }
   ],
   "source": [
    "\n",
    "# pdf = PdfPages('../plots/Mt_RAinier_plot.pdf')\n",
    "associated_volcano = \"Mt_Rainier\"\n",
    "dff=[] \n",
    "# event_ID = '0000' #str(evt_id[n])\n",
    "nplot=0\n",
    "for n in range(len(evt_id)):\n",
    "    if start_time[n]<datetime(2022,1,1):continue   \n",
    "    event_ID = str(evt_id[n])\n",
    "    otime = UTCDateTime(start_time[n])  \n",
    "    associated_volcano=\"Mt_Rainier\"\n",
    "\n",
    "\n",
    "    #get info for stations within 50km of volcano that event ocurred at\n",
    "    stations = df[df['Volcano_Name'] == associated_volcano]['Station'].values.tolist()\n",
    "    networks = df[df['Volcano_Name'] == associated_volcano]['Network'].values.tolist()\n",
    "    latitudes = df[df['Volcano_Name'] == associated_volcano]['Latitude'].values.tolist()\n",
    "    longitudes = df[df['Volcano_Name'] == associated_volcano]['Longitude'].values.tolist()\n",
    "    elevations = df[df['Volcano_Name']== associated_volcano]['Elevation'].values.tolist()\n",
    "\n",
    "\n",
    "    #################### WAVEFORM DOWNLOAD #######################\n",
    "    #Download all waveforms for that event based on stations and times\n",
    "    bulk = [] \n",
    "    for m in range(0, len(networks)):\n",
    "        bulk.append([networks[m], stations[m], '*', '*Z', otime-t_before_raw, otime+t_before_raw])\n",
    "    try:\n",
    "        st = client2.get_waveforms_bulk(bulk)\n",
    "        st = resample(st,fs)  #resampling the data to 40Hz for each trace\n",
    "        evt_data = obspy.Stream()\n",
    "        snr=[]\n",
    "        stas=[]\n",
    "        nets=[]\n",
    "        lats=[]\n",
    "        lons=[]\n",
    "        els=[]\n",
    "        centroid_time = []\n",
    "        data_env_dict = {}\n",
    "        duration = []\n",
    "        max_time = []\n",
    "\n",
    "        # #Keeping all traces for one event with channel z, SNR>10, and bandpassed between 2-12Hz\n",
    "        # ,nets,max_amp_times,durations,data_env_dict,t_diff = [],[],[],[],[],[],[],{},{}\n",
    "        for i,ii in enumerate(st):\n",
    "            ii.detrend(type = 'demean')\n",
    "            ii.filter('bandpass',freqmin=low_cut,freqmax=high_cut,corners=2,zerophase=True)\n",
    "            # trim the data and noise window to exactly 6000 points\n",
    "            signal_window = ii.copy()\n",
    "            noise_window = ii.copy()\n",
    "            signal_window.trim(otime - t_before, otime - t_before + window) # trim the signal at the first pick time of the PNSN data, with loose 40s before\n",
    "            noise_window.trim(otime - window -t_before, otime - t_before) # noise window of the same length\n",
    "            if  len(signal_window.data)<=10 or  len(noise_window.data)<=10: continue # skip if no data\n",
    "            # if not np.percentile(np.abs(signal_window.data),pr):continue # skip if max amplitude is zero\n",
    "            snr1 = (20 * np.log(np.percentile(np.abs(signal_window.data),pr) \n",
    "                            / np.percentile(np.abs(noise_window.data),pr))/np.log(10))\n",
    "            if snr1<thr: # and 100<max_amp_time<200:\n",
    "                st.remove(ii)\n",
    "                continue\n",
    "\n",
    "        ################# ENVELOPE, CENTROID, DURATION #######################\n",
    "            # enveloping the data \n",
    "            data_envelope = obspy.signal.filter.envelope(signal_window.data)\n",
    "            data_envelope = obspy.signal.util.smooth(data_envelope, smooth_length)\n",
    "\n",
    "            data_env_dict[ii.stats.network+'.'+ii.stats.station]= data_envelope/max(np.abs(data_envelope))\n",
    "\n",
    "\n",
    "            # max time\n",
    "            # finding the time of max amplitude of each event\n",
    "            # signal_window is windowed at otime-t_v before the PNSN pick time\n",
    "            # crap = np.argmax(np.abs(data_envelope[:(t_before+40)*fs])) # time of max amplitude relative to otime\n",
    "\n",
    "            # centroid time\n",
    "            ss = signal_window.copy()\n",
    "            ss.trim()\n",
    "            tcrap = signal_window.times()-t_before\n",
    "            it = np.where(tcrap>0)[0] # origin tim\n",
    "            # print(ii.stats.station,max_time[-1],centroid_time[-1])\n",
    "\n",
    "            # find duration as data starting with the \"origin time\" and ending when the envelope falls below the mean noise\n",
    "            data_envelope -= np.mean(data_envelope[:t_before*fs])\n",
    "            \n",
    "            mmax = np.max(np.cumsum(data_envelope[it]**4))\n",
    "            crap = np.where( np.cumsum(data_envelope[it]**4) <= 0.999*mmax)[0]#[-1]\n",
    "            duration.append(len(crap)/fs)\n",
    "\n",
    "            it = np.where((tcrap>0) & (tcrap<duration[-1]))[0] # select the time window after origin and before the end\n",
    "            centroid_time.append(np.sum(data_envelope[it]*tcrap[it])/np.sum(data_envelope[it]))\n",
    "\n",
    "            max_time.append(tcrap[it[np.argmax(data_envelope[it])]])\n",
    "\n",
    "            stas.append(ii.stats.station)\n",
    "            nets.append(ii.stats.network)\n",
    "            ista=stations.index(ii.stats.station)\n",
    "            lats.append(latitudes[ista])\n",
    "            lons.append(longitudes[ista])\n",
    "            els.append(elevations[ista])\n",
    "            snr.append(snr1)\n",
    "            evt_data.append(signal_window)\n",
    "\n",
    "            t = evt_data.select(station=stas[-1])[0].times()\n",
    "            \n",
    "        if len(stas)<3:continue\n",
    "        centroid_time = np.asarray(centroid_time)\n",
    "        # centroid_time -= t_before\n",
    "        max_time = np.asarray(max_time)\n",
    "        # max_time -= t_before\n",
    "        duration = np.asarray(duration)\n",
    "        # duration -= t_before\n",
    "\n",
    "        ################### ELEP #######################\n",
    "\n",
    "            # test the new function\n",
    "        smb_peak= apply_elep(evt_data, stas, \\\n",
    "                list_models, MBF_paras, paras_semblance, t_before)\n",
    "        smb_peak -= t_before\n",
    "\n",
    "\n",
    "        ############### RECALCULATE CENTROID & DURATION ################\n",
    "        new_centroid_time = np.zeros(len(stas))\n",
    "        new_duration = np.zeros(len(stas))\n",
    "        for ista in range(len(stas)):\n",
    "            tt_data = evt_data.select(station=stas[ista])[0].data\n",
    "            data_envelope = obspy.signal.filter.envelope(tt_data)\n",
    "            data_envelope = obspy.signal.util.smooth(data_envelope, smooth_length)\n",
    "            t = evt_data.select(station=stas[ista])[0].times()\n",
    "            data_envelope = data_envelope[:len(t)]\n",
    "            data_envelope = data_envelope - np.mean(data_envelope[0:int(t_before*fs)]) # remove the mean of the noise\n",
    "            data_envelope = data_envelope/np.max(np.abs(data_envelope)) # normalize the envelope\n",
    "            t = t - t_before - smb_peak[ista] # shift the time to the pick time\n",
    "            ikk=np.where(t>0)[0]#[0] # find the first positive time\n",
    "            # data_envelope = data_envelope[ikk]\n",
    "            mmax = np.max(np.cumsum(data_envelope[ikk]**4))\n",
    "            crap = np.where( np.cumsum(data_envelope[ikk]**4) <= 0.999*mmax)[0]#[-1]\n",
    "            new_duration[ista]= len(crap)/fs\n",
    "\n",
    "            it = np.where((t>0) & (t<new_duration[ista]))[0]\n",
    "            new_centroid_time[ista] = np.sum(data_envelope[it]*t[it])/np.sum(data_envelope[it])\n",
    "\n",
    "\n",
    "\n",
    "\n",
    "            print(stas[ista],\"old centroid time\", centroid_time[ista], \"new centroid time\",new_centroid_time[ista])\n",
    "            print(stas[ista],\"old duration\", duration[ista], \"new duration time\",new_duration[ista])\n",
    "\n",
    "\n",
    "\n",
    "        ############## PEAK FREQUENCY MEASUREMENTS ############\n",
    "        # Given the approximate measurement of duration, window the signal windows around that\n",
    "        # then measure peak frequency so that there is less noise in it.\n",
    "        # perform this on the Z component only.\n",
    "\n",
    "        char_freq, sharp_weight= [],[]\n",
    "        # fig1,ax1 = plt.subplots(1,1,figsize=(11,8), dpi = 200)\n",
    "        for ii,i in enumerate(evt_data):\n",
    "            data = np.zeros(200*fs)\n",
    "            crap=i.copy()\n",
    "            otime1 = crap.stats.starttime + smb_peak[ii] # pick time\n",
    "            crap.trim(otime1  - 10, otime1 + 2*new_duration[ii] + 10) # window the data around the pick time\n",
    "            crap.taper(max_percentage=0.01,max_length=20)\n",
    "\n",
    "            data[:len(crap.data)] = crap.data #*100\n",
    "            f,psd=scipy.signal.welch(data,fs=fs,nperseg=81,noverlap=4)\n",
    "            #just get the frequencies within the filter band\n",
    "            above_low_cut = [f>low_cut]\n",
    "            below_high_cut = [f<high_cut]\n",
    "            in_band = np.logical_and(above_low_cut,below_high_cut)[0]\n",
    "            f = f[in_band]\n",
    "            psd = psd[in_band]\n",
    "\n",
    "            # calculate characteristic frequency and report\n",
    "            char_freq_max = f[np.argmax(psd)]\n",
    "            char_freq_mean= np.sum(psd*f)/np.sum(psd)\n",
    "            psd_cumsum = np.cumsum(psd)\n",
    "            psd_sum = np.sum(psd)\n",
    "            char_freq_median = f[np.argmin(np.abs(psd_cumsum-psd_sum/2))]\n",
    "            char_freq.append(char_freq_mean)\n",
    "\n",
    "            # plt.rcParams.update({'font.size': 20})\n",
    "            # p=ax1.plot(f,psd,label=stas[ii],linewidth=2)\n",
    "            # cc = p[0].get_color()\n",
    "            # ax1.set_xscale('log')\n",
    "            # ax1.set_yscale('log')\n",
    "            # ax1.grid('True')\n",
    "            # ax1.set_xlabel('Frequency [Hz]')\n",
    "            # ax1.set_ylabel('PSD [$(mm/s)^2$/Hz]')\n",
    "            # ax1.vlines(char_freq_mean,ymin=np.min(psd)/10,ymax=np.max(psd)*10,linestyle=\"--\",colors=cc)\n",
    "\n",
    "        #             # weighting the data by the spikiness of the PSD vs frequency graphs\n",
    "            ratio = (np.mean(psd)/np.max(psd))\n",
    "            sharp_weight.append(int(1/(ratio**2)*20))\n",
    "            # del fig1,ax1\n",
    "\n",
    "\n",
    "            ############# KEEP DATA #######################\n",
    "\n",
    "        #         if not max(smb_peak.shape):continue\n",
    "        ddict = {'otime':otime, 'nets':nets, 'stas':stas,  'snr':snr, 'smb_peak': smb_peak, 'max_time':max_time, 'centroid_time': centroid_time , \\\n",
    "                'lats':lats, 'lons':lons, 'elevs':els, 'char_freq':char_freq, 'duration':duration, \\\n",
    "                    'sharp_weight':sharp_weight, 'volcano':associated_volcano, 'event_ID':event_ID}\n",
    "        if not np.any(dff):\n",
    "            dff = pd.DataFrame.from_dict(ddict)\n",
    "        else:\n",
    "            dff=pd.concat([dff,pd.DataFrame.from_dict(ddict)],ignore_index=True)\n",
    "\n",
    "\n",
    "        # if nplot<50:\n",
    "        #     nplot+=1\n",
    "        #     fig = plt.figure(figsize = (11,8), dpi=400)\n",
    "        #     fig.suptitle(str(otime)+\" \"+associated_volcano)\n",
    "        #     ax = plt.subplot(1,1,1)\n",
    "        #     iplot = 0\n",
    "        #     for i in range(len(stas)):\n",
    "        #         data = evt_data.select(station=stas[i])[0].data\n",
    "        #         max1 = np.max(np.abs(data))\n",
    "        #         t = evt_data.select(station=stas[i])[0].times()\n",
    "        #         ax.plot(t-t_before,data/max1+iplot*1.5,linewidth=0.5) # plot the data\n",
    "        #         if np.any(data_env_dict[nets[i]+'.'+stas[i]]): # plot the envelope\n",
    "        #             ax.plot(t-t_before,data_env_dict[nets[i]+'.'+stas[i]]+iplot*1.5,'k',linewidth=1)\n",
    "        #         # ax.plot(smb_peak[i],iplot*1.5,'r*',markersize=5)   #  the pick time\n",
    "        #         ax.plot(centroid_time[i],iplot*1.5,'rp',markersize=5)   #  old centroid time\n",
    "        #         ax.plot(new_centroid_time[i],iplot*1.5,'kp',markersize=5)   #  new centroid time\n",
    "        #         ax.plot(max_time[i],iplot*1.5,'r*',markersize=5)  # maimum t\n",
    "        #         ax.set_yticks([])\n",
    "        #         ax.text(-15, iplot*1.5+0.5, stas[i])\n",
    "        #         ax.vlines(smb_peak[i],iplot*1.5-1.,iplot*1.5+1.,'r') # pick time\n",
    "        #         ax.vlines(smb_peak[i]+duration[i],iplot*1.5-1.,iplot*1.5+1.,'k') # old duration\n",
    "        #         ax.vlines(smb_peak[i]+new_duration[i],iplot*1.5-1.,iplot*1.5+1.,'b') # new duration\n",
    "        #         print(sta[i],duration[i],char_freq[i])\n",
    "        #         iplot+=1\n",
    "        #     # plt.grid(True)\n",
    "        #     ax.set_xlim([-t_before,130])\n",
    "        #     ax.set_xlabel('time (seconds) relative to PNSN picks')\n",
    "        #     plt.show()\n",
    "        #     pdf.savefig(fig)\n",
    "        #     plt.clf()\n",
    "        #     del fig\n",
    "        dff.describe()\n",
    "    except:\n",
    "        print(\"No data for event\",event_ID)\n",
    "    dff.to_csv(\"../data/events/MLPicks_MtRainier.csv\")\n",
    "\n",
    "# pdf.close()"
   ]
  }
 ],
 "metadata": {
  "kernelspec": {
   "display_name": "seismo_exo",
   "language": "python",
   "name": "python3"
  },
  "language_info": {
   "codemirror_mode": {
    "name": "ipython",
    "version": 3
   },
   "file_extension": ".py",
   "mimetype": "text/x-python",
   "name": "python",
   "nbconvert_exporter": "python",
   "pygments_lexer": "ipython3",
   "version": "3.10.12"
  }
 },
 "nbformat": 4,
 "nbformat_minor": 5
}
