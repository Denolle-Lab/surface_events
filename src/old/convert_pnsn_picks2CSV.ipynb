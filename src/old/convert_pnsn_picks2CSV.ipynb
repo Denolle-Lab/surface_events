{
 "cells": [
  {
   "attachments": {},
   "cell_type": "markdown",
   "metadata": {},
   "source": [
    "Convert eh PNSN file into a CSV file"
   ]
  },
  {
   "cell_type": "code",
   "execution_count": 2,
   "metadata": {},
   "outputs": [],
   "source": [
    "import pandas as pd"
   ]
  },
  {
   "cell_type": "code",
   "execution_count": 11,
   "metadata": {},
   "outputs": [
    {
     "data": {
      "text/html": [
       "<div>\n",
       "<style scoped>\n",
       "    .dataframe tbody tr th:only-of-type {\n",
       "        vertical-align: middle;\n",
       "    }\n",
       "\n",
       "    .dataframe tbody tr th {\n",
       "        vertical-align: top;\n",
       "    }\n",
       "\n",
       "    .dataframe thead th {\n",
       "        text-align: right;\n",
       "    }\n",
       "</style>\n",
       "<table border=\"1\" class=\"dataframe\">\n",
       "  <thead>\n",
       "    <tr style=\"text-align: right;\">\n",
       "      <th></th>\n",
       "      <th>date</th>\n",
       "      <th>net</th>\n",
       "      <th>sta</th>\n",
       "      <th>location</th>\n",
       "      <th>seedchan</th>\n",
       "      <th>iphase</th>\n",
       "      <th>quality</th>\n",
       "      <th>orid</th>\n",
       "      <th>etype</th>\n",
       "      <th>evid</th>\n",
       "    </tr>\n",
       "  </thead>\n",
       "  <tbody>\n",
       "    <tr>\n",
       "      <th>0</th>\n",
       "      <td>1981/07/18 13:35:36</td>\n",
       "      <td>UW</td>\n",
       "      <td>MAS</td>\n",
       "      <td></td>\n",
       "      <td>EHZ</td>\n",
       "      <td>P</td>\n",
       "      <td>0.3</td>\n",
       "      <td>2250848.0</td>\n",
       "      <td>su</td>\n",
       "      <td>10117193.0</td>\n",
       "    </tr>\n",
       "    <tr>\n",
       "      <th>1</th>\n",
       "      <td>1981/07/18 13:35:38</td>\n",
       "      <td>UW</td>\n",
       "      <td>GLK</td>\n",
       "      <td></td>\n",
       "      <td>EHZ</td>\n",
       "      <td>P</td>\n",
       "      <td>0.3</td>\n",
       "      <td>2250848.0</td>\n",
       "      <td>su</td>\n",
       "      <td>10117193.0</td>\n",
       "    </tr>\n",
       "    <tr>\n",
       "      <th>2</th>\n",
       "      <td>1981/07/18 13:35:41</td>\n",
       "      <td>UW</td>\n",
       "      <td>WPW</td>\n",
       "      <td></td>\n",
       "      <td>EHZ</td>\n",
       "      <td>P</td>\n",
       "      <td>0.3</td>\n",
       "      <td>2250848.0</td>\n",
       "      <td>su</td>\n",
       "      <td>10117193.0</td>\n",
       "    </tr>\n",
       "    <tr>\n",
       "      <th>3</th>\n",
       "      <td>1981/07/18 13:35:43</td>\n",
       "      <td>UW</td>\n",
       "      <td>LON</td>\n",
       "      <td></td>\n",
       "      <td>LHZ</td>\n",
       "      <td>P</td>\n",
       "      <td>0.3</td>\n",
       "      <td>2250848.0</td>\n",
       "      <td>su</td>\n",
       "      <td>10117193.0</td>\n",
       "    </tr>\n",
       "    <tr>\n",
       "      <th>4</th>\n",
       "      <td>1981/07/18 13:35:43</td>\n",
       "      <td>UW</td>\n",
       "      <td>FLT</td>\n",
       "      <td></td>\n",
       "      <td>EHZ</td>\n",
       "      <td>P</td>\n",
       "      <td>0.0</td>\n",
       "      <td>2250848.0</td>\n",
       "      <td>su</td>\n",
       "      <td>10117193.0</td>\n",
       "    </tr>\n",
       "  </tbody>\n",
       "</table>\n",
       "</div>"
      ],
      "text/plain": [
       "                    date    net      sta    location    seedchan    iphase  \\\n",
       "0   1981/07/18 13:35:36    UW     MAS                  EHZ         P         \n",
       "1   1981/07/18 13:35:38    UW     GLK                  EHZ         P         \n",
       "2   1981/07/18 13:35:41    UW     WPW                  EHZ         P         \n",
       "3   1981/07/18 13:35:43    UW     LON                  LHZ         P         \n",
       "4   1981/07/18 13:35:43    UW     FLT                  EHZ         P         \n",
       "\n",
       "   quality       orid    etype        evid  \n",
       "0      0.3  2250848.0   su      10117193.0  \n",
       "1      0.3  2250848.0   su      10117193.0  \n",
       "2      0.3  2250848.0   su      10117193.0  \n",
       "3      0.3  2250848.0   su      10117193.0  \n",
       "4      0.0  2250848.0   su      10117193.0  "
      ]
     },
     "execution_count": 11,
     "metadata": {},
     "output_type": "execute_result"
    }
   ],
   "source": [
    "f1 = pd.read_csv(\"../data/events/su_picks.txt\",sep=\"|\")\n",
    "f1.head()"
   ]
  },
  {
   "cell_type": "code",
   "execution_count": null,
   "metadata": {},
   "outputs": [],
   "source": []
  }
 ],
 "metadata": {
  "kernelspec": {
   "display_name": "seismo_exo",
   "language": "python",
   "name": "python3"
  },
  "language_info": {
   "codemirror_mode": {
    "name": "ipython",
    "version": 3
   },
   "file_extension": ".py",
   "mimetype": "text/x-python",
   "name": "python",
   "nbconvert_exporter": "python",
   "pygments_lexer": "ipython3",
   "version": "3.8.17"
  },
  "orig_nbformat": 4
 },
 "nbformat": 4,
 "nbformat_minor": 2
}
