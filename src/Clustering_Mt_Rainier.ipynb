{
 "cells": [
  {
   "cell_type": "markdown",
   "metadata": {},
   "source": [
    "# Clustering of RedPy"
   ]
  },
  {
   "attachments": {},
   "cell_type": "markdown",
   "metadata": {},
   "source": [
    "This notebook will use RedPy feature data and cluster it to try and find patterns"
   ]
  },
  {
   "cell_type": "code",
   "execution_count": 26,
   "metadata": {},
   "outputs": [],
   "source": [
    "import matplotlib.pyplot as plt\n",
    "import numpy as np\n",
    "import pandas as pd\n",
    "import random\n",
    "from sklearn import preprocessing\n",
    "\n",
    "from sklearn.preprocessing import StandardScaler\n",
    "from sklearn.decomposition import PCA\n",
    "import os\n",
    "\n",
    "from sklearn.cluster import KMeans\n",
    "from sklearn import metrics\n",
    "from sklearn.metrics import silhouette_score, silhouette_samples\n"
   ]
  },
  {
   "attachments": {},
   "cell_type": "markdown",
   "metadata": {},
   "source": [
    "### Data\n",
    "Read TSFEL features for Mt Rainier"
   ]
  },
  {
   "cell_type": "code",
   "execution_count": 7,
   "metadata": {},
   "outputs": [],
   "source": [
    "# this is some underway data collected from a cruise in 2019\n",
    "mt_rainier = pd.read_csv('../data/Rainier_tsfel_features.csv')"
   ]
  },
  {
   "cell_type": "code",
   "execution_count": 8,
   "metadata": {},
   "outputs": [
    {
     "data": {
      "text/html": [
       "<div>\n",
       "<style scoped>\n",
       "    .dataframe tbody tr th:only-of-type {\n",
       "        vertical-align: middle;\n",
       "    }\n",
       "\n",
       "    .dataframe tbody tr th {\n",
       "        vertical-align: top;\n",
       "    }\n",
       "\n",
       "    .dataframe thead th {\n",
       "        text-align: right;\n",
       "    }\n",
       "</style>\n",
       "<table border=\"1\" class=\"dataframe\">\n",
       "  <thead>\n",
       "    <tr style=\"text-align: right;\">\n",
       "      <th></th>\n",
       "      <th>0_FFT mean coefficient_0</th>\n",
       "      <th>0_FFT mean coefficient_1</th>\n",
       "      <th>0_FFT mean coefficient_2</th>\n",
       "      <th>0_FFT mean coefficient_3</th>\n",
       "      <th>0_FFT mean coefficient_4</th>\n",
       "      <th>0_FFT mean coefficient_5</th>\n",
       "      <th>0_FFT mean coefficient_6</th>\n",
       "      <th>0_FFT mean coefficient_7</th>\n",
       "      <th>0_FFT mean coefficient_8</th>\n",
       "      <th>0_FFT mean coefficient_9</th>\n",
       "      <th>...</th>\n",
       "      <th>0_Negative turning points</th>\n",
       "      <th>0_Neighbourhood peaks</th>\n",
       "      <th>0_Peak to peak distance</th>\n",
       "      <th>0_Positive turning points</th>\n",
       "      <th>0_Signal distance</th>\n",
       "      <th>0_Slope</th>\n",
       "      <th>0_Sum absolute diff</th>\n",
       "      <th>0_Total energy</th>\n",
       "      <th>0_Zero crossing rate</th>\n",
       "      <th>template</th>\n",
       "    </tr>\n",
       "  </thead>\n",
       "  <tbody>\n",
       "    <tr>\n",
       "      <th>0</th>\n",
       "      <td>4.251313e-08</td>\n",
       "      <td>3.932619e-09</td>\n",
       "      <td>2.286470e-08</td>\n",
       "      <td>6.950114e-08</td>\n",
       "      <td>5.496805e-08</td>\n",
       "      <td>9.462838e-08</td>\n",
       "      <td>1.951158e-07</td>\n",
       "      <td>1.805888e-07</td>\n",
       "      <td>6.700315e-07</td>\n",
       "      <td>7.928933e-07</td>\n",
       "      <td>...</td>\n",
       "      <td>629.0</td>\n",
       "      <td>154.0</td>\n",
       "      <td>1.758302</td>\n",
       "      <td>629.0</td>\n",
       "      <td>3522.662216</td>\n",
       "      <td>-9.628687e-10</td>\n",
       "      <td>37.499908</td>\n",
       "      <td>0.050993</td>\n",
       "      <td>869.0</td>\n",
       "      <td>CC_CARB_rpra_3</td>\n",
       "    </tr>\n",
       "    <tr>\n",
       "      <th>1</th>\n",
       "      <td>4.604560e-06</td>\n",
       "      <td>4.716205e-07</td>\n",
       "      <td>2.300050e-06</td>\n",
       "      <td>4.298284e-06</td>\n",
       "      <td>9.119836e-06</td>\n",
       "      <td>5.211722e-06</td>\n",
       "      <td>1.902368e-05</td>\n",
       "      <td>6.879704e-05</td>\n",
       "      <td>9.970790e-05</td>\n",
       "      <td>2.684652e-04</td>\n",
       "      <td>...</td>\n",
       "      <td>565.0</td>\n",
       "      <td>146.0</td>\n",
       "      <td>1.353356</td>\n",
       "      <td>565.0</td>\n",
       "      <td>3521.700855</td>\n",
       "      <td>7.334546e-08</td>\n",
       "      <td>55.134123</td>\n",
       "      <td>0.076039</td>\n",
       "      <td>649.0</td>\n",
       "      <td>CC_CARB_rpra_13</td>\n",
       "    </tr>\n",
       "    <tr>\n",
       "      <th>2</th>\n",
       "      <td>6.488920e-06</td>\n",
       "      <td>1.218434e-05</td>\n",
       "      <td>9.122074e-05</td>\n",
       "      <td>2.063236e-04</td>\n",
       "      <td>1.632531e-04</td>\n",
       "      <td>2.301393e-04</td>\n",
       "      <td>1.516768e-04</td>\n",
       "      <td>3.398730e-04</td>\n",
       "      <td>2.478204e-04</td>\n",
       "      <td>1.907248e-04</td>\n",
       "      <td>...</td>\n",
       "      <td>519.0</td>\n",
       "      <td>160.0</td>\n",
       "      <td>1.560520</td>\n",
       "      <td>520.0</td>\n",
       "      <td>3523.520318</td>\n",
       "      <td>6.422047e-08</td>\n",
       "      <td>89.323884</td>\n",
       "      <td>0.259117</td>\n",
       "      <td>592.0</td>\n",
       "      <td>CC_CARB_rpra_50</td>\n",
       "    </tr>\n",
       "    <tr>\n",
       "      <th>3</th>\n",
       "      <td>3.887297e-07</td>\n",
       "      <td>1.676714e-07</td>\n",
       "      <td>7.242766e-07</td>\n",
       "      <td>1.159509e-06</td>\n",
       "      <td>1.636281e-06</td>\n",
       "      <td>1.428913e-05</td>\n",
       "      <td>1.535842e-05</td>\n",
       "      <td>3.739341e-05</td>\n",
       "      <td>5.299815e-05</td>\n",
       "      <td>5.868771e-05</td>\n",
       "      <td>...</td>\n",
       "      <td>580.0</td>\n",
       "      <td>158.0</td>\n",
       "      <td>1.566193</td>\n",
       "      <td>581.0</td>\n",
       "      <td>3523.753620</td>\n",
       "      <td>-5.574950e-09</td>\n",
       "      <td>74.410709</td>\n",
       "      <td>0.153993</td>\n",
       "      <td>702.0</td>\n",
       "      <td>CC_CARB_rpra_63</td>\n",
       "    </tr>\n",
       "    <tr>\n",
       "      <th>4</th>\n",
       "      <td>1.897318e-06</td>\n",
       "      <td>3.443066e-07</td>\n",
       "      <td>1.035059e-06</td>\n",
       "      <td>4.135231e-06</td>\n",
       "      <td>6.097145e-06</td>\n",
       "      <td>1.443698e-05</td>\n",
       "      <td>2.915572e-05</td>\n",
       "      <td>4.521000e-05</td>\n",
       "      <td>1.366167e-04</td>\n",
       "      <td>6.646028e-05</td>\n",
       "      <td>...</td>\n",
       "      <td>493.0</td>\n",
       "      <td>154.0</td>\n",
       "      <td>1.645998</td>\n",
       "      <td>493.0</td>\n",
       "      <td>3523.056006</td>\n",
       "      <td>-7.569077e-09</td>\n",
       "      <td>77.935979</td>\n",
       "      <td>0.142795</td>\n",
       "      <td>690.0</td>\n",
       "      <td>CC_CARB_rpra_130</td>\n",
       "    </tr>\n",
       "  </tbody>\n",
       "</table>\n",
       "<p>5 rows × 390 columns</p>\n",
       "</div>"
      ],
      "text/plain": [
       "   0_FFT mean coefficient_0  0_FFT mean coefficient_1  \\\n",
       "0              4.251313e-08              3.932619e-09   \n",
       "1              4.604560e-06              4.716205e-07   \n",
       "2              6.488920e-06              1.218434e-05   \n",
       "3              3.887297e-07              1.676714e-07   \n",
       "4              1.897318e-06              3.443066e-07   \n",
       "\n",
       "   0_FFT mean coefficient_2  0_FFT mean coefficient_3  \\\n",
       "0              2.286470e-08              6.950114e-08   \n",
       "1              2.300050e-06              4.298284e-06   \n",
       "2              9.122074e-05              2.063236e-04   \n",
       "3              7.242766e-07              1.159509e-06   \n",
       "4              1.035059e-06              4.135231e-06   \n",
       "\n",
       "   0_FFT mean coefficient_4  0_FFT mean coefficient_5  \\\n",
       "0              5.496805e-08              9.462838e-08   \n",
       "1              9.119836e-06              5.211722e-06   \n",
       "2              1.632531e-04              2.301393e-04   \n",
       "3              1.636281e-06              1.428913e-05   \n",
       "4              6.097145e-06              1.443698e-05   \n",
       "\n",
       "   0_FFT mean coefficient_6  0_FFT mean coefficient_7  \\\n",
       "0              1.951158e-07              1.805888e-07   \n",
       "1              1.902368e-05              6.879704e-05   \n",
       "2              1.516768e-04              3.398730e-04   \n",
       "3              1.535842e-05              3.739341e-05   \n",
       "4              2.915572e-05              4.521000e-05   \n",
       "\n",
       "   0_FFT mean coefficient_8  0_FFT mean coefficient_9  ...  \\\n",
       "0              6.700315e-07              7.928933e-07  ...   \n",
       "1              9.970790e-05              2.684652e-04  ...   \n",
       "2              2.478204e-04              1.907248e-04  ...   \n",
       "3              5.299815e-05              5.868771e-05  ...   \n",
       "4              1.366167e-04              6.646028e-05  ...   \n",
       "\n",
       "   0_Negative turning points  0_Neighbourhood peaks  0_Peak to peak distance  \\\n",
       "0                      629.0                  154.0                 1.758302   \n",
       "1                      565.0                  146.0                 1.353356   \n",
       "2                      519.0                  160.0                 1.560520   \n",
       "3                      580.0                  158.0                 1.566193   \n",
       "4                      493.0                  154.0                 1.645998   \n",
       "\n",
       "   0_Positive turning points  0_Signal distance       0_Slope  \\\n",
       "0                      629.0        3522.662216 -9.628687e-10   \n",
       "1                      565.0        3521.700855  7.334546e-08   \n",
       "2                      520.0        3523.520318  6.422047e-08   \n",
       "3                      581.0        3523.753620 -5.574950e-09   \n",
       "4                      493.0        3523.056006 -7.569077e-09   \n",
       "\n",
       "   0_Sum absolute diff  0_Total energy  0_Zero crossing rate          template  \n",
       "0            37.499908        0.050993                 869.0    CC_CARB_rpra_3  \n",
       "1            55.134123        0.076039                 649.0   CC_CARB_rpra_13  \n",
       "2            89.323884        0.259117                 592.0   CC_CARB_rpra_50  \n",
       "3            74.410709        0.153993                 702.0   CC_CARB_rpra_63  \n",
       "4            77.935979        0.142795                 690.0  CC_CARB_rpra_130  \n",
       "\n",
       "[5 rows x 390 columns]"
      ]
     },
     "execution_count": 8,
     "metadata": {},
     "output_type": "execute_result"
    }
   ],
   "source": [
    "df = mt_rainier.copy()\n",
    "df.dropna(inplace=True)\n",
    "df.head()"
   ]
  },
  {
   "cell_type": "code",
   "execution_count": 10,
   "metadata": {},
   "outputs": [],
   "source": [
    "# df.dropna(axis=1, inplace=True)\n",
    "df.drop(['template'], axis=1, inplace=True)\n"
   ]
  },
  {
   "cell_type": "code",
   "execution_count": 11,
   "metadata": {},
   "outputs": [
    {
     "data": {
      "text/plain": [
       "False"
      ]
     },
     "execution_count": 11,
     "metadata": {},
     "output_type": "execute_result"
    }
   ],
   "source": [
    "df.isna().sum().any()   "
   ]
  },
  {
   "cell_type": "code",
   "execution_count": null,
   "metadata": {},
   "outputs": [],
   "source": [
    "df.corr().style.background_gradient(cmap='coolwarm')"
   ]
  },
  {
   "cell_type": "markdown",
   "metadata": {},
   "source": [
    "Are some of the features log-normal? Log-normal features will be wrongly scaled for a euclidian distance.\n",
    "\n",
    "We will select the features of high skewness."
   ]
  },
  {
   "cell_type": "code",
   "execution_count": 12,
   "metadata": {},
   "outputs": [],
   "source": [
    "\n",
    "# Step 1: Calculate skewness for each feature\n",
    "skewness = df.apply(lambda x: x.skew())\n",
    "\n",
    "# Step 2: Identify features with high positive skewness (right-skewed)\n",
    "log_normal_features = skewness[skewness > 1.0].index.tolist()\n"
   ]
  },
  {
   "cell_type": "code",
   "execution_count": 13,
   "metadata": {},
   "outputs": [
    {
     "name": "stdout",
     "output_type": "stream",
     "text": [
      "315\n",
      "389\n"
     ]
    }
   ],
   "source": [
    "print(len(log_normal_features))\n",
    "print(len(df.keys()))"
   ]
  },
  {
   "cell_type": "markdown",
   "metadata": {},
   "source": [
    "Most features are log normal. OK transform all log-normal features.\n"
   ]
  },
  {
   "cell_type": "code",
   "execution_count": 23,
   "metadata": {},
   "outputs": [
    {
     "name": "stderr",
     "output_type": "stream",
     "text": [
      "/Users/marinedenolle/opt/miniconda3/envs/mlgeo/lib/python3.9/site-packages/pandas/core/internals/blocks.py:366: RuntimeWarning: divide by zero encountered in log\n",
      "  result = func(self.values, **kwargs)\n",
      "/Users/marinedenolle/opt/miniconda3/envs/mlgeo/lib/python3.9/site-packages/pandas/core/internals/blocks.py:366: RuntimeWarning: invalid value encountered in log\n",
      "  result = func(self.values, **kwargs)\n"
     ]
    },
    {
     "data": {
      "text/plain": [
       "False"
      ]
     },
     "execution_count": 23,
     "metadata": {},
     "output_type": "execute_result"
    }
   ],
   "source": [
    "df_log = df.copy()\n",
    "df_log[log_normal_features] = np.log(df_log[log_normal_features]) # log transform the skewed features\n",
    "\n",
    "# drop the features with Nan, Inf, Zeros from the data frames.\n",
    "df_log.dropna(inplace=True,axis=1)\n",
    "df_log.replace([np.inf, -np.inf], np.nan, inplace=True)\n",
    "df_log.dropna(inplace=True,axis=1)\n",
    "df_log.replace(0, np.nan)\n",
    "df_log.dropna(inplace=True,axis=1)\n",
    "df_log.isna().sum().any()"
   ]
  },
  {
   "cell_type": "code",
   "execution_count": 24,
   "metadata": {},
   "outputs": [
    {
     "data": {
      "text/html": [
       "<div>\n",
       "<style scoped>\n",
       "    .dataframe tbody tr th:only-of-type {\n",
       "        vertical-align: middle;\n",
       "    }\n",
       "\n",
       "    .dataframe tbody tr th {\n",
       "        vertical-align: top;\n",
       "    }\n",
       "\n",
       "    .dataframe thead th {\n",
       "        text-align: right;\n",
       "    }\n",
       "</style>\n",
       "<table border=\"1\" class=\"dataframe\">\n",
       "  <thead>\n",
       "    <tr style=\"text-align: right;\">\n",
       "      <th></th>\n",
       "      <th>0_FFT mean coefficient_0</th>\n",
       "      <th>0_FFT mean coefficient_1</th>\n",
       "      <th>0_FFT mean coefficient_2</th>\n",
       "      <th>0_FFT mean coefficient_3</th>\n",
       "      <th>0_FFT mean coefficient_4</th>\n",
       "      <th>0_FFT mean coefficient_5</th>\n",
       "      <th>0_FFT mean coefficient_6</th>\n",
       "      <th>0_FFT mean coefficient_7</th>\n",
       "      <th>0_FFT mean coefficient_8</th>\n",
       "      <th>0_FFT mean coefficient_9</th>\n",
       "      <th>...</th>\n",
       "      <th>0_Median diff</th>\n",
       "      <th>0_Negative turning points</th>\n",
       "      <th>0_Neighbourhood peaks</th>\n",
       "      <th>0_Peak to peak distance</th>\n",
       "      <th>0_Positive turning points</th>\n",
       "      <th>0_Signal distance</th>\n",
       "      <th>0_Slope</th>\n",
       "      <th>0_Sum absolute diff</th>\n",
       "      <th>0_Total energy</th>\n",
       "      <th>0_Zero crossing rate</th>\n",
       "    </tr>\n",
       "  </thead>\n",
       "  <tbody>\n",
       "    <tr>\n",
       "      <th>count</th>\n",
       "      <td>6515.000000</td>\n",
       "      <td>6515.000000</td>\n",
       "      <td>6515.000000</td>\n",
       "      <td>6515.000000</td>\n",
       "      <td>6515.000000</td>\n",
       "      <td>6515.000000</td>\n",
       "      <td>6515.000000</td>\n",
       "      <td>6515.000000</td>\n",
       "      <td>6515.000000</td>\n",
       "      <td>6515.000000</td>\n",
       "      <td>...</td>\n",
       "      <td>6515.000000</td>\n",
       "      <td>6515.000000</td>\n",
       "      <td>6515.000000</td>\n",
       "      <td>6515.000000</td>\n",
       "      <td>6515.000000</td>\n",
       "      <td>6515.000000</td>\n",
       "      <td>6.515000e+03</td>\n",
       "      <td>6515.000000</td>\n",
       "      <td>6515.000000</td>\n",
       "      <td>6515.000000</td>\n",
       "    </tr>\n",
       "    <tr>\n",
       "      <th>mean</th>\n",
       "      <td>-12.743238</td>\n",
       "      <td>-15.345523</td>\n",
       "      <td>-14.575970</td>\n",
       "      <td>-13.769526</td>\n",
       "      <td>-13.173658</td>\n",
       "      <td>-12.478220</td>\n",
       "      <td>-11.719486</td>\n",
       "      <td>-10.974422</td>\n",
       "      <td>-10.340000</td>\n",
       "      <td>-9.763446</td>\n",
       "      <td>...</td>\n",
       "      <td>0.000023</td>\n",
       "      <td>594.792939</td>\n",
       "      <td>157.297160</td>\n",
       "      <td>1.526802</td>\n",
       "      <td>594.794014</td>\n",
       "      <td>8.167996</td>\n",
       "      <td>-1.254934e-09</td>\n",
       "      <td>4.586574</td>\n",
       "      <td>-1.415198</td>\n",
       "      <td>787.147199</td>\n",
       "    </tr>\n",
       "    <tr>\n",
       "      <th>std</th>\n",
       "      <td>1.642272</td>\n",
       "      <td>1.974336</td>\n",
       "      <td>2.407802</td>\n",
       "      <td>2.716968</td>\n",
       "      <td>2.816512</td>\n",
       "      <td>2.794359</td>\n",
       "      <td>2.694302</td>\n",
       "      <td>2.591389</td>\n",
       "      <td>2.454974</td>\n",
       "      <td>2.316831</td>\n",
       "      <td>...</td>\n",
       "      <td>0.000459</td>\n",
       "      <td>95.827043</td>\n",
       "      <td>12.081627</td>\n",
       "      <td>0.318528</td>\n",
       "      <td>95.828254</td>\n",
       "      <td>0.001386</td>\n",
       "      <td>1.443374e-07</td>\n",
       "      <td>0.531384</td>\n",
       "      <td>0.714317</td>\n",
       "      <td>194.687814</td>\n",
       "    </tr>\n",
       "    <tr>\n",
       "      <th>min</th>\n",
       "      <td>-20.100126</td>\n",
       "      <td>-23.137120</td>\n",
       "      <td>-23.160586</td>\n",
       "      <td>-23.344524</td>\n",
       "      <td>-22.848641</td>\n",
       "      <td>-21.899463</td>\n",
       "      <td>-21.149857</td>\n",
       "      <td>-20.166389</td>\n",
       "      <td>-19.521439</td>\n",
       "      <td>-18.201534</td>\n",
       "      <td>...</td>\n",
       "      <td>-0.003633</td>\n",
       "      <td>161.000000</td>\n",
       "      <td>55.000000</td>\n",
       "      <td>0.158674</td>\n",
       "      <td>162.000000</td>\n",
       "      <td>8.166245</td>\n",
       "      <td>-1.285112e-06</td>\n",
       "      <td>2.253204</td>\n",
       "      <td>-4.577387</td>\n",
       "      <td>222.000000</td>\n",
       "    </tr>\n",
       "    <tr>\n",
       "      <th>25%</th>\n",
       "      <td>-13.770824</td>\n",
       "      <td>-16.630117</td>\n",
       "      <td>-16.223526</td>\n",
       "      <td>-15.707866</td>\n",
       "      <td>-15.180335</td>\n",
       "      <td>-14.421095</td>\n",
       "      <td>-13.517429</td>\n",
       "      <td>-12.685546</td>\n",
       "      <td>-11.970570</td>\n",
       "      <td>-11.287977</td>\n",
       "      <td>...</td>\n",
       "      <td>-0.000165</td>\n",
       "      <td>522.000000</td>\n",
       "      <td>151.000000</td>\n",
       "      <td>1.352103</td>\n",
       "      <td>522.000000</td>\n",
       "      <td>8.167111</td>\n",
       "      <td>-4.884986e-08</td>\n",
       "      <td>4.229505</td>\n",
       "      <td>-1.893760</td>\n",
       "      <td>655.000000</td>\n",
       "    </tr>\n",
       "    <tr>\n",
       "      <th>50%</th>\n",
       "      <td>-12.617677</td>\n",
       "      <td>-15.327039</td>\n",
       "      <td>-14.650262</td>\n",
       "      <td>-13.697725</td>\n",
       "      <td>-12.969886</td>\n",
       "      <td>-12.277096</td>\n",
       "      <td>-11.527056</td>\n",
       "      <td>-10.816658</td>\n",
       "      <td>-10.160007</td>\n",
       "      <td>-9.600791</td>\n",
       "      <td>...</td>\n",
       "      <td>0.000010</td>\n",
       "      <td>592.000000</td>\n",
       "      <td>159.000000</td>\n",
       "      <td>1.615972</td>\n",
       "      <td>592.000000</td>\n",
       "      <td>8.167638</td>\n",
       "      <td>-4.580292e-10</td>\n",
       "      <td>4.617336</td>\n",
       "      <td>-1.395466</td>\n",
       "      <td>750.000000</td>\n",
       "    </tr>\n",
       "    <tr>\n",
       "      <th>75%</th>\n",
       "      <td>-11.561515</td>\n",
       "      <td>-14.035635</td>\n",
       "      <td>-12.821313</td>\n",
       "      <td>-11.730923</td>\n",
       "      <td>-11.036123</td>\n",
       "      <td>-10.343348</td>\n",
       "      <td>-9.677674</td>\n",
       "      <td>-9.027681</td>\n",
       "      <td>-8.513231</td>\n",
       "      <td>-8.011934</td>\n",
       "      <td>...</td>\n",
       "      <td>0.000198</td>\n",
       "      <td>663.000000</td>\n",
       "      <td>166.000000</td>\n",
       "      <td>1.767834</td>\n",
       "      <td>663.000000</td>\n",
       "      <td>8.168442</td>\n",
       "      <td>4.942604e-08</td>\n",
       "      <td>4.972158</td>\n",
       "      <td>-0.914413</td>\n",
       "      <td>901.000000</td>\n",
       "    </tr>\n",
       "    <tr>\n",
       "      <th>max</th>\n",
       "      <td>-8.316038</td>\n",
       "      <td>-7.938689</td>\n",
       "      <td>-7.152044</td>\n",
       "      <td>-6.941554</td>\n",
       "      <td>-6.557002</td>\n",
       "      <td>-5.785443</td>\n",
       "      <td>-4.892830</td>\n",
       "      <td>-4.118747</td>\n",
       "      <td>-4.499866</td>\n",
       "      <td>-4.279980</td>\n",
       "      <td>...</td>\n",
       "      <td>0.003976</td>\n",
       "      <td>1062.000000</td>\n",
       "      <td>208.000000</td>\n",
       "      <td>1.996956</td>\n",
       "      <td>1062.000000</td>\n",
       "      <td>8.180609</td>\n",
       "      <td>1.159162e-06</td>\n",
       "      <td>6.074296</td>\n",
       "      <td>0.849753</td>\n",
       "      <td>1690.000000</td>\n",
       "    </tr>\n",
       "  </tbody>\n",
       "</table>\n",
       "<p>8 rows × 376 columns</p>\n",
       "</div>"
      ],
      "text/plain": [
       "       0_FFT mean coefficient_0  0_FFT mean coefficient_1  \\\n",
       "count               6515.000000               6515.000000   \n",
       "mean                 -12.743238                -15.345523   \n",
       "std                    1.642272                  1.974336   \n",
       "min                  -20.100126                -23.137120   \n",
       "25%                  -13.770824                -16.630117   \n",
       "50%                  -12.617677                -15.327039   \n",
       "75%                  -11.561515                -14.035635   \n",
       "max                   -8.316038                 -7.938689   \n",
       "\n",
       "       0_FFT mean coefficient_2  0_FFT mean coefficient_3  \\\n",
       "count               6515.000000               6515.000000   \n",
       "mean                 -14.575970                -13.769526   \n",
       "std                    2.407802                  2.716968   \n",
       "min                  -23.160586                -23.344524   \n",
       "25%                  -16.223526                -15.707866   \n",
       "50%                  -14.650262                -13.697725   \n",
       "75%                  -12.821313                -11.730923   \n",
       "max                   -7.152044                 -6.941554   \n",
       "\n",
       "       0_FFT mean coefficient_4  0_FFT mean coefficient_5  \\\n",
       "count               6515.000000               6515.000000   \n",
       "mean                 -13.173658                -12.478220   \n",
       "std                    2.816512                  2.794359   \n",
       "min                  -22.848641                -21.899463   \n",
       "25%                  -15.180335                -14.421095   \n",
       "50%                  -12.969886                -12.277096   \n",
       "75%                  -11.036123                -10.343348   \n",
       "max                   -6.557002                 -5.785443   \n",
       "\n",
       "       0_FFT mean coefficient_6  0_FFT mean coefficient_7  \\\n",
       "count               6515.000000               6515.000000   \n",
       "mean                 -11.719486                -10.974422   \n",
       "std                    2.694302                  2.591389   \n",
       "min                  -21.149857                -20.166389   \n",
       "25%                  -13.517429                -12.685546   \n",
       "50%                  -11.527056                -10.816658   \n",
       "75%                   -9.677674                 -9.027681   \n",
       "max                   -4.892830                 -4.118747   \n",
       "\n",
       "       0_FFT mean coefficient_8  0_FFT mean coefficient_9  ...  0_Median diff  \\\n",
       "count               6515.000000               6515.000000  ...    6515.000000   \n",
       "mean                 -10.340000                 -9.763446  ...       0.000023   \n",
       "std                    2.454974                  2.316831  ...       0.000459   \n",
       "min                  -19.521439                -18.201534  ...      -0.003633   \n",
       "25%                  -11.970570                -11.287977  ...      -0.000165   \n",
       "50%                  -10.160007                 -9.600791  ...       0.000010   \n",
       "75%                   -8.513231                 -8.011934  ...       0.000198   \n",
       "max                   -4.499866                 -4.279980  ...       0.003976   \n",
       "\n",
       "       0_Negative turning points  0_Neighbourhood peaks  \\\n",
       "count                6515.000000            6515.000000   \n",
       "mean                  594.792939             157.297160   \n",
       "std                    95.827043              12.081627   \n",
       "min                   161.000000              55.000000   \n",
       "25%                   522.000000             151.000000   \n",
       "50%                   592.000000             159.000000   \n",
       "75%                   663.000000             166.000000   \n",
       "max                  1062.000000             208.000000   \n",
       "\n",
       "       0_Peak to peak distance  0_Positive turning points  0_Signal distance  \\\n",
       "count              6515.000000                6515.000000        6515.000000   \n",
       "mean                  1.526802                 594.794014           8.167996   \n",
       "std                   0.318528                  95.828254           0.001386   \n",
       "min                   0.158674                 162.000000           8.166245   \n",
       "25%                   1.352103                 522.000000           8.167111   \n",
       "50%                   1.615972                 592.000000           8.167638   \n",
       "75%                   1.767834                 663.000000           8.168442   \n",
       "max                   1.996956                1062.000000           8.180609   \n",
       "\n",
       "            0_Slope  0_Sum absolute diff  0_Total energy  0_Zero crossing rate  \n",
       "count  6.515000e+03          6515.000000     6515.000000           6515.000000  \n",
       "mean  -1.254934e-09             4.586574       -1.415198            787.147199  \n",
       "std    1.443374e-07             0.531384        0.714317            194.687814  \n",
       "min   -1.285112e-06             2.253204       -4.577387            222.000000  \n",
       "25%   -4.884986e-08             4.229505       -1.893760            655.000000  \n",
       "50%   -4.580292e-10             4.617336       -1.395466            750.000000  \n",
       "75%    4.942604e-08             4.972158       -0.914413            901.000000  \n",
       "max    1.159162e-06             6.074296        0.849753           1690.000000  \n",
       "\n",
       "[8 rows x 376 columns]"
      ]
     },
     "execution_count": 24,
     "metadata": {},
     "output_type": "execute_result"
    }
   ],
   "source": [
    "df_log.describe()"
   ]
  },
  {
   "cell_type": "markdown",
   "metadata": {},
   "source": [
    "Here we notice that the features have extremely different values. It seems difficult to continue with normal kmeans because the Euclidian distance will be inadequate."
   ]
  },
  {
   "cell_type": "markdown",
   "metadata": {},
   "source": [
    "Let's try some standard scaling first"
   ]
  },
  {
   "cell_type": "code",
   "execution_count": 25,
   "metadata": {},
   "outputs": [],
   "source": [
    "# scaler = preprocessing.StandardScaler().fit(X_pca)\n",
    "# Initialize the StandardScaler\n",
    "scaler = StandardScaler()\n",
    "# Fit and transform the DataFrame using StandardScaler\n",
    "df_log_scaled = pd.DataFrame(scaler.fit_transform(df_log), columns=df_log.columns)\n",
    "X_scaled = df_log_scaled.to_numpy()"
   ]
  },
  {
   "attachments": {},
   "cell_type": "markdown",
   "metadata": {},
   "source": [
    "## 3. K-means"
   ]
  },
  {
   "cell_type": "code",
   "execution_count": 33,
   "metadata": {},
   "outputs": [
    {
     "name": "stderr",
     "output_type": "stream",
     "text": [
      "/Users/marinedenolle/opt/miniconda3/envs/mlgeo/lib/python3.9/site-packages/sklearn/cluster/_kmeans.py:1416: FutureWarning: The default value of `n_init` will change from 10 to 'auto' in 1.4. Set the value of `n_init` explicitly to suppress the warning\n",
      "  super()._check_params_vs_input(X, default_n_init=10)\n"
     ]
    },
    {
     "name": "stdout",
     "output_type": "stream",
     "text": [
      "Silhouette score for 4 clusters: 0.529\n"
     ]
    }
   ],
   "source": [
    "# Example on original data with silhouette score\n",
    "X = df.to_numpy()\n",
    "ncluster=4\n",
    "kmeans_model = KMeans(n_clusters=ncluster, random_state=1).fit(X)\n",
    "labels = kmeans_model.labels_\n",
    "sc=silhouette_score(X, labels, metric='euclidean')\n",
    "print(f\"Silhouette score for {ncluster} clusters: {sc:.3f}\")"
   ]
  },
  {
   "cell_type": "markdown",
   "metadata": {},
   "source": [
    "Example on log-transformed data with silhouette score"
   ]
  },
  {
   "cell_type": "code",
   "execution_count": 32,
   "metadata": {},
   "outputs": [
    {
     "name": "stderr",
     "output_type": "stream",
     "text": [
      "/Users/marinedenolle/opt/miniconda3/envs/mlgeo/lib/python3.9/site-packages/sklearn/cluster/_kmeans.py:1416: FutureWarning: The default value of `n_init` will change from 10 to 'auto' in 1.4. Set the value of `n_init` explicitly to suppress the warning\n",
      "  super()._check_params_vs_input(X, default_n_init=10)\n"
     ]
    },
    {
     "name": "stdout",
     "output_type": "stream",
     "text": [
      "Silhouette score for 4 clusters: 0.529\n"
     ]
    }
   ],
   "source": [
    "X = df_log.to_numpy()\n",
    "ncluster=4\n",
    "kmeans_model = KMeans(n_clusters=ncluster, random_state=1).fit(X)\n",
    "labels = kmeans_model.labels_\n",
    "sc=silhouette_score(X, labels, metric='euclidean')\n",
    "print(f\"Silhouette score for {ncluster} clusters: {sc:.3f}\")"
   ]
  },
  {
   "cell_type": "code",
   "execution_count": 34,
   "metadata": {},
   "outputs": [
    {
     "name": "stderr",
     "output_type": "stream",
     "text": [
      "/Users/marinedenolle/opt/miniconda3/envs/mlgeo/lib/python3.9/site-packages/sklearn/cluster/_kmeans.py:1416: FutureWarning: The default value of `n_init` will change from 10 to 'auto' in 1.4. Set the value of `n_init` explicitly to suppress the warning\n",
      "  super()._check_params_vs_input(X, default_n_init=10)\n"
     ]
    },
    {
     "name": "stdout",
     "output_type": "stream",
     "text": [
      "For n_clusters = 4, the average silhouette_score is : 0.529\n"
     ]
    },
    {
     "data": {
      "text/plain": [
       "Text(0.5, 0.98, 'Silhouette analysis for KMeans clustering on sample data with n_clusters = 4')"
      ]
     },
     "execution_count": 34,
     "metadata": {},
     "output_type": "execute_result"
    },
    {
     "data": {
      "image/png": "[encoded data removed]",
      "text/plain": [
       "<Figure size 700x700 with 1 Axes>"
      ]
     },
     "metadata": {},
     "output_type": "display_data"
    }
   ],
   "source": [
    "ncluster=4\n",
    "import matplotlib.cm as cm\n",
    "fig, (ax1) = plt.subplots(1, 1)\n",
    "fig.set_size_inches(7, 7)\n",
    "ax1.set_xlim([-0.1, 1])\n",
    "# The (n_clusters+1)*10 is for inserting blank space between silhouette\n",
    "# plots of individual clusters, to demarcate them clearly.\n",
    "ax1.set_ylim([0, len(X) + (ncluster + 1) * 10])\n",
    "\n",
    "# Initialize the clusterer with n_clusters value and a random generator\n",
    "# seed of 10 for reproducibility.\n",
    "clusterer = KMeans(n_clusters=ncluster, random_state=10)\n",
    "cluster_labels = clusterer.fit_predict(X)\n",
    "\n",
    "# The silhouette_score gives the average value for all the samples.\n",
    "# This gives a perspective into the density and separation of the formed\n",
    "# clusters\n",
    "silhouette_avg = silhouette_score(X, cluster_labels)\n",
    "print(f\"For n_clusters = {ncluster}, the average silhouette_score is : {silhouette_avg:.3f}\")\n",
    "\n",
    "# Compute the silhouette scores for each sample\n",
    "sample_silhouette_values = silhouette_samples(X, cluster_labels)\n",
    "\n",
    "y_lower = 10\n",
    "for i in range(ncluster):\n",
    "    # Aggregate the silhouette scores for samples belonging to\n",
    "    # cluster i, and sort them\n",
    "    ith_cluster_silhouette_values = sample_silhouette_values[cluster_labels == i]\n",
    "\n",
    "    ith_cluster_silhouette_values.sort()\n",
    "\n",
    "    size_cluster_i = ith_cluster_silhouette_values.shape[0]\n",
    "    y_upper = y_lower + size_cluster_i\n",
    "\n",
    "    color = cm.nipy_spectral(float(i) / ncluster)\n",
    "    ax1.fill_betweenx(\n",
    "        np.arange(y_lower, y_upper),\n",
    "        0,\n",
    "        ith_cluster_silhouette_values,\n",
    "        facecolor=color,\n",
    "        edgecolor=color,\n",
    "        alpha=0.7,\n",
    "    )\n",
    "\n",
    "    # Label the silhouette plots with their cluster numbers at the middle\n",
    "    ax1.text(-0.05, y_lower + 0.5 * size_cluster_i, str(i))\n",
    "\n",
    "    # Compute the new y_lower for next plot\n",
    "    y_lower = y_upper + 10  # 10 for the 0 samples\n",
    "\n",
    "ax1.set_title(\"The silhouette plot for the various clusters.\")\n",
    "ax1.set_xlabel(\"The silhouette coefficient values\")\n",
    "ax1.set_ylabel(\"Cluster label\")\n",
    "\n",
    "# The vertical line for average silhouette score of all the values\n",
    "ax1.axvline(x=silhouette_avg, color=\"red\", linestyle=\"--\")\n",
    "ax1.set_yticks([])  # Clear the yaxis labels / ticks\n",
    "ax1.set_xticks([-0.1, 0, 0.2, 0.4, 0.6, 0.8, 1])\n",
    "plt.suptitle(\n",
    "    \"Silhouette analysis for KMeans clustering on sample data with n_clusters = %d\"\n",
    "    % ncluster,\n",
    "    fontsize=14,\n",
    "    fontweight=\"bold\",\n",
    ")\n",
    "\n"
   ]
  },
  {
   "cell_type": "code",
   "execution_count": 35,
   "metadata": {},
   "outputs": [
    {
     "ename": "NameError",
     "evalue": "name 'clusterID' is not defined",
     "output_type": "error",
     "traceback": [
      "\u001b[0;31m---------------------------------------------------------------------------\u001b[0m",
      "\u001b[0;31mNameError\u001b[0m                                 Traceback (most recent call last)",
      "\u001b[1;32m/Users/marinedenolle/GitHub/surface_events/src/Clustering_Mt_Rainier.ipynb Cell 24\u001b[0m line \u001b[0;36m1\n\u001b[0;32m----> <a href='vscode-notebook-cell:/Users/marinedenolle/GitHub/surface_events/src/Clustering_Mt_Rainier.ipynb#X25sZmlsZQ%3D%3D?line=0'>1</a>\u001b[0m mt_rainier[\u001b[39m'\u001b[39m\u001b[39mclusterID\u001b[39m\u001b[39m'\u001b[39m] \u001b[39m=\u001b[39m clusterID\n\u001b[1;32m      <a href='vscode-notebook-cell:/Users/marinedenolle/GitHub/surface_events/src/Clustering_Mt_Rainier.ipynb#X25sZmlsZQ%3D%3D?line=1'>2</a>\u001b[0m mt_rainier\u001b[39m.\u001b[39mto_csv(\u001b[39m'\u001b[39m\u001b[39m../data/Rainier_tsfel_features_clustered_kmeans.csv\u001b[39m\u001b[39m'\u001b[39m)\n",
      "\u001b[0;31mNameError\u001b[0m: name 'clusterID' is not defined"
     ]
    }
   ],
   "source": [
    "mt_rainier['clusterID'] = clusterID\n",
    "mt_rainier.to_csv('../data/Rainier_tsfel_features_clustered_kmeans.csv')"
   ]
  },
  {
   "cell_type": "markdown",
   "metadata": {},
   "source": [
    "### 3. Choice of number of clusters: The Elbow Method\n"
   ]
  },
  {
   "cell_type": "markdown",
   "metadata": {},
   "source": [
    "Compute the value of E for different values of the number of clusters"
   ]
  },
  {
   "cell_type": "code",
   "execution_count": 54,
   "metadata": {},
   "outputs": [
    {
     "name": "stderr",
     "output_type": "stream",
     "text": [
      "/Users/marinedenolle/opt/miniconda3/envs/mlgeo/lib/python3.9/site-packages/sklearn/cluster/_kmeans.py:1416: FutureWarning: The default value of `n_init` will change from 10 to 'auto' in 1.4. Set the value of `n_init` explicitly to suppress the warning\n",
      "  super()._check_params_vs_input(X, default_n_init=10)\n",
      "/Users/marinedenolle/opt/miniconda3/envs/mlgeo/lib/python3.9/site-packages/sklearn/cluster/_kmeans.py:1416: FutureWarning: The default value of `n_init` will change from 10 to 'auto' in 1.4. Set the value of `n_init` explicitly to suppress the warning\n",
      "  super()._check_params_vs_input(X, default_n_init=10)\n"
     ]
    },
    {
     "name": "stdout",
     "output_type": "stream",
     "text": [
      "For n_clusters = 2, the average silhouette_score is : 0.200\n"
     ]
    },
    {
     "name": "stderr",
     "output_type": "stream",
     "text": [
      "/Users/marinedenolle/opt/miniconda3/envs/mlgeo/lib/python3.9/site-packages/sklearn/cluster/_kmeans.py:1416: FutureWarning: The default value of `n_init` will change from 10 to 'auto' in 1.4. Set the value of `n_init` explicitly to suppress the warning\n",
      "  super()._check_params_vs_input(X, default_n_init=10)\n"
     ]
    },
    {
     "name": "stdout",
     "output_type": "stream",
     "text": [
      "For n_clusters = 3, the average silhouette_score is : 0.172\n"
     ]
    },
    {
     "name": "stderr",
     "output_type": "stream",
     "text": [
      "/Users/marinedenolle/opt/miniconda3/envs/mlgeo/lib/python3.9/site-packages/sklearn/cluster/_kmeans.py:1416: FutureWarning: The default value of `n_init` will change from 10 to 'auto' in 1.4. Set the value of `n_init` explicitly to suppress the warning\n",
      "  super()._check_params_vs_input(X, default_n_init=10)\n"
     ]
    },
    {
     "name": "stdout",
     "output_type": "stream",
     "text": [
      "For n_clusters = 4, the average silhouette_score is : 0.160\n"
     ]
    },
    {
     "name": "stderr",
     "output_type": "stream",
     "text": [
      "/Users/marinedenolle/opt/miniconda3/envs/mlgeo/lib/python3.9/site-packages/sklearn/cluster/_kmeans.py:1416: FutureWarning: The default value of `n_init` will change from 10 to 'auto' in 1.4. Set the value of `n_init` explicitly to suppress the warning\n",
      "  super()._check_params_vs_input(X, default_n_init=10)\n"
     ]
    },
    {
     "name": "stdout",
     "output_type": "stream",
     "text": [
      "For n_clusters = 5, the average silhouette_score is : 0.156\n"
     ]
    },
    {
     "name": "stderr",
     "output_type": "stream",
     "text": [
      "/Users/marinedenolle/opt/miniconda3/envs/mlgeo/lib/python3.9/site-packages/sklearn/cluster/_kmeans.py:1416: FutureWarning: The default value of `n_init` will change from 10 to 'auto' in 1.4. Set the value of `n_init` explicitly to suppress the warning\n",
      "  super()._check_params_vs_input(X, default_n_init=10)\n"
     ]
    },
    {
     "name": "stdout",
     "output_type": "stream",
     "text": [
      "For n_clusters = 6, the average silhouette_score is : 0.156\n"
     ]
    },
    {
     "name": "stderr",
     "output_type": "stream",
     "text": [
      "/Users/marinedenolle/opt/miniconda3/envs/mlgeo/lib/python3.9/site-packages/sklearn/cluster/_kmeans.py:1416: FutureWarning: The default value of `n_init` will change from 10 to 'auto' in 1.4. Set the value of `n_init` explicitly to suppress the warning\n",
      "  super()._check_params_vs_input(X, default_n_init=10)\n"
     ]
    },
    {
     "name": "stdout",
     "output_type": "stream",
     "text": [
      "For n_clusters = 7, the average silhouette_score is : 0.142\n"
     ]
    },
    {
     "name": "stderr",
     "output_type": "stream",
     "text": [
      "/Users/marinedenolle/opt/miniconda3/envs/mlgeo/lib/python3.9/site-packages/sklearn/cluster/_kmeans.py:1416: FutureWarning: The default value of `n_init` will change from 10 to 'auto' in 1.4. Set the value of `n_init` explicitly to suppress the warning\n",
      "  super()._check_params_vs_input(X, default_n_init=10)\n"
     ]
    },
    {
     "name": "stdout",
     "output_type": "stream",
     "text": [
      "For n_clusters = 8, the average silhouette_score is : 0.131\n"
     ]
    },
    {
     "name": "stderr",
     "output_type": "stream",
     "text": [
      "/Users/marinedenolle/opt/miniconda3/envs/mlgeo/lib/python3.9/site-packages/sklearn/cluster/_kmeans.py:1416: FutureWarning: The default value of `n_init` will change from 10 to 'auto' in 1.4. Set the value of `n_init` explicitly to suppress the warning\n",
      "  super()._check_params_vs_input(X, default_n_init=10)\n"
     ]
    },
    {
     "name": "stdout",
     "output_type": "stream",
     "text": [
      "For n_clusters = 9, the average silhouette_score is : 0.121\n"
     ]
    },
    {
     "name": "stderr",
     "output_type": "stream",
     "text": [
      "/Users/marinedenolle/opt/miniconda3/envs/mlgeo/lib/python3.9/site-packages/sklearn/cluster/_kmeans.py:1416: FutureWarning: The default value of `n_init` will change from 10 to 'auto' in 1.4. Set the value of `n_init` explicitly to suppress the warning\n",
      "  super()._check_params_vs_input(X, default_n_init=10)\n"
     ]
    },
    {
     "name": "stdout",
     "output_type": "stream",
     "text": [
      "For n_clusters = 10, the average silhouette_score is : 0.113\n"
     ]
    },
    {
     "data": {
      "image/png": "[encoded data removed]",
      "text/plain": [
       "<Figure size 1200x400 with 2 Axes>"
      ]
     },
     "metadata": {},
     "output_type": "display_data"
    }
   ],
   "source": [
    "X = df_log_scaled.to_numpy()\n",
    "# Elbow method  \n",
    "inertia = []\n",
    "silhouette_avg=[]\n",
    "for k in range(1, 11):\n",
    "    kmeans = KMeans(n_clusters=k, random_state=42)\n",
    "    kmeans.fit(X)\n",
    "    cluster_labels = kmeans.labels_\n",
    "    inertia.append(kmeans.inertia_)\n",
    "    if k>=2:\n",
    "        silhouette_avg.append(silhouette_score(X, cluster_labels))\n",
    "        print(f\"For n_clusters = {k}, the average silhouette_score is : {silhouette_avg[-1]:.3f}\")\n",
    "\n",
    "\n",
    "fig, ax = plt.subplots(1, 2, figsize=(12, 4))\n",
    "ax[0].plot(range(1, 11), inertia, marker='o')\n",
    "ax[0].set_title('Elbow Curve for KMeans - log-scaled data')\n",
    "ax[0].set_xlabel('Number of Clusters (k)')\n",
    "ax[0].set_ylabel('Inertia')\n",
    "ax[1].plot(range(2, 11), silhouette_avg, marker='o')\n",
    "ax[1].set_title('Silhouette Curve for KMeans - log-scaled data')\n",
    "ax[1].set_xlabel('Number of Clusters (k)')\n",
    "ax[1].set_ylabel('Silhouette Score')\n",
    "plt.show()"
   ]
  },
  {
   "cell_type": "code",
   "execution_count": 55,
   "metadata": {},
   "outputs": [
    {
     "name": "stderr",
     "output_type": "stream",
     "text": [
      "/Users/marinedenolle/opt/miniconda3/envs/mlgeo/lib/python3.9/site-packages/sklearn/cluster/_kmeans.py:1416: FutureWarning: The default value of `n_init` will change from 10 to 'auto' in 1.4. Set the value of `n_init` explicitly to suppress the warning\n",
      "  super()._check_params_vs_input(X, default_n_init=10)\n",
      "/Users/marinedenolle/opt/miniconda3/envs/mlgeo/lib/python3.9/site-packages/sklearn/cluster/_kmeans.py:1416: FutureWarning: The default value of `n_init` will change from 10 to 'auto' in 1.4. Set the value of `n_init` explicitly to suppress the warning\n",
      "  super()._check_params_vs_input(X, default_n_init=10)\n"
     ]
    },
    {
     "name": "stdout",
     "output_type": "stream",
     "text": [
      "For n_clusters = 2, the average silhouette_score is : 0.581\n"
     ]
    },
    {
     "name": "stderr",
     "output_type": "stream",
     "text": [
      "/Users/marinedenolle/opt/miniconda3/envs/mlgeo/lib/python3.9/site-packages/sklearn/cluster/_kmeans.py:1416: FutureWarning: The default value of `n_init` will change from 10 to 'auto' in 1.4. Set the value of `n_init` explicitly to suppress the warning\n",
      "  super()._check_params_vs_input(X, default_n_init=10)\n"
     ]
    },
    {
     "name": "stdout",
     "output_type": "stream",
     "text": [
      "For n_clusters = 3, the average silhouette_score is : 0.545\n"
     ]
    },
    {
     "name": "stderr",
     "output_type": "stream",
     "text": [
      "/Users/marinedenolle/opt/miniconda3/envs/mlgeo/lib/python3.9/site-packages/sklearn/cluster/_kmeans.py:1416: FutureWarning: The default value of `n_init` will change from 10 to 'auto' in 1.4. Set the value of `n_init` explicitly to suppress the warning\n",
      "  super()._check_params_vs_input(X, default_n_init=10)\n"
     ]
    },
    {
     "name": "stdout",
     "output_type": "stream",
     "text": [
      "For n_clusters = 4, the average silhouette_score is : 0.529\n"
     ]
    },
    {
     "name": "stderr",
     "output_type": "stream",
     "text": [
      "/Users/marinedenolle/opt/miniconda3/envs/mlgeo/lib/python3.9/site-packages/sklearn/cluster/_kmeans.py:1416: FutureWarning: The default value of `n_init` will change from 10 to 'auto' in 1.4. Set the value of `n_init` explicitly to suppress the warning\n",
      "  super()._check_params_vs_input(X, default_n_init=10)\n"
     ]
    },
    {
     "name": "stdout",
     "output_type": "stream",
     "text": [
      "For n_clusters = 5, the average silhouette_score is : 0.534\n"
     ]
    },
    {
     "name": "stderr",
     "output_type": "stream",
     "text": [
      "/Users/marinedenolle/opt/miniconda3/envs/mlgeo/lib/python3.9/site-packages/sklearn/cluster/_kmeans.py:1416: FutureWarning: The default value of `n_init` will change from 10 to 'auto' in 1.4. Set the value of `n_init` explicitly to suppress the warning\n",
      "  super()._check_params_vs_input(X, default_n_init=10)\n"
     ]
    },
    {
     "name": "stdout",
     "output_type": "stream",
     "text": [
      "For n_clusters = 6, the average silhouette_score is : 0.525\n"
     ]
    },
    {
     "name": "stderr",
     "output_type": "stream",
     "text": [
      "/Users/marinedenolle/opt/miniconda3/envs/mlgeo/lib/python3.9/site-packages/sklearn/cluster/_kmeans.py:1416: FutureWarning: The default value of `n_init` will change from 10 to 'auto' in 1.4. Set the value of `n_init` explicitly to suppress the warning\n",
      "  super()._check_params_vs_input(X, default_n_init=10)\n"
     ]
    },
    {
     "name": "stdout",
     "output_type": "stream",
     "text": [
      "For n_clusters = 7, the average silhouette_score is : 0.526\n"
     ]
    },
    {
     "name": "stderr",
     "output_type": "stream",
     "text": [
      "/Users/marinedenolle/opt/miniconda3/envs/mlgeo/lib/python3.9/site-packages/sklearn/cluster/_kmeans.py:1416: FutureWarning: The default value of `n_init` will change from 10 to 'auto' in 1.4. Set the value of `n_init` explicitly to suppress the warning\n",
      "  super()._check_params_vs_input(X, default_n_init=10)\n"
     ]
    },
    {
     "name": "stdout",
     "output_type": "stream",
     "text": [
      "For n_clusters = 8, the average silhouette_score is : 0.526\n"
     ]
    },
    {
     "name": "stderr",
     "output_type": "stream",
     "text": [
      "/Users/marinedenolle/opt/miniconda3/envs/mlgeo/lib/python3.9/site-packages/sklearn/cluster/_kmeans.py:1416: FutureWarning: The default value of `n_init` will change from 10 to 'auto' in 1.4. Set the value of `n_init` explicitly to suppress the warning\n",
      "  super()._check_params_vs_input(X, default_n_init=10)\n"
     ]
    },
    {
     "name": "stdout",
     "output_type": "stream",
     "text": [
      "For n_clusters = 9, the average silhouette_score is : 0.530\n"
     ]
    },
    {
     "name": "stderr",
     "output_type": "stream",
     "text": [
      "/Users/marinedenolle/opt/miniconda3/envs/mlgeo/lib/python3.9/site-packages/sklearn/cluster/_kmeans.py:1416: FutureWarning: The default value of `n_init` will change from 10 to 'auto' in 1.4. Set the value of `n_init` explicitly to suppress the warning\n",
      "  super()._check_params_vs_input(X, default_n_init=10)\n"
     ]
    },
    {
     "name": "stdout",
     "output_type": "stream",
     "text": [
      "For n_clusters = 10, the average silhouette_score is : 0.524\n"
     ]
    },
    {
     "data": {
      "image/png": "[encoded data removed]",
      "text/plain": [
       "<Figure size 1200x400 with 2 Axes>"
      ]
     },
     "metadata": {},
     "output_type": "display_data"
    }
   ],
   "source": [
    "X = df_log.to_numpy()\n",
    "# Elbow method  \n",
    "inertia = []\n",
    "silhouette_avg=[]\n",
    "for k in range(1, 11):\n",
    "    kmeans = KMeans(n_clusters=k, random_state=42)\n",
    "    kmeans.fit(X)\n",
    "    cluster_labels = kmeans.labels_\n",
    "    inertia.append(kmeans.inertia_)\n",
    "    if k>=2:\n",
    "        silhouette_avg.append(silhouette_score(X, cluster_labels))\n",
    "        print(f\"For n_clusters = {k}, the average silhouette_score is : {silhouette_avg[-1]:.3f}\")\n",
    "\n",
    "\n",
    "fig, ax = plt.subplots(1, 2, figsize=(12, 4))\n",
    "ax[0].plot(range(1, 11), inertia, marker='o')\n",
    "ax[0].set_title('Elbow Curve for KMeans - log data')\n",
    "ax[0].set_xlabel('Number of Clusters (k)')\n",
    "ax[0].set_ylabel('Inertia')\n",
    "ax[1].plot(range(2, 11), silhouette_avg, marker='o')\n",
    "ax[1].set_title('Silhouette Curve for KMeans - log data')\n",
    "ax[1].set_xlabel('Number of Clusters (k)')\n",
    "ax[1].set_ylabel('Silhouette Score')\n",
    "plt.show()"
   ]
  },
  {
   "cell_type": "code",
   "execution_count": 56,
   "metadata": {},
   "outputs": [
    {
     "name": "stderr",
     "output_type": "stream",
     "text": [
      "/Users/marinedenolle/opt/miniconda3/envs/mlgeo/lib/python3.9/site-packages/sklearn/cluster/_kmeans.py:1416: FutureWarning: The default value of `n_init` will change from 10 to 'auto' in 1.4. Set the value of `n_init` explicitly to suppress the warning\n",
      "  super()._check_params_vs_input(X, default_n_init=10)\n",
      "/Users/marinedenolle/opt/miniconda3/envs/mlgeo/lib/python3.9/site-packages/sklearn/cluster/_kmeans.py:1416: FutureWarning: The default value of `n_init` will change from 10 to 'auto' in 1.4. Set the value of `n_init` explicitly to suppress the warning\n",
      "  super()._check_params_vs_input(X, default_n_init=10)\n"
     ]
    },
    {
     "name": "stdout",
     "output_type": "stream",
     "text": [
      "For n_clusters = 2, the average silhouette_score is : 0.581\n"
     ]
    },
    {
     "name": "stderr",
     "output_type": "stream",
     "text": [
      "/Users/marinedenolle/opt/miniconda3/envs/mlgeo/lib/python3.9/site-packages/sklearn/cluster/_kmeans.py:1416: FutureWarning: The default value of `n_init` will change from 10 to 'auto' in 1.4. Set the value of `n_init` explicitly to suppress the warning\n",
      "  super()._check_params_vs_input(X, default_n_init=10)\n"
     ]
    },
    {
     "name": "stdout",
     "output_type": "stream",
     "text": [
      "For n_clusters = 3, the average silhouette_score is : 0.545\n"
     ]
    },
    {
     "name": "stderr",
     "output_type": "stream",
     "text": [
      "/Users/marinedenolle/opt/miniconda3/envs/mlgeo/lib/python3.9/site-packages/sklearn/cluster/_kmeans.py:1416: FutureWarning: The default value of `n_init` will change from 10 to 'auto' in 1.4. Set the value of `n_init` explicitly to suppress the warning\n",
      "  super()._check_params_vs_input(X, default_n_init=10)\n"
     ]
    },
    {
     "name": "stdout",
     "output_type": "stream",
     "text": [
      "For n_clusters = 4, the average silhouette_score is : 0.529\n"
     ]
    },
    {
     "name": "stderr",
     "output_type": "stream",
     "text": [
      "/Users/marinedenolle/opt/miniconda3/envs/mlgeo/lib/python3.9/site-packages/sklearn/cluster/_kmeans.py:1416: FutureWarning: The default value of `n_init` will change from 10 to 'auto' in 1.4. Set the value of `n_init` explicitly to suppress the warning\n",
      "  super()._check_params_vs_input(X, default_n_init=10)\n"
     ]
    },
    {
     "name": "stdout",
     "output_type": "stream",
     "text": [
      "For n_clusters = 5, the average silhouette_score is : 0.534\n"
     ]
    },
    {
     "name": "stderr",
     "output_type": "stream",
     "text": [
      "/Users/marinedenolle/opt/miniconda3/envs/mlgeo/lib/python3.9/site-packages/sklearn/cluster/_kmeans.py:1416: FutureWarning: The default value of `n_init` will change from 10 to 'auto' in 1.4. Set the value of `n_init` explicitly to suppress the warning\n",
      "  super()._check_params_vs_input(X, default_n_init=10)\n"
     ]
    },
    {
     "name": "stdout",
     "output_type": "stream",
     "text": [
      "For n_clusters = 6, the average silhouette_score is : 0.525\n"
     ]
    },
    {
     "name": "stderr",
     "output_type": "stream",
     "text": [
      "/Users/marinedenolle/opt/miniconda3/envs/mlgeo/lib/python3.9/site-packages/sklearn/cluster/_kmeans.py:1416: FutureWarning: The default value of `n_init` will change from 10 to 'auto' in 1.4. Set the value of `n_init` explicitly to suppress the warning\n",
      "  super()._check_params_vs_input(X, default_n_init=10)\n"
     ]
    },
    {
     "name": "stdout",
     "output_type": "stream",
     "text": [
      "For n_clusters = 7, the average silhouette_score is : 0.526\n"
     ]
    },
    {
     "name": "stderr",
     "output_type": "stream",
     "text": [
      "/Users/marinedenolle/opt/miniconda3/envs/mlgeo/lib/python3.9/site-packages/sklearn/cluster/_kmeans.py:1416: FutureWarning: The default value of `n_init` will change from 10 to 'auto' in 1.4. Set the value of `n_init` explicitly to suppress the warning\n",
      "  super()._check_params_vs_input(X, default_n_init=10)\n"
     ]
    },
    {
     "name": "stdout",
     "output_type": "stream",
     "text": [
      "For n_clusters = 8, the average silhouette_score is : 0.526\n"
     ]
    },
    {
     "name": "stderr",
     "output_type": "stream",
     "text": [
      "/Users/marinedenolle/opt/miniconda3/envs/mlgeo/lib/python3.9/site-packages/sklearn/cluster/_kmeans.py:1416: FutureWarning: The default value of `n_init` will change from 10 to 'auto' in 1.4. Set the value of `n_init` explicitly to suppress the warning\n",
      "  super()._check_params_vs_input(X, default_n_init=10)\n"
     ]
    },
    {
     "name": "stdout",
     "output_type": "stream",
     "text": [
      "For n_clusters = 9, the average silhouette_score is : 0.530\n"
     ]
    },
    {
     "name": "stderr",
     "output_type": "stream",
     "text": [
      "/Users/marinedenolle/opt/miniconda3/envs/mlgeo/lib/python3.9/site-packages/sklearn/cluster/_kmeans.py:1416: FutureWarning: The default value of `n_init` will change from 10 to 'auto' in 1.4. Set the value of `n_init` explicitly to suppress the warning\n",
      "  super()._check_params_vs_input(X, default_n_init=10)\n"
     ]
    },
    {
     "name": "stdout",
     "output_type": "stream",
     "text": [
      "For n_clusters = 10, the average silhouette_score is : 0.524\n"
     ]
    },
    {
     "data": {
      "image/png": "[encoded data removed]",
      "text/plain": [
       "<Figure size 1200x400 with 2 Axes>"
      ]
     },
     "metadata": {},
     "output_type": "display_data"
    }
   ],
   "source": [
    "X = df.to_numpy()\n",
    "# Elbow method  \n",
    "inertia = []\n",
    "silhouette_avg=[]\n",
    "for k in range(1, 11):\n",
    "    kmeans = KMeans(n_clusters=k, random_state=42)\n",
    "    kmeans.fit(X)\n",
    "    cluster_labels = kmeans.labels_\n",
    "    inertia.append(kmeans.inertia_)\n",
    "    if k>=2:\n",
    "        silhouette_avg.append(silhouette_score(X, cluster_labels))\n",
    "        print(f\"For n_clusters = {k}, the average silhouette_score is : {silhouette_avg[-1]:.3f}\")\n",
    "\n",
    "\n",
    "fig, ax = plt.subplots(1, 2, figsize=(12, 4))\n",
    "ax[0].plot(range(1, 11), inertia, marker='o')\n",
    "ax[0].set_title('Elbow Curve for KMeans - raw data')\n",
    "ax[0].set_xlabel('Number of Clusters (k)')\n",
    "ax[0].set_ylabel('Inertia')\n",
    "ax[1].plot(range(2, 11), silhouette_avg, marker='o')\n",
    "ax[1].set_title('Silhouette Curve for KMeans - raw data')\n",
    "ax[1].set_xlabel('Number of Clusters (k)')\n",
    "ax[1].set_ylabel('Silhouette Score')\n",
    "plt.show()"
   ]
  },
  {
   "attachments": {},
   "cell_type": "markdown",
   "metadata": {},
   "source": [
    "## 4. Hierarchical Clustering\n",
    "\n",
    "In K-means, we use the euclidian distance and prescribe the number of clusters K.\n",
    "\n",
    "In hierarchical clustering, we choose difference distance metrics, visualize the data structure, and then decide on the number of clusters. There are two approaches to building the hierarchy of clusters:\n",
    "\n",
    "* **Agglomerative**: each point starts in each unique cluster. data is merged in pairs as on creates a hierarchy of clusters.\n",
    "* **Divisive**: initially, all data is into 1 cluster. The data is recursively split into smaller and smaller clusters.\n",
    "\n",
    "\n",
    "There are several types of *linkages*. sklearn has detailed [documentation](!https://scikit-learn.org/stable/modules/clustering.html#hierarchical-clustering), mostly for agglomerative: The different linkages methods are:\n",
    "\n",
    "* **Ward** minimizes the sum of squared differences within all clusters. It is a variance-minimizing approach and in this sense is similar to the k-means objective function but tackled with an agglomerative hierarchical approach.\n",
    "* **Maximum** or complete linkage minimizes the maximum distance between observations of pairs of clusters.\n",
    "* **Average** linkage minimizes the average of the distances between all observations of pairs of clusters.\n",
    "* **Single** linkage minimizes the distance between the closest observations of pairs of clusters.\n",
    "\n",
    "We first import relevant packages\n",
    "\n"
   ]
  },
  {
   "cell_type": "code",
   "execution_count": 57,
   "metadata": {},
   "outputs": [],
   "source": [
    "\n",
    "import numpy as np\n",
    "import matplotlib.pyplot as plt\n",
    "from matplotlib import rcParams\n",
    "from scipy.cluster import hierarchy  #\n",
    "from scipy.spatial.distance import pdist\n",
    "\n",
    "rcParams.update({'font.size': 18})\n",
    "plt.rcParams['figure.figsize'] = [12, 12]"
   ]
  },
  {
   "cell_type": "markdown",
   "metadata": {},
   "source": [
    "First we explore the dendograms"
   ]
  },
  {
   "cell_type": "code",
   "execution_count": null,
   "metadata": {},
   "outputs": [
    {
     "data": {
      "image/png": "[encoded data removed]",
      "text/plain": [
       "<Figure size 1200x1200 with 1 Axes>"
      ]
     },
     "metadata": {},
     "output_type": "display_data"
    }
   ],
   "source": [
    "## Dendrograms on raw data\n",
    "X = df.to_numpy()\n",
    "Y = pdist(X,metric='euclidean')\n",
    "Z = hierarchy.linkage(Y,method='ward')\n",
    "thresh = 0.85*np.max(Z[:,2])\n",
    "\n",
    "plt.figure()\n",
    "dn = hierarchy.dendrogram(Z,p=100,color_threshold=thresh)\n",
    "plt.xlabel('Data Sample Index')\n",
    "plt.ylabel('Distance')\n",
    "plt.title('Dendrogram with Ward linkage')\n",
    "plt.show()"
   ]
  },
  {
   "cell_type": "code",
   "execution_count": 59,
   "metadata": {},
   "outputs": [],
   "source": [
    "## Dendrograms on log data\n",
    "X = df_log.to_numpy()\n",
    "Y = pdist(X,metric='euclidean')\n",
    "Z = hierarchy.linkage(Y,method='average')\n",
    "thresh = 0.85*np.max(Z[:,2])\n",
    "\n",
    "plt.figure()\n",
    "dn = hierarchy.dendrogram(Z,p=100,color_threshold=thresh)\n",
    "plt.xlabel('Data Sample Index')\n",
    "plt.ylabel('Distance')\n",
    "plt.title('Dendrogram with average linkage')\n",
    "plt.show()"
   ]
  },
  {
   "cell_type": "markdown",
   "metadata": {},
   "source": [
    "##"
   ]
  },
  {
   "cell_type": "markdown",
   "metadata": {},
   "source": [
    "Now let's cluster"
   ]
  },
  {
   "cell_type": "code",
   "execution_count": null,
   "metadata": {},
   "outputs": [],
   "source": [
    "from sklearn.cluster import AgglomerativeClustering\n",
    "# Let's first find a reasonable distance threshod by precalculating the linkage matrix\n",
    "Z = hierarchy.linkage(X,method='average')\n",
    "thresh = 0.4*np.max(Z[:,2])    # choose a threshold distance\n",
    "print(thresh)\n",
    "# design model\n",
    "model = AgglomerativeClustering(distance_threshold=thresh,linkage=\"average\", n_clusters=None)\n",
    "# fit model and predict clusters on the data samples\n",
    "clusterID=model.fit_predict(X)\n",
    "print(clusterID)"
   ]
  },
  {
   "cell_type": "code",
   "execution_count": null,
   "metadata": {},
   "outputs": [],
   "source": [
    "plt.hist(clusterID);"
   ]
  },
  {
   "cell_type": "code",
   "execution_count": null,
   "metadata": {},
   "outputs": [],
   "source": [
    "ncluster=len(np.unique(clusterID))\n",
    "silhouette_avg = silhouette_score(X, clusterID)\n",
    "print(f\"For n_clusters = {ncluster}, the average silhouette_score is : {silhouette_avg:.3f}\")\n"
   ]
  },
  {
   "cell_type": "code",
   "execution_count": null,
   "metadata": {},
   "outputs": [],
   "source": [
    "\n",
    "fig, (ax1) = plt.subplots(1, 1)\n",
    "fig.set_size_inches(18, 7)\n",
    "ax1.set_xlim([-0.1, 1])\n",
    "ax1.set_ylim([0, len(X) + (ncluster + 1) * 10])\n",
    "\n",
    "# Compute the silhouette scores for each sample\n",
    "sample_silhouette_values = silhouette_samples(X, clusterID)\n",
    "\n",
    "y_lower = 10\n",
    "for i in range(ncluster):\n",
    "    # Aggregate the silhouette scores for samples belonging to\n",
    "    # cluster i, and sort them\n",
    "    ith_cluster_silhouette_values = sample_silhouette_values[clusterID == i]\n",
    "\n",
    "    ith_cluster_silhouette_values.sort()\n",
    "\n",
    "    size_cluster_i = ith_cluster_silhouette_values.shape[0]\n",
    "    y_upper = y_lower + size_cluster_i\n",
    "\n",
    "    color = cm.nipy_spectral(float(i) / ncluster)\n",
    "    ax1.fill_betweenx(\n",
    "        np.arange(y_lower, y_upper),\n",
    "        0,\n",
    "        ith_cluster_silhouette_values,\n",
    "        facecolor=color,\n",
    "        edgecolor=color,\n",
    "        alpha=0.7,\n",
    "    )\n",
    "\n",
    "    # Label the silhouette plots with their cluster numbers at the middle\n",
    "    ax1.text(-0.05, y_lower + 0.5 * size_cluster_i, str(i))\n",
    "\n",
    "    # Compute the new y_lower for next plot\n",
    "    y_lower = y_upper + 10  # 10 for the 0 samples\n",
    "\n",
    "ax1.set_title(\"The silhouette plot for the various clusters.\")\n",
    "ax1.set_xlabel(\"The silhouette coefficient values\")\n",
    "ax1.set_ylabel(\"Cluster label\")\n",
    "\n",
    "# The vertical line for average silhouette score of all the values\n",
    "ax1.axvline(x=silhouette_avg, color=\"red\", linestyle=\"--\")\n",
    "\n",
    "ax1.set_yticks([])  # Clear the yaxis labels / ticks\n",
    "ax1.set_xticks([-0.1, 0, 0.2, 0.4, 0.6, 0.8, 1])\n",
    "\n",
    "plt.suptitle(\n",
    "    \"Silhouette analysis for KMeans clustering on sample data with n_clusters = %d\"\n",
    "    % ncluster,\n",
    "    fontsize=14,\n",
    "    fontweight=\"bold\",\n",
    ")\n",
    "\n"
   ]
  },
  {
   "cell_type": "code",
   "execution_count": null,
   "metadata": {},
   "outputs": [],
   "source": [
    "mt_rainier['clusterID'] = clusterID"
   ]
  },
  {
   "cell_type": "code",
   "execution_count": null,
   "metadata": {},
   "outputs": [],
   "source": [
    "mt_rainier.head()"
   ]
  },
  {
   "cell_type": "code",
   "execution_count": null,
   "metadata": {},
   "outputs": [],
   "source": [
    "mt_rainier.to_csv('../data/Rainier_tsfel_features_clustered_agg.csv')"
   ]
  },
  {
   "cell_type": "markdown",
   "metadata": {},
   "source": [
    "## Try PCA+normalization before clustering\n",
    "\n",
    "What happens if we apply PCA + normalization before the clustering?"
   ]
  },
  {
   "cell_type": "code",
   "execution_count": null,
   "metadata": {},
   "outputs": [],
   "source": [
    "pca = PCA(n_components=2)\n",
    "X_pca = pca.fit_transform(X)"
   ]
  },
  {
   "cell_type": "code",
   "execution_count": null,
   "metadata": {},
   "outputs": [],
   "source": [
    "scaler = preprocessing.StandardScaler().fit(X_pca)\n",
    "X_scaled = scaler.transform(X_pca)"
   ]
  },
  {
   "cell_type": "code",
   "execution_count": null,
   "metadata": {},
   "outputs": [],
   "source": [
    "# Let's first find a reasonable distance threshod by precalculating the linkage matrix\n",
    "Z = hierarchy.linkage(X_scaled,method='average')\n",
    "thresh = 0.3*np.max(Z[:,2])    # choose a threshold distance\n",
    "print(thresh)\n",
    "\n",
    "plt.figure()\n",
    "dn = hierarchy.dendrogram(Z,p=100,color_threshold=thresh)\n",
    "plt.xlabel('Data Sample Index')\n",
    "plt.ylabel('Distance')\n",
    "plt.title('Dendrogram with average linkage')\n",
    "plt.show()\n",
    "# design model\n",
    "model = AgglomerativeClustering(distance_threshold=thresh,linkage=\"average\", n_clusters=None)\n",
    "# fit model and predict clusters on the data samples\n",
    "clusterID=model.fit_predict(X_scaled)\n",
    "plt.hist(clusterID);\n"
   ]
  },
  {
   "cell_type": "code",
   "execution_count": null,
   "metadata": {},
   "outputs": [],
   "source": [
    "ncluster=len(np.unique(clusterID))\n",
    "fig, (ax1) = plt.subplots(1, 1)\n",
    "fig.set_size_inches(18, 7)\n",
    "ax1.set_xlim([-0.1, 1])\n",
    "ax1.set_ylim([0, len(X) + (ncluster + 1) * 10])\n",
    "\n",
    "silhouette_avg = silhouette_score(X_scaled, clusterID)\n",
    "print(\n",
    "    \"For n_clusters =\",\n",
    "    ncluster,\n",
    "    \"The average silhouette_score is :\",\n",
    "    silhouette_avg,\n",
    ")\n",
    "\n",
    "# Compute the silhouette scores for each sample\n",
    "sample_silhouette_values = silhouette_samples(X_scaled, clusterID)\n",
    "\n",
    "y_lower = 10\n",
    "for i in range(ncluster):\n",
    "    # Aggregate the silhouette scores for samples belonging to\n",
    "    # cluster i, and sort them\n",
    "    ith_cluster_silhouette_values = sample_silhouette_values[clusterID == i]\n",
    "\n",
    "    ith_cluster_silhouette_values.sort()\n",
    "\n",
    "    size_cluster_i = ith_cluster_silhouette_values.shape[0]\n",
    "    y_upper = y_lower + size_cluster_i\n",
    "\n",
    "    color = cm.nipy_spectral(float(i) / ncluster)\n",
    "    ax1.fill_betweenx(\n",
    "        np.arange(y_lower, y_upper),\n",
    "        0,\n",
    "        ith_cluster_silhouette_values,\n",
    "        facecolor=color,\n",
    "        edgecolor=color,\n",
    "        alpha=0.7,\n",
    "    )\n",
    "\n",
    "    # Label the silhouette plots with their cluster numbers at the middle\n",
    "    ax1.text(-0.05, y_lower + 0.5 * size_cluster_i, str(i))\n",
    "\n",
    "    # Compute the new y_lower for next plot\n",
    "    y_lower = y_upper + 10  # 10 for the 0 samples\n",
    "\n",
    "ax1.set_title(\"The silhouette plot for the various clusters.\")\n",
    "ax1.set_xlabel(\"The silhouette coefficient values\")\n",
    "ax1.set_ylabel(\"Cluster label\")\n",
    "\n",
    "# The vertical line for average silhouette score of all the values\n",
    "ax1.axvline(x=silhouette_avg, color=\"red\", linestyle=\"--\")\n",
    "\n",
    "ax1.set_yticks([])  # Clear the yaxis labels / ticks\n",
    "ax1.set_xticks([-0.1, 0, 0.2, 0.4, 0.6, 0.8, 1])\n",
    "\n",
    "plt.suptitle(\n",
    "    \"Silhouette analysis for KMeans clustering on sample data with n_clusters = %d\"\n",
    "    % ncluster,\n",
    "    fontsize=14,\n",
    "    fontweight=\"bold\",\n",
    ")\n",
    "\n"
   ]
  }
 ],
 "metadata": {
  "kernelspec": {
   "display_name": "Python 3.8.5 ('base')",
   "language": "python",
   "name": "python3"
  },
  "language_info": {
   "codemirror_mode": {
    "name": "ipython",
    "version": 3
   },
   "file_extension": ".py",
   "mimetype": "text/x-python",
   "name": "python",
   "nbconvert_exporter": "python",
   "pygments_lexer": "ipython3",
   "version": "3.9.18"
  },
  "vscode": {
   "interpreter": {
    "hash": "bf1c1ab31e530e60b58e3d6ad0457a0c579c03efa8f6c28b6cdd125835b5a825"
   }
  }
 },
 "nbformat": 4,
 "nbformat_minor": 4
}
