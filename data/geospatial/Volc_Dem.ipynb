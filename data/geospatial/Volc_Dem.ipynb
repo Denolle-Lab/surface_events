{
 "cells": [
  {
   "cell_type": "code",
   "execution_count": 1,
   "id": "667b3fcd",
   "metadata": {},
   "outputs": [],
   "source": [
    "import matplotlib.pyplot as plt\n",
    "from matplotlib.pyplot import Figure\n",
    "import numpy as np\n",
    "import rasterio as rio\n",
    "from rasterio.plot import show\n",
    "from rasterio.merge import merge\n",
    "from pathlib import Path\n",
    "import richdem as rd\n",
    "from mpl_toolkits import mplot3d\n",
    "from geopy import distance"
   ]
  },
  {
   "cell_type": "code",
   "execution_count": 2,
   "id": "070e06c9",
   "metadata": {},
   "outputs": [],
   "source": [
    "# define constants\n",
    "pi = np.pi\n",
    "color_scheme = 'jet'\n",
    "radius = 6371e3"
   ]
  },
  {
   "cell_type": "code",
   "execution_count": 3,
   "id": "434bbbb2",
   "metadata": {},
   "outputs": [],
   "source": [
    "# define dict with volc-center lat,lon,elev, and lower-left dem data corner lat,lon\n",
    "volc_lat_lon = {}\n",
    "volc_lat_lon['Mt_Rainier'] = [46.8528857, -121.7603744, 4392.5, 46.625, -122.000,[]]\n",
    "volc_lat_lon['Mt_Adams'] = [46.202621, -121.4906384, 3743.2, 46.125, -121.625,[]]\n",
    "volc_lat_lon['Mt_Baker'] = [48.7773426,  -121.8132008, 3287.6, 48.750, -121.875,[]]\n",
    "volc_lat_lon['Mt_St_Helens'] =[46.200472222222224,-122.18883611111112,2549, 46.125, -122.250,[]] \n",
    "volc_lat_lon['Glacier_Peak'] = [48.1112273, -121.1139922, 3213, 48, -121.25,[]]\n",
    "volc_lat_lon['Crater_Lake']=[42.907745, -122.143494, 1883, 42, -123,[]]\n",
    "volc_lat_lon['Mt_Hood']=[45.373221, -121.696509, 3428.7, 45, -122,[]]\n",
    "volc_lat_lon['Newberry']=[43.7220653, -121.2344654, 2435, 43, -122,[]]"
   ]
  },
  {
   "cell_type": "code",
   "execution_count": 4,
   "id": "d2ab49a1",
   "metadata": {},
   "outputs": [],
   "source": [
    "volc_grid = {'Mt_Rainier': [46.74032510548371, -121.92393623921424, 24999.999843],\n",
    " 'Mt_Adams': [46.106704928338665, -121.62841697638393, 21304.49616672],\n",
    " 'Mt_Baker': [48.69314176638344, -121.94028162361221, 18711.439836960002],\n",
    " 'Mt_St_Helens': [46.13517461639252, -122.28270726876059, 14507.683460400001],\n",
    " 'Glacier_Peak': [48.02893063274638, -121.23658516139658, 18286.8524748],\n",
    " 'Crater_Lake': [42.859490162690115, -122.20906103189014, 10717.131406800001],\n",
    " 'Mt_Hood': [45.28535932500786, -121.82087738520083, 19514.51325252],\n",
    " 'Newberry': [43.659665418808615, -121.32037100893913, 13858.850226]}"
   ]
  },
  {
   "cell_type": "code",
   "execution_count": 5,
   "id": "f8ef83e5",
   "metadata": {},
   "outputs": [],
   "source": [
    "# define function to get the distance of the lower-left corner to the center of the volcano\n",
    "def dist(slat,slon,elat,elon,radius):\n",
    "    lam = slon-elon\n",
    "    g = (np.sin(slat)*np.sin(elat))+(np.cos(slat)*np.cos(elat)*np.cos(lam))\n",
    "    d = radius*np.arccos(g)\n",
    "    dist = d/10\n",
    "    return dist\n",
    "\n",
    "def start_latlon(slat, slon, x, y):\n",
    "    x = x*10\n",
    "    y = y*10\n",
    "    hypotenuse = np.sqrt((x)**2+(y)**2)\n",
    "    bearing = np.arctan(x/y)\n",
    "    d = distance.geodesic(meters = hypotenuse)\n",
    "    slat2 = d.destination(point=[slat,slon], bearing=bearing)[0]\n",
    "    slon2 = d.destination(point=[slat,slon], bearing=bearing)[1]\n",
    "    return slat2, slon2"
   ]
  },
  {
   "cell_type": "code",
   "execution_count": 8,
   "id": "c3cd8c5b",
   "metadata": {},
   "outputs": [],
   "source": [
    "# merges different data files together for comprehensive data \n",
    "# only necessary for Washington Volcanoes\n",
    "# for name in volc_lat_lon:\n",
    "name = 'Mt_Rainier'\n",
    "if volc_lat_lon[name][0] > 46:\n",
    "    path = Path('Data/DEM_data/'+name)\n",
    "    path1 = Path('Data/DEM_data/'+name+'/.ipynb_checkpoints')\n",
    "    #path.mkdir(parents=True, exist_ok=True)\n",
    "    out_path = 'Data/DEM_data/'+str(name)+'/'+str(name)+'1.tif'\n",
    "    volc_files = list(path.iterdir())\n",
    "    to_mosiac = []\n",
    "    for d in volc_files:\n",
    "        if d != path1:\n",
    "            raster = rio.open(d)\n",
    "            to_mosiac.append(raster)\n",
    "    mosaic, output = merge(to_mosiac)\n",
    "    output_meta = raster.meta.copy()\n",
    "    output_meta.update(\n",
    "        {'driver': 'GTiff',\n",
    "            'height': mosaic.shape[1],\n",
    "            'width': mosaic.shape[2],\n",
    "            'transform': output,})\n",
    "    with rio.open(out_path, 'w', **output_meta) as m:\n",
    "        m.write(mosaic)"
   ]
  },
  {
   "cell_type": "code",
   "execution_count": null,
   "id": "d5a5b347",
   "metadata": {},
   "outputs": [],
   "source": []
  },
  {
   "cell_type": "code",
   "execution_count": null,
   "id": "3883243b",
   "metadata": {},
   "outputs": [],
   "source": []
  }
 ],
 "metadata": {
  "kernelspec": {
   "display_name": "Python 3 (ipykernel)",
   "language": "python",
   "name": "python3"
  },
  "language_info": {
   "codemirror_mode": {
    "name": "ipython",
    "version": 3
   },
   "file_extension": ".py",
   "mimetype": "text/x-python",
   "name": "python",
   "nbconvert_exporter": "python",
   "pygments_lexer": "ipython3",
   "version": "3.8.12"
  }
 },
 "nbformat": 4,
 "nbformat_minor": 5
}
